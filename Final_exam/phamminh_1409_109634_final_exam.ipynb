{
  "nbformat": 4,
  "nbformat_minor": 0,
  "metadata": {
    "colab": {
      "name": "final_exam.ipynb",
      "provenance": [],
      "collapsed_sections": []
    },
    "kernelspec": {
      "name": "python3",
      "display_name": "Python 3"
    }
  },
  "cells": [
    {
      "cell_type": "code",
      "metadata": {
        "colab": {
          "base_uri": "https://localhost:8080/"
        },
        "id": "P2LETFZYSF8O",
        "outputId": "ceb748b4-0a83-445b-f866-42e15a1d7180"
      },
      "source": [
        "#1. (2 points) Given the following two DNA sequences, which are comprised of four nucleotides (e.g., A, T, C, G). Define two variables called 'DNA1' and 'DNA2', and assign the two sequences to the variables. Then we need to print the variables by print(\"DNA1: \", DNA1) and print(\"DNA2: \", DNA2) \n",
        "#Please write your python codes for this activity.\n",
        "\n",
        "#seq 1: CCAGGGGAGGTTCCTGAACAACACGGAGCTGCAGGCGGCGAACGGGAGGTTCCAGAGGGCGACGGC\n",
        "#seq 2: GCGGCGGGGAGGTTCCCGAGCGGGAGCGACCTGGAGAGCGTGCAGGGGAACATACAGAGGAGCGC\n",
        "\n",
        "DNA1= 'CCAGGGGAGGTTCCTGAACAACACGGAGCTGCAGGCGGCGAACGGGAGGTTCCAGAGGGCGACGGC'\n",
        "DNA2= 'GCGGCGGGGAGGTTCCCGAGCGGGAGCGACCTGGAGAGCGTGCAGGGGAACATACAGAGGAGCGC'\n",
        "\n",
        "print ('DNA 1 is:',DNA1)\n",
        "print ('DNA 2 is:',DNA2)"
      ],
      "execution_count": null,
      "outputs": [
        {
          "output_type": "stream",
          "text": [
            "DNA 1 is: CCAGGGGAGGTTCCTGAACAACACGGAGCTGCAGGCGGCGAACGGGAGGTTCCAGAGGGCGACGGC\n",
            "DNA 2 is: GCGGCGGGGAGGTTCCCGAGCGGGAGCGACCTGGAGAGCGTGCAGGGGAACATACAGAGGAGCGC\n"
          ],
          "name": "stdout"
        }
      ]
    },
    {
      "cell_type": "code",
      "metadata": {
        "colab": {
          "base_uri": "https://localhost:8080/"
        },
        "id": "KfFN-AFyhyqF",
        "outputId": "8aa75dd6-2363-4338-8bda-ecdb0464d965"
      },
      "source": [
        "#2. (2 points) Calculate the length of the two sequences above and assign the length values to new variables, named 'DNA1_length' and 'DNA2_length'.  \n",
        "#Please write your python codes for this activity.\n",
        "\n",
        "#The expected output from the code:\n",
        "\n",
        "DNA1_length= len(DNA1)\n",
        "DNA2_length= len(DNA2)\n",
        "\n",
        "print ('Length of DNA1 is:',DNA1_length)\n",
        "print ('Length of DNA2 is:',DNA2_length)"
      ],
      "execution_count": null,
      "outputs": [
        {
          "output_type": "stream",
          "text": [
            "Length of DNA1 is: 66\n",
            "Length of DNA2 is: 65\n"
          ],
          "name": "stdout"
        }
      ]
    },
    {
      "cell_type": "code",
      "metadata": {
        "colab": {
          "base_uri": "https://localhost:8080/"
        },
        "id": "qH23M7sOinQv",
        "outputId": "abe452ea-dc4a-400f-d0f5-3a1904317b3d"
      },
      "source": [
        "#3. (16 points) String manipulation: Write your python codes for the following activities:\n",
        "\n",
        "#What are the first ten letters of the first sequence, DNA1?\n",
        "print('The first ten letters of the first sequence, DNA1, is:', DNA1[:10])\n",
        "\n",
        "#What are the first ten letters of the second sequence, DNA2?\n",
        "print('The first ten letters of the second sequence, DNA2, is:', DNA2[:10])\n",
        "\n",
        "#What are the last ten letters of the first sequence, DNA1?\n",
        "print('The last ten letters of the first sequence, DNA1, is:', DNA1[-10:])\n",
        "\n",
        "#What are the last ten letters of the second sequence, DNA2?\n",
        "print('The last ten letters of the second sequence, DNA2, is:', DNA2[-10:])\n",
        "\n",
        "#Are the last three letters of two sequences the same? (Result should be boolean type)\n",
        "print('The last three letters of two sequences the same is:', DNA2[-3:]==DNA1[-3:])\n",
        "\n",
        "#Concatenate the last 5 letters of the first sequence and the last 5 letters of the second sequence together?\n",
        "print('The concanated sequence made from DNA1 and DNA2 (in this order) is:', DNA1[-5:]+DNA2[-5:])\n",
        "\n",
        "#How many times does character A appear in the first sequence DNA1? (hint: use .count() method in string type)\n",
        "print('The number of times character A appear in the first sequence, DNA1, is:', DNA1.count('A'))\n",
        "\n",
        "#How many times does character A appear in the second sequence DNA2? (hint: use .count() method in string type)\n",
        "print('The number of times character A appear in the first sequence, DNA1, is:', DNA2.count('A'))"
      ],
      "execution_count": null,
      "outputs": [
        {
          "output_type": "stream",
          "text": [
            "The first ten letters of the first sequence, DNA1, is: CCAGGGGAGG\n",
            "The first ten letters of the second sequence, DNA2, is: GCGGCGGGGA\n",
            "The last ten letters of the first sequence, DNA1, is: GGGCGACGGC\n",
            "The last ten letters of the second sequence, DNA2, is: AGAGGAGCGC\n",
            "The last three letters of two sequences the same is: False\n",
            "The concanated sequence made from DNA1 and DNA2 (in this order) is: ACGGCAGCGC\n",
            "The number of times character A appear in the first sequence, DNA1, is: 15\n",
            "The number of times character A appear in the first sequence, DNA1, is: 14\n"
          ],
          "name": "stdout"
        }
      ]
    },
    {
      "cell_type": "code",
      "metadata": {
        "colab": {
          "base_uri": "https://localhost:8080/"
        },
        "id": "NB11g3XzmqL1",
        "outputId": "3e70cf8b-73c0-4e89-c07b-67fdb5a5961f"
      },
      "source": [
        "#4. (6 points) List manipulation: Given the following defined list 'DNA_motifs', write your python codes for the following activities:\n",
        "\n",
        "DNA_motifs = ['TTCAT','AATCATGA','CCCG','GGCATT','CACGT']\n",
        "print(\"DNA_motifs: \", DNA_motifs)\n",
        "\n",
        "#What is the 3rd element of the list 'DNA_motifs'?\n",
        "print(\"The 3rd element of the list 'DNA_motifs is:\", DNA_motifs[2])\n",
        "\n",
        "#What are the first 2 elements of the list 'DNA_motifs'?\n",
        "print(\"The first 2 elements of the list 'DNA_motifs are:\", DNA_motifs[:1])\n",
        "\n",
        "#What are the last 2 elements of the list 'DNA_motifs'?\n",
        "print(\"The last 2 elements of the list 'DNA_motifs are:\", DNA_motifs[-2:])\n"
      ],
      "execution_count": null,
      "outputs": [
        {
          "output_type": "stream",
          "text": [
            "DNA_motifs:  ['TTCAT', 'AATCATGA', 'CCCG', 'GGCATT', 'CACGT']\n",
            "The 3rd element of the list 'DNA_motifs is: CCCG\n",
            "The first 2 elements of the list 'DNA_motifs are: ['TTCAT']\n",
            "The last 2 elements of the list 'DNA_motifs are: ['GGCATT', 'CACGT']\n"
          ],
          "name": "stdout"
        }
      ]
    },
    {
      "cell_type": "code",
      "metadata": {
        "colab": {
          "base_uri": "https://localhost:8080/"
        },
        "id": "34Xycy-1n0CF",
        "outputId": "796e35a6-49ea-4787-e939-80e490d8dac3"
      },
      "source": [
        "#5. (10 points) Dictionary manipulation: Given the following defined dictionary 'DNA_motifs_length', write your python codes for the following activities:\n",
        "\n",
        "DNA_motifs_length = {'TTCAT':5,'AATCATGA':8,'CCT':4,'GGCATT':6,'CACGT':5}\n",
        "print(\"DNA_motifs_length : \", DNA_motifs_length)\n",
        "\n",
        "#Add a new motif 'CAAT' as a key into the dictionary, and assign its length as a value\n",
        "DNA_motifs_length['CAAT']=4\n",
        "\n",
        "#Print out all the keys in the dictionary\n",
        "print(\"DNA_motifs_length keys: \", DNA_motifs_length.keys())\n",
        "\n",
        "#Print out all the values in the dictionary\n",
        "print(\"DNA_motifs_length keys: \", DNA_motifs_length.values())\n",
        "\n",
        "#Print out all the items in the dictionary\n",
        "print(\"DNA_motifs_length items: \", DNA_motifs_length.items())\n",
        "\n",
        "#Check whether the key 'CCT' already exists in a dictionary\n",
        "for key in DNA_motifs_length:\n",
        "  a=0\n",
        "  if key == 'CCT' :\n",
        "    a=1\n",
        "if a==1:\n",
        "  print ('True. The key CCT already exists in a dictionary')\n",
        "else:\n",
        "  print ('False. The key CCT does not exits in a dictionary')"
      ],
      "execution_count": null,
      "outputs": [
        {
          "output_type": "stream",
          "text": [
            "DNA_motifs_length :  {'TTCAT': 5, 'AATCATGA': 8, 'CCT': 4, 'GGCATT': 6, 'CACGT': 5}\n",
            "DNA_motifs_length keys:  dict_keys(['TTCAT', 'AATCATGA', 'CCT', 'GGCATT', 'CACGT', 'CAAT'])\n",
            "DNA_motifs_length keys:  dict_values([5, 8, 4, 6, 5, 4])\n",
            "DNA_motifs_length items:  dict_items([('TTCAT', 5), ('AATCATGA', 8), ('CCT', 4), ('GGCATT', 6), ('CACGT', 5), ('CAAT', 4)])\n",
            "False. The key CCT does not exits in a dictionary\n"
          ],
          "name": "stdout"
        }
      ]
    },
    {
      "cell_type": "code",
      "metadata": {
        "colab": {
          "base_uri": "https://localhost:8080/"
        },
        "id": "c9rhT4o02uzx",
        "outputId": "84f96a7d-95cd-4ae6-861a-ba6ecae3e845"
      },
      "source": [
        "#6. (8 points) For loop: Given the following defined list 'DNA_motifs', write your python codes for the following activities:\n",
        "\n",
        "DNA_motifs=['TTCAT','AATCATGA','CCCG','GGCATT','CACGT']\n",
        "print(\"DNA_motifs:\",DNA_motifs)\n",
        "\n",
        "#Calculate the length of each motif in this list 'DNA_motifs'. Use the 'for' loop to access each motif in the list, calculate the length, and print the length value. The expected outputs should be similar as follows:\n",
        "\n",
        "  #Length of TTCAT is 5\n",
        "  #Length of AATCATGA is 8\n",
        "  #Length of CCCG is 4\n",
        "  #Length of GGCATT is 6\n",
        "  #Length of CACGT is 5\n",
        "#Please write your python codes for this activity.\n",
        "for x in range(0,len(DNA_motifs)):\n",
        "  print('Length of',DNA_motifs[x],'is', len(DNA_motifs[x]))\n",
        "\n",
        "#Based on the defined list 'DNA_motifs', we are also interested in the motifs that have a length larger than 5. Please write your python codes to print out these motifs using the 'for' loop. (hint: use while/for loop and if conditions).\n",
        "print('The motifs that have a length larger than 5:')\n",
        "for x in range(0,len(DNA_motifs)):\n",
        "  if len(DNA_motifs[x])>5:\n",
        "    print(DNA_motifs[x])\n"
      ],
      "execution_count": null,
      "outputs": [
        {
          "output_type": "stream",
          "text": [
            "DNA_motifs: ['TTCAT', 'AATCATGA', 'CCCG', 'GGCATT', 'CACGT']\n",
            "Length of TTCAT is 5\n",
            "Length of AATCATGA is 8\n",
            "Length of CCCG is 4\n",
            "Length of GGCATT is 6\n",
            "Length of CACGT is 5\n",
            "The motifs that have a length larger than 5:\n",
            "AATCATGA\n",
            "GGCATT\n"
          ],
          "name": "stdout"
        }
      ]
    },
    {
      "cell_type": "code",
      "metadata": {
        "colab": {
          "base_uri": "https://localhost:8080/"
        },
        "id": "TT3n6HmG2_ri",
        "outputId": "29f4a652-7f56-48f3-a197-5dc0dccf7853"
      },
      "source": [
        "#7. (12 points) Python Function: \n",
        "\n",
        "sample = [5,3,2,1]\n",
        "print('Sample list:', sample)\n",
        "\n",
        "#I. Write a python function to find the maximum number in a list. The function should accept any list of integers and return the maximum values.\n",
        "\n",
        "#After the function is defined, verifying your results using the following example:\n",
        "#sample list: [5,3,2,1]\n",
        "#expected output: 5\n",
        "\n",
        "def maxnum(input):\n",
        "  a=float('-inf')\n",
        "  for x in range(0,len(input)):\n",
        "    if a < input[x]:\n",
        "      a=input[x]\n",
        "  return a\n",
        "print ('The max number using the defined function is', maxnum(sample))\n",
        "\n",
        "#II. Write a python function to find the minimum number in a list. The function should accept any list of integers and return the minimum values. \n",
        "\n",
        "#After the function is defined, verifying your results using the following example:\n",
        "#sample list: [5,3,2,1]\n",
        "#expected output: 1\n",
        "\n",
        "def maxnum(input):\n",
        "  a=float('inf')\n",
        "  for x in range(0,len(input)):\n",
        "    if a > input[x]:\n",
        "      a=input[x]\n",
        "  return a\n",
        "print ('The max number using the defined function is', minnum(sample))\n",
        "\n",
        "#III. Write a python function to sum all numbers in a list. The function should accept any list of integers and return the sum value.\n",
        "\n",
        "#After the function is defined, verifying your results using the following example:\n",
        "#sample list: [5,3,2,1]\n",
        "#expected output: 11\n",
        "\n",
        "def sumnum(input):\n",
        "  a=0\n",
        "  for x in range(0,len(input)):\n",
        "    a= a+input[x]\n",
        "  return a\n",
        "print ('The max number using the defined function is', sumnum(sample))"
      ],
      "execution_count": null,
      "outputs": [
        {
          "output_type": "stream",
          "text": [
            "Sample list: [5, 3, 2, 1]\n",
            "The max number using the defined function is 5\n",
            "The max number using the defined function is 1\n",
            "The max number using the defined function is 11\n"
          ],
          "name": "stdout"
        }
      ]
    },
    {
      "cell_type": "code",
      "metadata": {
        "colab": {
          "base_uri": "https://localhost:8080/"
        },
        "id": "DjIaSlPV3AdB",
        "outputId": "5e111ed3-c7b7-47d4-c7b9-ad63663867ba"
      },
      "source": [
        "#8. (12 points) Given the implementation of the Needleman-Wunsch Global Pairwise Alignment algorithm below,  generate the alignment of the two DNA sequences. Write your python codes for the following activities:\n",
        "\n",
        "################################################################################################\n",
        "# Needleman-Wunsch Global Pairwise Alignment algorithm\n",
        "################################################################################################\n",
        "\n",
        "def buildTable(X, Y, match=1, mismatch=-1, gap=-1):\n",
        "    print(\"Sequence 1:\", X)\n",
        "    print(\"Sequence 2:\", Y)\n",
        "    # create table of zeros with dimension (1+|X|)-by-(1+|Y|)\n",
        "    # X: vertical,  Y:horizontal\n",
        "    opt = []\n",
        "    for i in range(1+len(X)):\n",
        "      row = []\n",
        "      for j in range(1+len(Y)):\n",
        "        row.append(0)\n",
        "      opt.append(row)\n",
        "    \n",
        "    # print out the initial table\n",
        "    #print(\"The intial alignment table is:\")\n",
        "    #for row in opt:\n",
        "    #      print(' '.join('%3d' % val for val in row))\n",
        "\n",
        "    for j in range(1,1+len(X)):\n",
        "        opt[j][0] = opt[j-1][0] + gap       # initialize left column\n",
        "    for k in range(1,1+len(Y)):\n",
        "        opt[0][k] = opt[0][k-1] + gap       # initialize top row\n",
        "    \n",
        "    # calculate the score for each possible alignment\n",
        "    for j in range(1,1+len(X)):\n",
        "        for k in range(1, 1+len(Y)):\n",
        "          if X[j-1] == Y[k-1]:  # sequence start with 0\n",
        "            option1 = opt[j-1][k-1] + match  # align chars, match\n",
        "          else:\n",
        "            option1 = opt[j-1][k-1] + mismatch  # align chars, mismatch\n",
        "          option2 = opt[j-1][k] + gap                     # last of X with gap\n",
        "          option3 = opt[j][k-1] + gap                     # last of Y with gap\n",
        "          opt[j][k] = max(option1, option2, option3)\n",
        "    \n",
        "    return opt\n",
        "\n",
        "\n",
        "def TraceBack(X, Y, table, match=1, mismatch=-1, gap=-1):\n",
        "    first = ''        # alignment for X\n",
        "    second = ''       # alignment for Y\n",
        "    glue = ''         # line showing matches/mismatches\n",
        "\n",
        "    # start reconstruction at bottom-right of table\n",
        "    j = len(X)\n",
        "    k = len(Y)\n",
        "    \n",
        "    while j>0 or k>0:\n",
        "        if j>0 and k>0 and ((X[j-1] == Y[k-1] and table[j][k] == table[j-1][k-1] + match) or (X[j-1] != Y[k-1] and table[j][k] == table[j-1][k-1] + mismatch)):\n",
        "            # option1 above; match X[j-1] with Y[k-1]\n",
        "            first =  X[j-1] + first\n",
        "            second = Y[k-1] + second\n",
        "            if X[j-1] == Y[k-1] and table[j][k] == table[j-1][k-1] + match:\n",
        "              glue = '|' + glue   # designate match\n",
        "            elif X[j-1] != Y[k-1] and table[j][k] == table[j-1][k-1] + mismatch:\n",
        "              glue = '.' + glue   # designate mismatch\n",
        "            j = j-1\n",
        "            k = k-1\n",
        "        elif j > 0 and table[j][k] == table[j-1][k] + gap:\n",
        "            # option1 above; match X[j-1] with a gap in Y\n",
        "            first  = X[j-1] + first\n",
        "            second = '-' + second\n",
        "            glue   = ' ' + glue\n",
        "            j = j-1\n",
        "        elif k > 0 and table[j][k] == table[j][k-1] + gap:\n",
        "            # option2 above; match gap in X with Y[k-1]\n",
        "            first  = '-'  + first\n",
        "            second = Y[k-1] + second\n",
        "            glue   = ' '  + glue\n",
        "            k = k-1\n",
        "    print(\"The best alignment is:\")\n",
        "    print(first)\n",
        "    print(glue)\n",
        "    print(second)\n",
        "    print(\"The score of optimal alignment is: \",table[len(X)][len(Y)])\n",
        "    return first,glue,second\n",
        "\n",
        "#I. Given the two DNA sequences in question 1, use the following two functions to generate alignment between DNA1 and DNA2. Set the match = 1, mismatch = -1, gap = -1\n",
        "#II. What's the global alignment score?\n",
        "#III: Print out the alignment between the two sequences 'DNA1' and 'DNA2'\n",
        "\n",
        "#Note: My display for the colab website to run this code did not have enough space to properly display the result since the DNA sequences was very long, so I did not have the alignment table shown.\n",
        "\n",
        "a = buildTable(DNA1, DNA2, match=1, mismatch=-1, gap=-1)\n",
        "b = TraceBack(DNA1, DNA2, a ,match=1, mismatch=-1, gap=-1)"
      ],
      "execution_count": null,
      "outputs": [
        {
          "output_type": "stream",
          "text": [
            "Sequence 1: CCAGGGGAGGTTCCTGAACAACACGGAGCTGCAGGCGGCGAACGGGAGGTTCCAGAGGGCGACGGC\n",
            "Sequence 2: GCGGCGGGGAGGTTCCCGAGCGGGAGCGACCTGGAGAGCGTGCAGGGGAACATACAGAGGAGCGC\n",
            "The best alignment is:\n",
            "-C--CAGGGGAGGTTCCTGAACAACA-CGGAGCTGCAG-GCG-GCGAACGGGAGGTTCCAGAGGGCGACGGC\n",
            " |  | |||||||||||.||.|...| | ||.|||.|| ||| ||  |.||||...|.|||| ||.| | ||\n",
            "GCGGC-GGGGAGGTTCCCGAGCGGGAGC-GACCTGGAGAGCGTGC--AGGGGAACATACAGA-GGAG-C-GC\n",
            "The score of optimal alignment is:  20\n"
          ],
          "name": "stdout"
        }
      ]
    },
    {
      "cell_type": "code",
      "metadata": {
        "colab": {
          "base_uri": "https://localhost:8080/"
        },
        "id": "gQawhAxaLVf6",
        "outputId": "2de696e3-c652-4369-a2cc-3f6b7dcb1572"
      },
      "source": [
        "#9. (12 points) Given the implementation of the transcription and translation algorithms below, generate the protein sequences of the two DNA sequences. Write your python codes for the following activities:\n",
        "\n",
        "####################################################################################### \n",
        "# a dictionary to translate three-letter mRNA to three-letter amino acid here \n",
        "#######################################################################################\n",
        "\n",
        "translate = { \n",
        "  'UUU':'Phe','UCU':'Ser','UAU':'Tyr','UGU':'Cys',\n",
        "  'UUC':'Phe','UCC':'Ser','UAC':'Tyr','UGC':'Cys',\n",
        "  'UUA':'Leu','UCA':'Ser','UAA':'Stop','UGA':'Stop',\n",
        "  'UUG':'Leu','UCG':'Ser','UAG':'Stop','UGG':'Trp',\n",
        "  'CUU':'Leu','CCU':'Pro','CAU':'His','CGU':'Arg',\n",
        "  'CUC':'Leu','CCC':'Pro','CAC':'His','CGC':'Arg',\n",
        "  'CUA':'Leu','CCA':'Pro','CAA':'Gln','CGA':'Arg',\n",
        "  'CUG':'Leu','CCG':'Pro','CAG':'Gln','CGG':'Arg',\n",
        "  'AUU':'Ile','ACU':'Thr','AAU':'Asn','AGU':'Ser',\n",
        "  'AUC':'Ile','ACC':'Thr','AAC':'Asn','AGC':'Ser',\n",
        "  'AUA':'Ile','ACA':'Thr','AAA':'Lys','AGA':'Arg',\n",
        "  'AUG':'Met','ACG':'Thr','AAG':'Lys','AGG':'Arg',\n",
        "  'GUU':'Val','GCU':'Ala','GAU':'Asp','GGU':'Gly',\n",
        "  'GUC':'Val','GCC':'Ala','GAC':'Asp','GGC':'Gly',\n",
        "  'GUA':'Val','GCA':'Ala','GAA':'Glu','GGA':'Gly',\n",
        "  'GUG':'Val','GCG':'Ala','GAG':'Glu','GGG':'Gly'\n",
        "}\n",
        "#######################################################################################\n",
        "# a dictionary to map three-letter amino acid to one-letter amino acid here\n",
        "#######################################################################################\n",
        "\n",
        "AA_mapping = {\n",
        "    'Ala':'A', 'Arg':'R','Asn':'N',\n",
        "    'Asp':'D', 'Cys':'C','Gln':'Q',\n",
        "    'Glu':'E', 'Gly':'G','His':'H',\n",
        "    'Ile':'I', 'Leu':'L','Lys':'K',\n",
        "    'Met':'M', 'Phe':'F','Pro':'P',\n",
        "    'Ser':'S', 'Thr':'T','Trp':'W',\n",
        "    'Tyr':'Y','Val':'V'\n",
        "}\n",
        "#######################################################################################\n",
        "# This is the function to get protein sequence from DNA sequence\n",
        "# The input is any DNA sequence.\n",
        "# The return type should be the protein sequence translated from DNA sequence.\n",
        "#######################################################################################\n",
        "\n",
        "def get_protein_from_DNA(DNA):\n",
        "  protein = ''\n",
        "  RNA_seq = DNA.replace('T', 'U')\n",
        "\n",
        "  ### Define location of start codon (AUG)\n",
        "  start_codon = RNA_seq.find('AUG')\n",
        "  mRNA = []\n",
        "  for i in range(start_codon, len(RNA_seq), 3): \n",
        "    codon = RNA_seq[i:i + 3]\n",
        "    if len(codon)==3:\n",
        "        mRNA.append(codon)\n",
        "  for codon in mRNA:\n",
        "    if codon == 'UAA' or  codon == 'UAG' or  codon == 'UGA':\n",
        "      break\n",
        "    protein = protein + AA_mapping[translate[codon]]\n",
        "  return (protein)\n",
        "####################################################################################### \n",
        "\n",
        "\n",
        "#I. Given the two DNA sequences in question 1, use the following functions to generate the protein sequences of DNA1 and DNA2. \n",
        "#II. print out the protein sequences of DNA1 and DNA2. \n",
        "\n",
        "protein1=get_protein_from_DNA(DNA1)\n",
        "protein2=get_protein_from_DNA(DNA2)\n",
        "print('protein sequence of DNA1:',protein1)\n",
        "print('protein sequence of DNA2:',protein2)"
      ],
      "execution_count": null,
      "outputs": [
        {
          "output_type": "stream",
          "text": [
            "protein sequence of DNA1: RGGS\n",
            "protein sequence of DNA2: GGEVPERERPGERAGEHTEER\n"
          ],
          "name": "stdout"
        }
      ]
    },
    {
      "cell_type": "code",
      "metadata": {
        "colab": {
          "base_uri": "https://localhost:8080/"
        },
        "id": "xSiznkpqMVak",
        "outputId": "7626c756-a0c5-4a2f-c455-41f595be87e3"
      },
      "source": [
        "#10. (10 points) To visualize a phylogenetic tree such as the following cladogram:\n",
        "tree = ('A', ('B',(),()), ('C',('D',('E',(),()),('F',(),())),('G',(),())) )\n",
        "print('The desired tuple:',tree)\n",
        "#Follow the sample format:\n",
        "#('A', \n",
        "#     ('B',(),()), \n",
        "#     ('C',\n",
        "#          ('D',\n",
        "#               ('E',(),()),\n",
        "#               ('F',(),())),\n",
        "#          ('G',(),())) )\n"
      ],
      "execution_count": null,
      "outputs": [
        {
          "output_type": "stream",
          "text": [
            "The desired tuple: ('A', ('B', (), ()), ('C', ('D', ('E', (), ()), ('F', (), ())), ('G', (), ())))\n"
          ],
          "name": "stdout"
        }
      ]
    },
    {
      "cell_type": "code",
      "metadata": {
        "colab": {
          "base_uri": "https://localhost:8080/"
        },
        "id": "A-hBMkO_OBNR",
        "outputId": "2994c045-a0af-44f8-e502-2237e2bbbbb1"
      },
      "source": [
        "#11. (10 points) In lab 15, we practiced the visualization of the RNA secondary structure. Write your python codes for the following activities:\n",
        "\n",
        "# Running VARNA (Linear layout/PNG output)\n",
        "def run_varna_linear(rna_sequence, rna_dot_bracket, output_file = 'rna_linear_plot.png'):\n",
        "  import subprocess\n",
        "  !rm VARNAv3-93.jar\n",
        "  !wget http://varna.lri.fr/bin/VARNAv3-93.jar\n",
        "  subprocess.Popen([\"java\", \"-cp\",\"./VARNAv3-93.jar\", \"fr.orsay.lri.varna.applications.VARNAcmd\", '-sequenceDBN', rna_sequence, '-structureDBN', rna_dot_bracket, '-o', output_file, '-algorithm', 'line', '-resolution', '8.0', '-bpStyle', 'lw'], stderr=subprocess.STDOUT, stdout=subprocess.PIPE).communicate()[0]\n",
        "# Visualize the figure \n",
        "def visualize_figure(figure_file, fig_size = (1000,600)):\n",
        "  # Display in jupyter notebook\n",
        "  from PIL import Image\n",
        "  im = Image.open(figure_file)\n",
        "  im1 = im.resize(fig_size) \n",
        "  # Shows the image in image viewer  \n",
        "  im1\n",
        "  return im1\n",
        "\n",
        "#I. Given the following RNA sequence and RNA secondary structure, use the following two functions to visualize the RNA secondary structure\n",
        "\n",
        "rna_seq = 'GGGCAAUCCUCUUCGGGCCC'\n",
        "rna_ss =  '((((...((.....))))))'\n",
        "\n",
        "run_varna_linear(rna_seq, rna_ss, output_file = 'rna_linear_plot.png')\n",
        "visualize_figure('rna_linear_plot.png', fig_size = (1000,600))"
      ],
      "execution_count": null,
      "outputs": [
        {
          "output_type": "stream",
          "text": [
            "--2020-12-03 20:11:25--  http://varna.lri.fr/bin/VARNAv3-93.jar\n",
            "Resolving varna.lri.fr (varna.lri.fr)... 129.175.15.21\n",
            "Connecting to varna.lri.fr (varna.lri.fr)|129.175.15.21|:80... connected.\n",
            "HTTP request sent, awaiting response... 200 OK\n",
            "Length: 695802 (679K) [application/java-archive]\n",
            "Saving to: ‘VARNAv3-93.jar’\n",
            "\n",
            "VARNAv3-93.jar      100%[===================>] 679.49K  1.28MB/s    in 0.5s    \n",
            "\n",
            "2020-12-03 20:11:27 (1.28 MB/s) - ‘VARNAv3-93.jar’ saved [695802/695802]\n",
            "\n"
          ],
          "name": "stdout"
        }
      ]
    }
  ]
}