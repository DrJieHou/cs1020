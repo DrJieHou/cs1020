{
  "nbformat": 4,
  "nbformat_minor": 0,
  "metadata": {
    "colab": {
      "name": "final_exam.ipynb",
      "provenance": []
    },
    "kernelspec": {
      "name": "python3",
      "display_name": "Python 3"
    }
  },
  "cells": [
    {
      "cell_type": "code",
      "metadata": {
        "colab": {
          "base_uri": "https://localhost:8080/"
        },
        "id": "BvT3Fz-TTsJR",
        "outputId": "48325b9b-9809-4668-8a87-6904be971820"
      },
      "source": [
        "## Part I: DNA processing \n",
        "#1  \n",
        "DNA1 = 'CCAGGGGAGGTTCCTGAACAACACGGAGCTGCAGGCGGCGAACGGGAGGTTCCAGAGGGCGACGGC'\n",
        "DNA2 = 'GCGGCGGGGAGGTTCCCGAGCGGGAGCGACCTGGAGAGCGTGCAGGGGAACATACAGAGGAGCGC'\n",
        "\n",
        "print(\"DNA1 is: \", DNA1)\n",
        "print(\"DNA2 is: \", DNA2) "
      ],
      "execution_count": 1,
      "outputs": [
        {
          "output_type": "stream",
          "text": [
            "DNA1 is:  CCAGGGGAGGTTCCTGAACAACACGGAGCTGCAGGCGGCGAACGGGAGGTTCCAGAGGGCGACGGC\n",
            "DNA2 is:  GCGGCGGGGAGGTTCCCGAGCGGGAGCGACCTGGAGAGCGTGCAGGGGAACATACAGAGGAGCGC\n"
          ],
          "name": "stdout"
        }
      ]
    },
    {
      "cell_type": "code",
      "metadata": {
        "colab": {
          "base_uri": "https://localhost:8080/"
        },
        "id": "2jz0NMgAUXE9",
        "outputId": "09c48e30-f257-48fd-a046-36b45caa3e62"
      },
      "source": [
        "#2 \n",
        "DNA1_length = len(DNA1)\n",
        "DNA2_length = len(DNA2)\n",
        "\n",
        "print(\"Length of DNA1_length: \", DNA1_length)\n",
        "print(\"Length of DNA2_length: \", DNA2_length)"
      ],
      "execution_count": 2,
      "outputs": [
        {
          "output_type": "stream",
          "text": [
            "Length of DNA1_length:  66\n",
            "Length of DNA2_length:  65\n"
          ],
          "name": "stdout"
        }
      ]
    },
    {
      "cell_type": "code",
      "metadata": {
        "colab": {
          "base_uri": "https://localhost:8080/"
        },
        "id": "L1hoyOrFUyPX",
        "outputId": "332c8518-fae1-43f5-b9db-81306d49035e"
      },
      "source": [
        "#3\n",
        "print(DNA1[:10])"
      ],
      "execution_count": null,
      "outputs": [
        {
          "output_type": "stream",
          "text": [
            "CCAGGGGAGG\n"
          ],
          "name": "stdout"
        }
      ]
    },
    {
      "cell_type": "code",
      "metadata": {
        "colab": {
          "base_uri": "https://localhost:8080/"
        },
        "id": "QFJTmlR4VDmT",
        "outputId": "0c9e461a-a62b-44ae-9603-2948aad3e715"
      },
      "source": [
        "print(DNA2[:10])"
      ],
      "execution_count": null,
      "outputs": [
        {
          "output_type": "stream",
          "text": [
            "GCGGCGGGGA\n"
          ],
          "name": "stdout"
        }
      ]
    },
    {
      "cell_type": "code",
      "metadata": {
        "colab": {
          "base_uri": "https://localhost:8080/"
        },
        "id": "Ysrv4KqdVqxW",
        "outputId": "5d247585-62d9-4d1f-a1dc-1360d92e0a01"
      },
      "source": [
        "print(DNA1[-10:])"
      ],
      "execution_count": null,
      "outputs": [
        {
          "output_type": "stream",
          "text": [
            "GGGCGACGGC\n"
          ],
          "name": "stdout"
        }
      ]
    },
    {
      "cell_type": "code",
      "metadata": {
        "colab": {
          "base_uri": "https://localhost:8080/"
        },
        "id": "86x90IVPVxzg",
        "outputId": "6f76a602-3f9b-44d7-a7f5-d6ce89630c42"
      },
      "source": [
        "print(DNA2[-10:])"
      ],
      "execution_count": null,
      "outputs": [
        {
          "output_type": "stream",
          "text": [
            "AGAGGAGCGC\n"
          ],
          "name": "stdout"
        }
      ]
    },
    {
      "cell_type": "code",
      "metadata": {
        "colab": {
          "base_uri": "https://localhost:8080/"
        },
        "id": "qVabcTEzV7XE",
        "outputId": "c36fca39-4835-4db5-9e12-fc5fdec66148"
      },
      "source": [
        "DNA1[-3:] == DNA2[-3:]"
      ],
      "execution_count": null,
      "outputs": [
        {
          "output_type": "execute_result",
          "data": {
            "text/plain": [
              "False"
            ]
          },
          "metadata": {
            "tags": []
          },
          "execution_count": 71
        }
      ]
    },
    {
      "cell_type": "code",
      "metadata": {
        "colab": {
          "base_uri": "https://localhost:8080/"
        },
        "id": "wy9T09IFWENl",
        "outputId": "0e2e6b47-b40a-47eb-dc9a-e76b40d962d7"
      },
      "source": [
        "DNA1_DNA2 = DNA1[-5:]+DNA2[-5:]\n",
        "print(DNA1_DNA2)"
      ],
      "execution_count": null,
      "outputs": [
        {
          "output_type": "stream",
          "text": [
            "ACGGCAGCGC\n"
          ],
          "name": "stdout"
        }
      ]
    },
    {
      "cell_type": "code",
      "metadata": {
        "colab": {
          "base_uri": "https://localhost:8080/"
        },
        "id": "cYLkPyzwWStj",
        "outputId": "46cefccc-d13f-4ea6-d59d-b5cbfc81809c"
      },
      "source": [
        "print(DNA1.count('A'))"
      ],
      "execution_count": null,
      "outputs": [
        {
          "output_type": "stream",
          "text": [
            "15\n"
          ],
          "name": "stdout"
        }
      ]
    },
    {
      "cell_type": "code",
      "metadata": {
        "colab": {
          "base_uri": "https://localhost:8080/"
        },
        "id": "EaHEpMigWdWu",
        "outputId": "2838fe99-4cf9-4c48-dcd4-8bdebe8c0074"
      },
      "source": [
        "print(DNA2.count('A'))"
      ],
      "execution_count": null,
      "outputs": [
        {
          "output_type": "stream",
          "text": [
            "14\n"
          ],
          "name": "stdout"
        }
      ]
    },
    {
      "cell_type": "code",
      "metadata": {
        "colab": {
          "base_uri": "https://localhost:8080/"
        },
        "id": "WdO9k113WgUB",
        "outputId": "2f451db1-cc1b-4f7b-cefc-45e0d4007652"
      },
      "source": [
        "#4 \n",
        "DNA_motifs = ['TTCAT','AATCATGA','CCCG','GGCATT','CACGT']\n",
        "print(\"DNA_motifs: \", DNA_motifs)"
      ],
      "execution_count": null,
      "outputs": [
        {
          "output_type": "stream",
          "text": [
            "DNA_motifs:  ['TTCAT', 'AATCATGA', 'CCCG', 'GGCATT', 'CACGT']\n"
          ],
          "name": "stdout"
        }
      ]
    },
    {
      "cell_type": "code",
      "metadata": {
        "colab": {
          "base_uri": "https://localhost:8080/",
          "height": 35
        },
        "id": "-LxbLs9JWoGX",
        "outputId": "43e8b0d8-9af9-4893-b233-cf744dc87167"
      },
      "source": [
        "DNA_motifs[2]"
      ],
      "execution_count": null,
      "outputs": [
        {
          "output_type": "execute_result",
          "data": {
            "application/vnd.google.colaboratory.intrinsic+json": {
              "type": "string"
            },
            "text/plain": [
              "'CCCG'"
            ]
          },
          "metadata": {
            "tags": []
          },
          "execution_count": 76
        }
      ]
    },
    {
      "cell_type": "code",
      "metadata": {
        "colab": {
          "base_uri": "https://localhost:8080/"
        },
        "id": "_bErpL0BWrl-",
        "outputId": "457dcd81-4ff5-404f-9112-33fc3ac578a9"
      },
      "source": [
        "DNA_motifs[:2]"
      ],
      "execution_count": null,
      "outputs": [
        {
          "output_type": "execute_result",
          "data": {
            "text/plain": [
              "['TTCAT', 'AATCATGA']"
            ]
          },
          "metadata": {
            "tags": []
          },
          "execution_count": 77
        }
      ]
    },
    {
      "cell_type": "code",
      "metadata": {
        "colab": {
          "base_uri": "https://localhost:8080/"
        },
        "id": "gXUuZitNWycK",
        "outputId": "3643d686-e0f5-44e9-cd77-2c0a154e8d64"
      },
      "source": [
        "DNA_motifs[-2:]"
      ],
      "execution_count": null,
      "outputs": [
        {
          "output_type": "execute_result",
          "data": {
            "text/plain": [
              "['GGCATT', 'CACGT']"
            ]
          },
          "metadata": {
            "tags": []
          },
          "execution_count": 78
        }
      ]
    },
    {
      "cell_type": "code",
      "metadata": {
        "colab": {
          "base_uri": "https://localhost:8080/"
        },
        "id": "7rpN1jlTW2X5",
        "outputId": "0e889b08-bfd5-4b9a-f7fc-f2c68987a351"
      },
      "source": [
        "#5 \n",
        "DNA_motifs_length = {'TTCAT':5,'AATCATGA':8,'CCCG':4,'GGCATT':6,'CACGT':5}\n",
        "print(\"DNA_motifs_length : \", DNA_motifs_length)"
      ],
      "execution_count": null,
      "outputs": [
        {
          "output_type": "stream",
          "text": [
            "DNA_motifs_length :  {'TTCAT': 5, 'AATCATGA': 8, 'CCCG': 4, 'GGCATT': 6, 'CACGT': 5}\n"
          ],
          "name": "stdout"
        }
      ]
    },
    {
      "cell_type": "code",
      "metadata": {
        "colab": {
          "base_uri": "https://localhost:8080/"
        },
        "id": "IRVgtSjuW7PO",
        "outputId": "b7e81f18-d128-4d51-a320-35f570f57ac4"
      },
      "source": [
        "DNA_motifs_length['CAAT'] = len('CAAT')\n",
        "print(\"DNA_motifs_length: \", DNA_motifs_length)"
      ],
      "execution_count": null,
      "outputs": [
        {
          "output_type": "stream",
          "text": [
            "DNA_motifs_length:  {'TTCAT': 5, 'AATCATGA': 8, 'CCCG': 4, 'GGCATT': 6, 'CACGT': 5, 'CAAT': 4}\n"
          ],
          "name": "stdout"
        }
      ]
    },
    {
      "cell_type": "code",
      "metadata": {
        "colab": {
          "base_uri": "https://localhost:8080/"
        },
        "id": "Wqx7tgl0ajlH",
        "outputId": "c4d194fe-6ea3-4236-be97-c405472b6bf4"
      },
      "source": [
        "print(DNA_motifs_length.keys())"
      ],
      "execution_count": null,
      "outputs": [
        {
          "output_type": "stream",
          "text": [
            "dict_keys(['TTCAT', 'AATCATGA', 'CCCG', 'GGCATT', 'CACGT', 'CAAT'])\n"
          ],
          "name": "stdout"
        }
      ]
    },
    {
      "cell_type": "code",
      "metadata": {
        "colab": {
          "base_uri": "https://localhost:8080/"
        },
        "id": "pvtVcim6aqdE",
        "outputId": "047cb1e9-0d05-42de-90a5-f456f5412dad"
      },
      "source": [
        "print(DNA_motifs_length.values())"
      ],
      "execution_count": null,
      "outputs": [
        {
          "output_type": "stream",
          "text": [
            "dict_values([5, 8, 4, 6, 5, 4])\n"
          ],
          "name": "stdout"
        }
      ]
    },
    {
      "cell_type": "code",
      "metadata": {
        "colab": {
          "base_uri": "https://localhost:8080/"
        },
        "id": "UCZqggqkayny",
        "outputId": "2bff2f14-ec46-483a-ec5c-3aaabb6cb831"
      },
      "source": [
        "print(DNA_motifs_length.items())"
      ],
      "execution_count": null,
      "outputs": [
        {
          "output_type": "stream",
          "text": [
            "dict_items([('TTCAT', 5), ('AATCATGA', 8), ('CCCG', 4), ('GGCATT', 6), ('CACGT', 5), ('CAAT', 4)])\n"
          ],
          "name": "stdout"
        }
      ]
    },
    {
      "cell_type": "code",
      "metadata": {
        "colab": {
          "base_uri": "https://localhost:8080/"
        },
        "id": "bgsHocVua3Rd",
        "outputId": "db982adf-8ee2-4004-fd39-622d69ac83d1"
      },
      "source": [
        "'CCT' in DNA_motifs_length"
      ],
      "execution_count": null,
      "outputs": [
        {
          "output_type": "execute_result",
          "data": {
            "text/plain": [
              "False"
            ]
          },
          "metadata": {
            "tags": []
          },
          "execution_count": 85
        }
      ]
    },
    {
      "cell_type": "code",
      "metadata": {
        "colab": {
          "base_uri": "https://localhost:8080/"
        },
        "id": "iHl_6k8Ha9Ia",
        "outputId": "e7881e51-d0f2-428c-e0f6-87ba11f0bf62"
      },
      "source": [
        "#6\n",
        "DNA_motifs=['TTCAT','AATCATGA','CCCG','GGCATT','CACGT']\n",
        "print(\"DNA_motifs:\",DNA_motifs)"
      ],
      "execution_count": null,
      "outputs": [
        {
          "output_type": "stream",
          "text": [
            "DNA_motifs: ['TTCAT', 'AATCATGA', 'CCCG', 'GGCATT', 'CACGT']\n"
          ],
          "name": "stdout"
        }
      ]
    },
    {
      "cell_type": "code",
      "metadata": {
        "colab": {
          "base_uri": "https://localhost:8080/"
        },
        "id": "_NS7uOjnbBS4",
        "outputId": "e00b785b-fac5-4992-a2cd-b25b830243f0"
      },
      "source": [
        "for motif in DNA_motifs:\n",
        "  print(\"Length of\", motif, \"is\", len(motif))"
      ],
      "execution_count": null,
      "outputs": [
        {
          "output_type": "stream",
          "text": [
            "Length of TTCAT is 5\n",
            "Length of AATCATGA is 8\n",
            "Length of CCCG is 4\n",
            "Length of GGCATT is 6\n",
            "Length of CACGT is 5\n"
          ],
          "name": "stdout"
        }
      ]
    },
    {
      "cell_type": "code",
      "metadata": {
        "colab": {
          "base_uri": "https://localhost:8080/"
        },
        "id": "wpvW1ZBhbNbP",
        "outputId": "d3b32237-fa9f-4db4-d1a3-a33f6d0335f0"
      },
      "source": [
        "for motif in DNA_motifs:\n",
        "  if len(motif)>5:\n",
        "    print(motif)"
      ],
      "execution_count": null,
      "outputs": [
        {
          "output_type": "stream",
          "text": [
            "AATCATGA\n",
            "GGCATT\n"
          ],
          "name": "stdout"
        }
      ]
    },
    {
      "cell_type": "code",
      "metadata": {
        "id": "wlSAsq_hbfTD"
      },
      "source": [
        "#7\n",
        "def find_maximum_value(input):\n",
        "  maximum_number = float('-inf')\n",
        "  for num in input: \n",
        "    if num > maximum_number:\n",
        "        maximum_number = num\n",
        "  return maximum_number"
      ],
      "execution_count": null,
      "outputs": []
    },
    {
      "cell_type": "code",
      "metadata": {
        "colab": {
          "base_uri": "https://localhost:8080/"
        },
        "id": "JYVmfTUdbw9h",
        "outputId": "c1dba96d-212d-44a1-fa17-b88615bb7de3"
      },
      "source": [
        "sample_list = [5,3,2,1]\n",
        "find_maximum_value(sample_list)"
      ],
      "execution_count": null,
      "outputs": [
        {
          "output_type": "execute_result",
          "data": {
            "text/plain": [
              "5"
            ]
          },
          "metadata": {
            "tags": []
          },
          "execution_count": 92
        }
      ]
    },
    {
      "cell_type": "code",
      "metadata": {
        "id": "pqCgFqWWb4ur"
      },
      "source": [
        "def find_minimum_value(input): \n",
        "  minimum_number = float('inf')\n",
        "  for num in input: \n",
        "    if num < minimum_number: \n",
        "      minimum_number = num\n",
        "  return minimum_number"
      ],
      "execution_count": null,
      "outputs": []
    },
    {
      "cell_type": "code",
      "metadata": {
        "colab": {
          "base_uri": "https://localhost:8080/"
        },
        "id": "RzrUEpFrb9XA",
        "outputId": "9cf03268-e67d-4b30-e6f6-b55be0bbd37f"
      },
      "source": [
        "sample_list = [5,3,2,1]\n",
        "find_minimum_value(sample_list)"
      ],
      "execution_count": null,
      "outputs": [
        {
          "output_type": "execute_result",
          "data": {
            "text/plain": [
              "1"
            ]
          },
          "metadata": {
            "tags": []
          },
          "execution_count": 94
        }
      ]
    },
    {
      "cell_type": "code",
      "metadata": {
        "id": "c4aPfTITcLLD"
      },
      "source": [
        "def sum_of_list(input):\n",
        "  sum_elements = 0\n",
        "  for num in input: \n",
        "    sum_elements = sum_elements + num \n",
        "  return sum_elements"
      ],
      "execution_count": null,
      "outputs": []
    },
    {
      "cell_type": "code",
      "metadata": {
        "colab": {
          "base_uri": "https://localhost:8080/"
        },
        "id": "fFHGkYBncQEA",
        "outputId": "6056f434-d283-4b2d-8b7a-0ba0ee6ba752"
      },
      "source": [
        "sample_list = [5,3,2,1]\n",
        "sum_of_list(sample_list)"
      ],
      "execution_count": null,
      "outputs": [
        {
          "output_type": "execute_result",
          "data": {
            "text/plain": [
              "11"
            ]
          },
          "metadata": {
            "tags": []
          },
          "execution_count": 96
        }
      ]
    },
    {
      "cell_type": "code",
      "metadata": {
        "id": "SAqqG9iQcXUM"
      },
      "source": [
        "##Part II\n",
        "#8\n",
        "################################################################################################\n",
        "# Needleman-Wunsch Global Pairwise Alignment algorithm\n",
        "################################################################################################\n",
        "\n",
        "def buildTable(X, Y, match=1, mismatch=-1, gap=-1):\n",
        "    print(\"Sequence 1:\", X)\n",
        "    print(\"Sequence 2:\", Y)\n",
        "    # create table of zeros with dimension (1+|X|)-by-(1+|Y|)\n",
        "    # X: vertical,  Y:horizontal\n",
        "    opt = []\n",
        "    for i in range(1+len(X)):\n",
        "      row = []\n",
        "      for j in range(1+len(Y)):\n",
        "        row.append(0)\n",
        "      opt.append(row)\n",
        "    \n",
        "    # print out the initial table\n",
        "    #print(\"The intial alignment table is:\")\n",
        "    #for row in opt:\n",
        "    #      print(' '.join('%3d' % val for val in row))\n",
        "\n",
        "    for j in range(1,1+len(X)):\n",
        "        opt[j][0] = opt[j-1][0] + gap       # initialize left column\n",
        "    for k in range(1,1+len(Y)):\n",
        "        opt[0][k] = opt[0][k-1] + gap       # initialize top row\n",
        "    \n",
        "    # calculate the score for each possible alignment\n",
        "    for j in range(1,1+len(X)):\n",
        "        for k in range(1, 1+len(Y)):\n",
        "          if X[j-1] == Y[k-1]:  # sequence start with 0\n",
        "            option1 = opt[j-1][k-1] + match  # align chars, match\n",
        "          else:\n",
        "            option1 = opt[j-1][k-1] + mismatch  # align chars, mismatch\n",
        "          option2 = opt[j-1][k] + gap                     # last of X with gap\n",
        "          option3 = opt[j][k-1] + gap                     # last of Y with gap\n",
        "          opt[j][k] = max(option1, option2, option3)\n",
        "    \n",
        "    return opt\n",
        "\n",
        "\n",
        "def TraceBack(X, Y, table, match=1, mismatch=-1, gap=-1):\n",
        "    first = ''        # alignment for X\n",
        "    second = ''       # alignment for Y\n",
        "    glue = ''         # line showing matches/mismatches\n",
        "\n",
        "    # start reconstruction at bottom-right of table\n",
        "    j = len(X)\n",
        "    k = len(Y)\n",
        "    \n",
        "    while j>0 or k>0:\n",
        "        if j>0 and k>0 and ((X[j-1] == Y[k-1] and table[j][k] == table[j-1][k-1] + match) or (X[j-1] != Y[k-1] and table[j][k] == table[j-1][k-1] + mismatch)):\n",
        "            # option1 above; match X[j-1] with Y[k-1]\n",
        "            first =  X[j-1] + first\n",
        "            second = Y[k-1] + second\n",
        "            if X[j-1] == Y[k-1] and table[j][k] == table[j-1][k-1] + match:\n",
        "              glue = '|' + glue   # designate match\n",
        "            elif X[j-1] != Y[k-1] and table[j][k] == table[j-1][k-1] + mismatch:\n",
        "              glue = '.' + glue   # designate mismatch\n",
        "            j = j-1\n",
        "            k = k-1\n",
        "        elif j > 0 and table[j][k] == table[j-1][k] + gap:\n",
        "            # option1 above; match X[j-1] with a gap in Y\n",
        "            first  = X[j-1] + first\n",
        "            second = '-' + second\n",
        "            glue   = ' ' + glue\n",
        "            j = j-1\n",
        "        elif k > 0 and table[j][k] == table[j][k-1] + gap:\n",
        "            # option2 above; match gap in X with Y[k-1]\n",
        "            first  = '-'  + first\n",
        "            second = Y[k-1] + second\n",
        "            glue   = ' '  + glue\n",
        "            k = k-1\n",
        "    print(\"The best alignment is:\")\n",
        "    print(first)\n",
        "    print(glue)\n",
        "    print(second)\n",
        "    print(\"The score of optimal alignment is: \",table[len(X)][len(Y)])\n",
        "    return first,glue,second"
      ],
      "execution_count": null,
      "outputs": []
    },
    {
      "cell_type": "code",
      "metadata": {
        "colab": {
          "base_uri": "https://localhost:8080/"
        },
        "id": "wmCVnuSpcjp-",
        "outputId": "c770c049-a59a-4351-e96d-7fb34ab3e721"
      },
      "source": [
        "table = buildTable(DNA1, DNA2, match=1, mismatch=-1, gap=-1)\n",
        "TraceBack(DNA1, DNA2, table,match=1, mismatch=-1, gap=-1)"
      ],
      "execution_count": null,
      "outputs": [
        {
          "output_type": "stream",
          "text": [
            "Sequence 1: CCAGGGGAGGTTCCTGAACAACACGGAGCTGCAGGCGGCGAACGGGAGGTTCCAGAGGGCGACGGC\n",
            "Sequence 2: GCGGCGGGGAGGTTCCCGAGCGGGAGCGACCTGGAGAGCGTGCAGGGGAACATACAGAGGAGCGC\n",
            "The best alignment is:\n",
            "-C--CAGGGGAGGTTCCTGAACAACA-CGGAGCTGCAG-GCG-GCGAACGGGAGGTTCCAGAGGGCGACGGC\n",
            " |  | |||||||||||.||.|...| | ||.|||.|| ||| ||  |.||||...|.|||| ||.| | ||\n",
            "GCGGC-GGGGAGGTTCCCGAGCGGGAGC-GACCTGGAGAGCGTGC--AGGGGAACATACAGA-GGAG-C-GC\n",
            "The score of optimal alignment is:  20\n"
          ],
          "name": "stdout"
        },
        {
          "output_type": "execute_result",
          "data": {
            "text/plain": [
              "('-C--CAGGGGAGGTTCCTGAACAACA-CGGAGCTGCAG-GCG-GCGAACGGGAGGTTCCAGAGGGCGACGGC',\n",
              " ' |  | |||||||||||.||.|...| | ||.|||.|| ||| ||  |.||||...|.|||| ||.| | ||',\n",
              " 'GCGGC-GGGGAGGTTCCCGAGCGGGAGC-GACCTGGAGAGCGTGC--AGGGGAACATACAGA-GGAG-C-GC')"
            ]
          },
          "metadata": {
            "tags": []
          },
          "execution_count": 98
        }
      ]
    },
    {
      "cell_type": "code",
      "metadata": {
        "id": "nJ4XhMWLc-Hj"
      },
      "source": [
        "## Global Alignment score is 20 "
      ],
      "execution_count": null,
      "outputs": []
    },
    {
      "cell_type": "code",
      "metadata": {
        "colab": {
          "base_uri": "https://localhost:8080/"
        },
        "id": "IQsai3dQdTPr",
        "outputId": "0d23c656-08b2-4420-c520-79b19509bb70"
      },
      "source": [
        "DNA1_aln,glue,DNA2_aln = TraceBack(DNA1, DNA2, table,match=1, mismatch=-1, gap=-1)\n",
        "print(\"DNA1_alignment: \", DNA1_aln)\n",
        "print(\"DNA2_alignment: \", DNA2_aln)"
      ],
      "execution_count": null,
      "outputs": [
        {
          "output_type": "stream",
          "text": [
            "The best alignment is:\n",
            "-C--CAGGGGAGGTTCCTGAACAACA-CGGAGCTGCAG-GCG-GCGAACGGGAGGTTCCAGAGGGCGACGGC\n",
            " |  | |||||||||||.||.|...| | ||.|||.|| ||| ||  |.||||...|.|||| ||.| | ||\n",
            "GCGGC-GGGGAGGTTCCCGAGCGGGAGC-GACCTGGAGAGCGTGC--AGGGGAACATACAGA-GGAG-C-GC\n",
            "The score of optimal alignment is:  20\n",
            "DNA1_alignment:  -C--CAGGGGAGGTTCCTGAACAACA-CGGAGCTGCAG-GCG-GCGAACGGGAGGTTCCAGAGGGCGACGGC\n",
            "DNA2_alignment:  GCGGC-GGGGAGGTTCCCGAGCGGGAGC-GACCTGGAGAGCGTGC--AGGGGAACATACAGA-GGAG-C-GC\n"
          ],
          "name": "stdout"
        }
      ]
    },
    {
      "cell_type": "code",
      "metadata": {
        "id": "igFmYWl5d61I"
      },
      "source": [
        "## Part III \n",
        "#9 \n",
        "####################################################################################### \n",
        "# a dictionary to translate three-letter mRNA to three-letter amino acid here \n",
        "#######################################################################################\n",
        "\n",
        "translate = { \n",
        "  'UUU':'Phe','UCU':'Ser','UAU':'Tyr','UGU':'Cys',\n",
        "  'UUC':'Phe','UCC':'Ser','UAC':'Tyr','UGC':'Cys',\n",
        "  'UUA':'Leu','UCA':'Ser','UAA':'Stop','UGA':'Stop',\n",
        "  'UUG':'Leu','UCG':'Ser','UAG':'Stop','UGG':'Trp',\n",
        "  'CUU':'Leu','CCU':'Pro','CAU':'His','CGU':'Arg',\n",
        "  'CUC':'Leu','CCC':'Pro','CAC':'His','CGC':'Arg',\n",
        "  'CUA':'Leu','CCA':'Pro','CAA':'Gln','CGA':'Arg',\n",
        "  'CUG':'Leu','CCG':'Pro','CAG':'Gln','CGG':'Arg',\n",
        "  'AUU':'Ile','ACU':'Thr','AAU':'Asn','AGU':'Ser',\n",
        "  'AUC':'Ile','ACC':'Thr','AAC':'Asn','AGC':'Ser',\n",
        "  'AUA':'Ile','ACA':'Thr','AAA':'Lys','AGA':'Arg',\n",
        "  'AUG':'Met','ACG':'Thr','AAG':'Lys','AGG':'Arg',\n",
        "  'GUU':'Val','GCU':'Ala','GAU':'Asp','GGU':'Gly',\n",
        "  'GUC':'Val','GCC':'Ala','GAC':'Asp','GGC':'Gly',\n",
        "  'GUA':'Val','GCA':'Ala','GAA':'Glu','GGA':'Gly',\n",
        "  'GUG':'Val','GCG':'Ala','GAG':'Glu','GGG':'Gly'\n",
        "}"
      ],
      "execution_count": null,
      "outputs": []
    },
    {
      "cell_type": "code",
      "metadata": {
        "id": "hazGfSlNeM5D"
      },
      "source": [
        "#######################################################################################\n",
        "# a dictionary to map three-letter amino acid to one-letter amino acid here\n",
        "#######################################################################################\n",
        "\n",
        "AA_mapping = {\n",
        "    'Ala':'A', 'Arg':'R','Asn':'N',\n",
        "    'Asp':'D', 'Cys':'C','Gln':'Q',\n",
        "    'Glu':'E', 'Gly':'G','His':'H',\n",
        "    'Ile':'I', 'Leu':'L','Lys':'K',\n",
        "    'Met':'M', 'Phe':'F','Pro':'P',\n",
        "    'Ser':'S', 'Thr':'T','Trp':'W',\n",
        "    'Tyr':'Y','Val':'V'\n",
        "}"
      ],
      "execution_count": null,
      "outputs": []
    },
    {
      "cell_type": "code",
      "metadata": {
        "id": "ldsm6qxdeYY4"
      },
      "source": [
        "#######################################################################################\n",
        "# This is the function to get protein sequence from DNA sequence\n",
        "# The input is any DNA sequence.\n",
        "# The return type should be the protein sequence translated from DNA sequence.\n",
        "#######################################################################################\n",
        "\n",
        "def get_protein_from_DNA(DNA):\n",
        "  protein = ''\n",
        "  RNA_seq = DNA.replace('T', 'U')\n",
        "\n",
        "  ### Define location of start codon (AUG)\n",
        "  start_codon = RNA_seq.find('AUG')\n",
        "  mRNA = []\n",
        "  for i in range(start_codon, len(RNA_seq), 3): \n",
        "    codon = RNA_seq[i:i + 3]\n",
        "    if len(codon)==3:\n",
        "        mRNA.append(codon)\n",
        "  for codon in mRNA:\n",
        "    if codon == 'UAA' or  codon == 'UAG' or  codon == 'UGA':\n",
        "      break\n",
        "    protein = protein + AA_mapping[translate[codon]]\n",
        "  return (protein)"
      ],
      "execution_count": null,
      "outputs": []
    },
    {
      "cell_type": "code",
      "metadata": {
        "colab": {
          "base_uri": "https://localhost:8080/"
        },
        "id": "e5uiTT3ZeaRe",
        "outputId": "ba1cc3d2-bd9f-409d-a290-c6a76410bee2"
      },
      "source": [
        "print('DNA1_protein_seq: ', get_protein_from_DNA(DNA1))\n",
        "print('DNA2_protein_seq: ', get_protein_from_DNA(DNA2))"
      ],
      "execution_count": null,
      "outputs": [
        {
          "output_type": "stream",
          "text": [
            "DNA1_protein_seq:  RGGS\n",
            "DNA2_protein_seq:  GGEVPERERPGERAGEHTEER\n"
          ],
          "name": "stdout"
        }
      ]
    },
    {
      "cell_type": "code",
      "metadata": {
        "id": "budpeEkZefYC"
      },
      "source": [
        "## Part IV\n",
        "#10 \n",
        "Tree = ('A',('B',(),()),('C',('G',(),()),('D',('E',(),()),('F',(),()))))"
      ],
      "execution_count": null,
      "outputs": []
    },
    {
      "cell_type": "code",
      "metadata": {
        "id": "BP4HoRMIfh54"
      },
      "source": [
        "## Part V \n",
        "#11\n",
        "rna_seq = 'GGGCAAUCCUCUUCGGGCCC'\n",
        "rna_ss =  '((((...((.....))))))'"
      ],
      "execution_count": null,
      "outputs": []
    },
    {
      "cell_type": "code",
      "metadata": {
        "id": "yIojPWLJfoyu"
      },
      "source": [
        "# Running VARNA (Linear layout/PNG output)\n",
        "def run_varna_linear(rna_sequence, rna_dot_bracket, output_file = 'rna_linear_plot.png'):\n",
        "  import subprocess\n",
        "  !rm VARNAv3-93.jar\n",
        "  !wget http://varna.lri.fr/bin/VARNAv3-93.jar\n",
        "  subprocess.Popen([\"java\", \"-cp\",\"./VARNAv3-93.jar\", \"fr.orsay.lri.varna.applications.VARNAcmd\", '-sequenceDBN', rna_sequence, '-structureDBN', rna_dot_bracket, '-o', output_file, '-algorithm', 'line', '-resolution', '8.0', '-bpStyle', 'lw'], stderr=subprocess.STDOUT, stdout=subprocess.PIPE).communicate()[0]"
      ],
      "execution_count": null,
      "outputs": []
    },
    {
      "cell_type": "code",
      "metadata": {
        "id": "3XtgPOwwfszu"
      },
      "source": [
        "# Visualize the figure \n",
        "def visualize_figure(figure_file, fig_size = (1000,600)):\n",
        "  # Display in jupyter notebook\n",
        "  from PIL import Image\n",
        "  im = Image.open(figure_file)\n",
        "  im1 = im.resize(fig_size) \n",
        "  # Shows the image in image viewer  \n",
        "  im1\n",
        "  return im1\n"
      ],
      "execution_count": null,
      "outputs": []
    },
    {
      "cell_type": "code",
      "metadata": {
        "colab": {
          "base_uri": "https://localhost:8080/"
        },
        "id": "ioSIff3WfvmG",
        "outputId": "ddbc94ea-aadd-4914-fb0b-fb93781fdb60"
      },
      "source": [
        "run_varna_linear(rna_seq,rna_ss,output_file = 'rna_linear_plot_1.png')"
      ],
      "execution_count": null,
      "outputs": [
        {
          "output_type": "stream",
          "text": [
            "--2020-12-03 16:54:18--  http://varna.lri.fr/bin/VARNAv3-93.jar\n",
            "Resolving varna.lri.fr (varna.lri.fr)... 129.175.15.21\n",
            "Connecting to varna.lri.fr (varna.lri.fr)|129.175.15.21|:80... connected.\n",
            "HTTP request sent, awaiting response... 200 OK\n",
            "Length: 695802 (679K) [application/java-archive]\n",
            "Saving to: ‘VARNAv3-93.jar’\n",
            "\n",
            "VARNAv3-93.jar      100%[===================>] 679.49K  1.44MB/s    in 0.5s    \n",
            "\n",
            "2020-12-03 16:54:20 (1.44 MB/s) - ‘VARNAv3-93.jar’ saved [695802/695802]\n",
            "\n"
          ],
          "name": "stdout"
        }
      ]
    },
    {
      "cell_type": "code",
      "metadata": {
        "colab": {
          "base_uri": "https://localhost:8080/",
          "height": 317
        },
        "id": "oBK71heqgHSB",
        "outputId": "5cbf8367-6f24-4e14-c02e-8062c80ece18"
      },
      "source": [
        "visualize_figure('rna_linear_plot_1.png', fig_size = (500,300))"
      ],
      "execution_count": null,
      "outputs": [
        {
          "output_type": "execute_result",
          "data": {
            "image/png": "[encoded data removed]",
            "text/plain": [
              "<PIL.Image.Image image mode=RGB size=500x300 at 0x7F08EA504F28>"
            ]
          },
          "metadata": {
            "tags": []
          },
          "execution_count": 111
        }
      ]
    }
  ]
}