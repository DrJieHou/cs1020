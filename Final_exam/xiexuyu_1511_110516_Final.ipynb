{
  "nbformat": 4,
  "nbformat_minor": 0,
  "metadata": {
    "colab": {
      "name": "Final.ipynb",
      "provenance": [],
      "collapsed_sections": []
    },
    "kernelspec": {
      "name": "python3",
      "display_name": "Python 3"
    }
  },
  "cells": [
    {
      "cell_type": "code",
      "metadata": {
        "colab": {
          "base_uri": "https://localhost:8080/"
        },
        "id": "UOnIQadMRXaR",
        "outputId": "b25b00e9-47e5-4e5c-bd78-5d3bab723d67"
      },
      "source": [
        "#1\n",
        "DNA1 = 'CCAGGGGAGGTTCCTGAACAACACGGAGCTGCAGGCGGCGAACGGGAGGTTCCAGAGGGCGACGGC'\n",
        "DNA2 = 'GCGGCGGGGAGGTTCCCGAGCGGGAGCGACCTGGAGAGCGTGCAGGGGAACATACAGAGGAGCGC'\n",
        "print(\"DNA1 is: \", DNA1)\n",
        "print(\"DNA2 is: \", DNA2)"
      ],
      "execution_count": 1,
      "outputs": [
        {
          "output_type": "stream",
          "text": [
            "DNA1 is:  CCAGGGGAGGTTCCTGAACAACACGGAGCTGCAGGCGGCGAACGGGAGGTTCCAGAGGGCGACGGC\n",
            "DNA2 is:  GCGGCGGGGAGGTTCCCGAGCGGGAGCGACCTGGAGAGCGTGCAGGGGAACATACAGAGGAGCGC\n"
          ],
          "name": "stdout"
        }
      ]
    },
    {
      "cell_type": "code",
      "metadata": {
        "colab": {
          "base_uri": "https://localhost:8080/"
        },
        "id": "4Yrz9pkWUvv5",
        "outputId": "ab014516-8d67-4d65-c822-06a29daaf5a3"
      },
      "source": [
        "#2\n",
        "DNA1_length = len(DNA1)\n",
        "DNA2_length = len(DNA2)\n",
        "print(\"Length of DNA1_length is: \", DNA1_length)\n",
        "print(\"Length of DNA2_length is: \", DNA2_length)"
      ],
      "execution_count": 2,
      "outputs": [
        {
          "output_type": "stream",
          "text": [
            "Length of DNA1_length is:  66\n",
            "Length of DNA2_length is:  65\n"
          ],
          "name": "stdout"
        }
      ]
    },
    {
      "cell_type": "code",
      "metadata": {
        "colab": {
          "base_uri": "https://localhost:8080/"
        },
        "id": "vU95jHIHVNWE",
        "outputId": "1b646205-1a54-474e-ce1e-3f964d04acfb"
      },
      "source": [
        "#3 I What are the first ten letters of the first sequence, DNA1?\n",
        "print(DNA1[:10])"
      ],
      "execution_count": 4,
      "outputs": [
        {
          "output_type": "stream",
          "text": [
            "CCAGGGGAGG\n"
          ],
          "name": "stdout"
        }
      ]
    },
    {
      "cell_type": "code",
      "metadata": {
        "colab": {
          "base_uri": "https://localhost:8080/"
        },
        "id": "4Clhd4rSWN00",
        "outputId": "8dc32a51-ae59-4382-af16-0267904806d3"
      },
      "source": [
        "#3 II What are the first ten letters of the second sequence, DNA2?\n",
        "print(DNA2[:10])"
      ],
      "execution_count": 5,
      "outputs": [
        {
          "output_type": "stream",
          "text": [
            "GCGGCGGGGA\n"
          ],
          "name": "stdout"
        }
      ]
    },
    {
      "cell_type": "code",
      "metadata": {
        "colab": {
          "base_uri": "https://localhost:8080/"
        },
        "id": "_MEASFGAWN_E",
        "outputId": "4bab0f1c-b387-4fb2-bcf4-bcd0b2b5a549"
      },
      "source": [
        "#3 III What are the last ten letters of the first sequence, DNA1?\n",
        "print(DNA1[-10:])"
      ],
      "execution_count": 8,
      "outputs": [
        {
          "output_type": "stream",
          "text": [
            "GGGCGACGGC\n"
          ],
          "name": "stdout"
        }
      ]
    },
    {
      "cell_type": "code",
      "metadata": {
        "colab": {
          "base_uri": "https://localhost:8080/"
        },
        "id": "LY8wGwkzWOFt",
        "outputId": "34da1789-70e6-4560-d2ef-1b8dfb248040"
      },
      "source": [
        "#3 IV What are the last ten letters of the second sequence, DNA2?\n",
        "print(DNA2[-10:])"
      ],
      "execution_count": 9,
      "outputs": [
        {
          "output_type": "stream",
          "text": [
            "AGAGGAGCGC\n"
          ],
          "name": "stdout"
        }
      ]
    },
    {
      "cell_type": "code",
      "metadata": {
        "colab": {
          "base_uri": "https://localhost:8080/"
        },
        "id": "njwirWhzWOTT",
        "outputId": "c849a70a-45bb-44a5-d34a-f90bce827331"
      },
      "source": [
        "#3 V Are the last three letters of two sequences the same? (Result should be boolean type)\n",
        "print(DNA1[-3:] == DNA2[-3:])"
      ],
      "execution_count": 10,
      "outputs": [
        {
          "output_type": "stream",
          "text": [
            "False\n"
          ],
          "name": "stdout"
        }
      ]
    },
    {
      "cell_type": "code",
      "metadata": {
        "colab": {
          "base_uri": "https://localhost:8080/"
        },
        "id": "2XKOevqPXXR8",
        "outputId": "b6969374-087a-4eab-d42d-e9c38cb0ffe5"
      },
      "source": [
        "#3 VI Concatenate the last 5 letters of the first sequence and the last 5 letters of the second sequence together?\n",
        "print(DNA1[-5:] + DNA2[-5:])"
      ],
      "execution_count": 14,
      "outputs": [
        {
          "output_type": "stream",
          "text": [
            "ACGGCAGCGC\n"
          ],
          "name": "stdout"
        }
      ]
    },
    {
      "cell_type": "code",
      "metadata": {
        "colab": {
          "base_uri": "https://localhost:8080/"
        },
        "id": "U__2gTf9XYUr",
        "outputId": "1fb8fae7-1254-4ee8-de1e-511e9627d58d"
      },
      "source": [
        "#3 VII How many times does character A appear in the first sequence DNA1? (hint: use .count() method in string type)\n",
        "print(\"DNA1.count(A): \", DNA1.count(\"A\"))"
      ],
      "execution_count": 12,
      "outputs": [
        {
          "output_type": "stream",
          "text": [
            "DNA1.count(A):  15\n"
          ],
          "name": "stdout"
        }
      ]
    },
    {
      "cell_type": "code",
      "metadata": {
        "colab": {
          "base_uri": "https://localhost:8080/"
        },
        "id": "LkUBhl0hVlIz",
        "outputId": "3b39a88a-0c89-47a5-b36d-5fa62a8b7dc3"
      },
      "source": [
        "#3 VIII How many times does character A appear in the second sequence DNA2? (hint: use .count() method in string type)\n",
        "print(\"DNA2.count(A): \", DNA2.count(\"A\"))"
      ],
      "execution_count": 13,
      "outputs": [
        {
          "output_type": "stream",
          "text": [
            "DNA2.count(A):  14\n"
          ],
          "name": "stdout"
        }
      ]
    },
    {
      "cell_type": "code",
      "metadata": {
        "colab": {
          "base_uri": "https://localhost:8080/"
        },
        "id": "kt5B8J8nYdGr",
        "outputId": "c2373217-ef36-456e-e03f-82d4e3b8341e"
      },
      "source": [
        "#4\n",
        "DNA_motifs = ['TTCAT','AATCATGA','CCCG','GGCATT','CACGT']\n",
        "print(\"DNA_motifs: \", DNA_motifs)"
      ],
      "execution_count": 15,
      "outputs": [
        {
          "output_type": "stream",
          "text": [
            "DNA_motifs:  ['TTCAT', 'AATCATGA', 'CCCG', 'GGCATT', 'CACGT']\n"
          ],
          "name": "stdout"
        }
      ]
    },
    {
      "cell_type": "code",
      "metadata": {
        "colab": {
          "base_uri": "https://localhost:8080/"
        },
        "id": "LOeNOT7sYTOO",
        "outputId": "4730f021-188c-4151-feb4-acac1fc4d5a8"
      },
      "source": [
        "#4 I What is the 3rd element of the list 'DNA_motifs'?\n",
        "print(\"3rd element of the list 'DNA_motifs': \", DNA_motifs[2])"
      ],
      "execution_count": 17,
      "outputs": [
        {
          "output_type": "stream",
          "text": [
            "3rd element of the list 'DNA_motifs':  CCCG\n"
          ],
          "name": "stdout"
        }
      ]
    },
    {
      "cell_type": "code",
      "metadata": {
        "colab": {
          "base_uri": "https://localhost:8080/"
        },
        "id": "X0wfSlf0YTWx",
        "outputId": "69194a6a-d3fc-435b-8dce-c0213187e3ba"
      },
      "source": [
        "#4 II What are the first 2 elements of the list 'DNA_motifs'?\n",
        "print(\"first 2 elements of the list 'DNA_motifs': \", DNA_motifs[:2])"
      ],
      "execution_count": 18,
      "outputs": [
        {
          "output_type": "stream",
          "text": [
            "first 2 elements of the list 'DNA_motifs':  ['TTCAT', 'AATCATGA']\n"
          ],
          "name": "stdout"
        }
      ]
    },
    {
      "cell_type": "code",
      "metadata": {
        "colab": {
          "base_uri": "https://localhost:8080/"
        },
        "id": "L1WYrNH2YTcM",
        "outputId": "f29e6642-f074-414c-bf18-735cb7675262"
      },
      "source": [
        "#4 III What are the last 2 elements of the list 'DNA_motifs'?\n",
        "print(\"last 2 elements of the list 'DNA_motifs': \", DNA_motifs[-2:])"
      ],
      "execution_count": 19,
      "outputs": [
        {
          "output_type": "stream",
          "text": [
            "last 2 elements of the list 'DNA_motifs':  ['GGCATT', 'CACGT']\n"
          ],
          "name": "stdout"
        }
      ]
    },
    {
      "cell_type": "code",
      "metadata": {
        "colab": {
          "base_uri": "https://localhost:8080/"
        },
        "id": "wdeIRAVsZTw2",
        "outputId": "fd0d2997-c44f-4ecb-89fb-2e7153a369f7"
      },
      "source": [
        "#5\n",
        "DNA_motifs_length = {'TTCAT':5,'AATCATGA':8,'CCCG':4,'GGCATT':6,'CACGT':5}\n",
        "print(\"DNA_motifs_length : \", DNA_motifs_length)"
      ],
      "execution_count": 20,
      "outputs": [
        {
          "output_type": "stream",
          "text": [
            "DNA_motifs_length :  {'TTCAT': 5, 'AATCATGA': 8, 'CCCG': 4, 'GGCATT': 6, 'CACGT': 5}\n"
          ],
          "name": "stdout"
        }
      ]
    },
    {
      "cell_type": "code",
      "metadata": {
        "id": "jTCfHTyBZT31"
      },
      "source": [
        "#5 I Add a new motif 'CAAT' as a key into the dictionary, and assign its length as a value\n",
        "DNA_motifs_length['CAAT'] = len('CAAT')"
      ],
      "execution_count": 22,
      "outputs": []
    },
    {
      "cell_type": "code",
      "metadata": {
        "colab": {
          "base_uri": "https://localhost:8080/"
        },
        "id": "EJObvPpEZT6b",
        "outputId": "0f8785e6-9102-484b-e435-1b18071bca06"
      },
      "source": [
        "#5 II Print out all the keys in the dictionary\n",
        "print(\"keys in DNA_motifs_length:\", DNA_motifs_length.keys(), \"\\n\")"
      ],
      "execution_count": 23,
      "outputs": [
        {
          "output_type": "stream",
          "text": [
            "keys in DNA_motifs_length: dict_keys(['TTCAT', 'AATCATGA', 'CCCG', 'GGCATT', 'CACGT', 'CAAT']) \n",
            "\n"
          ],
          "name": "stdout"
        }
      ]
    },
    {
      "cell_type": "code",
      "metadata": {
        "colab": {
          "base_uri": "https://localhost:8080/"
        },
        "id": "ssthvKgjZT82",
        "outputId": "65c0d6a0-bc68-4307-992d-41ba940b1c8e"
      },
      "source": [
        "#5 III Print out all the values in the dictionary\n",
        "print(\"values in DNA_motifs_length:\", DNA_motifs_length.values(),\"\\n\")"
      ],
      "execution_count": 24,
      "outputs": [
        {
          "output_type": "stream",
          "text": [
            "values in DNA_motifs_length: dict_values([5, 8, 4, 6, 5, 4]) \n",
            "\n"
          ],
          "name": "stdout"
        }
      ]
    },
    {
      "cell_type": "code",
      "metadata": {
        "colab": {
          "base_uri": "https://localhost:8080/"
        },
        "id": "YZ-0t4-rZUBU",
        "outputId": "2e30e327-61b4-4b3a-b93f-1845b481c1f2"
      },
      "source": [
        "#5 IV Print out all the items in the dictionary\n",
        "print(\"items in DNA_motifs_length:\", DNA_motifs_length.items(),\"\\n\") "
      ],
      "execution_count": 25,
      "outputs": [
        {
          "output_type": "stream",
          "text": [
            "items in DNA_motifs_length: dict_items([('TTCAT', 5), ('AATCATGA', 8), ('CCCG', 4), ('GGCATT', 6), ('CACGT', 5), ('CAAT', 4)]) \n",
            "\n"
          ],
          "name": "stdout"
        }
      ]
    },
    {
      "cell_type": "code",
      "metadata": {
        "colab": {
          "base_uri": "https://localhost:8080/"
        },
        "id": "zA16P7kCZUEc",
        "outputId": "9d14c775-b58b-4176-db5d-92d5f757b060"
      },
      "source": [
        "#5 V Check whether the key 'CCT' already exists in a dictionary\n",
        "if 'CCT' in DNA_motifs_length:\n",
        "  print(\"'CCT' already exists in DNA_motifs_length\")\n",
        "else:\n",
        "  print(\"'CCT' is not exist in DNA_motifs_length\")"
      ],
      "execution_count": 26,
      "outputs": [
        {
          "output_type": "stream",
          "text": [
            "'CCT' is not exist in DNA_motifs_length\n"
          ],
          "name": "stdout"
        }
      ]
    },
    {
      "cell_type": "code",
      "metadata": {
        "colab": {
          "base_uri": "https://localhost:8080/"
        },
        "id": "hiabNmjdZUG6",
        "outputId": "27bd891f-677d-4127-e624-4173139685a7"
      },
      "source": [
        "#6\n",
        "DNA_motifs=['TTCAT','AATCATGA','CCCG','GGCATT','CACGT']\n",
        "print(\"DNA_motifs:\",DNA_motifs)"
      ],
      "execution_count": 27,
      "outputs": [
        {
          "output_type": "stream",
          "text": [
            "DNA_motifs: ['TTCAT', 'AATCATGA', 'CCCG', 'GGCATT', 'CACGT']\n"
          ],
          "name": "stdout"
        }
      ]
    },
    {
      "cell_type": "code",
      "metadata": {
        "colab": {
          "base_uri": "https://localhost:8080/"
        },
        "id": "vQv9XPtDZUJp",
        "outputId": "4124d570-8666-4424-9ef3-9e74049ec868"
      },
      "source": [
        "#6 I\n",
        "for motif in DNA_motifs:\n",
        "  print(\"Length of \", motif, \"is \", len(motif))"
      ],
      "execution_count": 28,
      "outputs": [
        {
          "output_type": "stream",
          "text": [
            "Length of  TTCAT is  5\n",
            "Length of  AATCATGA is  8\n",
            "Length of  CCCG is  4\n",
            "Length of  GGCATT is  6\n",
            "Length of  CACGT is  5\n"
          ],
          "name": "stdout"
        }
      ]
    },
    {
      "cell_type": "code",
      "metadata": {
        "colab": {
          "base_uri": "https://localhost:8080/"
        },
        "id": "XO0NmV5wZUMD",
        "outputId": "87b4f6a8-f46c-487e-c13d-50dcd05ab7a1"
      },
      "source": [
        "#6 II\n",
        "length_motif = []\n",
        "for item in DNA_motifs:\n",
        "  if len(item) > 5:\n",
        "    length_motif.append(item)\n",
        "print(\"length longer than 5 motif:\", length_motif)"
      ],
      "execution_count": 29,
      "outputs": [
        {
          "output_type": "stream",
          "text": [
            "length longer than 5 motif: ['AATCATGA', 'GGCATT']\n"
          ],
          "name": "stdout"
        }
      ]
    },
    {
      "cell_type": "code",
      "metadata": {
        "colab": {
          "base_uri": "https://localhost:8080/"
        },
        "id": "tMZWFg4CZUOs",
        "outputId": "af174138-71c8-436e-88a4-44cb4d1b7a7c"
      },
      "source": [
        "#7 I\n",
        "list = [5,3,2,1]\n",
        "def find_max(lists):\n",
        "  my_max = max(lists)\n",
        "  return my_max\n",
        "print( find_max(list))"
      ],
      "execution_count": 30,
      "outputs": [
        {
          "output_type": "stream",
          "text": [
            "5\n"
          ],
          "name": "stdout"
        }
      ]
    },
    {
      "cell_type": "code",
      "metadata": {
        "colab": {
          "base_uri": "https://localhost:8080/"
        },
        "id": "lvn2HiY7ZURY",
        "outputId": "6426574c-e689-4ce1-9ff3-ce37f47edd53"
      },
      "source": [
        "#7 II\n",
        "list = [5,3,2,1]\n",
        "def find_min(lists):\n",
        "  my_min = min(lists)\n",
        "  return my_min\n",
        "print( find_min(list))"
      ],
      "execution_count": 32,
      "outputs": [
        {
          "output_type": "stream",
          "text": [
            "1\n"
          ],
          "name": "stdout"
        }
      ]
    },
    {
      "cell_type": "code",
      "metadata": {
        "colab": {
          "base_uri": "https://localhost:8080/"
        },
        "id": "OZdfyrYxZUTQ",
        "outputId": "1278ebdc-050b-43a2-c743-bad46e4b6ffe"
      },
      "source": [
        "#7 III\n",
        "list = [5,3,2,1]\n",
        "def get_sum(lists):\n",
        "  my_sum = sum(lists)\n",
        "  return my_sum\n",
        "print(get_sum(list))"
      ],
      "execution_count": 33,
      "outputs": [
        {
          "output_type": "stream",
          "text": [
            "11\n"
          ],
          "name": "stdout"
        }
      ]
    },
    {
      "cell_type": "code",
      "metadata": {
        "id": "ecAiN7n4e2se"
      },
      "source": [
        "def transcribe(seq): \n",
        "  RNA_seq = seq.replace('T', 'U')\n",
        "  ### Define location of start codon (AUG)\n",
        "  start_codon = RNA_seq.find('AUG')\n",
        "  codons = []\n",
        "  for i in range(start_codon, len(RNA_seq), 3): \n",
        "    codon = RNA_seq[i:i + 3]\n",
        "    if len(codon)==3:\n",
        "        codons.append(codon)\n",
        "  return codons\n",
        "translate = { \n",
        "  'UUU':'Phe','UCU':'Ser','UAU':'Tyr','UGU':'Cys',\n",
        "  'UUC':'Phe','UCC':'Ser','UAC':'Tyr','UGC':'Cys',\n",
        "  'UUA':'Leu','UCA':'Ser','UAA':'Stop','UGA':'Stop',\n",
        "  'UUG':'Leu','UCG':'Ser','UAG':'Stop','UGG':'Trp',\n",
        "  'CUU':'Leu','CCU':'Pro','CAU':'His','CGU':'Arg',\n",
        "  'CUC':'Leu','CCC':'Pro','CAC':'His','CGC':'Arg',\n",
        "  'CUA':'Leu','CCA':'Pro','CAA':'Gln','CGA':'Arg',\n",
        "  'CUG':'Leu','CCG':'Pro','CAG':'Gln','CGG':'Arg',\n",
        "  'AUU':'Ile','ACU':'Thr','AAU':'Asn','AGU':'Ser',\n",
        "  'AUC':'Ile','ACC':'Thr','AAC':'Asn','AGC':'Ser',\n",
        "  'AUA':'Ile','ACA':'Thr','AAA':'Lys','AGA':'Arg',\n",
        "  'AUG':'Met','ACG':'Thr','AAG':'Lys','AGG':'Arg',\n",
        "  'GUU':'Val','GCU':'Ala','GAU':'Asp','GGU':'Gly',\n",
        "  'GUC':'Val','GCC':'Ala','GAC':'Asp','GGC':'Gly',\n",
        "  'GUA':'Val','GCA':'Ala','GAA':'Glu','GGA':'Gly',\n",
        "  'GUG':'Val','GCG':'Ala','GAG':'Glu','GGG':'Gly'}\n"
      ],
      "execution_count": 49,
      "outputs": []
    },
    {
      "cell_type": "code",
      "metadata": {
        "id": "VZbcKXLhg8Ur"
      },
      "source": [
        "AA_mapping = {\n",
        "    'Ala':'A', 'Arg':'R','Asn':'N',\n",
        "    'Asp':'D', 'Cys':'C','Gln':'Q',\n",
        "    'Glu':'E', 'Gly':'G','His':'H',\n",
        "    'Ile':'I', 'Leu':'L','Lys':'K',\n",
        "    'Met':'M', 'Phe':'F','Pro':'P',\n",
        "    'Ser':'S', 'Thr':'T','Trp':'W',\n",
        "    'Tyr':'Y','Val':'V'}"
      ],
      "execution_count": 50,
      "outputs": []
    },
    {
      "cell_type": "code",
      "metadata": {
        "id": "_1FHQYY0dB8X"
      },
      "source": [
        " def get_protein_from_DNA(DNA):\n",
        "  protein = ''\n",
        "  mRNA = transcribe(DNA)\n",
        "  for codon in mRNA:\n",
        "    if codon == 'UAA' or codon == 'UAG' or codon == 'UGA':\n",
        "      break\n",
        "    protein = protein + AA_mapping[translate[codon]]\n",
        "  return (protein)"
      ],
      "execution_count": 51,
      "outputs": []
    },
    {
      "cell_type": "code",
      "metadata": {
        "id": "GuY0hsZVgz1D"
      },
      "source": [
        "DNA1 = 'CCAGGGGAGGTTCCTGAACAACACGGAGCTGCAGGCGGCGAACGGGAGGTTCCAGAGGGCGACGGC'\n",
        "DNA2 = 'GCGGCGGGGAGGTTCCCGAGCGGGAGCGACCTGGAGAGCGTGCAGGGGAACATACAGAGGAGCGC'"
      ],
      "execution_count": 52,
      "outputs": []
    },
    {
      "cell_type": "code",
      "metadata": {
        "colab": {
          "base_uri": "https://localhost:8080/",
          "height": 35
        },
        "id": "D9gOMIo5e2vC",
        "outputId": "89b224f9-cc0a-40b5-82ca-663f8c8e04be"
      },
      "source": [
        "get_protein_from_DNA(DNA1)"
      ],
      "execution_count": 53,
      "outputs": [
        {
          "output_type": "execute_result",
          "data": {
            "application/vnd.google.colaboratory.intrinsic+json": {
              "type": "string"
            },
            "text/plain": [
              "'RGGS'"
            ]
          },
          "metadata": {
            "tags": []
          },
          "execution_count": 53
        }
      ]
    },
    {
      "cell_type": "code",
      "metadata": {
        "colab": {
          "base_uri": "https://localhost:8080/",
          "height": 35
        },
        "id": "GKkOztMuhDAB",
        "outputId": "e5b62885-7f99-4faf-e09d-fe2dc0cb9c36"
      },
      "source": [
        "get_protein_from_DNA(DNA2)"
      ],
      "execution_count": 54,
      "outputs": [
        {
          "output_type": "execute_result",
          "data": {
            "application/vnd.google.colaboratory.intrinsic+json": {
              "type": "string"
            },
            "text/plain": [
              "'GGEVPERERPGERAGEHTEER'"
            ]
          },
          "metadata": {
            "tags": []
          },
          "execution_count": 54
        }
      ]
    }
  ]
}