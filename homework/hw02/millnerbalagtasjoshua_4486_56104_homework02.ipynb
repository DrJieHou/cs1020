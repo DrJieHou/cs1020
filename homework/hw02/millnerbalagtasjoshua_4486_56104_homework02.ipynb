{
  "nbformat": 4,
  "nbformat_minor": 0,
  "metadata": {
    "colab": {
      "name": "homework02.ipynb",
      "provenance": []
    },
    "kernelspec": {
      "name": "python3",
      "display_name": "Python 3"
    }
  },
  "cells": [
    {
      "cell_type": "markdown",
      "metadata": {
        "id": "FETCu6Rn4SXp",
        "colab_type": "text"
      },
      "source": [
        "Assume that we have one DNA sequence that has a string as \n",
        "\n",
        "'GTTGATGTAGCTTATATAAAGCAAGGCACTGAAAATGCCTAGATGAGTCATAGACTCCATAAACAACAGGTTTGGTCCCGGCCTTTTTATTAGCTGTCTGCAGGATTATACATGCAAAAATCCCTACACCGGTGAGAATGCCCTATGTACCACACTCAGGTTTAAAGGAGCAGACATCAAGCACACTGCTAAGTAGCTCACGACGTCTTGCTT' \n",
        "which is comprised of four nucleotides (e.g. A, T, C, G). We would like to define a variable called 'DNA', and assign the sequence to this variable. Then we need to print the variable by print(\"DNA: \", DNA)\n",
        "Please write your python codes for this activity.\n",
        "\n",
        "How long is this sequence?\n",
        "What is the first letter of the sequence?\n",
        "What is the last letter of the sequence?\n",
        "What are the first 10 characters of the sequence?\n",
        "What are the last 10 characters of the sequence?\n",
        "How many times does the character 'C' appear in the sequence?\n",
        "What is the index at which the first occurrence of the pattern CCAAT begins?"
      ]
    },
    {
      "cell_type": "code",
      "metadata": {
        "id": "Ta9kWPSD3Dk-",
        "colab_type": "code",
        "colab": {
          "base_uri": "https://localhost:8080/",
          "height": 70
        },
        "outputId": "739e31b9-3846-4ad2-d1f0-dd3d91ae1e1c"
      },
      "source": [
        "DNA = 'GTTGATGTAGCTTATATAAAGCAAGGCACTGAAAATGCCTAGATGAGTCATAGACTCCATAAACAACAGGTTTGGTCCCGGCCTTTTTATTAGCTGTCTGCAGGATTATACATGCAAAAATCCCTACACCGGTGAGAATGCCCTATGTACCACACTCAGGTTTAAAGGAGCAGACATCAAGCACACTGCTAAGTAGCTCACGACGTCTTGCTT'\n",
        "DNA_List = ['G', 'T', 'T', 'G', 'A', 'T', 'G', 'T', 'A', 'G', 'C', 'T', 'T', 'A', 'T', 'A', 'T', 'A', 'A', 'A', 'G', 'C', 'A', 'A', 'G', 'G', 'C', 'A', 'C', 'T', 'G', 'A', 'A', 'A', 'A', 'T', 'G', 'C', 'C', 'T', 'A', 'G', 'A', 'T', 'G','A', 'G', 'T', 'C', 'A', 'T', 'A', 'G', 'A', 'C', 'T', 'C', 'C', 'A', 'T', 'A', 'A', 'A', 'C', 'A', 'A', 'C', 'A', 'G', 'G', 'T', 'T', 'T', 'G', 'G', 'T', 'C', 'C', 'C', 'G', 'G', 'C', 'C', 'T', 'T', 'T', 'T', 'T', 'A', 'T', 'T', 'A', 'G', 'C', 'T', 'G', 'T', 'C', 'T', 'G', 'C', 'A', 'G', 'G', 'A', 'T', 'A', 'T', 'A', 'C', 'A', 'T', 'G', 'C', 'A', 'A', 'A', 'A', 'A', 'T', 'C', 'C', 'C', 'T', 'A',  'C', 'A', 'C', 'C', 'G', 'G', 'T', 'G', 'A', 'G', 'A', 'A', 'T', 'G', 'C', 'C', 'C','T' , 'A', 'T', 'G', 'T', 'A', 'C', 'C', 'A', 'C', 'A', 'C', 'T', 'C', 'A', 'G', 'G', 'T', 'T', 'T', 'A', 'A', 'A', 'G', 'G', 'A', 'G', 'C', 'A', 'G', 'A', 'C', 'A', 'T', 'C', 'A', 'A', 'G', 'C','A', 'C', 'A', 'C', 'T', 'G', 'C', 'T', 'A', 'A', 'G', 'T', 'A', 'G', 'C', 'T', 'C', 'A', 'C', 'G', 'A', 'C', 'G', 'T', 'C', 'T', 'T', 'G', 'C', 'T', 'T'] \n",
        "print(\"DNA:\", DNA)\n",
        "\n",
        "#I \n",
        "len(DNA)\n",
        "\n",
        "#II\n",
        "DNA[:1]\n",
        "\n",
        "#III\n",
        "DNA[212:]\n",
        "\n",
        "#IV\n",
        "DNA[:10]\n",
        "\n",
        "#V\n",
        "DNA[203:]\n",
        "\n",
        "#VI\n",
        "DNA.count('C')\n",
        "\n",
        "#VII\n",
        "result = DNA.index('CCAAT')\n",
        "print(result)"
      ],
      "execution_count": null,
      "outputs": [
        {
          "output_type": "stream",
          "text": [
            "DNA: GTTGATGTAGCTTATATAAAGCAAGGCACTGAAAATGCCTAGATGAGTCATAGACTCCATAAACAACAGGTTTGGTCCCGGCCTTTTTATTAGCTGTCTGCAGGATTATACATGCAAAAATCCCTACACCGGTGAGAATGCCCTATGTACCACACTCAGGTTTAAAGGAGCAGACATCAAGCACACTGCTAAGTAGCTCACGACGTCTTGCTT\n"
          ],
          "name": "stdout"
        },
        {
          "output_type": "execute_result",
          "data": {
            "text/plain": [
              "49"
            ]
          },
          "metadata": {
            "tags": []
          },
          "execution_count": 104
        }
      ]
    },
    {
      "cell_type": "markdown",
      "metadata": {
        "id": "FdQVHoaJ6ae8",
        "colab_type": "text"
      },
      "source": [
        "To check if two Python values, or variables, are equal you can use ==. To check for inequality, you need !=.  As a refresher, have a look at the following examples that all result in True. Feel free to try them out in the Notebook.\n",
        "\n",
        "2 == (1 + 1)\n",
        "\"intermediate\" != \"python\"\n",
        "True != False\n",
        "\"Python\" != \"python\"\n",
        "In the notebook, you need to wrap a print() (Links to an external site.) function around them to see the output.\n",
        "\n",
        "Based on the sequence defined in Q1, write codes to see if the first 10 characters of the sequence and the last 10 characters of the sequence are equal.\n",
        "\n",
        "Write Python code to check if the number of the character 'C' is equal to the number of the character 'A' in the DNA sequence."
      ]
    },
    {
      "cell_type": "code",
      "metadata": {
        "id": "LnIsdJNV6eow",
        "colab_type": "code",
        "colab": {
          "base_uri": "https://localhost:8080/",
          "height": 50
        },
        "outputId": "81024dcf-2a46-47b4-dd8f-41d22d09678e"
      },
      "source": [
        "#I\n",
        "print(DNA[:10] == DNA[203:])\n",
        "\n",
        "#II\n",
        "print(\"C\" == \"A\")"
      ],
      "execution_count": null,
      "outputs": [
        {
          "output_type": "stream",
          "text": [
            "False\n",
            "False\n"
          ],
          "name": "stdout"
        }
      ]
    },
    {
      "cell_type": "markdown",
      "metadata": {
        "id": "kKFu99yE8pmi",
        "colab_type": "text"
      },
      "source": [
        "In the python,  the comparison operators also include the less than and greater than signs, < and > in Python. You can combine them with an equals sign: <= and =>. Pay attention: <= is valid syntax, but =< is not. All Python expressions in the following code chunk evaluate to True:\n",
        "\n",
        "3 < 4\n",
        "3 <= 4\n",
        "In the notebook, you need to wrap a print() (Links to an external site.) function around them to see the output.\n",
        "\n",
        "Write Python code to check if the number of the character 'C'  is greater than or equal to the number of the character 'A' in the DNA sequence.\n",
        "\n",
        "Write Python code to check if the index at which the first occurrence of the letter 'C' is greater than the index at which the first occurrence of the letter 'A'."
      ]
    },
    {
      "cell_type": "code",
      "metadata": {
        "id": "6hPN1Pn49PSc",
        "colab_type": "code",
        "colab": {
          "base_uri": "https://localhost:8080/",
          "height": 50
        },
        "outputId": "d55a64b6-ebbf-4989-8b5e-681c9e658eb1"
      },
      "source": [
        "#I\n",
        "print(\"C\" >= \"A\")\n",
        "\n",
        "#II\n",
        "print(DNA.index('C') > DNA.index('A'))"
      ],
      "execution_count": null,
      "outputs": [
        {
          "output_type": "stream",
          "text": [
            "True\n",
            "True\n"
          ],
          "name": "stdout"
        }
      ]
    },
    {
      "cell_type": "markdown",
      "metadata": {
        "id": "3RV79ain9VC6",
        "colab_type": "text"
      },
      "source": [
        "A boolean is True or False. With boolean operators such as and, or and not, you can combine these booleans to perform more advanced queries on your data.\n",
        "\n",
        "In the notebook, you need to wrap a print() (Links to an external site.) function around them to see the output.\n",
        "\n",
        "Write Python code to check if the number of the character 'C'  is greater than the number of the character 'A'  and smaller than the number of the character 'G' in the DNA sequence.\n",
        "\n",
        "Write Python code to check if the number of the character 'C'  is greater than the number of the character 'A'  or smaller than the number of the character 'G' in the DNA sequence.\n",
        "\n",
        "Suppose  we have variables x = 8  and y = 9, what will the result be if you execute the command not(not(x < 3) and not(y > 14 or y > 10))  in the notebook?   Note: not has higher precedence than and  and or."
      ]
    },
    {
      "cell_type": "code",
      "metadata": {
        "id": "4WFeeMwD9Zck",
        "colab_type": "code",
        "colab": {
          "base_uri": "https://localhost:8080/",
          "height": 128
        },
        "outputId": "d550b202-ba3e-4b16-bd04-45fbb34b2c42"
      },
      "source": [
        "#I\n",
        "print(\"A\" < \"C\" and \"C\" < \"G\")\n",
        "\n",
        "#II\n",
        "print(\"C\" > \"A\" or \"C\" < \"G\")\n",
        "\n",
        "#III\n",
        "x = 8\n",
        "y = 9\n",
        "\n",
        "print(not(not(x < 3))\n",
        "\n",
        "not(y > 14 or y > 10)"
      ],
      "execution_count": null,
      "outputs": [
        {
          "output_type": "error",
          "ename": "SyntaxError",
          "evalue": "ignored",
          "traceback": [
            "\u001b[0;36m  File \u001b[0;32m\"<ipython-input-27-42714182aad9>\"\u001b[0;36m, line \u001b[0;32m13\u001b[0m\n\u001b[0;31m    print(not(y > 14 or y > 10))\u001b[0m\n\u001b[0m        ^\u001b[0m\n\u001b[0;31mSyntaxError\u001b[0m\u001b[0;31m:\u001b[0m invalid syntax\n"
          ]
        }
      ]
    },
    {
      "cell_type": "markdown",
      "metadata": {
        "id": "UUwpBh6m9ZrT",
        "colab_type": "text"
      },
      "source": [
        "To experiment with if and else a bit, have a look at this code sample:\n",
        "\n",
        "area = 10.0\n",
        "if(area < 9) :\n",
        "    print(\"small\")\n",
        "elif(area < 12) :\n",
        "    print(\"medium\")\n",
        "else :\n",
        "    print(\"large\")\n",
        "What will the output be if you run this piece of code in the notebook?\n",
        "\n",
        "Use if, elif and else, check the length of DNA sequence in Q1 with the following conditions: if the length is shorter than 100, print 'the DNA sequence is short.', otherwise if the length is shorter than 500, print \"the DNA sequence is medium\", otherwise, print \"the length is long\"."
      ]
    },
    {
      "cell_type": "code",
      "metadata": {
        "id": "TWIZoQK_9eFc",
        "colab_type": "code",
        "colab": {
          "base_uri": "https://localhost:8080/",
          "height": 50
        },
        "outputId": "23a6a7e7-f782-4656-9757-cf13a8c1bbfd"
      },
      "source": [
        "#I\n",
        "area = 10.0\n",
        "if(area < 9) :\n",
        "    print(\"small\")\n",
        "elif(area < 12) :\n",
        "    print(\"medium\")\n",
        "else :\n",
        "    print(\"large\")\n",
        "\n",
        "#II\n",
        "if len(DNA) < 100:\n",
        "  print(\"The DNA sequence is short\")\n",
        "elif len(DNA) < 500:\n",
        "  print(\"The DNA sequence is medium\")\n",
        "else:\n",
        "  print(\"The length is long\")"
      ],
      "execution_count": null,
      "outputs": [
        {
          "output_type": "stream",
          "text": [
            "medium\n",
            "The DNA sequence is medium\n"
          ],
          "name": "stdout"
        }
      ]
    },
    {
      "cell_type": "markdown",
      "metadata": {
        "id": "nJqHc3l-9eLo",
        "colab_type": "text"
      },
      "source": [
        "The while loop is like a repeated if statement. The code is executed over and over again, as long as the condition is True. Have another look at its recipe.\n",
        "\n",
        "while condition :\n",
        "    expression\n",
        "have a look at this code sample: \n",
        "\n",
        "x = 1\n",
        "while x < 4 :\n",
        "    print(x)\n",
        "    x = x + 1\n",
        "Can you tell how many printouts the above while loop will do?\n",
        "\n",
        "Use while loop, keep printing the letters from left to right in the DNA sequence until you reach the letter 'C'. Note: recall how the keyword break or continue works."
      ]
    },
    {
      "cell_type": "code",
      "metadata": {
        "id": "ycKeQXY69hMs",
        "colab_type": "code",
        "colab": {
          "base_uri": "https://localhost:8080/",
          "height": 252
        },
        "outputId": "bdb620ce-a061-4b0c-b7d1-c7c83fcbb191"
      },
      "source": [
        "#I\n",
        "x = 1\n",
        "while x < 4 :\n",
        "    print(x)\n",
        "    x = x + 1\n",
        "\n",
        "#II\n",
        "x = 0\n",
        "\n",
        "while DNA[x] != \"C\":\n",
        "  print(DNA[x])\n",
        "  x= x + 1\n",
        "if DNA[x] == \"C\":\n",
        "  print(\"Found C\")"
      ],
      "execution_count": null,
      "outputs": [
        {
          "output_type": "stream",
          "text": [
            "1\n",
            "2\n",
            "3\n",
            "G\n",
            "T\n",
            "T\n",
            "G\n",
            "A\n",
            "T\n",
            "G\n",
            "T\n",
            "A\n",
            "G\n",
            "Found C\n"
          ],
          "name": "stdout"
        }
      ]
    },
    {
      "cell_type": "markdown",
      "metadata": {
        "id": "oQ5xMEvz9hTL",
        "colab_type": "text"
      },
      "source": [
        "have a look at this code sample: \n",
        "\n",
        "course_ids= ['CSCI1020', 'CSCI1030', 'CSCI1070']\n",
        "for id in course_ids: \n",
        "    print(id)\n",
        "As usual, you simply have to indent the code with 4 spaces to tell Python which code should be executed in the for loop.\n",
        "\n",
        "The course_ids variable, containing the ids of different courses in the Computer Science Department, is already defined.\n",
        "\n",
        "Write a for loop that goes through each element of course_ids. On each iteration, \"the course id is x\" should be printed out, where x is the id value in this iteration.\n",
        "\n",
        "Use for loop, keep printing the letters from left to right in the DNA sequence until you reach the letter 'C'.  Note: recall how the keyword break or continue works.\n",
        "\n",
        "Note well that we do an index-based loop with for ind in range(0,length). As a sanity check, if the dna has length 5, given for ind in range(0,5), we will test five elements: dna[0], dna[1],  dna[2],  dna[3],  and dna[4]."
      ]
    },
    {
      "cell_type": "code",
      "metadata": {
        "id": "m31Jb3m79kMP",
        "colab_type": "code",
        "colab": {
          "base_uri": "https://localhost:8080/",
          "height": 269
        },
        "outputId": "f1bba0b2-92a2-427f-f17c-af76d0c15975"
      },
      "source": [
        "#course_ids= ['CSCI1020', 'CSCI1030', 'CSCI1070']\n",
        "#for id in course_ids: \n",
        "  #  print(id)\n",
        "\n",
        "#I\n",
        "for id in course_ids:\n",
        "  print(\"the course id is:\", id)\n",
        "\n",
        "#II\n",
        "for nucleotide in DNA:\n",
        "  print(nucleotide)\n",
        "  if nucleotide == \"C\":\n",
        "    print(\"DONE\")\n",
        "    break"
      ],
      "execution_count": null,
      "outputs": [
        {
          "output_type": "stream",
          "text": [
            "the course id is: CSCI1020\n",
            "the course id is: CSCI1030\n",
            "the course id is: CSCI1070\n",
            "G\n",
            "T\n",
            "T\n",
            "G\n",
            "A\n",
            "T\n",
            "G\n",
            "T\n",
            "A\n",
            "G\n",
            "C\n",
            "DONE\n"
          ],
          "name": "stdout"
        }
      ]
    },
    {
      "cell_type": "markdown",
      "metadata": {
        "id": "M1l0hmX29kVx",
        "colab_type": "text"
      },
      "source": [
        "In Python, you need the items() (Links to an external site.) method to loop over a dictionary:\n",
        "\n",
        "CS_courses= { \"CSCI1020\":\"Intro to bioinformatics\", \n",
        "          \"CSCI1030\":'Intro to Game Design',\n",
        "          \"CSCI1070\":'Intro  to Big Data' }\n",
        "\n",
        "for key, value in world.items() :\n",
        "    print(key + \" -- \" + str(value))\n",
        "Remember the CS_courses dictionary that contained the names of some course ids as key and their course names as corresponding value? Go ahead and write a loop to iterate over it\n",
        "\n",
        "Write a for loop that goes through each key:value pair of CS_courses. On each iteration, \"the course name of x is y\" should be printed out, where x is the key and y is the value of the pair."
      ]
    },
    {
      "cell_type": "code",
      "metadata": {
        "id": "JSEOhbfI9l5n",
        "colab_type": "code",
        "colab": {
          "base_uri": "https://localhost:8080/",
          "height": 67
        },
        "outputId": "09acbb8c-ef6b-4921-db2c-7b6bee130279"
      },
      "source": [
        "CS_courses= { \"CSCI1020\":\"Intro to bioinformatics\", \n",
        "          \"CSCI1030\":'Intro to Game Design',\n",
        "          \"CSCI1070\":'Intro  to Big Data' }\n",
        "\n",
        "for key, value in CS_courses.items() :\n",
        "  x = key\n",
        "  y = value\n",
        "  print(\"The course name of\", x, \"is\", y)\n"
      ],
      "execution_count": null,
      "outputs": [
        {
          "output_type": "stream",
          "text": [
            "The course name of CSCI1020 is Intro to bioinformatics\n",
            "The course name of CSCI1030 is Intro to Game Design\n",
            "The course name of CSCI1070 is Intro  to Big Data\n"
          ],
          "name": "stdout"
        }
      ]
    },
    {
      "cell_type": "markdown",
      "metadata": {
        "id": "p8PM9Y6P9l_f",
        "colab_type": "text"
      },
      "source": [
        "A list can contain any Python type. But a list itself is also a Python type. That means that a list can also contain a list!  The list has the syntax:\n",
        "\n",
        "my_list = [el1, el2, el3]\n",
        "Can you tell which ones of the following lines of Python code are valid ways to build a list? Use type() function to valid them.\n",
        "A. [1, 3, 4, 2]   B. [[1, 2, 3], [4, 5, 7]]    C. [1 + 2, \"a\" * 5, 3]"
      ]
    },
    {
      "cell_type": "code",
      "metadata": {
        "id": "btiT2Hx59n9I",
        "colab_type": "code",
        "colab": {
          "base_uri": "https://localhost:8080/",
          "height": 67
        },
        "outputId": "2abd6004-db13-4cba-a861-f56e0f6b3acf"
      },
      "source": [
        "#I\n",
        "Test_List1 = [1, 3, 4, 2]\n",
        "print(type(Test_List1))\n",
        "\n",
        "#II\n",
        "Test_List2 = [[1, 2, 3], [4, 5, 7]]\n",
        "print(type(Test_List2))\n",
        "\n",
        "#III\n",
        "Test_List3 = [1 + 2, \"a\" * 5, 3]\n",
        "print(type(Test_List3))"
      ],
      "execution_count": null,
      "outputs": [
        {
          "output_type": "stream",
          "text": [
            "<class 'list'>\n",
            "<class 'list'>\n",
            "<class 'list'>\n"
          ],
          "name": "stdout"
        }
      ]
    },
    {
      "cell_type": "markdown",
      "metadata": {
        "id": "zIjDymRS9oB8",
        "colab_type": "text"
      },
      "source": [
        "According to the DNA sequence defined in Q1, write your Python codes to answer the following questions:\n",
        "\n",
        " \n",
        "\n",
        "1. How often is a letter followed immediately by the same letter in the DNA sequence?\n",
        "\n",
        "Note well that we do an index-based loop but with range(len(dna)-1). As a sanity check, if the dna has length 5, we only need to test four pairs of neighbors, and thus compare dna[0] to dna[1], dna[1] to dna[2], dna[2] to dna[3], and dna[3] to dna[4].\n",
        "\n",
        " \n",
        "\n",
        "2. If two consecutive nucleotides match each other, how often is the next nucleotide that same nucleotide?\n",
        "\n",
        " \n",
        "\n",
        "3. How many times does a motif of the form CC?AT occur within the sequence? (where ? could be anything)\n",
        "\n",
        " \n",
        "\n",
        "4. When the motif CC?AT does occur, what percentage of the time is the middle nucleotide an A? (A so-called cat box CCAAT)"
      ]
    },
    {
      "cell_type": "code",
      "metadata": {
        "id": "QfKc1JK9ft_i",
        "colab_type": "code",
        "colab": {
          "base_uri": "https://localhost:8080/",
          "height": 118
        },
        "outputId": "a7d38f18-6231-43d0-86e6-22c86d5bf80e"
      },
      "source": [
        "#1\n",
        "print(type(DNA))\n",
        "for nucleotide in DNA:\n",
        "  range(len(DNA)-1)\n",
        "  x = x\n",
        "  y = x + 1\n",
        "  if DNA.find('TT') and DNA.find('AA') and DNA.find('GG') and DNA.find('CC') >=0:\n",
        "    print(DNA.count('TT'))\n",
        "    print(DNA.count('AA'))\n",
        "    print(DNA.count('GG'))\n",
        "    print(DNA.count('CC'))\n",
        "    break\n",
        "total = DNA.count('TT') + DNA.count('AA') + DNA.count('GG') + DNA.count('CC')\n",
        "print(total)\n",
        "  \n"
      ],
      "execution_count": null,
      "outputs": [
        {
          "output_type": "stream",
          "text": [
            "<class 'str'>\n",
            "10\n",
            "12\n",
            "8\n",
            "8\n",
            "38\n"
          ],
          "name": "stdout"
        }
      ]
    },
    {
      "cell_type": "markdown",
      "metadata": {
        "id": "GbOI1WLdPW7r",
        "colab_type": "text"
      },
      "source": [
        "2. If two consecutive nucleotides match each other, how often is the next nucleotide that same nucleotide?"
      ]
    },
    {
      "cell_type": "code",
      "metadata": {
        "id": "qR-DdfgQAfTq",
        "colab_type": "code",
        "colab": {}
      },
      "source": [
        "#2\n",
        "for nucleotide in DNA:\n",
        "  range(len(DNA)-1)\n",
        "  x = 0\n",
        "  y = x + 1\n",
        "  if DNA[x] == DNA[y]:\n",
        "    print(DNA.index(''))\n",
        "  elif DNA[x] != DNA[y]]"
      ],
      "execution_count": null,
      "outputs": []
    },
    {
      "cell_type": "markdown",
      "metadata": {
        "id": "lJSyOz_5QmDM",
        "colab_type": "text"
      },
      "source": [
        "3. How many times does a motif of the form CC?AT occur within the sequence? (where ? could be anything)"
      ]
    },
    {
      "cell_type": "code",
      "metadata": {
        "id": "YdDJsYCIQpOB",
        "colab_type": "code",
        "colab": {}
      },
      "source": [
        "#3\n",
        "for motif in DNA:\n",
        "    if DNA.find('CCCAT') >=0:\n",
        "      print(DNA.count('CCCAT'))\n",
        "    elif DNA.find('CCGAT') >=0:\n",
        "      print(DNA.count('CCGAT'))\n",
        "    elif DNA.find('CCTAT') >=0:\n",
        "      print(DNA.count('CCTAT'))\n",
        "    elif DNA.find('CCAAT') >=0:\n",
        "      print(DNA.count('CCAAT'))\n",
        "#There is only 1 instance of CC?AT and it is CCTAT which appears once in this sequence.\n"
      ],
      "execution_count": null,
      "outputs": []
    },
    {
      "cell_type": "markdown",
      "metadata": {
        "id": "XDGH9YEbQp9r",
        "colab_type": "text"
      },
      "source": [
        "4. When the motif CC?AT does occur, what percentage of the time is the middle nucleotide an A? (A so-called cat box CCAAT)"
      ]
    },
    {
      "cell_type": "code",
      "metadata": {
        "id": "yR1bLGsNRlZq",
        "colab_type": "code",
        "colab": {
          "base_uri": "https://localhost:8080/",
          "height": 34
        },
        "outputId": "6a2b59a8-49ae-4980-8363-5cfa373c6c67"
      },
      "source": [
        "#4\n",
        "for motif in DNA:\n",
        "  if DNA.find('CCAAT') >=0:\n",
        "    print('Found the Cat Box')\n",
        "  else:\n",
        "    print('0%')\n",
        "    break"
      ],
      "execution_count": null,
      "outputs": [
        {
          "output_type": "stream",
          "text": [
            "0%\n"
          ],
          "name": "stdout"
        }
      ]
    }
  ]
}