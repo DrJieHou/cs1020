{
  "nbformat": 4,
  "nbformat_minor": 0,
  "metadata": {
    "colab": {
      "name": "Homework02.ipynb",
      "provenance": []
    },
    "kernelspec": {
      "name": "python3",
      "display_name": "Python 3"
    }
  },
  "cells": [
    {
      "cell_type": "code",
      "metadata": {
        "id": "FjkqNz9ZijLM",
        "colab_type": "code",
        "colab": {}
      },
      "source": [
        "# Q1: Assume that we have one DNA sequence that has a string as \n",
        "\n",
        "'GTTGATGTAGCTTATATAAAGCAAGGCACTGAAAATGCCTAGATGAGTCATAGACTCCATAAACAACAGGTTTGGTCCCGGCCTTTTTATTAGCTGTCTGCAGGATTATACATGCAAAAATCCCTACACCGGTGAGAATGCCCTATGTACCACACTCAGGTTTAAAGGAGCAGACATCAAGCACACTGCTAAGTAGCTCACGACGTCTTGCTT' \n",
        "which is comprised of four nucleotides (e.g. A, T, C, G). We would like to define a variable called 'DNA', and assign the sequence to this variable. Then we need to print the variable by print(\"DNA: \", DNA) \n",
        "# Please write your python codes for this activity."
      ],
      "execution_count": null,
      "outputs": []
    },
    {
      "cell_type": "code",
      "metadata": {
        "id": "xFJOh0x644v1",
        "colab_type": "code",
        "colab": {
          "base_uri": "https://localhost:8080/",
          "height": 94
        },
        "outputId": "0b417aaf-b8b2-45ae-f597-0157a3dbaf8e"
      },
      "source": [
        "DNA = 'GTTGATGTAGCTTATATAAAGCAAGGCACTGAAAATGCCTAGATGAGTCATAGACTCCATAAACAACAGGTTTGGTCCCGGCCTTTTTATTAGCTGTCTGCAGGATTATACATGCAAAAATCCCTACACCGGTGAGAATGCCCTATGTACCACACTCAGGTTTAAAGGAGCAGACATCAAGCACACTGCTAAGTAGCTCACGACGTCTTGCTT'\n",
        "print(\"DNA:\", DNA)"
      ],
      "execution_count": 1,
      "outputs": [
        {
          "output_type": "stream",
          "text": [
            "DNA: GTTGATGTAGCTTATATAAAGCAAGGCACTGAAAATGCCTAGATGAGTCATAGACTCCATAAACAACAGGTTTGGTCCCGGCCTTTTTATTAGCTGTCTGCAGGATTATACATGCAAAAATCCCTACACCGGTGAGAATGCCCTATGTACCACACTCAGGTTTAAAGGAGCAGACATCAAGCACACTGCTAAGTAGCTCACGACGTCTTGCTT\n"
          ],
          "name": "stdout"
        }
      ]
    },
    {
      "cell_type": "code",
      "metadata": {
        "id": "x2JDx31rVDDJ",
        "colab_type": "code",
        "colab": {}
      },
      "source": [
        "# 1. How long is this sequence?"
      ],
      "execution_count": null,
      "outputs": []
    },
    {
      "cell_type": "code",
      "metadata": {
        "id": "72C1orLb5T9l",
        "colab_type": "code",
        "colab": {
          "base_uri": "https://localhost:8080/",
          "height": 34
        },
        "outputId": "6cd675e0-83f8-4c74-acbd-33bac5a18d01"
      },
      "source": [
        "DNA_length = len(DNA)\n",
        "print(DNA_length)"
      ],
      "execution_count": 2,
      "outputs": [
        {
          "output_type": "stream",
          "text": [
            "213\n"
          ],
          "name": "stdout"
        }
      ]
    },
    {
      "cell_type": "code",
      "metadata": {
        "id": "HngHJdDIVR6q",
        "colab_type": "code",
        "colab": {}
      },
      "source": [
        "# 2. What is the first letter of the sequence?"
      ],
      "execution_count": null,
      "outputs": []
    },
    {
      "cell_type": "code",
      "metadata": {
        "id": "r5r1htwT5b9h",
        "colab_type": "code",
        "colab": {
          "base_uri": "https://localhost:8080/",
          "height": 37
        },
        "outputId": "a906841e-fe11-4972-dff4-16e4993f4177"
      },
      "source": [
        "(DNA)[0]"
      ],
      "execution_count": 3,
      "outputs": [
        {
          "output_type": "execute_result",
          "data": {
            "application/vnd.google.colaboratory.intrinsic+json": {
              "type": "string"
            },
            "text/plain": [
              "'G'"
            ]
          },
          "metadata": {
            "tags": []
          },
          "execution_count": 3
        }
      ]
    },
    {
      "cell_type": "code",
      "metadata": {
        "id": "uq6T3lL8VUmw",
        "colab_type": "code",
        "colab": {}
      },
      "source": [
        "# 3. What is the last letter of the sequence?"
      ],
      "execution_count": 4,
      "outputs": []
    },
    {
      "cell_type": "code",
      "metadata": {
        "id": "jXLOcOFE5hVz",
        "colab_type": "code",
        "colab": {
          "base_uri": "https://localhost:8080/",
          "height": 37
        },
        "outputId": "65f3f437-9682-4a1f-de6a-0f446fc56f38"
      },
      "source": [
        "(DNA)[212]"
      ],
      "execution_count": null,
      "outputs": [
        {
          "output_type": "execute_result",
          "data": {
            "application/vnd.google.colaboratory.intrinsic+json": {
              "type": "string"
            },
            "text/plain": [
              "'T'"
            ]
          },
          "metadata": {
            "tags": []
          },
          "execution_count": 25
        }
      ]
    },
    {
      "cell_type": "code",
      "metadata": {
        "id": "Bzz_t_7MVW7X",
        "colab_type": "code",
        "colab": {}
      },
      "source": [
        "# 4. What are the first 10 characters of the sequence?"
      ],
      "execution_count": 5,
      "outputs": []
    },
    {
      "cell_type": "code",
      "metadata": {
        "id": "Ty6PKALk5mO5",
        "colab_type": "code",
        "colab": {
          "base_uri": "https://localhost:8080/",
          "height": 37
        },
        "outputId": "9cbfbbb4-768f-4b2d-cc90-77fcb25254d3"
      },
      "source": [
        "(DNA)[:10]"
      ],
      "execution_count": 6,
      "outputs": [
        {
          "output_type": "execute_result",
          "data": {
            "application/vnd.google.colaboratory.intrinsic+json": {
              "type": "string"
            },
            "text/plain": [
              "'GTTGATGTAG'"
            ]
          },
          "metadata": {
            "tags": []
          },
          "execution_count": 6
        }
      ]
    },
    {
      "cell_type": "code",
      "metadata": {
        "id": "llWgSw85VZFj",
        "colab_type": "code",
        "colab": {}
      },
      "source": [
        "# 5. What are the last 10 characters of the sequence?"
      ],
      "execution_count": null,
      "outputs": []
    },
    {
      "cell_type": "code",
      "metadata": {
        "id": "f9spGou25zXD",
        "colab_type": "code",
        "colab": {
          "base_uri": "https://localhost:8080/",
          "height": 37
        },
        "outputId": "e99c1990-7523-4bd9-8745-119a83ce47f1"
      },
      "source": [
        "(DNA)[203:]"
      ],
      "execution_count": 7,
      "outputs": [
        {
          "output_type": "execute_result",
          "data": {
            "application/vnd.google.colaboratory.intrinsic+json": {
              "type": "string"
            },
            "text/plain": [
              "'CGTCTTGCTT'"
            ]
          },
          "metadata": {
            "tags": []
          },
          "execution_count": 7
        }
      ]
    },
    {
      "cell_type": "code",
      "metadata": {
        "id": "2zGtTZvnVb4L",
        "colab_type": "code",
        "colab": {}
      },
      "source": [
        "# 6. How many times does the character 'C' appear in the sequence?"
      ],
      "execution_count": null,
      "outputs": []
    },
    {
      "cell_type": "code",
      "metadata": {
        "id": "vDmWVhq85_qz",
        "colab_type": "code",
        "colab": {
          "base_uri": "https://localhost:8080/",
          "height": 34
        },
        "outputId": "77bcee7d-6890-461e-9eb6-2d9b57fb585e"
      },
      "source": [
        "DNA.count('C')"
      ],
      "execution_count": 8,
      "outputs": [
        {
          "output_type": "execute_result",
          "data": {
            "text/plain": [
              "49"
            ]
          },
          "metadata": {
            "tags": []
          },
          "execution_count": 8
        }
      ]
    },
    {
      "cell_type": "code",
      "metadata": {
        "id": "ca3X2N9EVgoC",
        "colab_type": "code",
        "colab": {}
      },
      "source": [
        "# 7. What is the index at which the first occurrence of the pattern CCAAT begins?"
      ],
      "execution_count": null,
      "outputs": []
    },
    {
      "cell_type": "code",
      "metadata": {
        "id": "c2rxIUGH6EQZ",
        "colab_type": "code",
        "colab": {
          "base_uri": "https://localhost:8080/",
          "height": 34
        },
        "outputId": "825a2b0d-4db3-4d29-b27d-73b5e29760b3"
      },
      "source": [
        "DNA.find('CCAAT')"
      ],
      "execution_count": 9,
      "outputs": [
        {
          "output_type": "execute_result",
          "data": {
            "text/plain": [
              "-1"
            ]
          },
          "metadata": {
            "tags": []
          },
          "execution_count": 9
        }
      ]
    },
    {
      "cell_type": "code",
      "metadata": {
        "id": "tu5kv8IIVjSZ",
        "colab_type": "code",
        "colab": {}
      },
      "source": [
        "# Q2: To check if two Python values, or variables, are equal you can use ==. To check for inequality, you need !=.  As a refresher, have a look at the following examples that all result in True. Feel free to try them out in the Notebook.\n",
        "\n",
        "2 == (1 + 1)\n",
        "\"intermediate\" != \"python\"\n",
        "True != False\n",
        "\"Python\" != \"python\"\n",
        "# In the notebook, you need to wrap a print() (Links to an external site.) function around them to see the output."
      ],
      "execution_count": null,
      "outputs": []
    },
    {
      "cell_type": "code",
      "metadata": {
        "id": "NjsAAD3wVpSa",
        "colab_type": "code",
        "colab": {}
      },
      "source": [
        "# 1. Based on the sequence defined in Q1, write codes to see if the first 10 characters of the sequence and the last 10 characters of the sequence are equal."
      ],
      "execution_count": null,
      "outputs": []
    },
    {
      "cell_type": "code",
      "metadata": {
        "id": "_DwNsWGnnLnH",
        "colab_type": "code",
        "colab": {
          "base_uri": "https://localhost:8080/",
          "height": 34
        },
        "outputId": "9c6b1cd2-c9cc-40a4-8f2c-8387249d9c79"
      },
      "source": [
        "(DNA)[:10] == (DNA)[202:]"
      ],
      "execution_count": null,
      "outputs": [
        {
          "output_type": "execute_result",
          "data": {
            "text/plain": [
              "False"
            ]
          },
          "metadata": {
            "tags": []
          },
          "execution_count": 30
        }
      ]
    },
    {
      "cell_type": "code",
      "metadata": {
        "id": "vpFlcTRxVsle",
        "colab_type": "code",
        "colab": {}
      },
      "source": [
        "# 2. Write Python code to check if the number of the character 'C' is equal to the number of the character 'A' in the DNA sequence."
      ],
      "execution_count": null,
      "outputs": []
    },
    {
      "cell_type": "code",
      "metadata": {
        "id": "zo5u-BktnTl1",
        "colab_type": "code",
        "colab": {
          "base_uri": "https://localhost:8080/",
          "height": 34
        },
        "outputId": "b5e6a1f9-4c4c-4955-e9d1-35d09b849328"
      },
      "source": [
        "DNA.count('C') == DNA.count('A')"
      ],
      "execution_count": null,
      "outputs": [
        {
          "output_type": "execute_result",
          "data": {
            "text/plain": [
              "False"
            ]
          },
          "metadata": {
            "tags": []
          },
          "execution_count": 31
        }
      ]
    },
    {
      "cell_type": "code",
      "metadata": {
        "id": "16WgAL7DVusr",
        "colab_type": "code",
        "colab": {}
      },
      "source": [
        "# Q3: In the python, the comparison operators also include the less than and greater than signs, < and > in Python. You can combine them with an equals sign: <= and =>. Pay attention: <= is valid syntax, but =< is not. All Python expressions in the following code chunk evaluate to True:\n",
        "\n",
        "3 < 4\n",
        "3 <= 4\n",
        "# In the notebook, you need to wrap a print() (Links to an external site.) function around them to see the output."
      ],
      "execution_count": null,
      "outputs": []
    },
    {
      "cell_type": "code",
      "metadata": {
        "id": "wqFx8KRLVxj8",
        "colab_type": "code",
        "colab": {}
      },
      "source": [
        "# 1. Write Python code to check if the number of the character 'C'  is greater than or equal to the number of the character 'A' in the DNA sequence."
      ],
      "execution_count": null,
      "outputs": []
    },
    {
      "cell_type": "code",
      "metadata": {
        "id": "0igCvm9tnvGM",
        "colab_type": "code",
        "colab": {
          "base_uri": "https://localhost:8080/",
          "height": 34
        },
        "outputId": "342542eb-5f9a-40e4-96f9-a457c279d667"
      },
      "source": [
        "DNA.count('C') >= DNA.count('A')"
      ],
      "execution_count": null,
      "outputs": [
        {
          "output_type": "execute_result",
          "data": {
            "text/plain": [
              "False"
            ]
          },
          "metadata": {
            "tags": []
          },
          "execution_count": 32
        }
      ]
    },
    {
      "cell_type": "code",
      "metadata": {
        "id": "mbSkpYMrV0Cy",
        "colab_type": "code",
        "colab": {}
      },
      "source": [
        "# 2. Write Python code to check if the index at which the first occurrence of the letter 'C' is greater than the index at which the first occurrence of the letter 'A'."
      ],
      "execution_count": null,
      "outputs": []
    },
    {
      "cell_type": "code",
      "metadata": {
        "id": "J4gIpDn0n3jr",
        "colab_type": "code",
        "colab": {
          "base_uri": "https://localhost:8080/",
          "height": 34
        },
        "outputId": "8f961467-2957-4b85-86dc-67e6b111c265"
      },
      "source": [
        "DNA.index('C') > DNA.index('A')"
      ],
      "execution_count": null,
      "outputs": [
        {
          "output_type": "execute_result",
          "data": {
            "text/plain": [
              "True"
            ]
          },
          "metadata": {
            "tags": []
          },
          "execution_count": 33
        }
      ]
    },
    {
      "cell_type": "code",
      "metadata": {
        "id": "2uqiTn4pV2k3",
        "colab_type": "code",
        "colab": {}
      },
      "source": [
        "# Q4: A boolean is True or False. With boolean operators such as and, or and not, you can combine these booleans to perform more advanced queries on your data.\n",
        "\n",
        "# In the notebook, you need to wrap a print() (Links to an external site.) function around them to see the output."
      ],
      "execution_count": null,
      "outputs": []
    },
    {
      "cell_type": "code",
      "metadata": {
        "id": "1IYhZNdVV5qf",
        "colab_type": "code",
        "colab": {}
      },
      "source": [
        "# 1. Write Python code to check if the number of the character 'C'  is greater than the number of the character 'A'  and smaller than the number of the character 'G' in the DNA sequence."
      ],
      "execution_count": null,
      "outputs": []
    },
    {
      "cell_type": "code",
      "metadata": {
        "id": "UC4GLS43oUD9",
        "colab_type": "code",
        "colab": {
          "base_uri": "https://localhost:8080/",
          "height": 34
        },
        "outputId": "2ec3620d-2c97-4350-913e-a33d93b287a7"
      },
      "source": [
        "DNA.count('C') > DNA.count('A') and DNA.count('C') < DNA.count('G')"
      ],
      "execution_count": null,
      "outputs": [
        {
          "output_type": "execute_result",
          "data": {
            "text/plain": [
              "False"
            ]
          },
          "metadata": {
            "tags": []
          },
          "execution_count": 34
        }
      ]
    },
    {
      "cell_type": "code",
      "metadata": {
        "id": "5t4qr-vvV729",
        "colab_type": "code",
        "colab": {}
      },
      "source": [
        "# 2. Write Python code to check if the number of the character 'C'  is greater than the number of the character 'A'  or smaller than the number of the character 'G' in the DNA sequence."
      ],
      "execution_count": null,
      "outputs": []
    },
    {
      "cell_type": "code",
      "metadata": {
        "id": "QzUVApJ3o4Ix",
        "colab_type": "code",
        "colab": {
          "base_uri": "https://localhost:8080/",
          "height": 34
        },
        "outputId": "12861cfe-c9da-40b6-e958-6824867dab77"
      },
      "source": [
        "DNA.count('C') > DNA.count('A') or DNA.count('C') < DNA.count('G')"
      ],
      "execution_count": null,
      "outputs": [
        {
          "output_type": "execute_result",
          "data": {
            "text/plain": [
              "False"
            ]
          },
          "metadata": {
            "tags": []
          },
          "execution_count": 35
        }
      ]
    },
    {
      "cell_type": "code",
      "metadata": {
        "id": "jJXLPmcdV_S8",
        "colab_type": "code",
        "colab": {}
      },
      "source": [
        "# 3. Suppose  we have variables x = 8  and y = 9, what will the result be if you execute the command not(not(x < 3) and not(y > 14 or y > 10))  in the notebook?   Note: not has higher precedence than and  and or."
      ],
      "execution_count": null,
      "outputs": []
    },
    {
      "cell_type": "code",
      "metadata": {
        "id": "LMEp5K-3o542",
        "colab_type": "code",
        "colab": {
          "base_uri": "https://localhost:8080/",
          "height": 34
        },
        "outputId": "1b21bb83-80c9-4f8d-cfcb-8036989b43cf"
      },
      "source": [
        "x = 8 \n",
        "y = 9\n",
        "not(not(x < 3))and not(y > 14 or y > 10)"
      ],
      "execution_count": null,
      "outputs": [
        {
          "output_type": "execute_result",
          "data": {
            "text/plain": [
              "False"
            ]
          },
          "metadata": {
            "tags": []
          },
          "execution_count": 4
        }
      ]
    },
    {
      "cell_type": "code",
      "metadata": {
        "id": "Y3XDzFn1WCnT",
        "colab_type": "code",
        "colab": {}
      },
      "source": [
        "# Q5: To experiment with if and else a bit, have a look at this code sample:\n",
        "\n",
        "area = 10.0\n",
        "if(area < 9) :\n",
        "    print(\"small\")\n",
        "elif(area < 12) :\n",
        "    print(\"medium\")\n",
        "else :\n",
        "    print(\"large\")"
      ],
      "execution_count": null,
      "outputs": []
    },
    {
      "cell_type": "code",
      "metadata": {
        "id": "JHfyO_R4WG3J",
        "colab_type": "code",
        "colab": {}
      },
      "source": [
        "# 1. What will the output be if you run this piece of code in the notebook?"
      ],
      "execution_count": null,
      "outputs": []
    },
    {
      "cell_type": "code",
      "metadata": {
        "id": "npc7g7d2pF3r",
        "colab_type": "code",
        "colab": {
          "base_uri": "https://localhost:8080/",
          "height": 34
        },
        "outputId": "e840e052-bb0e-43e5-a598-8f0a3c10bd47"
      },
      "source": [
        "area = 10.0\n",
        "if(area < 9) :\n",
        "    print(\"small\")\n",
        "elif(area < 12) :\n",
        "    print(\"medium\")\n",
        "else :\n",
        "    print(\"large\")"
      ],
      "execution_count": null,
      "outputs": [
        {
          "output_type": "stream",
          "text": [
            "medium\n"
          ],
          "name": "stdout"
        }
      ]
    },
    {
      "cell_type": "code",
      "metadata": {
        "id": "K46Hgva5WI1z",
        "colab_type": "code",
        "colab": {}
      },
      "source": [
        "# 2. Use if, elif and else, check the length of DNA sequence in Q1 with the following conditions: if the length is shorter than 100, print 'the DNA sequence is short.', otherwise if the length is shorter than 500, print \"the DNA sequence is medium\", otherwise, print \"the length is long\"."
      ],
      "execution_count": null,
      "outputs": []
    },
    {
      "cell_type": "code",
      "metadata": {
        "id": "EWN0ertgpH-6",
        "colab_type": "code",
        "colab": {
          "base_uri": "https://localhost:8080/",
          "height": 34
        },
        "outputId": "bcbcba9c-1d0b-448c-fe1c-66f0d92ab707"
      },
      "source": [
        "area = DNA_length\n",
        "if(area < 100) :\n",
        "    print(\"short\")\n",
        "elif(area < 500) :\n",
        "    print(\"medium\")\n",
        "else :\n",
        "    print(\"large\")"
      ],
      "execution_count": null,
      "outputs": [
        {
          "output_type": "stream",
          "text": [
            "medium\n"
          ],
          "name": "stdout"
        }
      ]
    },
    {
      "cell_type": "code",
      "metadata": {
        "id": "NZN6IcBIWLi2",
        "colab_type": "code",
        "colab": {}
      },
      "source": [
        "# Q6: The while loop is like a repeated if statement. The code is executed over and over again, as long as the condition is True. Have another look at its recipe.\n",
        "\n",
        "while condition :\n",
        "    expression\n",
        "have a look at this code sample: \n",
        "\n",
        "x = 1\n",
        "while x < 4 :\n",
        "    print(x)\n",
        "    x = x + 1"
      ],
      "execution_count": null,
      "outputs": []
    },
    {
      "cell_type": "code",
      "metadata": {
        "id": "uzJr2SIoWPoj",
        "colab_type": "code",
        "colab": {}
      },
      "source": [
        "# 1. Can you tell how many printouts the above while loop will do?"
      ],
      "execution_count": null,
      "outputs": []
    },
    {
      "cell_type": "code",
      "metadata": {
        "id": "Ki3-mNzY680_",
        "colab_type": "code",
        "colab": {
          "base_uri": "https://localhost:8080/",
          "height": 68
        },
        "outputId": "3ba4d983-5ac0-42cb-d4ee-d0246a958b8a"
      },
      "source": [
        "x = 1\n",
        "while x < 4 :\n",
        "    print(x)\n",
        "    x = x + 1"
      ],
      "execution_count": null,
      "outputs": [
        {
          "output_type": "stream",
          "text": [
            "1\n",
            "2\n",
            "3\n"
          ],
          "name": "stdout"
        }
      ]
    },
    {
      "cell_type": "code",
      "metadata": {
        "id": "UlmMRDQ4WRoe",
        "colab_type": "code",
        "colab": {}
      },
      "source": [
        "# 2. Use while loop, keep printing the letters from left to right in the DNA sequence until you reach the letter 'C'. Note: recall how the keyword break or continue works."
      ],
      "execution_count": null,
      "outputs": []
    },
    {
      "cell_type": "code",
      "metadata": {
        "id": "CtUyar5A-pcF",
        "colab_type": "code",
        "colab": {
          "base_uri": "https://localhost:8080/",
          "height": 187
        },
        "outputId": "4fd0c79a-6ff7-4e3a-db8c-d80f4d9d436a"
      },
      "source": [
        "num_letters = len(DNA)\n",
        "i = 0\n",
        "while i < num_letters:\n",
        "  if (DNA[i] != 'C'):\n",
        "    print(DNA[i])\n",
        "    i = i + 1\n",
        "  else:\n",
        "    break "
      ],
      "execution_count": null,
      "outputs": [
        {
          "output_type": "stream",
          "text": [
            "G\n",
            "T\n",
            "T\n",
            "G\n",
            "A\n",
            "T\n",
            "G\n",
            "T\n",
            "A\n",
            "G\n"
          ],
          "name": "stdout"
        }
      ]
    },
    {
      "cell_type": "code",
      "metadata": {
        "id": "6s7mQwDTWT87",
        "colab_type": "code",
        "colab": {
          "base_uri": "https://localhost:8080/",
          "height": 68
        },
        "outputId": "71c82fa3-e266-4ca3-bfd5-f8b93b5d8b63"
      },
      "source": [
        "# Q7: have a look at this code sample: \n",
        "\n",
        "course_ids= ['CSCI1020', 'CSCI1030', 'CSCI1070']\n",
        "for id in course_ids: \n",
        "    print(id)\n",
        "# As usual, you simply have to indent the code with 4 spaces to tell Python which code should be executed in the for loop.\n",
        "\n",
        "# The course_ids variable, containing the ids of different courses in the Computer Science Department, is already defined."
      ],
      "execution_count": null,
      "outputs": [
        {
          "output_type": "stream",
          "text": [
            "CSCI1020\n",
            "CSCI1030\n",
            "CSCI1070\n"
          ],
          "name": "stdout"
        }
      ]
    },
    {
      "cell_type": "code",
      "metadata": {
        "id": "wQEk6yWTWa3D",
        "colab_type": "code",
        "colab": {
          "base_uri": "https://localhost:8080/",
          "height": 68
        },
        "outputId": "845c627c-a787-4107-8330-a5e3c29bf535"
      },
      "source": [
        "# 1. Write a for loop that goes through each element of course_ids. On each iteration, \"the course id is x\" should be printed out, where x is the id value in this iteration.\n",
        "for id in course_ids:\n",
        "  print(\"the course id is\", id)"
      ],
      "execution_count": null,
      "outputs": [
        {
          "output_type": "stream",
          "text": [
            "the course id is CSCI1020\n",
            "the course id is CSCI1030\n",
            "the course id is CSCI1070\n"
          ],
          "name": "stdout"
        }
      ]
    },
    {
      "cell_type": "code",
      "metadata": {
        "id": "cE8ue52zWfVF",
        "colab_type": "code",
        "colab": {
          "base_uri": "https://localhost:8080/",
          "height": 187
        },
        "outputId": "25f81187-3979-4aa1-ed14-699353f1dd69"
      },
      "source": [
        "# 2. Use for loop, keep printing the letters from left to right in the DNA sequence until you reach the letter 'C'.  Note: recall how the keyword break or continue works.\n",
        "# Note well that we do an index-based loop with for ind in range(0,length). As a sanity check, if the dna has length 5, given for ind in range(0,5), we will test five elements: dna[0], dna[1],  dna[2],  dna[3],  and dna[4].\n",
        "for motif in DNA:\n",
        "  if (motif != 'C'):\n",
        "    print (motif)\n",
        "  else:\n",
        "    break"
      ],
      "execution_count": null,
      "outputs": [
        {
          "output_type": "stream",
          "text": [
            "G\n",
            "T\n",
            "T\n",
            "G\n",
            "A\n",
            "T\n",
            "G\n",
            "T\n",
            "A\n",
            "G\n"
          ],
          "name": "stdout"
        }
      ]
    },
    {
      "cell_type": "code",
      "metadata": {
        "id": "G2RUFCJnWkSu",
        "colab_type": "code",
        "colab": {
          "base_uri": "https://localhost:8080/",
          "height": 68
        },
        "outputId": "a81db261-eea4-4f68-cbe8-c0b4000328f7"
      },
      "source": [
        "# Q8: In Python, you need the items() (Links to an external site.) method to loop over a dictionary:\n",
        "\n",
        "CS_courses= { \"CSCI1020\":\"Intro to bioinformatics\", \n",
        "          \"CSCI1030\":'Intro to Game Design',\n",
        "          \"CSCI1070\":'Intro to Big Data' }\n",
        "\n",
        "for key, value in CS_courses.items() :\n",
        "    print(key + \" -- \" + str(value))\n",
        "# Remember the CS_courses dictionary that contained the names of some course ids as key and their course names as corresponding value? Go ahead and write a loop to iterate over it"
      ],
      "execution_count": 10,
      "outputs": [
        {
          "output_type": "stream",
          "text": [
            "CSCI1020 -- Intro to bioinformatics\n",
            "CSCI1030 -- Intro to Game Design\n",
            "CSCI1070 -- Intro to Big Data\n"
          ],
          "name": "stdout"
        }
      ]
    },
    {
      "cell_type": "code",
      "metadata": {
        "id": "ckPTtO_NWoCH",
        "colab_type": "code",
        "colab": {
          "base_uri": "https://localhost:8080/",
          "height": 68
        },
        "outputId": "36303742-0ff9-44cc-c59c-b3ce4d0de666"
      },
      "source": [
        "# 1. Write a for loop that goes through each key:value pair of CS_courses. On each iteration, \"the course name of x is y\" should be printed out, where x is the key and y is the value of the pair.\n",
        "for key, value in CS_courses.items():\n",
        "    print(\"the course name of %s is %s\" % (key, value))"
      ],
      "execution_count": 11,
      "outputs": [
        {
          "output_type": "stream",
          "text": [
            "the course name of CSCI1020 is Intro to bioinformatics\n",
            "the course name of CSCI1030 is Intro to Game Design\n",
            "the course name of CSCI1070 is Intro to Big Data\n"
          ],
          "name": "stdout"
        }
      ]
    },
    {
      "cell_type": "code",
      "metadata": {
        "id": "uSS5EVVOWsYI",
        "colab_type": "code",
        "colab": {}
      },
      "source": [
        "# Q9: A list can contain any Python type. But a list itself is also a Python type. That means that a list can also contain a list!  The list has the syntax:\n",
        "\n",
        "my_list = [el1, el2, el3]"
      ],
      "execution_count": null,
      "outputs": []
    },
    {
      "cell_type": "code",
      "metadata": {
        "id": "C7BGaFCOWxl8",
        "colab_type": "code",
        "colab": {}
      },
      "source": [
        "# 1. Can you tell which ones of the following lines of Python code are valid ways to build a list? Use type() function to valid them.\n",
        "A. [1, 3, 4, 2]   B. [[1, 2, 3], [4, 5, 7]]    C. [1 + 2, \"a\" * 5, 3]"
      ],
      "execution_count": null,
      "outputs": []
    },
    {
      "cell_type": "code",
      "metadata": {
        "id": "f0vfqwt8p-1o",
        "colab_type": "code",
        "colab": {
          "base_uri": "https://localhost:8080/",
          "height": 34
        },
        "outputId": "a5c079a0-63e8-4b6e-da1e-ff6973c683ed"
      },
      "source": [
        "type([1, 3, 4, 2])"
      ],
      "execution_count": null,
      "outputs": [
        {
          "output_type": "execute_result",
          "data": {
            "text/plain": [
              "list"
            ]
          },
          "metadata": {
            "tags": []
          },
          "execution_count": 38
        }
      ]
    },
    {
      "cell_type": "code",
      "metadata": {
        "id": "Q6PCMCZ2qC-Z",
        "colab_type": "code",
        "colab": {
          "base_uri": "https://localhost:8080/",
          "height": 34
        },
        "outputId": "1f139072-ad7c-4721-9576-183e9e9d385d"
      },
      "source": [
        "type([[1, 2, 3], [4, 5, 7]])"
      ],
      "execution_count": null,
      "outputs": [
        {
          "output_type": "execute_result",
          "data": {
            "text/plain": [
              "list"
            ]
          },
          "metadata": {
            "tags": []
          },
          "execution_count": 39
        }
      ]
    },
    {
      "cell_type": "code",
      "metadata": {
        "id": "42l9c5CTqGJp",
        "colab_type": "code",
        "colab": {
          "base_uri": "https://localhost:8080/",
          "height": 34
        },
        "outputId": "a909eb7b-12bb-4940-fce3-945cac013d6f"
      },
      "source": [
        "type([1 + 2, \"a\" * 5, 3])"
      ],
      "execution_count": null,
      "outputs": [
        {
          "output_type": "execute_result",
          "data": {
            "text/plain": [
              "list"
            ]
          },
          "metadata": {
            "tags": []
          },
          "execution_count": 40
        }
      ]
    },
    {
      "cell_type": "code",
      "metadata": {
        "id": "a3aMx9dyWy81",
        "colab_type": "code",
        "colab": {}
      },
      "source": [
        "# Q10: According to the DNA sequence defined in Q1, write your Python codes to answer the following questions:"
      ],
      "execution_count": null,
      "outputs": []
    },
    {
      "cell_type": "code",
      "metadata": {
        "id": "T3UFlxVlW1rM",
        "colab_type": "code",
        "colab": {}
      },
      "source": [
        "# 1. How often is a letter followed immediately by the same letter in the DNA sequence?\n",
        "\n",
        "# Note well that we do an index-based loop but with range(len(dna)-1). As a sanity check, if the dna has length 5, we only need to test four pairs of neighbors, and thus compare dna[0] to dna[1], dna[1] to dna[2], dna[2] to dna[3], and dna[3] to dna[4]."
      ],
      "execution_count": null,
      "outputs": []
    },
    {
      "cell_type": "code",
      "metadata": {
        "id": "NnlCoVvKHl6D",
        "colab_type": "code",
        "colab": {
          "base_uri": "https://localhost:8080/",
          "height": 34
        },
        "outputId": "6c6271c0-7a0e-4492-f718-788da50cb854"
      },
      "source": [
        "num_letters = len(DNA)\n",
        "i = 0\n",
        "count = 0\n",
        "while i < num_letters-1:\n",
        "  if (DNA[i] == DNA[i+1]):\n",
        "    count = count + 1\n",
        "  i = i + 1\n",
        "print(count)"
      ],
      "execution_count": null,
      "outputs": [
        {
          "output_type": "stream",
          "text": [
            "51\n"
          ],
          "name": "stdout"
        }
      ]
    },
    {
      "cell_type": "code",
      "metadata": {
        "id": "8Cvt1oksW5qA",
        "colab_type": "code",
        "colab": {
          "base_uri": "https://localhost:8080/",
          "height": 34
        },
        "outputId": "b7728eec-d153-4d0d-d34a-b886d154e0ac"
      },
      "source": [
        "# 2. If two consecutive nucleotides match each other, how often is the next nucleotide that same nucleotide?\n",
        "num_letters = len(DNA)\n",
        "i = 0\n",
        "count = 0\n",
        "while i < num_letters-2:\n",
        "  if (DNA[i] == DNA[i+1] and DNA[i+1] == DNA[i+2]):\n",
        "    count = count + 1\n",
        "  i = i + 1\n",
        "print(count)"
      ],
      "execution_count": null,
      "outputs": [
        {
          "output_type": "stream",
          "text": [
            "16\n"
          ],
          "name": "stdout"
        }
      ]
    },
    {
      "cell_type": "code",
      "metadata": {
        "id": "fngFdWsCW7rn",
        "colab_type": "code",
        "colab": {
          "base_uri": "https://localhost:8080/",
          "height": 34
        },
        "outputId": "72cc33b9-ce26-40b4-c4c7-00a66d08a32a"
      },
      "source": [
        "# 3. How many times does a motif of the form CC?AT occur within the sequence? (where ? could be anything)\n",
        "count = 0\n",
        "count += DNA.count('CCAAT')\n",
        "count += DNA.count('CCCAT')\n",
        "count += DNA.count('CCGAT')\n",
        "count += DNA.count('CCTAT')\n",
        "\n",
        "print(count)"
      ],
      "execution_count": null,
      "outputs": [
        {
          "output_type": "stream",
          "text": [
            "1\n"
          ],
          "name": "stdout"
        }
      ]
    },
    {
      "cell_type": "code",
      "metadata": {
        "id": "0kIOz4XiW93s",
        "colab_type": "code",
        "colab": {}
      },
      "source": [
        "# 4. When the motif CC?AT does occur, what percentage of the time is the middle nucleotide an A? (A so-called cat box CCAAT)"
      ],
      "execution_count": null,
      "outputs": []
    },
    {
      "cell_type": "code",
      "metadata": {
        "id": "IPuFHfmtLBhD",
        "colab_type": "code",
        "colab": {
          "base_uri": "https://localhost:8080/",
          "height": 34
        },
        "outputId": "ea587604-8c86-442d-ff08-7d9bda4c50e1"
      },
      "source": [
        "count = 0\n",
        "count += DNA.count('CCAAT')\n",
        "count += DNA.count('CCCAT')\n",
        "count += DNA.count('CCGAT')\n",
        "count += DNA.count('CCTAT')\n",
        "\n",
        "middle_count = DNA.count('CCAAT')\n",
        "\n",
        "print(middle_count/count)"
      ],
      "execution_count": null,
      "outputs": [
        {
          "output_type": "stream",
          "text": [
            "0.0\n"
          ],
          "name": "stdout"
        }
      ]
    }
  ]
}