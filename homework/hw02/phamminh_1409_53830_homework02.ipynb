{
  "nbformat": 4,
  "nbformat_minor": 0,
  "metadata": {
    "colab": {
      "name": "homework02.ipynb",
      "provenance": []
    },
    "kernelspec": {
      "name": "python3",
      "display_name": "Python 3"
    }
  },
  "cells": [
    {
      "cell_type": "code",
      "metadata": {
        "id": "5b7qRQwvOgXF",
        "colab_type": "code",
        "colab": {
          "base_uri": "https://localhost:8080/",
          "height": 173
        },
        "outputId": "397d6e1b-88df-470d-f1c9-cd55aca84181"
      },
      "source": [
        "#Q1\n",
        "#Assume that we have one DNA sequence that has a string as \n",
        "\n",
        "#'GTTGATGTAGCTTATATAAAGCAAGGCACTGAAAATGCCTAGATGAGTCATAGACTCCATAAACAACAGGTTTGGTCCCGGCCTTTTTATTAGCTGTCTGCAGGATTATACATGCAAAAATCCCTACACCGGTGAGAATGCCCTATGTACCACACTCAGGTTTAAAGGAGCAGACATCAAGCACACTGCTAAGTAGCTCACGACGTCTTGCTT' \n",
        "#which is comprised of four nucleotides (e.g. A, T, C, G). We would like to define a variable called 'DNA', and assign the sequence to this variable. Then we need to print the variable by print(\"DNA: \", DNA)\n",
        "\n",
        "DNA='GTTGATGTAGCTTATATAAAGCAAGGCACTGAAAATGCCTAGATGAGTCATAGACTCCATAAACAACAGGTTTGGTCCCGGCCTTTTTATTAGCTGTCTGCAGGATTATACATGCAAAAATCCCTACACCGGTGAGAATGCCCTATGTACCACACTCAGGTTTAAAGGAGCAGACATCAAGCACACTGCTAAGTAGCTCACGACGTCTTGCTT' \n",
        "print('DNA:',DNA)\n",
        "\n",
        "#Please write your python codes for this activity.\n",
        "\n",
        "#How long is this sequence?\n",
        "\n",
        "print ('Length of DNA:',len(DNA))\n",
        "\n",
        "#What is the first letter of the sequence?\n",
        "\n",
        "print('First letter of sequence:', DNA[0])\n",
        "\n",
        "#What is the last letter of the sequence?\n",
        "\n",
        "print('Last letter of sequence:', DNA[-1])\n",
        "\n",
        "#What are the first 10 characters of the sequence?\n",
        "\n",
        "print('First 10 characters of sequence:', DNA[:10])\n",
        "\n",
        "#What are the last 10 characters of the sequence?\n",
        "\n",
        "print('Last 10 characters of sequence:', DNA[-10:])\n",
        "\n",
        "#How many times does the character 'C' appear in the sequence?\n",
        "\n",
        "print ('Number of times C appear in the sequence:', DNA.count('C'))\n",
        "\n",
        "#What is the index at which the first occurrence of the pattern CCAAT begins?\n",
        "\n",
        "print ('The first index at which the first occurrence of the pattern CCAAT begins:')\n",
        "if DNA.find('CCAAT') != -1:\n",
        "  print (DNA.find('CCAAT'))\n",
        "else:\n",
        "  print ('There was no CCAAT pattern found in the given DNA')\n"
      ],
      "execution_count": 6,
      "outputs": [
        {
          "output_type": "stream",
          "text": [
            "DNA: GTTGATGTAGCTTATATAAAGCAAGGCACTGAAAATGCCTAGATGAGTCATAGACTCCATAAACAACAGGTTTGGTCCCGGCCTTTTTATTAGCTGTCTGCAGGATTATACATGCAAAAATCCCTACACCGGTGAGAATGCCCTATGTACCACACTCAGGTTTAAAGGAGCAGACATCAAGCACACTGCTAAGTAGCTCACGACGTCTTGCTT\n",
            "Length of DNA: 213\n",
            "First letter of sequence: G\n",
            "Last letter of sequence: T\n",
            "First 10 characters of sequence: GTTGATGTAG\n",
            "Last 10 characters of sequence: CGTCTTGCTT\n",
            "Number of times C appear in the sequence: 49\n",
            "The first index at which the first occurrence of the pattern CCAAT begins:\n",
            "There was no CCAAT pattern found in the given DNA\n"
          ],
          "name": "stdout"
        }
      ]
    },
    {
      "cell_type": "code",
      "metadata": {
        "id": "gLJMNRKMS8su",
        "colab_type": "code",
        "colab": {
          "base_uri": "https://localhost:8080/",
          "height": 52
        },
        "outputId": "771a8883-12c1-4808-d59f-55bb63887259"
      },
      "source": [
        "#Q2\n",
        "#To check if two Python values, or variables, are equal you can use ==. To check for inequality, you need !=.  As a refresher, have a look at the following examples that all result in True. Feel free to try them out in the Notebook.\n",
        "\n",
        "#2 == (1 + 1)\n",
        "#\"intermediate\" != \"python\"\n",
        "#True != False\n",
        "#\"Python\" != \"python\"\n",
        "#In the notebook, you need to wrap a print() (Links to an external site.) function around them to see the output.\n",
        "\n",
        "#Based on the sequence defined in Q1, write codes to see if the first 10 characters of the sequence and the last 10 characters of the sequence are equal.\n",
        "\n",
        "print('The first 10 characters of the sequence and the last 10 characters of the sequence are equal. --->',DNA[:10]==DNA[-10:])\n",
        "\n",
        "#Write Python code to check if the number of the character 'C' is equal to the number of the character 'A' in the DNA sequence.\n",
        "\n",
        "print('The number of the character C is equal to the number of the character A in the DNA sequence. --->', DNA.count('C')==DNA.count('A'))\n"
      ],
      "execution_count": 4,
      "outputs": [
        {
          "output_type": "stream",
          "text": [
            "The first 10 characters of the sequence and the last 10 characters of the sequence are equal. ---> False\n",
            "The number of the character C is equal to the number of the character A in the DNA sequence. ---> False\n"
          ],
          "name": "stdout"
        }
      ]
    },
    {
      "cell_type": "code",
      "metadata": {
        "id": "NsEVqZfRU42r",
        "colab_type": "code",
        "colab": {
          "base_uri": "https://localhost:8080/",
          "height": 71
        },
        "outputId": "0267ac75-44e9-4fa0-b049-a05ffa84848b"
      },
      "source": [
        "#Q3\n",
        "#In the python,  the comparison operators also include the less than and greater than signs, < and > in Python. You can combine them with an equals sign: <= and =>. Pay attention: <= is valid syntax, but =< is not. All Python expressions in the following code chunk evaluate to True:\n",
        "\n",
        "#3 < 4\n",
        "#3 <= 4\n",
        "#In the notebook, you need to wrap a print() (Links to an external site.) function around them to see the output.\n",
        "\n",
        "#Write Python code to check if the number of the character 'C'  is greater than or equal to the number of the character 'A' in the DNA sequence.\n",
        "\n",
        "print ('The number of the character C is greater than or equal to the number of the character A in the DNA sequence.--->', DNA.count('C') >=DNA.count('A'))\n",
        "\n",
        "#Write Python code to check if the index at which the first occurrence of the letter 'C' is greater than the index at which the first occurrence of the letter 'A'.\n",
        "\n",
        "print ('The index at which the first occurrence of the letter C is greater than the index at which the first occurrence of the letter A. --->', DNA.find('C') >=DNA.find('A') )\n"
      ],
      "execution_count": null,
      "outputs": [
        {
          "output_type": "stream",
          "text": [
            "The number of the character C is greater than or equal to the number of the character A in the DNA sequence.---> False\n",
            "The index at which the first occurrence of the letter C is greater than the index at which the first occurrence of the letter A. ---> True\n"
          ],
          "name": "stdout"
        }
      ]
    },
    {
      "cell_type": "code",
      "metadata": {
        "id": "rUQyfHBEWA_7",
        "colab_type": "code",
        "colab": {
          "base_uri": "https://localhost:8080/",
          "height": 121
        },
        "outputId": "43495154-5d9a-4d97-b0b3-9568f781c671"
      },
      "source": [
        "#Q4\n",
        "#A boolean is True or False. With boolean operators such as and, or and not, you can combine these booleans to perform more advanced queries on your data.\n",
        "\n",
        "#In the notebook, you need to wrap a print() (Links to an external site.) function around them to see the output.\n",
        "\n",
        "#Write Python code to check if the number of the character 'C'  is greater than the number of the character 'A'  and smaller than the number of the character 'G' in the DNA sequence.\n",
        "\n",
        "print ('The number of the character C is greater than the number of the character A and smaller than the number of the character G in the DNA sequence:')\n",
        "print ( DNA.count('C') > DNA.count('A') and DNA.count('C') < DNA.count('G') )\n",
        "\n",
        "#Write Python code to check if the number of the character 'C'  is greater than the number of the character 'A'  or smaller than the number of the character 'G' in the DNA sequence.\n",
        "\n",
        "print ('The number of the character C is greater than the number of the character A and smaller than the number of the character G in the DNA sequence:')\n",
        "print ( DNA.count('C') > DNA.count('A') or DNA.count('C') < DNA.count('G') )\n",
        "\n",
        "#Suppose  we have variables x = 8  and y = 9, what will the result be if you execute the command not(not(x < 3) and not(y > 14 or y > 10))  in the notebook?   Note: not has higher precedence than and  and or.\n",
        "\n",
        "print ('Follow the given variables x and y, the result of the excuted command will be:')\n",
        "x=8\n",
        "y=9\n",
        "print((not(x < 3) and not(y > 14 or y > 10)))\n"
      ],
      "execution_count": 7,
      "outputs": [
        {
          "output_type": "stream",
          "text": [
            "The number of the character C is greater than the number of the character A and smaller than the number of the character G in the DNA sequence:\n",
            "False\n",
            "The number of the character C is greater than the number of the character A and smaller than the number of the character G in the DNA sequence:\n",
            "False\n",
            "Follow the given variables x and y, the result of the excuted command will be:\n",
            "True\n"
          ],
          "name": "stdout"
        }
      ]
    },
    {
      "cell_type": "code",
      "metadata": {
        "id": "qfiM6zeJXyfU",
        "colab_type": "code",
        "colab": {
          "base_uri": "https://localhost:8080/",
          "height": 69
        },
        "outputId": "af2c3aae-799a-49d6-db65-1b98e6544943"
      },
      "source": [
        "#Q5\n",
        "#To experiment with if and else a bit, have a look at this code sample:\n",
        "\n",
        "#area = 10.0\n",
        "#if(area < 9) :\n",
        "#    print(\"small\")\n",
        "#elif(area < 12) :\n",
        "#    print(\"medium\")\n",
        "#else :\n",
        "#    print(\"large\")\n",
        "#What will the output be if you run this piece of code in the notebook?\n",
        "\n",
        "print ('Follow the given area, the result of the excuted command will be:')\n",
        "area = 10.0\n",
        "if(area < 9) :\n",
        "    print(\"small\")\n",
        "elif(area < 12) :\n",
        "    print(\"medium\")\n",
        "else :\n",
        "    print(\"large\")\n",
        "\n",
        "#Use if, elif and else, check the length of DNA sequence in Q1 with the following conditions: if the length is shorter than 100, print 'the DNA sequence is short.', otherwise if the length is shorter than 500, print \"the DNA sequence is medium\", otherwise, print \"the length is long\".\n",
        "\n",
        "z=len(DNA)\n",
        "if(z <100) :\n",
        "    print(\"The DNA sequence is short.\")\n",
        "elif(z <500) :\n",
        "    print(\"The DNA sequence is medium\")\n",
        "else :\n",
        "    print(\"The length is long\")\n"
      ],
      "execution_count": 8,
      "outputs": [
        {
          "output_type": "stream",
          "text": [
            "Follow the given area, the result of the excuted command will be:\n",
            "medium\n",
            "The DNA sequence is medium\n"
          ],
          "name": "stdout"
        }
      ]
    },
    {
      "cell_type": "code",
      "metadata": {
        "id": "dkRMqimfZIUD",
        "colab_type": "code",
        "colab": {
          "base_uri": "https://localhost:8080/",
          "height": 260
        },
        "outputId": "a8a8c15f-442b-4bca-d452-b5d7b61df391"
      },
      "source": [
        "#Q6\n",
        "#The while loop is like a repeated if statement. The code is executed over and over again, as long as the condition is True. Have another look at its recipe.\n",
        "\n",
        "#while condition :\n",
        "#    expression\n",
        "#have a look at this code sample: \n",
        "\n",
        "#x = 1\n",
        "#while x < 4 :\n",
        "#    print(x)\n",
        "#    x = x + 1\n",
        "#Can you tell how many printouts the above while loop will do?\n",
        "\n",
        "x = 1\n",
        "while x < 4 :\n",
        "    print(x)\n",
        "    x = x + 1\n",
        "\n",
        "print ( 'Based on the number of times the code ran, the number of printouts that the while loop did is 3')\n",
        "\n",
        "#Use while loop, keep printing the letters from left to right in the DNA sequence until you reach the letter 'C'. Note: recall how the keyword break or continue works.\n",
        "\n",
        "index_of_nucleotide=0\n",
        "while DNA[index_of_nucleotide] != 'C': \n",
        "    print (DNA[index_of_nucleotide])\n",
        "    index_of_nucleotide = index_of_nucleotide + 1\n"
      ],
      "execution_count": 10,
      "outputs": [
        {
          "output_type": "stream",
          "text": [
            "1\n",
            "2\n",
            "3\n",
            "Based on the number of times the code ran, the number of printouts that the while loop did is 3\n",
            "G\n",
            "T\n",
            "T\n",
            "G\n",
            "A\n",
            "T\n",
            "G\n",
            "T\n",
            "A\n",
            "G\n"
          ],
          "name": "stdout"
        }
      ]
    },
    {
      "cell_type": "code",
      "metadata": {
        "id": "UulEYl3PbWPg",
        "colab_type": "code",
        "colab": {
          "base_uri": "https://localhost:8080/",
          "height": 243
        },
        "outputId": "bfc2398b-fba2-4851-be31-78f92e0a6904"
      },
      "source": [
        "#Q7\n",
        "#have a look at this code sample: \n",
        "\n",
        "#course_ids= ['CSCI1020', 'CSCI1030', 'CSCI1070']\n",
        "#for id in course_ids: \n",
        "#    print(id)\n",
        "#As usual, you simply have to indent the code with 4 spaces to tell Python which code should be executed in the for loop.\n",
        "\n",
        "#The course_ids variable, containing the ids of different courses in the Computer Science Department, is already defined.\n",
        "\n",
        "#Write a for loop that goes through each element of course_ids. On each iteration, \"the course id is x\" should be printed out, where x is the id value in this iteration.\n",
        "\n",
        "course_ids= ['CSCI1020', 'CSCI1030', 'CSCI1070']\n",
        "for id in course_ids: \n",
        "    print('the course id is',id)\n",
        "\n",
        "#Use for loop, keep printing the letters from left to right in the DNA sequence until you reach the letter 'C'.  Note: recall how the keyword break or continue works.\n",
        "\n",
        "for x in range(0,len(DNA)-1):\n",
        "  if DNA[x] != 'C': \n",
        "    print (DNA[x])\n",
        "  else:\n",
        "    break\n",
        "    \n",
        "      \n",
        "#Note well that we do an index-based loop with for ind in range(0,length). As a sanity check, if the dna has length 5, given for ind in range(0,5), we will test five elements: dna[0], dna[1],  dna[2],  dna[3],  and dna[4].\n",
        "\n",
        "\n"
      ],
      "execution_count": 11,
      "outputs": [
        {
          "output_type": "stream",
          "text": [
            "the course id is CSCI1020\n",
            "the course id is CSCI1030\n",
            "the course id is CSCI1070\n",
            "G\n",
            "T\n",
            "T\n",
            "G\n",
            "A\n",
            "T\n",
            "G\n",
            "T\n",
            "A\n",
            "G\n"
          ],
          "name": "stdout"
        }
      ]
    },
    {
      "cell_type": "code",
      "metadata": {
        "id": "i7Qm4BOz-n-Y",
        "colab_type": "code",
        "colab": {}
      },
      "source": [
        ""
      ],
      "execution_count": null,
      "outputs": []
    },
    {
      "cell_type": "code",
      "metadata": {
        "id": "HEN3VLxWw2ht",
        "colab_type": "code",
        "colab": {
          "base_uri": "https://localhost:8080/",
          "height": 69
        },
        "outputId": "b26fad59-a204-4a72-a81a-f3cb16399942"
      },
      "source": [
        "#Q8\n",
        "#In Python, you need the items() (Links to an external site.) method to loop over a dictionary:\n",
        "\n",
        "#CS_courses= { \"CSCI1020\":\"Intro to bioinformatics\", \n",
        "#          \"CSCI1030\":'Intro to Game Design',\n",
        "#          \"CSCI1070\":'Intro  to Big Data' }\n",
        "\n",
        "#for key, value in world.items() :\n",
        "#    print(key + \" -- \" + str(value))\n",
        "#Remember the CS_courses dictionary that contained the names of some course ids as key and their course names as corresponding value? Go ahead and write a loop to iterate over it\n",
        "\n",
        "#Write a for loop that goes through each key:value pair of CS_courses. On each iteration, \"the course name of x is y\" should be printed out, where x is the key and y is the value of the pair.\n",
        "\n",
        "CS_courses= { \"CSCI1020\":\"Intro to bioinformatics\", \"CSCI1030\":'Intro to Game Design', \"CSCI1070\":'Intro to Big Data' }\n",
        "\n",
        "for key, value in CS_courses.items() :\n",
        "    print(key + \" -- \" + value)\n"
      ],
      "execution_count": 12,
      "outputs": [
        {
          "output_type": "stream",
          "text": [
            "CSCI1020 -- Intro to bioinformatics\n",
            "CSCI1030 -- Intro to Game Design\n",
            "CSCI1070 -- Intro to Big Data\n"
          ],
          "name": "stdout"
        }
      ]
    },
    {
      "cell_type": "code",
      "metadata": {
        "id": "u23ANtI5yKsL",
        "colab_type": "code",
        "colab": {
          "base_uri": "https://localhost:8080/",
          "height": 69
        },
        "outputId": "007ab78a-7cc9-44c6-a58f-d8b72474a367"
      },
      "source": [
        "#Q9\n",
        "#A list can contain any Python type. But a list itself is also a Python type. That means that a list can also contain a list!  The list has the syntax:\n",
        "\n",
        "#my_list = [el1, el2, el3]\n",
        "#Can you tell which ones of the following lines of Python code are valid ways to build a list? Use type() function to valid them.\n",
        "#A. [1, 3, 4, 2]   B. [[1, 2, 3], [4, 5, 7]]    C. [1 + 2, \"a\" * 5, 3]\n",
        "\n",
        "A=[1, 3, 4, 2]   \n",
        "B=[[1, 2, 3], [4, 5, 7]]    \n",
        "C=[1 + 2, \"a\" * 5, 3]\n",
        "print('Variable A is',type(A))\n",
        "print('Variable B is',type(B))\n",
        "print('Variable C is',type(C))\n",
        "\n"
      ],
      "execution_count": 13,
      "outputs": [
        {
          "output_type": "stream",
          "text": [
            "Variable A is <class 'list'>\n",
            "Variable B is <class 'list'>\n",
            "Variable C is <class 'list'>\n"
          ],
          "name": "stdout"
        }
      ]
    },
    {
      "cell_type": "code",
      "metadata": {
        "colab_type": "code",
        "id": "JuqQzPRu_0Ua",
        "colab": {
          "base_uri": "https://localhost:8080/",
          "height": 52
        },
        "outputId": "9b11fa3e-d270-4da5-d64e-cfd296909407"
      },
      "source": [
        "#Q10\n",
        "#According to the DNA sequence defined in Q1, write your Python codes to answer the following questions:\n",
        "\n",
        "\n",
        "#1. How often is a letter followed immediately by the same letter in the DNA sequence?\n",
        "#Note well that we do an index-based loop but with range(len(dna)-1). As a sanity check, if the dna has length 5, we only need to test four pairs of neighbors, and thus compare dna[0] to dna[1], dna[1] to dna[2], dna[2] to dna[3], and dna[3] to dna[4].\n",
        "\n",
        "nn=0\n",
        "for x in range (0,len(DNA)-1):\n",
        "  if DNA[x] == DNA [x+1]:\n",
        "    nn=nn+1\n",
        "NN=nn/len(DNA)*100\n",
        "print('The chance of a letter followed immediately by the same letter in the DNA sequence:',NN,'%')\n",
        "\n",
        "#2. If two consecutive nucleotides match each other, how often is the next nucleotide that same nucleotide?\n",
        "\n",
        "nnn=0\n",
        "nn=0\n",
        "for x in range (0,len(DNA)-2):\n",
        "  if DNA[x] == DNA [x+1]:\n",
        "    nn=nn+1\n",
        "    if DNA[x] == DNA [x+2]:\n",
        "      nnn=nnn+1\n",
        "NNN=nnn/nn*100\n",
        "\n",
        "print('The chance of two consecutive same nucleotides matched with the third followed one in the DNA sequence:',NNN,'%')\n",
        "\n",
        "# Note: \n",
        "# The number checked is limited down to last two so that's why you have to change len(DNA-2)\n",
        "\n",
        "\n"
      ],
      "execution_count": 14,
      "outputs": [
        {
          "output_type": "stream",
          "text": [
            "The chance of a letter followed immediately by the same letter in the DNA sequence: 23.943661971830984 %\n",
            "The chance of two consecutive same nucleotides matched with the third followed one in the DNA sequence: 32.0 %\n"
          ],
          "name": "stdout"
        }
      ]
    },
    {
      "cell_type": "code",
      "metadata": {
        "id": "Vtt02dkQ8SNC",
        "colab_type": "code",
        "colab": {
          "base_uri": "https://localhost:8080/",
          "height": 52
        },
        "outputId": "c4f4213c-b622-43af-abd1-b3e600163bee"
      },
      "source": [
        "#3. How many times does a motif of the form CC?AT occur within the sequence? (where ? could be anything)\n",
        "\n",
        "ccnat=0\n",
        "for x in range(0,len(DNA)-5):\n",
        "  if DNA[x] == 'C' and DNA[x+1] =='C' and DNA[x+3] == 'A' and DNA[x+4] == 'T':\n",
        "    ccnat=ccnat+1\n",
        "CCnAT=ccnat/len(DNA)*100\n",
        "\n",
        "print ('The chance of the motif CC?AT occur within the sequence where ? could be anything:',CCnAT,'%')\n",
        "\n",
        "#4. When the motif CC?AT does occur, what percentage of the time is the middle nucleotide an A? (A so-called cat box CCAAT)\n",
        "\n",
        "\n",
        "ccnat=0\n",
        "CCaAT=0\n",
        "for x in range(0,len(DNA)-5):\n",
        "  if DNA[x] == 'C' and DNA[x+1] =='C' and DNA[x+3] == 'A' and DNA[x+4] == 'T':\n",
        "    ccnat=ccnat+1\n",
        "  if DNA[x] == 'C' and DNA[x+1] =='C' and DNA[x+2] == 'A' and DNA[x+3] == 'A' and DNA[x+4] == 'T':\n",
        "    CCaAT=CCaAT+1\n",
        "CCAAT=CCaAT/ccnat*100\n",
        "\n",
        "print ('The chance of the motif CCAAT occur, when the motif CC?AT does occur:',CCAAT,'%')\n"
      ],
      "execution_count": 15,
      "outputs": [
        {
          "output_type": "stream",
          "text": [
            "The chance of the motif CC?AT occur within the sequence where ? could be anything: 0.4694835680751174 %\n",
            "The chance of the motif CCAAT occur, when the motif CC?AT does occur: 0.0 %\n"
          ],
          "name": "stdout"
        }
      ]
    },
    {
      "cell_type": "code",
      "metadata": {
        "id": "WAlgb1MV8eG-",
        "colab_type": "code",
        "colab": {}
      },
      "source": [
        "# Note:\n",
        "# Why does the 10.3 question can be excuted without minues the len(DNA) and it still work? Is it because if the first Boolean value  with 'and' is false the rest will be canceled and nore ran\n",
        "# The shortened on for the loop in lab 3 : the key is to mark the variable in a way that results in the if condition to be satisfied where the follwed command can do the coressponding command:\n",
        "#DNA_motifs = ['TTCAT','AATCATGA','CCCGC','GGCATT','CACGT',]\n",
        "#def DNA_find2(DNA,motif):\n",
        "# y=[]\n",
        "#  Nucleotides=['A','C','G','T']\n",
        "#  for x in DNA:\n",
        "#    found =0\n",
        "#    for n in Nucleotides:\n",
        "#      if x.find(motif+ n +motif)>=0:\n",
        "#        found =1\n",
        "#    if found ==1:\n",
        "#      y.append(x)\n",
        "#  return(y) \n",
        "\n",
        "#o = DNA_find2(DNA_motifs,'C')\n",
        "#print (o)\n"
      ],
      "execution_count": null,
      "outputs": []
    }
  ]
}