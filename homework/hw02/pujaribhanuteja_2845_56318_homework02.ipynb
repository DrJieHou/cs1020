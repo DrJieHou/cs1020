{
  "nbformat": 4,
  "nbformat_minor": 0,
  "metadata": {
    "colab": {
      "name": "homework02.ipynb",
      "provenance": [],
      "collapsed_sections": []
    },
    "kernelspec": {
      "name": "python3",
      "display_name": "Python 3"
    }
  },
  "cells": [
    {
      "cell_type": "code",
      "metadata": {
        "id": "ywfwXClPjog8",
        "colab_type": "code",
        "colab": {
          "base_uri": "https://localhost:8080/",
          "height": 54
        },
        "outputId": "afca7fbf-d08d-40f7-be3e-65a2ad3d36ec"
      },
      "source": [
        "# Q1 Assume that we have one DNA sequence that has a string as \n",
        "# 'GTTGATGTAGCTTATATAAAGCAAGGCACTGAAAATGCCTAGATGAGTCATAGACTCCATAAACAACAGGTTTGGTCCCGGCCTTTTTATTAGCTGTCTGCAGGATTATACATGCAAAAATCCCTACACCGGTGAGAATGCCCTATGTACCACACTCAGGTTTAAAGGAGCAGACATCAAGCACACTGCTAAGTAGCTCACGACGTCTTGCTT' \n",
        "# which is comprised of four nucleotides (e.g. A, T, C, G). We would like to define a variable called 'DNA', and assign the sequence to this variable. Then we need to print the variable by print(\"DNA: \", DNA)\n",
        "# Please write your python codes for this activity.\n",
        "\n",
        "DNA = 'GTTGATGTAGCTTATATAAAGCAAGGCACTGAAAATGCCTAGATGAGTCATAGACTCCATAAACAACAGGTTTGGTCCCGGCCTTTTTATTAGCTGTCTGCAGGATTATACATGCAAAAATCCCTACACCGGTGAGAATGCCCTATGTACCACACTCAGGTTTAAAGGAGCAGACATCAAGCACACTGCTAAGTAGCTCACGACGTCTTGCTT'\n",
        "print('DNA: ', DNA)"
      ],
      "execution_count": 2,
      "outputs": [
        {
          "output_type": "stream",
          "text": [
            "DNA:  GTTGATGTAGCTTATATAAAGCAAGGCACTGAAAATGCCTAGATGAGTCATAGACTCCATAAACAACAGGTTTGGTCCCGGCCTTTTTATTAGCTGTCTGCAGGATTATACATGCAAAAATCCCTACACCGGTGAGAATGCCCTATGTACCACACTCAGGTTTAAAGGAGCAGACATCAAGCACACTGCTAAGTAGCTCACGACGTCTTGCTT\n"
          ],
          "name": "stdout"
        }
      ]
    },
    {
      "cell_type": "code",
      "metadata": {
        "id": "767AI87pkfXl",
        "colab_type": "code",
        "colab": {
          "base_uri": "https://localhost:8080/",
          "height": 34
        },
        "outputId": "c1ffcd0f-0fc3-488b-ab86-5e67619aae2b"
      },
      "source": [
        "# I. How long is this sequence?\n",
        "print('DNA length: ',len(DNA))"
      ],
      "execution_count": null,
      "outputs": [
        {
          "output_type": "stream",
          "text": [
            "DNA length:  213\n"
          ],
          "name": "stdout"
        }
      ]
    },
    {
      "cell_type": "code",
      "metadata": {
        "id": "UPkk7JlCkoHL",
        "colab_type": "code",
        "colab": {
          "base_uri": "https://localhost:8080/",
          "height": 34
        },
        "outputId": "a5de1fa3-157f-4a4e-d657-ad0748a002fc"
      },
      "source": [
        "# II. What is the first letter of the sequence?\n",
        "print('First letter: ', DNA[0])"
      ],
      "execution_count": null,
      "outputs": [
        {
          "output_type": "stream",
          "text": [
            "First letter:  G\n"
          ],
          "name": "stdout"
        }
      ]
    },
    {
      "cell_type": "code",
      "metadata": {
        "id": "cvoCJ2NAk8S5",
        "colab_type": "code",
        "colab": {
          "base_uri": "https://localhost:8080/",
          "height": 34
        },
        "outputId": "c1f8b4f2-98b4-49f4-d95f-8f68ebf1e457"
      },
      "source": [
        "# III. What is the last letter of the sequence?\n",
        "print('Last letter: ', DNA[-1])"
      ],
      "execution_count": null,
      "outputs": [
        {
          "output_type": "stream",
          "text": [
            "Last letter:  T\n"
          ],
          "name": "stdout"
        }
      ]
    },
    {
      "cell_type": "code",
      "metadata": {
        "id": "Myhc6mBVlBoj",
        "colab_type": "code",
        "colab": {
          "base_uri": "https://localhost:8080/",
          "height": 34
        },
        "outputId": "2cf536c6-9c23-4f61-c09e-92438bb56705"
      },
      "source": [
        "# IV. What are the first 10 characters of the sequence?\n",
        "print('First ten characters: ', DNA[:10])"
      ],
      "execution_count": null,
      "outputs": [
        {
          "output_type": "stream",
          "text": [
            "First ten characters:  GTTGATGTAG\n"
          ],
          "name": "stdout"
        }
      ]
    },
    {
      "cell_type": "code",
      "metadata": {
        "id": "tN1gytBtlSC3",
        "colab_type": "code",
        "colab": {
          "base_uri": "https://localhost:8080/",
          "height": 34
        },
        "outputId": "33adbbcf-799e-40ee-e1dc-b3fdd1a7ba05"
      },
      "source": [
        "# V. What are the last 10 characters of the sequence?\n",
        "print('Last ten characters: ', DNA[-10:])"
      ],
      "execution_count": null,
      "outputs": [
        {
          "output_type": "stream",
          "text": [
            "Last ten characters:  CGTCTTGCTT\n"
          ],
          "name": "stdout"
        }
      ]
    },
    {
      "cell_type": "code",
      "metadata": {
        "id": "j3YbAZZZmMOu",
        "colab_type": "code",
        "colab": {
          "base_uri": "https://localhost:8080/",
          "height": 34
        },
        "outputId": "a90ac81e-5ef4-47b3-f19c-0a9d38cb6cd5"
      },
      "source": [
        "# VI. How many times does the character 'C' appear in the sequence?\n",
        "print('Number of C characters: ', DNA.count('C'))"
      ],
      "execution_count": null,
      "outputs": [
        {
          "output_type": "stream",
          "text": [
            "Number of C characters:  49\n"
          ],
          "name": "stdout"
        }
      ]
    },
    {
      "cell_type": "code",
      "metadata": {
        "id": "POJ5k9ypm6_3",
        "colab_type": "code",
        "colab": {
          "base_uri": "https://localhost:8080/",
          "height": 34
        },
        "outputId": "2ee08bca-58e5-41ac-bc9d-0e2b735156a8"
      },
      "source": [
        "# VII. What is the index at which the first occurrence of the pattern CCAAT begins?\n",
        "\n",
        "if 'CCAAT' in DNA:\n",
        "  print(DNA.index('CCAAT'))\n",
        "else: \n",
        "  print('Pattern not in DNA sequence')\n"
      ],
      "execution_count": null,
      "outputs": [
        {
          "output_type": "stream",
          "text": [
            "Pattern not in DNA sequence\n"
          ],
          "name": "stdout"
        }
      ]
    },
    {
      "cell_type": "code",
      "metadata": {
        "id": "hFXedF9DoEWu",
        "colab_type": "code",
        "colab": {
          "base_uri": "https://localhost:8080/",
          "height": 34
        },
        "outputId": "06d5a344-ec55-4057-97e1-d38d5754ad61"
      },
      "source": [
        "# Q2: I. Based on the sequence defined in Q1, write codes to see if the first 10 characters of the sequence and the last 10 characters of the sequence are equal.\n",
        "#    II. Write Python code to check if the number of the character 'C' is equal to the number of the character 'A' in the DNA sequence.\n",
        "\n",
        "print(DNA[:10]==DNA[-10:])"
      ],
      "execution_count": null,
      "outputs": [
        {
          "output_type": "stream",
          "text": [
            "False\n"
          ],
          "name": "stdout"
        }
      ]
    },
    {
      "cell_type": "code",
      "metadata": {
        "id": "NbZEqtnFqnTy",
        "colab_type": "code",
        "colab": {
          "base_uri": "https://localhost:8080/",
          "height": 34
        },
        "outputId": "ef1f40f1-8db9-446e-ed75-1091058e05f9"
      },
      "source": [
        "print(DNA.count('C')==DNA.count('A'))"
      ],
      "execution_count": null,
      "outputs": [
        {
          "output_type": "stream",
          "text": [
            "False\n"
          ],
          "name": "stdout"
        }
      ]
    },
    {
      "cell_type": "code",
      "metadata": {
        "id": "hxyt3k1jq5Oa",
        "colab_type": "code",
        "colab": {
          "base_uri": "https://localhost:8080/",
          "height": 34
        },
        "outputId": "c531a415-b39b-41a0-9513-11497bcbce06"
      },
      "source": [
        "# Q3. I. Write Python code to check if the number of the character 'C'  is greater than or equal to the number of the character 'A' in the DNA sequence.\n",
        "#    II. Write Python code to check if the index at which the first occurrence of the letter 'C' is greater than the index at which the first occurrence of the letter 'A'.\n",
        "\n",
        "print(DNA.count('C') >= DNA.count('A'))"
      ],
      "execution_count": null,
      "outputs": [
        {
          "output_type": "stream",
          "text": [
            "False\n"
          ],
          "name": "stdout"
        }
      ]
    },
    {
      "cell_type": "code",
      "metadata": {
        "id": "5R6qG1c5rnWc",
        "colab_type": "code",
        "colab": {
          "base_uri": "https://localhost:8080/",
          "height": 34
        },
        "outputId": "715f429c-4e06-4fa9-e90b-707a1c66b200"
      },
      "source": [
        "print(DNA.index('C') > DNA.index('A'))"
      ],
      "execution_count": null,
      "outputs": [
        {
          "output_type": "stream",
          "text": [
            "True\n"
          ],
          "name": "stdout"
        }
      ]
    },
    {
      "cell_type": "code",
      "metadata": {
        "id": "v6NG6qHZr9fP",
        "colab_type": "code",
        "colab": {
          "base_uri": "https://localhost:8080/",
          "height": 34
        },
        "outputId": "4062fbdf-500c-4684-89cf-c9e9f8a000e4"
      },
      "source": [
        "# Q4: I. Write Python code to check if the number of the character 'C'  is greater than the number of the character 'A'  and smaller than the number of the character 'G' in the DNA sequence.\n",
        "#    II. Write Python code to check if the number of the character 'C'  is greater than the number of the character 'A'  or smaller than the number of the character 'G' in the DNA sequence.\n",
        "#   III. Suppose  we have variables x = 8  and y = 9, what will the result be if you execute the command not(not(x < 3) and not(y > 14 or y > 10))  in the notebook?   Note: not has higher precedence than and  and or.\n",
        "\n",
        "print(DNA.count('C') > DNA.count('A') and DNA.count('C') < DNA.count('G'))"
      ],
      "execution_count": null,
      "outputs": [
        {
          "output_type": "stream",
          "text": [
            "False\n"
          ],
          "name": "stdout"
        }
      ]
    },
    {
      "cell_type": "code",
      "metadata": {
        "id": "Yn9GYKO0siQK",
        "colab_type": "code",
        "colab": {
          "base_uri": "https://localhost:8080/",
          "height": 34
        },
        "outputId": "2e6870e3-93eb-4f3e-ecc1-ddf74697243c"
      },
      "source": [
        "print(DNA.count('C') > DNA.count('A') or DNA.count('C') < DNA.count('G'))"
      ],
      "execution_count": null,
      "outputs": [
        {
          "output_type": "stream",
          "text": [
            "False\n"
          ],
          "name": "stdout"
        }
      ]
    },
    {
      "cell_type": "code",
      "metadata": {
        "id": "IRToduG9s66-",
        "colab_type": "code",
        "colab": {
          "base_uri": "https://localhost:8080/",
          "height": 34
        },
        "outputId": "a17aa557-72f7-4b02-c845-04a336d922ee"
      },
      "source": [
        "x = 8\n",
        "y = 9\n",
        "\n",
        "not(not(x < 3) and not (y >14 or y > 10))"
      ],
      "execution_count": null,
      "outputs": [
        {
          "output_type": "execute_result",
          "data": {
            "text/plain": [
              "False"
            ]
          },
          "metadata": {
            "tags": []
          },
          "execution_count": 61
        }
      ]
    },
    {
      "cell_type": "code",
      "metadata": {
        "id": "adNvDVO0tJTH",
        "colab_type": "code",
        "colab": {
          "base_uri": "https://localhost:8080/",
          "height": 34
        },
        "outputId": "495178fd-26ca-498b-e09f-c61d5ae44daa"
      },
      "source": [
        "# Q5: I. What will the output be if you run this piece of code in the notebook?\n",
        "#    II. Use if, elif and else, check the length of DNA sequence in Q1 with the following conditions: if the length is shorter than 100, print 'the DNA sequence is short.', otherwise if the length is shorter than 500, print \"the DNA sequence is medium\", otherwise, print \"the length is long\".\n",
        "\n",
        "area = 10.0\n",
        "if (area < 9) :\n",
        "    print(\"small\")\n",
        "elif (area < 12) :\n",
        "    print(\"medium\")\n",
        "else:\n",
        "    print(\"large\")"
      ],
      "execution_count": null,
      "outputs": [
        {
          "output_type": "stream",
          "text": [
            "medium\n"
          ],
          "name": "stdout"
        }
      ]
    },
    {
      "cell_type": "code",
      "metadata": {
        "id": "B9Z5Ps_MtemI",
        "colab_type": "code",
        "colab": {
          "base_uri": "https://localhost:8080/",
          "height": 34
        },
        "outputId": "1cc075ce-8195-485d-d9dd-11034d52c2b6"
      },
      "source": [
        "if (len(DNA) < 100): \n",
        "  print('The DNA sequence is short.')\n",
        "elif (len(DNA) < 500):\n",
        "  print('The DNA sequence is medium.')\n",
        "else:\n",
        "  print('The length is long.')"
      ],
      "execution_count": null,
      "outputs": [
        {
          "output_type": "stream",
          "text": [
            "The DNA sequence is medium.\n"
          ],
          "name": "stdout"
        }
      ]
    },
    {
      "cell_type": "code",
      "metadata": {
        "id": "7miQmF_Hub3p",
        "colab_type": "code",
        "colab": {
          "base_uri": "https://localhost:8080/",
          "height": 68
        },
        "outputId": "5a09bdbf-4ed3-498b-801c-6d0c04d13fcb"
      },
      "source": [
        "# Q6. I. Can you tell how many printouts the above while loop will do?\n",
        "#    II. Use while loop, keep printing the letters from left to right in the DNA sequence until you reach the letter 'C'. Note: recall how the keyword break or continue works.\n",
        "\n",
        "# Answer: 3 printouts because number 4 is not shorter than the value 4.\n"
      ],
      "execution_count": null,
      "outputs": [
        {
          "output_type": "stream",
          "text": [
            "1\n",
            "2\n",
            "3\n"
          ],
          "name": "stdout"
        }
      ]
    },
    {
      "cell_type": "code",
      "metadata": {
        "id": "6XZDHEU5gIIu",
        "colab_type": "code",
        "colab": {
          "base_uri": "https://localhost:8080/",
          "height": 204
        },
        "outputId": "31b1892f-df66-42bf-fcf4-9d2740431efa"
      },
      "source": [
        "strIndex=0;\n",
        "myString='';\n",
        "while (myString != 'C'): \n",
        "  myString = DNA[strIndex]\n",
        "  print(myString)\n",
        "  strIndex = strIndex + 1"
      ],
      "execution_count": null,
      "outputs": [
        {
          "output_type": "stream",
          "text": [
            "G\n",
            "T\n",
            "T\n",
            "G\n",
            "A\n",
            "T\n",
            "G\n",
            "T\n",
            "A\n",
            "G\n",
            "C\n"
          ],
          "name": "stdout"
        }
      ]
    },
    {
      "cell_type": "code",
      "metadata": {
        "id": "ymZEk76sUEuh",
        "colab_type": "code",
        "colab": {
          "base_uri": "https://localhost:8080/",
          "height": 68
        },
        "outputId": "8dc10d67-4872-4788-d8fe-3c67fb932a02"
      },
      "source": [
        "# Q7: I. Write a for loop that goes through each element of course_ids. On each iteration, \"the course id is x\" should be printed out, where x is the id value in this iteration.\n",
        "#    II. Use for loop, keep printing the letters from left to right in the DNA sequence until you reach the letter 'C'.  Note: recall how the keyword break or continue works.\n",
        "#          Note well that we do an index-based loop with for ind in range(0,length). As a sanity check, if the dna has length 5, given for ind in range(0,5), we will test five elements: dna[0], dna[1],  dna[2],  dna[3],  and dna[4].\n",
        " \n",
        "course_ids= ['CSCI1020', 'CSCI1030', 'CSCI1070']\n",
        "for id in course_ids: \n",
        "    print('The Course id is ',id)\n"
      ],
      "execution_count": null,
      "outputs": [
        {
          "output_type": "stream",
          "text": [
            "The Course id is  CSCI1020\n",
            "The Course id is  CSCI1030\n",
            "The Course id is  CSCI1070\n"
          ],
          "name": "stdout"
        }
      ]
    },
    {
      "cell_type": "code",
      "metadata": {
        "id": "mb1iMrVCigNZ",
        "colab_type": "code",
        "colab": {
          "base_uri": "https://localhost:8080/",
          "height": 204
        },
        "outputId": "0c34ca3d-0861-4c31-c455-fed54428668d"
      },
      "source": [
        "for ind in range(0, len(DNA)):\n",
        "    print(DNA[ind])\n",
        "    if DNA[ind] == 'C':\n",
        "      break\n"
      ],
      "execution_count": null,
      "outputs": [
        {
          "output_type": "stream",
          "text": [
            "G\n",
            "T\n",
            "T\n",
            "G\n",
            "A\n",
            "T\n",
            "G\n",
            "T\n",
            "A\n",
            "G\n",
            "C\n"
          ],
          "name": "stdout"
        }
      ]
    },
    {
      "cell_type": "code",
      "metadata": {
        "id": "jXvzuqkGnbtU",
        "colab_type": "code",
        "colab": {
          "base_uri": "https://localhost:8080/",
          "height": 68
        },
        "outputId": "9231aa04-3bd4-4840-e69f-5bc00298e78e"
      },
      "source": [
        "# Q8: I. Write a for loop that goes through each key:value pair of CS_courses. On each iteration, \"the course name of x is y\" should be printed out, where x is the key and y is the value of the pair.\n",
        "\n",
        "CS_courses= { \"CSCI1020\":\"Intro to bioinformatics\", \n",
        "          \"CSCI1030\":'Intro to Game Design',\n",
        "          \"CSCI1070\":'Intro  to Big Data' }\n",
        "for key,value in CS_courses.items():\n",
        "  print('The course name of ', key, 'is ', value)\n"
      ],
      "execution_count": null,
      "outputs": [
        {
          "output_type": "stream",
          "text": [
            "The course name of  CSCI1020 is  Intro to bioinformatics\n",
            "The course name of  CSCI1030 is  Intro to Game Design\n",
            "The course name of  CSCI1070 is  Intro  to Big Data\n"
          ],
          "name": "stdout"
        }
      ]
    },
    {
      "cell_type": "code",
      "metadata": {
        "id": "wBAvUiEmrKdy",
        "colab_type": "code",
        "colab": {
          "base_uri": "https://localhost:8080/",
          "height": 34
        },
        "outputId": "59c7747b-834f-4ec1-9a4e-8371f3328ce4"
      },
      "source": [
        "# Q9: I. Can you tell which ones of the following lines of Python code are valid ways to build a list? Use type() function to valid them.\n",
        "\n",
        "type([1, 3, 4, 2])"
      ],
      "execution_count": null,
      "outputs": [
        {
          "output_type": "execute_result",
          "data": {
            "text/plain": [
              "list"
            ]
          },
          "metadata": {
            "tags": []
          },
          "execution_count": 63
        }
      ]
    },
    {
      "cell_type": "code",
      "metadata": {
        "id": "rHWV2feQsUyz",
        "colab_type": "code",
        "colab": {
          "base_uri": "https://localhost:8080/",
          "height": 34
        },
        "outputId": "7fcceba0-b8e5-4e6e-8913-db6735f42a5f"
      },
      "source": [
        "type([[1, 2, 3], [4, 5, 7]])"
      ],
      "execution_count": null,
      "outputs": [
        {
          "output_type": "execute_result",
          "data": {
            "text/plain": [
              "list"
            ]
          },
          "metadata": {
            "tags": []
          },
          "execution_count": 64
        }
      ]
    },
    {
      "cell_type": "code",
      "metadata": {
        "id": "ZeY7H-d6sX1K",
        "colab_type": "code",
        "colab": {
          "base_uri": "https://localhost:8080/",
          "height": 34
        },
        "outputId": "9dc98588-1f28-45be-f676-672e5ee0d90f"
      },
      "source": [
        "type([1 + 2, \"a\" * 5, 3])"
      ],
      "execution_count": null,
      "outputs": [
        {
          "output_type": "execute_result",
          "data": {
            "text/plain": [
              "list"
            ]
          },
          "metadata": {
            "tags": []
          },
          "execution_count": 65
        }
      ]
    },
    {
      "cell_type": "code",
      "metadata": {
        "id": "1PzVfacTsaRc",
        "colab_type": "code",
        "colab": {
          "base_uri": "https://localhost:8080/",
          "height": 34
        },
        "outputId": "21c83f0a-27d8-4cae-91db-cac7c8a02f4a"
      },
      "source": [
        "# Q10: 1. How often is a letter followed immediately by the same letter in the DNA sequence?\n",
        "\n",
        "previousValue='';\n",
        "incrementor = 0;\n",
        "for i in range(len(DNA)):\n",
        "  currentValue = DNA[i];\n",
        "  if (currentValue == previousValue):\n",
        "    incrementor = incrementor+1;\n",
        "  previousValue = currentValue;\n",
        "print(incrementor);\n"
      ],
      "execution_count": 26,
      "outputs": [
        {
          "output_type": "stream",
          "text": [
            "51\n"
          ],
          "name": "stdout"
        }
      ]
    },
    {
      "cell_type": "code",
      "metadata": {
        "id": "3O8JicputKem",
        "colab_type": "code",
        "colab": {
          "base_uri": "https://localhost:8080/",
          "height": 34
        },
        "outputId": "ea76ad6e-baba-4d2f-fcea-1ebe3a95ef83"
      },
      "source": [
        "# 2.  If two consecutive nucleotides match each other, how often is the next nucleotide that same nucleotide?\n",
        "seg_1 = DNA.count('CCC') \n",
        "seg_2 = DNA.count('AAA')\n",
        "seg_3 = DNA.count('GGG')\n",
        "seg_4 = DNA.count('TTT')\n",
        "\n",
        "total = seg_1+seg_2+seg_3+seg_4\n",
        "total_percent = (total/incrementor)*100\n",
        "rounded_percent = '{0:.4g}'.format(total_percent)\n",
        "\n",
        "print(rounded_percent, '%')"
      ],
      "execution_count": 24,
      "outputs": [
        {
          "output_type": "stream",
          "text": [
            "21.57 %\n"
          ],
          "name": "stdout"
        }
      ]
    },
    {
      "cell_type": "code",
      "metadata": {
        "id": "mI_T1yPVtNxt",
        "colab_type": "code",
        "colab": {
          "base_uri": "https://localhost:8080/",
          "height": 51
        },
        "outputId": "3319f3f0-4d63-4b32-e9ff-ebcfe0b8351a"
      },
      "source": [
        "# 3.  How many times does a motif of the form CC?AT occur within the sequence? (where ? could be anything)\n",
        "total = 0\n",
        "for k in range(len(DNA)-4):   \n",
        "    if DNA[k:k+2] == 'CC' and DNA[k+3:k+5] == 'AT':\n",
        "        total += 1\n",
        "\n",
        "print(\"Pattern CC?AT occurs {} times\".format(total))\n",
        "print()\n"
      ],
      "execution_count": 3,
      "outputs": [
        {
          "output_type": "stream",
          "text": [
            "Pattern CC?AT occurs 1 times\n",
            "\n"
          ],
          "name": "stdout"
        }
      ]
    },
    {
      "cell_type": "code",
      "metadata": {
        "id": "ThuOZ84yt5hO",
        "colab_type": "code",
        "colab": {
          "base_uri": "https://localhost:8080/",
          "height": 34
        },
        "outputId": "cbc67f3d-86b1-4d11-dd77-b5b86e05c808"
      },
      "source": [
        "# 4. When the motif CC?AT does occur, what percentage of the time is the middle nucleotide an A? (A so-called cat box CCAAT)\n",
        "\n",
        "seg1 = DNA.count('CCCAT')\n",
        "seg2 = DNA.count('CCAAT')\n",
        "seg3 = DNA.count('CCGAT')\n",
        "seg4 = DNA.count('CCTAT')\n",
        "total = seg1 + seg2 +seg3 +seg4 \n",
        "if seg2 >= 0:\n",
        "  percent = ((seg2)/(total))*100\n",
        "  print(percent, '%')"
      ],
      "execution_count": 3,
      "outputs": [
        {
          "output_type": "stream",
          "text": [
            "0.0 %\n"
          ],
          "name": "stdout"
        }
      ]
    }
  ]
}