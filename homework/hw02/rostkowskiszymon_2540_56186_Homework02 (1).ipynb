{
  "nbformat": 4,
  "nbformat_minor": 0,
  "metadata": {
    "colab": {
      "name": "Homework02.ipynb",
      "provenance": []
    },
    "kernelspec": {
      "name": "python3",
      "display_name": "Python 3"
    }
  },
  "cells": [
    {
      "cell_type": "code",
      "metadata": {
        "id": "acafjZhqJjoR",
        "colab_type": "code",
        "colab": {}
      },
      "source": [
        "#Question 1: String"
      ],
      "execution_count": null,
      "outputs": []
    },
    {
      "cell_type": "code",
      "metadata": {
        "id": "KuD6aA6sIWYs",
        "colab_type": "code",
        "colab": {}
      },
      "source": [
        "DNA = 'GTTGATGTAGCTTATATAAAGCAAGGCACTGAAAATGCCTAGATGAGTCATAGACTCCATAAACAACAGGTTTGGTCCCGGCCTTTTTATTAGCTGTCTGCAGGATTATACATGCAAAAATCCCTACACCGGTGAGAATGCCCTATGTACCACACTCAGGTTTAAAGGAGCAGACATCAAGCACACTGCTAAGTAGCTCACGACGTCTTGCTT' "
      ],
      "execution_count": null,
      "outputs": []
    },
    {
      "cell_type": "code",
      "metadata": {
        "id": "l1whdKyQJ31a",
        "colab_type": "code",
        "colab": {
          "base_uri": "https://localhost:8080/",
          "height": 54
        },
        "outputId": "3df76185-06b0-4f2f-fc7e-d593031525ec"
      },
      "source": [
        "print(\"DNA:\", DNA)"
      ],
      "execution_count": null,
      "outputs": [
        {
          "output_type": "stream",
          "text": [
            "DNA: GTTGATGTAGCTTATATAAAGCAAGGCACTGAAAATGCCTAGATGAGTCATAGACTCCATAAACAACAGGTTTGGTCCCGGCCTTTTTATTAGCTGTCTGCAGGATTATACATGCAAAAATCCCTACACCGGTGAGAATGCCCTATGTACCACACTCAGGTTTAAAGGAGCAGACATCAAGCACACTGCTAAGTAGCTCACGACGTCTTGCTT\n"
          ],
          "name": "stdout"
        }
      ]
    },
    {
      "cell_type": "code",
      "metadata": {
        "id": "gD5cWoD2Ipyg",
        "colab_type": "code",
        "colab": {}
      },
      "source": [
        "#How long is this sequence?"
      ],
      "execution_count": null,
      "outputs": []
    },
    {
      "cell_type": "code",
      "metadata": {
        "id": "1MaBR0GRIyqq",
        "colab_type": "code",
        "colab": {
          "base_uri": "https://localhost:8080/",
          "height": 34
        },
        "outputId": "2bea50d6-0719-41ac-9b8b-80893d14bfc9"
      },
      "source": [
        "len(DNA)"
      ],
      "execution_count": null,
      "outputs": [
        {
          "output_type": "execute_result",
          "data": {
            "text/plain": [
              "213"
            ]
          },
          "metadata": {
            "tags": []
          },
          "execution_count": 26
        }
      ]
    },
    {
      "cell_type": "code",
      "metadata": {
        "id": "3qyHbX__I8Q3",
        "colab_type": "code",
        "colab": {}
      },
      "source": [
        "# What is the first letter of the sequence?"
      ],
      "execution_count": null,
      "outputs": []
    },
    {
      "cell_type": "code",
      "metadata": {
        "id": "lneIQKLAI2Hn",
        "colab_type": "code",
        "colab": {
          "base_uri": "https://localhost:8080/",
          "height": 35
        },
        "outputId": "9165738e-c8ae-4bee-9755-929b5daa8fd2"
      },
      "source": [
        "DNA[0]"
      ],
      "execution_count": null,
      "outputs": [
        {
          "output_type": "execute_result",
          "data": {
            "application/vnd.google.colaboratory.intrinsic+json": {
              "type": "string"
            },
            "text/plain": [
              "'G'"
            ]
          },
          "metadata": {
            "tags": []
          },
          "execution_count": 3
        }
      ]
    },
    {
      "cell_type": "code",
      "metadata": {
        "id": "xKGXha88I5cR",
        "colab_type": "code",
        "colab": {}
      },
      "source": [
        "#What is the last letter of the sequence?"
      ],
      "execution_count": null,
      "outputs": []
    },
    {
      "cell_type": "code",
      "metadata": {
        "id": "BotQPbFbJBBp",
        "colab_type": "code",
        "colab": {
          "base_uri": "https://localhost:8080/",
          "height": 35
        },
        "outputId": "b374f80d-b2ca-4e0c-84ce-0a9cefcc873b"
      },
      "source": [
        "DNA[212]"
      ],
      "execution_count": null,
      "outputs": [
        {
          "output_type": "execute_result",
          "data": {
            "application/vnd.google.colaboratory.intrinsic+json": {
              "type": "string"
            },
            "text/plain": [
              "'T'"
            ]
          },
          "metadata": {
            "tags": []
          },
          "execution_count": 6
        }
      ]
    },
    {
      "cell_type": "code",
      "metadata": {
        "id": "FlsqazknJJ_P",
        "colab_type": "code",
        "colab": {}
      },
      "source": [
        "#What are the first 10 characters of the sequence?"
      ],
      "execution_count": null,
      "outputs": []
    },
    {
      "cell_type": "code",
      "metadata": {
        "id": "q95bGQ0_JOEa",
        "colab_type": "code",
        "colab": {
          "base_uri": "https://localhost:8080/",
          "height": 35
        },
        "outputId": "38c6df12-ea1a-40a9-b0f7-288995dce7d6"
      },
      "source": [
        "DNA[:10]"
      ],
      "execution_count": null,
      "outputs": [
        {
          "output_type": "execute_result",
          "data": {
            "application/vnd.google.colaboratory.intrinsic+json": {
              "type": "string"
            },
            "text/plain": [
              "'GTTGATGTAG'"
            ]
          },
          "metadata": {
            "tags": []
          },
          "execution_count": 8
        }
      ]
    },
    {
      "cell_type": "code",
      "metadata": {
        "id": "tV1Z6ZgcJpLC",
        "colab_type": "code",
        "colab": {}
      },
      "source": [
        "#What are the last 10 characters of the sequence?"
      ],
      "execution_count": null,
      "outputs": []
    },
    {
      "cell_type": "code",
      "metadata": {
        "id": "Vo3soa89J0yh",
        "colab_type": "code",
        "colab": {
          "base_uri": "https://localhost:8080/",
          "height": 35
        },
        "outputId": "2d237fbd-2d83-4222-cb32-08241b355c2d"
      },
      "source": [
        "DNA[-10:]"
      ],
      "execution_count": null,
      "outputs": [
        {
          "output_type": "execute_result",
          "data": {
            "application/vnd.google.colaboratory.intrinsic+json": {
              "type": "string"
            },
            "text/plain": [
              "'CGTCTTGCTT'"
            ]
          },
          "metadata": {
            "tags": []
          },
          "execution_count": 10
        }
      ]
    },
    {
      "cell_type": "code",
      "metadata": {
        "id": "wK1B_8gvKuoV",
        "colab_type": "code",
        "colab": {
          "base_uri": "https://localhost:8080/",
          "height": 34
        },
        "outputId": "d4dc25b3-cc67-41d3-caf1-f9f76ec5dd14"
      },
      "source": [
        "# How many times does the character 'C' appear in the sequence?\n",
        "DNA.count('C')"
      ],
      "execution_count": null,
      "outputs": [
        {
          "output_type": "execute_result",
          "data": {
            "text/plain": [
              "49"
            ]
          },
          "metadata": {
            "tags": []
          },
          "execution_count": 11
        }
      ]
    },
    {
      "cell_type": "code",
      "metadata": {
        "id": "QU9HehzFLQjT",
        "colab_type": "code",
        "colab": {}
      },
      "source": [
        "#What is the index at which the first occurrence of the pattern CCAAT begins?"
      ],
      "execution_count": null,
      "outputs": []
    },
    {
      "cell_type": "code",
      "metadata": {
        "id": "iZip2uHDLUdt",
        "colab_type": "code",
        "colab": {
          "base_uri": "https://localhost:8080/",
          "height": 34
        },
        "outputId": "7a4ea4a6-6526-481d-b830-77acb1e68823"
      },
      "source": [
        "DNA.find('CCAAT')\n",
        "# The index is -1 which means this set of characters doesnt exist"
      ],
      "execution_count": null,
      "outputs": [
        {
          "output_type": "execute_result",
          "data": {
            "text/plain": [
              "-1"
            ]
          },
          "metadata": {
            "tags": []
          },
          "execution_count": 20
        }
      ]
    },
    {
      "cell_type": "code",
      "metadata": {
        "id": "gToaAUAxOW0E",
        "colab_type": "code",
        "colab": {}
      },
      "source": [
        "#Question 2. Equality"
      ],
      "execution_count": null,
      "outputs": []
    },
    {
      "cell_type": "code",
      "metadata": {
        "id": "GPhlRoB4OchJ",
        "colab_type": "code",
        "colab": {}
      },
      "source": [
        "#Based on the sequence defined in Q1, \n",
        "# write codes to see if the first 10 characters of the sequence\n",
        "# and the last 10 characters of the sequence are equal."
      ],
      "execution_count": null,
      "outputs": []
    },
    {
      "cell_type": "code",
      "metadata": {
        "id": "6d5f9D6MOmy0",
        "colab_type": "code",
        "colab": {
          "base_uri": "https://localhost:8080/",
          "height": 34
        },
        "outputId": "13119160-3ae2-4594-f358-850d21bf18b9"
      },
      "source": [
        "DNA[:10] == DNA[-10:]"
      ],
      "execution_count": null,
      "outputs": [
        {
          "output_type": "execute_result",
          "data": {
            "text/plain": [
              "False"
            ]
          },
          "metadata": {
            "tags": []
          },
          "execution_count": 15
        }
      ]
    },
    {
      "cell_type": "code",
      "metadata": {
        "id": "7FgaQF5aOzF_",
        "colab_type": "code",
        "colab": {}
      },
      "source": [
        "#Write Python code to check if the number of the character \n",
        "#'C' is equal to the number of the character 'A' in the DNA sequence."
      ],
      "execution_count": null,
      "outputs": []
    },
    {
      "cell_type": "code",
      "metadata": {
        "id": "b2pgME4pO4bH",
        "colab_type": "code",
        "colab": {
          "base_uri": "https://localhost:8080/",
          "height": 34
        },
        "outputId": "36b03418-36a2-4bdf-a939-1d66674a0476"
      },
      "source": [
        "DNA.count('C') == DNA.count('A')"
      ],
      "execution_count": null,
      "outputs": [
        {
          "output_type": "execute_result",
          "data": {
            "text/plain": [
              "False"
            ]
          },
          "metadata": {
            "tags": []
          },
          "execution_count": 16
        }
      ]
    },
    {
      "cell_type": "code",
      "metadata": {
        "id": "bIpnJHk3Ptb4",
        "colab_type": "code",
        "colab": {}
      },
      "source": [
        "#Question 3. Greater and less than"
      ],
      "execution_count": null,
      "outputs": []
    },
    {
      "cell_type": "code",
      "metadata": {
        "id": "vcRmCf-BPytb",
        "colab_type": "code",
        "colab": {}
      },
      "source": [
        "#Write Python code to check if the number of the character 'C'  is \n",
        "#greater than or equal to the number of the character 'A' in the DNA sequence."
      ],
      "execution_count": null,
      "outputs": []
    },
    {
      "cell_type": "code",
      "metadata": {
        "id": "JG87rsrgP4ys",
        "colab_type": "code",
        "colab": {
          "base_uri": "https://localhost:8080/",
          "height": 34
        },
        "outputId": "82503332-07a6-44c6-ba32-c1bd926373ef"
      },
      "source": [
        "DNA.count('C') >= DNA.count('A')"
      ],
      "execution_count": null,
      "outputs": [
        {
          "output_type": "execute_result",
          "data": {
            "text/plain": [
              "False"
            ]
          },
          "metadata": {
            "tags": []
          },
          "execution_count": 17
        }
      ]
    },
    {
      "cell_type": "code",
      "metadata": {
        "id": "7hPnNnFkQVyc",
        "colab_type": "code",
        "colab": {}
      },
      "source": [
        "#Write Python code to check if the index at which the first occurrence of the letter 'C' is greater than the index at which the first occurrence of the letter 'A'."
      ],
      "execution_count": null,
      "outputs": []
    },
    {
      "cell_type": "code",
      "metadata": {
        "id": "Cp1lFx-LSxMY",
        "colab_type": "code",
        "colab": {
          "base_uri": "https://localhost:8080/",
          "height": 34
        },
        "outputId": "1966c0c2-7baa-4d1e-e62e-55eef54b8413"
      },
      "source": [
        "DNA.index('C') > DNA.index('A')"
      ],
      "execution_count": null,
      "outputs": [
        {
          "output_type": "execute_result",
          "data": {
            "text/plain": [
              "True"
            ]
          },
          "metadata": {
            "tags": []
          },
          "execution_count": 21
        }
      ]
    },
    {
      "cell_type": "code",
      "metadata": {
        "id": "fxP5EnzfThof",
        "colab_type": "code",
        "colab": {}
      },
      "source": [
        "#Question 4. Boolean Operators: and, or, not"
      ],
      "execution_count": null,
      "outputs": []
    },
    {
      "cell_type": "code",
      "metadata": {
        "id": "hU0Nx82uTjQc",
        "colab_type": "code",
        "colab": {}
      },
      "source": [
        "#Write Python code to check if the number of the character 'C'  \n",
        "#is greater than the number of the character 'A'  and smaller than \n",
        "#the number of the character 'G' in the DNA sequence."
      ],
      "execution_count": null,
      "outputs": []
    },
    {
      "cell_type": "code",
      "metadata": {
        "id": "UnrkRxSuT5e4",
        "colab_type": "code",
        "colab": {
          "base_uri": "https://localhost:8080/",
          "height": 34
        },
        "outputId": "fa529c9f-ac38-442d-8cdc-1cad7ac00381"
      },
      "source": [
        "DNA.count('C') > DNA.count('A') and DNA.count('G')"
      ],
      "execution_count": null,
      "outputs": [
        {
          "output_type": "execute_result",
          "data": {
            "text/plain": [
              "False"
            ]
          },
          "metadata": {
            "tags": []
          },
          "execution_count": 22
        }
      ]
    },
    {
      "cell_type": "code",
      "metadata": {
        "id": "dE_gHPieUIaq",
        "colab_type": "code",
        "colab": {}
      },
      "source": [
        "#Write Python code to check if the number of the character 'C'\n",
        "#is greater than the number of the character 'A'  or smaller \n",
        "#than the number of the character 'G' in the DNA sequence."
      ],
      "execution_count": null,
      "outputs": []
    },
    {
      "cell_type": "code",
      "metadata": {
        "id": "_KuPDg3hUQc-",
        "colab_type": "code",
        "colab": {
          "base_uri": "https://localhost:8080/",
          "height": 34
        },
        "outputId": "6e070c2a-78bf-42d6-b6f5-91bc0d52e2bb"
      },
      "source": [
        "DNA.count('C') > DNA.count('A') or DNA.count('C') < DNA.count('G')"
      ],
      "execution_count": null,
      "outputs": [
        {
          "output_type": "execute_result",
          "data": {
            "text/plain": [
              "False"
            ]
          },
          "metadata": {
            "tags": []
          },
          "execution_count": 25
        }
      ]
    },
    {
      "cell_type": "code",
      "metadata": {
        "id": "JBm8qHg5Vk03",
        "colab_type": "code",
        "colab": {}
      },
      "source": [
        "#Suppose  we have variables x = 8  and y = 9, what will the result be if \n",
        "#you execute the command not(not(x < 3) and not(y > 14 or y > 10))  in the \n",
        "#notebook?   Note: not has higher precedence than and  and or.\n",
        " \n",
        "\n"
      ],
      "execution_count": null,
      "outputs": []
    },
    {
      "cell_type": "code",
      "metadata": {
        "id": "4LAEZcYEYqkU",
        "colab_type": "code",
        "colab": {}
      },
      "source": [
        "#not(not(false) and not(false and false))\n",
        "#not(true and true)\n",
        "#false\n",
        "#the code would end up being false"
      ],
      "execution_count": null,
      "outputs": []
    },
    {
      "cell_type": "code",
      "metadata": {
        "id": "uF5qaafZaPg4",
        "colab_type": "code",
        "colab": {
          "base_uri": "https://localhost:8080/",
          "height": 34
        },
        "outputId": "9c463800-ea5d-4e4b-8dfa-e35d5652b5f0"
      },
      "source": [
        "x=8\n",
        "x=9\n",
        "not(not(x < 3) and not(y > 14 or y > 10)) "
      ],
      "execution_count": null,
      "outputs": [
        {
          "output_type": "execute_result",
          "data": {
            "text/plain": [
              "False"
            ]
          },
          "metadata": {
            "tags": []
          },
          "execution_count": 28
        }
      ]
    },
    {
      "cell_type": "code",
      "metadata": {
        "id": "sXRY8mm6aa-x",
        "colab_type": "code",
        "colab": {}
      },
      "source": [
        "# Question 5. Control Flow"
      ],
      "execution_count": null,
      "outputs": []
    },
    {
      "cell_type": "code",
      "metadata": {
        "id": "-oEuIh9BarO7",
        "colab_type": "code",
        "colab": {
          "base_uri": "https://localhost:8080/",
          "height": 34
        },
        "outputId": "41f6db8e-4778-4da7-e952-c6fa81bf18e9"
      },
      "source": [
        "#What will the output be if you run this piece of code in the notebook?\n",
        "area = 10.0\n",
        "if(area < 9) :\n",
        "    print(\"small\")\n",
        "elif(area < 12) :\n",
        "    print(\"medium\")\n",
        "else :\n",
        "    print(\"large\")"
      ],
      "execution_count": null,
      "outputs": [
        {
          "output_type": "stream",
          "text": [
            "medium\n"
          ],
          "name": "stdout"
        }
      ]
    },
    {
      "cell_type": "code",
      "metadata": {
        "id": "HyoOhZtFbGG_",
        "colab_type": "code",
        "colab": {}
      },
      "source": [
        "#Use if, elif and else, check the length of DNA sequence in Q1 with the following conditions:\n",
        "# if the length is shorter than 100, print 'the DNA sequence is short.', otherwise if the length \n",
        "#is shorter than 500, print \"the DNA sequence is medium\", otherwise, print \"the length is long\".\n",
        " "
      ],
      "execution_count": null,
      "outputs": []
    },
    {
      "cell_type": "code",
      "metadata": {
        "id": "ndMjo4j4c5ds",
        "colab_type": "code",
        "colab": {
          "base_uri": "https://localhost:8080/",
          "height": 34
        },
        "outputId": "dafec9f2-4f5d-4e2f-b1b7-e364cd48edbc"
      },
      "source": [
        "if len(DNA) < 100:\n",
        "  print('The DNA sequence is short.')\n",
        "elif len(DNA) < 500:\n",
        "  print('The DNA sequence is medium')\n",
        "else:\n",
        "  print('The length is long')\n"
      ],
      "execution_count": null,
      "outputs": [
        {
          "output_type": "stream",
          "text": [
            "The DNA sequence is medium\n"
          ],
          "name": "stdout"
        }
      ]
    },
    {
      "cell_type": "code",
      "metadata": {
        "id": "nx62PSysdrVz",
        "colab_type": "code",
        "colab": {}
      },
      "source": [
        "# Question 6. while/for loop"
      ],
      "execution_count": null,
      "outputs": []
    },
    {
      "cell_type": "code",
      "metadata": {
        "id": "Velz_TJfds3-",
        "colab_type": "code",
        "colab": {}
      },
      "source": [
        "#x = 1\n",
        "#while x < 4 :\n",
        "    #print(x)\n",
        "    #x = x + 1\n",
        "#Can you tell how many printouts the above while loop will do?\n",
        "# The code will loop 3 times"
      ],
      "execution_count": null,
      "outputs": []
    },
    {
      "cell_type": "code",
      "metadata": {
        "id": "St6Ga7NUd_5-",
        "colab_type": "code",
        "colab": {}
      },
      "source": [
        "#Use while loop, keep printing the letters from left to right in the \n",
        "#DNA sequence until you reach the letter 'C'. Note: recall how the \n",
        "#keyword break or continue works."
      ],
      "execution_count": null,
      "outputs": []
    },
    {
      "cell_type": "code",
      "metadata": {
        "id": "zN2pY_K_eUZI",
        "colab_type": "code",
        "colab": {
          "base_uri": "https://localhost:8080/",
          "height": 218
        },
        "outputId": "39dae3d6-fab7-4677-a1c3-818adf8236c7"
      },
      "source": [
        "num = 0\n",
        "while num < 1:\n",
        "  for element in DNA:\n",
        "    print(element)\n",
        "    if element == 'C':\n",
        "     print('This is the first occurence of \"C')\n",
        "     num = num +2\n",
        "     break\n",
        "    \n"
      ],
      "execution_count": null,
      "outputs": [
        {
          "output_type": "stream",
          "text": [
            "G\n",
            "T\n",
            "T\n",
            "G\n",
            "A\n",
            "T\n",
            "G\n",
            "T\n",
            "A\n",
            "G\n",
            "C\n",
            "This is the first occurence of \"C\n"
          ],
          "name": "stdout"
        }
      ]
    },
    {
      "cell_type": "code",
      "metadata": {
        "id": "yhERt1E48h9I",
        "colab_type": "code",
        "colab": {}
      },
      "source": [
        "# Question 7. Loop over a list/String"
      ],
      "execution_count": null,
      "outputs": []
    },
    {
      "cell_type": "code",
      "metadata": {
        "id": "CFwSz8u789rG",
        "colab_type": "code",
        "colab": {
          "base_uri": "https://localhost:8080/",
          "height": 67
        },
        "outputId": "fa65bb20-4a97-47c8-9ece-6ebdfdbf3f3a"
      },
      "source": [
        "course_ids= ['CSCI1020', 'CSCI1030', 'CSCI1070']\n",
        "for id in course_ids: \n",
        "    print(id)"
      ],
      "execution_count": null,
      "outputs": [
        {
          "output_type": "stream",
          "text": [
            "CSCI1020\n",
            "CSCI1030\n",
            "CSCI1070\n"
          ],
          "name": "stdout"
        }
      ]
    },
    {
      "cell_type": "code",
      "metadata": {
        "id": "ELT8zeS58x0J",
        "colab_type": "code",
        "colab": {}
      },
      "source": [
        "# Write a for loop that goes through each element of course_ids. \n",
        "#On each iteration, \"the course id is x\" should be printed out, \n",
        "#where x is the id value in this iteration."
      ],
      "execution_count": null,
      "outputs": []
    },
    {
      "cell_type": "code",
      "metadata": {
        "id": "0-LyqeeI85gy",
        "colab_type": "code",
        "colab": {
          "base_uri": "https://localhost:8080/",
          "height": 67
        },
        "outputId": "60a7a685-0bfd-4c4c-93bd-87214678003a"
      },
      "source": [
        "course_ids= ['CSCI1020', 'CSCI1030', 'CSCI1070']\n",
        "for id in course_ids: \n",
        "    print('the course id is', id)"
      ],
      "execution_count": null,
      "outputs": [
        {
          "output_type": "stream",
          "text": [
            "the course id is CSCI1020\n",
            "the course id is CSCI1030\n",
            "the course id is CSCI1070\n"
          ],
          "name": "stdout"
        }
      ]
    },
    {
      "cell_type": "code",
      "metadata": {
        "id": "DvmfGuRN9MST",
        "colab_type": "code",
        "colab": {}
      },
      "source": [
        "#Use for loop, keep printing the letters from left to right in the DNA sequence \n",
        "#until you reach the letter 'C'. \n",
        "#Note: recall how the keyword break or continue works."
      ],
      "execution_count": null,
      "outputs": []
    },
    {
      "cell_type": "code",
      "metadata": {
        "id": "hxAICoZp-6pV",
        "colab_type": "code",
        "colab": {
          "base_uri": "https://localhost:8080/",
          "height": 54
        },
        "outputId": "6cccccd0-81a2-4b5d-b877-9d459ecdbd33"
      },
      "source": [
        "DNA2 = []\n",
        "for element in DNA:\n",
        "  if element != 'C':\n",
        "    DNA2.append(element)\n",
        "  else:\n",
        "    DNA2.append(element + ': This is the first occurence of C')\n",
        "    print(DNA2)\n",
        "    break\n",
        "  \n",
        "  "
      ],
      "execution_count": null,
      "outputs": [
        {
          "output_type": "stream",
          "text": [
            "['G', 'T', 'T', 'G', 'A', 'T', 'G', 'T', 'A', 'G', 'C: This is the first occurence of C']\n"
          ],
          "name": "stdout"
        }
      ]
    },
    {
      "cell_type": "code",
      "metadata": {
        "id": "FDMzll0zAjC8",
        "colab_type": "code",
        "colab": {}
      },
      "source": [
        "#Question 8. Loop over dictionary"
      ],
      "execution_count": null,
      "outputs": []
    },
    {
      "cell_type": "code",
      "metadata": {
        "id": "ICeEECPGApzs",
        "colab_type": "code",
        "colab": {
          "base_uri": "https://localhost:8080/",
          "height": 67
        },
        "outputId": "785173f7-72d8-4dac-d37a-3e1beb8c0f01"
      },
      "source": [
        "CS_courses= { \"CSCI1020\":\"Intro to bioinformatics\", \n",
        "          \"CSCI1030\":'Intro to Game Design',\n",
        "          \"CSCI1070\":'Intro to Big Data' }\n",
        "\n",
        "for key, value in CS_courses.items() :\n",
        "    print(key + \" -- \" + str(value))"
      ],
      "execution_count": null,
      "outputs": [
        {
          "output_type": "stream",
          "text": [
            "CSCI1020 -- Intro to bioinformatics\n",
            "CSCI1030 -- Intro to Game Design\n",
            "CSCI1070 -- Intro to Big Data\n"
          ],
          "name": "stdout"
        }
      ]
    },
    {
      "cell_type": "code",
      "metadata": {
        "id": "rd4tCRBzKTUk",
        "colab_type": "code",
        "colab": {}
      },
      "source": [
        "#Write a for loop that goes through each key:value pair of CS_courses. On each iteration, \n",
        "#\"the course name of x is y\" should be printed out, where x is the key and y is the value of the pair."
      ],
      "execution_count": null,
      "outputs": []
    },
    {
      "cell_type": "code",
      "metadata": {
        "id": "byim5egPKagp",
        "colab_type": "code",
        "colab": {
          "base_uri": "https://localhost:8080/",
          "height": 67
        },
        "outputId": "c39cf74b-75af-4b45-ef96-644e61fd61b1"
      },
      "source": [
        "for key, value in CS_courses.items():\n",
        "  x = key\n",
        "  y = value\n",
        "  print('The course name of', x, 'is', y)"
      ],
      "execution_count": null,
      "outputs": [
        {
          "output_type": "stream",
          "text": [
            "The course name of CSCI1020 is Intro to bioinformatics\n",
            "The course name of CSCI1030 is Intro to Game Design\n",
            "The course name of CSCI1070 is Intro to Big Data\n"
          ],
          "name": "stdout"
        }
      ]
    },
    {
      "cell_type": "code",
      "metadata": {
        "id": "GsR2fqwI7XHP",
        "colab_type": "code",
        "colab": {}
      },
      "source": [
        "# Question 9.  Select the valid list"
      ],
      "execution_count": null,
      "outputs": []
    },
    {
      "cell_type": "code",
      "metadata": {
        "id": "2NIh8Xij8aGy",
        "colab_type": "code",
        "colab": {}
      },
      "source": [
        "#Can you tell which ones of the following lines of Python code are valid ways to build a list?"
      ],
      "execution_count": null,
      "outputs": []
    },
    {
      "cell_type": "code",
      "metadata": {
        "id": "lpFptKBQ8d2r",
        "colab_type": "code",
        "colab": {}
      },
      "source": [
        "#A. [1, 3, 4, 2]   B. [[1, 2, 3], [4, 5, 7]]    C. [1 + 2, \"a\" * 5, 3]"
      ],
      "execution_count": null,
      "outputs": []
    },
    {
      "cell_type": "code",
      "metadata": {
        "id": "7qRvyjfc8hym",
        "colab_type": "code",
        "colab": {}
      },
      "source": [
        "#All are list types"
      ],
      "execution_count": null,
      "outputs": []
    },
    {
      "cell_type": "code",
      "metadata": {
        "id": "_g9qkTCf7rLl",
        "colab_type": "code",
        "colab": {
          "base_uri": "https://localhost:8080/",
          "height": 34
        },
        "outputId": "a9d45f31-9543-4203-a93f-c434d8b8ca9b"
      },
      "source": [
        "type([1,3,4,2])"
      ],
      "execution_count": null,
      "outputs": [
        {
          "output_type": "execute_result",
          "data": {
            "text/plain": [
              "list"
            ]
          },
          "metadata": {
            "tags": []
          },
          "execution_count": 29
        }
      ]
    },
    {
      "cell_type": "code",
      "metadata": {
        "id": "mHpD0eFI8EiX",
        "colab_type": "code",
        "colab": {
          "base_uri": "https://localhost:8080/",
          "height": 34
        },
        "outputId": "ed1f12d5-a9ec-4320-b772-2327edbf56ba"
      },
      "source": [
        "type([[1,2,3],[4,5,7]])"
      ],
      "execution_count": null,
      "outputs": [
        {
          "output_type": "execute_result",
          "data": {
            "text/plain": [
              "list"
            ]
          },
          "metadata": {
            "tags": []
          },
          "execution_count": 30
        }
      ]
    },
    {
      "cell_type": "code",
      "metadata": {
        "id": "oanB4Lpi8OSL",
        "colab_type": "code",
        "colab": {
          "base_uri": "https://localhost:8080/",
          "height": 34
        },
        "outputId": "30b59a1e-111a-4636-f914-7ad00ce7b82b"
      },
      "source": [
        "type([1+2,\"a\"* 5,3])"
      ],
      "execution_count": null,
      "outputs": [
        {
          "output_type": "execute_result",
          "data": {
            "text/plain": [
              "list"
            ]
          },
          "metadata": {
            "tags": []
          },
          "execution_count": 31
        }
      ]
    },
    {
      "cell_type": "code",
      "metadata": {
        "id": "YjxuP9RM8l3J",
        "colab_type": "code",
        "colab": {}
      },
      "source": [
        "#Question 10. Integration\n",
        "# 1. How often is a letter followed immediately by the same letter in the DNA sequence?"
      ],
      "execution_count": null,
      "outputs": []
    },
    {
      "cell_type": "code",
      "metadata": {
        "id": "OkPCuU8O8wq-",
        "colab_type": "code",
        "colab": {}
      },
      "source": [
        "x = 0\n",
        "y = 1\n",
        "similar_letters = 0\n",
        "while y != (len(DNA) - 1):\n",
        " if DNA[x] == DNA[y]:\n",
        "  similar_letters = similar_letters +1\n",
        "  x = x + 1\n",
        "  y = y + 1\n",
        " if DNA[x] != DNA[y]:\n",
        "  x = x + 1\n",
        "  y = y + 1\n",
        "\n",
        "\n"
      ],
      "execution_count": null,
      "outputs": []
    },
    {
      "cell_type": "code",
      "metadata": {
        "id": "4Jy5GiwIBYqT",
        "colab_type": "code",
        "colab": {
          "base_uri": "https://localhost:8080/",
          "height": 34
        },
        "outputId": "78c4e5a6-9c6e-45e0-c5f4-d42dc64aea08"
      },
      "source": [
        "print('there are a total of', similar_letters, 'times where the same two nucleotides appear in a row')"
      ],
      "execution_count": null,
      "outputs": [
        {
          "output_type": "stream",
          "text": [
            "there are a total of 50 times where the same two nucleotides appear in a row\n"
          ],
          "name": "stdout"
        }
      ]
    },
    {
      "cell_type": "code",
      "metadata": {
        "id": "Gj3zWET8RObm",
        "colab_type": "code",
        "colab": {}
      },
      "source": [
        "#2. If two consecutive nucleotides match each other, how often is the next nucleotide that same nucleotide?"
      ],
      "execution_count": null,
      "outputs": []
    },
    {
      "cell_type": "code",
      "metadata": {
        "id": "TaUzzII7LLM4",
        "colab_type": "code",
        "colab": {}
      },
      "source": [
        "a = 0\n",
        "b = 1\n",
        "c = 2\n",
        "similar_letters3 = 0\n",
        "while c != (len(DNA) - 1):\n",
        "  if DNA[a] == DNA[b] and DNA[a] == DNA[c]:\n",
        "   similar_letters3 = similar_letters3 +1\n",
        "   a = a + 1\n",
        "   b = b + 1\n",
        "   c = c + 1\n",
        "  else:\n",
        "   a = a + 1\n",
        "   b = b + 1\n",
        "   c = c + 1"
      ],
      "execution_count": null,
      "outputs": []
    },
    {
      "cell_type": "code",
      "metadata": {
        "id": "x8azzLdDPr_Z",
        "colab_type": "code",
        "colab": {
          "base_uri": "https://localhost:8080/",
          "height": 34
        },
        "outputId": "d0bc9c82-83bb-459f-d600-6479c61f3d8d"
      },
      "source": [
        "print('there are a total of', similar_letters3, 'times that the same three nucleotides appear in a row ')"
      ],
      "execution_count": null,
      "outputs": [
        {
          "output_type": "stream",
          "text": [
            "there are a total of 16 times that the same three nucleotides appear in a row \n"
          ],
          "name": "stdout"
        }
      ]
    },
    {
      "cell_type": "code",
      "metadata": {
        "id": "ClbgSKgQRVFI",
        "colab_type": "code",
        "colab": {}
      },
      "source": [
        "#3. How many times does a motif of the form CC?AT occur within the sequence? (where ? could be anything)"
      ],
      "execution_count": null,
      "outputs": []
    },
    {
      "cell_type": "code",
      "metadata": {
        "id": "D7_Ar5UjRaG-",
        "colab_type": "code",
        "colab": {
          "base_uri": "https://localhost:8080/",
          "height": 34
        },
        "outputId": "f097e313-8ce5-439b-e38e-174e8a3fe4a5"
      },
      "source": [
        "nucleotide = ['A','T','G','C']\n",
        "times_motif_appears = 0\n",
        "for element in nucleotide:\n",
        "  if DNA.find('CC' + element + 'AT') < 0:\n",
        "    times_motif_appears = times_motif_appears\n",
        "  else:\n",
        "    times_motif_appears = times_motif_appears + 1\n",
        "  \n",
        "print('The motif \"CC?AT\", where ? can be anything, appears', times_motif_appears, 'time(s)')"
      ],
      "execution_count": null,
      "outputs": [
        {
          "output_type": "stream",
          "text": [
            "The motif \"CC?AT\", where ? can be anything, appears 1 time(s)\n"
          ],
          "name": "stdout"
        }
      ]
    },
    {
      "cell_type": "code",
      "metadata": {
        "id": "pEyn5mzJTZnQ",
        "colab_type": "code",
        "colab": {}
      },
      "source": [
        "# 4. When the motif CC?AT does occur, what percentage of the time is the middle nucleotide an A? (A so-called cat box CCAAT)"
      ],
      "execution_count": null,
      "outputs": []
    },
    {
      "cell_type": "code",
      "metadata": {
        "id": "dxvouGUSTqxu",
        "colab_type": "code",
        "colab": {}
      },
      "source": [
        "nucleotide = ['A','T','G','C']\n",
        "times_motif_appears = 0\n",
        "times_a_appears = 0\n",
        "for element in nucleotide:\n",
        "  if DNA.find('CC' + element + 'AT') < 0:\n",
        "    times_motif_appears = times_motif_appears\n",
        "  if DNA.find('CC' + element + 'AT') == 'CCAAT':\n",
        "      times_a_appears = times_a_appears + 1\n",
        "  else:\n",
        "    times_motif_appears = times_motif_appears + 1"
      ],
      "execution_count": null,
      "outputs": []
    },
    {
      "cell_type": "code",
      "metadata": {
        "id": "FtHM19THU3-P",
        "colab_type": "code",
        "colab": {
          "base_uri": "https://localhost:8080/",
          "height": 34
        },
        "outputId": "3f8b6e40-d863-4cbf-e259-f535db408640"
      },
      "source": [
        "print('Since \"CCAAT\" appears', times_a_appears, 'times in the string of DNA, the percentage is', times_a_appears / times_motif_appears, '%'  )"
      ],
      "execution_count": null,
      "outputs": [
        {
          "output_type": "stream",
          "text": [
            "Since \"CCAAT\" appears 0 times in the string of DNA, the percentage is 0.0 %\n"
          ],
          "name": "stdout"
        }
      ]
    },
    {
      "cell_type": "code",
      "metadata": {
        "id": "kEDibqi0WWC0",
        "colab_type": "code",
        "colab": {}
      },
      "source": [
        ""
      ],
      "execution_count": null,
      "outputs": []
    }
  ]
}