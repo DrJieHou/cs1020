{
  "nbformat": 4,
  "nbformat_minor": 0,
  "metadata": {
    "colab": {
      "name": "Homework2-09/14/20.ipynb",
      "provenance": []
    },
    "kernelspec": {
      "name": "python3",
      "display_name": "Python 3"
    }
  },
  "cells": [
    {
      "cell_type": "code",
      "metadata": {
        "id": "IVyJvdn8qKhI",
        "colab_type": "code",
        "colab": {
          "base_uri": "https://localhost:8080/",
          "height": 119
        },
        "outputId": "d72fd60b-6869-495b-b2a0-e68923db1db9"
      },
      "source": [
        "##Question 1. String\n",
        "##Assume that we have one DNA sequence that has a string as \n",
        "\n",
        "##'GTTGATGTAGCTTATATAAAGCAAGGCACTGAAAATGCCTAGATGAGTCATAGACTCCATAAACAACAGGTTTGGTCCCGGCCTTTTTATTAGCTGTCTGCAGGATTATACATGCAAAAATCCCTACACCGGTGAGAATGCCCTATGTACCACACTCAGGTTTAAAGGAGCAGACATCAAGCACACTGCTAAGTAGCTCACGACGTCTTGCTT' \n",
        "##which is comprised of four nucleotides (e.g. A, T, C, G). We would like to define a variable called 'DNA', and assign the sequence to this variable. Then we need to print the variable by print(\"DNA: \", DNA)\n",
        "##Please write your python codes for this activity.\n",
        "\n",
        "##How long is this sequence?\n",
        "DNA_string = \"GTTGATGTAGCTTATATAAAGCAAGGCACTGAAAATGCCTAGATGAGTCATAGACTCCATAAACAACAGGTTTGGTCCCGGCCTTTTTATTAGCTGTCTGCAGGATTATACATGCAAAAATCCCTACACCGGTGAGAATGCCCTATGTACCACACTCAGGTTTAAAGGAGCAGACATCAAGCACACTGCTAAGTAGCTCACGACGTCTTGCTT\"\n",
        "print(len(DNA_string))\n",
        "\n",
        "##What is the first letter of the sequence?\n",
        "print(DNA_string[0])\n",
        "\n",
        "##What is the last letter of the sequence?\n",
        "print(DNA_string[212])\n",
        "\n",
        "##What are the first 10 characters of the sequence?\n",
        "print(DNA_string[0:10])\n",
        "\n",
        "##What are the last 10 characters of the sequence?\n",
        "print(DNA_string[203:213])\n",
        "\n",
        "##How many times does the character 'C' appear in the sequence?\n",
        "DNA_string.count('C')\n",
        "\n",
        "##What is the index at which the first occurrence of the pattern CCAAT begins?\n",
        "substring = 'CCAT'\n",
        "\n",
        "index = DNA_string.find(substring)\n",
        "print(index)\n"
      ],
      "execution_count": 1,
      "outputs": [
        {
          "output_type": "stream",
          "text": [
            "213\n",
            "G\n",
            "T\n",
            "GTTGATGTAG\n",
            "CGTCTTGCTT\n",
            "56\n"
          ],
          "name": "stdout"
        }
      ]
    },
    {
      "cell_type": "code",
      "metadata": {
        "id": "GRvjtKDvqKyT",
        "colab_type": "code",
        "colab": {
          "base_uri": "https://localhost:8080/",
          "height": 51
        },
        "outputId": "2f8bb10e-9eeb-4e85-cc18-6a09794992f7"
      },
      "source": [
        " #Question 2. Equality\n",
        "#To check if two Python values, or variables, are equal you can use ==. To check for inequality, you need !=.  As a refresher, have a look at the following examples that all result in True. Feel free to try them out in the Notebook.\n",
        "\n",
        "#2 == (1 + 1)\n",
        "#\"intermediate\" != \"python\"\n",
        "#True != False\n",
        "#\"Python\" != \"python\"\n",
        "#In the notebook, you need to wrap a print() (Links to an external site.) function around them to see the output.\n",
        "\n",
        "#Based on the sequence defined in Q1, write codes to see if the first 10 characters of the sequence and the last 10 characters of the sequence are equal.\n",
        "DNA_string = \"GTTGATGTAGCTTATATAAAGCAAGGCACTGAAAATGCCTAGATGAGTCATAGACTCCATAAACAACAGGTTTGGTCCCGGCCTTTTTATTAGCTGTCTGCAGGATTATACATGCAAAAATCCCTACACCGGTGAGAATGCCCTATGTACCACACTCAGGTTTAAAGGAGCAGACATCAAGCACACTGCTAAGTAGCTCACGACGTCTTGCTT\"\n",
        "print(DNA_string[0:10] == DNA_string[203:213])\n",
        "\n",
        "#Write Python code to check if the number of the character 'C' is equal to the number of the character 'A' in the DNA sequence.\n",
        "print(DNA_string.count('C') == DNA_string.count('A'))\n"
      ],
      "execution_count": 2,
      "outputs": [
        {
          "output_type": "stream",
          "text": [
            "False\n",
            "False\n"
          ],
          "name": "stdout"
        }
      ]
    },
    {
      "cell_type": "code",
      "metadata": {
        "id": "6YYayv-_qJcc",
        "colab_type": "code",
        "colab": {
          "base_uri": "https://localhost:8080/",
          "height": 51
        },
        "outputId": "7989e4e4-b1e5-49a7-af6b-c692a313f822"
      },
      "source": [
        "#Question 3. Greater and less than\n",
        "#In the python,  the comparison operators also include the less than and greater than signs, < and > in Python. You can combine them with an equals sign: <= and =>. Pay attention: <= is valid syntax, but =< is not. All Python expressions in the following code chunk evaluate to True:\n",
        "\n",
        "#3 < 4\n",
        "#3 <= 4\n",
        "#In the notebook, you need to wrap a print() (Links to an external site.) function around them to see the output.\n",
        "\n",
        "#Write Python code to check if the number of the character 'C'  is greater than or equal to the number of the character 'A' in the DNA sequence.\n",
        "print(DNA_string.count('C')>= DNA_string.count('A'))\n",
        "\n",
        "\n",
        "#Write Python code to check if the index at which the first occurrence of the letter 'C' is greater than the index at which the first occurrence of the letter 'A'.\n",
        "letter_1 = 'C'\n",
        "letter_2 = 'A'\n",
        "index_1 = DNA_string.find(letter_1)\n",
        "index_2 = DNA_string.find(letter_2)\n",
        "print(index_1 >= index_2)\n",
        "substring = 'CCAT'\n"
      ],
      "execution_count": 3,
      "outputs": [
        {
          "output_type": "stream",
          "text": [
            "False\n",
            "True\n"
          ],
          "name": "stdout"
        }
      ]
    },
    {
      "cell_type": "code",
      "metadata": {
        "id": "3pS6yOTq1Kxd",
        "colab_type": "code",
        "colab": {
          "base_uri": "https://localhost:8080/",
          "height": 68
        },
        "outputId": "c07793d9-6e62-4c70-c173-f63cab4f15aa"
      },
      "source": [
        "#(5 points) Question 4. Boolean Operators: and, or, not \n",
        "#A boolean is True or False. With boolean operators such as and, or and not, you can combine these booleans to perform more advanced queries on your data.\n",
        "\n",
        "#In the notebook, you need to wrap a print() (Links to an external site.) function around them to see the output.\n",
        "\n",
        "#Write Python code to check if the number of the character 'C'  is greater than the number of the character 'A'  and smaller than the number of the character 'G' in the DNA sequence.\n",
        "print((DNA_string.count('C') >= DNA_string.count('A')) and (DNA_string.count('C')<= DNA_string.count('G')))\n",
        "\n",
        "##Write Python code to check if the number of the character 'C'  is greater than the number of the character 'A'  or smaller than the number of the character 'G' in the DNA sequence.\n",
        "print((DNA_string.count('C') >= DNA_string.count('A')) or (DNA_string.count('C')<= DNA_string.count('G')))\n",
        "\n",
        "#Suppose  we have variables x = 8  and y = 9, what will the result be if you execute the command not(not(x < 3) and not(y > 14 or y > 10))  in =  the notebook?   Note: not has higher precedence than and  and or.\n",
        "x = 8 \n",
        "y = 9\n",
        "print(not(not(x < 3) and not(y > 14 or y > 10)))\n"
      ],
      "execution_count": 4,
      "outputs": [
        {
          "output_type": "stream",
          "text": [
            "False\n",
            "False\n",
            "False\n"
          ],
          "name": "stdout"
        }
      ]
    },
    {
      "cell_type": "code",
      "metadata": {
        "id": "XGKigZ-n6zH8",
        "colab_type": "code",
        "colab": {
          "base_uri": "https://localhost:8080/",
          "height": 51
        },
        "outputId": "00738af2-b31b-4cbc-b9f2-d3c73db9547c"
      },
      "source": [
        "#Question 5. Control Flow\n",
        "#To experiment with if and else a bit, have a look at this code sample:\n",
        "\n",
        "#area = 10.0\n",
        "#if(area < 9) :\n",
        "    #print(\"small\")\n",
        "#elif(area < 12) :\n",
        "    #print(\"medium\")\n",
        "#else :\n",
        " #   print(\"large\")\n",
        "#What will the output be if you run this piece of code in the notebook?\n",
        "area = 10.0\n",
        "if(area < 9) :\n",
        "    print(\"small\")\n",
        "elif(area < 12) :\n",
        "    print(\"medium\")\n",
        "else :\n",
        "    print(\"large\")\n",
        "\n",
        "#Use if, elif and else, check the length of DNA sequence in Q1 with the following conditions: if the length is shorter than 100, print 'the DNA sequence is short.', otherwise if the length is shorter than 500, print \"the DNA sequence is medium\", otherwise, print \"the length is long\".\n",
        "DNA_string = \"GTTGATGTAGCTTATATAAAGCAAGGCACTGAAAATGCCTAGATGAGTCATAGACTCCATAAACAACAGGTTTGGTCCCGGCCTTTTTATTAGCTGTCTGCAGGATTATACATGCAAAAATCCCTACACCGGTGAGAATGCCCTATGTACCACACTCAGGTTTAAAGGAGCAGACATCAAGCACACTGCTAAGTAGCTCACGACGTCTTGCTT\"\n",
        "if (len(DNA_string)<=100):\n",
        "  print(\"the DNA sequence is short.\")\n",
        "elif (len(DNA_string)<=500):\n",
        "  print(\"the DNA sequence is medium\")\n",
        "else: \n",
        "  print(\"the length is long\")\n"
      ],
      "execution_count": 5,
      "outputs": [
        {
          "output_type": "stream",
          "text": [
            "medium\n",
            "the DNA sequence is medium\n"
          ],
          "name": "stdout"
        }
      ]
    },
    {
      "cell_type": "code",
      "metadata": {
        "id": "752OUnmE8Ndd",
        "colab_type": "code",
        "colab": {
          "base_uri": "https://localhost:8080/",
          "height": 238
        },
        "outputId": "d933f217-5d42-4b2d-8875-8c389c5d0838"
      },
      "source": [
        "#Question 6. while/for loop\n",
        "#The while loop is like a repeated if statement. The code is executed over and over again, as long as the condition is True. Have another look at its recipe.\n",
        "\n",
        "#while condition :\n",
        " #   expression\n",
        "#have a look at this code sample: \n",
        "\n",
        "#x = 1\n",
        "#while x < 4 :\n",
        "#    print(x)\n",
        "#    x = x + 1\n",
        "#Can you tell how many printouts the above while loop will do?\n",
        "x = 1\n",
        "while x < 4 :\n",
        "    print(x)\n",
        "    x = x + 1\n",
        "\n",
        "#Use while loop, keep printing the letters from left to right in the DNA sequence until you reach the letter 'C'. Note: recall how the keyword break or continue works.\n",
        "DNA_string = \"GTTGATGTAGCTTATATAAAGCAAGGCACTGAAAATGCCTAGATGAGTCATAGACTCCATAAACAACAGGTTTGGTCCCGGCCTTTTTATTAGCTGTCTGCAGGATTATACATGCAAAAATCCCTACACCGGTGAGAATGCCCTATGTACCACACTCAGGTTTAAAGGAGCAGACATCAAGCACACTGCTAAGTAGCTCACGACGTCTTGCTT\"\n",
        "pos = 0\n",
        "while pos < len(DNA_string):\n",
        "  if DNA_string[pos] == 'C':\n",
        "    break\n",
        "  print(DNA_string[pos])\n",
        "  pos = pos +1\n"
      ],
      "execution_count": 6,
      "outputs": [
        {
          "output_type": "stream",
          "text": [
            "1\n",
            "2\n",
            "3\n",
            "G\n",
            "T\n",
            "T\n",
            "G\n",
            "A\n",
            "T\n",
            "G\n",
            "T\n",
            "A\n",
            "G\n"
          ],
          "name": "stdout"
        }
      ]
    },
    {
      "cell_type": "code",
      "metadata": {
        "id": "ocg1zkhGA72l",
        "colab_type": "code",
        "colab": {
          "base_uri": "https://localhost:8080/",
          "height": 238
        },
        "outputId": "4244c630-c6cd-4621-d277-b6977a56662e"
      },
      "source": [
        "#Question 7. Loop over a list/String\n",
        "#have a look at this code sample: \n",
        "\n",
        "#course_ids= ['CSCI1020', 'CSCI1030', 'CSCI1070']\n",
        "#for id in course_ids: \n",
        " #   print(id)\n",
        "#As usual, you simply have to indent the code with 4 spaces to tell Python which code should be executed in the for loop.\n",
        "#The course_ids variable, containing the ids of different courses in the Computer Science Department, is already defined.\n",
        "\n",
        "#Write a for loop that goes through each element of course_ids. On each iteration, \"the course id is x\" should be printed out, where x is the id value in this iteration.\n",
        "course_ids= ['CSCI1020', 'CSCI1030', 'CSCI1070']\n",
        "for id in course_ids: \n",
        "    print('the course id is' +  id)\n",
        "\n",
        "#Use for loop, keep printing the letters from left to right in the DNA sequence until you reach the letter 'C'.  Note: recall how the keyword break or continue works.\n",
        "DNA_string = \"GTTGATGTAGCTTATATAAAGCAAGGCACTGAAAATGCCTAGATGAGTCATAGACTCCATAAACAACAGGTTTGGTCCCGGCCTTTTTATTAGCTGTCTGCAGGATTATACATGCAAAAATCCCTACACCGGTGAGAATGCCCTATGTACCACACTCAGGTTTAAAGGAGCAGACATCAAGCACACTGCTAAGTAGCTCACGACGTCTTGCTT\"\n",
        "pos = 0\n",
        "for pos in range (0,10):\n",
        "    if DNA_string[pos] == 'C':\n",
        "      break\n",
        "    print(DNA_string[pos])\n",
        "\n",
        "#Note well that we do an index-based loop with for ind in range(0,length). As a sanity check, if the dna has length 5, given for ind in range(0,5), we will test five elements: dna[0], dna[1],  dna[2],  dna[3],  and dna[4]."
      ],
      "execution_count": 12,
      "outputs": [
        {
          "output_type": "stream",
          "text": [
            "the course id isCSCI1020\n",
            "the course id isCSCI1030\n",
            "the course id isCSCI1070\n",
            "G\n",
            "T\n",
            "T\n",
            "G\n",
            "A\n",
            "T\n",
            "G\n",
            "T\n",
            "A\n",
            "G\n"
          ],
          "name": "stdout"
        }
      ]
    },
    {
      "cell_type": "code",
      "metadata": {
        "id": "gTGRtEAKc3qO",
        "colab_type": "code",
        "colab": {
          "base_uri": "https://localhost:8080/",
          "height": 119
        },
        "outputId": "330eef1f-c4d3-4348-c21f-fd7d6b4b06aa"
      },
      "source": [
        "#Question 8. Loop over dictionary\n",
        "#In Python, you need the items() (Links to an external site.) method to loop over a dictionary:\n",
        "\n",
        "CS_courses= { \"CSCI1020\":\"Intro to bioinformatics\", \n",
        "        \"CSCI1030\":'Intro to Game Design',\n",
        "     \"CSCI1070\":'Intro  to Big Data' }\n",
        "\n",
        "#for key, value in world.items() :\n",
        " #   print(key + \" -- \" + str(value))\n",
        "#Remember the CS_courses dictionary that contained the names of some course ids as key and their course names as corresponding value? Go ahead and write a loop to iterate over it\n",
        "#for pair in CS_courses.items(): \n",
        " # print(pair)\n",
        "for x, y in CS_courses.items():\n",
        "  print (x, y)\n",
        "\n",
        "#Write a for loop that goes through each key:value pair of CS_courses. On each iteration, \"the course name of x is y\" should be printed out, where x is the key and y is the value of the pair.\n",
        "for x, y in CS_courses.items(): \n",
        "  print ('the course name of' +  x  + 'is' + y) "
      ],
      "execution_count": 13,
      "outputs": [
        {
          "output_type": "stream",
          "text": [
            "CSCI1020 Intro to bioinformatics\n",
            "CSCI1030 Intro to Game Design\n",
            "CSCI1070 Intro  to Big Data\n",
            "the course name ofCSCI1020isIntro to bioinformatics\n",
            "the course name ofCSCI1030isIntro to Game Design\n",
            "the course name ofCSCI1070isIntro  to Big Data\n"
          ],
          "name": "stdout"
        }
      ]
    },
    {
      "cell_type": "code",
      "metadata": {
        "id": "aW38-eD79bss",
        "colab_type": "code",
        "colab": {
          "base_uri": "https://localhost:8080/",
          "height": 85
        },
        "outputId": "901acc95-7c33-46dd-825c-4fb2076fe4f9"
      },
      "source": [
        "#Question 9.  Select the valid list\n",
        "#A list can contain any Python type. But a list itself is also a Python type. That means that a list can also contain a list!  The list has the syntax:\n",
        "\n",
        "#my_list = [el1, el2, el3]\n",
        "\n",
        "#Can you tell which ones of the following lines of Python code are valid ways to build a list? Use type() function to valid them.\n",
        "#A. [1, 3, 4, 2]   B. [[1, 2, 3], [4, 5, 7]]    C. [1 + 2, \"a\" * 5, 3]\n",
        "\n",
        "A = [1,3,4,2]\n",
        "print(type(A))\n",
        "\n",
        "B = [[1,2,3],[4,5,7]]\n",
        "print(type(B))\n",
        "\n",
        "C = [1+2,\"a\"*5,3]\n",
        "print(type(C))\n",
        "\n",
        "print(\"all of the following lines of Python code are valid ways to build a list\")\n"
      ],
      "execution_count": 14,
      "outputs": [
        {
          "output_type": "stream",
          "text": [
            "<class 'list'>\n",
            "<class 'list'>\n",
            "<class 'list'>\n",
            "all of the following lines of Python code are valid ways to build a list\n"
          ],
          "name": "stdout"
        }
      ]
    },
    {
      "cell_type": "code",
      "metadata": {
        "id": "7j2RkqYZK454",
        "colab_type": "code",
        "colab": {
          "base_uri": "https://localhost:8080/",
          "height": 85
        },
        "outputId": "57433334-0f5a-42e6-e745-3b1a50bd8f93"
      },
      "source": [
        "#Question 10: #According to the DNA sequence defined in Q1, write your Python codes to answer the following questions:\n",
        "\n",
        "#1. How often is a letter followed immediately by the same letter in the DNA sequence?\n",
        "\n",
        "#Note well that we do an index-based loop but with range(len(dna)-1). As a sanity check, if the dna has length 5, we only need to test four pairs of neighbors, and thus compare dna[0] to dna[1], dna[1] to dna[2], dna[2] to dna[3], and dna[3] to dna[4].\n",
        "def count_motif(DNA_string,pattern):\n",
        "  #pattern = 'CCTAT'\n",
        "  count =0\n",
        "  flag=True\n",
        "  start=0\n",
        "  while flag:\n",
        "      a = DNA_string.find(pattern,start)  # find() returns -1 if the word is not found, \n",
        "                                      #start i the starting index from the search starts(default value is 0)\n",
        "      if a==-1:          #if pattern not found set flag to False\n",
        "          flag=False\n",
        "      else:               # if word is found increase count and set starting index to a+1\n",
        "          count+=1        \n",
        "          start=a+1\n",
        "\n",
        "  return count\n",
        "\n",
        "\n",
        "print(count_motif(DNA_string,'CC'))\n",
        "\n",
        "print(count_motif(DNA_string,'AA'))\n",
        "\n",
        "print(count_motif(DNA_string,'GG'))\n",
        "\n",
        "print(count_motif(DNA_string,'TT'))"
      ],
      "execution_count": 19,
      "outputs": [
        {
          "output_type": "stream",
          "text": [
            "11\n",
            "18\n",
            "8\n",
            "14\n"
          ],
          "name": "stdout"
        }
      ]
    },
    {
      "cell_type": "code",
      "metadata": {
        "id": "LQ0K9Pf8LZcw",
        "colab_type": "code",
        "colab": {
          "base_uri": "https://localhost:8080/",
          "height": 85
        },
        "outputId": "f74d7362-1d1f-41a4-ce53-974ffadee774"
      },
      "source": [
        "#2. If two consecutive nucleotides match each other, how often is the next nucleotide that same nucleotide?\n",
        "print(count_motif(DNA_string,'CCC'))\n",
        "\n",
        "print(count_motif(DNA_string,'AAA'))\n",
        "\n",
        "print(count_motif(DNA_string,'GGG'))\n",
        "\n",
        "print(count_motif(DNA_string,'TTT'))"
      ],
      "execution_count": 20,
      "outputs": [
        {
          "output_type": "stream",
          "text": [
            "3\n",
            "8\n",
            "0\n",
            "5\n"
          ],
          "name": "stdout"
        }
      ]
    },
    {
      "cell_type": "code",
      "metadata": {
        "id": "bxyekqtxg0wS",
        "colab_type": "code",
        "colab": {
          "base_uri": "https://localhost:8080/",
          "height": 102
        },
        "outputId": "9a557862-2e55-4065-b643-7e9e27f55a34"
      },
      "source": [
        "#3. How many times does a motif of the form CC?AT occur within the sequence? (where ? could be anything)\n",
        "\n",
        "print(count_motif(DNA_string,'CCCAT'))\n",
        "print(count_motif(DNA_string,'CCAAT'))\n",
        "print(count_motif(DNA_string,'CCGAT'))\n",
        "print(count_motif(DNA_string,'CCCTAT'))\n",
        "\n",
        "#4. When the motif CC?AT does occur, what percentage of the time is the middle nucleotide an A? (A so-called cat box CCAAT)\n",
        "print (\"CCAAT occurs 0% of time\")"
      ],
      "execution_count": 21,
      "outputs": [
        {
          "output_type": "stream",
          "text": [
            "0\n",
            "0\n",
            "0\n",
            "1\n",
            "CCAAT occurs 0% of time\n"
          ],
          "name": "stdout"
        }
      ]
    }
  ]
}