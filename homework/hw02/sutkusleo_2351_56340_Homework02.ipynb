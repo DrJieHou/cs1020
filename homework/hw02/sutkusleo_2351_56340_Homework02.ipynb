{
  "nbformat": 4,
  "nbformat_minor": 0,
  "metadata": {
    "colab": {
      "name": "Homework02.ipynb",
      "provenance": []
    },
    "kernelspec": {
      "name": "python3",
      "display_name": "Python 3"
    }
  },
  "cells": [
    {
      "cell_type": "code",
      "metadata": {
        "id": "apGS0oO7iGeM",
        "colab_type": "code",
        "colab": {}
      },
      "source": [
        "# Q1: Assume that we have one DNA sequence that has a string as \n",
        "\n",
        "# 'GTTGATGTAGCTTATATAAAGCAAGGCACTGAAAATGCCTAGATGAGTCATAGACTCCATAAACAACAGGTTTGGTCCCGGCCTTTTTATTAGCTGTCTGCAGGATTATACATGCAAAAATCCCTACACCGGTGAGAATGCCCTATGTACCACACTCAGGTTTAAAGGAGCAGACATCAAGCACACTGCTAAGTAGCTCACGACGTCTTGCTT' \n",
        "# which is comprised of four nucleotides (e.g. A, T, C, G). We would like to define a variable called 'DNA', and assign the sequence to this variable. Then we need to print the variable by print(\"DNA: \", DNA) \n",
        "# Please write your python codes for this activity.\n",
        "\n",
        "# How long is this sequence?\n",
        "# What is the first letter of the sequence?\n",
        "# What is the last letter of the sequence?\n",
        "# What are the first 10 characters of the sequence?\n",
        "# What are the last 10 characters of the sequence?\n",
        "# How many times does the character 'C' appear in the sequence?\n",
        "# What is the index at which the first occurrence of the pattern CCAAT begins?"
      ],
      "execution_count": null,
      "outputs": []
    },
    {
      "cell_type": "code",
      "metadata": {
        "id": "EmUnckNkiiwZ",
        "colab_type": "code",
        "colab": {
          "base_uri": "https://localhost:8080/",
          "height": 54
        },
        "outputId": "0c5a5feb-55ee-4cbe-b123-5dd3715fa12b"
      },
      "source": [
        "DNA = 'GTTGATGTAGCTTATATAAAGCAAGGCACTGAAAATGCCTAGATGAGTCATAGACTCCATAAACAACAGGTTTGGTCCCGGCCTTTTTATTAGCTGTCTGCAGGATTATACATGCAAAAATCCCTACACCGGTGAGAATGCCCTATGTACCACACTCAGGTTTAAAGGAGCAGACATCAAGCACACTGCTAAGTAGCTCACGACGTCTTGCTT' \n",
        "print(\"DNA: \", DNA)"
      ],
      "execution_count": 1,
      "outputs": [
        {
          "output_type": "stream",
          "text": [
            "DNA:  GTTGATGTAGCTTATATAAAGCAAGGCACTGAAAATGCCTAGATGAGTCATAGACTCCATAAACAACAGGTTTGGTCCCGGCCTTTTTATTAGCTGTCTGCAGGATTATACATGCAAAAATCCCTACACCGGTGAGAATGCCCTATGTACCACACTCAGGTTTAAAGGAGCAGACATCAAGCACACTGCTAAGTAGCTCACGACGTCTTGCTT\n"
          ],
          "name": "stdout"
        }
      ]
    },
    {
      "cell_type": "code",
      "metadata": {
        "id": "JzczTx8ejAbr",
        "colab_type": "code",
        "colab": {
          "base_uri": "https://localhost:8080/",
          "height": 34
        },
        "outputId": "da4972cc-9b7d-4aa4-b478-0172595b4a39"
      },
      "source": [
        "DNA_length = len(DNA)\n",
        "print(\"Length of DNA_length: \", DNA_length)"
      ],
      "execution_count": 2,
      "outputs": [
        {
          "output_type": "stream",
          "text": [
            "Length of DNA_length:  213\n"
          ],
          "name": "stdout"
        }
      ]
    },
    {
      "cell_type": "code",
      "metadata": {
        "id": "u8wv_-U8lFmi",
        "colab_type": "code",
        "colab": {
          "base_uri": "https://localhost:8080/",
          "height": 34
        },
        "outputId": "543a7c66-54cb-497f-8ede-e37e9d4ed36d"
      },
      "source": [
        "print(\"First letter of DNA: \", DNA[0])"
      ],
      "execution_count": 3,
      "outputs": [
        {
          "output_type": "stream",
          "text": [
            "First letter of DNA:  G\n"
          ],
          "name": "stdout"
        }
      ]
    },
    {
      "cell_type": "code",
      "metadata": {
        "id": "2YOcCi6ylWPa",
        "colab_type": "code",
        "colab": {
          "base_uri": "https://localhost:8080/",
          "height": 34
        },
        "outputId": "d6c781ef-7906-4cf0-e315-658e6483b9d7"
      },
      "source": [
        "print(\"Last letter of DNA: \", DNA[212])"
      ],
      "execution_count": 6,
      "outputs": [
        {
          "output_type": "stream",
          "text": [
            "Last letter of DNA:  T\n"
          ],
          "name": "stdout"
        }
      ]
    },
    {
      "cell_type": "code",
      "metadata": {
        "id": "PY4JJisalhhl",
        "colab_type": "code",
        "colab": {
          "base_uri": "https://localhost:8080/",
          "height": 34
        },
        "outputId": "7e546595-d727-47ff-f172-7f2b9adce989"
      },
      "source": [
        "print(\"First ten letters of DNA: \", DNA[:10])"
      ],
      "execution_count": 15,
      "outputs": [
        {
          "output_type": "stream",
          "text": [
            "First ten letters of DNA:  GTTGATGTAG\n"
          ],
          "name": "stdout"
        }
      ]
    },
    {
      "cell_type": "code",
      "metadata": {
        "id": "4EqfC47lls84",
        "colab_type": "code",
        "colab": {
          "base_uri": "https://localhost:8080/",
          "height": 34
        },
        "outputId": "02516da2-15ec-456b-a8f5-f98dddb951cf"
      },
      "source": [
        "print(\"Last ten letters of DNA: \", DNA[203:])"
      ],
      "execution_count": 14,
      "outputs": [
        {
          "output_type": "stream",
          "text": [
            "Last ten letters of DNA:  CGTCTTGCTT\n"
          ],
          "name": "stdout"
        }
      ]
    },
    {
      "cell_type": "code",
      "metadata": {
        "id": "VVzVCVgQl540",
        "colab_type": "code",
        "colab": {
          "base_uri": "https://localhost:8080/",
          "height": 34
        },
        "outputId": "9987e83d-751c-4893-9c84-22f8c74d8fd9"
      },
      "source": [
        "print(\"Number of Cs in DNA: \", DNA.count('C'))"
      ],
      "execution_count": 10,
      "outputs": [
        {
          "output_type": "stream",
          "text": [
            "Number of Cs in DNA:  49\n"
          ],
          "name": "stdout"
        }
      ]
    },
    {
      "cell_type": "code",
      "metadata": {
        "id": "SFylSoGOmKL9",
        "colab_type": "code",
        "colab": {
          "base_uri": "https://localhost:8080/",
          "height": 164
        },
        "outputId": "a7502a77-2384-4a2a-fea0-0446bda10921"
      },
      "source": [
        "print(\"Index of CCAAT in DNA using index(): \", DNA.index('CCAAT'))"
      ],
      "execution_count": 12,
      "outputs": [
        {
          "output_type": "error",
          "ename": "ValueError",
          "evalue": "ignored",
          "traceback": [
            "\u001b[0;31m---------------------------------------------------------------------------\u001b[0m",
            "\u001b[0;31mValueError\u001b[0m                                Traceback (most recent call last)",
            "\u001b[0;32m<ipython-input-12-99db33e0a712>\u001b[0m in \u001b[0;36m<module>\u001b[0;34m()\u001b[0m\n\u001b[0;32m----> 1\u001b[0;31m \u001b[0mprint\u001b[0m\u001b[0;34m(\u001b[0m\u001b[0;34m\"Index of CCAAT in DNA using index(): \"\u001b[0m\u001b[0;34m,\u001b[0m \u001b[0mDNA\u001b[0m\u001b[0;34m.\u001b[0m\u001b[0mindex\u001b[0m\u001b[0;34m(\u001b[0m\u001b[0;34m'CCAAT'\u001b[0m\u001b[0;34m)\u001b[0m\u001b[0;34m)\u001b[0m\u001b[0;34m\u001b[0m\u001b[0;34m\u001b[0m\u001b[0m\n\u001b[0m",
            "\u001b[0;31mValueError\u001b[0m: substring not found"
          ]
        }
      ]
    },
    {
      "cell_type": "code",
      "metadata": {
        "id": "60xWfXxjmsv3",
        "colab_type": "code",
        "colab": {}
      },
      "source": [
        "# Q2: To check if two Python values, or variables, are equal you can use ==. To check for inequality, you need !=.  As a refresher, have a look at the following examples that all result in True. Feel free to try them out in the Notebook.\n",
        "\n",
        "# 2 == (1 + 1)\n",
        "# \"intermediate\" != \"python\"\n",
        "# True != False\n",
        "# \"Python\" != \"python\"\n",
        "# In the notebook, you need to wrap a print() (Links to an external site.) function around them to see the output.\n",
        "\n",
        "# Based on the sequence defined in Q1, write codes to see if the first 10 characters of the sequence and the last 10 characters of the sequence are equal.\n",
        "# Write Python code to check if the number of the character 'C' is equal to the number of the character 'A' in the DNA sequence."
      ],
      "execution_count": null,
      "outputs": []
    },
    {
      "cell_type": "code",
      "metadata": {
        "id": "TcCU2NK8m_qD",
        "colab_type": "code",
        "colab": {
          "base_uri": "https://localhost:8080/",
          "height": 34
        },
        "outputId": "da05ed10-aeca-4e86-faa5-662ac7b433c4"
      },
      "source": [
        "DNA = 'GTTGATGTAGCTTATATAAAGCAAGGCACTGAAAATGCCTAGATGAGTCATAGACTCCATAAACAACAGGTTTGGTCCCGGCCTTTTTATTAGCTGTCTGCAGGATTATACATGCAAAAATCCCTACACCGGTGAGAATGCCCTATGTACCACACTCAGGTTTAAAGGAGCAGACATCAAGCACACTGCTAAGTAGCTCACGACGTCTTGCTT'\n",
        "'GTTGATGTAg' == 'CGTCTTGCTT'"
      ],
      "execution_count": 16,
      "outputs": [
        {
          "output_type": "execute_result",
          "data": {
            "text/plain": [
              "False"
            ]
          },
          "metadata": {
            "tags": []
          },
          "execution_count": 16
        }
      ]
    },
    {
      "cell_type": "code",
      "metadata": {
        "id": "TbXM0DCxneeZ",
        "colab_type": "code",
        "colab": {
          "base_uri": "https://localhost:8080/",
          "height": 34
        },
        "outputId": "fd3247ec-2183-495b-9221-c494669ec7df"
      },
      "source": [
        "DNA.count('C') == DNA.count('A')"
      ],
      "execution_count": 17,
      "outputs": [
        {
          "output_type": "execute_result",
          "data": {
            "text/plain": [
              "False"
            ]
          },
          "metadata": {
            "tags": []
          },
          "execution_count": 17
        }
      ]
    },
    {
      "cell_type": "code",
      "metadata": {
        "id": "D6z90aXFn0D7",
        "colab_type": "code",
        "colab": {}
      },
      "source": [
        "# Q3: In the python,  the comparison operators also include the less than and greater than signs, < and > in Python. You can combine them with an equals sign: <= and =>. Pay attention: <= is valid syntax, but =< is not. All Python expressions in the following code chunk evaluate to True:\n",
        "\n",
        "# 3 < 4\n",
        "# 3 <= 4\n",
        "# In the notebook, you need to wrap a print() (Links to an external site.) function around them to see the output.\n",
        "\n",
        "# Write Python code to check if the number of the character 'C'  is greater than or equal to the number of the character 'A' in the DNA sequence.\n",
        "# Write Python code to check if the index at which the first occurrence of the letter 'C' is greater than the index at which the first occurrence of the letter 'A'."
      ],
      "execution_count": null,
      "outputs": []
    },
    {
      "cell_type": "code",
      "metadata": {
        "id": "Ori47DtqoMcE",
        "colab_type": "code",
        "colab": {
          "base_uri": "https://localhost:8080/",
          "height": 34
        },
        "outputId": "9d15cb7e-e3f0-40c9-8825-e1fab69face8"
      },
      "source": [
        "DNA = 'GTTGATGTAGCTTATATAAAGCAAGGCACTGAAAATGCCTAGATGAGTCATAGACTCCATAAACAACAGGTTTGGTCCCGGCCTTTTTATTAGCTGTCTGCAGGATTATACATGCAAAAATCCCTACACCGGTGAGAATGCCCTATGTACCACACTCAGGTTTAAAGGAGCAGACATCAAGCACACTGCTAAGTAGCTCACGACGTCTTGCTT'\n",
        "DNA.count('C') >= DNA.count('A')"
      ],
      "execution_count": 18,
      "outputs": [
        {
          "output_type": "execute_result",
          "data": {
            "text/plain": [
              "False"
            ]
          },
          "metadata": {
            "tags": []
          },
          "execution_count": 18
        }
      ]
    },
    {
      "cell_type": "code",
      "metadata": {
        "id": "5V99h3cbpEy8",
        "colab_type": "code",
        "colab": {
          "base_uri": "https://localhost:8080/",
          "height": 34
        },
        "outputId": "f2641488-cbb8-4746-f249-521c612bcda2"
      },
      "source": [
        "DNA.index('C') > DNA.index('A')"
      ],
      "execution_count": 19,
      "outputs": [
        {
          "output_type": "execute_result",
          "data": {
            "text/plain": [
              "True"
            ]
          },
          "metadata": {
            "tags": []
          },
          "execution_count": 19
        }
      ]
    },
    {
      "cell_type": "code",
      "metadata": {
        "id": "uwqqR4zqpa5C",
        "colab_type": "code",
        "colab": {}
      },
      "source": [
        "# Q4: A boolean is True or False. With boolean operators such as and, or and not, you can combine these booleans to perform more advanced queries on your data.\n",
        "\n",
        "# In the notebook, you need to wrap a print() (Links to an external site.) function around them to see the output.\n",
        "\n",
        "# Write Python code to check if the number of the character 'C'  is greater than the number of the character 'A'  and smaller than the number of the character 'G' in the DNA sequence.\n",
        "# Write Python code to check if the number of the character 'C'  is greater than the number of the character 'A'  or smaller than the number of the character 'G' in the DNA sequence.\n",
        "# Suppose  we have variables x = 8  and y = 9, what will the result be if you execute the command not(not(x < 3) and not(y > 14 or y > 10))  in the notebook?   Note: not has higher precedence than and  and or."
      ],
      "execution_count": null,
      "outputs": []
    },
    {
      "cell_type": "code",
      "metadata": {
        "id": "HBqxu0mHpj9t",
        "colab_type": "code",
        "colab": {
          "base_uri": "https://localhost:8080/",
          "height": 34
        },
        "outputId": "d2887e8b-45ec-4bf8-b32b-61a1dd66f982"
      },
      "source": [
        "DNA = 'GTTGATGTAGCTTATATAAAGCAAGGCACTGAAAATGCCTAGATGAGTCATAGACTCCATAAACAACAGGTTTGGTCCCGGCCTTTTTATTAGCTGTCTGCAGGATTATACATGCAAAAATCCCTACACCGGTGAGAATGCCCTATGTACCACACTCAGGTTTAAAGGAGCAGACATCAAGCACACTGCTAAGTAGCTCACGACGTCTTGCTT'\n",
        "DNA.count('C') > DNA.count('A') and DNA.count('C') < DNA.count('G')"
      ],
      "execution_count": 23,
      "outputs": [
        {
          "output_type": "execute_result",
          "data": {
            "text/plain": [
              "False"
            ]
          },
          "metadata": {
            "tags": []
          },
          "execution_count": 23
        }
      ]
    },
    {
      "cell_type": "code",
      "metadata": {
        "id": "u94TuSuKqpPm",
        "colab_type": "code",
        "colab": {
          "base_uri": "https://localhost:8080/",
          "height": 34
        },
        "outputId": "8a9e30ca-a9b1-4454-d5f8-bcaed1f55c2a"
      },
      "source": [
        "DNA.count('C') > DNA.count('A') or DNA.count('C') < DNA.count('G')"
      ],
      "execution_count": 24,
      "outputs": [
        {
          "output_type": "execute_result",
          "data": {
            "text/plain": [
              "False"
            ]
          },
          "metadata": {
            "tags": []
          },
          "execution_count": 24
        }
      ]
    },
    {
      "cell_type": "code",
      "metadata": {
        "id": "T45XvE8-q0gp",
        "colab_type": "code",
        "colab": {
          "base_uri": "https://localhost:8080/",
          "height": 34
        },
        "outputId": "ce1a7695-7b9e-4996-95c4-e8c0dfb623c6"
      },
      "source": [
        "x = 8\n",
        "y = 9\n",
        "not(not(x < 3) and not(y > 14 or y > 10))"
      ],
      "execution_count": 25,
      "outputs": [
        {
          "output_type": "execute_result",
          "data": {
            "text/plain": [
              "False"
            ]
          },
          "metadata": {
            "tags": []
          },
          "execution_count": 25
        }
      ]
    },
    {
      "cell_type": "code",
      "metadata": {
        "id": "Sf6ziRMxrVBN",
        "colab_type": "code",
        "colab": {}
      },
      "source": [
        "# Q5: To experiment with if and else a bit, have a look at this code sample:\n",
        "\n",
        "# area = 10.0\n",
        "# if(area < 9) :\n",
        "    # print(\"small\")\n",
        "# elif(area < 12) :\n",
        "    # print(\"medium\")\n",
        "# else :\n",
        "    # print(\"large\")\n",
        "# What will the output be if you run this piece of code in the notebook?\n",
        "# Use if, elif and else, check the length of DNA sequence in Q1 with the following conditions: if the length is shorter than 100, print 'the DNA sequence is short.', otherwise if the length is shorter than 500, print \"the DNA sequence is medium\", otherwise, print \"the length is long\"."
      ],
      "execution_count": null,
      "outputs": []
    },
    {
      "cell_type": "code",
      "metadata": {
        "id": "Ki0D4SFsrpf5",
        "colab_type": "code",
        "colab": {
          "base_uri": "https://localhost:8080/",
          "height": 34
        },
        "outputId": "b827fef1-546a-4ead-ff23-c7509c707565"
      },
      "source": [
        "area = 10.0\n",
        "if(area < 9) :\n",
        "  print(\"small\")\n",
        "elif(area > 12) :\n",
        "    print(\"medium\")\n",
        "else :\n",
        "  print(\"large\")"
      ],
      "execution_count": 26,
      "outputs": [
        {
          "output_type": "stream",
          "text": [
            "large\n"
          ],
          "name": "stdout"
        }
      ]
    },
    {
      "cell_type": "code",
      "metadata": {
        "id": "8q0D_kMgsJWQ",
        "colab_type": "code",
        "colab": {
          "base_uri": "https://localhost:8080/",
          "height": 34
        },
        "outputId": "dd6c8557-cd9e-45cf-c8d7-328c0a140c7e"
      },
      "source": [
        "length = 213.0\n",
        "if(length < 100) :\n",
        "  print(\"the DNA sequence is too short\")\n",
        "elif(length < 500) :\n",
        "    print(\"the DNA sequence is medium\")\n",
        "else :\n",
        "  print(\"the length is long\")"
      ],
      "execution_count": 1,
      "outputs": [
        {
          "output_type": "stream",
          "text": [
            "the DNA sequence is medium\n"
          ],
          "name": "stdout"
        }
      ]
    },
    {
      "cell_type": "code",
      "metadata": {
        "id": "bHWh-OVDsn8x",
        "colab_type": "code",
        "colab": {}
      },
      "source": [
        "# Q6: The while loop is like a repeated if statement. The code is executed over and over again, as long as the condition is True. Have another look at its recipe.\n",
        "\n",
        "# while condition :\n",
        "    # expression\n",
        "# have a look at this code sample: \n",
        "\n",
        "# x = 1\n",
        "# while x < 4 :\n",
        "    # print(x)\n",
        "    # x = x + 1\n",
        "# Can you tell how many printouts the above while loop will do?\n",
        "# Use while loop, keep printing the letters from left to right in the DNA sequence until you reach the letter 'C'. Note: recall how the keyword break or continue works."
      ],
      "execution_count": null,
      "outputs": []
    },
    {
      "cell_type": "code",
      "metadata": {
        "id": "y23-daXzszlm",
        "colab_type": "code",
        "colab": {
          "base_uri": "https://localhost:8080/",
          "height": 68
        },
        "outputId": "c42d57bd-3870-4dc4-91eb-cb540beb617d"
      },
      "source": [
        "x = 1\n",
        "while x < 4 :\n",
        "    print(x)\n",
        "    x = x + 1"
      ],
      "execution_count": 3,
      "outputs": [
        {
          "output_type": "stream",
          "text": [
            "1\n",
            "2\n",
            "3\n"
          ],
          "name": "stdout"
        }
      ]
    },
    {
      "cell_type": "code",
      "metadata": {
        "id": "dZNmgkn6jyyf",
        "colab_type": "code",
        "colab": {
          "base_uri": "https://localhost:8080/",
          "height": 187
        },
        "outputId": "af4a544b-37a3-4db1-d243-46a8f3ee3524"
      },
      "source": [
        "DNA = 'GTTGATGTAGCTTATATAAAGCAAGGCACTGAAAATGCCTAGATGAGTCATAGACTCCATAAACAACAGGTTTGGTCCCGGCCTTTTTATTAGCTGTCTGCAGGATTATACATGCAAAAATCCCTACACCGGTGAGAATGCCCTATGTACCACACTCAGGTTTAAAGGAGCAGACATCAAGCACACTGCTAAGTAGCTCACGACGTCTTGCTT'\n",
        "DNA = 0\n",
        "while DNA < 10 :\n",
        "  print(DNA)\n",
        "  DNA = DNA + 1\n",
        "  if DNA >= 10:\n",
        "    break"
      ],
      "execution_count": 29,
      "outputs": [
        {
          "output_type": "stream",
          "text": [
            "0\n",
            "1\n",
            "2\n",
            "3\n",
            "4\n",
            "5\n",
            "6\n",
            "7\n",
            "8\n",
            "9\n"
          ],
          "name": "stdout"
        }
      ]
    },
    {
      "cell_type": "code",
      "metadata": {
        "id": "KEUnGJfRn0Dw",
        "colab_type": "code",
        "colab": {}
      },
      "source": [
        "# Q7: have a look at this code sample: \n",
        "\n",
        "# course_ids= ['CSCI1020', 'CSCI1030', 'CSCI1070']\n",
        "# for id in course_ids: \n",
        "    # print(id)\n",
        "# As usual, you simply have to indent the code with 4 spaces to tell Python which code should be executed in the for loop.\n",
        "\n",
        "# The course_ids variable, containing the ids of different courses in the Computer Science Department, is already defined.\n",
        "\n",
        "# Write a for loop that goes through each element of course_ids. On each iteration, \"the course id is x\" should be printed out, where x is the id value in this iteration.\n",
        "# Use for loop, keep printing the letters from left to right in the DNA sequence until you reach the letter 'C'.  Note: recall how the keyword break or continue works.\n",
        "# Note well that we do an index-based loop with for ind in range(0,length). As a sanity check, if the dna has length 5, given for ind in range(0,5), we will test five elements: dna[0], dna[1],  dna[2],  dna[3],  and dna[4]."
      ],
      "execution_count": null,
      "outputs": []
    },
    {
      "cell_type": "code",
      "metadata": {
        "id": "qnFGMgHAsGmc",
        "colab_type": "code",
        "colab": {
          "base_uri": "https://localhost:8080/",
          "height": 68
        },
        "outputId": "57e85182-5c59-4650-d1ed-f6f0ca8b12dd"
      },
      "source": [
        "course_ids= ['CSCI1020', 'CSCI1030', 'CSCI1070']\n",
        "for id in course_ids: \n",
        "    print(id)"
      ],
      "execution_count": 8,
      "outputs": [
        {
          "output_type": "stream",
          "text": [
            "CSCI1020\n",
            "CSCI1030\n",
            "CSCI1070\n"
          ],
          "name": "stdout"
        }
      ]
    },
    {
      "cell_type": "code",
      "metadata": {
        "id": "6NqpbaCatJrz",
        "colab_type": "code",
        "colab": {
          "base_uri": "https://localhost:8080/",
          "height": 215
        },
        "outputId": "d70b53fc-4af0-4197-8106-5d968589ae77"
      },
      "source": [
        "DNA_sequence = 'GTTGATGTAGCTTATATAAAGCAAGGCACTGAAAATGCCTAGATGAGTCATAGACTCCATAAACAACAGGTTTGGTCCCGGCCTTTTTATTAGCTGTCTGCAGGATTATACATGCAAAAATCCCTACACCGGTGAGAATGCCCTATGTACCACACTCAGGTTTAAAGGAGCAGACATCAAGCACACTGCTAAGTAGCTCACGACGTCTTGCTT'\n",
        "DNA = 0\n",
        "for DNA in DNA_sequence:\n",
        "  DNA = DNA + 1\n",
        "print(DNA)"
      ],
      "execution_count": 3,
      "outputs": [
        {
          "output_type": "error",
          "ename": "TypeError",
          "evalue": "ignored",
          "traceback": [
            "\u001b[0;31m---------------------------------------------------------------------------\u001b[0m",
            "\u001b[0;31mTypeError\u001b[0m                                 Traceback (most recent call last)",
            "\u001b[0;32m<ipython-input-3-f676af9cb40e>\u001b[0m in \u001b[0;36m<module>\u001b[0;34m()\u001b[0m\n\u001b[1;32m      2\u001b[0m \u001b[0mDNA\u001b[0m \u001b[0;34m=\u001b[0m \u001b[0;36m0\u001b[0m\u001b[0;34m\u001b[0m\u001b[0;34m\u001b[0m\u001b[0m\n\u001b[1;32m      3\u001b[0m \u001b[0;32mfor\u001b[0m \u001b[0mDNA\u001b[0m \u001b[0;32min\u001b[0m \u001b[0mDNA_sequence\u001b[0m\u001b[0;34m:\u001b[0m\u001b[0;34m\u001b[0m\u001b[0;34m\u001b[0m\u001b[0m\n\u001b[0;32m----> 4\u001b[0;31m   \u001b[0mDNA\u001b[0m \u001b[0;34m=\u001b[0m \u001b[0mDNA\u001b[0m \u001b[0;34m+\u001b[0m \u001b[0;36m1\u001b[0m\u001b[0;34m\u001b[0m\u001b[0;34m\u001b[0m\u001b[0m\n\u001b[0m\u001b[1;32m      5\u001b[0m \u001b[0mprint\u001b[0m\u001b[0;34m(\u001b[0m\u001b[0mDNA\u001b[0m\u001b[0;34m)\u001b[0m\u001b[0;34m\u001b[0m\u001b[0;34m\u001b[0m\u001b[0m\n",
            "\u001b[0;31mTypeError\u001b[0m: must be str, not int"
          ]
        }
      ]
    },
    {
      "cell_type": "code",
      "metadata": {
        "id": "hErG36U5qVjs",
        "colab_type": "code",
        "colab": {}
      },
      "source": [
        "# Q8: In Python, you need the items() (Links to an external site.) method to loop over a dictionary:\n",
        "\n",
        "# CS_courses= { \"CSCI1020\":\"Intro to bioinformatics\", \n",
        "          # \"CSCI1030\":'Intro to Game Design',\n",
        "          # \"CSCI1070\":'Intro  to Big Data' }\n",
        "\n",
        "# for key, value in world.items() :\n",
        "    # print(key + \" -- \" + str(value))\n",
        "# Remember the CS_courses dictionary that contained the names of some course ids as key and their course names as corresponding value? Go ahead and write a loop to iterate over it\n",
        "\n",
        "# Write a for loop that goes through each key:value pair of CS_courses. On each iteration, \"the course name of x is y\" should be printed out, where x is the key and y is the value of the pair."
      ],
      "execution_count": null,
      "outputs": []
    },
    {
      "cell_type": "code",
      "metadata": {
        "id": "s8AVIalqyf5R",
        "colab_type": "code",
        "colab": {
          "base_uri": "https://localhost:8080/",
          "height": 215
        },
        "outputId": "c750a5d2-90d5-43d5-f082-b6ba2b300763"
      },
      "source": [
        "CS_courses= { \"CSCI1020\":\"Intro to bioinformatics\", \n",
        "          \"CSCI1030\":'Intro to Game Design',\n",
        "          \"CSCI1070\":'Intro  to Big Data' }\n",
        "\n",
        "for key, value in world.items(courses) :\n",
        "    print(key + \" the course of x is y \" + str(value))"
      ],
      "execution_count": 22,
      "outputs": [
        {
          "output_type": "error",
          "ename": "NameError",
          "evalue": "ignored",
          "traceback": [
            "\u001b[0;31m---------------------------------------------------------------------------\u001b[0m",
            "\u001b[0;31mNameError\u001b[0m                                 Traceback (most recent call last)",
            "\u001b[0;32m<ipython-input-22-70a3e60734e5>\u001b[0m in \u001b[0;36m<module>\u001b[0;34m()\u001b[0m\n\u001b[1;32m      3\u001b[0m           \"CSCI1070\":'Intro  to Big Data' }\n\u001b[1;32m      4\u001b[0m \u001b[0;34m\u001b[0m\u001b[0m\n\u001b[0;32m----> 5\u001b[0;31m \u001b[0;32mfor\u001b[0m \u001b[0mkey\u001b[0m\u001b[0;34m,\u001b[0m \u001b[0mvalue\u001b[0m \u001b[0;32min\u001b[0m \u001b[0mworld\u001b[0m\u001b[0;34m.\u001b[0m\u001b[0mitems\u001b[0m\u001b[0;34m(\u001b[0m\u001b[0mcourses\u001b[0m\u001b[0;34m)\u001b[0m \u001b[0;34m:\u001b[0m\u001b[0;34m\u001b[0m\u001b[0;34m\u001b[0m\u001b[0m\n\u001b[0m\u001b[1;32m      6\u001b[0m     \u001b[0mprint\u001b[0m\u001b[0;34m(\u001b[0m\u001b[0mkey\u001b[0m \u001b[0;34m+\u001b[0m \u001b[0;34m\" the course of x is y \"\u001b[0m \u001b[0;34m+\u001b[0m \u001b[0mstr\u001b[0m\u001b[0;34m(\u001b[0m\u001b[0mvalue\u001b[0m\u001b[0;34m)\u001b[0m\u001b[0;34m)\u001b[0m\u001b[0;34m\u001b[0m\u001b[0;34m\u001b[0m\u001b[0m\n",
            "\u001b[0;31mNameError\u001b[0m: name 'world' is not defined"
          ]
        }
      ]
    },
    {
      "cell_type": "code",
      "metadata": {
        "id": "CeLo1UTRqV7u",
        "colab_type": "code",
        "colab": {}
      },
      "source": [
        "# Q9: A list can contain any Python type. But a list itself is also a Python type. That means that a list can also contain a list!  The list has the syntax:\n",
        "\n",
        "#my_list = [el1, el2, el3]\n",
        "# Can you tell which ones of the following lines of Python code are valid ways to build a list? Use type() function to valid them.\n",
        "# A. [1, 3, 4, 2]   B. [[1, 2, 3], [4, 5, 7]]    C. [1 + 2, \"a\" * 5, 3]"
      ],
      "execution_count": null,
      "outputs": []
    },
    {
      "cell_type": "code",
      "metadata": {
        "id": "7011K0knxhSY",
        "colab_type": "code",
        "colab": {
          "base_uri": "https://localhost:8080/",
          "height": 34
        },
        "outputId": "5ddeb13c-3c6b-46f5-be14-c237ffe555f2"
      },
      "source": [
        "list = [1, 3, 4, 2]\n",
        "type([1,3,4,2])"
      ],
      "execution_count": 16,
      "outputs": [
        {
          "output_type": "execute_result",
          "data": {
            "text/plain": [
              "list"
            ]
          },
          "metadata": {
            "tags": []
          },
          "execution_count": 16
        }
      ]
    },
    {
      "cell_type": "code",
      "metadata": {
        "id": "pK7lBH9uxx0S",
        "colab_type": "code",
        "colab": {
          "base_uri": "https://localhost:8080/",
          "height": 34
        },
        "outputId": "56f6af13-9f8f-4cd1-fc7b-11061b45aab7"
      },
      "source": [
        "list = [[1,2,3], [4,5,7]]\n",
        "type([[1,2,3], [4,5,7]])"
      ],
      "execution_count": 17,
      "outputs": [
        {
          "output_type": "execute_result",
          "data": {
            "text/plain": [
              "list"
            ]
          },
          "metadata": {
            "tags": []
          },
          "execution_count": 17
        }
      ]
    },
    {
      "cell_type": "code",
      "metadata": {
        "id": "3fmynqY-yGGm",
        "colab_type": "code",
        "colab": {
          "base_uri": "https://localhost:8080/",
          "height": 34
        },
        "outputId": "8823722e-71a1-4484-869c-d4362bd5774a"
      },
      "source": [
        "list= [1 + 2, \"a\" * 5, 3]\n",
        "type([1 + 2, \"a\" * 5, 3])"
      ],
      "execution_count": 19,
      "outputs": [
        {
          "output_type": "execute_result",
          "data": {
            "text/plain": [
              "list"
            ]
          },
          "metadata": {
            "tags": []
          },
          "execution_count": 19
        }
      ]
    },
    {
      "cell_type": "code",
      "metadata": {
        "id": "7vYTAOewoJ6C",
        "colab_type": "code",
        "colab": {}
      },
      "source": [
        "# Q10: According to the DNA sequence defined in Q1, write your Python codes to answer the following questions:\n",
        "\n",
        " \n",
        "\n",
        "# 1. How often is a letter followed immediately by the same letter in the DNA sequence?\n",
        "\n",
        "# Note well that we do an index-based loop but with range(len(dna)-1). As a sanity check, if the dna has length 5, we only need to test four pairs of neighbors, and thus compare dna[0] to dna[1], dna[1] to dna[2], dna[2] to dna[3], and dna[3] to dna[4].\n",
        "\n",
        " \n",
        "\n",
        "# 2. If two consecutive nucleotides match each other, how often is the next nucleotide that same nucleotide?\n",
        "\n",
        " \n",
        "\n",
        "# 3. How many times does a motif of the form CC?AT occur within the sequence? (where ? could be anything)\n",
        "\n",
        " \n",
        "\n",
        "# 4. When the motif CC?AT does occur, what percentage of the time is the middle nucleotide an A? (A so-called cat box CCAAT)"
      ],
      "execution_count": null,
      "outputs": []
    },
    {
      "cell_type": "code",
      "metadata": {
        "id": "x7ImXdlzp33w",
        "colab_type": "code",
        "colab": {
          "base_uri": "https://localhost:8080/",
          "height": 34
        },
        "outputId": "2f4b4b60-439a-431d-ce44-2eac81a7071c"
      },
      "source": [
        "DNA = 'GTTGATGTAGCTTATATAAAGCAAGGCACTGAAAATGCCTAGATGAGTCATAGACTCCATAAACAACAGGTTTGGTCCCGGCCTTTTTATTAGCTGTCTGCAGGATTATACATGCAAAAATCCCTACACCGGTGAGAATGCCCTATGTACCACACTCAGGTTTAAAGGAGCAGACATCAAGCACACTGCTAAGTAGCTCACGACGTCTTGCTT'\n",
        "DNA.index('C')\n",
        "range(len(DNA)-1)"
      ],
      "execution_count": 10,
      "outputs": [
        {
          "output_type": "execute_result",
          "data": {
            "text/plain": [
              "range(0, 212)"
            ]
          },
          "metadata": {
            "tags": []
          },
          "execution_count": 10
        }
      ]
    },
    {
      "cell_type": "code",
      "metadata": {
        "id": "UwINYXe2wTf9",
        "colab_type": "code",
        "colab": {
          "base_uri": "https://localhost:8080/"
        },
        "outputId": "7d98aa60-a4e2-4d4f-ca24-300b9914a816"
      },
      "source": [
        "DNA = 'GTTGATGTAGCTTATATAAAGCAAGGCACTGAAAATGCCTAGATGAGTCATAGACTCCATAAACAACAGGTTTGGTCCCGGCCTTTTTATTAGCTGTCTGCAGGATTATACATGCAAAAATCCCTACACCGGTGAGAATGCCCTATGTACCACACTCAGGTTTAAAGGAGCAGACATCAAGCACACTGCTAAGTAGCTCACGACGTCTTGCTT'\n",
        "DNA.index('AT') and DNA.index('TT')\n",
        "range(len(DNA)-1)"
      ],
      "execution_count": 23,
      "outputs": [
        {
          "output_type": "execute_result",
          "data": {
            "text/plain": [
              "range(0, 212)"
            ]
          },
          "metadata": {
            "tags": []
          },
          "execution_count": 23
        }
      ]
    },
    {
      "cell_type": "code",
      "metadata": {
        "id": "22bDTxT3tZo5",
        "colab_type": "code",
        "colab": {
          "base_uri": "https://localhost:8080/",
          "height": 34
        },
        "outputId": "0135ad43-5fd7-4e88-86ff-9f952c41805a"
      },
      "source": [
        "DNA = 'GTTGATGTAGCTTATATAAAGCAAGGCACTGAAAATGCCTAGATGAGTCATAGACTCCATAAACAACAGGTTTGGTCCCGGCCTTTTTATTAGCTGTCTGCAGGATTATACATGCAAAAATCCCTACACCGGTGAGAATGCCCTATGTACCACACTCAGGTTTAAAGGAGCAGACATCAAGCACACTGCTAAGTAGCTCACGACGTCTTGCTT'\n",
        "'CCAAT'\n",
        "'CCTAT'\n",
        "'CCGAT'\n",
        "'CCCAT'\n",
        "found_motif = 0\n",
        "for pos in range(0,len(DNA)-4):\n",
        "  if DNA[pos]=='C' and DNA[pos+1]== 'C' and DNA[pos+3]=='A' and DNA[pos+4]== 'T':\n",
        "    found_motif +=1\n",
        "print(\"Total motif CC?AT is: \",found_motif)"
      ],
      "execution_count": 13,
      "outputs": [
        {
          "output_type": "stream",
          "text": [
            "Total motif CC?AT is:  1\n"
          ],
          "name": "stdout"
        }
      ]
    },
    {
      "cell_type": "code",
      "metadata": {
        "id": "zMYb9Wktvly8",
        "colab_type": "code",
        "colab": {
          "base_uri": "https://localhost:8080/",
          "height": 34
        },
        "outputId": "659e4889-dbca-41d5-ac4d-18a3101e1baa"
      },
      "source": [
        "DNA = 'GTTGATGTAGCTTATATAAAGCAAGGCACTGAAAATGCCTAGATGAGTCATAGACTCCATAAACAACAGGTTTGGTCCCGGCCTTTTTATTAGCTGTCTGCAGGATTATACATGCAAAAATCCCTACACCGGTGAGAATGCCCTATGTACCACACTCAGGTTTAAAGGAGCAGACATCAAGCACACTGCTAAGTAGCTCACGACGTCTTGCTT'\n",
        "'CCAAT'\n",
        "'CCTAT'\n",
        "'CCGAT'\n",
        "'CCCAT'\n",
        "found_motif = 0\n",
        "found_motif_CCAAT = 0\n",
        "for pos in range(0,len(DNA)-4):\n",
        "  if DNA[pos]=='C' and DNA[pos+1]== 'C' and DNA[pos+3]=='A' and DNA[pos+4]== 'T':\n",
        "    found_motif +=1\n",
        "    if DNA[pos+2]== 'A':\n",
        "      found_motif_CCAAT == found_motif_CCAAT + 1\n",
        "print(\"Total motif CC?AT is: \",found_motif)"
      ],
      "execution_count": 14,
      "outputs": [
        {
          "output_type": "stream",
          "text": [
            "Total motif CC?AT is:  1\n"
          ],
          "name": "stdout"
        }
      ]
    }
  ]
}