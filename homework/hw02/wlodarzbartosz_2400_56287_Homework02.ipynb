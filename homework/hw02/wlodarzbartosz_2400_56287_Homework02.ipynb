{
  "nbformat": 4,
  "nbformat_minor": 0,
  "metadata": {
    "colab": {
      "name": "Homework02.ipynb ",
      "provenance": []
    },
    "kernelspec": {
      "name": "python3",
      "display_name": "Python 3"
    }
  },
  "cells": [
    {
      "cell_type": "code",
      "metadata": {
        "id": "TFhh0b-lPKuu",
        "colab_type": "code",
        "colab": {
          "base_uri": "https://localhost:8080/",
          "height": 175
        },
        "outputId": "c144a4bd-f4a3-44e3-ea01-9d82894f867c"
      },
      "source": [
        "#Q1Assume that we have one DNA sequence that has a string as \n",
        "\n",
        "#'GTTGATGTAGCTTATATAAAGCAAGGCACTGAAAATGCCTAGATGAGTCATAGACTCCATAAACAACAGGTTTGGTCCCGGCCTTTTTATTAGCTGTCTGCAGGATTATACATGCAAAAATCCCTACACCGGTGAGAATGCCCTATGTACCACACTCAGGTTTAAAGGAGCAGACATCAAGCACACTGCTAAGTAGCTCACGACGTCTTGCTT' \n",
        "# How long is this sequence?\n",
        "# Which is comprised of four nucleotides (e.g. A, T, C, G). We would like to define a variable called 'DNA', and assign the sequence to this variable. Then we need to print the variable by print(\"DNA: \", DNA)\n",
        "# Please write your python codes for this activity\n",
        "# How long is this sequence?\n",
        "#Q1.1 What is the first letter of the sequence?\n",
        "#Q1.2 What is the last letter of the sequence?\n",
        "#Q1.3 What are the first 10 characters of the sequence?\n",
        "#Q1.4 What are the last 10 characters of the sequence?\n",
        "#Q1.5 How many times does the character 'C' appear in the sequence?\n",
        "#Q1.6 What is the index at which the first occurrence of the pattern CCAAT begins\n",
        "DNA = 'GTTGATGTAGCTTATATAAAGCAAGGCACTGAAAATGCCTAGATGAGTCATAGACTCCATAAACAACAGGTTTGGTCCCGGCCTTTTTATTAGCTGTCTGCAGGATTATACATGCAAAAATCCCTACACCGGTGAGAATGCCCTATGTACCACACTCAGGTTTAAAGGAGCAGACATCAAGCACACTGCTAAGTAGCTCACGACGTCTTGCTT' \n",
        "print(\"DNA: \", DNA) \n",
        "print(len(DNA))\n",
        "print(DNA[0])\n",
        "print(DNA[-1])\n",
        "print(DNA[0 : 10])\n",
        "print(DNA[203 : 213])\n",
        "print(DNA.count('C'))\n",
        "print(DNA.find('CCAAT'))\n",
        "\n",
        "\n"
      ],
      "execution_count": 2,
      "outputs": [
        {
          "output_type": "stream",
          "text": [
            "DNA:  GTTGATGTAGCTTATATAAAGCAAGGCACTGAAAATGCCTAGATGAGTCATAGACTCCATAAACAACAGGTTTGGTCCCGGCCTTTTTATTAGCTGTCTGCAGGATTATACATGCAAAAATCCCTACACCGGTGAGAATGCCCTATGTACCACACTCAGGTTTAAAGGAGCAGACATCAAGCACACTGCTAAGTAGCTCACGACGTCTTGCTT\n",
            "213\n",
            "G\n",
            "T\n",
            "GTTGATGTAG\n",
            "CGTCTTGCTT\n",
            "49\n",
            "-1\n"
          ],
          "name": "stdout"
        }
      ]
    },
    {
      "cell_type": "code",
      "metadata": {
        "id": "ffZ5TCfBhK1n",
        "colab_type": "code",
        "colab": {}
      },
      "source": [
        ""
      ],
      "execution_count": null,
      "outputs": []
    },
    {
      "cell_type": "code",
      "metadata": {
        "id": "8CcSSHByy2PI",
        "colab_type": "code",
        "colab": {
          "base_uri": "https://localhost:8080/",
          "height": 51
        },
        "outputId": "bc2ea397-6cdf-4de8-a8e6-62be68ccbd8a"
      },
      "source": [
        "#Q2\n",
        "#2.1 Based on the sequence defined in Q1, write codes to see if the first 10 characters of the sequence and the last 10 characters of the sequence are equal.\n",
        "#2.2 Write Python code to check if the number of the character 'C' is equal to the number of the character 'A' in the DNA sequence.\n",
        "print(DNA[0 : 10],  DNA[203 : 213], DNA[0 : 10] == DNA[203 : 213])\n",
        "print(DNA.count('C'), DNA.count('A'), DNA.count('C') == DNA.count('A'))"
      ],
      "execution_count": null,
      "outputs": [
        {
          "output_type": "stream",
          "text": [
            "GTTGATGTAG CGTCTTGCTT False\n",
            "49 65 False\n"
          ],
          "name": "stdout"
        }
      ]
    },
    {
      "cell_type": "code",
      "metadata": {
        "id": "6As8wkzf0oi1",
        "colab_type": "code",
        "colab": {
          "base_uri": "https://localhost:8080/",
          "height": 51
        },
        "outputId": "5664b0af-831d-4db3-900f-3721a7eda789"
      },
      "source": [
        "#Q3 \n",
        "#Q3.1 Write Python code to if the number of the character 'C'  is greater than or equal to the number of the character 'A' in the DNA sequence.\n",
        "#Q3.2 Write Python code to check if the index at which the first occurrence of the letter 'C' is greater than the index at which the first occurrence of the letter 'A'.\n",
        "print(DNA.count('C'), DNA.count('A'), DNA.count('C') >= DNA.count('A'))\n",
        "print(DNA.index('C'), DNA.index('A'), DNA.index('C') > DNA.index('A'))\n"
      ],
      "execution_count": null,
      "outputs": [
        {
          "output_type": "stream",
          "text": [
            "49 65 False\n",
            "10 4 True\n"
          ],
          "name": "stdout"
        }
      ]
    },
    {
      "cell_type": "code",
      "metadata": {
        "id": "iZuSZ6zG2QYQ",
        "colab_type": "code",
        "colab": {
          "base_uri": "https://localhost:8080/",
          "height": 69
        },
        "outputId": "d7802d18-f4e9-4628-b460-545899df8b93"
      },
      "source": [
        "#Q4\n",
        "#Q4.1 Write Python code to check if the number of the character 'C'  is greater than the number of the character 'A'  and smaller than the number of the character 'G' in the DNA sequence.\n",
        "#Q4.2 Write Python code to check if the number of the character 'C'  is greater than the number of the character 'A'  or smaller than the number of the character 'G' in the DNA sequence.\n",
        "#Q4.3 Suppose  we have variables x = 8  and y = 9, what will the result be if you execute the command not(not(x < 3) and not(y > 14 or y > 10))  in the notebook?   Note: not has higher precedence than and  and or.\n",
        "print(DNA.count('C'), DNA.count('A'), DNA.count('G'), DNA.count('C') > DNA.count('A') and DNA.count('C') > DNA.count('G'))\n",
        "print(DNA.count('C') > DNA.count('A') or DNA.count('C') < DNA.count('G'))\n",
        "x = 8\n",
        "y = 9\n",
        "not(not(x < 3) and not(y > 14 or y > 10))"
      ],
      "execution_count": null,
      "outputs": [
        {
          "output_type": "stream",
          "text": [
            "49 65 44 False\n",
            "False\n"
          ],
          "name": "stdout"
        },
        {
          "output_type": "execute_result",
          "data": {
            "text/plain": [
              "False"
            ]
          },
          "metadata": {
            "tags": []
          },
          "execution_count": 43
        }
      ]
    },
    {
      "cell_type": "code",
      "metadata": {
        "id": "MINhDim7BrSl",
        "colab_type": "code",
        "colab": {
          "base_uri": "https://localhost:8080/",
          "height": 51
        },
        "outputId": "84848069-64c7-4c1b-bc81-1f7122f05ac5"
      },
      "source": [
        "#Q5\n",
        "#Q5.1 What will the output be if you run this piece of code in the notebook?\n",
        "#Q5.2 Use if, elif and else, check the length of DNA sequence in Q1 with the following conditions: if the length is shorter than 100, print 'the DNA sequence is short.', otherwise if the length is shorter than 500, print \"the DNA sequence is medium\", otherwise, print \"the length is long\".\n",
        "area = 10.0\n",
        "if(area < 9) :\n",
        "    print(\"small\")\n",
        "elif(area < 12) :\n",
        "    print(\"medium\")\n",
        "else :\n",
        "    print(\"large\")\n",
        "    \n",
        "if(len(DNA) < 100) :\n",
        "  print( 'the DNA sequence is short.')\n",
        "elif(len(DNA) < 500) :\n",
        "  print('the DNA sequence is medium')\n",
        "else :\n",
        "  print('the length is long')"
      ],
      "execution_count": null,
      "outputs": [
        {
          "output_type": "stream",
          "text": [
            "medium\n",
            "the DNA sequence is medium\n"
          ],
          "name": "stdout"
        }
      ]
    },
    {
      "cell_type": "code",
      "metadata": {
        "id": "az6WKaSaEcrC",
        "colab_type": "code",
        "colab": {
          "base_uri": "https://localhost:8080/",
          "height": 242
        },
        "outputId": "1fcfe4fb-4ff3-44f9-c462-8e9e52d4812b"
      },
      "source": [
        "#Q6\n",
        "#Q6.1 Can you tell how many printouts the above while loop will do? 3 times\n",
        "#6.2 Use while loop, keep printing the letters from left to right in the DNA sequence until you reach the letter 'C'. Note: recall how the keyword break or continue works.\n",
        "x = 1\n",
        "while x < 4 :\n",
        "    print(x)\n",
        "    x = x + 1\n",
        "\n",
        "pos = 0\n",
        "while  pos < len(DNA):\n",
        "  if DNA[pos] == 'C':\n",
        "    break\n",
        "  print(DNA[pos])\n",
        "  pos= pos +1"
      ],
      "execution_count": 7,
      "outputs": [
        {
          "output_type": "stream",
          "text": [
            "1\n",
            "2\n",
            "3\n",
            "G\n",
            "T\n",
            "T\n",
            "G\n",
            "A\n",
            "T\n",
            "G\n",
            "T\n",
            "A\n",
            "G\n"
          ],
          "name": "stdout"
        }
      ]
    },
    {
      "cell_type": "code",
      "metadata": {
        "id": "_c_4M_THiOGH",
        "colab_type": "code",
        "colab": {}
      },
      "source": [
        ""
      ],
      "execution_count": 5,
      "outputs": []
    },
    {
      "cell_type": "code",
      "metadata": {
        "id": "AvNAaMHiSyEE",
        "colab_type": "code",
        "colab": {
          "base_uri": "https://localhost:8080/",
          "height": 121
        },
        "outputId": "ed8d0b51-7fdd-441e-fe2d-c1b40c5261a5"
      },
      "source": [
        "#Q7 \n",
        "#Q7.1 Write a for loop that goes through each element of course_ids. On each iteration, \"the course id is x\" should be printed out, where x is the id value in this iteration.\n",
        "#7.2 Use for loop, keep printing the letters from left to right in the DNA sequence until you reach the letter 'C'.  Note: recall how the keyword break or continue works.\n",
        "#7.3 Note well that we do an index-based loop with for ind in range(0,length). As a sanity check, if the dna has length 5, given for ind in range(0,5), we will test five elements: dna[0], dna[1],  dna[2],  dna[3],  and dna[4].\n",
        "course_ids= ['CSCI1020', 'CSCI1030', 'CSCI1070']\n",
        "for key in course_ids:\n",
        "  x = key \n",
        "  print(x)\n",
        "for key in course_ids:\n",
        "  print('The course id is', x)\n",
        "\n",
        "\n",
        "\n"
      ],
      "execution_count": null,
      "outputs": [
        {
          "output_type": "stream",
          "text": [
            "CSCI1020\n",
            "CSCI1030\n",
            "CSCI1070\n",
            "The course id is CSCI1070\n",
            "The course id is CSCI1070\n",
            "The course id is CSCI1070\n"
          ],
          "name": "stdout"
        }
      ]
    },
    {
      "cell_type": "code",
      "metadata": {
        "id": "IbCQk4ulMcJg",
        "colab_type": "code",
        "colab": {
          "base_uri": "https://localhost:8080/",
          "height": 69
        },
        "outputId": "c5bca69d-57ee-4b0f-cc4e-ceff3b122d5f"
      },
      "source": [
        "#Q8\n",
        "#Write a for loop that goes through each key:value pair of CS_courses. On each iteration, \"the course name of x is y\" should be printed out, where x is the key and y is the value of the pair.\n",
        "CS_courses= { \"CSCI1020\":\"Intro to bioinformatics\", \n",
        "          \"CSCI1030\":'Intro to Game Design',\n",
        "          \"CSCI1070\":'Intro  to Big Data' }\n",
        "\n",
        "for key, value in CS_courses.items():\n",
        "  x = key\n",
        "  y = value\n",
        "  print('the course name of', x, 'is', y)\n",
        "    "
      ],
      "execution_count": null,
      "outputs": [
        {
          "output_type": "stream",
          "text": [
            "the course name of CSCI1020 is Intro to bioinformatics\n",
            "the course name of CSCI1030 is Intro to Game Design\n",
            "the course name of CSCI1070 is Intro  to Big Data\n"
          ],
          "name": "stdout"
        }
      ]
    },
    {
      "cell_type": "code",
      "metadata": {
        "id": "cQ4_zjQDWPig",
        "colab_type": "code",
        "colab": {
          "base_uri": "https://localhost:8080/",
          "height": 69
        },
        "outputId": "f16e3189-e644-4982-bc94-5104a9bdd17b"
      },
      "source": [
        "#Q9\n",
        "#Can you tell which ones of the following lines of Python code are valid ways to build a list? Use type() function to valid them.\n",
        "print(type([1, 3, 4, 2]))\n",
        "print(type([[1, 2, 3], [4, 5, 7]]))\n",
        "print(type( [1 + 2, \"a\" * 5, 3]))\n",
        "#All three can be used to build a list."
      ],
      "execution_count": null,
      "outputs": [
        {
          "output_type": "stream",
          "text": [
            "<class 'list'>\n",
            "<class 'list'>\n",
            "<class 'list'>\n"
          ],
          "name": "stdout"
        }
      ]
    },
    {
      "cell_type": "code",
      "metadata": {
        "id": "saGNwHQtW_OG",
        "colab_type": "code",
        "colab": {
          "base_uri": "https://localhost:8080/",
          "height": 69
        },
        "outputId": "c639238f-06b3-45cc-f5f0-267a1aeaea99"
      },
      "source": [
        "#10.1 How often is a letter followed immediately by the same letter in the DNA sequence?\n",
        "#Note well that we do an index-based loop but with range(len(dna)-1). As a sanity check, if the dna has length 5, we only need to test four pairs of neighbors, and thus compare dna[0] to dna[1], dna[1] to dna[2], dna[2] to dna[3], and dna[3] to dna[4].\n",
        "found_CC=0\n",
        "found_AA=0\n",
        "found_GG=0\n",
        "found_TT=0\n",
        "for pos in range (0, len(DNA)-1):\n",
        "  if DNA[pos]== 'C' and DNA[pos+1]== 'C':\n",
        "    found_CC+= 1\n",
        "  if DNA[pos]== 'G' and DNA[pos+1]== 'G' : \n",
        "    found_GG+= 1\n",
        "  if  DNA[pos]== 'T' and DNA[pos+1]== 'T' :\n",
        "    found_TT+= 1\n",
        "  if DNA[pos]== 'A' and  DNA[pos+1]== 'A' :\n",
        "    found_AA+= 1\n",
        "found_repeats= found_AA + found_CC + found_GG + found_TT\n",
        "print('CC =', found_CC, 'AA =', found_AA, 'GG =', found_GG, 'TT =', found_TT, found_repeats)\n",
        " #10.2. If two consecutive nucleotides match each other, how often is the next nucleotide that same nucleotide?\n",
        "found_CCC=0\n",
        "found_AAA=0\n",
        "found_GGG=0\n",
        "found_TTT=0\n",
        "for pos in range (0, len(DNA)-2):\n",
        "  if DNA[pos]== 'C' and DNA[pos+1]== 'C' and DNA[pos+2]== 'C' :\n",
        "    found_CCC+= 1\n",
        "  if DNA[pos]== 'G' and DNA[pos+1]== 'G' and DNA[pos+2]== 'G': \n",
        "    found_GGG+= 1\n",
        "  if  DNA[pos]== 'T' and DNA[pos+1]== 'T' and DNA[pos+2]== 'T' :\n",
        "    found_TTT+= 1\n",
        "  if DNA[pos]== 'A' and  DNA[pos+1]== 'A' and DNA[pos+2]== 'A' :\n",
        "    found_AAA+= 1\n",
        "found_repeats3= found_AAA + found_CCC + found_GGG + found_TTT\n",
        "print('CCC=', found_CCC, 'AAA =', found_AAA, 'GGG =', found_GGG, 'TTT =', found_TTT, found_repeats3)\n",
        "#10.3. How many times does a motif of the form CC?AT occur within the sequence? (where ? could be anything)\n",
        "found_motif_CCGAT=0\n",
        "found_motif_CCTAT=0\n",
        "found_motif_CCCAT=0\n",
        "found_motif_CCAAT=0\n",
        "found_motif=0\n",
        "for pos in range(0, len(DNA)-4):\n",
        "  if DNA[pos]=='C' and DNA[pos+1]=='C' and DNA[pos+3]=='A' and DNA[pos+4]=='T':\n",
        "    found_motif+= 1 \n",
        "    if DNA[pos+2] == 'A' :\n",
        "      found_motif_CCAAT = found_motif_CCAAT + 1\n",
        "    if DNA[pos+2] == 'C' :\n",
        "      found_motif_CCCAT = found_motif_CCCAT + 1\n",
        "    if DNA[pos+2] == 'G' :\n",
        "      found_motif_CCGAT = found_motif_CCGAT + 1\n",
        "    if DNA[pos+2] == 'T' :\n",
        "      found_motif_CCTAT = found_motif_CCTAT + 1\n",
        "\n",
        "    \n",
        "\n",
        "\n",
        "print('CCAAT =', found_motif_CCAAT, 'CCCAT =', found_motif_CCCAT, 'CCGAT =', found_motif_CCGAT, 'CCTAT=', found_motif_CCTAT)\n",
        "#10.4. When the motif CC?AT does occur, what percentage of the time is the middle nucleotide an A? (A so-called cat box CCAAT)\n",
        "\n"
      ],
      "execution_count": 6,
      "outputs": [
        {
          "output_type": "stream",
          "text": [
            "CC = 11 AA = 18 GG = 8 TT = 14 51\n",
            "CCC= 3 AAA = 8 GGG = 0 TTT = 5 16\n",
            "CCAAT = 0 CCCAT = 0 CCGAT = 0 CCTAT= 1\n"
          ],
          "name": "stdout"
        }
      ]
    },
    {
      "cell_type": "code",
      "metadata": {
        "id": "nbAEK33Pi5Ns",
        "colab_type": "code",
        "colab": {}
      },
      "source": [
        ""
      ],
      "execution_count": null,
      "outputs": []
    }
  ]
}