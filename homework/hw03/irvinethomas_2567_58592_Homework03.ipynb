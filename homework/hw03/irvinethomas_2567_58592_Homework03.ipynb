{
  "nbformat": 4,
  "nbformat_minor": 0,
  "metadata": {
    "colab": {
      "name": "Homework03.ipynb",
      "provenance": []
    },
    "kernelspec": {
      "name": "python3",
      "display_name": "Python 3"
    }
  },
  "cells": [
    {
      "cell_type": "code",
      "metadata": {
        "id": "iTbFNqAQAeC-",
        "colab_type": "code",
        "colab": {
          "base_uri": "https://localhost:8080/",
          "height": 364
        },
        "outputId": "18dd495f-6e1d-4c57-c763-209478f05149"
      },
      "source": [
        "dna = \"CGATATCG\"\n",
        "motif = \"AT\"\n",
        "test_data = \"\"\"AT AT\n",
        "CCCATCCCATCCC AT\n",
        "ATC A\n",
        "ATCGCGAT\tAT\n",
        "ATAT \tAT\n",
        "ATCAT AT\n",
        "ATATATATATATAT AT\n",
        "TTTAAATTT A\n",
        "AT A\n",
        "CGATATCG AT\"\"\"\n",
        "def reverse_complement(string):\n",
        "  dna2dna = {'A':'T', 'T':'A', 'C':'G', 'G':'C'}\n",
        "  other = ''\n",
        "  for base in string:\n",
        "      other = other + dna2dna[base]\n",
        "  return other[ : :-1]\n",
        "\n",
        "def mutate(dna, motif):\n",
        "  search_dna = dna[dna.find(motif) + len(motif) -1:]\n",
        "  if motif in dna:\n",
        "    if reverse_complement(motif) in search_dna:\n",
        "      mutated_dna = dna[:dna.find(motif)] + search_dna[search_dna.find(reverse_complement(motif)) + len(motif):]\n",
        "      return mutated_dna\n",
        "    else:\n",
        "      return dna  \n",
        "  else:\n",
        "    return dna  \n",
        "\n",
        "for dna,motif in [line.split() for line in test_data.split('\\n')[0:]]:\n",
        "    print('Executing mutate(%s,%s)...' % (dna,motif))\n",
        "    print('  returned: %s' % (mutate(dna,motif)))\n",
        "\n",
        "\n",
        "\n",
        "#test1 AT - AT\n",
        "#test2 CCCATCCCATCCC - AT\n",
        "#test3 ATC - A\n",
        "#test4 ATCGCGAT - AT\n",
        "#test5 ATAT - AT\n",
        "#test6 ATCAT - AT\n",
        "#test7 ATATATATATATAT - AT\n",
        "#test8 TTTAAATTT - A\n",
        "#test9 AT - A\n",
        "#test10 CGATATCG - AT"
      ],
      "execution_count": 5,
      "outputs": [
        {
          "output_type": "stream",
          "text": [
            "Executing mutate(AT,AT)...\n",
            "  returned: AT\n",
            "Executing mutate(CCCATCCCATCCC,AT)...\n",
            "  returned: CCCCCC\n",
            "Executing mutate(ATC,A)...\n",
            "  returned: C\n",
            "Executing mutate(ATCGCGAT,AT)...\n",
            "  returned: \n",
            "Executing mutate(ATAT,AT)...\n",
            "  returned: \n",
            "Executing mutate(ATCAT,AT)...\n",
            "  returned: \n",
            "Executing mutate(ATATATATATATAT,AT)...\n",
            "  returned: ATATATATAT\n",
            "Executing mutate(TTTAAATTT,A)...\n",
            "  returned: TTTTT\n",
            "Executing mutate(AT,A)...\n",
            "  returned: \n",
            "Executing mutate(CGATATCG,AT)...\n",
            "  returned: CGCG\n"
          ],
          "name": "stdout"
        }
      ]
    }
  ]
}