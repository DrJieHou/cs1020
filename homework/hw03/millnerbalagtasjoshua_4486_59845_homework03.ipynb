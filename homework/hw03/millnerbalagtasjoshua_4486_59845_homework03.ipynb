{
  "nbformat": 4,
  "nbformat_minor": 0,
  "metadata": {
    "colab": {
      "name": "homework03.ipynb",
      "provenance": []
    },
    "kernelspec": {
      "name": "python3",
      "display_name": "Python 3"
    }
  },
  "cells": [
    {
      "cell_type": "code",
      "metadata": {
        "id": "be07_B39jz7n",
        "colab_type": "code",
        "colab": {}
      },
      "source": [
        "dna2dna = {'A':'T', 'T':'A', 'C':'G', 'G':'C'}\n",
        "def reverse_complement(dna):\n",
        "    \"\"\"Return a string representing the reverse complement of the single dna strand.\"\"\"\n",
        "    other = ''              # start with an empty string\n",
        "    for base in dna:\n",
        "        other = other + dna2dna[base]\n",
        "    return other[ : :-1]    # python trick to reverse a string"
      ],
      "execution_count": 13,
      "outputs": []
    },
    {
      "cell_type": "code",
      "metadata": {
        "id": "RzLSSBzMwRXm",
        "colab_type": "code",
        "colab": {}
      },
      "source": [
        "def mutate(dna, motif):\n",
        "    \"\"\"Return the result of a mutation based on an inverted repeat of the given motif.\"\"\"\n",
        "    # your code here!\n",
        "    #### (1) Check if the motif exists in dna sequence. If not, return the original sequence.\n",
        "    dna.find(motif)\n",
        "    if dna.find(motif) == -1:\n",
        "      return dna\n",
        "    \n",
        "    #### (2) If true, check if the reversed complement of the motif exists in dna sequence, if not, return the orignal sequence.\n",
        "    reversed_complement = reverse_complement(motif)\n",
        "    print(reversed_complement)\n",
        "    if dna.find(reversed_complement) == -1:\n",
        "     return dna\n",
        "    \n",
        "    #### (3) If the motif and its reversed complements exist, remove the region starting from the motif and ending with the inverted repeat, return the new sequence.\n",
        "    if dna.find(motif) and reversed_complement == 1:\n",
        "     new_sequence = dna.replace(reversed_complement, '') + dna.replace(motif, '')\n",
        "     return new_sequence\n"
      ],
      "execution_count": 28,
      "outputs": []
    },
    {
      "cell_type": "code",
      "metadata": {
        "id": "NcqXECiKwZBa",
        "colab_type": "code",
        "colab": {
          "base_uri": "https://localhost:8080/",
          "height": 266
        },
        "outputId": "19582fc9-f3b7-43b4-8629-4c680398c3e3"
      },
      "source": [
        "for dna,motif in [line.split() for line in test_data.split('\\n')[0:]]:\n",
        "    print('Executing mutate(%s,%s)...' % (dna,motif))\n",
        "    print('  returned: %s' % (mutate(dna,motif)))"
      ],
      "execution_count": 29,
      "outputs": [
        {
          "output_type": "stream",
          "text": [
            "Executing mutate(ATCCGAATACGGTTCGGGTA,CGAA)...\n",
            "TTCG\n",
            "  returned: None\n",
            "Executing mutate(ATCCGAATACGGTTGGGTA,CGAA)...\n",
            "TTCG\n",
            "  returned: ATCCGAATACGGTTGGGTA\n",
            "Executing mutate(ATCCAATACGGTTCGGGTA,CGAA)...\n",
            "  returned: ATCCAATACGGTTCGGGTA\n",
            "Executing mutate(ATCCGAATACGGTTCGGGTTCGA,CGAA)...\n",
            "TTCG\n",
            "  returned: None\n",
            "Executing mutate(AGTCACATGATCAGT,C)...\n",
            "G\n",
            "  returned: None\n"
          ],
          "name": "stdout"
        }
      ]
    },
    {
      "cell_type": "code",
      "metadata": {
        "id": "2h0DdNYtwZdb",
        "colab_type": "code",
        "colab": {}
      },
      "source": [
        "test_data = \"\"\"ATCCGAATACGGTTCGGGTA CGAA\n",
        "ATCCGAATACGGTTGGGTA CGAA\n",
        "ATCCAATACGGTTCGGGTA CGAA\n",
        "ATCCGAATACGGTTCGGGTTCGA\tCGAA\n",
        "AGTCACATGATCAGT\tC\"\"\"\n"
      ],
      "execution_count": 1,
      "outputs": []
    }
  ]
}