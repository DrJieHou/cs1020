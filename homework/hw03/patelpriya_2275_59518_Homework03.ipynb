{
  "nbformat": 4,
  "nbformat_minor": 0,
  "metadata": {
    "colab": {
      "name": "Homework03.ipynb",
      "provenance": []
    },
    "kernelspec": {
      "name": "python3",
      "display_name": "Python 3"
    }
  },
  "cells": [
    {
      "cell_type": "code",
      "metadata": {
        "id": "Gge9MbJL2nmU",
        "colab_type": "code",
        "colab": {}
      },
      "source": [
        "dna2dna = {'A':'T', 'T':'A', 'C':'G', 'G':'C'}\n",
        "def reverse_complement(dna):\n",
        "    \"\"\"Return a string representing the reverse complement of the single dna strand.\"\"\"\n",
        "    other = ''              # start with an empty string\n",
        "    for base in dna:\n",
        "        other += dna2dna[base]\n",
        "    return other[ : :-1]    # python trick to reverse a string"
      ],
      "execution_count": null,
      "outputs": []
    },
    {
      "cell_type": "code",
      "metadata": {
        "id": "w4k0TSQgDPlb",
        "colab_type": "code",
        "colab": {}
      },
      "source": [
        "DNA_sequence: \"ATCCGAATACGGTTCGGGTA\" \n",
        "DNA_motif: \"CGAA\""
      ],
      "execution_count": null,
      "outputs": []
    },
    {
      "cell_type": "code",
      "metadata": {
        "id": "fQ5--TI_zbE5",
        "colab_type": "code",
        "colab": {
          "base_uri": "https://localhost:8080/",
          "height": 37
        },
        "outputId": "32bcaa45-1203-4cd8-b637-1c8698ddc4bd"
      },
      "source": [
        "reverse_complement(\"ATCCGAATACGGTTCGGGTA\")"
      ],
      "execution_count": null,
      "outputs": [
        {
          "output_type": "execute_result",
          "data": {
            "application/vnd.google.colaboratory.intrinsic+json": {
              "type": "string"
            },
            "text/plain": [
              "'TACCCGAACCGTATTCGGAT'"
            ]
          },
          "metadata": {
            "tags": []
          },
          "execution_count": 5
        }
      ]
    },
    {
      "cell_type": "code",
      "metadata": {
        "id": "acyWKApnBcIH",
        "colab_type": "code",
        "colab": {}
      },
      "source": [
        "def mutate(dna, motif):\n",
        "    \"\"\"Return the result of a mutation based on an inverted repeat of the given motif.\"\"\"\n",
        "    # (1) Check if the motif exists in dna sequence. If not, return the original sequence.\n",
        "    motif_index = dna.find(motif)\n",
        "    print(\"Motif is\", motif)\n",
        "    if (motif_index != -1):\n",
        "      print(\"Motif index is\", motif_index)\n",
        "    else:\n",
        "      return dna\n",
        "    \n",
        "    # (2) If true, check if the reversed complement of the motif exists in dna sequence, if not, return the orignal sequence.\n",
        "    new_sequence = dna[motif_index+1:]\n",
        "    reversed_index = new_sequence.find(reverse_complement(motif))\n",
        "    print(\"Reversed index is\", reversed_index)\n",
        "    if ((reversed_index) != -1):\n",
        "      print(\"Reversed complement is\", reverse_complement(motif))\n",
        "    else:\n",
        "      return dna\n",
        "\n",
        "    # (3) If the motif and its reversed complements exist, \n",
        "    # remove the region starting from the motif and ending with the inverted repeat, return the new sequence.\n",
        "    retval = ''\n",
        "    retval += dna[:motif_index]\n",
        "    motif_length = len(motif)\n",
        "    retval += new_sequence[reversed_index+motif_length:]\n",
        "\n",
        "    return retval"
      ],
      "execution_count": null,
      "outputs": []
    },
    {
      "cell_type": "code",
      "metadata": {
        "id": "lUZSUHQBBFyN",
        "colab_type": "code",
        "colab": {
          "base_uri": "https://localhost:8080/",
          "height": 105
        },
        "outputId": "a2764e7a-a255-495a-fb7f-471f2c9223ef"
      },
      "source": [
        "mutate(\"ATCCGAATACGGTTCGGGTA\", \"CGAA\")"
      ],
      "execution_count": null,
      "outputs": [
        {
          "output_type": "stream",
          "text": [
            "Motif is CGAA\n",
            "Motif index is 3\n",
            "Reversed index is 8\n",
            "Reversed complement is TTCG\n"
          ],
          "name": "stdout"
        },
        {
          "output_type": "execute_result",
          "data": {
            "application/vnd.google.colaboratory.intrinsic+json": {
              "type": "string"
            },
            "text/plain": [
              "'ATCGGTA'"
            ]
          },
          "metadata": {
            "tags": []
          },
          "execution_count": 7
        }
      ]
    },
    {
      "cell_type": "code",
      "metadata": {
        "id": "uu5_DwU-BGAO",
        "colab_type": "code",
        "colab": {
          "base_uri": "https://localhost:8080/",
          "height": 88
        },
        "outputId": "b59f27c7-6451-49d4-db20-1950b73c6c1c"
      },
      "source": [
        "mutate(\"ATCCGAATACGGTTGGGTA\", \"CGAA\")"
      ],
      "execution_count": null,
      "outputs": [
        {
          "output_type": "stream",
          "text": [
            "Motif is CGAA\n",
            "Motif index is 3\n",
            "Reversed index is -1\n"
          ],
          "name": "stdout"
        },
        {
          "output_type": "execute_result",
          "data": {
            "application/vnd.google.colaboratory.intrinsic+json": {
              "type": "string"
            },
            "text/plain": [
              "'ATCCGAATACGGTTGGGTA'"
            ]
          },
          "metadata": {
            "tags": []
          },
          "execution_count": 8
        }
      ]
    },
    {
      "cell_type": "code",
      "metadata": {
        "id": "bEAEJSBhBGN8",
        "colab_type": "code",
        "colab": {
          "base_uri": "https://localhost:8080/",
          "height": 54
        },
        "outputId": "477b5d72-6060-44d8-d3c4-18d8cbf7bdd5"
      },
      "source": [
        "mutate(\"ATCCAATACGGTTCGGGTA\", \"CGAA\")"
      ],
      "execution_count": null,
      "outputs": [
        {
          "output_type": "stream",
          "text": [
            "Motif is CGAA\n"
          ],
          "name": "stdout"
        },
        {
          "output_type": "execute_result",
          "data": {
            "application/vnd.google.colaboratory.intrinsic+json": {
              "type": "string"
            },
            "text/plain": [
              "'ATCCAATACGGTTCGGGTA'"
            ]
          },
          "metadata": {
            "tags": []
          },
          "execution_count": 9
        }
      ]
    },
    {
      "cell_type": "code",
      "metadata": {
        "id": "JTtUNyTlBGkQ",
        "colab_type": "code",
        "colab": {
          "base_uri": "https://localhost:8080/",
          "height": 105
        },
        "outputId": "49ff5e24-7691-4ef9-9783-47656233d963"
      },
      "source": [
        "mutate(\"ATCCGAATACGGTTCGGGTTCGA\", \"CGAA\")"
      ],
      "execution_count": null,
      "outputs": [
        {
          "output_type": "stream",
          "text": [
            "Motif is CGAA\n",
            "Motif index is 3\n",
            "Reversed index is 8\n",
            "Reversed complement is TTCG\n"
          ],
          "name": "stdout"
        },
        {
          "output_type": "execute_result",
          "data": {
            "application/vnd.google.colaboratory.intrinsic+json": {
              "type": "string"
            },
            "text/plain": [
              "'ATCGGTTCGA'"
            ]
          },
          "metadata": {
            "tags": []
          },
          "execution_count": 10
        }
      ]
    },
    {
      "cell_type": "code",
      "metadata": {
        "id": "Q4bD5nW2A1U0",
        "colab_type": "code",
        "colab": {
          "base_uri": "https://localhost:8080/",
          "height": 105
        },
        "outputId": "ca048a3a-f06f-4a1a-ff9a-a365c160ff1d"
      },
      "source": [
        "mutate(\"AGTCACATGATCAGT\", \"C\")"
      ],
      "execution_count": null,
      "outputs": [
        {
          "output_type": "stream",
          "text": [
            "Motif is C\n",
            "Motif index is 3\n",
            "Reversed index is 4\n",
            "Reversed complement is G\n"
          ],
          "name": "stdout"
        },
        {
          "output_type": "execute_result",
          "data": {
            "application/vnd.google.colaboratory.intrinsic+json": {
              "type": "string"
            },
            "text/plain": [
              "'AGTATCAGT'"
            ]
          },
          "metadata": {
            "tags": []
          },
          "execution_count": 11
        }
      ]
    },
    {
      "cell_type": "code",
      "metadata": {
        "id": "F8At2tmROb4J",
        "colab_type": "code",
        "colab": {}
      },
      "source": [
        "test_data = \"\"\"ATCCGAATACGGTTCGGGTA CGAA\n",
        "ATCCGAATACGGTTGGGTA CGAA\n",
        "ATCCAATACGGTTCGGGTA CGAA\n",
        "ATCCGAATACGGTTCGGGTTCGA\tCGAA\n",
        "AGTCACATGATCAGT\tC\"\"\""
      ],
      "execution_count": null,
      "outputs": []
    },
    {
      "cell_type": "code",
      "metadata": {
        "id": "BeazNaz-OeSH",
        "colab_type": "code",
        "colab": {
          "base_uri": "https://localhost:8080/",
          "height": 459
        },
        "outputId": "9aef0a33-c06d-4b2d-e967-85b4da8046e4"
      },
      "source": [
        "for dna,motif in [line.split() for line in test_data.split('\\n')[0:]]:\n",
        "    print('Executing mutate(%s,%s)...' % (dna,motif))\n",
        "    print('  returned: %s' % (mutate(dna,motif)))"
      ],
      "execution_count": null,
      "outputs": [
        {
          "output_type": "stream",
          "text": [
            "Executing mutate(ATCCGAATACGGTTCGGGTA,CGAA)...\n",
            "Motif is CGAA\n",
            "Motif index is 3\n",
            "Reversed index is 8\n",
            "Reversed complement is TTCG\n",
            "  returned: ATCGGTA\n",
            "Executing mutate(ATCCGAATACGGTTGGGTA,CGAA)...\n",
            "Motif is CGAA\n",
            "Motif index is 3\n",
            "Reversed index is -1\n",
            "  returned: ATCCGAATACGGTTGGGTA\n",
            "Executing mutate(ATCCAATACGGTTCGGGTA,CGAA)...\n",
            "Motif is CGAA\n",
            "  returned: ATCCAATACGGTTCGGGTA\n",
            "Executing mutate(ATCCGAATACGGTTCGGGTTCGA,CGAA)...\n",
            "Motif is CGAA\n",
            "Motif index is 3\n",
            "Reversed index is 8\n",
            "Reversed complement is TTCG\n",
            "  returned: ATCGGTTCGA\n",
            "Executing mutate(AGTCACATGATCAGT,C)...\n",
            "Motif is C\n",
            "Motif index is 3\n",
            "Reversed index is 4\n",
            "Reversed complement is G\n",
            "  returned: AGTATCAGT\n"
          ],
          "name": "stdout"
        }
      ]
    },
    {
      "cell_type": "code",
      "metadata": {
        "id": "tP8BzXpP9gw0",
        "colab_type": "code",
        "colab": {}
      },
      "source": [
        "test_data_custom = \"\"\"TATCGGTTCGGGTA A\n",
        "ATTGCGCAAGGGTA TTGC\n",
        "ATTTCDAAAGGAAATAAA TTT\n",
        "ATCCGATTTACAAATCGTATCG\tCGATTT\n",
        "AGTCACATGATCATA\tAT\n",
        "ATTGCGCCGC GCG\n",
        "ATAG T\n",
        "AGTCAATCGACGT GT\n",
        "GCCCTAGGGCTTAGCGCCCTAG TAGGGC\n",
        "GTCT G\"\"\""
      ],
      "execution_count": 45,
      "outputs": []
    },
    {
      "cell_type": "code",
      "metadata": {
        "id": "hdz1ZR9e-5mz",
        "colab_type": "code",
        "colab": {
          "base_uri": "https://localhost:8080/",
          "height": 1000
        },
        "outputId": "98081814-1df9-437e-eba0-5e3bd1171821"
      },
      "source": [
        "for dna,motif in [line.split() for line in test_data_custom.split('\\n')[0:]]:\n",
        "    print('Executing mutate(%s,%s)...' % (dna,motif))\n",
        "    print('  returned: %s' % (mutate(dna,motif)))"
      ],
      "execution_count": 46,
      "outputs": [
        {
          "output_type": "stream",
          "text": [
            "Executing mutate(TATCGGTTCGGGTA,A)...\n",
            "Motif is A\n",
            "Motif index is 1\n",
            "Reversed index is 0\n",
            "Reversed complement is T\n",
            "  returned: TCGGTTCGGGTA\n",
            "Executing mutate(ATTGCGCAAGGGTA,TTGC)...\n",
            "Motif is TTGC\n",
            "Motif index is 1\n",
            "Reversed index is 3\n",
            "Reversed complement is GCAA\n",
            "  returned: AGGGTA\n",
            "Executing mutate(ATTTCDAAAGGAAATAAA,TTT)...\n",
            "Motif is TTT\n",
            "Motif index is 1\n",
            "Reversed index is 4\n",
            "Reversed complement is AAA\n",
            "  returned: AGGAAATAAA\n",
            "Executing mutate(ATCCGATTTACAAATCGTATCG,CGATTT)...\n",
            "Motif is CGATTT\n",
            "Motif index is 3\n",
            "Reversed index is 7\n",
            "Reversed complement is AAATCG\n",
            "  returned: ATCTATCG\n",
            "Executing mutate(AGTCACATGATCATA,AT)...\n",
            "Motif is AT\n",
            "Motif index is 6\n",
            "Reversed index is 2\n",
            "Reversed complement is AT\n",
            "  returned: AGTCACCATA\n",
            "Executing mutate(ATTGCGCCGC,GCG)...\n",
            "Motif is GCG\n",
            "Motif index is 3\n",
            "Reversed index is 0\n",
            "Reversed complement is CGC\n",
            "  returned: ATTCGC\n",
            "Executing mutate(ATAG,T)...\n",
            "Motif is T\n",
            "Motif index is 1\n",
            "Reversed index is 0\n",
            "Reversed complement is A\n",
            "  returned: AG\n",
            "Executing mutate(AGTCAATCGACGT,GT)...\n",
            "Motif is GT\n",
            "Motif index is 1\n",
            "Reversed index is 7\n",
            "Reversed complement is AC\n",
            "  returned: AGT\n",
            "Executing mutate(GCCCTAGGGCTTAGCGCCCTAG,TAGGGC)...\n",
            "Motif is TAGGGC\n",
            "Motif index is 4\n",
            "Reversed index is 10\n",
            "Reversed complement is GCCCTA\n",
            "  returned: GCCCG\n",
            "Executing mutate(GTCT,G)...\n",
            "Motif is G\n",
            "Motif index is 0\n",
            "Reversed index is 1\n",
            "Reversed complement is C\n",
            "  returned: T\n"
          ],
          "name": "stdout"
        }
      ]
    }
  ]
}