{
  "nbformat": 4,
  "nbformat_minor": 0,
  "metadata": {
    "colab": {
      "name": "homework03.ipynb",
      "provenance": [],
      "collapsed_sections": []
    },
    "kernelspec": {
      "name": "python3",
      "display_name": "Python 3"
    }
  },
  "cells": [
    {
      "cell_type": "code",
      "metadata": {
        "id": "UE-uxqhOBYkH",
        "colab_type": "code",
        "colab": {}
      },
      "source": [
        "# first function is taken from lecture notes\n",
        "#-------------------------------------------------------------\n",
        "dna2dna = {'A':'T', 'T':'A', 'C':'G', 'G':'C'}\n",
        "def reverse_complement(dna):\n",
        "    \"\"\"Return a string representing the reverse complement of the single dna strand.\"\"\"\n",
        "    other = ''              # start with an empty string\n",
        "    for base in dna:\n",
        "        other = other + dna2dna[base]\n",
        "    return other[ : :-1]    # python trick to reverse a string"
      ],
      "execution_count": 2,
      "outputs": []
    },
    {
      "cell_type": "code",
      "metadata": {
        "id": "S0VGqyI_CC2m",
        "colab_type": "code",
        "colab": {}
      },
      "source": [
        "# second function is your responsibility to implement\n",
        "#-------------------------------------------------------------\n",
        "def mutate(dna, motif):\n",
        "  motifIndex = dna.find(motif)\n",
        "  if motifIndex == -1:\n",
        "    return dna\n",
        "\n",
        "  reverse_comp = reverse_complement(motif)\n",
        "  res = [count for count in range(len(dna)) if dna.startswith(reverse_comp, count)] \n",
        "  if len(res) == 0:\n",
        "    return dna\n",
        "  \n",
        "  endIndex = 0\n",
        "  for resIndex in res:\n",
        "    if resIndex > motifIndex:\n",
        "      endIndex = resIndex + len(reverse_comp)\n",
        "      break\n",
        "  \n",
        "  if endIndex > motifIndex:\n",
        "    dna = dna[0: motifIndex:] + dna[endIndex::]\n",
        "\n",
        "  return dna\n",
        "  "
      ],
      "execution_count": 68,
      "outputs": []
    },
    {
      "cell_type": "code",
      "metadata": {
        "id": "0yoANYAGiuCU",
        "colab_type": "code",
        "colab": {
          "base_uri": "https://localhost:8080/",
          "height": 187
        },
        "outputId": "45beedcc-3c63-4e59-c663-25c42aacbfb6"
      },
      "source": [
        "\n",
        "## USE /n for splitting the line\n",
        "\n",
        "test_data = \"\"\"ATCCGAATACGGTTCGGGTA CGAA\n",
        "ATCCGAATACGGTTGGGTA CGAA\n",
        "ATCCAATACGGTTCGGGTA CGAA\n",
        "ATCCGAATACGGTTCGGGTTCGA\tCGAA\n",
        "AGTCACATGATCAGT\tC\"\"\"\n",
        "\n",
        "for dna,motif in [line.split() for line in test_data.split('\\n')[0:]]:\n",
        "    print('Executing mutate(%s,%s)...' % (dna,motif))\n",
        "    print('  returned: %s' % (mutate(dna,motif)))\n",
        "\n",
        "\n",
        "\n"
      ],
      "execution_count": 71,
      "outputs": [
        {
          "output_type": "stream",
          "text": [
            "Executing mutate(ATCCGAATACGGTTCGGGTA,CGAA)...\n",
            "  returned: ATCGGTA\n",
            "Executing mutate(ATCCGAATACGGTTGGGTA,CGAA)...\n",
            "  returned: ATCCGAATACGGTTGGGTA\n",
            "Executing mutate(ATCCAATACGGTTCGGGTA,CGAA)...\n",
            "  returned: ATCCAATACGGTTCGGGTA\n",
            "Executing mutate(ATCCGAATACGGTTCGGGTTCGA,CGAA)...\n",
            "  returned: ATCGGTTCGA\n",
            "Executing mutate(AGTCACATGATCAGT,C)...\n",
            "  returned: AGTATCAGT\n"
          ],
          "name": "stdout"
        }
      ]
    }
  ]
}