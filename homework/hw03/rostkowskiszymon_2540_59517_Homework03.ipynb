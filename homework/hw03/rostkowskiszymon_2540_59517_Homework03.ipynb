{
  "nbformat": 4,
  "nbformat_minor": 0,
  "metadata": {
    "colab": {
      "name": "Homework03.ipynb",
      "provenance": []
    },
    "kernelspec": {
      "name": "python3",
      "display_name": "Python 3"
    }
  },
  "cells": [
    {
      "cell_type": "code",
      "metadata": {
        "id": "-P9lMVX1j7cB",
        "colab_type": "code",
        "colab": {
          "base_uri": "https://localhost:8080/",
          "height": 269
        },
        "outputId": "c4733b4d-d50a-4622-98fc-c48be5766c9c"
      },
      "source": [
        "test_data = \"\"\"ATCCGAATACGGTTCGGGTA CGAA\n",
        "ATCCGAATACGGTTGGGTA CGAA\n",
        "ATCCAATACGGTTCGGGTA CGAA\n",
        "ATCCGAATACGGTTCGGGTTCGA\tCGAA\n",
        "AGTCACATGATCAGT\tC\n",
        "AACGTACGATGCTAGGCGTATAGCGATCGACGA ACGA\n",
        "ATGACGAGCATCGAAA G\n",
        "ATCGAAAGTAGTAGTGCTT CGAA\n",
        "ATGCAGACTAGTAACGAT T\n",
        "GATCAGTACGATAGATC C\n",
        "GCATATCAGATACGATACGGGATCACAT CT\n",
        "ATGCGAAGTAGACGAAGCTTAGT CGAA\n",
        "ATGCGATAGATCGTAGAC C\n",
        "ATGATGAGCGGCTTCGAT GA\n",
        "ATGGATGAGATCGCTAGCTAGCT GAT\"\"\"\n",
        "print(test_data)"
      ],
      "execution_count": 13,
      "outputs": [
        {
          "output_type": "stream",
          "text": [
            "ATCCGAATACGGTTCGGGTA CGAA\n",
            "ATCCGAATACGGTTGGGTA CGAA\n",
            "ATCCAATACGGTTCGGGTA CGAA\n",
            "ATCCGAATACGGTTCGGGTTCGA\tCGAA\n",
            "AGTCACATGATCAGT\tC\n",
            "AACGTACGATGCTAGGCGTATAGCGATCGACGA ACGA\n",
            "ATGACGAGCATCGAAA G\n",
            "ATCGAAAGTAGTAGTGCTT CGAA\n",
            "ATGCAGACTAGTAACGAT T\n",
            "GATCAGTACGATAGATC C\n",
            "GCATATCAGATACGATACGGGATCACAT CT\n",
            "ATGCGAAGTAGACGAAGCTTAGT CGAA\n",
            "ATGCGATAGATCGTAGAC C\n",
            "ATGATGAGCGGCTTCGAT GA\n",
            "ATGGATGAGATCGCTAGCTAGCT GAT\n"
          ],
          "name": "stdout"
        }
      ]
    },
    {
      "cell_type": "code",
      "metadata": {
        "id": "VmJ-4lvG_Zy0",
        "colab_type": "code",
        "colab": {}
      },
      "source": [
        "dna2dna = {'A':'T', 'T':'A', 'C':'G', 'G':'C'}\n",
        "def reverse_complement(dna):\n",
        "   # \"\"\"Return a string representing the reverse complement of the single dna strand.\"\"\"\n",
        "    other = ''              # start with an empty string\n",
        "    for base in dna:\n",
        "        other = other + dna2dna[base]\n",
        "    return other[ : :-1]    # python trick to reverse a string"
      ],
      "execution_count": 2,
      "outputs": []
    },
    {
      "cell_type": "code",
      "metadata": {
        "id": "u8u38NCzPn1X",
        "colab_type": "code",
        "colab": {}
      },
      "source": [
        "def mutate(dna, motif):\n",
        "  found = 0\n",
        "  sequence =''\n",
        "  dna1= dna[dna.find(reverse_complement(motif)): len(dna)]\n",
        "  one_character_motif = dna[dna.find(reverse_complement(motif), dna.find(motif),len(dna)):]\n",
        "  if dna.find(motif) == -1:\n",
        "   sequence = 'the original sequence is not found'\n",
        "  if dna.find(motif) != -1:\n",
        "    if len(motif) == 1:\n",
        "     sequence = dna[0:dna.find(motif)] + one_character_motif[len(motif):]\n",
        "     return sequence\n",
        "    elif dna.find(reverse_complement(motif)) != -1:\n",
        "      sequence = dna[0:dna.find(motif)] + dna1[len(motif):]\n",
        "      return sequence\n",
        "    else:\n",
        "      sequence = 'The complement sequence is not found'\n",
        "  return sequence\n"
      ],
      "execution_count": 3,
      "outputs": []
    },
    {
      "cell_type": "code",
      "metadata": {
        "id": "9P-HmAcFgJDu",
        "colab_type": "code",
        "colab": {
          "base_uri": "https://localhost:8080/",
          "height": 521
        },
        "outputId": "20a82d45-c2ba-4b99-d26a-9049e5518223"
      },
      "source": [
        "for dna,motif in [line.split() for line in test_data.split('\\n')[0:]]:\n",
        "    print('Executing mutate(%s,%s)...' % (dna,motif))\n",
        "    print('  returned: %s' % (mutate(dna,motif)))"
      ],
      "execution_count": 14,
      "outputs": [
        {
          "output_type": "stream",
          "text": [
            "Executing mutate(ATCCGAATACGGTTCGGGTA,CGAA)...\n",
            "  returned: ATCGGTA\n",
            "Executing mutate(ATCCGAATACGGTTGGGTA,CGAA)...\n",
            "  returned: The complement sequence is not found\n",
            "Executing mutate(ATCCAATACGGTTCGGGTA,CGAA)...\n",
            "  returned: the original sequence is not found\n",
            "Executing mutate(ATCCGAATACGGTTCGGGTTCGA,CGAA)...\n",
            "  returned: ATCGGTTCGA\n",
            "Executing mutate(AGTCACATGATCAGT,C)...\n",
            "  returned: AGTATCAGT\n",
            "Executing mutate(AACGTACGATGCTAGGCGTATAGCGATCGACGA,ACGA)...\n",
            "  returned: The complement sequence is not found\n",
            "Executing mutate(ATGACGAGCATCGAAA,G)...\n",
            "  returned: ATGAGCATCGAAA\n",
            "Executing mutate(ATCGAAAGTAGTAGTGCTT,CGAA)...\n",
            "  returned: The complement sequence is not found\n",
            "Executing mutate(ATGCAGACTAGTAACGAT,T)...\n",
            "  returned: AGACTAGTAACGAT\n",
            "Executing mutate(GATCAGTACGATAGATC,C)...\n",
            "  returned: GATTACGATAGATC\n",
            "Executing mutate(GCATATCAGATACGATACGGGATCACAT,CT)...\n",
            "  returned: the original sequence is not found\n",
            "Executing mutate(ATGCGAAGTAGACGAAGCTTAGT,CGAA)...\n",
            "  returned: The complement sequence is not found\n",
            "Executing mutate(ATGCGATAGATCGTAGAC,C)...\n",
            "  returned: ATGATAGATCGTAGAC\n",
            "Executing mutate(ATGATGAGCGGCTTCGAT,GA)...\n",
            "  returned: ATGAT\n",
            "Executing mutate(ATGGATGAGATCGCTAGCTAGCT,GAT)...\n",
            "  returned: ATGGCTAGCTAGCT\n"
          ],
          "name": "stdout"
        }
      ]
    }
  ]
}