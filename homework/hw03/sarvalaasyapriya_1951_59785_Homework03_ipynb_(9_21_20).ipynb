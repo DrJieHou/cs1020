{
  "nbformat": 4,
  "nbformat_minor": 0,
  "metadata": {
    "colab": {
      "name": "Homework03.ipynb (9/21/20)",
      "provenance": []
    },
    "kernelspec": {
      "name": "python3",
      "display_name": "Python 3"
    }
  },
  "cells": [
    {
      "cell_type": "code",
      "metadata": {
        "id": "Jl8NtvNch0tT",
        "colab_type": "code",
        "colab": {}
      },
      "source": [
        "'''\n",
        "Homework03\n",
        "\n",
        "This is the file in which you must place your code. \n",
        "For convenience, we have already provided an implmentation of the reverse_complement function that was originally given in lecture notes. \n",
        "We have begun to define the required mutate(dna,motif) function but the body of that function is your responsibility.\n",
        "'''\n",
        "#-------------------------------------------------------------\n",
        "# first function is taken from lecture notes\n",
        "#-------------------------------------------------------------\n",
        "dna2dna = {'A':'T', 'T':'A', 'C':'G', 'G':'C'}\n",
        "def reverse_complement(dna):\n",
        "    \"\"\"Return a string representing the reverse complement of the single dna strand.\"\"\"\n",
        "    other = ''              # start with an empty string\n",
        "    for base in dna:\n",
        "        other = other + dna2dna[base]\n",
        "    return other[ : :-1]    # python trick to reverse a string\n",
        "\n",
        "#-------------------------------------------------------------\n",
        "# second function is your responsibility to implement\n",
        "#-------------------------------------------------------------\n",
        "def mutate(dna, motif):\n",
        "  found = 0 \n",
        "  sequence = ''\n",
        "  if dna.find(motif) != -1: \n",
        "    found = 1\n",
        "  if found == 0: \n",
        "    sequence = 'The sequence is not found'\n",
        "  if found == 1: \n",
        "    if dna.find(reverse_complement(motif)) != -1:\n",
        "      sequence = dna[0:dna.find(motif)] + dna[dna.find(reverse_complement(motif)):len(dna)]\n",
        "    else: \n",
        "     sequence = 'The reverse complement is not found'\n",
        "  return sequence\n",
        "  \"\"\"Return the result of a mutation based on an inverted repeat of the given motif.\"\"\"\n",
        "    # your code here!\n",
        "    #### (1) Check if the motif exists in dna sequence. If not, return the original sequence.\n",
        "    \n",
        "    \n",
        "    #### (2) If true, check if the reversed complement of the motif exists in dna sequence, if not, return the orignal sequence.\n",
        "    \n",
        "    \n",
        "    #### (3) If the motif and its reversed complements exist, remove the region starting from the motif and ending with the inverted repeat, return the new sequence."
      ],
      "execution_count": null,
      "outputs": []
    },
    {
      "cell_type": "code",
      "metadata": {
        "id": "9j7xM1P5nXBX",
        "colab_type": "code",
        "colab": {
          "base_uri": "https://localhost:8080/",
          "height": 187
        },
        "outputId": "6c379160-602e-42d3-91c3-ddcabc580069"
      },
      "source": [
        "test_data = \"\"\"ATCCGAATACGGTTCGGGTA CGAA\n",
        "ATCCGAATACGGTTGGGTA CGAA\n",
        "ATCCAATACGGTTCGGGTA CGAA\n",
        "ATCCGAATACGGTTCGGGTTCGA CGAA\n",
        "AGTCACATGATCAGT\tC\"\"\"\n",
        "\n",
        "for dna,motif in [line.split() for line in test_data.split('\\n')[0:]]:\n",
        "    print('Executing mutate(%s,%s)...' % (dna,motif))\n",
        "    print('  returned: %s' % (mutate(dna,motif)))"
      ],
      "execution_count": null,
      "outputs": [
        {
          "output_type": "stream",
          "text": [
            "Executing mutate(ATCCGAATACGGTTCGGGTA,CGAA)...\n",
            "  returned: ATCTTCGGGTA\n",
            "Executing mutate(ATCCGAATACGGTTGGGTA,CGAA)...\n",
            "  returned: The reverse complement is not found\n",
            "Executing mutate(ATCCAATACGGTTCGGGTA,CGAA)...\n",
            "  returned: The sequence is not found\n",
            "Executing mutate(ATCCGAATACGGTTCGGGTTCGA,CGAA)...\n",
            "  returned: ATCTTCGGGTTCGA\n",
            "Executing mutate(AGTCACATGATCAGT,C)...\n",
            "  returned: AGTGTCACATGATCAGT\n"
          ],
          "name": "stdout"
        }
      ]
    },
    {
      "cell_type": "code",
      "metadata": {
        "id": "xhvAyAwopvoB",
        "colab_type": "code",
        "colab": {
          "base_uri": "https://localhost:8080/",
          "height": 187
        },
        "outputId": "b22ef920-7937-4256-b1ca-b6905f8cc199"
      },
      "source": [
        "test_data = \"\"\"CGTTGACATGACTGACCTTG GCCA\n",
        "TTGGCTGGAATTCGATTAG TTCG\n",
        "TCGAATCGGCAATGCTCAA TTAT\n",
        "TGACTGCCTAGTCCAAGTACTGA TTAT\n",
        "TGATGACTATCGATA\tT\"\"\"\n",
        "for dna,motif in [line.split() for line in test_data.split('\\n')[0:]]:\n",
        "    print('Executing mutate(%s,%s)...' % (dna,motif))\n",
        "    print('  returned: %s' % (mutate(dna,motif)))"
      ],
      "execution_count": null,
      "outputs": [
        {
          "output_type": "stream",
          "text": [
            "Executing mutate(CGTTGACATGACTGACCTTG,GCCA)...\n",
            "  returned: The sequence is not found\n",
            "Executing mutate(TTGGCTGGAATTCGATTAG,TTCG)...\n",
            "  returned: The reverse complement is not found\n",
            "Executing mutate(TCGAATCGGCAATGCTCAA,TTAT)...\n",
            "  returned: The sequence is not found\n",
            "Executing mutate(TGACTGCCTAGTCCAAGTACTGA,TTAT)...\n",
            "  returned: The sequence is not found\n",
            "Executing mutate(TGATGACTATCGATA,T)...\n",
            "  returned: ATGACTATCGATA\n"
          ],
          "name": "stdout"
        }
      ]
    }
  ]
}