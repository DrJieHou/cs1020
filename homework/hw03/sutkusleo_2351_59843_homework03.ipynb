{
  "nbformat": 4,
  "nbformat_minor": 0,
  "metadata": {
    "colab": {
      "name": "homework03.ipynb",
      "provenance": []
    },
    "kernelspec": {
      "name": "python3",
      "display_name": "Python 3"
    }
  },
  "cells": [
    {
      "cell_type": "code",
      "metadata": {
        "id": "LDuurfbSqHs_",
        "colab_type": "code",
        "colab": {}
      },
      "source": [
        "# Q1: Look for the leftmost occurrence of the original motif. If none is found, then return the original dna unmodified.\n",
        "# (hint: understand the str.find() function at https://www.geeksforgeeks.org/string-find-python/ (Links to an external site.))"
      ],
      "execution_count": null,
      "outputs": []
    },
    {
      "cell_type": "code",
      "metadata": {
        "id": "IKKJKPm4qGNa",
        "colab_type": "code",
        "colab": {}
      },
      "source": [
        "dna2dna = {'A':'T', 'T':'A', 'C':'G', 'G':'C'}\n",
        "def reverse_complement(dna):\n",
        "    \"\"\"Return a string representing the reverse complement of the single dna strand.\"\"\"\n",
        "    other = ''              # start with an empty string\n",
        "    for base in dna:\n",
        "        other = other + dna2dna[base]\n",
        "    return other[ : :-1]    # python trick to reverse a string"
      ],
      "execution_count": 2,
      "outputs": []
    },
    {
      "cell_type": "code",
      "metadata": {
        "id": "-KrDu8fYqT4G",
        "colab_type": "code",
        "colab": {}
      },
      "source": [
        "def mutate(dna, motif):\n",
        "    \"\"\"Return the result of a mutation based on an inverted repeat of the given motif.\"\"\"\n",
        "    # your code here!\n",
        "    #### (1) Check if the motif exists in dna sequence. If not, return the original sequence.\n",
        "    index = 0\n",
        "    print(dna.find(motif))\n",
        "    if dna.find(motif) == -1:\n",
        "      return dna\n",
        "    #### (2) If true, check if the reversed complement of the motif exists in dna sequence, if not, return the orignal sequence.\n",
        "    new_sequence = reverse_complement(motif)\n",
        "    print(new_sequence)\n",
        "    if dna.find(new_sequence) == -1:\n",
        "      return dna\n",
        "    #### (3) If the motif and its reversed complements exist, remove the region starting from the motif and ending with the inverted repeat, return the new sequence.\n",
        "    dna [0:dna.find(motif)] + dna [dna.find(new_sequence):]\n",
        "    final_sequence = dna [0:dna.find(motif)] + dna [dna.find(new_sequence)+len(new_sequence):]\n",
        "    print(final_sequence)"
      ],
      "execution_count": 20,
      "outputs": []
    },
    {
      "cell_type": "code",
      "metadata": {
        "id": "HP_mj19k1RU2",
        "colab_type": "code",
        "colab": {
          "base_uri": "https://localhost:8080/",
          "height": 68
        },
        "outputId": "42773517-9381-4646-ef21-b15f439aea30"
      },
      "source": [
        "mutate('ATCCGAATACGGTTCGGGTA', 'CGAA')"
      ],
      "execution_count": 21,
      "outputs": [
        {
          "output_type": "stream",
          "text": [
            "3\n",
            "TTCG\n",
            "ATCGGTA\n"
          ],
          "name": "stdout"
        }
      ]
    },
    {
      "cell_type": "code",
      "metadata": {
        "id": "6rels-wa_0J7",
        "colab_type": "code",
        "colab": {}
      },
      "source": [
        "dna2dna = {'A':'T', 'T':'A', 'C':'G', 'G':'C'}\n",
        "def reverse_complement(dna):\n",
        "    \"\"\"Return a string representing the reverse complement of the single dna strand.\"\"\"\n",
        "    other = ''              # start with an empty string\n",
        "    for base in dna:\n",
        "        other = other + dna2dna[base]\n",
        "    return other[ : :-1]    # python trick to reverse a string"
      ],
      "execution_count": 22,
      "outputs": []
    },
    {
      "cell_type": "code",
      "metadata": {
        "id": "MUZomjw3_sy2",
        "colab_type": "code",
        "colab": {}
      },
      "source": [
        "def mutate(dna, motif):\n",
        "    \"\"\"Return the result of a mutation based on an inverted repeat of the given motif.\"\"\"\n",
        "    # your code here!\n",
        "    #### (1) Check if the motif exists in dna sequence. If not, return the original sequence.\n",
        "    \n",
        "    \n",
        "    #### (2) If true, check if the reversed complement of the motif exists in dna sequence, if not, return the orignal sequence.\n",
        "    \n",
        "    \n",
        "    #### (3) If the motif and its reversed complements exist, remove the region starting from the motif and ending with the inverted repeat, return the new sequence."
      ],
      "execution_count": null,
      "outputs": []
    },
    {
      "cell_type": "code",
      "metadata": {
        "id": "Umj2Ohcn_xYy",
        "colab_type": "code",
        "colab": {}
      },
      "source": [
        "#test"
      ],
      "execution_count": null,
      "outputs": []
    },
    {
      "cell_type": "code",
      "metadata": {
        "id": "if_qOmQWhGqe",
        "colab_type": "code",
        "colab": {}
      },
      "source": [
        "for line in test_data.split('\\n'):\n",
        "  new_data = line.split(' ')\n",
        "  print(new_data)\n",
        "  "
      ],
      "execution_count": null,
      "outputs": []
    },
    {
      "cell_type": "code",
      "metadata": {
        "id": "P5uY6ixQkVwU",
        "colab_type": "code",
        "colab": {
          "base_uri": "https://localhost:8080/",
          "height": 391
        },
        "outputId": "d6417468-6eab-469b-8e8b-45ea4502e83e"
      },
      "source": [
        "test_data = \"\"\"ATCCGAATACGGTTCGGGTA CGAA\n",
        "ATCCGAATACGGTTGGGTA CGAA\n",
        "ATCCAATACGGTTCGGGTA CGAA\n",
        "ATCCGAATACGGTTCGGGTTCGA\tCGAA\n",
        "AGTCACATGATCAGT\tC\"\"\"\n",
        "\n",
        "for dna,motif in [line.split() for line in test_data.split('\\n')[0:]]:\n",
        "    print('Executing mutate(%s,%s)...' % (dna,motif))\n",
        "    print('  returned: %s' % (mutate(dna,motif)))"
      ],
      "execution_count": 24,
      "outputs": [
        {
          "output_type": "stream",
          "text": [
            "Executing mutate(ATCCGAATACGGTTCGGGTA,CGAA)...\n",
            "3\n",
            "TTCG\n",
            "ATCGGTA\n",
            "  returned: None\n",
            "Executing mutate(ATCCGAATACGGTTGGGTA,CGAA)...\n",
            "3\n",
            "TTCG\n",
            "  returned: ATCCGAATACGGTTGGGTA\n",
            "Executing mutate(ATCCAATACGGTTCGGGTA,CGAA)...\n",
            "-1\n",
            "  returned: ATCCAATACGGTTCGGGTA\n",
            "Executing mutate(ATCCGAATACGGTTCGGGTTCGA,CGAA)...\n",
            "3\n",
            "TTCG\n",
            "ATCGGTTCGA\n",
            "  returned: None\n",
            "Executing mutate(AGTCACATGATCAGT,C)...\n",
            "3\n",
            "G\n",
            "AGTTCACATGATCAGT\n",
            "  returned: None\n"
          ],
          "name": "stdout"
        }
      ]
    },
    {
      "cell_type": "code",
      "metadata": {
        "id": "ARGjendX52Bq",
        "colab_type": "code",
        "colab": {
          "base_uri": "https://localhost:8080/",
          "height": 799
        },
        "outputId": "b72df22a-5d3e-45b2-a98f-97af15e58304"
      },
      "source": [
        "test_data = \"\"\"AGCTTTATGATC T\n",
        "ACCGGTACGTTACGTGGC TGGC\n",
        "TGCAATGATCGATCTTA TTA\n",
        "CCGTAGCTAGCTA A\n",
        "ATCCGTTTAGGCACC CC\n",
        "ATTCGGACTCTGTCGCGCGAT CGC\n",
        "CGGTTAGCCGGCAT CGG\n",
        "GCATATTCCCCGTA CGAT\n",
        "TTAACGGCTATCGA TT\n",
        "GTCATGGCATGATCGA G\"\"\"\n",
        "\n",
        "for dna,motif in [line.split() for line in test_data.split('\\n')[0:]]:\n",
        "    print('Executing mutate(%s,%s)...' % (dna,motif))\n",
        "    print('  returned: %s' % (mutate(dna,motif)))"
      ],
      "execution_count": 39,
      "outputs": [
        {
          "output_type": "stream",
          "text": [
            "Executing mutate(AGCTTTATGATC,T)...\n",
            "3\n",
            "A\n",
            "AGCGCTTTATGATC\n",
            "  returned: None\n",
            "Executing mutate(ACCGGTACGTTACGTGGC,TGGC)...\n",
            "14\n",
            "GCCA\n",
            "  returned: ACCGGTACGTTACGTGGC\n",
            "Executing mutate(TGCAATGATCGATCTTA,TTA)...\n",
            "14\n",
            "TAA\n",
            "  returned: TGCAATGATCGATCTTA\n",
            "Executing mutate(CCGTAGCTAGCTA,A)...\n",
            "4\n",
            "T\n",
            "CCGTAGCTAGCTA\n",
            "  returned: None\n",
            "Executing mutate(ATCCGTTTAGGCACC,CC)...\n",
            "2\n",
            "GG\n",
            "ATCACC\n",
            "  returned: None\n",
            "Executing mutate(ATTCGGACTCTGTCGCGCGAT,CGC)...\n",
            "13\n",
            "GCG\n",
            "ATTCGGACTCTGTCGAT\n",
            "  returned: None\n",
            "Executing mutate(CGGTTAGCCGGCAT,CGG)...\n",
            "0\n",
            "CCG\n",
            "GCAT\n",
            "  returned: None\n",
            "Executing mutate(GCATATTCCCCGTA,CGAT)...\n",
            "-1\n",
            "  returned: GCATATTCCCCGTA\n",
            "Executing mutate(TTAACGGCTATCGA,TT)...\n",
            "0\n",
            "AA\n",
            "CGGCTATCGA\n",
            "  returned: None\n",
            "Executing mutate(GTCATGGCATGATCGA,G)...\n",
            "0\n",
            "C\n",
            "ATGGCATGATCGA\n",
            "  returned: None\n"
          ],
          "name": "stdout"
        }
      ]
    }
  ]
}