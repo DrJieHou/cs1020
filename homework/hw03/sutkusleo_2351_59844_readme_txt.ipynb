{
  "nbformat": 4,
  "nbformat_minor": 0,
  "metadata": {
    "colab": {
      "name": "readme.txt",
      "provenance": []
    },
    "kernelspec": {
      "name": "python3",
      "display_name": "Python 3"
    }
  },
  "cells": [
    {
      "cell_type": "markdown",
      "metadata": {
        "id": "klu1s6kP8hYd",
        "colab_type": "text"
      },
      "source": [
        "Challenges I faced include trying to create the final sequence for the third question. Spent most of my time trying to get my head around it. I did have some success of understanding the first and second questions though. Once I got the first few lines done I got more into it. "
      ]
    }
  ]
}