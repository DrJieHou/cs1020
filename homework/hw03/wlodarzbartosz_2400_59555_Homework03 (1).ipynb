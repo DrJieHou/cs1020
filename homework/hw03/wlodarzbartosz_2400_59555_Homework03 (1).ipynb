{
  "nbformat": 4,
  "nbformat_minor": 0,
  "metadata": {
    "colab": {
      "name": "Homework03.ipynb",
      "provenance": []
    },
    "kernelspec": {
      "name": "python3",
      "display_name": "Python 3"
    }
  },
  "cells": [
    {
      "cell_type": "code",
      "metadata": {
        "id": "HkzgZwKqBVOA",
        "colab_type": "code",
        "colab": {}
      },
      "source": [
        "dna2dna = {'A':'T', 'T':'A', 'C':'G', 'G':'C'}\n",
        "def reverse_complement(dna):\n",
        "    \"\"\"Return a string representing the reverse complement of the single dna strand.\"\"\"\n",
        "    other = ''              # start with an empty string\n",
        "    for base in dna:\n",
        "        other = other + dna2dna[base]\n",
        "    return other[ : :-1]    # python trick to reverse a string"
      ],
      "execution_count": 1,
      "outputs": []
    },
    {
      "cell_type": "code",
      "metadata": {
        "id": "NAq0xqLGjXsY",
        "colab_type": "code",
        "colab": {}
      },
      "source": [
        "\n",
        "def mutate(dna, motif):\n",
        "   if motif in dna:\n",
        "      print(motif, 'found in sequence')\n",
        "   else :\n",
        "      print(dna, motif, 'motif not found')\n",
        "      exit\n",
        "   if reverse_complement(motif) in dna:\n",
        "      print(reverse_complement(motif), 'Reverse complement found in sequence')\n",
        "   else :\n",
        "      print(reverse_complement(dna), 'Reverse complement not found in sequence', print(dna))\n",
        "      exit\n",
        "   if reverse_complement(motif) in dna: \n",
        "     #new_sequence = {dna.replace(motif, '').replace(reverse_complement(motif), '')} \n",
        "     new_sequence= dna[0:dna.find(motif)]+dna[dna.find(reverse_complement(motif))+len(motif):]\n",
        "     print(new_sequence)\n",
        "     \n",
        "       "
      ],
      "execution_count": 2,
      "outputs": []
    },
    {
      "cell_type": "code",
      "metadata": {
        "id": "47ACBykHmtxg",
        "colab_type": "code",
        "colab": {
          "base_uri": "https://localhost:8080/",
          "height": 69
        },
        "outputId": "a56242e4-0664-42b3-8c98-2f59e7d44fb2"
      },
      "source": [
        "dna = 'ATCCGAATACGGTTCGGGTA'\n",
        "mutate(dna, 'CGAA')"
      ],
      "execution_count": null,
      "outputs": [
        {
          "output_type": "stream",
          "text": [
            "CGAA found in sequence\n",
            "TTCG Reverse complement found in sequence\n",
            "ATCGGTA\n"
          ],
          "name": "stdout"
        }
      ]
    },
    {
      "cell_type": "code",
      "metadata": {
        "id": "dgCjn1Z5Enw0",
        "colab_type": "code",
        "colab": {
          "base_uri": "https://localhost:8080/",
          "height": 69
        },
        "outputId": "766962b0-a838-4d4f-8575-81a604fe4ed1"
      },
      "source": [
        "dna2 = 'ATCCGAATACGGTTGGGTA'\n",
        "mutate(dna2, 'CGAA')"
      ],
      "execution_count": null,
      "outputs": [
        {
          "output_type": "stream",
          "text": [
            "CGAA found in sequence\n",
            "ATCCGAATACGGTTGGGTA\n",
            "TACCCAACCGTATTCGGAT Reverse complement not found in sequence None\n"
          ],
          "name": "stdout"
        }
      ]
    },
    {
      "cell_type": "code",
      "metadata": {
        "id": "hIQeRweBFUHP",
        "colab_type": "code",
        "colab": {
          "base_uri": "https://localhost:8080/",
          "height": 69
        },
        "outputId": "b75e4dd5-fc5c-4aa6-d5e2-a16a865401af"
      },
      "source": [
        "dna3 = 'ATCCAATACGGTTCGGGTA'\n",
        "mutate(dna3, 'CGAA')"
      ],
      "execution_count": null,
      "outputs": [
        {
          "output_type": "stream",
          "text": [
            "ATCCAATACGGTTCGGGTA CGAA motif not found\n",
            "TTCG Reverse complement found in sequence\n",
            "ATCCAATACGGTTCGGGTGGTA\n"
          ],
          "name": "stdout"
        }
      ]
    },
    {
      "cell_type": "code",
      "metadata": {
        "id": "JU_KcDaOGQIF",
        "colab_type": "code",
        "colab": {
          "base_uri": "https://localhost:8080/",
          "height": 69
        },
        "outputId": "52a47a9a-9cb5-4ab0-8823-2c5669014a05"
      },
      "source": [
        "dna4 = 'ATCCGAATACGGTTCGGGTTCGA'\n",
        "mutate(dna4, 'CGAA')"
      ],
      "execution_count": null,
      "outputs": [
        {
          "output_type": "stream",
          "text": [
            "CGAA found in sequence\n",
            "TTCG Reverse complement found in sequence\n",
            "ATCGGTTCGA\n"
          ],
          "name": "stdout"
        }
      ]
    },
    {
      "cell_type": "code",
      "metadata": {
        "id": "qj9KVHCQH6lN",
        "colab_type": "code",
        "colab": {
          "base_uri": "https://localhost:8080/",
          "height": 69
        },
        "outputId": "c67f7621-e337-418f-980b-0bcb68ed39c4"
      },
      "source": [
        "dna5 = 'AGTCACATGATCAGT'\n",
        "mutate(dna5, 'C')"
      ],
      "execution_count": null,
      "outputs": [
        {
          "output_type": "stream",
          "text": [
            "C found in sequence\n",
            "G Reverse complement found in sequence\n",
            "AGTTCACATGATCAGT\n"
          ],
          "name": "stdout"
        }
      ]
    },
    {
      "cell_type": "code",
      "metadata": {
        "id": "jOMfYNEgIXgk",
        "colab_type": "code",
        "colab": {}
      },
      "source": [
        "test_data = \"\"\"ATCCGAATACGGTTCGGGTA CGAA\n",
        "ATCCGAATACGGTTGGGTA CGAA\n",
        "ATCCAATACGGTTCGGGTA CGAA\n",
        "ATCCGAATACGGTTCGGGTTCGA\tCGAA\n",
        "AGTCACATGATCAGT\tC\n",
        "AGTCGCGAAAGTCGTCGAATTCG CGAA\n",
        "CCCCCGCGACGTTTCG C\n",
        "TTCGCGATGACGAA CGAA\n",
        "TTCGCGCGAATTCG CGAA\n",
        "GCATTCGACTG C\n",
        "\"\"\""
      ],
      "execution_count": 13,
      "outputs": []
    },
    {
      "cell_type": "code",
      "metadata": {
        "id": "VGRKBAUNIdGu",
        "colab_type": "code",
        "colab": {
          "base_uri": "https://localhost:8080/",
          "height": 1000
        },
        "outputId": "cb5711dd-054f-430a-cc9b-1db704f1e6d6"
      },
      "source": [
        "for dna,motif in [line.split() for line in test_data.split('\\n')[0:]]:\n",
        "    print('Executing mutate(%s,%s)...' % (dna,motif))\n",
        "    print('  returned: %s' % (mutate(dna,motif)))"
      ],
      "execution_count": 15,
      "outputs": [
        {
          "output_type": "stream",
          "text": [
            "Executing mutate(ATCCGAATACGGTTCGGGTA,CGAA)...\n",
            "CGAA found in sequence\n",
            "TTCG Reverse complement found in sequence\n",
            "ATCGGTA\n",
            "  returned: None\n",
            "Executing mutate(ATCCGAATACGGTTGGGTA,CGAA)...\n",
            "CGAA found in sequence\n",
            "ATCCGAATACGGTTGGGTA\n",
            "TACCCAACCGTATTCGGAT Reverse complement not found in sequence None\n",
            "  returned: None\n",
            "Executing mutate(ATCCAATACGGTTCGGGTA,CGAA)...\n",
            "ATCCAATACGGTTCGGGTA CGAA motif not found\n",
            "TTCG Reverse complement found in sequence\n",
            "ATCCAATACGGTTCGGGTGGTA\n",
            "  returned: None\n",
            "Executing mutate(ATCCGAATACGGTTCGGGTTCGA,CGAA)...\n",
            "CGAA found in sequence\n",
            "TTCG Reverse complement found in sequence\n",
            "ATCGGTTCGA\n",
            "  returned: None\n",
            "Executing mutate(AGTCACATGATCAGT,C)...\n",
            "C found in sequence\n",
            "G Reverse complement found in sequence\n",
            "AGTTCACATGATCAGT\n",
            "  returned: None\n",
            "Executing mutate(AGTCGCGAAAGTCGTCGAATTCG,CGAA)...\n",
            "CGAA found in sequence\n",
            "TTCG Reverse complement found in sequence\n",
            "AGTCG\n",
            "  returned: None\n",
            "Executing mutate(CCCCCGCGACGTTTCG,C)...\n",
            "C found in sequence\n",
            "G Reverse complement found in sequence\n",
            "CGACGTTTCG\n",
            "  returned: None\n",
            "Executing mutate(TTCGCGATGACGAA,CGAA)...\n",
            "CGAA found in sequence\n",
            "TTCG Reverse complement found in sequence\n",
            "TTCGCGATGACGATGACGAA\n",
            "  returned: None\n",
            "Executing mutate(TTCGCGCGAATTCG,CGAA)...\n",
            "CGAA found in sequence\n",
            "TTCG Reverse complement found in sequence\n",
            "TTCGCGCGCGAATTCG\n",
            "  returned: None\n",
            "Executing mutate(GCATTCGACTG,C)...\n",
            "C found in sequence\n",
            "G Reverse complement found in sequence\n",
            "GCATTCGACTG\n",
            "  returned: None\n"
          ],
          "name": "stdout"
        },
        {
          "output_type": "error",
          "ename": "ValueError",
          "evalue": "ignored",
          "traceback": [
            "\u001b[0;31m---------------------------------------------------------------------------\u001b[0m",
            "\u001b[0;31mValueError\u001b[0m                                Traceback (most recent call last)",
            "\u001b[0;32m<ipython-input-15-0359d5061990>\u001b[0m in \u001b[0;36m<module>\u001b[0;34m()\u001b[0m\n\u001b[0;32m----> 1\u001b[0;31m \u001b[0;32mfor\u001b[0m \u001b[0mdna\u001b[0m\u001b[0;34m,\u001b[0m\u001b[0mmotif\u001b[0m \u001b[0;32min\u001b[0m \u001b[0;34m[\u001b[0m\u001b[0mline\u001b[0m\u001b[0;34m.\u001b[0m\u001b[0msplit\u001b[0m\u001b[0;34m(\u001b[0m\u001b[0;34m)\u001b[0m \u001b[0;32mfor\u001b[0m \u001b[0mline\u001b[0m \u001b[0;32min\u001b[0m \u001b[0mtest_data\u001b[0m\u001b[0;34m.\u001b[0m\u001b[0msplit\u001b[0m\u001b[0;34m(\u001b[0m\u001b[0;34m'\\n'\u001b[0m\u001b[0;34m)\u001b[0m\u001b[0;34m[\u001b[0m\u001b[0;36m0\u001b[0m\u001b[0;34m:\u001b[0m\u001b[0;34m]\u001b[0m\u001b[0;34m]\u001b[0m\u001b[0;34m:\u001b[0m\u001b[0;34m\u001b[0m\u001b[0;34m\u001b[0m\u001b[0m\n\u001b[0m\u001b[1;32m      2\u001b[0m     \u001b[0mprint\u001b[0m\u001b[0;34m(\u001b[0m\u001b[0;34m'Executing mutate(%s,%s)...'\u001b[0m \u001b[0;34m%\u001b[0m \u001b[0;34m(\u001b[0m\u001b[0mdna\u001b[0m\u001b[0;34m,\u001b[0m\u001b[0mmotif\u001b[0m\u001b[0;34m)\u001b[0m\u001b[0;34m)\u001b[0m\u001b[0;34m\u001b[0m\u001b[0;34m\u001b[0m\u001b[0m\n\u001b[1;32m      3\u001b[0m     \u001b[0mprint\u001b[0m\u001b[0;34m(\u001b[0m\u001b[0;34m'  returned: %s'\u001b[0m \u001b[0;34m%\u001b[0m \u001b[0;34m(\u001b[0m\u001b[0mmutate\u001b[0m\u001b[0;34m(\u001b[0m\u001b[0mdna\u001b[0m\u001b[0;34m,\u001b[0m\u001b[0mmotif\u001b[0m\u001b[0;34m)\u001b[0m\u001b[0;34m)\u001b[0m\u001b[0;34m)\u001b[0m\u001b[0;34m\u001b[0m\u001b[0;34m\u001b[0m\u001b[0m\n",
            "\u001b[0;31mValueError\u001b[0m: not enough values to unpack (expected 2, got 0)"
          ]
        }
      ]
    }
  ]
}