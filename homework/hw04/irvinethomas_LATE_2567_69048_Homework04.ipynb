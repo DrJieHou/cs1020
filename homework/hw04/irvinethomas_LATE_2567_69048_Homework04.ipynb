{
  "nbformat": 4,
  "nbformat_minor": 0,
  "metadata": {
    "colab": {
      "name": "Homework04.ipynb",
      "provenance": []
    },
    "kernelspec": {
      "name": "python3",
      "display_name": "Python 3"
    }
  },
  "cells": [
    {
      "cell_type": "code",
      "metadata": {
        "id": "yczcWHggH9WU",
        "outputId": "460bfac1-57e8-4945-b0d1-3e51baddf3df",
        "colab": {
          "base_uri": "https://localhost:8080/",
          "height": 312
        }
      },
      "source": [
        "def buildTable(X, Y, match=1, mismatch=-1, gap=-1):\n",
        "    print(\"Sequence 1:\", X)\n",
        "    print(\"Sequence 2:\", Y)\n",
        "    # create table of zeros with dimension (1+|X|)-by-(1+|Y|)\n",
        "    # X: vertical,  Y:horizontal\n",
        "    opt = []\n",
        "    \n",
        "    #### Question (1) How to initialize the alignment table?   Please write your codes here!\n",
        "    for i in range(0,len(X)+1):\n",
        "      row_data = []\n",
        "      for j in range(0,len(Y)+1):\n",
        "        row_data.append(0)\n",
        "      opt.append(row_data)\n",
        "\n",
        "    \n",
        "    \n",
        "    \n",
        "    ####  Print out the initial table\n",
        "    print(\"The intial alignment table is:\")\n",
        "    for row in opt:\n",
        "          print(' '.join('%3d' % val for val in row))\n",
        "\n",
        "    #### Question (2) How to initialize the first row and first column?   Please write your codes here!\n",
        "    for i in range(1,len(Y)+1):\n",
        "      opt[0][i] = opt[0][i-1] + gap\n",
        "\n",
        "    for i in range(1,len(X)+1):\n",
        "      opt[i][0] = opt[i-1][0] + gap\n",
        "    print(\"First row: \", opt[0])\n",
        "\n",
        "\n",
        "\n",
        "\n",
        "    \n",
        "    \n",
        "    \n",
        "    \n",
        "    #### Question (3) How to calculate the score in each cell for each possible alignment?   Please write your codes here!\n",
        "    for row in range(1,len(X)+1):\n",
        "      for col in range(1,len(Y)+1):\n",
        "        #opt[row][col]\n",
        "\n",
        "        #diagonal\n",
        "        if X[row-1] == Y[col-1]:\n",
        "          score1 = opt[row-1][col-1] + match \n",
        "        else:\n",
        "          score1 = opt[row-1][col-1] + mismatch\n",
        "        #top to bot\n",
        "        score2 = opt[row-1][col] + gap\n",
        "        #left to rightt\n",
        "        score3 = opt[row][col-1] + gap\n",
        "\n",
        "        score = max(score1, score2, score3)\n",
        "\n",
        "        opt[row][col] = score\n",
        "\n",
        "\n",
        "    \n",
        "    \n",
        "    \n",
        "    \n",
        "    #### Print the final table \n",
        "    print(\"The final alignment table is:\")\n",
        "    for row in opt:\n",
        "      print(' '.join('%3d' % val for val in row))\n",
        "    return opt\n",
        "#Question 4\n",
        "#What are the two sequences you use in this question?\n",
        "  # TTGCT and CTTCCT\n",
        "#What's the score for the match, mismatch, and gap?\n",
        "  # 1 for match, -1 for mismatch, and -1 for gap\n",
        "#What's the final alignment table?\n",
        "  0  -1  -2  -3  -4  -5  -6\n",
        " -1  -1   0  -1  -2  -3  -4\n",
        " -2  -2   0   1   0  -1  -2\n",
        " -3  -1  -1   0   2   1   0\n",
        " -4  -2  -2  -1   1   1   0\n",
        " -5  -3  -1  -1   0   0   2\n",
        "#What's the optimal alignment from the table?\n",
        "  # -TTCGT\n",
        "  #  |||.|\n",
        "  # CTTCCT\n",
        "#What's the score for the optimal alignment?\n",
        "  # 2"
      ],
      "execution_count": 15,
      "outputs": [
        {
          "output_type": "stream",
          "text": [
            "Sequence 1: TTCGT\n",
            "Sequence 2: CTTCCT\n",
            "The intial alignment table is:\n",
            "  0   0   0   0   0   0   0\n",
            "  0   0   0   0   0   0   0\n",
            "  0   0   0   0   0   0   0\n",
            "  0   0   0   0   0   0   0\n",
            "  0   0   0   0   0   0   0\n",
            "  0   0   0   0   0   0   0\n",
            "First row:  [0, -1, -2, -3, -4, -5, -6]\n",
            "The final alignment table is:\n",
            "  0  -1  -2  -3  -4  -5  -6\n",
            " -1  -1   0  -1  -2  -3  -4\n",
            " -2  -2   0   1   0  -1  -2\n",
            " -3  -1  -1   0   2   1   0\n",
            " -4  -2  -2  -1   1   1   0\n",
            " -5  -3  -1  -1   0   0   2\n"
          ],
          "name": "stdout"
        }
      ]
    },
    {
      "cell_type": "code",
      "metadata": {
        "id": "6QGQXX6PN295"
      },
      "source": [
        "def TraceBack(X, Y, table, match=1, mismatch=-1, gap=-1):\n",
        "    first = ''        # alignment for X\n",
        "    second = ''       # alignment for Y\n",
        "    glue = ''         # line showing matches/mismatches\n",
        "\n",
        "    # start reconstruction at bottom-right of table\n",
        "    j = len(X)\n",
        "    k = len(Y)\n",
        "    \n",
        "    while j>0 or k>0:\n",
        "        \n",
        "        #### Question (5) What does the following 'if block' try to do? Please describe the codes using your words!\n",
        "        ##\n",
        "        ##   Write your answer here:\n",
        "        ## if a gap occurs on  the x sequence, add a - to the bottom string to be printed out at the end, and blank for glue\n",
        "        ###########################################################################################################\n",
        "        if j > 0 and table[j][k] == table[j-1][k] + gap:\n",
        "            # option1 above; match X[j-1] with a gap in Y\n",
        "            first  = X[j-1] + first\n",
        "            second = '-' + second\n",
        "            glue   = ' ' + glue\n",
        "            j = j-1\n",
        "        \n",
        "        #### Question (6) What does the following 'elif block' try to do? Please describe the codes using your words!\n",
        "        ##\n",
        "        ##   Write your answer here:\n",
        "        ## if a gap occurs on the Y sequence, add a - to the top string to be printed out at the end, and blank for glue\n",
        "        ###########################################################################################################\n",
        "        \n",
        "        elif k > 0 and table[j][k] == table[j][k-1] + gap:\n",
        "            # option2 above; match gap in X with Y[k-1]\n",
        "            first  = '-'  + first\n",
        "            second = Y[k-1] + second\n",
        "            glue   = ' '  + glue\n",
        "            k = k-1\n",
        "        \n",
        "        #### Question (7) What does the following 'elif block' try to do? Please describe the codes using your words!\n",
        "        ##\n",
        "        ##   Write your answer here:\n",
        "        ## add the corresponding letter to the bottom and top sequences, and if there is a match give it the line connecting on the middle string or glue, if it is a mismatch give it a . for the middle string or glue\n",
        "        ###########################################################################################################\n",
        "        \n",
        "        elif j>0 and k>0:\n",
        "            # option1 above; match X[j-1] with Y[k-1]\n",
        "            first =  X[j-1] + first\n",
        "            second = Y[k-1] + second\n",
        "            if X[j-1] == Y[k-1] and table[j][k] == table[j-1][k-1] + match:\n",
        "              glue = '|' + glue   # designate match\n",
        "            elif X[j-1] != Y[k-1] and table[j][k] == table[j-1][k-1] + mismatch:\n",
        "                glue = '.' + glue   # designate mismatch\n",
        "            j = j-1\n",
        "            k = k-1\n",
        "    print(\"The best alignment is:\")\n",
        "    print(first)\n",
        "    print(glue)\n",
        "    print(second)\n",
        "    return first,glue,second"
      ],
      "execution_count": 19,
      "outputs": []
    },
    {
      "cell_type": "code",
      "metadata": {
        "id": "UW6Ws7ujOHlE",
        "outputId": "14887539-86e1-454e-d6e4-47d6f74b62d2",
        "colab": {
          "base_uri": "https://localhost:8080/",
          "height": 399
        }
      },
      "source": [
        "table = buildTable(\"TTCGT\", \"CTTCCT\", match=1, mismatch=-1, gap=-1)\n",
        "TraceBack(\"TTCGT\", \"CTTCCT\", table, match=1, mismatch=-1, gap=-1)\n",
        "#"
      ],
      "execution_count": 20,
      "outputs": [
        {
          "output_type": "stream",
          "text": [
            "Sequence 1: TTCGT\n",
            "Sequence 2: CTTCCT\n",
            "The intial alignment table is:\n",
            "  0   0   0   0   0   0   0\n",
            "  0   0   0   0   0   0   0\n",
            "  0   0   0   0   0   0   0\n",
            "  0   0   0   0   0   0   0\n",
            "  0   0   0   0   0   0   0\n",
            "  0   0   0   0   0   0   0\n",
            "First row:  [0, -1, -2, -3, -4, -5, -6]\n",
            "The final alignment table is:\n",
            "  0  -1  -2  -3  -4  -5  -6\n",
            " -1  -1   0  -1  -2  -3  -4\n",
            " -2  -2   0   1   0  -1  -2\n",
            " -3  -1  -1   0   2   1   0\n",
            " -4  -2  -2  -1   1   1   0\n",
            " -5  -3  -1  -1   0   0   2\n",
            "The best alignment is:\n",
            "-TTCGT\n",
            " |||.|\n",
            "CTTCCT\n"
          ],
          "name": "stdout"
        },
        {
          "output_type": "execute_result",
          "data": {
            "text/plain": [
              "('-TTCGT', ' |||.|', 'CTTCCT')"
            ]
          },
          "metadata": {
            "tags": []
          },
          "execution_count": 20
        }
      ]
    }
  ]
}