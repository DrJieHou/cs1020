{
  "nbformat": 4,
  "nbformat_minor": 0,
  "metadata": {
    "colab": {
      "name": "Homework04.ipynb",
      "provenance": []
    },
    "kernelspec": {
      "name": "python3",
      "display_name": "Python 3"
    }
  },
  "cells": [
    {
      "cell_type": "code",
      "metadata": {
        "id": "qAH6SiRiBUEu"
      },
      "source": [
        "def buildTable(X, Y, match=1, mismatch=-1, gap=-1):\n",
        "    print(\"Sequence 1:\", X)\n",
        "    print(\"Sequence 2:\", Y)\n",
        "    # create table of zeros with dimension (1+|X|)-by-(1+|Y|)\n",
        "    # X: vertical,  Y:horizontal\n",
        "    opt = []\n",
        "    \n",
        "    #### Question (1) How to initialize the alignment table?   Please write your codes here!\n",
        " \n",
        "    for i in range(0,len(X)+1):\n",
        "      row_data = []\n",
        "      for j in range(0,len(Y)+1):\n",
        "        row_data.append(0)\n",
        "      opt.append(row_data)\n",
        "    \n",
        "    ####  Print out the initial table\n",
        "    print(\"The intial alignment table is:\")\n",
        "    for row in opt:\n",
        "          print(' '.join('%3d' % val for val in row))\n",
        "\n",
        "    #### Question (2) How to initialize the first row and first column?   Please write your codes here!\n",
        "    #print(\"First row: \", opt[0])\n",
        "    for i in range(1, len(Y)+1):\n",
        "      opt[0][i] = opt[0][i-1] + gap\n",
        "    #print(\"First updated row: \", opt[0])\n",
        "\n",
        "\n",
        "    for i in range(1,len(X)+1):\n",
        "      opt[i][0] = opt[i-1][0] + gap    \n",
        "    \n",
        "    #### Question (3) How to calculate the score in each cell for each possible alignment?   Please write your codes here!\n",
        "    for row in range(1,len(X)+1):\n",
        "      for col in range(1, len(Y)+1):\n",
        "        #opt[row][col]\n",
        "\n",
        "        #option 1: go diagonal, add match/mismatch\n",
        "        if X[row-1] == Y[col-1]:\n",
        "         score1 = opt[row-1][col-1] + match\n",
        "        else:\n",
        "          score1 = opt[row-1][col-1] + mismatch\n",
        "\n",
        "        #option 2: top to bottom, add gap\n",
        "        score2 = opt[row-1][col] + gap\n",
        "    \n",
        "        #option 3: left to right, add gap\n",
        "        score3 = opt[row][col-1] + gap\n",
        "\n",
        "        score = max([score1, score2, score3])\n",
        "\n",
        "        opt[row][col] = score\n",
        "    \n",
        "    print(\"Score of best alignment is: \", opt[len(X)][len(Y)])\n",
        "    #### Print the final table \n",
        "    print(\"The final alignment table is:\")\n",
        "    for row in opt:\n",
        "      print(' '.join('%3d' % val for val in row))\n",
        "    return opt"
      ],
      "execution_count": 33,
      "outputs": []
    },
    {
      "cell_type": "code",
      "metadata": {
        "id": "qoaE_L8ULquA",
        "outputId": "0fd093a7-5b68-4630-f600-58d5ecf212bc",
        "colab": {
          "base_uri": "https://localhost:8080/",
          "height": 306
        }
      },
      "source": [
        "table = buildTable('TTGCT', 'CTTCCT', gap=-1)"
      ],
      "execution_count": 34,
      "outputs": [
        {
          "output_type": "stream",
          "text": [
            "Sequence 1: TTGCT\n",
            "Sequence 2: CTTCCT\n",
            "The intial alignment table is:\n",
            "  0   0   0   0   0   0   0\n",
            "  0   0   0   0   0   0   0\n",
            "  0   0   0   0   0   0   0\n",
            "  0   0   0   0   0   0   0\n",
            "  0   0   0   0   0   0   0\n",
            "  0   0   0   0   0   0   0\n",
            "Score of best alignment is:  2\n",
            "The final alignment table is:\n",
            "  0  -1  -2  -3  -4  -5  -6\n",
            " -1  -1   0  -1  -2  -3  -4\n",
            " -2  -2   0   1   0  -1  -2\n",
            " -3  -3  -1   0   0  -1  -2\n",
            " -4  -2  -2  -1   1   1   0\n",
            " -5  -3  -1  -1   0   0   2\n"
          ],
          "name": "stdout"
        }
      ]
    },
    {
      "cell_type": "code",
      "metadata": {
        "id": "7qjbjOKVLyc-",
        "outputId": "5b9e56ea-0fdb-4365-f3d7-1a7b4993940c",
        "colab": {
          "base_uri": "https://localhost:8080/",
          "height": 74
        }
      },
      "source": [
        "print(table)"
      ],
      "execution_count": 35,
      "outputs": [
        {
          "output_type": "stream",
          "text": [
            "[[0, -1, -2, -3, -4, -5, -6], [-1, -1, 0, -1, -2, -3, -4], [-2, -2, 0, 1, 0, -1, -2], [-3, -3, -1, 0, 0, -1, -2], [-4, -2, -2, -1, 1, 1, 0], [-5, -3, -1, -1, 0, 0, 2]]\n"
          ],
          "name": "stdout"
        }
      ]
    },
    {
      "cell_type": "code",
      "metadata": {
        "id": "E9xxGWTlrsob"
      },
      "source": [
        "# Q4: Testing the python program using example sequences (sequence 1: TTGCT, sequence 2: CTTCCT) to answer the following questions.\n",
        "# What are the two sequences you use in this question?\n",
        "  TTGCT\n",
        "  CTTCCT\n",
        "# What's the score for the match, mismatch, and gap?\n",
        "  match = +1, mismatch = -1, gap = -1\n",
        "# What's the final alignment table?\n",
        "  The final alignment table is:\n",
        "  0  -1  -2  -3  -4  -5  -6\n",
        " -1  -1   0  -1  -2  -3  -4\n",
        " -2  -2   0   1   0  -1  -2\n",
        " -3  -3  -1   0   0  -1  -2\n",
        " -4  -2  -2  -1   1   1   0\n",
        " -5  -3  -1  -1   0   0   2\n",
        "# What's the optimal alignment from the table?\n",
        "  -TTGCT\n",
        "   ||.||\n",
        "  CTTCCT\n",
        "# What's the score for the optimal alignment?\n",
        "  2"
      ],
      "execution_count": null,
      "outputs": []
    },
    {
      "cell_type": "code",
      "metadata": {
        "id": "00zs8_Y-vph5"
      },
      "source": [
        "def TraceBack(X, Y, table, match=1, mismatch=-1, gap=-1):\n",
        "    first = ''        # alignment for X\n",
        "    second = ''       # alignment for Y\n",
        "    glue = ''         # line showing matches/mismatches\n",
        "\n",
        "    # start reconstruction at bottom-right of table\n",
        "    j = len(X)\n",
        "    k = len(Y)\n",
        "    \n",
        "    while j>0 or k>0:\n",
        "        \n",
        "        #### Question (5) What does the following 'if block' try to do? Please describe the codes using your words!\n",
        "        ##\n",
        "        ##   Write your answer here: The following 'if block' is trying to test whether the number you are looking at is equal to the number on top of it + gap where j > 0.\n",
        "        ##\n",
        "        ###########################################################################################################\n",
        "        if j > 0 and table[j][k] == table[j-1][k] + gap:\n",
        "            # option1 above; match X[j-1] with a gap in Y\n",
        "            first  = X[j-1] + first\n",
        "            second = '-' + second\n",
        "            glue   = ' ' + glue\n",
        "            j = j-1\n",
        "        \n",
        "        #### Question (6) What does the following 'elif block' try to do? Please describe the codes using your words!\n",
        "        ##\n",
        "        ##   Write your answer here: The following 'elif block' is trying to test whether the number you are looking at is equal to the number to the left of it + gap where k > 0.\n",
        "        ##\n",
        "        ###########################################################################################################\n",
        "        \n",
        "        elif k > 0 and table[j][k] == table[j][k-1] + gap:\n",
        "            # option2 above; match gap in X with Y[k-1]\n",
        "            first  = '-'  + first\n",
        "            second = Y[k-1] + second\n",
        "            glue   = ' '  + glue\n",
        "            k = k-1\n",
        "        \n",
        "        #### Question (7) What does the following 'elif block' try to do? Please describe the codes using your words!\n",
        "        ##\n",
        "        ##   Write your answer here: The following 'elif block' is trying to test the best alignment from the table. It is designating a match between the two sequences with '|' if the letter from the row matches with the letter from the column at the point where they intersect. It is designating a mismatch between the two sequences with '.' if the letter from the row does not match the letter from the column at the point where they intersect.\n",
        "        ##\n",
        "        ###########################################################################################################\n",
        "        \n",
        "        elif j>0 and k>0:\n",
        "            # option1 above; match X[j-1] with Y[k-1]\n",
        "            first =  X[j-1] + first\n",
        "            second = Y[k-1] + second\n",
        "            if X[j-1] == Y[k-1] and table[j][k] == table[j-1][k-1] + match:\n",
        "              glue = '|' + glue   # designate match\n",
        "            elif X[j-1] != Y[k-1] and table[j][k] == table[j-1][k-1] + mismatch:\n",
        "                glue = '.' + glue   # designate mismatch\n",
        "            j = j-1\n",
        "            k = k-1\n",
        "    print(\"The best alignment is:\")\n",
        "    print(first)\n",
        "    print(glue)\n",
        "    print(second)\n",
        "    return first,glue,second"
      ],
      "execution_count": 36,
      "outputs": []
    },
    {
      "cell_type": "code",
      "metadata": {
        "id": "-MEI2puONEw8",
        "outputId": "4aa01ed3-6bf8-430f-bf9a-a839bec08416",
        "colab": {
          "base_uri": "https://localhost:8080/",
          "height": 391
        }
      },
      "source": [
        "table = buildTable('TTGCT', 'CTTCCT', match=1, mismatch=-1, gap=-1)\n",
        "TraceBack('TTGCT', 'CTTCCT', table, match=1, mismatch=-1, gap=-1)"
      ],
      "execution_count": 37,
      "outputs": [
        {
          "output_type": "stream",
          "text": [
            "Sequence 1: TTGCT\n",
            "Sequence 2: CTTCCT\n",
            "The intial alignment table is:\n",
            "  0   0   0   0   0   0   0\n",
            "  0   0   0   0   0   0   0\n",
            "  0   0   0   0   0   0   0\n",
            "  0   0   0   0   0   0   0\n",
            "  0   0   0   0   0   0   0\n",
            "  0   0   0   0   0   0   0\n",
            "Score of best alignment is:  2\n",
            "The final alignment table is:\n",
            "  0  -1  -2  -3  -4  -5  -6\n",
            " -1  -1   0  -1  -2  -3  -4\n",
            " -2  -2   0   1   0  -1  -2\n",
            " -3  -3  -1   0   0  -1  -2\n",
            " -4  -2  -2  -1   1   1   0\n",
            " -5  -3  -1  -1   0   0   2\n",
            "The best alignment is:\n",
            "-TTGCT\n",
            " ||.||\n",
            "CTTCCT\n"
          ],
          "name": "stdout"
        },
        {
          "output_type": "execute_result",
          "data": {
            "text/plain": [
              "('-TTGCT', ' ||.||', 'CTTCCT')"
            ]
          },
          "metadata": {
            "tags": []
          },
          "execution_count": 37
        }
      ]
    }
  ]
}