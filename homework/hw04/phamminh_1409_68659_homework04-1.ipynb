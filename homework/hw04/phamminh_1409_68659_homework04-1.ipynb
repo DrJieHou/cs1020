{
  "nbformat": 4,
  "nbformat_minor": 0,
  "metadata": {
    "colab": {
      "name": "homework04.ipynb",
      "provenance": []
    },
    "kernelspec": {
      "name": "python3",
      "display_name": "Python 3"
    }
  },
  "cells": [
    {
      "cell_type": "code",
      "metadata": {
        "id": "GF0fP5_hJ_px"
      },
      "source": [
        "# Given info for Q1-3\n",
        "############################################################################\n",
        "# hw04: Implementation of the Needleman-Wunsch Global Pairwise Alignment algorithm\n",
        "############################################################################\n",
        "\n",
        "def buildTable(X, Y, match=1, mismatch=-1, gap=-1):\n",
        "  print(\"Sequence 1:\", X)\n",
        "  print(\"Sequence 2:\", Y)\n",
        "    # create table of zeros with dimension (1+|X|)-by-(1+|Y|)\n",
        "    # X: vertical,  Y:horizontal\n",
        "  opt = []\n",
        "    \n",
        "    #### Question (1) How to initialize the alignment table?   Please write your codes here!\n",
        "    \n",
        " \n",
        "  for i in range(0,len(X)+1):\n",
        "    row = []\n",
        "    for a in range(0,len(Y)+1):\n",
        "      row.append(0)\n",
        "    opt.append(row)\n",
        "    \n",
        "    ####  Print out the initial table\n",
        "  print(\"The intial alignment table is:\")\n",
        "  for row in opt:\n",
        "    print(' '.join('%3d' % val for val in row))\n",
        "\n",
        "    #### Question (2) How to initialize the first row and first column?   Please write your codes here!\n",
        "    \n",
        "    \n",
        "  for row_id in range(1,len(X)+1):\n",
        "    opt[row_id][0] = opt[row_id-1][0] -1\n",
        "  \n",
        "  for col_id in range(1,len(Y)+1):\n",
        "    opt[0][col_id] = opt[0][col_id-1] -1  \n",
        "    \n",
        "    \n",
        "    #### Question (3) How to calculate the score in each cell for each possible alignment?   Please write your codes here!\n",
        "  \n",
        "  for row in range(1,len(X)+1):\n",
        "    for id in range (1,len(Y)+1):\n",
        "      top = opt[row-1][id] + gap\n",
        "      left = opt[row][id-1] + gap\n",
        "      diag = opt[row-1][id-1]\n",
        "      if X[row-1] == Y[id-1]:\n",
        "        diag += match\n",
        "      else:\n",
        "        diag += mismatch\n",
        "      max_score=max([top,left,diag])\n",
        "      opt[row][id]= max_score    \n",
        "\n",
        "    \n",
        "    #### Print the final table \n",
        "  print(\"The final alignment table is:\")\n",
        "  for row in opt:\n",
        "    print(' '.join('%3d' % val for val in row))\n",
        "  return opt\n",
        " \n",
        "# There was: return opt here , I think we can remove it! since the printout look odd. However it is necessary for the Traceback function"
      ],
      "execution_count": 3,
      "outputs": []
    },
    {
      "cell_type": "code",
      "metadata": {
        "id": "pKlQNBuNOIAg",
        "outputId": "7566878e-bbbf-48af-9f80-e8602f96e489",
        "colab": {
          "base_uri": "https://localhost:8080/",
          "height": 289
        }
      },
      "source": [
        "t= buildTable('TTGCT','CTTCCT', match=1, mismatch=-1, gap=-1)"
      ],
      "execution_count": 4,
      "outputs": [
        {
          "output_type": "stream",
          "text": [
            "Sequence 1: TTGCT\n",
            "Sequence 2: CTTCCT\n",
            "The intial alignment table is:\n",
            "  0   0   0   0   0   0   0\n",
            "  0   0   0   0   0   0   0\n",
            "  0   0   0   0   0   0   0\n",
            "  0   0   0   0   0   0   0\n",
            "  0   0   0   0   0   0   0\n",
            "  0   0   0   0   0   0   0\n",
            "The final alignment table is:\n",
            "  0  -1  -2  -3  -4  -5  -6\n",
            " -1  -1   0  -1  -2  -3  -4\n",
            " -2  -2   0   1   0  -1  -2\n",
            " -3  -3  -1   0   0  -1  -2\n",
            " -4  -2  -2  -1   1   1   0\n",
            " -5  -3  -1  -1   0   0   2\n"
          ],
          "name": "stdout"
        }
      ]
    },
    {
      "cell_type": "code",
      "metadata": {
        "id": "eTpa6JyDvPV9",
        "outputId": "89ac4127-4f4f-4515-b653-e469c1335552",
        "colab": {
          "base_uri": "https://localhost:8080/",
          "height": 54
        }
      },
      "source": [
        "print(t)\n",
        "# Question 4 will be shown later "
      ],
      "execution_count": null,
      "outputs": [
        {
          "output_type": "stream",
          "text": [
            "[[0, -1, -2, -3, -4, -5, -6], [-1, -1, 0, -1, -2, -3, -4], [-2, -2, 0, 1, 0, -1, -2], [-3, -3, -1, 0, 0, -1, -2], [-4, -2, -2, -1, 1, 1, 0], [-5, -3, -1, -1, 0, 0, 2]]\n"
          ],
          "name": "stdout"
        }
      ]
    },
    {
      "cell_type": "code",
      "metadata": {
        "id": "_njynzFtL4mV"
      },
      "source": [
        "# Given info for Q5-7\n",
        "def TraceBack(X, Y, table, match=1, mismatch=-1, gap=-1):\n",
        "    first = ''        # alignment for X\n",
        "    second = ''       # alignment for Y\n",
        "    glue = ''         # line showing matches/mismatches\n",
        "\n",
        "    # start reconstruction at bottom-right of table\n",
        "    j = len(X)\n",
        "    k = len(Y)\n",
        "    \n",
        "    while j>0 or k>0:\n",
        "        \n",
        "        #### Question (5) What does the following 'if block' try to do? Please describe the codes using your words!\n",
        "        ##\n",
        "        ##   Write your answer here:\n",
        "        ##\n",
        "        ##    If the length of sequence 1 (sequence X) is greater than 0 and the the bottom-right cell or the current cell\n",
        "        ##    at postion ([j][k]) is equal to the sum of the cell top of it ([j-1][k]) with the gap value then:\n",
        "        ##\n",
        "        ##    The value \"first\" will be having a letter of the sequence of sequence 1 (sequence X) starting from the \n",
        "        ##    last (left-most) letter of sequence then slowly moving to the right letter of that left-most letter(after \n",
        "        ##    each after the condition of the if block is satisfied) in addition to what had been built in the \"first\".\n",
        "        ##\n",
        "        ##    The value \"second\" will be having '-' as its letter in addition to what had been built in \"second\".\n",
        "        ##\n",
        "        ##    Likewise, the \"glue\" will be having '-' as its letter in addition to what had been built in \"glue\". \n",
        "        ##\n",
        "        ##    The j value wil decrease by 1 after the if block's condition is satisfied, which move the current row upward.\n",
        "        ##\n",
        "        ##    This repeats until j = 0 ( techincally, it will be j or k = 0 since there is also the while block above).\n",
        "        ##\n",
        "        ##    This if block allows for the Traceback functions to move up a row from the bottom-right cell or the current cell\n",
        "        ##    only when the condition is satisfied. \n",
        "        ###########################################################################################################\n",
        "        if j > 0 and table[j][k] == table[j-1][k] + gap:\n",
        "            # option1 above; match X[j-1] with a gap in Y\n",
        "            first  = X[j-1] + first\n",
        "            second = '-' + second\n",
        "            glue   = ' ' + glue\n",
        "            j = j-1\n",
        "        \n",
        "        #### Question (6) What does the following 'elif block' try to do? Please describe the codes using your words!\n",
        "        ##\n",
        "        ##   Write your answer here:\n",
        "        ##\n",
        "        ##    If the length of sequence 2 (sequence Y) is greater than 0 and the the bottom-right cell or the current cell\n",
        "        ##    at postion ([j][k]) is equal to the sum of the cell left of it ([j][k-1]) with the gap value then:\n",
        "        ##\n",
        "        ##    The value \"first\" will be having '-' as its letter in addition to what had been built in \"first\". \n",
        "        ##\n",
        "        ##    The value \"second\" will be having a letter of the sequence of sequence 2 (sequence Y) starting from the \n",
        "        ##    last (left-most) letter of sequence then slowly moving to the right letter of that left-most letter(after \n",
        "        ##    each after the condition of the if block is satisfied) in addition to what had been built in the \"second\".\n",
        "        ##\n",
        "        ##    Likewise, the \"glue\" will be having '-' as its letter in addition to what had been built in \"glue\". \n",
        "        ##\n",
        "        ##    The k value wil decrease by 1 after the if block's condition is satisfied, which move the current row upward.\n",
        "        ##\n",
        "        ##    This repeats until k = 0 ( techincally, it will be j or k = 0 since there is also the while block above).\n",
        "        ##\n",
        "        ##    This if block allows for the Traceback functions to move left a column from the bottom-right cell or the current cell\n",
        "        ##    only when the condition is satisfied. \n",
        "        ###########################################################################################################\n",
        "        \n",
        "        elif k > 0 and table[j][k] == table[j][k-1] + gap:\n",
        "            # option2 above; match gap in X with Y[k-1]\n",
        "            first  = '-'  + first\n",
        "            second = Y[k-1] + second\n",
        "            glue   = ' '  + glue\n",
        "            k = k-1\n",
        "        \n",
        "        #### Question (7) What does the following 'elif block' try to do? Please describe the codes using your words!\n",
        "        ##\n",
        "        ##   Write your answer here:\n",
        "        ##\n",
        "        ##    If the length of sequence 2 (sequence Y) or length of sequence 1 ( sequence X) is greater than 0 then:\n",
        "        ##\n",
        "        ##    The value \"first\" \"first\" will be having a letter of the sequence of sequence 1 (sequence X) starting from the \n",
        "        ##    last (left-most) letter of sequence then slowly moving to the right letter of that left-most letter(after \n",
        "        ##    each after the condition of the if block is satisfied) in addition to what had been built in the \"first\".\n",
        "        ##\n",
        "        ##    The value \"second\" will be having a letter of the sequence of sequence 2 (sequence Y) starting from the \n",
        "        ##    last (left-most) letter of sequence then slowly moving to the right letter of that left-most letter(after \n",
        "        ##    each after the condition of the if block is satisfied) in addition to what had been built in the \"second\".\n",
        "        ##\n",
        "        ##    The \"glue\" will be having '|' only if the letter of sequence 1 at that the j-1 postion\n",
        "        ##    and that of sequence 2 at that k-1 is matched \n",
        "        ##\n",
        "        ##    The \"glue\" will be having '.' only if the letter of sequence 1 at that the j-1 postion\n",
        "        ##    and that of sequence 2 at that k-1 is mismatched \n",
        "        ##\n",
        "        ##    This repeats until j or k = 0.\n",
        "        ##\n",
        "        ##    This if block allows for the Traceback functions to move diagonal (up a row and left a column) from \n",
        "        ##    the bottom-right cell or the current cell only when the condition is satisfied. \n",
        "        ##\n",
        "        ##    Importantly, this if block is only run as the last resort when the other conditions of two if blocks\n",
        "        ##    above cannot be satisfied.\n",
        "        ###########################################################################################################\n",
        "        \n",
        "        elif j>0 and k>0:\n",
        "            # option1 above; match X[j-1] with Y[k-1]\n",
        "            first =  X[j-1] + first\n",
        "            second = Y[k-1] + second\n",
        "            if X[j-1] == Y[k-1] and table[j][k] == table[j-1][k-1] + match:\n",
        "              glue = '|' + glue   # designate match\n",
        "            elif X[j-1] != Y[k-1] and table[j][k] == table[j-1][k-1] + mismatch:\n",
        "              glue = '.' + glue   # designate mismatch\n",
        "            j = j-1\n",
        "            k = k-1\n",
        "    print(\"The best alignment is:\")\n",
        "    print(first)\n",
        "    print(glue)\n",
        "    print(second)\n",
        "    return first,glue,second"
      ],
      "execution_count": 1,
      "outputs": []
    },
    {
      "cell_type": "code",
      "metadata": {
        "id": "YF9O8vDxt8TW",
        "outputId": "2bfdd1c0-394f-40af-8524-a14d16ec3c01",
        "colab": {
          "base_uri": "https://localhost:8080/",
          "height": 374
        }
      },
      "source": [
        "t= buildTable('TTGCT','CTTCCT', match=1, mismatch=-1, gap=-1)\n",
        "TraceBack('TTGCT','CTTCCT',t, match=1, mismatch=-1, gap=-1)\n",
        "# Note: The result is a little bit odd. Ask Dr. Jie Hou to figure out what's wrong"
      ],
      "execution_count": 7,
      "outputs": [
        {
          "output_type": "stream",
          "text": [
            "Sequence 1: TTGCT\n",
            "Sequence 2: CTTCCT\n",
            "The intial alignment table is:\n",
            "  0   0   0   0   0   0   0\n",
            "  0   0   0   0   0   0   0\n",
            "  0   0   0   0   0   0   0\n",
            "  0   0   0   0   0   0   0\n",
            "  0   0   0   0   0   0   0\n",
            "  0   0   0   0   0   0   0\n",
            "The final alignment table is:\n",
            "  0  -1  -2  -3  -4  -5  -6\n",
            " -1  -1   0  -1  -2  -3  -4\n",
            " -2  -2   0   1   0  -1  -2\n",
            " -3  -3  -1   0   0  -1  -2\n",
            " -4  -2  -2  -1   1   1   0\n",
            " -5  -3  -1  -1   0   0   2\n",
            "The best alignment is:\n",
            "-TTGCT\n",
            " ||.||\n",
            "CTTCCT\n"
          ],
          "name": "stdout"
        },
        {
          "output_type": "execute_result",
          "data": {
            "text/plain": [
              "('-TTGCT', ' ||.||', 'CTTCCT')"
            ]
          },
          "metadata": {
            "tags": []
          },
          "execution_count": 7
        }
      ]
    },
    {
      "cell_type": "code",
      "metadata": {
        "id": "HyrXpVlNzhgX",
        "outputId": "0e5067de-4c77-4c52-cb3a-985330e2e5b7",
        "colab": {
          "base_uri": "https://localhost:8080/",
          "height": 442
        }
      },
      "source": [
        "# Q4 Testing the python program using example sequences (sequence 1: TTGCT, sequence 2: CTTCCT) to answer the following questions.\n",
        "\n",
        "# What are the two sequences you use in this question? What's the score for the match, mismatch, and gap?  What's the final alignment table?\n",
        "X = 'TTGCT'\n",
        "Y = 'CTTCCT'\n",
        "match = 1\n",
        "mismatch = -1\n",
        "gap = -1\n",
        "score =  match, mismatch, gap\n",
        "print ( 'The score for match, mismatch, and gap are as followed:', score)\n",
        "t= buildTable('TTGCT','CTTCCT', match=1, mismatch=-1, gap=-1)\n",
        "\n",
        "# What's the optimal alignment from the table?\n",
        "y =TraceBack('TTGCT','CTTCCT',t, match=1, mismatch=-1, gap=-1)\n",
        "print (y)\n",
        "#What's the score for the optimal alignment?\n",
        "\n",
        "def alignment_score(sequence1, sequence2, match=1, mismatch=-1, gap=-1):\n",
        "  Score =0\n",
        "  M =0\n",
        "  Miss =0\n",
        "  G =0\n",
        "  Result = ''\n",
        "  if len(sequence1) != len(sequence2):\n",
        "    Result = 'Since the lenght of the two sequences are not equal to each other, the alignment cannot be implemented'\n",
        "    return Result \n",
        "  for i in range (0 , len(sequence1)):\n",
        "    x = sequence1[i]\n",
        "    y = sequence2[i]\n",
        "    if x == '-' or y == '-':\n",
        "      G += gap\n",
        "    elif x == y:\n",
        "      M += match\n",
        "    elif x != y:\n",
        "      Miss += mismatch\n",
        "  Score = M + Miss + G\n",
        "  print('Seq1:',sequence1)\n",
        "  print('Seq2:',sequence2)\n",
        "  print( 'Alignment score is:', Score) \n",
        "\n",
        "alignment_score (y[0],y[2], match=1, mismatch=-1, gap=-1)"
      ],
      "execution_count": 6,
      "outputs": [
        {
          "output_type": "stream",
          "text": [
            "The score for match, mismatch, and gap are as followed: (1, -1, -1)\n",
            "Sequence 1: TTGCT\n",
            "Sequence 2: CTTCCT\n",
            "The intial alignment table is:\n",
            "  0   0   0   0   0   0   0\n",
            "  0   0   0   0   0   0   0\n",
            "  0   0   0   0   0   0   0\n",
            "  0   0   0   0   0   0   0\n",
            "  0   0   0   0   0   0   0\n",
            "  0   0   0   0   0   0   0\n",
            "The final alignment table is:\n",
            "  0  -1  -2  -3  -4  -5  -6\n",
            " -1  -1   0  -1  -2  -3  -4\n",
            " -2  -2   0   1   0  -1  -2\n",
            " -3  -3  -1   0   0  -1  -2\n",
            " -4  -2  -2  -1   1   1   0\n",
            " -5  -3  -1  -1   0   0   2\n",
            "The best alignment is:\n",
            "-TTGCT\n",
            " ||.||\n",
            "CTTCCT\n",
            "('-TTGCT', ' ||.||', 'CTTCCT')\n",
            "Seq1: -TTGCT\n",
            "Seq2: CTTCCT\n",
            "Alignment score is: 2\n"
          ],
          "name": "stdout"
        }
      ]
    }
  ]
}