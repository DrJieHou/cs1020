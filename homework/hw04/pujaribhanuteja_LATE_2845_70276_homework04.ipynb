{
  "nbformat": 4,
  "nbformat_minor": 0,
  "metadata": {
    "colab": {
      "name": "homework04.ipynb",
      "provenance": []
    },
    "kernelspec": {
      "name": "python3",
      "display_name": "Python 3"
    }
  },
  "cells": [
    {
      "cell_type": "code",
      "metadata": {
        "id": "Ua-I_fRYIcMV"
      },
      "source": [
        "def buildTable(X, Y, match=1, mismatch=-1, gap=-1):\n",
        "  print(\"Sequence 1:\", X)\n",
        "  print(\"Sequence 2:\", Y)\n",
        "\n",
        "    \n",
        "  # create table of zeros with dimension (1+|X|)-by-(1+|Y|)\n",
        "  # X: vertical,  Y:horizontal\n",
        "  opt = []\n",
        "    \n",
        "  #### Question (1) How to initialize the alignment table?   Please write your codes here!\n",
        "  for i in range(0, len(X)+1):\n",
        "    row_data = []\n",
        "    for j in range(0, len(Y)+1): \n",
        "      row_data.append(0)\n",
        "    opt.append(row_data) \n",
        "    \n",
        "    \n",
        "    ####  Print out the initial table\n",
        "  print(\"The intial alignment table is:\")\n",
        "  for row in opt:\n",
        "    print(' '.join('%3d' % val for val in row))\n",
        "\n",
        "    #### Question (2) How to initialize the first row and first column?   Please write your codes here!\n",
        "    \n",
        "  for i in range(1, len(Y)+1):\n",
        "    opt[0][i] = opt[0][i-1] + gap\n",
        "    \n",
        "  for i in range(1, len(X)+1):\n",
        "    opt[i][0] = opt[i-1][0] + gap\n",
        "      \n",
        "    #### Question (3) How to calculate the score in each cell for each possible alignment?   Please write your codes here!\n",
        "  for row in range(1, len(X)+1):\n",
        "    for column in range(1, len(Y)+1):\n",
        "      if X[row-1] == Y[column-1]:\n",
        "        score_1 = opt[row-1][column-1] + match \n",
        "      else:\n",
        "        score_1 = opt[row-1][column-1] + mismatch \n",
        "\n",
        "      score_2 = opt[row-1][column] + gap\n",
        "      score_3 = opt[row][column-1] + gap\n",
        "\n",
        "      max_score = max([score_1, score_2, score_3])\n",
        "\n",
        "      opt[row][column] = max_score\n",
        "  \n",
        "    #### Print the final table \n",
        "  print(\"The final alignment table is:\")\n",
        "  for row in opt:\n",
        "    print(' '.join('%3d' % val for val in row))\n",
        "  return opt\n",
        " \n",
        "\n",
        "    "
      ],
      "execution_count": 4,
      "outputs": []
    },
    {
      "cell_type": "code",
      "metadata": {
        "id": "fzCgLmCRGwsr"
      },
      "source": [
        "def TraceBack(X, Y, table, match=1, mismatch=-1, gap=-1):\n",
        "    first = ''        # alignment for X\n",
        "    second = ''       # alignment for Y\n",
        "    glue = ''         # line showing matches/mismatches\n",
        "\n",
        "    # start reconstruction at bottom-right of table\n",
        "    j = len(X)\n",
        "    k = len(Y)\n",
        "    \n",
        "    while j>0 or k>0:\n",
        "        \n",
        "        #### Question (5) What does the following 'if block' try to do? Please describe the codes using your words!\n",
        "        ##\n",
        "        ##   Write your answer here:\n",
        "        ## When j is greater than 0, this block checks if the cell's score is derived from the cell that is to the left of it. If the value of the cell to the left of the cell that we are checking plus the gap score does not equal the value of the cell that we are checking, then this block will not be executed. If the conditions are met, a dash will be added to the second string and an empty string will be added to the glue.\n",
        "        ###########################################################################################################\n",
        "        if j > 0 and table[j][k] == table[j-1][k] + gap:\n",
        "            # option1 above; match X[j-1] with a gap in Y\n",
        "            first  = X[j-1] + first\n",
        "            second = '-' + second\n",
        "            glue   = ' ' + glue\n",
        "            j = j-1\n",
        "        \n",
        "        #### Question (6) What does the following 'elif block' try to do? Please describe the codes using your words!\n",
        "        ##\n",
        "        ##   Write your answer here:\n",
        "        ## When a cell's value does not equal to its left cell value plus the gap value (checked by the top block), then this block checks if a cell's value derives from the cell on top of the current cell plus the gap value. If the conditions are met, a dash will be added to the first string and an empty string will be added to the glue. \n",
        "        ###########################################################################################################\n",
        "        \n",
        "        elif k > 0 and table[j][k] == table[j][k-1] + gap:\n",
        "            # option2 above; match gap in X with Y[k-1]\n",
        "            first  = '-'  + first\n",
        "            second = Y[k-1] + second\n",
        "            glue   = ' '  + glue\n",
        "            k = k-1\n",
        "        \n",
        "        #### Question (7) What does the following 'elif block' try to do? Please describe the codes using your words!\n",
        "        ##\n",
        "        ##   Write your answer here:\n",
        "        ## If a cell's value does not equal to its left cell value plus the gap value or its top cell value plus the gap value, then this block will be executed. In short, this block checks if the current cell is derived from the diagnol cell plus match score or the diagnoal cell plus the mismatch score. If the current cell score is equal to the diagnol cell value plus the match score, then a vertical line will be added to the glue string. If the cell score is not equal to the diagnol cell value plus the match, then a period will be added to the glue. \n",
        "        ###########################################################################################################\n",
        "        \n",
        "        elif j>0 and k>0:\n",
        "            # option1 above; match X[j-1] with Y[k-1]\n",
        "            first =  X[j-1] + first\n",
        "            second = Y[k-1] + second\n",
        "            if X[j-1] == Y[k-1] and table[j][k] == table[j-1][k-1] + match:\n",
        "              glue = '|' + glue   # designate match\n",
        "            elif X[j-1] != Y[k-1] and table[j][k] == table[j-1][k-1] + mismatch:\n",
        "                glue = '.' + glue   # designate mismatch\n",
        "            j = j-1\n",
        "            k = k-1\n",
        "    match_count = glue.count('|')\n",
        "    mismatch_count = glue.count('.')\n",
        "    gap_count = len(glue) - match_count - mismatch_count\n",
        "    print(\"The best alignment is:\")\n",
        "    print(first)\n",
        "    print(glue)\n",
        "    print(second)\n",
        "    print('The score of optimal alignment is:', (match_count*match) + (mismatch_count*mismatch) + (gap_count*gap))\n",
        "    return first,glue,second"
      ],
      "execution_count": 5,
      "outputs": []
    },
    {
      "cell_type": "code",
      "metadata": {
        "id": "ic6KIJWKu5dJ",
        "outputId": "4409a3fc-0102-4502-c1a1-4002d74c5487",
        "colab": {
          "base_uri": "https://localhost:8080/",
          "height": 391
        }
      },
      "source": [
        "table = buildTable('TTGCT', 'CTTCCT', match=1, mismatch=-1, gap=-1)\n",
        "TraceBack('TTGCT','CTTCCT', table, match=1, mismatch=-1, gap=-1)"
      ],
      "execution_count": 6,
      "outputs": [
        {
          "output_type": "stream",
          "text": [
            "Sequence 1: TTGCT\n",
            "Sequence 2: CTTCCT\n",
            "The intial alignment table is:\n",
            "  0   0   0   0   0   0   0\n",
            "  0   0   0   0   0   0   0\n",
            "  0   0   0   0   0   0   0\n",
            "  0   0   0   0   0   0   0\n",
            "  0   0   0   0   0   0   0\n",
            "  0   0   0   0   0   0   0\n",
            "The final alignment table is:\n",
            "  0  -1  -2  -3  -4  -5  -6\n",
            " -1  -1   0  -1  -2  -3  -4\n",
            " -2  -2   0   1   0  -1  -2\n",
            " -3  -3  -1   0   0  -1  -2\n",
            " -4  -2  -2  -1   1   1   0\n",
            " -5  -3  -1  -1   0   0   2\n",
            "The best alignment is:\n",
            "-TTGCT\n",
            " ||.||\n",
            "CTTCCT\n",
            "The score of optimal alignment is: 2\n"
          ],
          "name": "stdout"
        },
        {
          "output_type": "execute_result",
          "data": {
            "text/plain": [
              "('-TTGCT', ' ||.||', 'CTTCCT')"
            ]
          },
          "metadata": {
            "tags": []
          },
          "execution_count": 6
        }
      ]
    },
    {
      "cell_type": "code",
      "metadata": {
        "id": "FsEkA-jOvrDP"
      },
      "source": [
        ""
      ],
      "execution_count": 2,
      "outputs": []
    }
  ]
}