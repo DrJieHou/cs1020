{
  "nbformat": 4,
  "nbformat_minor": 0,
  "metadata": {
    "colab": {
      "name": "Homework04.ipynb",
      "provenance": []
    },
    "kernelspec": {
      "name": "python3",
      "display_name": "Python 3"
    }
  },
  "cells": [
    {
      "cell_type": "code",
      "metadata": {
        "id": "uy71rtkt9ZEi"
      },
      "source": [
        "############################################################################\n",
        "# hw04: Implementation of the Needleman-Wunsch Global Pairwise Alignment algorithm\n",
        "############################################################################\n",
        "\n",
        "def buildTable(X, Y, match=1, mismatch=-1, gap=-1):\n",
        "    print(\"Sequence 1:\", X)\n",
        "    print(\"Sequence 2:\", Y)\n",
        "    # create table of zeros with dimension (1+|X|)-by-(1+|Y|)\n",
        "    # X: vertical,  Y:horizontal\n",
        "    opt = []\n",
        "    #### Question (1) How to initialize the alignment table?   Please write your codes here!\n",
        "    for i in range(0,len(X)+1):\n",
        "      row_data = []\n",
        "      for j in range(0,len(Y)+1):\n",
        "        row_data.append(0)\n",
        "      opt.append(row_data)\n",
        "\n",
        "    ####  Print out the initial table\n",
        "    print(\"The intial alignment table is:\")\n",
        "    for row in opt:\n",
        "          print(' '.join('%3d' % val for val in row))\n",
        "\n",
        "    #### Question (2) How to initialize the first row and first column?   Please write your codes here!\n",
        "    print('first row:', opt[0])\n",
        "    for i in range(1,len(Y)+1):\n",
        "      opt[0][i]= opt[0][i-1] + gap\n",
        "    print(\"First updated row:\", opt[0])\n",
        "    \n",
        "    for i in range(1,len(X)+1):\n",
        "      opt[i][0] = opt[i-1][0] + gap\n",
        "    \n",
        "    \n",
        "    \n",
        "    \n",
        "    #### Question (3) How to calculate the score in each cell for each possible alignment?   Please write your codes here!\n",
        "    \n",
        "    for row in range(1,len(X)+1):\n",
        "      for col in range(1,len(Y)+1):\n",
        "      \n",
        "      #diagonal\n",
        "       if X[row -1] == Y[col-1]:\n",
        "        score1 = opt[row-1][col-1] + match\n",
        "       else:\n",
        "        score1 = opt[row-1][col-1] + mismatch\n",
        "\n",
        "      #top to bottom\n",
        "       score2 = opt[row - 1][col]+gap\n",
        "\n",
        "      #left to right\n",
        "       score3 = opt[row][col-1]+gap\n",
        "\n",
        "       score = max([score1,score2,score3])\n",
        "\n",
        "       opt[row][col] = score\n",
        "    \n",
        "    \n",
        "    #### Print the final table \n",
        "    print(\"The final alignment table is:\")\n",
        "    for row in opt:\n",
        "      print(' '.join('%3d' % val for val in row))\n",
        "    return opt"
      ],
      "execution_count": null,
      "outputs": []
    },
    {
      "cell_type": "code",
      "metadata": {
        "id": "0s7X8jJhNQ60"
      },
      "source": [
        "#. (5 points) Testing the python program using example sequences (sequence 1: TTGCT, sequence 2: CTTCCT) to answer the following questions.\n",
        "\n",
        "#What are the two sequences you use in this question?\n",
        "#What's the score for the match, mismatch, and gap?\n",
        "#What's the final alignment table?\n",
        "#What's the optimal alignment from the table?\n",
        "#What's the score for the optimal alignment?\n",
        " \n",
        "#1. 'TTGCT','CTTCCT'\n",
        "#2. match=2, mismatch=-1, gap=-1\n",
        "#3.  0  -1  -2  -3  -4  -5  -6\n",
        " -1  -1   1   0  -1  -2  -3\n",
        " -2  -2   1   3   2   1   0\n",
        " -3  -3   0   2   2   1   0\n",
        " -4  -1  -1   1   4   4   3\n",
        " -5  -2   1   1   3   3   6\n",
        "#4. -TTGCT, CTTCCT\n",
        "#5. 6\n"
      ],
      "execution_count": null,
      "outputs": []
    },
    {
      "cell_type": "code",
      "metadata": {
        "id": "ncKPncqS_Wta",
        "outputId": "d6bec3d3-cde6-4dc9-b040-7c562e08b5aa",
        "colab": {
          "base_uri": "https://localhost:8080/",
          "height": 420
        }
      },
      "source": [
        "buildTable('TTGCT','CTTCCT', match=2, mismatch=-1, gap=-1)"
      ],
      "execution_count": null,
      "outputs": [
        {
          "output_type": "stream",
          "text": [
            "Sequence 1: TTGCT\n",
            "Sequence 2: CTTCCT\n",
            "The intial alignment table is:\n",
            "  0   0   0   0   0   0   0\n",
            "  0   0   0   0   0   0   0\n",
            "  0   0   0   0   0   0   0\n",
            "  0   0   0   0   0   0   0\n",
            "  0   0   0   0   0   0   0\n",
            "  0   0   0   0   0   0   0\n",
            "first row: [0, 0, 0, 0, 0, 0, 0]\n",
            "First updated row: [0, -1, -2, -3, -4, -5, -6]\n",
            "The final alignment table is:\n",
            "  0  -1  -2  -3  -4  -5  -6\n",
            " -1  -1   1   0  -1  -2  -3\n",
            " -2  -2   1   3   2   1   0\n",
            " -3  -3   0   2   2   1   0\n",
            " -4  -1  -1   1   4   4   3\n",
            " -5  -2   1   1   3   3   6\n"
          ],
          "name": "stdout"
        },
        {
          "output_type": "execute_result",
          "data": {
            "text/plain": [
              "[[0, -1, -2, -3, -4, -5, -6],\n",
              " [-1, -1, 1, 0, -1, -2, -3],\n",
              " [-2, -2, 1, 3, 2, 1, 0],\n",
              " [-3, -3, 0, 2, 2, 1, 0],\n",
              " [-4, -1, -1, 1, 4, 4, 3],\n",
              " [-5, -2, 1, 1, 3, 3, 6]]"
            ]
          },
          "metadata": {
            "tags": []
          },
          "execution_count": 32
        }
      ]
    },
    {
      "cell_type": "code",
      "metadata": {
        "id": "1VN_tJqnL57T"
      },
      "source": [
        "def TraceBack(X, Y, table, match=1, mismatch=-1, gap=-1):\n",
        "    first = ''        # alignment for X\n",
        "    second = ''       # alignment for Y\n",
        "    glue = ''         # line showing matches/mismatches\n",
        "\n",
        "    # start reconstruction at bottom-right of table\n",
        "    j = len(X)\n",
        "    k = len(Y)\n",
        "    \n",
        "    while j>0 or k>0:\n",
        "        \n",
        "        #### Question (5) What does the following 'if block' try to do? Please describe the codes using your words!\n",
        "        ##\n",
        "        ## The next if block checks the verticle column and adds whatever character is to the first alignment. This is basically adding a '-' when the gap occurs in the table\n",
        "        ##\n",
        "        ###########################################################################################################\n",
        "        if j > 0 and table[j][k] == table[j-1][k] + gap:\n",
        "            # option1 above; match X[j-1] with a gap in Y\n",
        "            first  = X[j-1] + first\n",
        "            second = '-' + second\n",
        "            glue   = ' ' + glue\n",
        "            j = j-1\n",
        "        \n",
        "        #### Question (6) What does the following 'elif block' try to do? Please describe the codes using your words!\n",
        "        ##\n",
        "        ##   similar to the if block above, this elif block is basically doing the same thing by checking to see if there is a gap and putting the '-' on the second sequence when it appears.\n",
        "        ##\n",
        "        ###########################################################################################################\n",
        "        \n",
        "        elif k > 0 and table[j][k] == table[j][k-1] + gap:\n",
        "            # option2 above; match gap in X with Y[k-1]\n",
        "            first  = '-'  + first\n",
        "            second = Y[k-1] + second\n",
        "            glue   = ' '  + glue\n",
        "            k = k-1\n",
        "        \n",
        "        #### Question (7) What does the following 'elif block' try to do? Please describe the codes using your words!\n",
        "        ##\n",
        "        ##  This code puts the glue between the two sequences everytime there is a match. It also checks for mismatches and puts a '.' between the two sequences.\n",
        "        ##\n",
        "        ###########################################################################################################\n",
        "        \n",
        "        elif j>0 and k>0:\n",
        "            # option1 above; match X[j-1] with Y[k-1]\n",
        "            first =  X[j-1] + first\n",
        "            second = Y[k-1] + second\n",
        "            if X[j-1] == Y[k-1] and table[j][k] == table[j-1][k-1] + match:\n",
        "              glue = '|' + glue   # designate match\n",
        "            elif X[j-1] != Y[k-1] and table[j][k] == table[j-1][k-1] + mismatch:\n",
        "                glue = '.' + glue   # designate mismatch\n",
        "            j = j-1\n",
        "            k = k-1\n",
        "    print(\"The best alignment is:\")\n",
        "    print(first)\n",
        "    print(glue)\n",
        "    print(second)\n",
        "    return first,glue,second"
      ],
      "execution_count": null,
      "outputs": []
    },
    {
      "cell_type": "code",
      "metadata": {
        "id": "hUj6EyphO19O",
        "outputId": "7dab452b-7d09-40c4-b577-aef807445ed9",
        "colab": {
          "base_uri": "https://localhost:8080/",
          "height": 403
        }
      },
      "source": [
        "table = buildTable('TTGCT','CTTCCT', match=2, mismatch=-1, gap=-1)\n",
        "TraceBack('TTGCT', 'CTTCCT', table, match=2, mismatch=-1, gap=-1)"
      ],
      "execution_count": null,
      "outputs": [
        {
          "output_type": "stream",
          "text": [
            "Sequence 1: TTGCT\n",
            "Sequence 2: CTTCCT\n",
            "The intial alignment table is:\n",
            "  0   0   0   0   0   0   0\n",
            "  0   0   0   0   0   0   0\n",
            "  0   0   0   0   0   0   0\n",
            "  0   0   0   0   0   0   0\n",
            "  0   0   0   0   0   0   0\n",
            "  0   0   0   0   0   0   0\n",
            "first row: [0, 0, 0, 0, 0, 0, 0]\n",
            "First updated row: [0, -1, -2, -3, -4, -5, -6]\n",
            "The final alignment table is:\n",
            "  0  -1  -2  -3  -4  -5  -6\n",
            " -1  -1   1   0  -1  -2  -3\n",
            " -2  -2   1   3   2   1   0\n",
            " -3  -3   0   2   2   1   0\n",
            " -4  -1  -1   1   4   4   3\n",
            " -5  -2   1   1   3   3   6\n",
            "The best alignment is:\n",
            "-TTGCT\n",
            " ||.||\n",
            "CTTCCT\n"
          ],
          "name": "stdout"
        },
        {
          "output_type": "execute_result",
          "data": {
            "text/plain": [
              "('-TTGCT', ' ||.||', 'CTTCCT')"
            ]
          },
          "metadata": {
            "tags": []
          },
          "execution_count": 37
        }
      ]
    }
  ]
}