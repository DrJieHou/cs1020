{
  "nbformat": 4,
  "nbformat_minor": 0,
  "metadata": {
    "colab": {
      "name": "Homework04(10/5/20).ipynb",
      "provenance": [],
      "collapsed_sections": []
    },
    "kernelspec": {
      "name": "python3",
      "display_name": "Python 3"
    }
  },
  "cells": [
    {
      "cell_type": "code",
      "metadata": {
        "id": "ovAgBcSiE495"
      },
      "source": [
        "############################################################################\n",
        "# hw04: Implementation of the Needleman-Wunsch Global Pairwise Alignment algorithm\n",
        "############################################################################\n",
        "\n",
        "def buildTable(X, Y, match=1, mismatch=-1, gap=-1):\n",
        "    print(\"Sequence 1:\", X)\n",
        "    print(\"Sequence 2:\", Y)\n",
        "    # create table of zeros with dimension (1+|X|)-by-(1+|Y|)\n",
        "    # X: vertical,  Y:horizontal\n",
        "    opt = []\n",
        "    \n",
        "    #### Question (1) How to initialize the alignment table?   Please write your codes here!\n",
        "    ##write a list inside of a list\n",
        "    for i in range(0+len(X) + 1):\n",
        "      row_data = []\n",
        "      for j in range(0,len(Y)+1):\n",
        "        row_data.append(0)\n",
        "      opt.append(row_data)\n",
        "\n",
        "    \n",
        "    ####  Print out the initial table\n",
        "    print(\"The intial alignment table is:\")\n",
        "    for row in opt:\n",
        "          print(' '.join('%3d' % val for val in row))\n",
        "\n",
        "    #### Question (2) How to initialize the first row and first column?   Please write your codes here!\n",
        "    #initialize first row \n",
        "    print(\"First Row:\", opt[0])\n",
        "    for i in range(1,len(Y)+1):\n",
        "      opt[0][i] = opt[0][i-1] + gap \n",
        "    print(\"First Updated Row:\", opt[0])\n",
        "\n",
        "    #Intiialize first column\n",
        "    for i in range(1,len(X)+1):\n",
        "      opt[i][0] = opt[i-1][0] + gap \n",
        "    \n",
        "    \n",
        "    #### Question (3) How to calculate the score in each cell for each possible alignment?   Please write your codes here!\n",
        "    #first for go trhough each row\n",
        "    for row in range(1,len(X)+1):\n",
        "      for col in range(1,len(Y)+1):\n",
        "        #opt[row][col]\n",
        "\n",
        "\n",
        "        #option1: go diagonal\n",
        "        if X[row-1] == Y[col-1]:\n",
        "          score1 = opt[row-1][col-1]+ match \n",
        "        else: \n",
        "          score1 = opt[row-1][col-1]+ mismatch \n",
        "\n",
        "        #option 2: top to bottom add gap\n",
        "        score2 = opt[row-1][col] + gap \n",
        "\n",
        "        #option 3: left to right \n",
        "        score3 = opt[row][col-1]+gap \n",
        "        score = max([score1,score2,score3])\n",
        " \n",
        "        opt[row][col] = score \n",
        "\n",
        "\n",
        "  \n",
        "    \n",
        "    #### Print the final table \n",
        "    print(\"The final alignment table is:\")\n",
        "    for row in opt:\n",
        "      print(' '.join('%3d' % val for val in row))\n",
        "    return opt\n"
      ],
      "execution_count": null,
      "outputs": []
    },
    {
      "cell_type": "code",
      "metadata": {
        "id": "LLUdVol2FKhs",
        "outputId": "e1347d2b-e5e4-4bcd-d157-009f4494b4d8",
        "colab": {
          "base_uri": "https://localhost:8080/",
          "height": 323
        }
      },
      "source": [
        "table = buildTable('TTGCT','CTTCCT', gap=-1)"
      ],
      "execution_count": null,
      "outputs": [
        {
          "output_type": "stream",
          "text": [
            "Sequence 1: TTGCT\n",
            "Sequence 2: CTTCCT\n",
            "The intial alignment table is:\n",
            "  0   0   0   0   0   0   0\n",
            "  0   0   0   0   0   0   0\n",
            "  0   0   0   0   0   0   0\n",
            "  0   0   0   0   0   0   0\n",
            "  0   0   0   0   0   0   0\n",
            "  0   0   0   0   0   0   0\n",
            "First Row: [0, 0, 0, 0, 0, 0, 0]\n",
            "First Updated Row: [0, -1, -2, -3, -4, -5, -6]\n",
            "The final alignment table is:\n",
            "  0  -1  -2  -3  -4  -5  -6\n",
            " -1  -1   0  -1  -2  -3  -4\n",
            " -2  -2   0   1   0  -1  -2\n",
            " -3  -3  -1   0   0  -1  -2\n",
            " -4  -2  -2  -1   1   1   0\n",
            " -5  -3  -1  -1   0   0   2\n"
          ],
          "name": "stdout"
        }
      ]
    },
    {
      "cell_type": "code",
      "metadata": {
        "id": "qGgqqdWbFKqi"
      },
      "source": [
        "def TraceBack(X, Y, table, match=1, mismatch=-1, gap=-1):\n",
        "    first = ''        # alignment for X\n",
        "    second = ''       # alignment for Y\n",
        "    glue = ''         # line showing matches/mismatches\n",
        "\n",
        "    # start reconstruction at bottom-right of table\n",
        "    j = len(X)\n",
        "    k = len(Y)\n",
        "    \n",
        "    while j>0 or k>0:\n",
        "        \n",
        "        #### Question (5) What does the following 'if block' try to do? Please describe the codes using your words!\n",
        "        ## \n",
        "        ##   Write your answer here: The following \"if block\" matches sequence 1 with a a gap in sequence 2. If the two sequences don't match, we will insert either a gap or a mismatch. \n",
        "        ####                          A mistmatch occurs under the condition that the sequences align in length. However if they don't, a gap must be inserted. The \"if block\" below allows us to align the gap of sequence 2 with the most optimal nucleotide in sequence 1 such that their lengths match. \n",
        "        ##                           Whenever we move vertically in our alignment table we insert a gap in sequence two which is what this if statement shows. \n",
        "        ###########################################################################################################\n",
        "        if j > 0 and table[j][k] == table[j-1][k] + gap:\n",
        "            # option1 above; match X[j-1] with a gap in Y\n",
        "            first  = X[j-1] + first\n",
        "            second = '-' + second\n",
        "            glue   = ' ' + glue\n",
        "            j = j-1\n",
        "        \n",
        "        #### Question (6) What does the following 'elif block' try to do? Please describe the codes using your words!\n",
        "        ##\n",
        "        ##   Write your answer here:\n",
        "        ##    The following elif block aligns sequence 2 with the gap in sequence 1. It allows us to traceback from the most optimal score. Whereever, we move up or down in our alignment table, we insert a gap in one of the sequences. This elif blcok says that a gap will be inserted whenever there is a horizontal line indicating a gap in sequence 1. \n",
        "        ###########################################################################################################\n",
        "        \n",
        "        elif k > 0 and table[j][k] == table[j][k-1] + gap:\n",
        "            # option2 above; match gap in X with Y[k-1]\n",
        "            first  = '-'  + first\n",
        "            second = Y[k-1] + second\n",
        "            glue   = ' '  + glue\n",
        "            k = k-1\n",
        "        \n",
        "        #### Question (7) What does the following 'elif block' try to do? Please describe the codes using your words!\n",
        "        ##\n",
        "        ##   Write your answer here:\n",
        "        ##       The following elif block says that when we move diagonally in our alignment table as opposed to up or down, we are going to insert a glue wherever the nucelotides match up and are the same. If they do not match up then we take no further action. \n",
        "        ###########################################################################################################\n",
        "        \n",
        "        elif j>0 and k>0:\n",
        "             #option1 above; match X[j-1] with Y[k-1]\n",
        "            first =  X[j-1] + first\n",
        "            second = Y[k-1] + second\n",
        "            if X[j-1] == Y[k-1] and table[j][k] == table[j-1][k-1] + match:\n",
        "              glue = '|' + glue   # designate match\n",
        "            elif X[j-1] == Y[k-1] and table[j][k] == table[j-1][k-1] + mismatch:\n",
        "                glue = '.' + glue   # designate mismatch\n",
        "            j = j-1\n",
        "            k = k-1\n",
        "    print(\"The best alignment is:\")\n",
        "    print(first)\n",
        "    print(glue)\n",
        "    print(second)\n",
        "    return first,glue,second"
      ],
      "execution_count": null,
      "outputs": []
    },
    {
      "cell_type": "code",
      "metadata": {
        "id": "PKqcXxd0FRhz",
        "outputId": "b70c8c2b-8fd5-49e6-f54a-231931b36e72",
        "colab": {
          "base_uri": "https://localhost:8080/",
          "height": 323
        }
      },
      "source": [
        "table = buildTable('TTGCT','CTTCCT',match=1,mismatch=-1, gap=-1)"
      ],
      "execution_count": null,
      "outputs": [
        {
          "output_type": "stream",
          "text": [
            "Sequence 1: TTGCT\n",
            "Sequence 2: CTTCCT\n",
            "The intial alignment table is:\n",
            "  0   0   0   0   0   0   0\n",
            "  0   0   0   0   0   0   0\n",
            "  0   0   0   0   0   0   0\n",
            "  0   0   0   0   0   0   0\n",
            "  0   0   0   0   0   0   0\n",
            "  0   0   0   0   0   0   0\n",
            "First Row: [0, 0, 0, 0, 0, 0, 0]\n",
            "First Updated Row: [0, -1, -2, -3, -4, -5, -6]\n",
            "The final alignment table is:\n",
            "  0  -1  -2  -3  -4  -5  -6\n",
            " -1  -1   0  -1  -2  -3  -4\n",
            " -2  -2   0   1   0  -1  -2\n",
            " -3  -3  -1   0   0  -1  -2\n",
            " -4  -2  -2  -1   1   1   0\n",
            " -5  -3  -1  -1   0   0   2\n"
          ],
          "name": "stdout"
        }
      ]
    },
    {
      "cell_type": "code",
      "metadata": {
        "id": "AVC7wcz8FVls",
        "outputId": "bd80fe30-7a90-461b-9fd8-d7a52cdc206c",
        "colab": {
          "base_uri": "https://localhost:8080/",
          "height": 102
        }
      },
      "source": [
        "TraceBack('TTGCT','CTTCCT',table,match=1,mismatch=-1, gap=-1)"
      ],
      "execution_count": null,
      "outputs": [
        {
          "output_type": "stream",
          "text": [
            "The best alignment is:\n",
            "-TTGCT\n",
            " ||||\n",
            "CTTCCT\n"
          ],
          "name": "stdout"
        },
        {
          "output_type": "execute_result",
          "data": {
            "text/plain": [
              "('-TTGCT', ' ||||', 'CTTCCT')"
            ]
          },
          "metadata": {
            "tags": []
          },
          "execution_count": 5
        }
      ]
    }
  ]
}