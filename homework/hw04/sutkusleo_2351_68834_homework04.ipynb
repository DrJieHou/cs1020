{
  "nbformat": 4,
  "nbformat_minor": 0,
  "metadata": {
    "colab": {
      "name": "homework04.ipynb",
      "provenance": []
    },
    "kernelspec": {
      "name": "python3",
      "display_name": "Python 3"
    }
  },
  "cells": [
    {
      "cell_type": "code",
      "metadata": {
        "id": "4T6Ee_HjH6Pj"
      },
      "source": [
        "# Q1: Inside the function 'buildTable' above, the first question is how to initialize the alignment table? Please write your codes in your jupyter notebook."
      ],
      "execution_count": 1,
      "outputs": []
    },
    {
      "cell_type": "code",
      "metadata": {
        "id": "iv7zL2_ZIIU1"
      },
      "source": [
        "def buildTable(X, Y, match=1, mismatch=-1, gap=-1):\n",
        "    print(\"Sequence 1:\", X)\n",
        "    print(\"Sequence 2:\", Y)\n",
        "    # create table of zeros with dimension (1+|X|)-by-(1+|Y|)\n",
        "    # X: vertical,  Y:horizontal\n",
        "    opt = []\n",
        "    \n",
        "    #### Question (1) How to initialize the alignment table?   Please write your codes here!\n",
        "    for i in range(0,len(X)+1):\n",
        "      row_data = [ ]\n",
        "      for j in range(0,len(Y)+1):\n",
        "        row_data.append(0)\n",
        "      opt.append(row_data)\n",
        "    \n",
        "    \n",
        "    \n",
        "    ####  Print out the initial table\n",
        "    print(\"The intial alignment table is:\")\n",
        "    for row in opt:\n",
        "          print(' '.join('%3d' % val for val in row))\n",
        "\n",
        "    #### Question (2) How to initialize the first row and first column?   Please write your codes here!\n",
        "    #initialize first row\n",
        "    print('First row: ', opt[0])\n",
        "    for i in range(1,len(Y)+1):\n",
        "      opt[0][i] = opt[0][i-1] + gap\n",
        "    print('First updated row ', opt[0])\n",
        "    \n",
        "    \n",
        "    for i in range(1,len(X)+1):\n",
        "      opt[i][0] = opt[i-1][0] + gap\n",
        "    \n",
        "    \n",
        "    #### Question (3) How to calculate the score in each cell for each possible alignment?   Please write your codes here!\n",
        "    for row in range(1,len(X)+1):\n",
        "      for col in range(1,len(Y)+1):\n",
        "        #opt[row][col]\n",
        "\n",
        "        #option 1: go diagonal, add match/mismatch\n",
        "        if X[row-1] == Y[col-1]:\n",
        "          score1 = opt[row-1][col-1] + match\n",
        "        else:\n",
        "          score1 = opt[row-1][col-1] + mismatch\n",
        "        #option 2: top to bottom, add gap\n",
        "        score2 = opt[row-1][col] +  gap\n",
        "\n",
        "        #option 3: left to right, add gap\n",
        "        score3 = opt[row][col-1] + gap\n",
        "\n",
        "        score = max([score1, score2, score3])\n",
        "        opt[row][col] = score\n",
        "    \n",
        "    \n",
        "    \n",
        "    \n",
        "    #### Print the final table \n",
        "    print(\"The final alignment table is:\")\n",
        "    for row in opt:\n",
        "      print(' '.join('%3d' % val for val in row))\n",
        "    return opt"
      ],
      "execution_count": 3,
      "outputs": []
    },
    {
      "cell_type": "code",
      "metadata": {
        "id": "u7kbl1BDHmiv",
        "outputId": "d6e61de4-596f-4ff6-bdc8-a90ed0872b3f",
        "colab": {
          "base_uri": "https://localhost:8080/",
          "height": 425
        }
      },
      "source": [
        "table = buildTable('CACCT', 'AACT', gap=-1)"
      ],
      "execution_count": 6,
      "outputs": [
        {
          "output_type": "stream",
          "text": [
            "Sequence 1: CACCT\n",
            "Sequence 2: AACT\n",
            "The intial alignment table is:\n",
            "  0   0   0   0   0\n",
            "  0   0   0   0   0\n",
            "  0   0   0   0   0\n",
            "  0   0   0   0   0\n",
            "  0   0   0   0   0\n",
            "  0   0   0   0   0\n",
            "First row:  [0, 0, 0, 0, 0]\n",
            "First updated row  [0, -1, -2, -3, -4]\n",
            "The final alignment table is:\n",
            "  0  -1  -2  -3  -4\n",
            " -1  -1  -2  -1  -2\n",
            " -2   0   0  -1  -2\n",
            " -3  -1  -1   1   0\n",
            " -4  -2  -2   0   0\n",
            " -5  -3  -3  -1   1\n"
          ],
          "name": "stdout"
        },
        {
          "output_type": "execute_result",
          "data": {
            "text/plain": [
              "[[0, -1, -2, -3, -4],\n",
              " [-1, -1, -2, -1, -2],\n",
              " [-2, 0, 0, -1, -2],\n",
              " [-3, -1, -1, 1, 0],\n",
              " [-4, -2, -2, 0, 0],\n",
              " [-5, -3, -3, -1, 1]]"
            ]
          },
          "metadata": {
            "tags": []
          },
          "execution_count": 6
        }
      ]
    },
    {
      "cell_type": "code",
      "metadata": {
        "id": "IZ4BDkVpL1Oh",
        "outputId": "183eebd1-b030-4c43-93b4-1671aed4a672",
        "colab": {
          "base_uri": "https://localhost:8080/",
          "height": 54
        }
      },
      "source": [
        "print(table)"
      ],
      "execution_count": 5,
      "outputs": [
        {
          "output_type": "stream",
          "text": [
            "[[0, -1, -2, -3, -4, -5, -6], [-1, -1, 0, -1, -2, -3, -4], [-2, -2, 0, 1, 0, -1, -2], [-3, -3, -1, 0, 0, -1, -2], [-4, -2, -2, -1, 1, 1, 0], [-5, -3, -1, -1, 0, 0, 2]]\n"
          ],
          "name": "stdout"
        }
      ]
    },
    {
      "cell_type": "code",
      "metadata": {
        "id": "VvJemStBJbgK"
      },
      "source": [
        "def TraceBack(X, Y, table, match=1, mismatch=-1, gap=-1):\n",
        "    first = ''        # alignment for X\n",
        "    second = ''       # alignment for Y\n",
        "    glue = ''         # line showing matches/mismatches\n",
        "\n",
        "    # start reconstruction at bottom-right of table\n",
        "    j = len(X)\n",
        "    k = len(Y)\n",
        "    \n",
        "    while j>0 or k>0:\n",
        "        \n",
        "        #### Question (5) What does the following 'if block' try to do? Please describe the codes using your words!\n",
        "        ##\n",
        "        ##   Write your answer here:\n",
        "        ##   if j or len(X) variable is greater than 0 and table [j][k] is true to table [j-1] + first then X[j-1] matches with a gap in Y\n",
        "        ##    first = variable X[j-1] + first, second equals gap + second, glue equals gap plus glue, j equals j-1\n",
        "        ###########################################################################################################\n",
        "        if j > 0 and table[j][k] == table[j-1][k] + gap:\n",
        "            # option1 above; match X[j-1] with a gap in Y\n",
        "            first  = X[j-1] + first\n",
        "            second = '-' + second\n",
        "            glue   = ' ' + glue\n",
        "            j = j-1\n",
        "        \n",
        "        #### Question (6) What does the following 'elif block' try to do? Please describe the codes using your words!\n",
        "        ##\n",
        "        ##   Write your answer here:\n",
        "        ##    or k or len(Y) variable is greater than 0 and table is true to table [k-1] then Y[k-1] matches with X\n",
        "        ##    first equals gap plus first, second equals variable Y[k-1] plus second, glue equals gap plus glue, k equals k-1\n",
        "        ###########################################################################################################\n",
        "        \n",
        "        elif k > 0 and table[j][k] == table[j][k-1] + gap:\n",
        "            # option2 above; match gap in X with Y[k-1]\n",
        "            first  = '-'  + first\n",
        "            second = Y[k-1] + second\n",
        "            glue   = ' '  + glue\n",
        "            k = k-1\n",
        "        \n",
        "        #### Question (7) What does the following 'elif block' try to do? Please describe the codes using your words!\n",
        "        ##\n",
        "        ##   Write your answer here:\n",
        "        ##   or variable j is greater than 0 and variable k is greater than 0\n",
        "        ##    first sequence equals X[j-1] plus first, second equals Y[k-1] plus second\n",
        "        ##.    if X[j-1] is true to Y[k-1] and table [j][k] is true to talbe [j-1][k-1] plus match, glue = soace plus glue is a match\n",
        "        ##.     or X[j-1] is not true to Y[k-1] and table [j][k] is true to table[j-1][k-1] plus mismatch\n",
        "        ##.       glue equals space plus glue is a mismatch\n",
        "        ##.   j equals j-1 and k equals k-1\n",
        "        ###########################################################################################################\n",
        "        \n",
        "        elif j>0 and k>0:\n",
        "            # option1 above; match X[j-1] with Y[k-1]\n",
        "            first =  X[j-1] + first\n",
        "            second = Y[k-1] + second\n",
        "            if X[j-1] == Y[k-1] and table[j][k] == table[j-1][k-1] + match:\n",
        "              glue = '|' + glue   # designate match\n",
        "            elif X[j-1] == Y[k-1] and table[j][k] == table[j-1][k-1] + mismatch:\n",
        "                glue = '.' + glue   # designate mismatch\n",
        "            j = j-1\n",
        "            k = k-1\n",
        "    print(\"The best alignment is:\")\n",
        "    print(first)\n",
        "    print(glue)\n",
        "    print(second)\n",
        "    return first,glue,second"
      ],
      "execution_count": 1,
      "outputs": []
    },
    {
      "cell_type": "code",
      "metadata": {
        "id": "I73y2LjWJuzr",
        "outputId": "df3e2121-71d7-4881-a981-e568d53f19f3",
        "colab": {
          "base_uri": "https://localhost:8080/",
          "height": 408
        }
      },
      "source": [
        "table = buildTable('CACCT', 'AACT', match=1, mismatch=-1, gap=-1)\n",
        "TraceBack('CACCT', 'AACT', table, match=1, mismatch=-1, gap=-1)"
      ],
      "execution_count": 4,
      "outputs": [
        {
          "output_type": "stream",
          "text": [
            "Sequence 1: CACCT\n",
            "Sequence 2: AACT\n",
            "The intial alignment table is:\n",
            "  0   0   0   0   0\n",
            "  0   0   0   0   0\n",
            "  0   0   0   0   0\n",
            "  0   0   0   0   0\n",
            "  0   0   0   0   0\n",
            "  0   0   0   0   0\n",
            "First row:  [0, 0, 0, 0, 0]\n",
            "First updated row  [0, -1, -2, -3, -4]\n",
            "The final alignment table is:\n",
            "  0  -1  -2  -3  -4\n",
            " -1  -1  -2  -1  -2\n",
            " -2   0   0  -1  -2\n",
            " -3  -1  -1   1   0\n",
            " -4  -2  -2   0   0\n",
            " -5  -3  -3  -1   1\n",
            "The best alignment is:\n",
            "CACCT\n",
            "|| |\n",
            "AAC-T\n"
          ],
          "name": "stdout"
        },
        {
          "output_type": "execute_result",
          "data": {
            "text/plain": [
              "('CACCT', '|| |', 'AAC-T')"
            ]
          },
          "metadata": {
            "tags": []
          },
          "execution_count": 4
        }
      ]
    },
    {
      "cell_type": "code",
      "metadata": {
        "id": "eA1HZHbKtEb4"
      },
      "source": [
        "# Q4: Testing the python program using example sequences (sequence 1: TTGCT, sequence 2: CTTCCT) to answer the following questions.\n",
        "\n",
        "# What are the two sequences you use in this question?\n",
        "# What's the score for the match, mismatch, and gap?\n",
        "# What's the final alignment table?\n",
        "# What's the optimal alignment from the table?\n",
        "# What's the score for the optimal alignment?"
      ],
      "execution_count": null,
      "outputs": []
    },
    {
      "cell_type": "code",
      "metadata": {
        "id": "F4OsM-Zspc7P",
        "outputId": "ec97e148-44d1-4426-8af5-4efbd33938d2",
        "colab": {
          "base_uri": "https://localhost:8080/",
          "height": 408
        }
      },
      "source": [
        "table = buildTable('TTGCT', 'CTTCCT', match=1, mismatch=-1, gap=-1)\n",
        "TraceBack('TTGCT', 'CTTCCT', table, match=1, mismatch=-1, gap=-1)"
      ],
      "execution_count": 7,
      "outputs": [
        {
          "output_type": "stream",
          "text": [
            "Sequence 1: TTGCT\n",
            "Sequence 2: CTTCCT\n",
            "The intial alignment table is:\n",
            "  0   0   0   0   0   0   0\n",
            "  0   0   0   0   0   0   0\n",
            "  0   0   0   0   0   0   0\n",
            "  0   0   0   0   0   0   0\n",
            "  0   0   0   0   0   0   0\n",
            "  0   0   0   0   0   0   0\n",
            "First row:  [0, 0, 0, 0, 0, 0, 0]\n",
            "First updated row  [0, -1, -2, -3, -4, -5, -6]\n",
            "The final alignment table is:\n",
            "  0  -1  -2  -3  -4  -5  -6\n",
            " -1  -1   0  -1  -2  -3  -4\n",
            " -2  -2   0   1   0  -1  -2\n",
            " -3  -3  -1   0   0  -1  -2\n",
            " -4  -2  -2  -1   1   1   0\n",
            " -5  -3  -1  -1   0   0   2\n",
            "The best alignment is:\n",
            "-TTGCT\n",
            " ||||\n",
            "CTTCCT\n"
          ],
          "name": "stdout"
        },
        {
          "output_type": "execute_result",
          "data": {
            "text/plain": [
              "('-TTGCT', ' ||||', 'CTTCCT')"
            ]
          },
          "metadata": {
            "tags": []
          },
          "execution_count": 7
        }
      ]
    }
  ]
}