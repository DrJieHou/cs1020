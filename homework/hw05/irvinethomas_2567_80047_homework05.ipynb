{
  "nbformat": 4,
  "nbformat_minor": 0,
  "metadata": {
    "colab": {
      "name": "homework05.ipynb",
      "provenance": []
    },
    "kernelspec": {
      "name": "python3",
      "display_name": "Python 3"
    }
  },
  "cells": [
    {
      "cell_type": "code",
      "metadata": {
        "id": "O_eVS6SCj0ry"
      },
      "source": [
        "####### Homework 5: Calculating genetic distance for tree construction\n"
      ],
      "execution_count": null,
      "outputs": []
    },
    {
      "cell_type": "code",
      "metadata": {
        "id": "RRiUtjo3kAUf"
      },
      "source": [
        "speciesA = 'TTCATTGCCA'\n",
        "speciesB = 'ATCATCAGGA'\n",
        "speciesC = 'TTCGTCGCAA'\n",
        "speciesD = 'CTCATCGAGG'"
      ],
      "execution_count": null,
      "outputs": []
    },
    {
      "cell_type": "code",
      "metadata": {
        "id": "KVMCKrQukE2f"
      },
      "source": [
        "###### Task 1: Implement Jukes-Cantor Model \n",
        "\n",
        "def JukesCantorDistance(seq1, seq2):\n",
        "    \"\"\" \n",
        "    ActualDistance = -3/4 * log(1 - 4/3 * ObserveDistance)\n",
        "    \n",
        "    ObserveDistance:  observed fraction of substitutions.\n",
        "    \"\"\"\n",
        "    from math import log\n",
        "    \n",
        "    ### check if two sequences have same length\n",
        "    if len(seq1) != len(seq2):\n",
        "        return\n",
        "    \n",
        "    ### Write your codes to calculate fraction of observed distances between two sequences. \n",
        "    j = 0\n",
        "    sub = 0\n",
        "    for i in seq1:\n",
        "      if i == seq2[j]:\n",
        "        sub = sub\n",
        "      else:\n",
        "        sub = sub + 1\n",
        "      j = j + 1\n",
        "    ObserveDistance =  sub/len(seq1)\n",
        "    ### Write your codes to get actualdistance according to JukesCantor's formular\n",
        "    ActualDistance = -3/4 * log(1 - 4/3 * ObserveDistance)\n",
        "    \n",
        "    return ActualDistance\n"
      ],
      "execution_count": null,
      "outputs": []
    },
    {
      "cell_type": "code",
      "metadata": {
        "id": "CwAV9kqAkKEJ"
      },
      "source": [
        "##### Task 2: Calculate Jukes-Cantor distance for each pair of 4 species"
      ],
      "execution_count": null,
      "outputs": []
    },
    {
      "cell_type": "code",
      "metadata": {
        "id": "7DEyxi4tkMuc",
        "outputId": "9cda1ea9-c617-4887-ed12-4774558c9823",
        "colab": {
          "base_uri": "https://localhost:8080/",
          "height": 121
        }
      },
      "source": [
        "print(\"Jukes-Cantor distance (A,B)       = \",JukesCantorDistance(speciesA,speciesB))\n",
        "print(\"Jukes-Cantor distance (A,C)       = \",JukesCantorDistance(speciesA,speciesC))\n",
        "print(\"Jukes-Cantor distance (A,D)       = \",JukesCantorDistance(speciesA,speciesD))\n",
        "print(\"Jukes-Cantor distance (B,C)       = \",JukesCantorDistance(speciesB,speciesC))\n",
        "print(\"Jukes-Cantor distance (B,D)       = \",JukesCantorDistance(speciesB,speciesD))\n",
        "print(\"Jukes-Cantor distance (C,D)       = \",JukesCantorDistance(speciesC,speciesD))"
      ],
      "execution_count": null,
      "outputs": [
        {
          "output_type": "stream",
          "text": [
            "Jukes-Cantor distance (A,B)       =  0.8239592165010822\n",
            "Jukes-Cantor distance (A,C)       =  0.3831192178244929\n",
            "Jukes-Cantor distance (A,D)       =  0.8239592165010822\n",
            "Jukes-Cantor distance (B,C)       =  0.8239592165010822\n",
            "Jukes-Cantor distance (B,D)       =  0.5716050390351726\n",
            "Jukes-Cantor distance (C,D)       =  0.8239592165010822\n"
          ],
          "name": "stdout"
        }
      ]
    },
    {
      "cell_type": "code",
      "metadata": {
        "id": "IwmnceihkQ55"
      },
      "source": [
        "###### Task 3: Implement Kimura 2-Parameter distance Model \n",
        "\n",
        "def KimuraTwoParaDistance(seq1,seq2):\n",
        "    \"\"\"\n",
        "    ActualDistance = 1/2 *log( 1/(1 - 2*S -V)) + 1/4 *  log(1/( 1 - 2*V ))\n",
        "    where:\n",
        "    S = observed fraction of transition frequency(S=tranSition)\n",
        "    V = observed fraction of transversion frequency(V=transVersion)\n",
        "    \"\"\"\n",
        "    from math import log\n",
        "\n",
        "    ### check if two sequences have same length\n",
        "    if len(seq1) != len(seq2):\n",
        "        return\n",
        "    \n",
        "    \n",
        "    transitions = [ \"AG\", \"GA\", \"CT\", \"TC\"]\n",
        "    transversions = [ \"AC\", \"CA\", \"AT\", \"TA\",\n",
        "                      \"GC\", \"CG\", \"GT\", \"TG\" ]\n",
        "    \n",
        "    ### Write your codes to calculate fraction of observed tranSition and transversion distances between two sequences. \n",
        "    s = 0\n",
        "    S = 0\n",
        "    v = 0\n",
        "    V = 0 \n",
        "    j = 0\n",
        "    Check = \"\"\n",
        "    for i in seq1:\n",
        "      Check = i + seq2[j]\n",
        "      if Check in transitions:\n",
        "        s = s + 1\n",
        "      if Check in transversions:\n",
        "        v = v + 1\n",
        "      else:\n",
        "        v = v\n",
        "        s = s\n",
        "      j = j + 1\n",
        "      S = s/len(seq1)\n",
        "      V = v/len(seq1)\n",
        "    ### Write your codes to get actualdistance according to Kimura 2-Parameter distance's formular\n",
        "    ActualDistance = 1/2 *log( 1/(1 - 2*S -V)) + 1/4 *  log(1/( 1 - 2*V ))\n",
        "    \n",
        "    return ActualDistance  "
      ],
      "execution_count": null,
      "outputs": []
    },
    {
      "cell_type": "code",
      "metadata": {
        "id": "5lZ7BsIJkWMb"
      },
      "source": [
        "##### Task 4: Calculate Kimura 2-Parameter distance for each pair of 4 species"
      ],
      "execution_count": null,
      "outputs": []
    },
    {
      "cell_type": "code",
      "metadata": {
        "id": "JQwyafvYkWz7",
        "outputId": "1c27e7a8-b1a0-4e65-9497-e40408aff9ee",
        "colab": {
          "base_uri": "https://localhost:8080/",
          "height": 121
        }
      },
      "source": [
        "print(\"KimuraTwoParaDistance distance (A,B)       = \",KimuraTwoParaDistance(speciesA,speciesB))\n",
        "print(\"KimuraTwoParaDistance distance (A,C)       = \",KimuraTwoParaDistance(speciesA,speciesC))\n",
        "print(\"KimuraTwoParaDistance distance (A,D)       = \",KimuraTwoParaDistance(speciesA,speciesD))\n",
        "print(\"KimuraTwoParaDistance distance (B,C)       = \",KimuraTwoParaDistance(speciesB,speciesC))\n",
        "print(\"KimuraTwoParaDistance distance (B,D)       = \",KimuraTwoParaDistance(speciesB,speciesD))\n",
        "print(\"KimuraTwoParaDistance distance (C,D)       = \",KimuraTwoParaDistance(speciesC,speciesD))"
      ],
      "execution_count": null,
      "outputs": [
        {
          "output_type": "stream",
          "text": [
            "KimuraTwoParaDistance distance (A,B)       =  0.8310590851315068\n",
            "KimuraTwoParaDistance distance (A,C)       =  0.40235947810852507\n",
            "KimuraTwoParaDistance distance (A,D)       =  0.9324253621585479\n",
            "KimuraTwoParaDistance distance (B,C)       =  0.9324253621585479\n",
            "KimuraTwoParaDistance distance (B,D)       =  0.6577722899915204\n",
            "KimuraTwoParaDistance distance (C,D)       =  1.2070784343255756\n"
          ],
          "name": "stdout"
        }
      ]
    }
  ]
}