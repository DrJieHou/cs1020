{
  "nbformat": 4,
  "nbformat_minor": 0,
  "metadata": {
    "colab": {
      "name": "homework05.ipynb",
      "provenance": []
    },
    "kernelspec": {
      "name": "python3",
      "display_name": "Python 3"
    }
  },
  "cells": [
    {
      "cell_type": "code",
      "metadata": {
        "id": "b637Vo_BJVWK",
        "outputId": "804f2228-109c-455e-8ca1-2dd7eb0c73c3",
        "colab": {
          "base_uri": "https://localhost:8080/"
        }
      },
      "source": [
        "####### Homework 5: Calculating genetic distance for tree construction\n",
        "\n",
        "speciesA = 'TTCATTGCCA'\n",
        "speciesB = 'ATCATCAGGA'\n",
        "speciesC = 'TTCGTCGCAA'\n",
        "speciesD = 'CTCATCGAGG'\n",
        "###### Task 1: Implement Jukes-Cantor Model \n",
        "\n",
        "def JukesCantorDistance(seq1, seq2):\n",
        "    \"\"\" \n",
        "    ActualDistance = -3/4 * log(1 - 4/3 * ObserveDistance)\n",
        "    \n",
        "    ObserveDistance:  observed fraction of substitutions.\n",
        "    \"\"\"\n",
        "    from math import log\n",
        "    \n",
        "    ### check if two sequences have same length\n",
        "    if len(seq1) != len(seq2):\n",
        "        return\n",
        "    \n",
        "    ### Write your codes to calculate fraction of observed distances between two sequences.\n",
        "    mismatch = 0 \n",
        "    for i in range(0, 9):\n",
        "      if seq1[i] != seq2[i]:\n",
        "        mismatch = mismatch + 1\n",
        "\n",
        "    ObserveDistance = mismatch / len(seq1)\n",
        "       \n",
        "\n",
        "    ### Write your codes to get actualdistance according to JukesCantor's formular\n",
        "    ActualDistance = -3/4 * log(1-4/3 * ObserveDistance)\n",
        "    \n",
        "    return ActualDistance\n",
        "\n",
        "##### Task 2: Calculate Jukes-Cantor distance for each pair of 4 species\n",
        "print(\"Jukes-Cantor distance (A,B)       = \",JukesCantorDistance(speciesA,speciesB))\n",
        "print(\"Jukes-Cantor distance (A,C)       = \",JukesCantorDistance(speciesA,speciesC))\n",
        "print(\"Jukes-Cantor distance (A,D)       = \",JukesCantorDistance(speciesA,speciesD))\n",
        "print(\"Jukes-Cantor distance (B,C)       = \",JukesCantorDistance(speciesB,speciesC))\n",
        "print(\"Jukes-Cantor distance (B,D)       = \",JukesCantorDistance(speciesB,speciesD))\n",
        "print(\"Jukes-Cantor distance (C,D)       = \",JukesCantorDistance(speciesC,speciesD))"
      ],
      "execution_count": 4,
      "outputs": [
        {
          "output_type": "stream",
          "text": [
            "Jukes-Cantor distance (A,B)       =  0.8239592165010822\n",
            "Jukes-Cantor distance (A,C)       =  0.3831192178244929\n",
            "Jukes-Cantor distance (A,D)       =  0.5716050390351726\n",
            "Jukes-Cantor distance (B,C)       =  0.8239592165010822\n",
            "Jukes-Cantor distance (B,D)       =  0.3831192178244929\n",
            "Jukes-Cantor distance (C,D)       =  0.5716050390351726\n"
          ],
          "name": "stdout"
        }
      ]
    },
    {
      "cell_type": "code",
      "metadata": {
        "id": "77VwOjDBrlas",
        "outputId": "41747355-4b83-40bf-eda2-c71acda24f24",
        "colab": {
          "base_uri": "https://localhost:8080/"
        }
      },
      "source": [
        "###### Task 3: Implement Kimura 2-Parameter distance Model \n",
        "\n",
        "def KimuraTwoParaDistance(seq1,seq2):\n",
        "    \"\"\"\n",
        "    ActualDistance = 1/2 *log( 1/(1 - 2*S -V)) + 1/4 *  log(1/( 1 - 2*V ))\n",
        "    where:\n",
        "    S = observed fraction of transition frequency(S=tranSition)\n",
        "    V = observed fraction of transversion frequency(V=transVersion)\n",
        "    \"\"\"\n",
        "    from math import log\n",
        "\n",
        "    ### check if two sequences have same length\n",
        "    if len(seq1) != len(seq2):\n",
        "        return\n",
        "    \n",
        "    \n",
        "    transitions = [ \"AG\", \"GA\", \"CT\", \"TC\"]\n",
        "    transversions = [ \"AC\", \"CA\", \"AT\", \"TA\",\n",
        "                      \"GC\", \"CG\", \"GT\", \"TG\" ]\n",
        "    \n",
        "    ### Write your codes to calculate fraction of observed tranSition and transversion distances between two sequences. \n",
        "    transitionsCount = 0\n",
        "    for i in range(0,9):\n",
        "      if seq1[i] + seq2[i] in transitions:\n",
        "        transitionsCount = transitionsCount + 1\n",
        "    S = transitionsCount / len(seq1)\n",
        "    transversionsCount = 0\n",
        "    for i in range(0,9):\n",
        "      if seq1[i] + seq2[i] in transversions:\n",
        "        transversionsCount = transversionsCount + 1\n",
        "    V = transversionsCount / len(seq1)\n",
        "    ### Write your codes to get actualdistance according to Kimura 2-Parameter distance's formular\n",
        "    ActualDistance = 1/2 *log( 1/(1 - 2*S -V)) + 1/4 *  log(1/( 1 - 2*V ))\n",
        "    \n",
        "    return ActualDistance  \n",
        "##### Task 4: Calculate Kimura 2-Parameter distance for each pair of 4 species\n",
        "print(\"KimuraTwoParaDistance distance (A,B)       = \",KimuraTwoParaDistance(speciesA,speciesB))\n",
        "print(\"KimuraTwoParaDistance distance (A,C)       = \",KimuraTwoParaDistance(speciesA,speciesC))\n",
        "print(\"KimuraTwoParaDistance distance (A,D)       = \",KimuraTwoParaDistance(speciesA,speciesD))\n",
        "print(\"KimuraTwoParaDistance distance (B,C)       = \",KimuraTwoParaDistance(speciesB,speciesC))\n",
        "print(\"KimuraTwoParaDistance distance (B,D)       = \",KimuraTwoParaDistance(speciesB,speciesD))\n",
        "print(\"KimuraTwoParaDistance distance (C,D)       = \",KimuraTwoParaDistance(speciesC,speciesD))"
      ],
      "execution_count": 5,
      "outputs": [
        {
          "output_type": "stream",
          "text": [
            "KimuraTwoParaDistance distance (A,B)       =  0.8310590851315068\n",
            "KimuraTwoParaDistance distance (A,C)       =  0.40235947810852507\n",
            "KimuraTwoParaDistance distance (A,D)       =  0.5858517718785752\n",
            "KimuraTwoParaDistance distance (B,C)       =  0.9324253621585479\n",
            "KimuraTwoParaDistance distance (B,D)       =  0.40235947810852507\n",
            "KimuraTwoParaDistance distance (C,D)       =  0.6577722899915204\n"
          ],
          "name": "stdout"
        }
      ]
    }
  ]
}