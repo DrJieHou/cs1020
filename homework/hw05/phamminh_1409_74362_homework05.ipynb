{
  "nbformat": 4,
  "nbformat_minor": 0,
  "metadata": {
    "colab": {
      "name": "homework05.ipynb",
      "provenance": []
    },
    "kernelspec": {
      "name": "python3",
      "display_name": "Python 3"
    }
  },
  "cells": [
    {
      "cell_type": "code",
      "metadata": {
        "id": "-0ARfqQwkJPH"
      },
      "source": [
        "####### Homework 5: Calculating genetic distance for tree construction\n",
        "speciesA = 'TTCATTGCCA'\n",
        "speciesB = 'ATCATCAGGA'\n",
        "speciesC = 'TTCGTCGCAA'\n",
        "speciesD = 'CTCATCGAGG'"
      ],
      "execution_count": 3,
      "outputs": []
    },
    {
      "cell_type": "code",
      "metadata": {
        "id": "dTPCzEUUkRxL"
      },
      "source": [
        "###### Task 1: Implement Jukes-Cantor Model \n",
        "\n",
        "def JukesCantorDistance(seq1, seq2):\n",
        "    \"\"\" \n",
        "    ActualDistance = -3/4 * log(1 - 4/3 * ObserveDistance)\n",
        "    \n",
        "    ObserveDistance:  observed fraction of substitutions.\n",
        "    \"\"\"\n",
        "    from math import log\n",
        "    \n",
        "    ### check if two sequences have same length\n",
        "    if len(seq1) != len(seq2):\n",
        "        return\n",
        "    \n",
        "    ### Write your codes to calculate fraction of observed distances between two sequences. \n",
        "    sub=0\n",
        "    for N in range(0,len(seq1)):\n",
        "      if seq1[N] != seq2[N]:\n",
        "        sub +=1\n",
        "    ObserveDistance=sub/len(seq1) \n",
        "         \n",
        "    ### Write your codes to get actualdistance according to JukesCantor's formular\n",
        "    ActualDistance = (-3/4 * log(1 - 4/3 * ObserveDistance))\n",
        "    \n",
        "    return ActualDistance"
      ],
      "execution_count": 11,
      "outputs": []
    },
    {
      "cell_type": "code",
      "metadata": {
        "id": "d47kE8H0kWPK",
        "outputId": "94ba318b-ad39-47d6-e47b-47bfecac7025",
        "colab": {
          "base_uri": "https://localhost:8080/",
          "height": 126
        }
      },
      "source": [
        "##### Task 2: Calculate Jukes-Cantor distance for each pair of 4 species\n",
        "print(\"Jukes-Cantor distance (A,B)       = \",JukesCantorDistance(speciesA,speciesB))\n",
        "print(\"Jukes-Cantor distance (A,C)       = \",JukesCantorDistance(speciesA,speciesC))\n",
        "print(\"Jukes-Cantor distance (A,D)       = \",JukesCantorDistance(speciesA,speciesD))\n",
        "print(\"Jukes-Cantor distance (B,C)       = \",JukesCantorDistance(speciesB,speciesC))\n",
        "print(\"Jukes-Cantor distance (B,D)       = \",JukesCantorDistance(speciesB,speciesD))\n",
        "print(\"Jukes-Cantor distance (C,D)       = \",JukesCantorDistance(speciesC,speciesD))"
      ],
      "execution_count": 12,
      "outputs": [
        {
          "output_type": "stream",
          "text": [
            "Jukes-Cantor distance (A,B)       =  0.8239592165010822\n",
            "Jukes-Cantor distance (A,C)       =  0.3831192178244929\n",
            "Jukes-Cantor distance (A,D)       =  0.8239592165010822\n",
            "Jukes-Cantor distance (B,C)       =  0.8239592165010822\n",
            "Jukes-Cantor distance (B,D)       =  0.5716050390351726\n",
            "Jukes-Cantor distance (C,D)       =  0.8239592165010822\n"
          ],
          "name": "stdout"
        }
      ]
    },
    {
      "cell_type": "code",
      "metadata": {
        "id": "4DKsRR9GkZLa"
      },
      "source": [
        "###### Task 3: Implement Kimura 2-Parameter distance Model \n",
        "\n",
        "def KimuraTwoParaDistance(seq1,seq2):\n",
        "    \"\"\"\n",
        "    ActualDistance = 1/2 *log( 1/(1 - 2*S -V)) + 1/4 *  log(1/( 1 - 2*V ))\n",
        "    where:\n",
        "    S = observed fraction of transition frequency(S=tranSition)\n",
        "    V = observed fraction of transversion frequency(V=transVersion)\n",
        "    \"\"\"\n",
        "    from math import log\n",
        "\n",
        "    ### check if two sequences have same length\n",
        "    if len(seq1) != len(seq2):\n",
        "        return\n",
        "    \n",
        "    \n",
        "    transitions = [ \"AG\", \"GA\", \"CT\", \"TC\"]\n",
        "    transversions = [ \"AC\", \"CA\", \"AT\", \"TA\",\n",
        "                      \"GC\", \"CG\", \"GT\", \"TG\" ]\n",
        "    \n",
        "    ### Write your codes to calculate fraction of observed tranSition and transversion distances between two sequences. \n",
        "    \n",
        "    NN=[]\n",
        "    S =0\n",
        "    V =0\n",
        "    for N in range(0,len(seq1)):\n",
        "      if seq1[N] != seq2[N]:\n",
        "        NN.append(seq1[N]+seq2[N])\n",
        "\n",
        "    for x in transitions:\n",
        "      for y in NN:\n",
        "        if x == y:\n",
        "          S +=1\n",
        "    S = S/len(seq1)\n",
        "    for x in transversions:\n",
        "      for y in NN:\n",
        "        if x == y:\n",
        "          V +=1  \n",
        "    V = V/len(seq1)  \n",
        "    \n",
        "    \n",
        "     \n",
        "    ### Write your codes to get actualdistance according to Kimura 2-Parameter distance's formular\n",
        "    ActualDistance = 1/2 *log( 1/(1 - 2*S -V)) + 1/4 *  log(1/( 1 - 2*V ))\n",
        "    \n",
        "    return ActualDistance  "
      ],
      "execution_count": 23,
      "outputs": []
    },
    {
      "cell_type": "code",
      "metadata": {
        "id": "PNpuGk10kfB_",
        "outputId": "667434a8-2099-4e13-999c-d694fe4c37fa",
        "colab": {
          "base_uri": "https://localhost:8080/",
          "height": 126
        }
      },
      "source": [
        "##### Task 4: Calculate Kimura 2-Parameter distance for each pair of 4 species\n",
        "print(\"KimuraTwoParaDistance distance (A,B)       = \",KimuraTwoParaDistance(speciesA,speciesB))\n",
        "print(\"KimuraTwoParaDistance distance (A,C)       = \",KimuraTwoParaDistance(speciesA,speciesC))\n",
        "print(\"KimuraTwoParaDistance distance (A,D)       = \",KimuraTwoParaDistance(speciesA,speciesD))\n",
        "print(\"KimuraTwoParaDistance distance (B,C)       = \",KimuraTwoParaDistance(speciesB,speciesC))\n",
        "print(\"KimuraTwoParaDistance distance (B,D)       = \",KimuraTwoParaDistance(speciesB,speciesD))\n",
        "print(\"KimuraTwoParaDistance distance (C,D)       = \",KimuraTwoParaDistance(speciesC,speciesD))"
      ],
      "execution_count": 24,
      "outputs": [
        {
          "output_type": "stream",
          "text": [
            "KimuraTwoParaDistance distance (A,B)       =  0.8310590851315068\n",
            "KimuraTwoParaDistance distance (A,C)       =  0.40235947810852507\n",
            "KimuraTwoParaDistance distance (A,D)       =  0.9324253621585479\n",
            "KimuraTwoParaDistance distance (B,C)       =  0.9324253621585479\n",
            "KimuraTwoParaDistance distance (B,D)       =  0.6577722899915204\n",
            "KimuraTwoParaDistance distance (C,D)       =  1.2070784343255756\n"
          ],
          "name": "stdout"
        }
      ]
    }
  ]
}