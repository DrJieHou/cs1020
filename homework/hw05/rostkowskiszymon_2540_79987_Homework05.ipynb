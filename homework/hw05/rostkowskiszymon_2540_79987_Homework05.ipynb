{
  "nbformat": 4,
  "nbformat_minor": 0,
  "metadata": {
    "colab": {
      "name": "Homework05.ipynb",
      "provenance": []
    },
    "kernelspec": {
      "name": "python3",
      "display_name": "Python 3"
    }
  },
  "cells": [
    {
      "cell_type": "code",
      "metadata": {
        "id": "bZaz1CW8kNb_"
      },
      "source": [
        "speciesA = 'TTCATTGCCA'\n",
        "speciesB = 'ATCATCAGGA'\n",
        "speciesC = 'TTCGTCGCAA'\n",
        "speciesD = 'CTCATCGAGG'"
      ],
      "execution_count": 26,
      "outputs": []
    },
    {
      "cell_type": "code",
      "metadata": {
        "id": "aaPW2wmwkfy-"
      },
      "source": [
        "###### Task 1: Implement Jukes-Cantor Model \n",
        "\n",
        "def JukesCantorDistance(seq1, seq2):\n",
        "    \"\"\" \n",
        "    ActualDistance = -3/4 * log(1 - 4/3 * ObserveDistance)\n",
        "    \n",
        "    ObserveDistance:  observed fraction of substitutions.\n",
        "    \"\"\"\n",
        "    from math import log\n",
        "    \n",
        "    ### check if two sequences have same length\n",
        "    if len(seq1) != len(seq2):\n",
        "        return\n",
        "    \n",
        "    ### Write your codes to calculate fraction of observed distances between two sequences. \n",
        "    amino_pairs = 0\n",
        "    substitutions = 0\n",
        "\n",
        "    for i in range(len(seq1)):\n",
        "        a = seq1[i]\n",
        "        b = seq2[i]\n",
        "        if a != b:\n",
        "          substitutions = substitutions +1\n",
        "        amino_pairs = amino_pairs + 1\n",
        "\n",
        "    ObserveDistance = substitutions/amino_pairs\n",
        "\n",
        "    ### Write your codes to get actualdistance according to JukesCantor's formular\n",
        "    ActualDistance = -3/4 * log(1 - 4/3 * ObserveDistance)\n",
        "    \n",
        "    return ActualDistance\n"
      ],
      "execution_count": 36,
      "outputs": []
    },
    {
      "cell_type": "code",
      "metadata": {
        "id": "AiD1Peq0kloO"
      },
      "source": [
        "##### Task 2: Calculate Jukes-Cantor distance for each pair of 4 species"
      ],
      "execution_count": 7,
      "outputs": []
    },
    {
      "cell_type": "code",
      "metadata": {
        "id": "lslcsVAEkpp1",
        "outputId": "066c81dd-381a-43ab-9ec2-197888a05d9f",
        "colab": {
          "base_uri": "https://localhost:8080/",
          "height": 118
        }
      },
      "source": [
        "print(\"Jukes-Cantor distance (A,B)       = \",JukesCantorDistance(speciesA,speciesB))\n",
        "print(\"Jukes-Cantor distance (A,C)       = \",JukesCantorDistance(speciesA,speciesC))\n",
        "print(\"Jukes-Cantor distance (A,D)       = \",JukesCantorDistance(speciesA,speciesD))\n",
        "print(\"Jukes-Cantor distance (B,C)       = \",JukesCantorDistance(speciesB,speciesC))\n",
        "print(\"Jukes-Cantor distance (B,D)       = \",JukesCantorDistance(speciesB,speciesD))\n",
        "print(\"Jukes-Cantor distance (C,D)       = \",JukesCantorDistance(speciesC,speciesD))"
      ],
      "execution_count": 37,
      "outputs": [
        {
          "output_type": "stream",
          "text": [
            "Jukes-Cantor distance (A,B)       =  0.8239592165010822\n",
            "Jukes-Cantor distance (A,C)       =  0.3831192178244929\n",
            "Jukes-Cantor distance (A,D)       =  0.8239592165010822\n",
            "Jukes-Cantor distance (B,C)       =  0.8239592165010822\n",
            "Jukes-Cantor distance (B,D)       =  0.5716050390351726\n",
            "Jukes-Cantor distance (C,D)       =  0.8239592165010822\n"
          ],
          "name": "stdout"
        }
      ]
    },
    {
      "cell_type": "code",
      "metadata": {
        "id": "gBbg63c3ktRl"
      },
      "source": [
        "###### Task 3: Implement Kimura 2-Parameter distance Model \n",
        "\n",
        "def KimuraTwoParaDistance(seq1,seq2):\n",
        "    \"\"\"\n",
        "    ActualDistance = 1/2 *log( 1/(1 - 2*S -V)) + 1/4 *  log(1/( 1 - 2*V ))\n",
        "    where:\n",
        "    S = observed fraction of transition frequency(S=tranSition)\n",
        "    V = observed fraction of transversion frequency(V=transVersion)\n",
        "    \"\"\"\n",
        "    from math import log\n",
        "\n",
        "    ### check if two sequences have same length\n",
        "    if len(seq1) != len(seq2):\n",
        "        return\n",
        "    \n",
        "    \n",
        "    transitions = [ \"AG\", \"GA\", \"CT\", \"TC\"]\n",
        "    transversions = [ \"AC\", \"CA\", \"AT\", \"TA\",\n",
        "                      \"GC\", \"CG\", \"GT\", \"TG\" ]\n",
        "    \n",
        "    ### Write your codes to calculate fraction of observed tranSition and transversion distances between two sequences. \n",
        "    # tranSitions\n",
        "    amino_pairs = 0\n",
        "    transition_substitutions = 0\n",
        "    for i in range(len(seq1)):\n",
        "      a = seq1[i]\n",
        "      b = seq2[i]\n",
        "      pair = ''\n",
        "      pair = a + b\n",
        "      if pair in transitions:\n",
        "        transition_substitutions = transition_substitutions + 1\n",
        "      amino_pairs = amino_pairs + 1\n",
        "\n",
        "    # transVersion\n",
        "    amino_pairs1 = 0\n",
        "    transversion_substitutions = 0\n",
        "    for i in range(len(seq1)):\n",
        "      x = seq1[i]\n",
        "      y = seq2[i]\n",
        "      pair1 = ''\n",
        "      pair1 = x + y\n",
        "      if pair1 in transversions:\n",
        "        transversion_substitutions = transversion_substitutions + 1\n",
        "      amino_pairs1 = amino_pairs1 + 1\n",
        "\n",
        "    S = transition_substitutions / amino_pairs\n",
        "    V = transversion_substitutions / amino_pairs1\n",
        "    ### Write your codes to get actualdistance according to Kimura 2-Parameter distance's formular\n",
        "    \n",
        "    ActualDistance = 1/2 *log( 1/(1 - 2*S -V)) + 1/4 *  log(1/( 1 - 2*V ))\n",
        "    \n",
        "    return ActualDistance  "
      ],
      "execution_count": 43,
      "outputs": []
    },
    {
      "cell_type": "code",
      "metadata": {
        "id": "qYvAB21KkwN_"
      },
      "source": [
        "##### Task 4: Calculate Kimura 2-Parameter distance for each pair of 4 species"
      ],
      "execution_count": null,
      "outputs": []
    },
    {
      "cell_type": "code",
      "metadata": {
        "id": "qkUahaBAkzaj",
        "outputId": "092eacef-4f4d-4071-a19c-5358b2bfd107",
        "colab": {
          "base_uri": "https://localhost:8080/",
          "height": 118
        }
      },
      "source": [
        "print(\"KimuraTwoParaDistance distance (A,B)       = \",KimuraTwoParaDistance(speciesA,speciesB))\n",
        "print(\"KimuraTwoParaDistance distance (A,C)       = \",KimuraTwoParaDistance(speciesA,speciesC))\n",
        "print(\"KimuraTwoParaDistance distance (A,D)       = \",KimuraTwoParaDistance(speciesA,speciesD))\n",
        "print(\"KimuraTwoParaDistance distance (B,C)       = \",KimuraTwoParaDistance(speciesB,speciesC))\n",
        "print(\"KimuraTwoParaDistance distance (B,D)       = \",KimuraTwoParaDistance(speciesB,speciesD))\n",
        "print(\"KimuraTwoParaDistance distance (C,D)       = \",KimuraTwoParaDistance(speciesC,speciesD))"
      ],
      "execution_count": 44,
      "outputs": [
        {
          "output_type": "stream",
          "text": [
            "KimuraTwoParaDistance distance (A,B)       =  0.8310590851315068\n",
            "KimuraTwoParaDistance distance (A,C)       =  0.40235947810852507\n",
            "KimuraTwoParaDistance distance (A,D)       =  0.9324253621585479\n",
            "KimuraTwoParaDistance distance (B,C)       =  0.9324253621585479\n",
            "KimuraTwoParaDistance distance (B,D)       =  0.6577722899915204\n",
            "KimuraTwoParaDistance distance (C,D)       =  1.2070784343255756\n"
          ],
          "name": "stdout"
        }
      ]
    }
  ]
}