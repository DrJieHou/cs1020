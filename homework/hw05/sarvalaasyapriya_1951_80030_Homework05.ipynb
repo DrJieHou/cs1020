{
  "nbformat": 4,
  "nbformat_minor": 0,
  "metadata": {
    "colab": {
      "name": "Homework05.ipynb",
      "provenance": []
    },
    "kernelspec": {
      "name": "python3",
      "display_name": "Python 3"
    }
  },
  "cells": [
    {
      "cell_type": "code",
      "metadata": {
        "id": "k8o2bLvAj4LY"
      },
      "source": [
        "####### Homework 5: Calculating genetic distance for tree construction\n",
        "\n",
        "speciesA = 'TTCATTGCCA'\n",
        "speciesB = 'ATCATCAGGA'\n",
        "speciesC = 'TTCGTCGCAA'\n",
        "speciesD = 'CTCATCGAGG'\n",
        "###### Task 1: Implement Jukes-Cantor Model \n",
        "\n",
        "def JukesCantorDistance(seq1, seq2):\n",
        "    \"\"\" \n",
        "    ActualDistance = -3/4 * log(1 - 4/3 * ObserveDistance)\n",
        "    \n",
        "    ObserveDistance:  observed fraction of substitutions.\n",
        "    \"\"\"\n",
        "    from math import log\n",
        "    \n",
        "    ### check if two sequences have same length\n",
        "    if len(seq1) != len(seq2):\n",
        "        return\n",
        "    \n",
        "    ### Write your codes to calculate fraction of observed distances between two sequences. \n",
        "    substitutions = 0\n",
        "    for i in range(len(seq1)):\n",
        "      if seq1[i] != seq2[i]:\n",
        "        substitutions = substitutions + 1\n",
        "    ObservedDistance = substitutions/((len(seq1)+len(seq2))/2)  \n",
        "    ActualDistance = -3/4 * log(1 - 4/3 * ObservedDistance)\n",
        "\n",
        "    ### Write your codes to get actualdistance according to JukesCantor's formular   \n",
        "    return ActualDistance\n",
        "\n"
      ],
      "execution_count": null,
      "outputs": []
    },
    {
      "cell_type": "code",
      "metadata": {
        "id": "u2r-lsCTphYh",
        "outputId": "5f6863f5-b965-46b8-c03c-69cf9d32dd53",
        "colab": {
          "base_uri": "https://localhost:8080/",
          "height": 119
        }
      },
      "source": [
        "##### Task 2: Calculate Jukes-Cantor distance for each pair of 4 species\n",
        "\n",
        "speciesA = 'TTCATTGCCA'\n",
        "speciesB = 'ATCATCAGGA'\n",
        "speciesC = 'TTCGTCGCAA'\n",
        "speciesD = 'CTCATCGAGG'\n",
        "\n",
        "print(\"Jukes-Cantor distance (A,B)       = \",JukesCantorDistance(speciesA,speciesB))\n",
        "print(\"Jukes-Cantor distance (A,C)       = \",JukesCantorDistance(speciesA,speciesC))\n",
        "print(\"Jukes-Cantor distance (A,D)       = \",JukesCantorDistance(speciesA,speciesD))\n",
        "print(\"Jukes-Cantor distance (B,C)       = \",JukesCantorDistance(speciesB,speciesC))\n",
        "print(\"Jukes-Cantor distance (B,D)       = \",JukesCantorDistance(speciesB,speciesD))\n",
        "print(\"Jukes-Cantor distance (C,D)       = \",JukesCantorDistance(speciesC,speciesD))"
      ],
      "execution_count": null,
      "outputs": [
        {
          "output_type": "stream",
          "text": [
            "Jukes-Cantor distance (A,B)       =  0.8239592165010822\n",
            "Jukes-Cantor distance (A,C)       =  0.3831192178244929\n",
            "Jukes-Cantor distance (A,D)       =  0.8239592165010822\n",
            "Jukes-Cantor distance (B,C)       =  0.8239592165010822\n",
            "Jukes-Cantor distance (B,D)       =  0.5716050390351726\n",
            "Jukes-Cantor distance (C,D)       =  0.8239592165010822\n"
          ],
          "name": "stdout"
        }
      ]
    },
    {
      "cell_type": "code",
      "metadata": {
        "id": "lZiJo1GBpeaL"
      },
      "source": [
        "\n",
        "###### Task 3: Implement Kimura 2-Parameter distance Model \n",
        "\n",
        "def KimuraTwoParaDistance(seq1,seq2):\n",
        "    \"\"\"\n",
        "    ActualDistance = 1/2 *log( 1/(1 - 2*S -V)) + 1/4 *  log(1/( 1 - 2*V ))\n",
        "    where:\n",
        "    S = observed fraction of transition frequency(S=tranSition)\n",
        "    V = observed fraction of transversion frequency(V=transVersion)\n",
        "    \"\"\"\n",
        "    from math import log\n",
        "\n",
        "    ### check if two sequences have same length\n",
        "    if len(seq1) != len(seq2):\n",
        "        return\n",
        "    \n",
        "    \n",
        "    transitions = [ \"AG\", \"GA\", \"CT\", \"TC\"]\n",
        "    transversions = [ \"AC\", \"CA\", \"AT\", \"TA\",\n",
        "                      \"GC\", \"CG\", \"GT\", \"TG\" ]\n",
        "    \n",
        "    ### Write your codes to calculate fraction of observed tranSition and transversion distances between two sequences. \n",
        "    X = 0 \n",
        "    Y = 0 \n",
        "    for i in range(len(seq1)):\n",
        "      if seq1[i] + seq2[i] in transitions:\n",
        "        X = X + 1 \n",
        "      elif seq1[i] + seq2[i] in transversions: \n",
        "        Y = Y +1 \n",
        "    S = X/((len(seq1)+len(seq2))/2)  \n",
        "    V = Y/((len(seq1)+len(seq2))/2)  \n",
        "    ActualDistance = 1/2 *log( 1/(1 - 2*S -V)) + 1/4 *  log(1/( 1 - 2*V ))\n",
        "### Write your codes to get actualdistance according to Kimura 2-Parameter distance's formular\n",
        "    \n",
        "    \n",
        "    return ActualDistance  \n",
        "        \n",
        "   "
      ],
      "execution_count": null,
      "outputs": []
    },
    {
      "cell_type": "code",
      "metadata": {
        "id": "wcyiVMh4robf",
        "outputId": "79476ea3-d21a-421e-8080-f24527b1c5a0",
        "colab": {
          "base_uri": "https://localhost:8080/",
          "height": 119
        }
      },
      "source": [
        " \n",
        "##### Task 4: Calculate Kimura 2-Parameter distance for each pair of 4 species\n",
        "print(\"KimuraTwoParaDistance distance (A,B)       = \",KimuraTwoParaDistance(speciesA,speciesB))\n",
        "print(\"KimuraTwoParaDistance distance (A,C)       = \",KimuraTwoParaDistance(speciesA,speciesC))\n",
        "print(\"KimuraTwoParaDistance distance (A,D)       = \",KimuraTwoParaDistance(speciesA,speciesD))\n",
        "print(\"KimuraTwoParaDistance distance (B,C)       = \",KimuraTwoParaDistance(speciesB,speciesC))\n",
        "print(\"KimuraTwoParaDistance distance (B,D)       = \",KimuraTwoParaDistance(speciesB,speciesD))\n",
        "print(\"KimuraTwoParaDistance distance (C,D)       = \",KimuraTwoParaDistance(speciesC,speciesD))"
      ],
      "execution_count": null,
      "outputs": [
        {
          "output_type": "stream",
          "text": [
            "KimuraTwoParaDistance distance (A,B)       =  0.8310590851315068\n",
            "KimuraTwoParaDistance distance (A,C)       =  0.40235947810852507\n",
            "KimuraTwoParaDistance distance (A,D)       =  0.9324253621585479\n",
            "KimuraTwoParaDistance distance (B,C)       =  0.9324253621585479\n",
            "KimuraTwoParaDistance distance (B,D)       =  0.6577722899915204\n",
            "KimuraTwoParaDistance distance (C,D)       =  1.2070784343255756\n"
          ],
          "name": "stdout"
        }
      ]
    },
    {
      "cell_type": "markdown",
      "metadata": {
        "id": "SoUyfUDjrbVL"
      },
      "source": [
        "Readme. file for homework: \n",
        "In this assignment my biggest struggle was that I kept messing up python syntax. Particularly, addition and attaching commands for two letters. Additionally, while I was able to create an effective for loop, I kept forgetting to define certain variables which presented itself as a major issue towards the end when I kept getting errors. I also got a math domain error because I did not define the variables as fractions of frequencies but instead defined them just as frequences which gave me a negatvie number of a log which is impossible. Eventually, I figured out how to set a for loop to find the fractions and input them into the actual distance equation. "
      ]
    }
  ]
}