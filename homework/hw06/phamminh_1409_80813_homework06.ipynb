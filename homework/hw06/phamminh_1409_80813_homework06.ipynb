{
  "nbformat": 4,
  "nbformat_minor": 0,
  "metadata": {
    "colab": {
      "name": "homework06.ipynb",
      "provenance": []
    },
    "kernelspec": {
      "name": "python3",
      "display_name": "Python 3"
    }
  },
  "cells": [
    {
      "cell_type": "code",
      "metadata": {
        "id": "KE_WeMIZi9J1"
      },
      "source": [
        "####### Example for loading distance matrix using basic PHYLIP format (http://www.phylo.org/tools/obsolete/phylip.html)\n",
        "\n",
        "\n",
        "# utility file for reading distance matrices stored in basic PHYLIP format (http://www.phylo.org/tools/obsolete/phylip.html)\n",
        "\n",
        "def parse(distance_matrix):\n",
        "    \"\"\"Read matrix of distances form Phylip-formatted file.(http://www.phylo.org/tools/obsolete/phylip.html)\n",
        "\n",
        "    Return list of names and dictionary structure such that\n",
        "    d[a][b] is the distance between names[a] and names[b].\n",
        "    \"\"\"\n",
        "    try:\n",
        "        #with open(filename) as src:\n",
        "        #    lines = [line.strip() for line in src if line.strip()]\n",
        "        lines = distance_matrix.split(\"\\n\")\n",
        "        try:\n",
        "            n = int(lines[0])\n",
        "        except ValueError:\n",
        "            raise ValueError('First line of file should contain number of samples')\n",
        "\n",
        "        if n < 2:\n",
        "            raise ValueError('N must be 2 or more')\n",
        "\n",
        "        if len(lines) < 1+n:\n",
        "            raise ValueError('Not enough lines of data')\n",
        "\n",
        "        names = [line.split()[0] for line in lines[1:1+n]]\n",
        "        dist = []\n",
        "        for k in range(n):\n",
        "            pieces = lines[1+k].split()[1:]\n",
        "            try:\n",
        "                vals = [float(v) for v in pieces]\n",
        "            except ValueError:\n",
        "                raise ValueError('invalid distance on line ' + str(2+k))\n",
        "\n",
        "            if len(vals) != n:\n",
        "                raise ValueError('line %d should have %d entries' % (2+k,n))\n",
        "\n",
        "            dist.append( { j : vals[j] for j in range(n) } )\n",
        "    except IOError:\n",
        "        print('Unable to open file:',filename)\n",
        "        raise\n",
        "\n",
        "    return names,dist"
      ],
      "execution_count": 1,
      "outputs": []
    },
    {
      "cell_type": "code",
      "metadata": {
        "id": "cRgcd_W0jCPM"
      },
      "source": [
        "####### Block 4: Do not change anything in this block  #######\n",
        "def clustering_main(names, dist, compute_distance):\n",
        "    #--------------------------------------------------------\n",
        "    # Initialize Data Structures to save clusters, trees, and nodes\n",
        "    #--------------------------------------------------------\n",
        "\n",
        "    # clusters[k] is a list of original leaf IDs for those\n",
        "    # leaves within cluster k, i.e. [[1], [2], [3]]\n",
        "    clusters = []\n",
        "    for k in range(N):\n",
        "        clusters.append( [k] )   # cluster k originally has only leaf k\n",
        "\n",
        "\n",
        "    # tree[k] is our tuple representation of cluster k, i.e., ('A',(),())\n",
        "    trees = []\n",
        "    for k in range(N):\n",
        "        trees.append( (names[k], (), ()) )\n",
        "\n",
        "\n",
        "\n",
        "    # originally, clusters 0 through N-1 are the active ones to merge and calculate distance\n",
        "    activeClusters = set( range(N) )\n",
        "\n",
        "\n",
        "    #--------------------------------------------------------\n",
        "    # Main clustering algorithm\n",
        "    #--------------------------------------------------------\n",
        "\n",
        "    ##### Keep merging clusters until one cluster left\n",
        "    while len(activeClusters) > 1:\n",
        "\n",
        "        #### step 1: find the 'closest' pair from distance matrix and return index. \n",
        "        #### Need define function   find_nearest_active()\n",
        "\n",
        "        a,b = find_nearest_active(dist, activeClusters)\n",
        "\n",
        "\n",
        "        #### step 2: remove a and b from active set, a and b is the index of node\n",
        "        activeClusters.remove(a)\n",
        "        activeClusters.remove(b)\n",
        "\n",
        "        #### reporting merging information\n",
        "        print('About to merge clusters at distance %.3f:' % dist[a][b])\n",
        "        print('  First:  ' + str(trees[a]))\n",
        "        print('  Second: ' + str(trees[b]))\n",
        "\n",
        "\n",
        "        # new cluster has all leaves of clusters[a] and clusters[b]\n",
        "        clusters.append(clusters[a] + clusters[b])  # combination of both subtree, i.e.  [1] + [2] = [1,2]\n",
        "\n",
        "        #### step 4: create new tree representation for this cluster. \n",
        "        #### Need define function     combine_trees()\n",
        "        trees.append( combine_trees(dist, trees,a,b) )\n",
        "\n",
        "        print('  Result: ', trees[-1])\n",
        "\n",
        "        #### step 5: compute distances between all other clusters to the new clade\n",
        "        newID = len(clusters)-1\n",
        "\n",
        "        dist.append( {} )    # dictionary for new cluster's distances to other clusters\n",
        "        for c in activeClusters:\n",
        "            val = compute_distance(dist, clusters,c, newID) #### Need define compute_distance function\n",
        "            dist[newID][c] = val\n",
        "            dist[c][newID] = val\n",
        "\n",
        "        print('  Distances to new cluster:')\n",
        "        for c in activeClusters:\n",
        "            print('    %.2f: %s' % (dist[newID][c], trees[c]))\n",
        "\n",
        "        #### step 6: officially add new cluster to active set, and repeat the procedure\n",
        "        activeClusters.add(newID)\n",
        "    \n",
        "    final_tree = trees[-1]\n",
        "    \n",
        "    print(\"Final tree using single linkage:\",) \n",
        "    return final_tree\n",
        "    "
      ],
      "execution_count": 22,
      "outputs": []
    },
    {
      "cell_type": "code",
      "metadata": {
        "id": "TbmhxIUkjH0R"
      },
      "source": [
        "#--------------------------------------------------------\n",
        "# Utility functions (to be completed by student)\n",
        "#--------------------------------------------------------\n",
        "\n",
        "\n",
        "#--------------------------------------------------------\n",
        "# Summary of data structures (created later in this script).\n",
        "# All indexing is ZERO-based (i.e. names[0] is the first leaf)\n",
        "#\n",
        "# names[k] is the original name of the k-th leaf of the input\n",
        "#\n",
        "# clusters[k] is a list of integers that ID the leaves of the cluster\n",
        "#\n",
        "# trees[k] is a tuple representation of the subtree for clades[k]\n",
        "#\n",
        "# activeClusters is a list of integer IDs for active clusters during the\n",
        "# clustering process\n",
        "#\n",
        "# dist is list of dictionaries such that dist[a][b] is distance\n",
        "# between clusters a and b\n",
        "#\n",
        "#--------------------------------------------------------\n",
        "\n",
        "\n",
        "def combine_trees(dist,trees, a,b):\n",
        "  combine = (dist[a][b]/2,trees[a],trees[b])\n",
        "  return combine\n",
        "  #Remember to divde combine by 2\n",
        "    \n",
        "    ##Return tuple that represents tree for newly merged clusters a and b.\n",
        "    ##For instance, a is ('A',(),()), b is ('B',()),()), and the distance between A and B in dist matrix is 0.5,\n",
        "    ##The combined tree should be (0.5,('A',(),()), ('B',(),()))\n",
        "    ##You need write the correct codes for this function.\n",
        "    \n",
        "\n",
        "def find_nearest_active(dist,activeClusters):\n",
        "  a = float('inf')\n",
        "  for x in activeClusters:\n",
        "    for y in activeClusters:\n",
        "      if x > y:\n",
        "        if dist[x][y]!= 0 and dist[x][y] < a:\n",
        "         a = dist[x][y]\n",
        "         i = x\n",
        "         j = y\n",
        "        # x is row and y is column\n",
        "  return i,j\n",
        "    ##Return IDs (index) for the two nearest active clusters in the matrix. \n",
        "    ##For instance, if i-th row and j-th column give the smallest number, just return i,j\n",
        "\n",
        "def single_linkage_cost(dist, clusters, a,b):\n",
        "  single = float('inf')\n",
        "  z = dist\n",
        "  for x in clusters[b]:\n",
        "    for y in clusters[a]:\n",
        "       if z[x][y] != 0 and z[x][y] < single:\n",
        "        single = z[x][y]\n",
        "  return single\n",
        "  \n",
        "    ##Return distance between clusters a and b.\n",
        "    ##For single linkage, distance should be based on the\n",
        "    ##NEAREST neighbors across the clusters.\n",
        "\n",
        "def complete_linkage_cost(dist, clusters, a, b):\n",
        "  complete = 0\n",
        "  z = dist\n",
        "  for x in clusters[b]:\n",
        "    for y in clusters[a]:\n",
        "      if z[x][y] != 0 and z[x][y] > complete:\n",
        "       complete = z[x][y]\n",
        "  return complete\n",
        "    ##Return distance between clusters a and b.\n",
        "    ##For complete linkage, distance should be based on the\n",
        "    ##FURTHEST neighbors across the clusters.\n",
        "\n",
        "def upgma_linkage_cost(dist, clusters, a, b):\n",
        "  z = dist\n",
        "  n=0\n",
        "  m=0\n",
        "  for x in clusters[b]:\n",
        "    for y in clusters[a]:\n",
        "     n += dist[x][y] \n",
        "     m += 1\n",
        "     upgma = n/m\n",
        "  return upgma\n",
        "\n",
        "  ##Return distance between clusters a and b. For UPGMA, distance should be the unweighted average of \n",
        "  ##distances for all pairs across the clusters.    "
      ],
      "execution_count": 27,
      "outputs": []
    },
    {
      "cell_type": "code",
      "metadata": {
        "id": "c-yQfGRtjMj1",
        "outputId": "31cf5d4a-5369-4dcb-9fa1-d15984811ca1",
        "colab": {
          "base_uri": "https://localhost:8080/"
        }
      },
      "source": [
        "####### example: Load distance matrix\n",
        "\n",
        "dist = \"\"\"5\n",
        "A 0\t20\t60\t100\t90\n",
        "B 20\t0\t50\t90\t80\n",
        "C 60\t50\t0\t40\t50\n",
        "D 100\t90\t40\t0\t30\n",
        "E 90\t80\t50\t30\t0\"\"\"\n",
        "\n",
        "names,dist = parse(dist)\n",
        "N = len(names)               # number of leaves\n",
        "\n",
        "print(\"Number of leaves: \", N)\n",
        "print(\"The leaf nodes: \", names)\n",
        "print(\"Distance matrix: \", dist)"
      ],
      "execution_count": 28,
      "outputs": [
        {
          "output_type": "stream",
          "text": [
            "Number of leaves:  5\n",
            "The leaf nodes:  ['A', 'B', 'C', 'D', 'E']\n",
            "Distance matrix:  [{0: 0.0, 1: 20.0, 2: 60.0, 3: 100.0, 4: 90.0}, {0: 20.0, 1: 0.0, 2: 50.0, 3: 90.0, 4: 80.0}, {0: 60.0, 1: 50.0, 2: 0.0, 3: 40.0, 4: 50.0}, {0: 100.0, 1: 90.0, 2: 40.0, 3: 0.0, 4: 30.0}, {0: 90.0, 1: 80.0, 2: 50.0, 3: 30.0, 4: 0.0}]\n"
          ],
          "name": "stdout"
        }
      ]
    },
    {
      "cell_type": "code",
      "metadata": {
        "id": "JFasfrV0zs8t",
        "outputId": "32a208e4-e199-4391-9f20-1114ed05098e",
        "colab": {
          "base_uri": "https://localhost:8080/"
        }
      },
      "source": [
        "clustering_main(names, dist, single_linkage_cost)"
      ],
      "execution_count": 29,
      "outputs": [
        {
          "output_type": "stream",
          "text": [
            "About to merge clusters at distance 20.000:\n",
            "  First:  ('B', (), ())\n",
            "  Second: ('A', (), ())\n",
            "  Result:  (10.0, ('B', (), ()), ('A', (), ()))\n",
            "  Distances to new cluster:\n",
            "    50.00: ('C', (), ())\n",
            "    90.00: ('D', (), ())\n",
            "    80.00: ('E', (), ())\n",
            "About to merge clusters at distance 30.000:\n",
            "  First:  ('E', (), ())\n",
            "  Second: ('D', (), ())\n",
            "  Result:  (15.0, ('E', (), ()), ('D', (), ()))\n",
            "  Distances to new cluster:\n",
            "    40.00: ('C', (), ())\n",
            "    80.00: (10.0, ('B', (), ()), ('A', (), ()))\n",
            "About to merge clusters at distance 40.000:\n",
            "  First:  (15.0, ('E', (), ()), ('D', (), ()))\n",
            "  Second: ('C', (), ())\n",
            "  Result:  (20.0, (15.0, ('E', (), ()), ('D', (), ())), ('C', (), ()))\n",
            "  Distances to new cluster:\n",
            "    50.00: (10.0, ('B', (), ()), ('A', (), ()))\n",
            "About to merge clusters at distance 50.000:\n",
            "  First:  (20.0, (15.0, ('E', (), ()), ('D', (), ())), ('C', (), ()))\n",
            "  Second: (10.0, ('B', (), ()), ('A', (), ()))\n",
            "  Result:  (25.0, (20.0, (15.0, ('E', (), ()), ('D', (), ())), ('C', (), ())), (10.0, ('B', (), ()), ('A', (), ())))\n",
            "  Distances to new cluster:\n",
            "Final tree using single linkage:\n"
          ],
          "name": "stdout"
        },
        {
          "output_type": "execute_result",
          "data": {
            "text/plain": [
              "(25.0,\n",
              " (20.0, (15.0, ('E', (), ()), ('D', (), ())), ('C', (), ())),\n",
              " (10.0, ('B', (), ()), ('A', (), ())))"
            ]
          },
          "metadata": {
            "tags": []
          },
          "execution_count": 29
        }
      ]
    },
    {
      "cell_type": "code",
      "metadata": {
        "id": "8E4kKUx2aCKq",
        "outputId": "2ac232b2-159c-4e80-964b-8986201a1ca6",
        "colab": {
          "base_uri": "https://localhost:8080/"
        }
      },
      "source": [
        "clustering_main(names, dist, complete_linkage_cost)"
      ],
      "execution_count": 30,
      "outputs": [
        {
          "output_type": "stream",
          "text": [
            "About to merge clusters at distance 20.000:\n",
            "  First:  ('B', (), ())\n",
            "  Second: ('A', (), ())\n",
            "  Result:  (10.0, ('B', (), ()), ('A', (), ()))\n",
            "  Distances to new cluster:\n",
            "    60.00: ('C', (), ())\n",
            "    100.00: ('D', (), ())\n",
            "    90.00: ('E', (), ())\n",
            "About to merge clusters at distance 30.000:\n",
            "  First:  ('E', (), ())\n",
            "  Second: ('D', (), ())\n",
            "  Result:  (15.0, ('E', (), ()), ('D', (), ()))\n",
            "  Distances to new cluster:\n",
            "    50.00: ('C', (), ())\n",
            "    100.00: (10.0, ('B', (), ()), ('A', (), ()))\n",
            "About to merge clusters at distance 50.000:\n",
            "  First:  (15.0, ('E', (), ()), ('D', (), ()))\n",
            "  Second: ('C', (), ())\n",
            "  Result:  (25.0, (15.0, ('E', (), ()), ('D', (), ())), ('C', (), ()))\n",
            "  Distances to new cluster:\n",
            "    100.00: (10.0, ('B', (), ()), ('A', (), ()))\n",
            "About to merge clusters at distance 100.000:\n",
            "  First:  (25.0, (15.0, ('E', (), ()), ('D', (), ())), ('C', (), ()))\n",
            "  Second: (10.0, ('B', (), ()), ('A', (), ()))\n",
            "  Result:  (50.0, (25.0, (15.0, ('E', (), ()), ('D', (), ())), ('C', (), ())), (10.0, ('B', (), ()), ('A', (), ())))\n",
            "  Distances to new cluster:\n",
            "Final tree using single linkage:\n"
          ],
          "name": "stdout"
        },
        {
          "output_type": "execute_result",
          "data": {
            "text/plain": [
              "(50.0,\n",
              " (25.0, (15.0, ('E', (), ()), ('D', (), ())), ('C', (), ())),\n",
              " (10.0, ('B', (), ()), ('A', (), ())))"
            ]
          },
          "metadata": {
            "tags": []
          },
          "execution_count": 30
        }
      ]
    },
    {
      "cell_type": "code",
      "metadata": {
        "id": "cEQO7WRgabGN",
        "outputId": "f39c1200-dfc6-4cbd-9bc4-0b61125d174b",
        "colab": {
          "base_uri": "https://localhost:8080/"
        }
      },
      "source": [
        "clustering_main(names, dist, upgma_linkage_cost)"
      ],
      "execution_count": 31,
      "outputs": [
        {
          "output_type": "stream",
          "text": [
            "About to merge clusters at distance 20.000:\n",
            "  First:  ('B', (), ())\n",
            "  Second: ('A', (), ())\n",
            "  Result:  (10.0, ('B', (), ()), ('A', (), ()))\n",
            "  Distances to new cluster:\n",
            "    55.00: ('C', (), ())\n",
            "    95.00: ('D', (), ())\n",
            "    85.00: ('E', (), ())\n",
            "About to merge clusters at distance 30.000:\n",
            "  First:  ('E', (), ())\n",
            "  Second: ('D', (), ())\n",
            "  Result:  (15.0, ('E', (), ()), ('D', (), ()))\n",
            "  Distances to new cluster:\n",
            "    45.00: ('C', (), ())\n",
            "    90.00: (10.0, ('B', (), ()), ('A', (), ()))\n",
            "About to merge clusters at distance 45.000:\n",
            "  First:  (15.0, ('E', (), ()), ('D', (), ()))\n",
            "  Second: ('C', (), ())\n",
            "  Result:  (22.5, (15.0, ('E', (), ()), ('D', (), ())), ('C', (), ()))\n",
            "  Distances to new cluster:\n",
            "    78.33: (10.0, ('B', (), ()), ('A', (), ()))\n",
            "About to merge clusters at distance 78.333:\n",
            "  First:  (22.5, (15.0, ('E', (), ()), ('D', (), ())), ('C', (), ()))\n",
            "  Second: (10.0, ('B', (), ()), ('A', (), ()))\n",
            "  Result:  (39.166666666666664, (22.5, (15.0, ('E', (), ()), ('D', (), ())), ('C', (), ())), (10.0, ('B', (), ()), ('A', (), ())))\n",
            "  Distances to new cluster:\n",
            "Final tree using single linkage:\n"
          ],
          "name": "stdout"
        },
        {
          "output_type": "execute_result",
          "data": {
            "text/plain": [
              "(39.166666666666664,\n",
              " (22.5, (15.0, ('E', (), ()), ('D', (), ())), ('C', (), ())),\n",
              " (10.0, ('B', (), ()), ('A', (), ())))"
            ]
          },
          "metadata": {
            "tags": []
          },
          "execution_count": 31
        }
      ]
    }
  ]
}