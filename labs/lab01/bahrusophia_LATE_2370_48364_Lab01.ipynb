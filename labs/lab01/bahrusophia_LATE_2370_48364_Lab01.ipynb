{
  "nbformat": 4,
  "nbformat_minor": 0,
  "metadata": {
    "colab": {
      "name": "Lab01.ipynb",
      "provenance": []
    },
    "kernelspec": {
      "name": "python3",
      "display_name": "Python 3"
    }
  },
  "cells": [
    {
      "cell_type": "code",
      "metadata": {
        "id": "LzJKtk7PeU-C",
        "colab_type": "code",
        "colab": {}
      },
      "source": [
        "# Q1: Assume that we have our first DNA sequence that has a string as 'TTCATTTAT', which is comprised of four nucleotides (e.g. A, T, C, G). We would like to define a variable called 'DNA1', and assign the sequence to this variable. Then we need to print the variable by print(\"DNA1: \", DNA1) \n",
        "# Please write your python codes for this activity.\n",
        "\n"
      ],
      "execution_count": 25,
      "outputs": []
    },
    {
      "cell_type": "code",
      "metadata": {
        "id": "LmuK8MccespJ",
        "colab_type": "code",
        "colab": {
          "base_uri": "https://localhost:8080/",
          "height": 34
        },
        "outputId": "bd2a0ff1-8247-4a01-d70b-fb873489fa24"
      },
      "source": [
        "DNA1 = 'TTCATTTAT'\n",
        "print(DNA1)"
      ],
      "execution_count": 26,
      "outputs": [
        {
          "output_type": "stream",
          "text": [
            "TTCATTTAT\n"
          ],
          "name": "stdout"
        }
      ]
    },
    {
      "cell_type": "code",
      "metadata": {
        "id": "0Fuz6czQfArZ",
        "colab_type": "code",
        "colab": {}
      },
      "source": [
        "# Q2: Again, we have our second DNA sequence that has a string as 'AAAAATAAA'. We would like to assign this sequence to another variable called 'DNA2', and print the variable by print(\"DNA2: \", DNA2). \n",
        "# Please write your python codes for this activity."
      ],
      "execution_count": 27,
      "outputs": []
    },
    {
      "cell_type": "code",
      "metadata": {
        "id": "HnLX-D8RfQac",
        "colab_type": "code",
        "colab": {
          "base_uri": "https://localhost:8080/",
          "height": 34
        },
        "outputId": "376d4bf9-b2b2-41d7-d86e-5f7682b305b8"
      },
      "source": [
        "DNA2 = 'AAAAATAAA'\n",
        "print(DNA2)"
      ],
      "execution_count": 28,
      "outputs": [
        {
          "output_type": "stream",
          "text": [
            "AAAAATAAA\n"
          ],
          "name": "stdout"
        }
      ]
    },
    {
      "cell_type": "code",
      "metadata": {
        "id": "s8FKO65sn0eY",
        "colab_type": "code",
        "colab": {}
      },
      "source": [
        "# Q3: Now we have got two sequences, which were assigned two variables, DNA1, and DNA2. We would like to calculate the length of the two sequences and assign the length values to new variables, named DNA1_length and DNA2_length. Similarly, please print the values of the new variables. \n",
        "# Please write your python codes for this activity."
      ],
      "execution_count": 29,
      "outputs": []
    },
    {
      "cell_type": "code",
      "metadata": {
        "id": "mJVprZQMJwsD",
        "colab_type": "code",
        "colab": {
          "base_uri": "https://localhost:8080/",
          "height": 34
        },
        "outputId": "bb4a3289-7d62-4de0-82c1-88d43af049d8"
      },
      "source": [
        "DNA1_length = len(DNA1)\n",
        "print(DNA1_length)"
      ],
      "execution_count": 30,
      "outputs": [
        {
          "output_type": "stream",
          "text": [
            "9\n"
          ],
          "name": "stdout"
        }
      ]
    },
    {
      "cell_type": "code",
      "metadata": {
        "id": "LWdkSCaHVp98",
        "colab_type": "code",
        "colab": {
          "base_uri": "https://localhost:8080/",
          "height": 34
        },
        "outputId": "6b052aeb-4f93-457c-8cbd-b9111fac14d7"
      },
      "source": [
        "DNA2_length = len(DNA2)\n",
        "print(DNA2_length)"
      ],
      "execution_count": 31,
      "outputs": [
        {
          "output_type": "stream",
          "text": [
            "9\n"
          ],
          "name": "stdout"
        }
      ]
    },
    {
      "cell_type": "code",
      "metadata": {
        "id": "FRXHohITWVhh",
        "colab_type": "code",
        "colab": {
          "base_uri": "https://localhost:8080/",
          "height": 34
        },
        "outputId": "6a64e89a-99be-4490-9f10-69c41bf73d0a"
      },
      "source": [
        "# Q4: Based on the three steps above, we got two variables that store DNA sequences (DNA1, and DNA2), and also two variables that store the length of DNA sequences (DNA1_length and DNA2_length), We are curious on the equality of the length of two DNA sequences. \n",
        "# Please write your python codes for the following questions:\n",
        "\n",
        "#1. Is the length of DNA1 equal to the length of DNA2?\n",
        "\n",
        "DNA1_length == DNA2_length"
      ],
      "execution_count": 32,
      "outputs": [
        {
          "output_type": "execute_result",
          "data": {
            "text/plain": [
              "True"
            ]
          },
          "metadata": {
            "tags": []
          },
          "execution_count": 32
        }
      ]
    },
    {
      "cell_type": "code",
      "metadata": {
        "id": "KDpLdB-lXwLn",
        "colab_type": "code",
        "colab": {
          "base_uri": "https://localhost:8080/",
          "height": 34
        },
        "outputId": "9e128a67-793c-4fb2-efad-724dc7356382"
      },
      "source": [
        "# Q4: Based on the three steps above, we got two variables that store DNA sequences (DNA1, and DNA2), and also two variables that store the length of DNA sequences (DNA1_length and DNA2_length), We are curious on the equality of the length of two DNA sequences. \n",
        "# Please write your python codes for the following questions:\n",
        "\n",
        "#2. Is the length of DNA1  not equal to the length of DNA2?\n",
        "\n",
        "DNA1_length != DNA2_length"
      ],
      "execution_count": 33,
      "outputs": [
        {
          "output_type": "execute_result",
          "data": {
            "text/plain": [
              "False"
            ]
          },
          "metadata": {
            "tags": []
          },
          "execution_count": 33
        }
      ]
    },
    {
      "cell_type": "code",
      "metadata": {
        "id": "sRP2KZ00asBV",
        "colab_type": "code",
        "colab": {
          "base_uri": "https://localhost:8080/",
          "height": 34
        },
        "outputId": "5f2d5caa-4d06-42a3-a485-7e4701657ed0"
      },
      "source": [
        "# Q4: Based on the three steps above, we got two variables that store DNA sequences (DNA1, and DNA2), and also two variables that store the length of DNA sequences (DNA1_length and DNA2_length), We are curious on the equality of the length of two DNA sequences. \n",
        "# Please write your python codes for the following questions:\n",
        "\n",
        "#3. Is the length of DNA1 larger than the length of DNA2?\n",
        "\n",
        "DNA1_length > DNA2_length\n"
      ],
      "execution_count": 34,
      "outputs": [
        {
          "output_type": "execute_result",
          "data": {
            "text/plain": [
              "False"
            ]
          },
          "metadata": {
            "tags": []
          },
          "execution_count": 34
        }
      ]
    },
    {
      "cell_type": "code",
      "metadata": {
        "id": "YiDBp4pLbK9h",
        "colab_type": "code",
        "colab": {
          "base_uri": "https://localhost:8080/",
          "height": 34
        },
        "outputId": "bcc7e7bb-605c-4b32-8fd0-ba0433b746f9"
      },
      "source": [
        "# Q4: Based on the three steps above, we got two variables that store DNA sequences (DNA1, and DNA2), and also two variables that store the length of DNA sequences (DNA1_length and DNA2_length), We are curious on the equality of the length of two DNA sequences. \n",
        "# Please write your python codes for the following questions:\n",
        "\n",
        "#4: Is the length of DNA1 smaller than the length of DNA2?\n",
        "\n",
        "DNA1_length < DNA2_length"
      ],
      "execution_count": 35,
      "outputs": [
        {
          "output_type": "execute_result",
          "data": {
            "text/plain": [
              "False"
            ]
          },
          "metadata": {
            "tags": []
          },
          "execution_count": 35
        }
      ]
    },
    {
      "cell_type": "code",
      "metadata": {
        "id": "7Q38dC3Kboqb",
        "colab_type": "code",
        "colab": {
          "base_uri": "https://localhost:8080/",
          "height": 51
        },
        "outputId": "f360ed75-f06f-4e9f-9cba-c423cd54925c"
      },
      "source": [
        "# Q5: Now let's do some sequence manipulations in python. For sequences, DNA1, and DNA2 \n",
        "# Please write your python codes for the following activities:\n",
        "\n",
        "#1. What is the first letter of the first sequence, DNA1?\n",
        "#2. What is the first letter of the second sequence, DNA2?\n",
        "\n",
        "print( \"first letter in DNA1: \", DNA1[0:1])\n",
        "print( \"first letter in DNA2: \", DNA2[0:1])"
      ],
      "execution_count": 36,
      "outputs": [
        {
          "output_type": "stream",
          "text": [
            "first letter in DNA1:  T\n",
            "first letter in DNA2:  A\n"
          ],
          "name": "stdout"
        }
      ]
    },
    {
      "cell_type": "code",
      "metadata": {
        "id": "2_6edvH1fJnV",
        "colab_type": "code",
        "colab": {
          "base_uri": "https://localhost:8080/",
          "height": 51
        },
        "outputId": "25101b3d-cbd7-459b-9664-f7552968d539"
      },
      "source": [
        "# Q5: Now let's do some sequence manipulations in python. For sequences, DNA1, and DNA2 \n",
        "# Please write your python codes for the following activities:\n",
        "\n",
        "#3. What is the last letter of the first sequence, DNA1?\n",
        "#4. What is the last letter of the second sequence, DNA2?\n",
        "\n",
        "print( \"last letter in DNA1: \", DNA1[8:9])\n",
        "print( \"last letter in DNA2: \", DNA2[8:9])"
      ],
      "execution_count": 37,
      "outputs": [
        {
          "output_type": "stream",
          "text": [
            "last letter in DNA1:  T\n",
            "last letter in DNA2:  A\n"
          ],
          "name": "stdout"
        }
      ]
    },
    {
      "cell_type": "code",
      "metadata": {
        "id": "uCz006_BgHQ9",
        "colab_type": "code",
        "colab": {
          "base_uri": "https://localhost:8080/",
          "height": 34
        },
        "outputId": "a63812e3-f187-4e5b-bd06-91c03cefe836"
      },
      "source": [
        "# Q5: Now let's do some sequence manipulations in python. For sequences, DNA1, and DNA2 \n",
        "# Please write your python codes for the following activities:\n",
        "\n",
        "#5. Are the first letters of two sequences the same?\n",
        "#6. Are the last letters of two sequences the same?\n",
        "\n",
        "DNA1[0:1] == DNA2[0:1]\n",
        "DNA1[8:9] == DNA2[8:9]"
      ],
      "execution_count": 38,
      "outputs": [
        {
          "output_type": "execute_result",
          "data": {
            "text/plain": [
              "False"
            ]
          },
          "metadata": {
            "tags": []
          },
          "execution_count": 38
        }
      ]
    },
    {
      "cell_type": "code",
      "metadata": {
        "id": "lA8BWByLh2Ob",
        "colab_type": "code",
        "colab": {
          "base_uri": "https://localhost:8080/",
          "height": 51
        },
        "outputId": "789c0be9-3a21-4d35-f23b-2bd66bd62578"
      },
      "source": [
        "# Q5: Now let's do some sequence manipulations in python. For sequences, DNA1, and DNA2 \n",
        "# Please write your python codes for the following activities:\n",
        "\n",
        "#7. What is the 5th letter of the first sequence, DNA1?\n",
        "#8. What is the 5th letter of the second sequence, DNA2?\n",
        "\n",
        "print(DNA1[4:5])\n",
        "print(DNA2[4:5])"
      ],
      "execution_count": 39,
      "outputs": [
        {
          "output_type": "stream",
          "text": [
            "T\n",
            "A\n"
          ],
          "name": "stdout"
        }
      ]
    },
    {
      "cell_type": "code",
      "metadata": {
        "id": "6W8AWp23jK9L",
        "colab_type": "code",
        "colab": {
          "base_uri": "https://localhost:8080/",
          "height": 51
        },
        "outputId": "efde046a-95be-415f-c692-d0cb4287a07c"
      },
      "source": [
        "# Q5: Now let's do some sequence manipulations in python. For sequences, DNA1, and DNA2 \n",
        "# Please write your python codes for the following activities:\n",
        "\n",
        "#9. What are the first 5 letters of the first sequence, DNA1?\n",
        "#10. What are the first 5 letters of the second sequence, DNA2?\n",
        "\n",
        "print( \"first 5 letters in DNA1: \",DNA1[0:5])\n",
        "print(\"first 5 letters in DNA2: \",DNA2[0:5])"
      ],
      "execution_count": 40,
      "outputs": [
        {
          "output_type": "stream",
          "text": [
            "first 5 letters in DNA1:  TTCAT\n",
            "first 5 letters in DNA2:  AAAAA\n"
          ],
          "name": "stdout"
        }
      ]
    },
    {
      "cell_type": "code",
      "metadata": {
        "id": "kVRRJ1XtktqI",
        "colab_type": "code",
        "colab": {
          "base_uri": "https://localhost:8080/",
          "height": 51
        },
        "outputId": "72eaab36-b03d-449e-c74c-1b4e5c5d035c"
      },
      "source": [
        "#11. What are the last 5 letters of the first sequence, DNA1?\n",
        "#12. What are the last 5 letters of the second sequence, DNA2?\n",
        "#13. How to concatenate the last 5 letters of the first sequence and the last 5 letters of the second sequence together?\n",
        "\n",
        "print( \"last 5 letters in DNA1: \",DNA1[4:9])\n",
        "\n",
        "print(\"last 5 letters in DNA2: \",DNA2[4:9])"
      ],
      "execution_count": 41,
      "outputs": [
        {
          "output_type": "stream",
          "text": [
            "last 5 letters in DNA1:  TTTAT\n",
            "last 5 letters in DNA2:  ATAAA\n"
          ],
          "name": "stdout"
        }
      ]
    },
    {
      "cell_type": "code",
      "metadata": {
        "id": "o12Q-lMbtCYi",
        "colab_type": "code",
        "colab": {
          "base_uri": "https://localhost:8080/",
          "height": 34
        },
        "outputId": "3f096522-31d5-43ca-d884-94f941c0a747"
      },
      "source": [
        "# Q6: Let's continue with the sequence manipulations in python, but this time, we need to call some python's built-in functions. For sequences, DNA1, and DNA2 \n",
        "# Please write your python codes for the following activities:\n",
        "\n",
        "#14. How many times does the character A appear in the first sequence DNA1? (hint: use str.count() )\n",
        "\n",
        "sentence = \" TTCATTTAT \"\n",
        "sentence.count('A')"
      ],
      "execution_count": 50,
      "outputs": [
        {
          "output_type": "execute_result",
          "data": {
            "text/plain": [
              "2"
            ]
          },
          "metadata": {
            "tags": []
          },
          "execution_count": 50
        }
      ]
    },
    {
      "cell_type": "code",
      "metadata": {
        "id": "h9AvqEPhQSHL",
        "colab_type": "code",
        "colab": {
          "base_uri": "https://localhost:8080/",
          "height": 34
        },
        "outputId": "7db61fbf-3528-4f5e-b2ba-3011e40db113"
      },
      "source": [
        "#15. How many times does the character A appear in the first sequence DNA2? (hint: use str.count() )\n",
        "\n",
        "sentence = \" AAAAATAAA \"\n",
        "sentence.count( 'A')"
      ],
      "execution_count": 49,
      "outputs": [
        {
          "output_type": "execute_result",
          "data": {
            "text/plain": [
              "8"
            ]
          },
          "metadata": {
            "tags": []
          },
          "execution_count": 49
        }
      ]
    }
  ]
}