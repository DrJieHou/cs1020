{
  "nbformat": 4,
  "nbformat_minor": 0,
  "metadata": {
    "colab": {
      "name": "Lab01.ipynb",
      "provenance": [],
      "collapsed_sections": []
    },
    "kernelspec": {
      "name": "python3",
      "display_name": "Python 3"
    }
  },
  "cells": [
    {
      "cell_type": "code",
      "metadata": {
        "id": "PG61VaKQc7vI",
        "colab_type": "code",
        "colab": {}
      },
      "source": [
        "#Q3. Assume that we have our first DNA sequence that has a string as 'TTCATTTAT', which is comprised of four nucleotides (e.g. A, T, C, G). We would like to define a variable called 'DNA1', and assign the sequence to this variable. Then we need to print the variable by print(\"DNA1: \", DNA1)#"
      ],
      "execution_count": 1,
      "outputs": []
    },
    {
      "cell_type": "code",
      "metadata": {
        "id": "19k0Ys26dzVH",
        "colab_type": "code",
        "colab": {
          "base_uri": "https://localhost:8080/",
          "height": 34
        },
        "outputId": "61337b5d-ed52-4595-c93a-67ed236c05e5"
      },
      "source": [
        "DNA1 = 'TTCATTTAT'\n",
        "print (DNA1)"
      ],
      "execution_count": 2,
      "outputs": [
        {
          "output_type": "stream",
          "text": [
            "TTCATTTAT\n"
          ],
          "name": "stdout"
        }
      ]
    },
    {
      "cell_type": "code",
      "metadata": {
        "id": "9zvSlrDLeTPK",
        "colab_type": "code",
        "colab": {}
      },
      "source": [
        "#Q2. Again, we have our second DNA sequence that has a string as 'AAAAATAAA'. We would like to assign this sequence to another variable called 'DNA2', and print the variable by print(\"DNA2: \", DNA2).#"
      ],
      "execution_count": null,
      "outputs": []
    },
    {
      "cell_type": "code",
      "metadata": {
        "id": "hMWXQuAMeWdQ",
        "colab_type": "code",
        "colab": {
          "base_uri": "https://localhost:8080/",
          "height": 34
        },
        "outputId": "094306a3-9f65-42f6-e4e8-3b7667bfaf5b"
      },
      "source": [
        "DNA2 = 'AAAAATAAA'\n",
        "print (DNA2)"
      ],
      "execution_count": 3,
      "outputs": [
        {
          "output_type": "stream",
          "text": [
            "AAAAATAAA\n"
          ],
          "name": "stdout"
        }
      ]
    },
    {
      "cell_type": "code",
      "metadata": {
        "id": "MWyLawCIfE1Y",
        "colab_type": "code",
        "colab": {}
      },
      "source": [
        "#Q3. Now we have got two sequences, which were assigned two variables, DNA1, and DNA2. We would like to calculate the length of the two sequences and assign the length values to new variables, named DNA1_length and DNA2_length. Similarly, please print the values of the new variables.#"
      ],
      "execution_count": null,
      "outputs": []
    },
    {
      "cell_type": "code",
      "metadata": {
        "id": "1cjlBOuCfQfk",
        "colab_type": "code",
        "colab": {
          "base_uri": "https://localhost:8080/",
          "height": 34
        },
        "outputId": "338092a3-25f1-4eab-9ab0-e935ff46a460"
      },
      "source": [
        "DNA1_length = len(DNA1)\n",
        "print (DNA1_length)"
      ],
      "execution_count": 5,
      "outputs": [
        {
          "output_type": "stream",
          "text": [
            "9\n"
          ],
          "name": "stdout"
        }
      ]
    },
    {
      "cell_type": "code",
      "metadata": {
        "id": "-BewQDSofgn2",
        "colab_type": "code",
        "colab": {
          "base_uri": "https://localhost:8080/",
          "height": 34
        },
        "outputId": "4021f7f5-91c8-4ed6-c229-06a753b67361"
      },
      "source": [
        "DNA2_length = len(DNA2)\n",
        "print (DNA2_length)"
      ],
      "execution_count": 6,
      "outputs": [
        {
          "output_type": "stream",
          "text": [
            "9\n"
          ],
          "name": "stdout"
        }
      ]
    },
    {
      "cell_type": "code",
      "metadata": {
        "id": "RgR_XOOsfwO8",
        "colab_type": "code",
        "colab": {
          "base_uri": "https://localhost:8080/",
          "height": 34
        },
        "outputId": "ef63b84a-b17d-4cd5-bbc3-0fe3b3263d5c"
      },
      "source": [
        "#Q4. Based on the three steps above, we got two variables that store DNA sequences (DNA1, and DNA2), and also two variables that store the length of DNA sequences (DNA1_length and DNA2_length), We are curious on the equality of the length of two DNA sequences.\n",
        "#Please write your python codes for the following questions:\n",
        "\n",
        "#1. Is the length of DNA1 equal to the length of DNA2?\n",
        "DNA1_length == DNA2_length"
      ],
      "execution_count": 9,
      "outputs": [
        {
          "output_type": "execute_result",
          "data": {
            "text/plain": [
              "True"
            ]
          },
          "metadata": {
            "tags": []
          },
          "execution_count": 9
        }
      ]
    },
    {
      "cell_type": "code",
      "metadata": {
        "id": "imQeLxTugT5L",
        "colab_type": "code",
        "colab": {
          "base_uri": "https://localhost:8080/",
          "height": 34
        },
        "outputId": "468bfaaf-e7f7-4af6-8be1-be796c07e648"
      },
      "source": [
        "#2. Is the length of DNA1  not equal to the length of DNA2?\n",
        "DNA1_length != DNA2_length"
      ],
      "execution_count": 10,
      "outputs": [
        {
          "output_type": "execute_result",
          "data": {
            "text/plain": [
              "False"
            ]
          },
          "metadata": {
            "tags": []
          },
          "execution_count": 10
        }
      ]
    },
    {
      "cell_type": "code",
      "metadata": {
        "id": "8YeZ_teLgd6w",
        "colab_type": "code",
        "colab": {
          "base_uri": "https://localhost:8080/",
          "height": 34
        },
        "outputId": "27c940b6-6091-4c2c-f4db-fdf3cb4ecab9"
      },
      "source": [
        "#3. Is the length of DNA1 larger than the length of DNA2\n",
        "  DNA1_length > DNA2_length"
      ],
      "execution_count": 15,
      "outputs": [
        {
          "output_type": "execute_result",
          "data": {
            "text/plain": [
              "False"
            ]
          },
          "metadata": {
            "tags": []
          },
          "execution_count": 15
        }
      ]
    },
    {
      "cell_type": "code",
      "metadata": {
        "id": "Oux_S4Rtg-zw",
        "colab_type": "code",
        "colab": {
          "base_uri": "https://localhost:8080/",
          "height": 34
        },
        "outputId": "d8f81683-6bfa-4bb7-9b7f-ff7843fe4fc6"
      },
      "source": [
        "#4. Is the length of DNA1 smaller than the length of DNA2\n",
        "DNA1_length < DNA2_length"
      ],
      "execution_count": 16,
      "outputs": [
        {
          "output_type": "execute_result",
          "data": {
            "text/plain": [
              "False"
            ]
          },
          "metadata": {
            "tags": []
          },
          "execution_count": 16
        }
      ]
    },
    {
      "cell_type": "code",
      "metadata": {
        "id": "zRUIqBrHhMsl",
        "colab_type": "code",
        "colab": {
          "base_uri": "https://localhost:8080/",
          "height": 35
        },
        "outputId": "c149b3f2-6200-484f-c860-af1cfc1de044"
      },
      "source": [
        "#Q5. Now let's do some sequence manipulations in python. For sequences, DNA1, and DNA2\n",
        "#Please write your python codes for the following activities:\n",
        "\n",
        "#1.What is the first letter of the first sequence, DNA1?\n",
        "DNA1[0]\n"
      ],
      "execution_count": 18,
      "outputs": [
        {
          "output_type": "execute_result",
          "data": {
            "application/vnd.google.colaboratory.intrinsic+json": {
              "type": "string"
            },
            "text/plain": [
              "'T'"
            ]
          },
          "metadata": {
            "tags": []
          },
          "execution_count": 18
        }
      ]
    },
    {
      "cell_type": "code",
      "metadata": {
        "id": "_i0FTQzAho48",
        "colab_type": "code",
        "colab": {
          "base_uri": "https://localhost:8080/",
          "height": 35
        },
        "outputId": "9c67d455-9946-492c-cb52-75125ca3624f"
      },
      "source": [
        "#2. What is the first letter of the second sequence, DNA2\n",
        "DNA2[0]"
      ],
      "execution_count": 19,
      "outputs": [
        {
          "output_type": "execute_result",
          "data": {
            "application/vnd.google.colaboratory.intrinsic+json": {
              "type": "string"
            },
            "text/plain": [
              "'A'"
            ]
          },
          "metadata": {
            "tags": []
          },
          "execution_count": 19
        }
      ]
    },
    {
      "cell_type": "code",
      "metadata": {
        "id": "1iH0gpjihzsp",
        "colab_type": "code",
        "colab": {
          "base_uri": "https://localhost:8080/",
          "height": 35
        },
        "outputId": "d5c868ab-e442-40cb-ee04-e8ccb7c64367"
      },
      "source": [
        "#3. What is the last letter of the first sequence, DNA1\n",
        "DNA1[8]"
      ],
      "execution_count": 22,
      "outputs": [
        {
          "output_type": "execute_result",
          "data": {
            "application/vnd.google.colaboratory.intrinsic+json": {
              "type": "string"
            },
            "text/plain": [
              "'T'"
            ]
          },
          "metadata": {
            "tags": []
          },
          "execution_count": 22
        }
      ]
    },
    {
      "cell_type": "code",
      "metadata": {
        "id": "pL4fxaX1hz3D",
        "colab_type": "code",
        "colab": {
          "base_uri": "https://localhost:8080/",
          "height": 35
        },
        "outputId": "e399ba89-70e1-45b9-cdd0-882fc7979c4f"
      },
      "source": [
        "#4. What is the last letter of the second sequence, DNA2\n",
        "DNA2[8]\n"
      ],
      "execution_count": 23,
      "outputs": [
        {
          "output_type": "execute_result",
          "data": {
            "application/vnd.google.colaboratory.intrinsic+json": {
              "type": "string"
            },
            "text/plain": [
              "'A'"
            ]
          },
          "metadata": {
            "tags": []
          },
          "execution_count": 23
        }
      ]
    },
    {
      "cell_type": "code",
      "metadata": {
        "id": "NFu_2B8AiSs6",
        "colab_type": "code",
        "colab": {
          "base_uri": "https://localhost:8080/",
          "height": 34
        },
        "outputId": "4b1b5b93-b1d2-4554-8553-5abee5b5e720"
      },
      "source": [
        "#5.Are the first letters of two sequences the same\n",
        "DNA1[0]==DNA2[0]"
      ],
      "execution_count": 24,
      "outputs": [
        {
          "output_type": "execute_result",
          "data": {
            "text/plain": [
              "False"
            ]
          },
          "metadata": {
            "tags": []
          },
          "execution_count": 24
        }
      ]
    },
    {
      "cell_type": "code",
      "metadata": {
        "id": "t5BJf991ibV6",
        "colab_type": "code",
        "colab": {
          "base_uri": "https://localhost:8080/",
          "height": 34
        },
        "outputId": "33b459dd-b971-430a-f11c-644f8c827292"
      },
      "source": [
        "#6. Are the last letters of two sequences the same\n",
        "DNA1[8]==DNA2[8]"
      ],
      "execution_count": 25,
      "outputs": [
        {
          "output_type": "execute_result",
          "data": {
            "text/plain": [
              "False"
            ]
          },
          "metadata": {
            "tags": []
          },
          "execution_count": 25
        }
      ]
    },
    {
      "cell_type": "code",
      "metadata": {
        "id": "3-9PBYY5inRh",
        "colab_type": "code",
        "colab": {
          "base_uri": "https://localhost:8080/",
          "height": 35
        },
        "outputId": "4315e809-34de-40ce-c348-de018a74a122"
      },
      "source": [
        "#7. What is the 5th letter of the first sequence, DNA1\n",
        "DNA1[4]"
      ],
      "execution_count": 26,
      "outputs": [
        {
          "output_type": "execute_result",
          "data": {
            "application/vnd.google.colaboratory.intrinsic+json": {
              "type": "string"
            },
            "text/plain": [
              "'T'"
            ]
          },
          "metadata": {
            "tags": []
          },
          "execution_count": 26
        }
      ]
    },
    {
      "cell_type": "code",
      "metadata": {
        "id": "PdOuocJHiv2Q",
        "colab_type": "code",
        "colab": {
          "base_uri": "https://localhost:8080/",
          "height": 35
        },
        "outputId": "d248fe72-4309-4f73-e61f-dc56b19cace4"
      },
      "source": [
        "#8. What is the 5th letter of the second sequence, DNA2\n",
        "DNA2[4]"
      ],
      "execution_count": 27,
      "outputs": [
        {
          "output_type": "execute_result",
          "data": {
            "application/vnd.google.colaboratory.intrinsic+json": {
              "type": "string"
            },
            "text/plain": [
              "'A'"
            ]
          },
          "metadata": {
            "tags": []
          },
          "execution_count": 27
        }
      ]
    },
    {
      "cell_type": "code",
      "metadata": {
        "id": "iwad-U82i3Ht",
        "colab_type": "code",
        "colab": {
          "base_uri": "https://localhost:8080/",
          "height": 35
        },
        "outputId": "d9653480-01fd-4ce6-eb7c-a5f90dad988b"
      },
      "source": [
        "#9. What are the first 5 letters of the first sequence, DNA1\n",
        "DNA1[:5]"
      ],
      "execution_count": 28,
      "outputs": [
        {
          "output_type": "execute_result",
          "data": {
            "application/vnd.google.colaboratory.intrinsic+json": {
              "type": "string"
            },
            "text/plain": [
              "'TTCAT'"
            ]
          },
          "metadata": {
            "tags": []
          },
          "execution_count": 28
        }
      ]
    },
    {
      "cell_type": "code",
      "metadata": {
        "id": "049IupJrjBqd",
        "colab_type": "code",
        "colab": {
          "base_uri": "https://localhost:8080/",
          "height": 35
        },
        "outputId": "c5a10db1-38f1-46e0-bad9-93063169777e"
      },
      "source": [
        "#10. What are the first 5 letters of the second sequence, DNA2\n",
        "DNA2[:5]"
      ],
      "execution_count": 29,
      "outputs": [
        {
          "output_type": "execute_result",
          "data": {
            "application/vnd.google.colaboratory.intrinsic+json": {
              "type": "string"
            },
            "text/plain": [
              "'AAAAA'"
            ]
          },
          "metadata": {
            "tags": []
          },
          "execution_count": 29
        }
      ]
    },
    {
      "cell_type": "code",
      "metadata": {
        "id": "h0coGzkejMeu",
        "colab_type": "code",
        "colab": {
          "base_uri": "https://localhost:8080/",
          "height": 35
        },
        "outputId": "9e22c707-904e-4e2e-edd3-cb102b81c2a6"
      },
      "source": [
        "#11. What are the last 5 letters of the first sequence, DNA1\n",
        "DNA1[4:9]"
      ],
      "execution_count": 31,
      "outputs": [
        {
          "output_type": "execute_result",
          "data": {
            "application/vnd.google.colaboratory.intrinsic+json": {
              "type": "string"
            },
            "text/plain": [
              "'TTTAT'"
            ]
          },
          "metadata": {
            "tags": []
          },
          "execution_count": 31
        }
      ]
    },
    {
      "cell_type": "code",
      "metadata": {
        "id": "heyRSUcbjnYs",
        "colab_type": "code",
        "colab": {
          "base_uri": "https://localhost:8080/",
          "height": 35
        },
        "outputId": "c495cfa1-77eb-4d1f-8f0d-6cc007c2639d"
      },
      "source": [
        "#12. What are the last 5 letters of the second sequence, DNA2\n",
        "DNA2[4:9]"
      ],
      "execution_count": 32,
      "outputs": [
        {
          "output_type": "execute_result",
          "data": {
            "application/vnd.google.colaboratory.intrinsic+json": {
              "type": "string"
            },
            "text/plain": [
              "'ATAAA'"
            ]
          },
          "metadata": {
            "tags": []
          },
          "execution_count": 32
        }
      ]
    },
    {
      "cell_type": "code",
      "metadata": {
        "id": "O6sMKrbHj0JG",
        "colab_type": "code",
        "colab": {
          "base_uri": "https://localhost:8080/",
          "height": 35
        },
        "outputId": "b4914598-dbf6-4509-c014-23b2f7328640"
      },
      "source": [
        "#13. How to concatenate the last 5 letters of the first sequence and the last 5 letters of the second sequence together\n",
        "DNA1[4:9] + DNA2[4:9]"
      ],
      "execution_count": 33,
      "outputs": [
        {
          "output_type": "execute_result",
          "data": {
            "application/vnd.google.colaboratory.intrinsic+json": {
              "type": "string"
            },
            "text/plain": [
              "'TTTATATAAA'"
            ]
          },
          "metadata": {
            "tags": []
          },
          "execution_count": 33
        }
      ]
    },
    {
      "cell_type": "code",
      "metadata": {
        "id": "HbxupUMfkT_j",
        "colab_type": "code",
        "colab": {
          "base_uri": "https://localhost:8080/",
          "height": 34
        },
        "outputId": "285ee60e-9335-41bc-c35e-032576d33b46"
      },
      "source": [
        "#Q6. et's continue with the sequence manipulations in python, but this time, we need to call some python's built-in functions. For sequences, DNA1, and DNA2\n",
        "#Please write your python codes for the following activities:\n",
        "\n",
        "#1. How many times does the character A appear in the first sequence DNA1? (hint: use str.count() )\n",
        "DNA1.count(\"A\")"
      ],
      "execution_count": 59,
      "outputs": [
        {
          "output_type": "execute_result",
          "data": {
            "text/plain": [
              "2"
            ]
          },
          "metadata": {
            "tags": []
          },
          "execution_count": 59
        }
      ]
    },
    {
      "cell_type": "code",
      "metadata": {
        "id": "LpYq3yg6n3xY",
        "colab_type": "code",
        "colab": {
          "base_uri": "https://localhost:8080/",
          "height": 34
        },
        "outputId": "8b9aa0f8-de0d-4263-b556-621b30087d1a"
      },
      "source": [
        "#2. How many times does the character A appear in the first sequence DNA2? (hint: use str.count() )\n",
        "DNA2.count(\"A\")"
      ],
      "execution_count": 58,
      "outputs": [
        {
          "output_type": "execute_result",
          "data": {
            "text/plain": [
              "8"
            ]
          },
          "metadata": {
            "tags": []
          },
          "execution_count": 58
        }
      ]
    },
    {
      "cell_type": "code",
      "metadata": {
        "id": "z44C3s6Mow1J",
        "colab_type": "code",
        "colab": {
          "base_uri": "https://localhost:8080/",
          "height": 34
        },
        "outputId": "49adc9fe-2999-42c2-f145-46d2906ab002"
      },
      "source": [
        "#3. What is the index at which the first occurrence of the pattern AT begins in the first sequence DNA1? (hint: use str.index() )\n",
        "DNA1.index(\"AT\")"
      ],
      "execution_count": 60,
      "outputs": [
        {
          "output_type": "execute_result",
          "data": {
            "text/plain": [
              "3"
            ]
          },
          "metadata": {
            "tags": []
          },
          "execution_count": 60
        }
      ]
    },
    {
      "cell_type": "code",
      "metadata": {
        "id": "Dd-kr2NLpBGZ",
        "colab_type": "code",
        "colab": {
          "base_uri": "https://localhost:8080/",
          "height": 34
        },
        "outputId": "07ba3072-d78a-44d5-dc32-dc40c372bb2a"
      },
      "source": [
        "#4. What is the index at which the first occurrence of the pattern AT begins in the second sequence DNA2? (hint: use str.index() )\n",
        "DNA2.index(\"AT\")"
      ],
      "execution_count": 61,
      "outputs": [
        {
          "output_type": "execute_result",
          "data": {
            "text/plain": [
              "4"
            ]
          },
          "metadata": {
            "tags": []
          },
          "execution_count": 61
        }
      ]
    }
  ]
}