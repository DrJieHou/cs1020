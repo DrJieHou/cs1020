{
  "nbformat": 4,
  "nbformat_minor": 0,
  "metadata": {
    "colab": {
      "name": "Lab01.ipynb",
      "provenance": [],
      "collapsed_sections": []
    },
    "kernelspec": {
      "name": "python3",
      "display_name": "Python 3"
    }
  },
  "cells": [
    {
      "cell_type": "code",
      "metadata": {
        "id": "_q4Evy7jTfOL",
        "colab_type": "code",
        "colab": {
          "base_uri": "https://localhost:8080/",
          "height": 572
        },
        "outputId": "8952373f-921f-4a47-8e8d-c29b41a3b405"
      },
      "source": [
        "#Assume that we have our first DNA sequence that has a string as 'TTCATTTAT', which is comprised of four nucleotides (e.g. A, T, C, G). We would like to define a variable called 'DNA1', and assign the sequence to this variable. Then we need to print the variable by print(\"DNA1: \", DNA1)\n",
        "#Please write your python codes for this activity.\n",
        "DNA1 = \"TTCATTTAT\"\n",
        "print(\"1. DNA 1 = \" + str(DNA1))\n",
        "#Again, we have our second DNA sequence that has a string as 'AAAAATAAA'. We would like to assign this sequence to another variable called 'DNA2', and print the variable by print(\"DNA2: \", DNA2).\n",
        "#Please write your python codes for this activity.\n",
        "DNA2 = \"AAAAATAAA\"\n",
        "print(\"\\n2. DNA 2 = \" + str(DNA2))\n",
        "#Now we have got two sequences, which were assigned two variables, DNA1, and DNA2. We would like to calculate the length of the two sequences and assign the length values to new variables, named DNA1_length and DNA2_length. Similarly, please print the values of the new variables.\n",
        "#Please write your python codes for this activity.\n",
        "DNA1_length = len(DNA1)\n",
        "DNA2_length = len(DNA2)\n",
        "print(\"\\n3.1. length of DNA 1 = \" + str(DNA1_length))\n",
        "print(\"3.2. length of DNA 2 = \" + str(DNA2_length))\n",
        "#Based on the three steps above, we got two variables that store DNA sequences (DNA1, and DNA2), and also two variables that store the length of DNA sequences (DNA1_length and DNA2_length), We are curious on the equality of the length of two DNA sequences.\n",
        "#Please write your python codes for the following questions:\n",
        "print(\"\\n4.1. Is the length of DNA1 equal to the length of DNA2? \" + str(DNA1_length == DNA2_length)) \n",
        "print(\"4.2. Is the length of DNA1 not equal to the length of DNA2? \" + str(DNA1_length != DNA2_length))\n",
        "print(\"4.3. Is the length of DNA1 larger than the length of DNA2? \" + str(DNA1_length > DNA2_length))\n",
        "print(\"4.4. Is the length of DNA1 smaller than the length of DNA2? \" + str(DNA1_length < DNA2_length))\n",
        "#Now let's do some sequence manipulations in python. For sequences, DNA1, and DNA2\n",
        "#Please write your python codes for the following activities:\n",
        "print(\"\\n5.1. What is the first letter of the first sequence, DNA1? \" + DNA1[0])\n",
        "print(\"5.2. What is the first letter of the second sequence, DNA2? \" + DNA2[0])\n",
        "print(\"5.3. What is the last letter of the first sequence, DNA1? \" + DNA1[-1])\n",
        "print(\"5.4. what is the last letter of the first sequence, DNA2? \" + DNA2[-1])\n",
        "print(\"5.5. Are the first letters of two sequences the same? \" + str(DNA1[0] == DNA2[0]))\n",
        "print(\"5.6. Are the last letters of two sequences the same? \" + str(DNA1[-1] == DNA2[-1]))\n",
        "print(\"5.7. What is the 5th letter of the first sequence, DNA1? \" + DNA1[4])\n",
        "print(\"5.8. What is the 5th letter of the second sequence, DNA2? \" + DNA2[4])\n",
        "print(\"5.9. What are the first 5 letters of the first sequence, DNA1? \" + DNA1[0:5])\n",
        "print(\"5.10. What are the first 5 letters of the second sequence, DNA2? \" + DNA2[0:5])\n",
        "print(\"5.11. What are the last 5 letters of the first sequence, DNA1? \" + DNA1[4:9])\n",
        "print(\"5.12. What are the last 5 letters of the second sequence, DNA2? \" + DNA2[4:9])\n",
        "print(\"5.13. How to concatenate the last 5 letters of the first sequence and the last 5 letters of the second sequence together? \" + DNA1[4:9] + DNA2[4:9])\n",
        "print(\"\\n6.1. How many times does the character A appear in the first sequence DNA1? \" + str(DNA1.count(\"A\")))\n",
        "print(\"6.2. How many times does the character A appear in the first sequence DNA2? \" + str(DNA2.count(\"A\")))\n",
        "print(\"6.3. What is the index at which the first occurrence of the pattern AT begins in the first sequence DNA1? \" + str(DNA1.index(\"AT\")))\n",
        "print(\"6.4. What is the index at which the first occurrence of the pattern AT begins in the second sequence DNA2? \" + str(DNA2.index(\"AT\")))\n",
        "print(\"\\nDone.\")\n"
      ],
      "execution_count": 63,
      "outputs": [
        {
          "output_type": "stream",
          "text": [
            "1. DNA 1 = TTCATTTAT\n",
            "\n",
            "2. DNA 2 = AAAAATAAA\n",
            "\n",
            "3.1. length of DNA 1 = 9\n",
            "3.2. length of DNA 2 = 9\n",
            "\n",
            "4.1. Is the length of DNA1 equal to the length of DNA2? True\n",
            "4.2. Is the length of DNA1 not equal to the length of DNA2? False\n",
            "4.3. Is the length of DNA1 larger than the length of DNA2? False\n",
            "4.4. Is the length of DNA1 smaller than the length of DNA2? False\n",
            "\n",
            "5.1. What is the first letter of the first sequence, DNA1? T\n",
            "5.2. What is the first letter of the second sequence, DNA2? A\n",
            "5.3. What is the last letter of the first sequence, DNA1? T\n",
            "5.4. what is the last letter of the first sequence, DNA2? A\n",
            "5.5. Are the first letters of two sequences the same? False\n",
            "5.6. Are the last letters of two sequences the same? False\n",
            "5.7. What is the 5th letter of the first sequence, DNA1? T\n",
            "5.8. What is the 5th letter of the second sequence, DNA2? A\n",
            "5.9. What are the first 5 letters of the first sequence, DNA1? TTCAT\n",
            "5.10. What are the first 5 letters of the second sequence, DNA2? AAAAA\n",
            "5.11. What are the last 5 letters of the first sequence, DNA1? TTTAT\n",
            "5.12. What are the last 5 letters of the second sequence, DNA2? ATAAA\n",
            "5.13. How to concatenate the last 5 letters of the first sequence and the last 5 letters of the second sequence together? TTTATATAAA\n",
            "\n",
            "6.1. How many times does the character A appear in the first sequence DNA1? 2\n",
            "6.2. How many times does the character A appear in the first sequence DNA2? 8\n",
            "6.3. What is the index at which the first occurrence of the pattern AT begins in the first sequence DNA1? 3\n",
            "6.4. What is the index at which the first occurrence of the pattern AT begins in the second sequence DNA2? 4\n",
            "\n",
            "Done.\n"
          ],
          "name": "stdout"
        }
      ]
    }
  ]
}