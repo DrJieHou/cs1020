{
  "nbformat": 4,
  "nbformat_minor": 0,
  "metadata": {
    "colab": {
      "name": "lab01.ipynb",
      "provenance": []
    },
    "kernelspec": {
      "name": "python3",
      "display_name": "Python 3"
    }
  },
  "cells": [
    {
      "cell_type": "code",
      "metadata": {
        "id": "JlM20i2d8Nc5",
        "colab_type": "code",
        "colab": {
          "base_uri": "https://localhost:8080/",
          "height": 50
        },
        "outputId": "7d0f286d-cdc7-4d63-f073-00309a016ff3"
      },
      "source": [
        "DNA1 = [\"T\", \"T\", \"C\", \"A\", \"T\", \"T\", \"T\", \"A\", \"T\"]\n",
        "print(type(DNA1))\n",
        "print(\"DNA1: \", DNA1)"
      ],
      "execution_count": null,
      "outputs": [
        {
          "output_type": "stream",
          "text": [
            "<class 'list'>\n",
            "DNA1:  ['T', 'T', 'C', 'A', 'T', 'T', 'T', 'A', 'T']\n"
          ],
          "name": "stdout"
        }
      ]
    },
    {
      "cell_type": "code",
      "metadata": {
        "id": "uOp962ykuYEy",
        "colab_type": "code",
        "colab": {
          "base_uri": "https://localhost:8080/",
          "height": 50
        },
        "outputId": "b3cf954b-6555-41e7-8a34-db5928284213"
      },
      "source": [
        "DNA2 = [\"A\", \"A\", \"A\", \"A\", \"A\", \"T\", \"A\", \"A\", \"A\"]\n",
        "print(type(DNA2))\n",
        "\n",
        "print(\"DNA2: \", DNA2)"
      ],
      "execution_count": null,
      "outputs": [
        {
          "output_type": "stream",
          "text": [
            "<class 'list'>\n",
            "DNA2:  ['A', 'A', 'A', 'A', 'A', 'T', 'A', 'A', 'A']\n"
          ],
          "name": "stdout"
        }
      ]
    },
    {
      "cell_type": "code",
      "metadata": {
        "id": "PnAfRifCuZcy",
        "colab_type": "code",
        "colab": {
          "base_uri": "https://localhost:8080/",
          "height": 50
        },
        "outputId": "def8f8c2-f541-4584-a512-cb5d70a3bad9"
      },
      "source": [
        "print(len(DNA1))\n",
        "print(len(DNA2))\n",
        "\n",
        "DNA1_length = '9'\n",
        "DNA2_length = '9'"
      ],
      "execution_count": null,
      "outputs": [
        {
          "output_type": "stream",
          "text": [
            "9\n",
            "9\n"
          ],
          "name": "stdout"
        }
      ]
    },
    {
      "cell_type": "code",
      "metadata": {
        "id": "qo2bu3cOuasf",
        "colab_type": "code",
        "colab": {
          "base_uri": "https://localhost:8080/",
          "height": 84
        },
        "outputId": "bba844f2-cb32-4f0e-d2fc-b0d78bcf4593"
      },
      "source": [
        "print(DNA1_length == DNA2_length)\n",
        "\n",
        "print(DNA1_length != DNA2_length)\n",
        "\n",
        "print(DNA1_length > DNA2_length)\n",
        "\n",
        "print(DNA1_length < DNA2_length)"
      ],
      "execution_count": null,
      "outputs": [
        {
          "output_type": "stream",
          "text": [
            "True\n",
            "False\n",
            "False\n",
            "False\n"
          ],
          "name": "stdout"
        }
      ]
    },
    {
      "cell_type": "code",
      "metadata": {
        "id": "3M56Xuk8vzMc",
        "colab_type": "code",
        "colab": {
          "base_uri": "https://localhost:8080/",
          "height": 168
        },
        "outputId": "422de008-a8a8-4b85-d822-6450d56bc6a9"
      },
      "source": [
        "len(DNA1)\n",
        "len(DNA2)\n",
        "\n",
        "DNA1[0] #Q1\n",
        "DNA2[1] #Q2\n",
        "DNA1[8] #Q3\n",
        "DNA2[8] #Q4\n",
        "\n",
        "print(DNA1[0:2]) #Q5\n",
        "print(DNA2[0:2]) \n",
        "\n",
        "print(DNA1[7:]) #Q6\n",
        "print(DNA2[7:])\n",
        "\n",
        "DNA1[4] #Q7\n",
        "DNA2[4] #Q8\n",
        "\n",
        "print(DNA1[:5]) #Q9\n",
        "print(DNA1[:5]) #Q10\n",
        "\n",
        "print(DNA1[4:]) #Q11\n",
        "print(DNA2[4:]) #Q12\n",
        "\n",
        "DNA3 = DNA1[4:] + DNA2[:5] #Q13\n",
        "print(DNA3)"
      ],
      "execution_count": null,
      "outputs": [
        {
          "output_type": "stream",
          "text": [
            "['T', 'T']\n",
            "['A', 'A']\n",
            "['A', 'T']\n",
            "['A', 'A']\n",
            "['T', 'T', 'C', 'A', 'T']\n",
            "['T', 'T', 'C', 'A', 'T']\n",
            "['T', 'T', 'T', 'A', 'T']\n",
            "['A', 'T', 'A', 'A', 'A']\n",
            "['T', 'T', 'T', 'A', 'T', 'A', 'A', 'A', 'A', 'A']\n"
          ],
          "name": "stdout"
        }
      ]
    },
    {
      "cell_type": "code",
      "metadata": {
        "id": "0vNlGKiKmX4a",
        "colab_type": "code",
        "colab": {
          "base_uri": "https://localhost:8080/",
          "height": 34
        },
        "outputId": "22a340e4-0cf4-4112-e0a4-203f5a808bcc"
      },
      "source": [
        "DNA1Seq = \"TTCATTTAT\"\n",
        "Nucleotide1 = \"A\"\n",
        "\n",
        "count = DNA1Seq.count(Nucleotide1)\n",
        "\n",
        "print(count)\n",
        "\n"
      ],
      "execution_count": 42,
      "outputs": [
        {
          "output_type": "stream",
          "text": [
            "2\n"
          ],
          "name": "stdout"
        }
      ]
    },
    {
      "cell_type": "code",
      "metadata": {
        "id": "rUozRYZmwmy9",
        "colab_type": "code",
        "colab": {
          "base_uri": "https://localhost:8080/",
          "height": 34
        },
        "outputId": "36ec84cc-2d25-4e36-d34e-46ec0c9c6a2c"
      },
      "source": [
        "\n",
        "DNA2Seq = \"AAAAATAAA\"\n",
        "Nucleotide2 = \"A\"\n",
        "\n",
        "count = DNA2Seq.count(Nucleotide2)\n",
        "\n",
        "print(count)"
      ],
      "execution_count": 43,
      "outputs": [
        {
          "output_type": "stream",
          "text": [
            "8\n"
          ],
          "name": "stdout"
        }
      ]
    },
    {
      "cell_type": "code",
      "metadata": {
        "id": "QNAWLyFlyzym",
        "colab_type": "code",
        "colab": {
          "base_uri": "https://localhost:8080/",
          "height": 34
        },
        "outputId": "e6493964-7071-42b3-cfd7-a65bdd1a7368"
      },
      "source": [
        "Seq1 = \"TTCATTTAT\"\n",
        "index1 = Seq1.index('AT')\n",
        "\n",
        "print(index1)"
      ],
      "execution_count": 45,
      "outputs": [
        {
          "output_type": "stream",
          "text": [
            "3\n"
          ],
          "name": "stdout"
        }
      ]
    },
    {
      "cell_type": "code",
      "metadata": {
        "id": "wPByxsjVzQCw",
        "colab_type": "code",
        "colab": {
          "base_uri": "https://localhost:8080/",
          "height": 34
        },
        "outputId": "cbab8e6c-e66d-4bb5-b3e8-e4f9f06a1251"
      },
      "source": [
        "Seq2 = \"AAAAATAAA\"\n",
        "index2 = Seq2.index('AT')\n",
        "\n",
        "print(index2)"
      ],
      "execution_count": 46,
      "outputs": [
        {
          "output_type": "stream",
          "text": [
            "4\n"
          ],
          "name": "stdout"
        }
      ]
    }
  ]
}