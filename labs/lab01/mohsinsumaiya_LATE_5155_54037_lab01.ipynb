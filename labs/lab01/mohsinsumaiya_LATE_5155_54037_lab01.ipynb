{
  "nbformat": 4,
  "nbformat_minor": 0,
  "metadata": {
    "colab": {
      "name": "lab01.ipynb",
      "provenance": []
    },
    "kernelspec": {
      "name": "python3",
      "display_name": "Python 3"
    }
  },
  "cells": [
    {
      "cell_type": "code",
      "metadata": {
        "id": "JDz-TgCiaOj_",
        "colab_type": "code",
        "colab": {
          "base_uri": "https://localhost:8080/",
          "height": 221
        },
        "outputId": "6dc66d3e-1450-43b9-8a06-23073c007d7a"
      },
      "source": [
        "\n",
        "\n",
        "DNA1 = 'TTCATTTAT'\n",
        "DNA1_length = len(DNA1) \n",
        "print(\"DNA1: \", DNA1)\n",
        "print(\"DNA1 length:\", DNA1_length) \n",
        "DNA2 = 'AAAAATAAA'\n",
        "DNA2_length = len(DNA2)\n",
        "print(\"DNA2: \", DNA2)\n",
        "print(\"DNA2 length:\", DNA2_length)\n",
        "DNA1_length==DNA2_length\n",
        "DNA1_length!=DNA2_length\n",
        "DNA1_length> DNA2_length\n",
        "DNA1_length< DNA2_length\n",
        "DNA1[0]\n",
        "DNA2[0]\n",
        "DNA1[8]\n",
        "DNA2[8]\n",
        "if (DNA1[0]!=DNA2[0]):\n",
        "  print('the first letter of the two sequences are not the same')\n",
        "if (DNA1[8]!=DNA2[8]):\n",
        "  print('the last letter of the two sequences are not the same')\n",
        "\n",
        "DNA1[5]\n",
        "DNA2[5]\n",
        "nt_seq1=DNA1[0:5]\n",
        "print(nt_seq1)\n",
        "nt_seq2=DNA2[0:5]\n",
        "print(nt_seq2)\n",
        "nt_seq3=DNA1[4:9]\n",
        "print(nt_seq3)\n",
        "nt_seq4=DNA2[4:9]\n",
        "print(nt_seq4)\n",
        "print(nt_seq3+nt_seq4)\n",
        "DNA1.count('A')\n",
        "DNA2.count('A')\n",
        "DNA1.index('AT')\n",
        "DNA2.index('AT')"
      ],
      "execution_count": 47,
      "outputs": [
        {
          "output_type": "stream",
          "text": [
            "DNA1:  TTCATTTAT\n",
            "DNA1 length: 9\n",
            "DNA2:  AAAAATAAA\n",
            "DNA2 length: 9\n",
            "the first letter of the two sequences are not the same\n",
            "the last letter of the two sequences are not the same\n",
            "TTCAT\n",
            "AAAAA\n",
            "TTTAT\n",
            "ATAAA\n",
            "TTTATATAAA\n"
          ],
          "name": "stdout"
        },
        {
          "output_type": "execute_result",
          "data": {
            "text/plain": [
              "4"
            ]
          },
          "metadata": {
            "tags": []
          },
          "execution_count": 47
        }
      ]
    }
  ]
}