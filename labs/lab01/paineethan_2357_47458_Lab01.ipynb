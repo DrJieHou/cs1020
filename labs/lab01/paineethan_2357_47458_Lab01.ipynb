{
  "nbformat": 4,
  "nbformat_minor": 0,
  "metadata": {
    "colab": {
      "name": "Lab01.ipynb",
      "provenance": []
    },
    "kernelspec": {
      "name": "python3",
      "display_name": "Python 3"
    }
  },
  "cells": [
    {
      "cell_type": "code",
      "metadata": {
        "id": "xPYVVwZZc_T8",
        "colab_type": "code",
        "colab": {
          "base_uri": "https://localhost:8080/",
          "height": 300
        },
        "outputId": "89060cfc-c730-4a0e-cd12-64276b616ce2"
      },
      "source": [
        "# Q1: Assume that we have our first DNA sequence that has a string as 'TTCATTTAT', which is comprised of four nucleotides (e.g. A, T, C, G). We would like to define a variable called 'DNA1', and assign the sequence to this variable. Then we need to print the variable by print(\"DNA1: \", DNA1) \n",
        "# Please write your python codes for this activity.\n",
        "DNA1 = 'TTCATTTAT'\n",
        "print(DNA1)\n",
        "# Q:2 Again, we have our second DNA sequence that has a string as 'AAAAATAAA'. We would like to assign this sequence to another variable called 'DNA2', and print the variable by print(\"DNA2: \", DNA2). \n",
        "# Please write your python codes for this activity.\n",
        "DNA2 = 'AAAAATAAA'\n",
        "print(DNA2)\n",
        "# Q3: Now we have got two sequences, which were assigned two variables, DNA1, and DNA2. We would like to calculate the length of the two sequences and assign the length values to new variables, named DNA1_length and DNA2_length. Similarly, please print the values of the new variables. \n",
        "# Please write your python codes for this activity.\n",
        "len(DNA1)\n",
        "DNA1_length = len(DNA1)\n",
        "len(DNA2)\n",
        "DNA2_length = len(DNA2)\n",
        "print(DNA1_length)\n",
        "print(DNA2_length)\n",
        "# Q4: Based on the three steps above, we got two variables that store DNA sequences (DNA1, and DNA2), and also two variables that store the length of DNA sequences (DNA1_length and DNA2_length), We are curious on the equality of the length of two DNA sequences. \n",
        "# Please write your python codes for the following questions:\n",
        "# 1. Is the length of DNA1 equal to the length of DNA2?\n",
        "DNA1_length == DNA2_length\n",
        "# 2. Is the length of DNA1  not equal to the length of DNA2?\n",
        "DNA1_length != DNA2_length\n",
        "# 3. Is the length of DNA1 larger than the length of DNA2?\n",
        "DNA1_length > DNA2_length\n",
        "# 4. Is the length of DNA1 smaller than the length of DNA2?\n",
        "DNA1_length < DNA2_length\n",
        "\n",
        "# 5. Now let's do some sequence manipulations in python. For sequences, DNA1, and DNA2 \n",
        "# Please write your python codes for the following activities:\n",
        "#1. What is the first letter of the first sequence, DNA1?\n",
        "DNA1 [0]\n",
        "# 2. What is the first letter of the second sequence, DNA2?\n",
        "DNA2 [0]\n",
        "# 3. What is the last letter of the first sequence, DNA1?\n",
        "DNA1 [8]\n",
        "# 4. What is the last letter of the second sequence, DNA2?\n",
        "DNA2 [8]\n",
        "# 5. Are the first letters of two sequences the same?\n",
        "DNA1 [0] == DNA2 [0]\n",
        "# 6. Are the last letters of two sequences the same?\n",
        "DNA1 [8] == DNA2 [8]\n",
        "# 7. What is the 5th letter of the first sequence, DNA1?\n",
        "DNA1 [4]\n",
        "# 8. What is the 5th letter of the second sequence, DNA2?\n",
        "DNA2 [4]\n",
        "# 9. What are the first 5 letters of the first sequence, DNA1?\n",
        "DNA1 [0:5]\n",
        "# 10. What are the first 5 letters of the second sequence, DNA2?\n",
        "DNA2 [0:5]\n",
        "# 11. What are the last 5 letters of the first sequence, DNA1?\n",
        "DNA1 [4:]\n",
        "# 12. What are the last 5 letters of the second sequence, DNA2?\n",
        "DNA2 [4:]\n",
        "# 13. How to concatenate the last 5 letters of the first sequence and the last 5 letters of the second sequence together?\n",
        "DNA1 [4:] + DNA2 [4:]\n",
        "\n",
        "# 6. Let's continue with the sequence manipulations in python, but this time, we need to call some python's built-in functions. For sequences, DNA1, and DNA2 \n",
        "# Please write your python codes for the following activities:\n",
        "# 1. How many times does the character A appear in the first sequence DNA1? (hint: use str.count() )\n",
        "str.count(DNA1[0:8])\n",
        "# 2. How many times does the character A appear in the first sequence DNA2? (hint: use str.count() )\n",
        "str.count(DNA2[0:8])\n",
        "# 3. What is the index at which the first occurrence of the pattern AT begins in the first sequence DNA1? (hint: use str.index() )\n",
        "str.index(DNA1[4:5])\n",
        "# 4. What is the index at which the first occurrence of the pattern AT begins in the second sequence DNA2? (hint: use str.index() )\n",
        "str.index(DNA2[4:5])\n"
      ],
      "execution_count": 47,
      "outputs": [
        {
          "output_type": "stream",
          "text": [
            "TTCATTTAT\n",
            "AAAAATAAA\n",
            "9\n",
            "9\n"
          ],
          "name": "stdout"
        },
        {
          "output_type": "error",
          "ename": "TypeError",
          "evalue": "ignored",
          "traceback": [
            "\u001b[0;31m---------------------------------------------------------------------------\u001b[0m",
            "\u001b[0;31mTypeError\u001b[0m                                 Traceback (most recent call last)",
            "\u001b[0;32m<ipython-input-47-9c68b584bf15>\u001b[0m in \u001b[0;36m<module>\u001b[0;34m()\u001b[0m\n\u001b[1;32m     58\u001b[0m \u001b[0;31m# Please write your python codes for the following activities:\u001b[0m\u001b[0;34m\u001b[0m\u001b[0;34m\u001b[0m\u001b[0;34m\u001b[0m\u001b[0m\n\u001b[1;32m     59\u001b[0m \u001b[0;31m# 1. How many times does the character A appear in the first sequence DNA1? (hint: use str.count() )\u001b[0m\u001b[0;34m\u001b[0m\u001b[0;34m\u001b[0m\u001b[0;34m\u001b[0m\u001b[0m\n\u001b[0;32m---> 60\u001b[0;31m \u001b[0mstr\u001b[0m\u001b[0;34m.\u001b[0m\u001b[0mcount\u001b[0m\u001b[0;34m(\u001b[0m\u001b[0mDNA1\u001b[0m\u001b[0;34m[\u001b[0m\u001b[0;36m0\u001b[0m\u001b[0;34m:\u001b[0m\u001b[0;36m8\u001b[0m\u001b[0;34m]\u001b[0m\u001b[0;34m)\u001b[0m\u001b[0;34m\u001b[0m\u001b[0;34m\u001b[0m\u001b[0m\n\u001b[0m\u001b[1;32m     61\u001b[0m \u001b[0;31m# 2. How many times does the character A appear in the first sequence DNA2? (hint: use str.count() )\u001b[0m\u001b[0;34m\u001b[0m\u001b[0;34m\u001b[0m\u001b[0;34m\u001b[0m\u001b[0m\n\u001b[1;32m     62\u001b[0m \u001b[0mstr\u001b[0m\u001b[0;34m.\u001b[0m\u001b[0mcount\u001b[0m\u001b[0;34m(\u001b[0m\u001b[0mDNA2\u001b[0m\u001b[0;34m[\u001b[0m\u001b[0;36m0\u001b[0m\u001b[0;34m:\u001b[0m\u001b[0;36m8\u001b[0m\u001b[0;34m]\u001b[0m\u001b[0;34m)\u001b[0m\u001b[0;34m\u001b[0m\u001b[0;34m\u001b[0m\u001b[0m\n",
            "\u001b[0;31mTypeError\u001b[0m: count() takes at least 1 argument (0 given)"
          ]
        }
      ]
    }
  ]
}