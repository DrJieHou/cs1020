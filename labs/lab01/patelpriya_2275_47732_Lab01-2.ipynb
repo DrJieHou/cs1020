{
  "nbformat": 4,
  "nbformat_minor": 0,
  "metadata": {
    "colab": {
      "name": "Lab01.ipynb",
      "provenance": [],
      "collapsed_sections": []
    },
    "kernelspec": {
      "name": "python3",
      "display_name": "Python 3"
    }
  },
  "cells": [
    {
      "cell_type": "code",
      "metadata": {
        "id": "IXp2Sxl0JD0f",
        "colab_type": "code",
        "colab": {}
      },
      "source": [
        "# Q1: Assume that we have our first DNA sequence that has a string as 'TTCATTTAT', which is comprised of four nucleotides (e.g. A, T, C, G). We would like to define a variable called 'DNA1', and assign the sequence to this variable. Then we need to print the variable by print(\"DNA1: \", DNA1) \n",
        "# Please write your python codes for this activity."
      ],
      "execution_count": null,
      "outputs": []
    },
    {
      "cell_type": "code",
      "metadata": {
        "id": "orzZrKwqJH-z",
        "colab_type": "code",
        "colab": {
          "base_uri": "https://localhost:8080/",
          "height": 34
        },
        "outputId": "71416ca9-1d67-40b5-ac83-89b37f50a384"
      },
      "source": [
        "DNA1 = 'TTCATTTAT'\n",
        "print(DNA1)"
      ],
      "execution_count": null,
      "outputs": [
        {
          "output_type": "stream",
          "text": [
            "TTCATTTAT\n"
          ],
          "name": "stdout"
        }
      ]
    },
    {
      "cell_type": "code",
      "metadata": {
        "id": "wPVhkHLbJNCg",
        "colab_type": "code",
        "colab": {}
      },
      "source": [
        "# Q2: Again, we have our second DNA sequence that has a string as 'AAAAATAAA'. We would like to assign this sequence to another variable called 'DNA2', and print the variable by print(\"DNA2: \", DNA2). \n",
        "# Please write your python codes for this activity."
      ],
      "execution_count": null,
      "outputs": []
    },
    {
      "cell_type": "code",
      "metadata": {
        "id": "8JgZcanwJNgl",
        "colab_type": "code",
        "colab": {
          "base_uri": "https://localhost:8080/",
          "height": 34
        },
        "outputId": "8b61f421-c1aa-4e87-a1ba-c34c334112f9"
      },
      "source": [
        "DNA2 = 'AAAAATAAA'\n",
        "print(DNA2)"
      ],
      "execution_count": null,
      "outputs": [
        {
          "output_type": "stream",
          "text": [
            "AAAAATAAA\n"
          ],
          "name": "stdout"
        }
      ]
    },
    {
      "cell_type": "code",
      "metadata": {
        "id": "ga13uTE5JPTe",
        "colab_type": "code",
        "colab": {}
      },
      "source": [
        "# Q3: Now we have got two sequences, which were assigned two variables, DNA1, and DNA2. We would like to calculate the length of the two sequences and assign the length values to new variables, named DNA1_length and DNA2_length. Similarly, please print the values of the new variables. \n",
        "# Please write your python codes for this activity."
      ],
      "execution_count": null,
      "outputs": []
    },
    {
      "cell_type": "code",
      "metadata": {
        "id": "ycSgSxNHJRUU",
        "colab_type": "code",
        "colab": {
          "base_uri": "https://localhost:8080/",
          "height": 34
        },
        "outputId": "e9badd66-c88a-4e18-ea43-2843ea28cbc2"
      },
      "source": [
        "DNA1_length = len(DNA1)\n",
        "print(DNA1_length)"
      ],
      "execution_count": null,
      "outputs": [
        {
          "output_type": "stream",
          "text": [
            "9\n"
          ],
          "name": "stdout"
        }
      ]
    },
    {
      "cell_type": "code",
      "metadata": {
        "id": "3Rj6KYNgJYCD",
        "colab_type": "code",
        "colab": {
          "base_uri": "https://localhost:8080/",
          "height": 34
        },
        "outputId": "897643f2-b7b4-472d-9446-937c7983cc30"
      },
      "source": [
        "DNA2_length = len(DNA2)\n",
        "print(DNA2_length)"
      ],
      "execution_count": null,
      "outputs": [
        {
          "output_type": "stream",
          "text": [
            "9\n"
          ],
          "name": "stdout"
        }
      ]
    },
    {
      "cell_type": "code",
      "metadata": {
        "id": "zB925qmbJaCj",
        "colab_type": "code",
        "colab": {}
      },
      "source": [
        "# Q4: Based on the three steps above, we got two variables that store DNA sequences (DNA1, and DNA2), and also two variables that store the length of DNA sequences (DNA1_length and DNA2_length), We are curious on the equality of the length of two DNA sequences. \n",
        "# Please write your python codes for the following questions:\n",
        "\n",
        "# 1. Is the length of DNA1 equal to the length of DNA2?"
      ],
      "execution_count": null,
      "outputs": []
    },
    {
      "cell_type": "code",
      "metadata": {
        "id": "6QXHRETT8WXq",
        "colab_type": "code",
        "colab": {
          "base_uri": "https://localhost:8080/",
          "height": 34
        },
        "outputId": "9af0d4a1-02d5-41ad-a4d1-c72d193bb2d1"
      },
      "source": [
        "len(DNA1) == len(DNA2)"
      ],
      "execution_count": null,
      "outputs": [
        {
          "output_type": "execute_result",
          "data": {
            "text/plain": [
              "True"
            ]
          },
          "metadata": {
            "tags": []
          },
          "execution_count": 8
        }
      ]
    },
    {
      "cell_type": "code",
      "metadata": {
        "id": "7o83ed-29Jsh",
        "colab_type": "code",
        "colab": {}
      },
      "source": [
        "# 2. Is the length of DNA1  not equal to the length of DNA2?"
      ],
      "execution_count": null,
      "outputs": []
    },
    {
      "cell_type": "code",
      "metadata": {
        "id": "OksELEd59L3j",
        "colab_type": "code",
        "colab": {
          "base_uri": "https://localhost:8080/",
          "height": 34
        },
        "outputId": "78e10da4-2f53-4787-f67e-c0c13ccfda4e"
      },
      "source": [
        "len(DNA1) != len(DNA2)"
      ],
      "execution_count": null,
      "outputs": [
        {
          "output_type": "execute_result",
          "data": {
            "text/plain": [
              "False"
            ]
          },
          "metadata": {
            "tags": []
          },
          "execution_count": 9
        }
      ]
    },
    {
      "cell_type": "code",
      "metadata": {
        "id": "MpkooQm_9Qix",
        "colab_type": "code",
        "colab": {}
      },
      "source": [
        "# 3. Is the length of DNA1 larger than the length of DNA2?"
      ],
      "execution_count": null,
      "outputs": []
    },
    {
      "cell_type": "code",
      "metadata": {
        "id": "40Zt1Qyj9SQW",
        "colab_type": "code",
        "colab": {
          "base_uri": "https://localhost:8080/",
          "height": 34
        },
        "outputId": "b83d650a-db2f-4d05-9b1a-abf99d2f597a"
      },
      "source": [
        "len(DNA1) >= len(DNA2)"
      ],
      "execution_count": null,
      "outputs": [
        {
          "output_type": "execute_result",
          "data": {
            "text/plain": [
              "True"
            ]
          },
          "metadata": {
            "tags": []
          },
          "execution_count": 10
        }
      ]
    },
    {
      "cell_type": "code",
      "metadata": {
        "id": "bO4BX2mH9cYz",
        "colab_type": "code",
        "colab": {}
      },
      "source": [
        "# 4. Is the length of DNA1 smaller than the length of DNA2?"
      ],
      "execution_count": null,
      "outputs": []
    },
    {
      "cell_type": "code",
      "metadata": {
        "id": "UzFsAW_59dQ2",
        "colab_type": "code",
        "colab": {
          "base_uri": "https://localhost:8080/",
          "height": 34
        },
        "outputId": "f24a6757-27ac-4c22-a245-62f56d74cc93"
      },
      "source": [
        "len(DNA1) < len(DNA2)"
      ],
      "execution_count": null,
      "outputs": [
        {
          "output_type": "execute_result",
          "data": {
            "text/plain": [
              "False"
            ]
          },
          "metadata": {
            "tags": []
          },
          "execution_count": 11
        }
      ]
    },
    {
      "cell_type": "code",
      "metadata": {
        "id": "iAeevK1PLLYE",
        "colab_type": "code",
        "colab": {}
      },
      "source": [
        "# Q5: Now let's do some sequence manipulations in python. For sequences, DNA1, and DNA2 \n",
        "# Please write your python codes for the following activities:\n",
        "\n",
        "# 1. What is the first letter of the first sequence, DNA1?"
      ],
      "execution_count": null,
      "outputs": []
    },
    {
      "cell_type": "code",
      "metadata": {
        "id": "wwGRO_iOLdG2",
        "colab_type": "code",
        "colab": {
          "base_uri": "https://localhost:8080/",
          "height": 37
        },
        "outputId": "cf58ab95-0486-43b0-ee40-2ac5a867f12a"
      },
      "source": [
        "(DNA1)[0]"
      ],
      "execution_count": null,
      "outputs": [
        {
          "output_type": "execute_result",
          "data": {
            "application/vnd.google.colaboratory.intrinsic+json": {
              "type": "string"
            },
            "text/plain": [
              "'T'"
            ]
          },
          "metadata": {
            "tags": []
          },
          "execution_count": 16
        }
      ]
    },
    {
      "cell_type": "code",
      "metadata": {
        "id": "-aA_dzqR9pQW",
        "colab_type": "code",
        "colab": {}
      },
      "source": [
        "# 2. What is the first letter of the second sequence, DNA2?"
      ],
      "execution_count": null,
      "outputs": []
    },
    {
      "cell_type": "code",
      "metadata": {
        "id": "s5SZllmaLgDS",
        "colab_type": "code",
        "colab": {
          "base_uri": "https://localhost:8080/",
          "height": 37
        },
        "outputId": "4eed59f8-833c-4de2-8211-183aa036777b"
      },
      "source": [
        "(DNA2)[0]"
      ],
      "execution_count": null,
      "outputs": [
        {
          "output_type": "execute_result",
          "data": {
            "application/vnd.google.colaboratory.intrinsic+json": {
              "type": "string"
            },
            "text/plain": [
              "'A'"
            ]
          },
          "metadata": {
            "tags": []
          },
          "execution_count": 17
        }
      ]
    },
    {
      "cell_type": "code",
      "metadata": {
        "id": "C--tBaHb9qrU",
        "colab_type": "code",
        "colab": {}
      },
      "source": [
        "# 3. What is the last letter of the first sequence, DNA1?"
      ],
      "execution_count": null,
      "outputs": []
    },
    {
      "cell_type": "code",
      "metadata": {
        "id": "zIVSeOM9LsL5",
        "colab_type": "code",
        "colab": {
          "base_uri": "https://localhost:8080/",
          "height": 37
        },
        "outputId": "7a74e17e-838e-4b57-866b-06c351ffb229"
      },
      "source": [
        "(DNA1)[8]"
      ],
      "execution_count": null,
      "outputs": [
        {
          "output_type": "execute_result",
          "data": {
            "application/vnd.google.colaboratory.intrinsic+json": {
              "type": "string"
            },
            "text/plain": [
              "'T'"
            ]
          },
          "metadata": {
            "tags": []
          },
          "execution_count": 18
        }
      ]
    },
    {
      "cell_type": "code",
      "metadata": {
        "id": "TwhqmP2y9tWN",
        "colab_type": "code",
        "colab": {}
      },
      "source": [
        "# 4. What is the last letter of the second sequence, DNA2?"
      ],
      "execution_count": null,
      "outputs": []
    },
    {
      "cell_type": "code",
      "metadata": {
        "id": "UofT4h5XLwv7",
        "colab_type": "code",
        "colab": {
          "base_uri": "https://localhost:8080/",
          "height": 37
        },
        "outputId": "71fcdd09-df59-4200-b887-d2fe1ba36c93"
      },
      "source": [
        "(DNA2)[8]"
      ],
      "execution_count": null,
      "outputs": [
        {
          "output_type": "execute_result",
          "data": {
            "application/vnd.google.colaboratory.intrinsic+json": {
              "type": "string"
            },
            "text/plain": [
              "'A'"
            ]
          },
          "metadata": {
            "tags": []
          },
          "execution_count": 19
        }
      ]
    },
    {
      "cell_type": "code",
      "metadata": {
        "id": "7C2NdcRb9wN-",
        "colab_type": "code",
        "colab": {}
      },
      "source": [
        "# 5. Are the first letters of two sequences the same?"
      ],
      "execution_count": null,
      "outputs": []
    },
    {
      "cell_type": "code",
      "metadata": {
        "id": "vHbjXOKlL2i1",
        "colab_type": "code",
        "colab": {
          "base_uri": "https://localhost:8080/",
          "height": 34
        },
        "outputId": "f9d735b9-04cc-4507-d072-ba1ba193bc6e"
      },
      "source": [
        "(DNA1)[0] == (DNA2)[0]"
      ],
      "execution_count": null,
      "outputs": [
        {
          "output_type": "execute_result",
          "data": {
            "text/plain": [
              "False"
            ]
          },
          "metadata": {
            "tags": []
          },
          "execution_count": 20
        }
      ]
    },
    {
      "cell_type": "code",
      "metadata": {
        "id": "EuF2F1jq9zlN",
        "colab_type": "code",
        "colab": {}
      },
      "source": [
        "# 6. Are the last letters of two sequences the same?"
      ],
      "execution_count": null,
      "outputs": []
    },
    {
      "cell_type": "code",
      "metadata": {
        "id": "ND1ZkhcgMBYc",
        "colab_type": "code",
        "colab": {
          "base_uri": "https://localhost:8080/",
          "height": 34
        },
        "outputId": "2515852f-6b7b-4bd4-8f87-bbac79e34c59"
      },
      "source": [
        "(DNA1)[8] == (DNA2)[8]"
      ],
      "execution_count": null,
      "outputs": [
        {
          "output_type": "execute_result",
          "data": {
            "text/plain": [
              "False"
            ]
          },
          "metadata": {
            "tags": []
          },
          "execution_count": 21
        }
      ]
    },
    {
      "cell_type": "code",
      "metadata": {
        "id": "0xeyDhd993Ie",
        "colab_type": "code",
        "colab": {}
      },
      "source": [
        "# 7. What is the 5th letter of the first sequence, DNA1?"
      ],
      "execution_count": null,
      "outputs": []
    },
    {
      "cell_type": "code",
      "metadata": {
        "id": "WfUipjY-MIrK",
        "colab_type": "code",
        "colab": {
          "base_uri": "https://localhost:8080/",
          "height": 37
        },
        "outputId": "65ee0751-f20c-44f3-ef37-cb1a08a3bc2e"
      },
      "source": [
        "(DNA1)[4]"
      ],
      "execution_count": null,
      "outputs": [
        {
          "output_type": "execute_result",
          "data": {
            "application/vnd.google.colaboratory.intrinsic+json": {
              "type": "string"
            },
            "text/plain": [
              "'T'"
            ]
          },
          "metadata": {
            "tags": []
          },
          "execution_count": 22
        }
      ]
    },
    {
      "cell_type": "code",
      "metadata": {
        "id": "9j311wg398RP",
        "colab_type": "code",
        "colab": {}
      },
      "source": [
        "# 8. What is the 5th letter of the second sequence, DNA2?"
      ],
      "execution_count": null,
      "outputs": []
    },
    {
      "cell_type": "code",
      "metadata": {
        "id": "zyAStaHsMLlI",
        "colab_type": "code",
        "colab": {
          "base_uri": "https://localhost:8080/",
          "height": 37
        },
        "outputId": "3e1b4338-bf32-4ec1-c840-9af245dfaab4"
      },
      "source": [
        "(DNA2)[4]"
      ],
      "execution_count": null,
      "outputs": [
        {
          "output_type": "execute_result",
          "data": {
            "application/vnd.google.colaboratory.intrinsic+json": {
              "type": "string"
            },
            "text/plain": [
              "'A'"
            ]
          },
          "metadata": {
            "tags": []
          },
          "execution_count": 23
        }
      ]
    },
    {
      "cell_type": "code",
      "metadata": {
        "id": "lKPUIgHS9-0s",
        "colab_type": "code",
        "colab": {}
      },
      "source": [
        "# 9. What are the first 5 letters of the first sequence, DNA1?"
      ],
      "execution_count": null,
      "outputs": []
    },
    {
      "cell_type": "code",
      "metadata": {
        "id": "1un-g7tQMR94",
        "colab_type": "code",
        "colab": {
          "base_uri": "https://localhost:8080/",
          "height": 34
        },
        "outputId": "b76a00f7-27eb-4be0-e2fd-f170ac79443b"
      },
      "source": [
        "print(DNA1[:5])"
      ],
      "execution_count": null,
      "outputs": [
        {
          "output_type": "stream",
          "text": [
            "TTCAT\n"
          ],
          "name": "stdout"
        }
      ]
    },
    {
      "cell_type": "code",
      "metadata": {
        "id": "0VxcC23k-BZR",
        "colab_type": "code",
        "colab": {}
      },
      "source": [
        "# 10. What are the first 5 letters of the second sequence, DNA2?"
      ],
      "execution_count": null,
      "outputs": []
    },
    {
      "cell_type": "code",
      "metadata": {
        "id": "qwyQEqqoMfNP",
        "colab_type": "code",
        "colab": {
          "base_uri": "https://localhost:8080/",
          "height": 34
        },
        "outputId": "fb67dd35-5907-4887-dce1-2a0788ae5fae"
      },
      "source": [
        "print(DNA2[:5])"
      ],
      "execution_count": null,
      "outputs": [
        {
          "output_type": "stream",
          "text": [
            "AAAAA\n"
          ],
          "name": "stdout"
        }
      ]
    },
    {
      "cell_type": "code",
      "metadata": {
        "id": "I0r9qLD5-Fc1",
        "colab_type": "code",
        "colab": {}
      },
      "source": [
        "# 11. What are the last 5 letters of the first sequence, DNA1?"
      ],
      "execution_count": null,
      "outputs": []
    },
    {
      "cell_type": "code",
      "metadata": {
        "id": "jDsmKrmfMjZj",
        "colab_type": "code",
        "colab": {
          "base_uri": "https://localhost:8080/",
          "height": 34
        },
        "outputId": "75f85065-5b88-46b9-c546-9970cf057d8e"
      },
      "source": [
        "print(DNA1[4:])"
      ],
      "execution_count": null,
      "outputs": [
        {
          "output_type": "stream",
          "text": [
            "TTTAT\n"
          ],
          "name": "stdout"
        }
      ]
    },
    {
      "cell_type": "code",
      "metadata": {
        "id": "hc11WCZK-ICR",
        "colab_type": "code",
        "colab": {}
      },
      "source": [
        "# 12. What are the last 5 letters of the second sequence, DNA2?"
      ],
      "execution_count": null,
      "outputs": []
    },
    {
      "cell_type": "code",
      "metadata": {
        "id": "z-6wSyF3M2l5",
        "colab_type": "code",
        "colab": {
          "base_uri": "https://localhost:8080/",
          "height": 34
        },
        "outputId": "38902916-7ff7-4378-c542-2c181c6bafb9"
      },
      "source": [
        "print(DNA2[4:])"
      ],
      "execution_count": null,
      "outputs": [
        {
          "output_type": "stream",
          "text": [
            "ATAAA\n"
          ],
          "name": "stdout"
        }
      ]
    },
    {
      "cell_type": "code",
      "metadata": {
        "id": "fdkcsWu--KUq",
        "colab_type": "code",
        "colab": {}
      },
      "source": [
        "# 13. How to concatenate the last 5 letters of the first sequence and the last 5 letters of the second sequence together?"
      ],
      "execution_count": null,
      "outputs": []
    },
    {
      "cell_type": "code",
      "metadata": {
        "id": "Lg7Xe6nFM79Y",
        "colab_type": "code",
        "colab": {
          "base_uri": "https://localhost:8080/",
          "height": 37
        },
        "outputId": "f32f0cdb-8d64-44dd-f25a-45bba15401c5"
      },
      "source": [
        "(DNA1[4:]) + (DNA2[4:])"
      ],
      "execution_count": null,
      "outputs": [
        {
          "output_type": "execute_result",
          "data": {
            "application/vnd.google.colaboratory.intrinsic+json": {
              "type": "string"
            },
            "text/plain": [
              "'TTTATATAAA'"
            ]
          },
          "metadata": {
            "tags": []
          },
          "execution_count": 29
        }
      ]
    },
    {
      "cell_type": "code",
      "metadata": {
        "id": "UJdH5rctQqF8",
        "colab_type": "code",
        "colab": {}
      },
      "source": [
        "# Q6: Let's continue with the sequence manipulations in python, but this time, we need to call some python's built-in functions. For sequences, DNA1, and DNA2 \n",
        "# Please write your python codes for the following activities:\n",
        "\n",
        "# 1. How many times does the character A appear in the first sequence DNA1? (hint: use str.count() )"
      ],
      "execution_count": null,
      "outputs": []
    },
    {
      "cell_type": "code",
      "metadata": {
        "id": "2o3VXv7_YjtG",
        "colab_type": "code",
        "colab": {
          "base_uri": "https://localhost:8080/",
          "height": 34
        },
        "outputId": "690b9823-cc77-4edd-a428-d75a85a5f596"
      },
      "source": [
        "DNA1.count('A')"
      ],
      "execution_count": null,
      "outputs": [
        {
          "output_type": "execute_result",
          "data": {
            "text/plain": [
              "2"
            ]
          },
          "metadata": {
            "tags": []
          },
          "execution_count": 44
        }
      ]
    },
    {
      "cell_type": "code",
      "metadata": {
        "id": "QlB44viC-TGZ",
        "colab_type": "code",
        "colab": {}
      },
      "source": [
        "# 2. How many times does the character A appear in the first sequence DNA2? (hint: use str.count() )"
      ],
      "execution_count": null,
      "outputs": []
    },
    {
      "cell_type": "code",
      "metadata": {
        "id": "835e_ue5ZboH",
        "colab_type": "code",
        "colab": {
          "base_uri": "https://localhost:8080/",
          "height": 34
        },
        "outputId": "8c231ac7-1288-4009-e9cf-d72b657ce804"
      },
      "source": [
        "DNA2.count('A')"
      ],
      "execution_count": null,
      "outputs": [
        {
          "output_type": "execute_result",
          "data": {
            "text/plain": [
              "8"
            ]
          },
          "metadata": {
            "tags": []
          },
          "execution_count": 45
        }
      ]
    },
    {
      "cell_type": "code",
      "metadata": {
        "id": "3tbTx1n6-UD5",
        "colab_type": "code",
        "colab": {}
      },
      "source": [
        "# 3. What is the index at which the first occurrence of the pattern AT begins in the first sequence DNA1? (hint: use str.index() )"
      ],
      "execution_count": null,
      "outputs": []
    },
    {
      "cell_type": "code",
      "metadata": {
        "id": "s11YPPYDSMUM",
        "colab_type": "code",
        "colab": {
          "base_uri": "https://localhost:8080/",
          "height": 34
        },
        "outputId": "bc3a45c3-be0e-4780-d243-7975aa8b768f"
      },
      "source": [
        "DNA1.index('AT')"
      ],
      "execution_count": null,
      "outputs": [
        {
          "output_type": "execute_result",
          "data": {
            "text/plain": [
              "3"
            ]
          },
          "metadata": {
            "tags": []
          },
          "execution_count": 13
        }
      ]
    },
    {
      "cell_type": "code",
      "metadata": {
        "id": "v39Ccumu-W34",
        "colab_type": "code",
        "colab": {}
      },
      "source": [
        "# 4. What is the index at which the first occurrence of the pattern AT begins in the second sequence DNA2? (hint: use str.index() )"
      ],
      "execution_count": null,
      "outputs": []
    },
    {
      "cell_type": "code",
      "metadata": {
        "id": "yywfxN97TMwp",
        "colab_type": "code",
        "colab": {
          "base_uri": "https://localhost:8080/",
          "height": 34
        },
        "outputId": "d44cbb07-2b9d-4c05-9658-4a61163eb002"
      },
      "source": [
        "DNA2.index('AT')"
      ],
      "execution_count": null,
      "outputs": [
        {
          "output_type": "execute_result",
          "data": {
            "text/plain": [
              "4"
            ]
          },
          "metadata": {
            "tags": []
          },
          "execution_count": 14
        }
      ]
    }
  ]
}