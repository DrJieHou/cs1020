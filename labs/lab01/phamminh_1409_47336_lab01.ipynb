{
  "nbformat": 4,
  "nbformat_minor": 0,
  "metadata": {
    "colab": {
      "name": "lab01.ipynb",
      "provenance": []
    },
    "kernelspec": {
      "name": "python3",
      "display_name": "Python 3"
    }
  },
  "cells": [
    {
      "cell_type": "code",
      "metadata": {
        "id": "JIRnqhEgG6do",
        "colab_type": "code",
        "colab": {}
      },
      "source": [
        "# Q1: Assume that we have our first DNA sequence that has a string as 'TTCATTTAT', which is comprised of four nucleotides (e.g. A, T, C, G). We would like to define a variable called 'DNA1', and assign the sequence to this variable. Then we need to print the variable by print(\"DNA1: \", DNA1)\n",
        "# Please write your python codes for this activity."
      ],
      "execution_count": null,
      "outputs": []
    },
    {
      "cell_type": "code",
      "metadata": {
        "id": "-mBw125leX6e",
        "colab_type": "code",
        "colab": {
          "base_uri": "https://localhost:8080/",
          "height": 34
        },
        "outputId": "befb9674-60cb-4643-e64d-57fdc633640d"
      },
      "source": [
        "DNA1='TTCATTTAT'\n",
        "print(\"DNA1:\",DNA1)"
      ],
      "execution_count": 2,
      "outputs": [
        {
          "output_type": "stream",
          "text": [
            "DNA1: TTCATTTAT\n"
          ],
          "name": "stdout"
        }
      ]
    },
    {
      "cell_type": "code",
      "metadata": {
        "id": "bQ5RXfCadr5D",
        "colab_type": "code",
        "colab": {}
      },
      "source": [
        "# Q2: Again, we have our second DNA sequence that has a string as 'AAAAATAAA'. We would like to assign this sequence to another variable called 'DNA2', and print the variable by print(\"DNA2: \", DNA2).\n",
        "#Please write your python codes for this activity."
      ],
      "execution_count": 3,
      "outputs": []
    },
    {
      "cell_type": "code",
      "metadata": {
        "id": "dARswyAgef3C",
        "colab_type": "code",
        "colab": {
          "base_uri": "https://localhost:8080/",
          "height": 34
        },
        "outputId": "d2128d1a-c9d2-4817-e5d4-c25b7b8c1d61"
      },
      "source": [
        "DNA2='AAAAATAAA'\n",
        "print(\"DNA2: \", DNA2)"
      ],
      "execution_count": 5,
      "outputs": [
        {
          "output_type": "stream",
          "text": [
            "DNA2:  AAAAATAAA\n"
          ],
          "name": "stdout"
        }
      ]
    },
    {
      "cell_type": "code",
      "metadata": {
        "id": "RK3fnsv8ep61",
        "colab_type": "code",
        "colab": {}
      },
      "source": [
        "# Q3: Now we have got two sequences, which were assigned two variables, DNA1, and DNA2. We would like to calculate the length of the two sequences and assign the length values to new variables, named DNA1_length and DNA2_length. Similarly, please print the values of the new variables.\n",
        "# Please write your python codes for this activity."
      ],
      "execution_count": null,
      "outputs": []
    },
    {
      "cell_type": "code",
      "metadata": {
        "id": "xkv0eo--e2H9",
        "colab_type": "code",
        "colab": {
          "base_uri": "https://localhost:8080/",
          "height": 51
        },
        "outputId": "3a3f45ab-6516-45a9-b313-0ad115e395ff"
      },
      "source": [
        "DNA1_length = len(DNA1)\n",
        "DNA2_length = len(DNA2)\n",
        "print(\"DNA1_length:\", DNA1_length)\n",
        "print(\"DNA2_length:\", DNA2_length)"
      ],
      "execution_count": 6,
      "outputs": [
        {
          "output_type": "stream",
          "text": [
            "DNA1_length: 9\n",
            "DNA2_length: 9\n"
          ],
          "name": "stdout"
        }
      ]
    },
    {
      "cell_type": "code",
      "metadata": {
        "id": "ZR3_7scxfuEr",
        "colab_type": "code",
        "colab": {}
      },
      "source": [
        "# Q4 Based on the three steps above, we got two variables that store DNA sequences (DNA1, and DNA2), and also two variables that store the length of DNA sequences (DNA1_length and DNA2_length), We are curious on the equality of the length of two DNA sequences.\n",
        "# Please write your python codes for the following questions:\n",
        "\n",
        "# 1.Is the length of DNA1 equal to the length of DNA2?\n",
        "# 2.Is the length of DNA1  not equal to the length of DNA2?\n",
        "# 3.Is the length of DNA1 larger than the length of DNA2?\n",
        "# 4.Is the length of DNA1 smaller than the length of DNA2?\n",
        "# The result of each question should be a boolean type."
      ],
      "execution_count": null,
      "outputs": []
    },
    {
      "cell_type": "code",
      "metadata": {
        "id": "bfZ-uvb5f8B0",
        "colab_type": "code",
        "colab": {
          "base_uri": "https://localhost:8080/",
          "height": 34
        },
        "outputId": "98663821-3a9e-416e-a1f2-b9cea8614fdd"
      },
      "source": [
        "DNA1_length==DNA2_length"
      ],
      "execution_count": 7,
      "outputs": [
        {
          "output_type": "execute_result",
          "data": {
            "text/plain": [
              "True"
            ]
          },
          "metadata": {
            "tags": []
          },
          "execution_count": 7
        }
      ]
    },
    {
      "cell_type": "code",
      "metadata": {
        "id": "bDls5e5MgBEl",
        "colab_type": "code",
        "colab": {
          "base_uri": "https://localhost:8080/",
          "height": 34
        },
        "outputId": "6faf0abc-389b-4246-a396-9b982049fbe3"
      },
      "source": [
        "DNA1_length!=DNA2_length"
      ],
      "execution_count": 8,
      "outputs": [
        {
          "output_type": "execute_result",
          "data": {
            "text/plain": [
              "False"
            ]
          },
          "metadata": {
            "tags": []
          },
          "execution_count": 8
        }
      ]
    },
    {
      "cell_type": "code",
      "metadata": {
        "id": "F9RHgsXDgF_v",
        "colab_type": "code",
        "colab": {
          "base_uri": "https://localhost:8080/",
          "height": 34
        },
        "outputId": "5758191e-39ae-4748-cce2-e2c13b051a4c"
      },
      "source": [
        "DNA1_length>DNA2_length"
      ],
      "execution_count": 9,
      "outputs": [
        {
          "output_type": "execute_result",
          "data": {
            "text/plain": [
              "False"
            ]
          },
          "metadata": {
            "tags": []
          },
          "execution_count": 9
        }
      ]
    },
    {
      "cell_type": "code",
      "metadata": {
        "id": "qTFOxUmpgND3",
        "colab_type": "code",
        "colab": {
          "base_uri": "https://localhost:8080/",
          "height": 34
        },
        "outputId": "2de7db20-6595-416f-c59a-a801257bfae3"
      },
      "source": [
        "DNA1_length<DNA2_length"
      ],
      "execution_count": 10,
      "outputs": [
        {
          "output_type": "execute_result",
          "data": {
            "text/plain": [
              "False"
            ]
          },
          "metadata": {
            "tags": []
          },
          "execution_count": 10
        }
      ]
    },
    {
      "cell_type": "code",
      "metadata": {
        "id": "-x7_AVMzgj1o",
        "colab_type": "code",
        "colab": {}
      },
      "source": [
        "# Q5 Now let's do some sequence manipulations in python. For sequences, DNA1, and DNA2\n",
        "# Please write your python codes for the following activities:\n",
        "# What is the first letter of the first sequence, DNA1?\n",
        "# What is the first letter of the second sequence, DNA2?\n",
        "# What is the last letter of the first sequence, DNA1?\n",
        "# What is the last letter of the second sequence, DNA2?\n",
        "# Are the first letters of two sequences the same?\n",
        "# Are the last letters of two sequences the same?\n",
        "# What is the 5th letter of the first sequence, DNA1?\n",
        "# What is the 5th letter of the second sequence, DNA2?\n",
        "# What are the first 5 letters of the first sequence, DNA1?\n",
        "# What are the first 5 letters of the second sequence, DNA2?\n",
        "# What are the last 5 letters of the first sequence, DNA1?\n",
        "# What are the last 5 letters of the second sequence, DNA2?\n",
        "# How to concatenate the last 5 letters of the first sequence and the last 5 letters of the second sequence together?"
      ],
      "execution_count": null,
      "outputs": []
    },
    {
      "cell_type": "code",
      "metadata": {
        "id": "IEQa9lKJg4Ez",
        "colab_type": "code",
        "colab": {
          "base_uri": "https://localhost:8080/",
          "height": 34
        },
        "outputId": "f7b9a3a3-8f96-4c72-d110-442dae5a6e5e"
      },
      "source": [
        "print(DNA1[0])"
      ],
      "execution_count": 16,
      "outputs": [
        {
          "output_type": "stream",
          "text": [
            "T\n"
          ],
          "name": "stdout"
        }
      ]
    },
    {
      "cell_type": "code",
      "metadata": {
        "id": "OD9bO5Pqg_33",
        "colab_type": "code",
        "colab": {
          "base_uri": "https://localhost:8080/",
          "height": 34
        },
        "outputId": "413fc12d-dc8b-4eaa-e1ae-60b39171432a"
      },
      "source": [
        "print(DNA2[0])"
      ],
      "execution_count": 17,
      "outputs": [
        {
          "output_type": "stream",
          "text": [
            "A\n"
          ],
          "name": "stdout"
        }
      ]
    },
    {
      "cell_type": "code",
      "metadata": {
        "id": "V0yiVl9YhHcG",
        "colab_type": "code",
        "colab": {
          "base_uri": "https://localhost:8080/",
          "height": 51
        },
        "outputId": "47216602-1042-4ce1-fb70-16e443941a62"
      },
      "source": [
        "print(DNA1[-1])\n",
        "#or\n",
        "print(DNA1[8])"
      ],
      "execution_count": 18,
      "outputs": [
        {
          "output_type": "stream",
          "text": [
            "T\n",
            "T\n"
          ],
          "name": "stdout"
        }
      ]
    },
    {
      "cell_type": "code",
      "metadata": {
        "id": "aYX6sKmphfXc",
        "colab_type": "code",
        "colab": {
          "base_uri": "https://localhost:8080/",
          "height": 51
        },
        "outputId": "ff9fb912-5d64-474e-abfb-01684bd25f40"
      },
      "source": [
        "print(DNA2[-1])\n",
        "#or \n",
        "print(DNA2[8])"
      ],
      "execution_count": 19,
      "outputs": [
        {
          "output_type": "stream",
          "text": [
            "A\n",
            "A\n"
          ],
          "name": "stdout"
        }
      ]
    },
    {
      "cell_type": "code",
      "metadata": {
        "id": "91msUqc8hj5V",
        "colab_type": "code",
        "colab": {
          "base_uri": "https://localhost:8080/",
          "height": 34
        },
        "outputId": "6e9ab2f3-56b0-45dd-da50-66aaff5cda03"
      },
      "source": [
        "DNA1[0]==DNA2[0]"
      ],
      "execution_count": 20,
      "outputs": [
        {
          "output_type": "execute_result",
          "data": {
            "text/plain": [
              "False"
            ]
          },
          "metadata": {
            "tags": []
          },
          "execution_count": 20
        }
      ]
    },
    {
      "cell_type": "code",
      "metadata": {
        "id": "JjPQknh6h7X0",
        "colab_type": "code",
        "colab": {
          "base_uri": "https://localhost:8080/",
          "height": 34
        },
        "outputId": "f3e704ae-1ea7-45ec-bdaf-5bea9aaf0e65"
      },
      "source": [
        "DNA1[-1]==DNA2[-1]"
      ],
      "execution_count": 21,
      "outputs": [
        {
          "output_type": "execute_result",
          "data": {
            "text/plain": [
              "False"
            ]
          },
          "metadata": {
            "tags": []
          },
          "execution_count": 21
        }
      ]
    },
    {
      "cell_type": "code",
      "metadata": {
        "id": "K_XuyvWNiD0w",
        "colab_type": "code",
        "colab": {
          "base_uri": "https://localhost:8080/",
          "height": 34
        },
        "outputId": "88288333-d63e-4901-aeb8-57f8e717d9b9"
      },
      "source": [
        "print(DNA1[4])"
      ],
      "execution_count": 22,
      "outputs": [
        {
          "output_type": "stream",
          "text": [
            "T\n"
          ],
          "name": "stdout"
        }
      ]
    },
    {
      "cell_type": "code",
      "metadata": {
        "id": "EMNMU0JiiWGP",
        "colab_type": "code",
        "colab": {
          "base_uri": "https://localhost:8080/",
          "height": 34
        },
        "outputId": "08dfeb6f-312a-4849-b366-18733648b9db"
      },
      "source": [
        "print(DNA2[4])"
      ],
      "execution_count": 23,
      "outputs": [
        {
          "output_type": "stream",
          "text": [
            "A\n"
          ],
          "name": "stdout"
        }
      ]
    },
    {
      "cell_type": "code",
      "metadata": {
        "id": "vc9PLX6OicL8",
        "colab_type": "code",
        "colab": {
          "base_uri": "https://localhost:8080/",
          "height": 34
        },
        "outputId": "db331f1a-b752-4c26-aff2-de947f2ce227"
      },
      "source": [
        "print(DNA1[0:5]) "
      ],
      "execution_count": 24,
      "outputs": [
        {
          "output_type": "stream",
          "text": [
            "TTCAT\n"
          ],
          "name": "stdout"
        }
      ]
    },
    {
      "cell_type": "code",
      "metadata": {
        "id": "zJ0X-o4Fjjn-",
        "colab_type": "code",
        "colab": {
          "base_uri": "https://localhost:8080/",
          "height": 34
        },
        "outputId": "d4335bc3-4255-4ce0-b996-40c933288820"
      },
      "source": [
        "print(DNA2[0:5])"
      ],
      "execution_count": 25,
      "outputs": [
        {
          "output_type": "stream",
          "text": [
            "AAAAA\n"
          ],
          "name": "stdout"
        }
      ]
    },
    {
      "cell_type": "code",
      "metadata": {
        "id": "RteoGxOlj5pE",
        "colab_type": "code",
        "colab": {
          "base_uri": "https://localhost:8080/",
          "height": 34
        },
        "outputId": "b0ef6c10-b59c-44ba-93bf-e3dbbcb7de41"
      },
      "source": [
        "print(DNA1[-5:])"
      ],
      "execution_count": null,
      "outputs": [
        {
          "output_type": "stream",
          "text": [
            "TTTAT\n"
          ],
          "name": "stdout"
        }
      ]
    },
    {
      "cell_type": "code",
      "metadata": {
        "id": "3ChUKxaskbiI",
        "colab_type": "code",
        "colab": {
          "base_uri": "https://localhost:8080/",
          "height": 50
        },
        "outputId": "65dd383c-5d1a-4c91-953d-37387731fa1d"
      },
      "source": [
        "print(DNA2[-5:])\n",
        "# or\n",
        "print(DNA2[4:])"
      ],
      "execution_count": null,
      "outputs": [
        {
          "output_type": "stream",
          "text": [
            "ATAAA\n",
            "ATAAA\n"
          ],
          "name": "stdout"
        }
      ]
    },
    {
      "cell_type": "code",
      "metadata": {
        "id": "inc-kq8Gk1Fe",
        "colab_type": "code",
        "colab": {
          "base_uri": "https://localhost:8080/",
          "height": 34
        },
        "outputId": "2926896a-70e4-4987-e381-0214176429e9"
      },
      "source": [
        "DNA=DNA1[-5:]+DNA2[4:]\n",
        "print(DNA)"
      ],
      "execution_count": null,
      "outputs": [
        {
          "output_type": "stream",
          "text": [
            "TTTATATAAA\n"
          ],
          "name": "stdout"
        }
      ]
    },
    {
      "cell_type": "code",
      "metadata": {
        "id": "kcOTyD-PlYFr",
        "colab_type": "code",
        "colab": {}
      },
      "source": [
        "# Q6 Let's continue with the sequence manipulations in python, but this time, we need to call some python's built-in functions. For sequences, DNA1, and DNA2\n",
        "# Please write your python codes for the following activities:\n",
        "\n",
        "# How many times does the character A appear in the first sequence DNA1? (hint: use str.count() )\n",
        "# How many times does the character A appear in the first sequence DNA2? (hint: use str.count() )\n",
        "# What is the index at which the first occurrence of the pattern AT begins in the first sequence DNA1? (hint: use str.index() )\n",
        "# What is the index at which the first occurrence of the pattern AT begins in the second sequence DNA2? (hint: use str.index() )"
      ],
      "execution_count": null,
      "outputs": []
    },
    {
      "cell_type": "code",
      "metadata": {
        "id": "6Gg2ZymClhLN",
        "colab_type": "code",
        "colab": {
          "base_uri": "https://localhost:8080/",
          "height": 34
        },
        "outputId": "2b3d504c-0d8d-4610-ba5e-255461c1d29c"
      },
      "source": [
        "print(DNA1.count('A'))"
      ],
      "execution_count": null,
      "outputs": [
        {
          "output_type": "stream",
          "text": [
            "2\n"
          ],
          "name": "stdout"
        }
      ]
    },
    {
      "cell_type": "code",
      "metadata": {
        "id": "u1-m_ZX-myfc",
        "colab_type": "code",
        "colab": {
          "base_uri": "https://localhost:8080/",
          "height": 34
        },
        "outputId": "b5d48ecb-e5d3-42bd-d91d-4cc6d0799a47"
      },
      "source": [
        "print(DNA2.count('A'))"
      ],
      "execution_count": null,
      "outputs": [
        {
          "output_type": "stream",
          "text": [
            "8\n"
          ],
          "name": "stdout"
        }
      ]
    },
    {
      "cell_type": "code",
      "metadata": {
        "id": "RL1YZon9m2cm",
        "colab_type": "code",
        "colab": {
          "base_uri": "https://localhost:8080/",
          "height": 34
        },
        "outputId": "4dc96f06-0536-4887-bfaa-3b7a5f65eb17"
      },
      "source": [
        "print(DNA1.index('AT'))"
      ],
      "execution_count": null,
      "outputs": [
        {
          "output_type": "stream",
          "text": [
            "3\n"
          ],
          "name": "stdout"
        }
      ]
    },
    {
      "cell_type": "code",
      "metadata": {
        "id": "IO1mz2DYnPsK",
        "colab_type": "code",
        "colab": {
          "base_uri": "https://localhost:8080/",
          "height": 34
        },
        "outputId": "308e4647-9519-4524-ace5-2c89adff5b02"
      },
      "source": [
        "print(DNA2.index('AT'))"
      ],
      "execution_count": null,
      "outputs": [
        {
          "output_type": "stream",
          "text": [
            "4\n"
          ],
          "name": "stdout"
        }
      ]
    }
  ]
}