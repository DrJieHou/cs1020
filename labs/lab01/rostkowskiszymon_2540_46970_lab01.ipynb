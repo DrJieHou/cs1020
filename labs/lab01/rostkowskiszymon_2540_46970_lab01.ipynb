{
  "nbformat": 4,
  "nbformat_minor": 0,
  "metadata": {
    "colab": {
      "name": "lab01.ipynb",
      "provenance": []
    },
    "kernelspec": {
      "name": "python3",
      "display_name": "Python 3"
    }
  },
  "cells": [
    {
      "cell_type": "code",
      "metadata": {
        "id": "-B02H-AbMpXq",
        "colab_type": "code",
        "colab": {}
      },
      "source": [
        "#Assume that we have our first DNA sequence that has a string as 'TTCATTTAT', which is comprised of four nucleotides (e.g. A, T, C, G). We would like to define a variable called 'DNA1', and assign the sequence to this variable. Then we need to print the variable by print(\"DNA1: \", DNA1)\n",
        "#Please write your python codes for this activity.\n",
        "\n",
        "#1) I stored the sequence \"TTCATTTAT\" into variable \"DNA1\" because it saves time and it does not require me to type out the entire sequence on other lines of code. I used the \"print\" command to check if I succesfully connected the sequence to the variable."
      ],
      "execution_count": null,
      "outputs": []
    },
    {
      "cell_type": "code",
      "metadata": {
        "id": "wdjBNGx-UHiS",
        "colab_type": "code",
        "colab": {
          "base_uri": "https://localhost:8080/",
          "height": 34
        },
        "outputId": "960ca466-efc2-4f8b-f24d-affd9a9e35f1"
      },
      "source": [
        "DNA1 = 'TTCATTTAT'\n",
        "print (DNA1)"
      ],
      "execution_count": 4,
      "outputs": [
        {
          "output_type": "stream",
          "text": [
            "DNA1: TTCATTTAT\n"
          ],
          "name": "stdout"
        }
      ]
    },
    {
      "cell_type": "code",
      "metadata": {
        "id": "19-sVly-MfDX",
        "colab_type": "code",
        "colab": {}
      },
      "source": [
        "#Again, we have our second DNA sequence that has a string as 'AAAAATAAA'. We would like to assign this sequence to another variable called 'DNA2', and print the variable by print(\"DNA2: \", DNA2).\n",
        "#Please write your python codes for this activity.\n",
        "\n",
        "#2) Similar to question 1, I stored the sequence \"AAAAATAAA\" into variable \"DNA2\" because it is less time consuming then if you were to type out the sequence on other lines of code. Using variables is a good way to organize your information, especially if it ends up being very long."
      ],
      "execution_count": null,
      "outputs": []
    },
    {
      "cell_type": "code",
      "metadata": {
        "id": "lmQkLuebUh-_",
        "colab_type": "code",
        "colab": {
          "base_uri": "https://localhost:8080/",
          "height": 34
        },
        "outputId": "8bc1c794-239f-4d0d-cffb-23f4a8feeecf"
      },
      "source": [
        "DNA2 = 'AAAAATAAA'\n",
        "print (DNA2)"
      ],
      "execution_count": 15,
      "outputs": [
        {
          "output_type": "stream",
          "text": [
            "AAAAATAAA\n"
          ],
          "name": "stdout"
        }
      ]
    },
    {
      "cell_type": "code",
      "metadata": {
        "id": "3bYQJY65MVPw",
        "colab_type": "code",
        "colab": {}
      },
      "source": [
        "#Now we have got two sequences, which were assigned two variables, DNA1, and DNA2. We would like to calculate the length of the two sequences and assign the length values to new variables, named DNA1_length and DNA2_length. Similarly, please print the values of the new variables.\n",
        "#Please write your python codes for this activity.\n",
        "\n",
        "#3)I set a variable \"DNA1_length\" to equal the \"len(DNA1)\" and did the same thing when making \"DNA2_length\". I printed the data to see how many characters both sequences had."
      ],
      "execution_count": null,
      "outputs": []
    },
    {
      "cell_type": "code",
      "metadata": {
        "id": "qDcDWPhHWdks",
        "colab_type": "code",
        "colab": {
          "base_uri": "https://localhost:8080/",
          "height": 34
        },
        "outputId": "e57e5e26-9b12-45fd-8fb4-7774c2e6b175"
      },
      "source": [
        "DNA1_length = len(DNA1)\n",
        "print (DNA1_length)"
      ],
      "execution_count": 13,
      "outputs": [
        {
          "output_type": "stream",
          "text": [
            "9\n"
          ],
          "name": "stdout"
        }
      ]
    },
    {
      "cell_type": "code",
      "metadata": {
        "id": "E_opGVBF__ZU",
        "colab_type": "code",
        "colab": {
          "base_uri": "https://localhost:8080/",
          "height": 34
        },
        "outputId": "b0b5945c-6803-477b-b32c-ce8f2c7d464a"
      },
      "source": [
        "DNA2_length = len(DNA2)\n",
        "print (DNA2_length)"
      ],
      "execution_count": 14,
      "outputs": [
        {
          "output_type": "stream",
          "text": [
            "9\n"
          ],
          "name": "stdout"
        }
      ]
    },
    {
      "cell_type": "code",
      "metadata": {
        "id": "I7zwbrjBMGfK",
        "colab_type": "code",
        "colab": {}
      },
      "source": [
        "#Based on the three steps above, we got two variables that store DNA sequences (DNA1, and DNA2), and also two variables that store the length of DNA sequences (DNA1_length and DNA2_length), We are curious on the equality of the length of two DNA sequences.\n",
        "#Please write your python codes for the following questions:\n",
        "\n",
        "#1:Is the length of DNA1 equal to the length of DNA2?\n",
        "\n",
        "#2:Is the length of DNA1  not equal to the length of DNA2?\n",
        "\n",
        "#3:Is the length of DNA1 larger than the length of DNA2?\n",
        "\n",
        "#4:Is the length of DNA1 smaller than the length of DNA2?\n",
        "\n",
        "#4) 1: Using == to compare two variables tells me whether or not they are equal.\n",
        "#2: Using != to compare two variables tells me whether or not they aren't equal.\n",
        "#3: Using > to compare two variables tells me if the first variable is greater than the second.\n",
        "#4: Using < to compare two variables tells me if the first variable is smaller than the second."
      ],
      "execution_count": null,
      "outputs": []
    },
    {
      "cell_type": "code",
      "metadata": {
        "id": "92hwLF-iW3bc",
        "colab_type": "code",
        "colab": {
          "base_uri": "https://localhost:8080/",
          "height": 34
        },
        "outputId": "d9af2f1b-e823-4fdb-9e38-0b6a190ec352"
      },
      "source": [
        "DNA1_length == DNA2_length"
      ],
      "execution_count": 9,
      "outputs": [
        {
          "output_type": "execute_result",
          "data": {
            "text/plain": [
              "True"
            ]
          },
          "metadata": {
            "tags": []
          },
          "execution_count": 9
        }
      ]
    },
    {
      "cell_type": "code",
      "metadata": {
        "id": "qgaTB6iwW_76",
        "colab_type": "code",
        "colab": {
          "base_uri": "https://localhost:8080/",
          "height": 34
        },
        "outputId": "b53a5ade-cdf3-4d5c-e196-c67bc0698ba5"
      },
      "source": [
        "DNA1_length != DNA2_length"
      ],
      "execution_count": 10,
      "outputs": [
        {
          "output_type": "execute_result",
          "data": {
            "text/plain": [
              "False"
            ]
          },
          "metadata": {
            "tags": []
          },
          "execution_count": 10
        }
      ]
    },
    {
      "cell_type": "code",
      "metadata": {
        "id": "jn6ubEfaXIAC",
        "colab_type": "code",
        "colab": {
          "base_uri": "https://localhost:8080/",
          "height": 34
        },
        "outputId": "df582947-a8a3-4a54-efd2-49ea1e842832"
      },
      "source": [
        "DNA1_length > DNA2_length"
      ],
      "execution_count": 11,
      "outputs": [
        {
          "output_type": "execute_result",
          "data": {
            "text/plain": [
              "False"
            ]
          },
          "metadata": {
            "tags": []
          },
          "execution_count": 11
        }
      ]
    },
    {
      "cell_type": "code",
      "metadata": {
        "id": "hOMclis-cAgg",
        "colab_type": "code",
        "colab": {
          "base_uri": "https://localhost:8080/",
          "height": 34
        },
        "outputId": "91f2025f-dc24-4b3c-d751-9f188d650651"
      },
      "source": [
        "DNA1_length < DNA2_length"
      ],
      "execution_count": 12,
      "outputs": [
        {
          "output_type": "execute_result",
          "data": {
            "text/plain": [
              "False"
            ]
          },
          "metadata": {
            "tags": []
          },
          "execution_count": 12
        }
      ]
    },
    {
      "cell_type": "code",
      "metadata": {
        "id": "PBOgDzteL5SK",
        "colab_type": "code",
        "colab": {}
      },
      "source": [
        "# 5) Now let's do some sequence manipulations in python. For sequences, DNA1, and DNA2\n",
        "# Please write your python codes for the following activities:\n",
        "\n",
        "# 1: What is the first letter of the first sequence, DNA1?\n",
        "\n",
        "# 2: What is the first letter of the second sequence, DNA2?\n",
        "\n",
        "# 3:What is the last letter of the first sequence, DNA1?\n",
        "\n",
        "# 4:What is the last letter of the second sequence, DNA2?\n",
        "\n",
        "# 5:Are the first letters of two sequences the same?\n",
        "\n",
        "# 6:Are the last letters of two sequences the same?\n",
        "\n",
        "# 7:What is the 5th letter of the first sequence, DNA1?\n",
        "\n",
        "# 8:What is the 5th letter of the second sequence, DNA2?\n",
        "\n",
        "# 9:What are the first 5 letters of the first sequence, DNA1?\n",
        "\n",
        "# 10:What are the first 5 letters of the second sequence, DNA2?\n",
        "\n",
        "# 11:What are the last 5 letters of the first sequence, DNA1?\n",
        "\n",
        "# 12:What are the last 5 letters of the second sequence, DNA2?\n",
        "\n",
        "# 13:How to concatenate the last 5 letters of the first sequence and the last 5 \n",
        "# letters of the second sequence together?"
      ],
      "execution_count": 43,
      "outputs": []
    },
    {
      "cell_type": "code",
      "metadata": {
        "id": "cUX2jzO5Ll1J",
        "colab_type": "code",
        "colab": {}
      },
      "source": [
        "# For 1-4, I used index command to find out what characters were in what spot."
      ],
      "execution_count": null,
      "outputs": []
    },
    {
      "cell_type": "code",
      "metadata": {
        "id": "BvBklktvBA5o",
        "colab_type": "code",
        "colab": {
          "base_uri": "https://localhost:8080/",
          "height": 35
        },
        "outputId": "533c0854-c5ff-4f73-e894-ea81cc027af6"
      },
      "source": [
        "DNA1[0]"
      ],
      "execution_count": 16,
      "outputs": [
        {
          "output_type": "execute_result",
          "data": {
            "application/vnd.google.colaboratory.intrinsic+json": {
              "type": "string"
            },
            "text/plain": [
              "'T'"
            ]
          },
          "metadata": {
            "tags": []
          },
          "execution_count": 16
        }
      ]
    },
    {
      "cell_type": "code",
      "metadata": {
        "id": "id8qwm-2CcsF",
        "colab_type": "code",
        "colab": {
          "base_uri": "https://localhost:8080/",
          "height": 35
        },
        "outputId": "a95ac453-6413-4fac-abef-2bb72bc9df67"
      },
      "source": [
        "DNA2[0]"
      ],
      "execution_count": 17,
      "outputs": [
        {
          "output_type": "execute_result",
          "data": {
            "application/vnd.google.colaboratory.intrinsic+json": {
              "type": "string"
            },
            "text/plain": [
              "'A'"
            ]
          },
          "metadata": {
            "tags": []
          },
          "execution_count": 17
        }
      ]
    },
    {
      "cell_type": "code",
      "metadata": {
        "id": "0w3veC0JCiH1",
        "colab_type": "code",
        "colab": {
          "base_uri": "https://localhost:8080/",
          "height": 35
        },
        "outputId": "2e6d13ae-46f0-4e95-9947-ba274d9c8f0d"
      },
      "source": [
        "DNA1[8]"
      ],
      "execution_count": 22,
      "outputs": [
        {
          "output_type": "execute_result",
          "data": {
            "application/vnd.google.colaboratory.intrinsic+json": {
              "type": "string"
            },
            "text/plain": [
              "'T'"
            ]
          },
          "metadata": {
            "tags": []
          },
          "execution_count": 22
        }
      ]
    },
    {
      "cell_type": "code",
      "metadata": {
        "id": "adupK33iC4z0",
        "colab_type": "code",
        "colab": {
          "base_uri": "https://localhost:8080/",
          "height": 35
        },
        "outputId": "0111a562-a234-4253-8f54-1b1d015444a2"
      },
      "source": [
        "DNA2[8]"
      ],
      "execution_count": 23,
      "outputs": [
        {
          "output_type": "execute_result",
          "data": {
            "application/vnd.google.colaboratory.intrinsic+json": {
              "type": "string"
            },
            "text/plain": [
              "'A'"
            ]
          },
          "metadata": {
            "tags": []
          },
          "execution_count": 23
        }
      ]
    },
    {
      "cell_type": "code",
      "metadata": {
        "id": "7OUAQLPQDGoE",
        "colab_type": "code",
        "colab": {}
      },
      "source": [
        "# For 5-6, I used compared the two first letters of each sequence by using the ==. I did the same with the last two characters of each sequend."
      ],
      "execution_count": 24,
      "outputs": []
    },
    {
      "cell_type": "code",
      "metadata": {
        "id": "hKro20QHDV_d",
        "colab_type": "code",
        "colab": {
          "base_uri": "https://localhost:8080/",
          "height": 34
        },
        "outputId": "077355cb-a9c1-4b72-f4b2-4533c3031a0c"
      },
      "source": [
        "DNA1[0] == DNA2[0]"
      ],
      "execution_count": 25,
      "outputs": [
        {
          "output_type": "execute_result",
          "data": {
            "text/plain": [
              "False"
            ]
          },
          "metadata": {
            "tags": []
          },
          "execution_count": 25
        }
      ]
    },
    {
      "cell_type": "code",
      "metadata": {
        "id": "pclCumh1ELAn",
        "colab_type": "code",
        "colab": {
          "base_uri": "https://localhost:8080/",
          "height": 34
        },
        "outputId": "1a9815af-f498-4b51-f8d9-7a6edd57f181"
      },
      "source": [
        "DNA1[8] == DNA2[8]"
      ],
      "execution_count": 26,
      "outputs": [
        {
          "output_type": "execute_result",
          "data": {
            "text/plain": [
              "False"
            ]
          },
          "metadata": {
            "tags": []
          },
          "execution_count": 26
        }
      ]
    },
    {
      "cell_type": "code",
      "metadata": {
        "id": "juEqkKg_EfC5",
        "colab_type": "code",
        "colab": {}
      },
      "source": [
        "# For 7-8, I used index again to find what were the 5th characters in each sequence."
      ],
      "execution_count": null,
      "outputs": []
    },
    {
      "cell_type": "code",
      "metadata": {
        "id": "bsUbfBEDEyJi",
        "colab_type": "code",
        "colab": {
          "base_uri": "https://localhost:8080/",
          "height": 35
        },
        "outputId": "a0588042-a485-4281-8ae7-c73c26f50e84"
      },
      "source": [
        "DNA1[4]"
      ],
      "execution_count": 27,
      "outputs": [
        {
          "output_type": "execute_result",
          "data": {
            "application/vnd.google.colaboratory.intrinsic+json": {
              "type": "string"
            },
            "text/plain": [
              "'T'"
            ]
          },
          "metadata": {
            "tags": []
          },
          "execution_count": 27
        }
      ]
    },
    {
      "cell_type": "code",
      "metadata": {
        "id": "DIZOP1TUE50T",
        "colab_type": "code",
        "colab": {
          "base_uri": "https://localhost:8080/",
          "height": 35
        },
        "outputId": "b007137b-0ea8-422a-e112-09a96cedd121"
      },
      "source": [
        "DNA2[4]"
      ],
      "execution_count": 28,
      "outputs": [
        {
          "output_type": "execute_result",
          "data": {
            "application/vnd.google.colaboratory.intrinsic+json": {
              "type": "string"
            },
            "text/plain": [
              "'A'"
            ]
          },
          "metadata": {
            "tags": []
          },
          "execution_count": 28
        }
      ]
    },
    {
      "cell_type": "code",
      "metadata": {
        "id": "EnMZNJRdFCtv",
        "colab_type": "code",
        "colab": {}
      },
      "source": [
        "# For 9-10, I used the slicing method to find the first 5 characters of each sequence."
      ],
      "execution_count": null,
      "outputs": []
    },
    {
      "cell_type": "code",
      "metadata": {
        "id": "NTN9YPHDFJuN",
        "colab_type": "code",
        "colab": {
          "base_uri": "https://localhost:8080/",
          "height": 35
        },
        "outputId": "d3185dca-8ba4-43dd-d0d6-4c5e4f0610dc"
      },
      "source": [
        "DNA1[0:5]"
      ],
      "execution_count": 30,
      "outputs": [
        {
          "output_type": "execute_result",
          "data": {
            "application/vnd.google.colaboratory.intrinsic+json": {
              "type": "string"
            },
            "text/plain": [
              "'TTCAT'"
            ]
          },
          "metadata": {
            "tags": []
          },
          "execution_count": 30
        }
      ]
    },
    {
      "cell_type": "code",
      "metadata": {
        "id": "3sOX2juoFT7O",
        "colab_type": "code",
        "colab": {
          "base_uri": "https://localhost:8080/",
          "height": 35
        },
        "outputId": "fa2bd1d3-e086-498f-be3a-dbf57829581a"
      },
      "source": [
        "DNA2[0:5]"
      ],
      "execution_count": 31,
      "outputs": [
        {
          "output_type": "execute_result",
          "data": {
            "application/vnd.google.colaboratory.intrinsic+json": {
              "type": "string"
            },
            "text/plain": [
              "'AAAAA'"
            ]
          },
          "metadata": {
            "tags": []
          },
          "execution_count": 31
        }
      ]
    },
    {
      "cell_type": "code",
      "metadata": {
        "id": "98J2sJHeFb5C",
        "colab_type": "code",
        "colab": {}
      },
      "source": [
        "# For 11-12, I used the slicing method again but for the last 5 characters of each sequence."
      ],
      "execution_count": null,
      "outputs": []
    },
    {
      "cell_type": "code",
      "metadata": {
        "id": "aaIADgFuFqyF",
        "colab_type": "code",
        "colab": {
          "base_uri": "https://localhost:8080/",
          "height": 35
        },
        "outputId": "39009f73-58ef-4d78-9371-0b9c10c574b6"
      },
      "source": [
        "DNA1[4:]"
      ],
      "execution_count": 33,
      "outputs": [
        {
          "output_type": "execute_result",
          "data": {
            "application/vnd.google.colaboratory.intrinsic+json": {
              "type": "string"
            },
            "text/plain": [
              "'TTTAT'"
            ]
          },
          "metadata": {
            "tags": []
          },
          "execution_count": 33
        }
      ]
    },
    {
      "cell_type": "code",
      "metadata": {
        "id": "mANOyKUiF9Dc",
        "colab_type": "code",
        "colab": {
          "base_uri": "https://localhost:8080/",
          "height": 35
        },
        "outputId": "c4bf72da-1413-4362-9150-167bd76bcebf"
      },
      "source": [
        "DNA2[4:]"
      ],
      "execution_count": 34,
      "outputs": [
        {
          "output_type": "execute_result",
          "data": {
            "application/vnd.google.colaboratory.intrinsic+json": {
              "type": "string"
            },
            "text/plain": [
              "'ATAAA'"
            ]
          },
          "metadata": {
            "tags": []
          },
          "execution_count": 34
        }
      ]
    },
    {
      "cell_type": "code",
      "metadata": {
        "id": "i1VZ4KMrGJnb",
        "colab_type": "code",
        "colab": {}
      },
      "source": [
        "# To Concatenate the end of the two sequences, I made a new variable named \"connected_sequence\". I set this variable to equal DNA1[4:] + DNA2[4:], which gave me a sequence with the ending half of DNA1 and DNA2. I printed \"connected_sequence\" to see what the new ten letter sequence is."
      ],
      "execution_count": null,
      "outputs": []
    },
    {
      "cell_type": "code",
      "metadata": {
        "id": "2ME9SZ7wHFB4",
        "colab_type": "code",
        "colab": {
          "base_uri": "https://localhost:8080/",
          "height": 34
        },
        "outputId": "ba711cff-dd05-4bf6-bed6-ea81d341b991"
      },
      "source": [
        "connected_sequence = DNA1[4:] + DNA2[4:]\n",
        "print(connected_sequence)"
      ],
      "execution_count": 35,
      "outputs": [
        {
          "output_type": "stream",
          "text": [
            "TTTATATAAA\n"
          ],
          "name": "stdout"
        }
      ]
    },
    {
      "cell_type": "code",
      "metadata": {
        "id": "JODFkUlJHsTQ",
        "colab_type": "code",
        "colab": {}
      },
      "source": [
        "# Let's continue with the sequence manipulations in python, but this time, we need to call some python's built-in functions. For sequences, DNA1, and DNA2\n",
        "# Please write your python codes for the following activities:\n",
        "\n",
        "#How many times does the character A appear in the first sequence DNA1? (hint: use str.count() )\n",
        "#How many times does the character A appear in thefirst sequence DNA2? (hint: use str.count() )\n",
        "#What is the index at which the first occurrence of the pattern AT begins in the first sequence DNA1? (hint: use str.index() )\n",
        "#What is the index at which the first occurrence of the pattern AT begins in the second sequence DNA2? (hint: use str.index() )"
      ],
      "execution_count": 36,
      "outputs": []
    },
    {
      "cell_type": "code",
      "metadata": {
        "id": "vxu8JlRQKxnL",
        "colab_type": "code",
        "colab": {}
      },
      "source": [
        "# For the first two parts of the question, I used str.count() command to find out how many \"A\"s there were in each of the two original sequences."
      ],
      "execution_count": null,
      "outputs": []
    },
    {
      "cell_type": "code",
      "metadata": {
        "id": "J5mmrA-JH5RT",
        "colab_type": "code",
        "colab": {
          "base_uri": "https://localhost:8080/",
          "height": 34
        },
        "outputId": "5d003e3b-af7a-47dc-a529-df09b38f7394"
      },
      "source": [
        "print(DNA1.count(\"A\"))\n"
      ],
      "execution_count": 39,
      "outputs": [
        {
          "output_type": "stream",
          "text": [
            "2\n"
          ],
          "name": "stdout"
        }
      ]
    },
    {
      "cell_type": "code",
      "metadata": {
        "id": "mej6rPxrKNfP",
        "colab_type": "code",
        "colab": {
          "base_uri": "https://localhost:8080/",
          "height": 34
        },
        "outputId": "4914f1b9-1540-4b22-dc27-0c32378a9ab7"
      },
      "source": [
        "print(DNA2.count(\"A\"))"
      ],
      "execution_count": 40,
      "outputs": [
        {
          "output_type": "stream",
          "text": [
            "8\n"
          ],
          "name": "stdout"
        }
      ]
    },
    {
      "cell_type": "code",
      "metadata": {
        "id": "pcqs8e9WLBNO",
        "colab_type": "code",
        "colab": {}
      },
      "source": [
        "# For the 3rd and 4th question, I used the str.index() command to tell me when the two letters \"AT\" appear in the sequences"
      ],
      "execution_count": null,
      "outputs": []
    },
    {
      "cell_type": "code",
      "metadata": {
        "id": "0JO76tcoKoDN",
        "colab_type": "code",
        "colab": {
          "base_uri": "https://localhost:8080/",
          "height": 34
        },
        "outputId": "170793d0-8996-48b7-8db7-a04a28b62863"
      },
      "source": [
        "print(DNA1.index(\"AT\"))"
      ],
      "execution_count": 41,
      "outputs": [
        {
          "output_type": "stream",
          "text": [
            "3\n"
          ],
          "name": "stdout"
        }
      ]
    },
    {
      "cell_type": "code",
      "metadata": {
        "id": "M7rjjWUBLXVl",
        "colab_type": "code",
        "colab": {
          "base_uri": "https://localhost:8080/",
          "height": 34
        },
        "outputId": "01bbf49f-fcc4-4540-a22b-e15d8db881f4"
      },
      "source": [
        "print(DNA2.index(\"AT\"))"
      ],
      "execution_count": 42,
      "outputs": [
        {
          "output_type": "stream",
          "text": [
            "4\n"
          ],
          "name": "stdout"
        }
      ]
    }
  ]
}