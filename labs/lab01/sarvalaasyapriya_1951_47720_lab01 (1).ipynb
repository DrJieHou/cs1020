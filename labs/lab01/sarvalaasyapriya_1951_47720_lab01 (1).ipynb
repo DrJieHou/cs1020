{
  "nbformat": 4,
  "nbformat_minor": 0,
  "metadata": {
    "colab": {
      "name": "lab01.ipynb",
      "provenance": []
    },
    "kernelspec": {
      "name": "python3",
      "display_name": "Python 3"
    }
  },
  "cells": [
    {
      "cell_type": "code",
      "metadata": {
        "id": "FyPaJssUO0Ph",
        "colab_type": "code",
        "colab": {
          "base_uri": "https://localhost:8080/",
          "height": 34
        },
        "outputId": "f6269fda-9d6b-4dec-9862-9417f6f58829"
      },
      "source": [
        "##Question1: Assume that we have our first DNA sequence that has a string as 'TTCATTTAT', which is comprised of four nucleotides (e.g. A, T, C, G). We would like to define a variable called 'DNA1', and assign the sequence to this variable. Then we need to print the variable by print(\"DNA1: \", DNA1)\n",
        "##Please write your python codes for this activity\n",
        "DNA1 = 'TTCATTTAT'\n",
        "print(\"DNA1:\",DNA1)"
      ],
      "execution_count": null,
      "outputs": [
        {
          "output_type": "stream",
          "text": [
            "DNA1: TTCATTTAT\n"
          ],
          "name": "stdout"
        }
      ]
    },
    {
      "cell_type": "code",
      "metadata": {
        "id": "CvgVMUGeViSg",
        "colab_type": "code",
        "colab": {
          "base_uri": "https://localhost:8080/",
          "height": 34
        },
        "outputId": "c124b298-4244-43ca-ffe1-484c83887c0f"
      },
      "source": [
        "##Question2: Again, we have our second DNA sequence that has a string as 'AAAAATAAA'. We would like to assign this sequence to another variable called 'DNA2', and print the variable by print(\"DNA2: \", DNA2).\n",
        "##Please write your python codes for this activity.\n",
        "DNA2='AAAAATAAA'\n",
        "print(\"DNA2:\",DNA2)\n",
        " "
      ],
      "execution_count": null,
      "outputs": [
        {
          "output_type": "stream",
          "text": [
            "DNA2: AAAAATAAA\n"
          ],
          "name": "stdout"
        }
      ]
    },
    {
      "cell_type": "code",
      "metadata": {
        "id": "DUitBzbQXoci",
        "colab_type": "code",
        "colab": {
          "base_uri": "https://localhost:8080/",
          "height": 51
        },
        "outputId": "3575b5b0-634a-47c5-9cbf-b1febe21fa84"
      },
      "source": [
        "##Question3: Now we have got two sequences, which were assigned two variables, DNA1, and DNA2. We would like to calculate the length of the two sequences and assign the length values to new variables, named DNA1_length and DNA2_length. Similarly, please print the values of the new variables.\n",
        "##Please write your python codes for this activity.\n",
        "\n",
        "DNA1_Length = len(DNA1)\n",
        "print(DNA1_Length)\n",
        "DNA2_Length = len(DNA2)\n",
        "print(DNA2_Length)\n",
        "\n",
        "\n"
      ],
      "execution_count": null,
      "outputs": [
        {
          "output_type": "stream",
          "text": [
            "9\n",
            "9\n"
          ],
          "name": "stdout"
        }
      ]
    },
    {
      "cell_type": "code",
      "metadata": {
        "id": "oxYtDa0YEHqb",
        "colab_type": "code",
        "colab": {
          "base_uri": "https://localhost:8080/",
          "height": 85
        },
        "outputId": "86bedcbe-32d1-4a53-a960-b61e03730400"
      },
      "source": [
        "##Question4: Based on the three steps above, we got two variables that store DNA sequences (DNA1, and DNA2), and also two variables that store the length of DNA sequences (DNA1_length and DNA2_length), We are curious on the equality of the length of two DNA sequences.\n",
        "##Please write your python codes for the following questions:\n",
        "DNA1 = 'TTCATTTAT'\n",
        "DNA2='AAAAATAAA'\n",
        "DNA1_Length = len(DNA1)\n",
        "DNA2_Length = len(DNA2)\n",
        "\n",
        "##Is the length of DNA1 equal to the length of DNA2?\n",
        "print(DNA1_Length == DNA2_Length)\n",
        "\n",
        "##Is the length of DNA1  not equal to the length of DNA2?\n",
        "print(DNA1_Length != DNA2_Length)\n",
        "\n",
        "##Is the length of DNA1 larger than the length of DNA2?\n",
        "print(DNA1_Length > DNA2_Length)\n",
        "\n",
        "##Is the length of DNA1 smaller than the length of DNA2?\n",
        "print(DNA1_Length < DNA2_Length)\n",
        "\n",
        "##The result of each question should be a boolean type."
      ],
      "execution_count": 3,
      "outputs": [
        {
          "output_type": "stream",
          "text": [
            "True\n",
            "False\n",
            "False\n",
            "False\n"
          ],
          "name": "stdout"
        }
      ]
    },
    {
      "cell_type": "code",
      "metadata": {
        "id": "m0DWfF2VFkDW",
        "colab_type": "code",
        "colab": {
          "base_uri": "https://localhost:8080/",
          "height": 238
        },
        "outputId": "31ab3d02-f71b-4f90-9b28-33d5053771df"
      },
      "source": [
        "##Question5: Now let's do some sequence manipulations in python. For sequences, DNA1, and DNA2\n",
        "##Please write your python codes for the following activities:\n",
        "DNA1 = 'TTCATTTAT'\n",
        "DNA2='AAAAATAAA'\n",
        "DNA1_Length = len(DNA1)\n",
        "DNA2_Length = len(DNA2)\n",
        "\n",
        "##What is the first letter of the first sequence, DNA1?\n",
        "print(DNA1[0])\n",
        "\n",
        "##What is the first letter of the second sequence, DNA2?\n",
        "print(DNA2[0])\n",
        "\n",
        "##What is the last letter of the first sequence, DNA1?\n",
        "print(DNA1[8])\n",
        "\n",
        "##What is the last letter of the second sequence, DNA2?\n",
        "print(DNA2[8])\n",
        "\n",
        "##Are the first letters of two sequences the same?\n",
        "print(DNA1[0] == DNA2[0])\n",
        "\n",
        "##Are the last letters of two sequences the same?\n",
        "print(DNA1[8] == DNA2[8])\n",
        "\n",
        "##What is the 5th letter of the first sequence, DNA1?\n",
        "print(DNA1[4])\n",
        "\n",
        "##What is the 5th letter of the second sequence, DNA2?\n",
        "print(DNA2[4])\n",
        "\n",
        "##What are the first 5 letters of the first sequence, DNA1?\n",
        "print(DNA1[0:5])\n",
        "\n",
        "##What are the first 5 letters of the second sequence, DNA2?\n",
        "print(DNA2[0:5])\n",
        "\n",
        "##What are the last 5 letters of the first sequence, DNA1?\n",
        "print(DNA1[3:8])\n",
        "\n",
        "##What are the last 5 letters of the second sequence, DNA2?\n",
        "print(DNA2[3:8])\n",
        "\n",
        "##How to concatenate the last 5 letters of the first sequence and the last 5 letters of the second sequence together?\n",
        "DNA = DNA1 [3:8] +DNA2[3:8]\n",
        "print(DNA)\n"
      ],
      "execution_count": 4,
      "outputs": [
        {
          "output_type": "stream",
          "text": [
            "T\n",
            "A\n",
            "T\n",
            "A\n",
            "False\n",
            "False\n",
            "T\n",
            "A\n",
            "TTCAT\n",
            "AAAAA\n",
            "ATTTA\n",
            "AATAA\n",
            "ATTTAAATAA\n"
          ],
          "name": "stdout"
        }
      ]
    },
    {
      "cell_type": "code",
      "metadata": {
        "id": "KB2926TEHTzf",
        "colab_type": "code",
        "colab": {
          "base_uri": "https://localhost:8080/",
          "height": 85
        },
        "outputId": "c3ac3a05-722d-4aed-d72f-387f884c8695"
      },
      "source": [
        "##Question6: Let's continue with the sequence manipulations in python, but this time, we need to call some python's built-in functions. For sequences, DNA1, and DNA2\n",
        "##Please write your python codes for the following activities:\n",
        "DNA1 = 'TTCATTTAT'\n",
        "DNA2='AAAAATAAA'\n",
        "DNA1_Length = len(DNA1)\n",
        "DNA2_Length = len(DNA2)\n",
        "\n",
        "##How many times does the character A appear in the first sequence DNA1? (hint: use str.count() )\n",
        "print(DNA1.count('A'))\n",
        "\n",
        "##How many times does the character A appear in the first sequence DNA2? (hint: use str.count() )\n",
        "print(DNA2.count('A'))\n",
        "\n",
        "##What is the index at which the first occurrence of the pattern AT begins in the first sequence DNA1? (hint: use str.index() )\n",
        "print(DNA1.index('AT'))\n",
        "\n",
        "##What is the index at which the first occurrence of the pattern AT begins in the second sequence DNA2? (hint: use str.index() )\n",
        "print(DNA2.index('AT'))\n"
      ],
      "execution_count": 5,
      "outputs": [
        {
          "output_type": "stream",
          "text": [
            "2\n",
            "8\n",
            "3\n",
            "4\n"
          ],
          "name": "stdout"
        }
      ]
    }
  ]
}