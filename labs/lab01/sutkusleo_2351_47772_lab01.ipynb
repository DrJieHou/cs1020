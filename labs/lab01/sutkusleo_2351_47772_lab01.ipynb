{
  "nbformat": 4,
  "nbformat_minor": 0,
  "metadata": {
    "colab": {
      "name": "lab01.ipynb",
      "provenance": []
    },
    "kernelspec": {
      "name": "python3",
      "display_name": "Python 3"
    }
  },
  "cells": [
    {
      "cell_type": "code",
      "metadata": {
        "id": "N0lqyoTNeMWO",
        "colab_type": "code",
        "colab": {}
      },
      "source": [
        "# Q1: Assume that we have our first DNA sequence that has a string as 'TTCATTTAT', which is comprised of four nucleotides (e.g. A, T, C, G). We would like to define a variable called 'DNA1', and assign the sequence to this variable. Then we need to print the variable by print(\"DNA1: \", DNA1) \n",
        "# Please write your python codes for this activity."
      ],
      "execution_count": null,
      "outputs": []
    },
    {
      "cell_type": "code",
      "metadata": {
        "id": "-fpxmtZxDTpg",
        "colab_type": "code",
        "colab": {
          "base_uri": "https://localhost:8080/",
          "height": 34
        },
        "outputId": "a18bce3a-5b23-4b6b-8cb4-ab7e3cfd13e8"
      },
      "source": [
        "DNA1= 'TTCATTTAT'\n",
        "print(\"DNA1: \", DNA1)"
      ],
      "execution_count": null,
      "outputs": [
        {
          "output_type": "stream",
          "text": [
            "DNA1:  TTCATTTAT\n"
          ],
          "name": "stdout"
        }
      ]
    },
    {
      "cell_type": "code",
      "metadata": {
        "id": "PX2U65TFFUNH",
        "colab_type": "code",
        "colab": {}
      },
      "source": [
        "# Q2: Again, we have our second DNA sequence that has a string as 'AAAAATAAA'. We would like to assign this sequence to another variable called 'DNA2', and print the variable by print(\"DNA2: \", DNA2). \n",
        "# Please write your python codes for this activity"
      ],
      "execution_count": null,
      "outputs": []
    },
    {
      "cell_type": "code",
      "metadata": {
        "id": "K5MExCBXFjCb",
        "colab_type": "code",
        "colab": {
          "base_uri": "https://localhost:8080/",
          "height": 34
        },
        "outputId": "3c232e3c-1bbd-4375-f8c8-2bbc666917a1"
      },
      "source": [
        "DNA2= 'AAAAATAA'\n",
        "print(\"DNA2: \",DNA2)"
      ],
      "execution_count": null,
      "outputs": [
        {
          "output_type": "stream",
          "text": [
            "DNA2:  AAAAATAA\n"
          ],
          "name": "stdout"
        }
      ]
    },
    {
      "cell_type": "code",
      "metadata": {
        "id": "JlYnN-eiFyHs",
        "colab_type": "code",
        "colab": {}
      },
      "source": [
        "# Q3: Now we have got two sequences, which were assigned two variables, DNA1, and DNA2. We would like to calculate the length of the two sequences and assign the length values to new variables, named DNA1_length and DNA2_length. Similarly, please print the values of the new variables. \n",
        "# Please write your python codes for this activity."
      ],
      "execution_count": null,
      "outputs": []
    },
    {
      "cell_type": "code",
      "metadata": {
        "id": "q3xlzcOE0q6P",
        "colab_type": "code",
        "colab": {
          "base_uri": "https://localhost:8080/",
          "height": 34
        },
        "outputId": "ed2a0bfa-be77-45aa-a3ae-33631580ebd5"
      },
      "source": [
        "DNA1_length= 'TTCATTTAT'\n",
        "print(len(DNA1_length))"
      ],
      "execution_count": 11,
      "outputs": [
        {
          "output_type": "stream",
          "text": [
            "9\n"
          ],
          "name": "stdout"
        }
      ]
    },
    {
      "cell_type": "code",
      "metadata": {
        "id": "T966_AqW18v9",
        "colab_type": "code",
        "colab": {
          "base_uri": "https://localhost:8080/",
          "height": 34
        },
        "outputId": "21e978cb-bd37-4efd-fbeb-013481a5971b"
      },
      "source": [
        "DNA2_length= 'AAAAATAA'\n",
        "print(len(DNA2_length))"
      ],
      "execution_count": 12,
      "outputs": [
        {
          "output_type": "stream",
          "text": [
            "8\n"
          ],
          "name": "stdout"
        }
      ]
    },
    {
      "cell_type": "code",
      "metadata": {
        "id": "9xwerTvw2Kkr",
        "colab_type": "code",
        "colab": {}
      },
      "source": [
        "# Q4: Based on the three steps above, we got two variables that store DNA sequences (DNA1, and DNA2), and also two variables that store the length of DNA sequences (DNA1_length and DNA2_length), We are curious on the equality of the length of two DNA sequences. \n",
        "# Please write your python codes for the following questions:\n",
        "\n",
        "# Is the length of DNA1 equal to the length of DNA2?\n",
        "# Is the length of DNA1  not equal to the length of DNA2?\n",
        "# Is the length of DNA1 larger than the length of DNA2?\n",
        "# Is the length of DNA1 smaller than the length of DNA2?\n",
        "# The result of each question should be a boolean type."
      ],
      "execution_count": null,
      "outputs": []
    },
    {
      "cell_type": "code",
      "metadata": {
        "id": "_ujjm1a52XKm",
        "colab_type": "code",
        "colab": {
          "base_uri": "https://localhost:8080/",
          "height": 34
        },
        "outputId": "05a2c57d-74bc-4f68-83ba-52fa641f11c3"
      },
      "source": [
        "DNA1= 'TTCATTTAT'\n",
        "DNA2= 'AAAAATAA'\n",
        "9 == 8"
      ],
      "execution_count": 62,
      "outputs": [
        {
          "output_type": "execute_result",
          "data": {
            "text/plain": [
              "False"
            ]
          },
          "metadata": {
            "tags": []
          },
          "execution_count": 62
        }
      ]
    },
    {
      "cell_type": "code",
      "metadata": {
        "id": "IqxzHvooXzME",
        "colab_type": "code",
        "colab": {
          "base_uri": "https://localhost:8080/",
          "height": 34
        },
        "outputId": "256cf903-81ba-4799-f57a-b2bac2609f40"
      },
      "source": [
        "DNA1= 'TTCATTTAT'\n",
        "DNA2= 'AAAAATAA'\n",
        "9 != 8"
      ],
      "execution_count": 63,
      "outputs": [
        {
          "output_type": "execute_result",
          "data": {
            "text/plain": [
              "True"
            ]
          },
          "metadata": {
            "tags": []
          },
          "execution_count": 63
        }
      ]
    },
    {
      "cell_type": "code",
      "metadata": {
        "id": "SxhtVEUFX3OQ",
        "colab_type": "code",
        "colab": {
          "base_uri": "https://localhost:8080/",
          "height": 34
        },
        "outputId": "63102eaa-9847-4052-b2b6-2c3ff47239e3"
      },
      "source": [
        "DNA1= 'TTCATTTAT'\n",
        "DNA2= 'AAAAATAA'\n",
        "9 > 8"
      ],
      "execution_count": 64,
      "outputs": [
        {
          "output_type": "execute_result",
          "data": {
            "text/plain": [
              "True"
            ]
          },
          "metadata": {
            "tags": []
          },
          "execution_count": 64
        }
      ]
    },
    {
      "cell_type": "code",
      "metadata": {
        "id": "dURVLgqgX-rZ",
        "colab_type": "code",
        "colab": {
          "base_uri": "https://localhost:8080/",
          "height": 34
        },
        "outputId": "15107a5f-3da7-4bb1-8cf4-8be92809fad3"
      },
      "source": [
        "DNA1= 'TTCATTTAT'\n",
        "DNA2= 'AAAAATAA'\n",
        "9 < 8"
      ],
      "execution_count": 65,
      "outputs": [
        {
          "output_type": "execute_result",
          "data": {
            "text/plain": [
              "False"
            ]
          },
          "metadata": {
            "tags": []
          },
          "execution_count": 65
        }
      ]
    },
    {
      "cell_type": "code",
      "metadata": {
        "id": "33BxCRZqYDtv",
        "colab_type": "code",
        "colab": {}
      },
      "source": [
        "# Q5: Now let's do some sequence manipulations in python. For sequences, DNA1, and DNA2 \n",
        "# Please write your python codes for the following activities:\n",
        "\n",
        "# What is the first letter of the first sequence, DNA1?\n",
        "# What is the first letter of the second sequence, DNA2?\n",
        "# What is the last letter of the first sequence, DNA1?\n",
        "# What is the last letter of the second sequence, DNA2?\n",
        "# Are the first letters of two sequences the same?\n",
        "# Are the last letters of two sequences the same?\n",
        "# What is the 5th letter of the first sequence, DNA1?\n",
        "# What is the 5th letter of the second sequence, DNA2?\n",
        "# What are the first 5 letters of the first sequence, DNA1?\n",
        "# What are the first 5 letters of the second sequence, DNA2?\n",
        "# What are the last 5 letters of the first sequence, DNA1?\n",
        "# What are the last 5 letters of the second sequence, DNA2?\n",
        "# How to concatenate the last 5 letters of the first sequence and the last 5 letters of the second sequence together?"
      ],
      "execution_count": null,
      "outputs": []
    },
    {
      "cell_type": "code",
      "metadata": {
        "id": "dcHZ-48nYUPO",
        "colab_type": "code",
        "colab": {
          "base_uri": "https://localhost:8080/",
          "height": 37
        },
        "outputId": "3f53e48b-4c02-41e9-9087-707911de1712"
      },
      "source": [
        "DNA1= 'TTCATTTAT'\n",
        "DNA1 [0]"
      ],
      "execution_count": 10,
      "outputs": [
        {
          "output_type": "execute_result",
          "data": {
            "application/vnd.google.colaboratory.intrinsic+json": {
              "type": "string"
            },
            "text/plain": [
              "'T'"
            ]
          },
          "metadata": {
            "tags": []
          },
          "execution_count": 10
        }
      ]
    },
    {
      "cell_type": "code",
      "metadata": {
        "id": "RUndCnwhZsF0",
        "colab_type": "code",
        "colab": {
          "base_uri": "https://localhost:8080/",
          "height": 37
        },
        "outputId": "55e208c9-9274-4cc3-9fad-961735a2dd6d"
      },
      "source": [
        "DNA2= 'AAAAATAA'\n",
        "DNA2 [0]"
      ],
      "execution_count": 11,
      "outputs": [
        {
          "output_type": "execute_result",
          "data": {
            "application/vnd.google.colaboratory.intrinsic+json": {
              "type": "string"
            },
            "text/plain": [
              "'A'"
            ]
          },
          "metadata": {
            "tags": []
          },
          "execution_count": 11
        }
      ]
    },
    {
      "cell_type": "code",
      "metadata": {
        "id": "81N06tEdZ0-j",
        "colab_type": "code",
        "colab": {
          "base_uri": "https://localhost:8080/",
          "height": 37
        },
        "outputId": "2f66d144-178a-4bf8-d55b-11e517b61e4a"
      },
      "source": [
        "DNA1= 'TTCATTTAT'\n",
        "DNA1 [8]"
      ],
      "execution_count": 14,
      "outputs": [
        {
          "output_type": "execute_result",
          "data": {
            "application/vnd.google.colaboratory.intrinsic+json": {
              "type": "string"
            },
            "text/plain": [
              "'T'"
            ]
          },
          "metadata": {
            "tags": []
          },
          "execution_count": 14
        }
      ]
    },
    {
      "cell_type": "code",
      "metadata": {
        "id": "BUql5l_iaEmm",
        "colab_type": "code",
        "colab": {
          "base_uri": "https://localhost:8080/",
          "height": 37
        },
        "outputId": "88d07bc4-49db-4606-e99c-ffa0d10da855"
      },
      "source": [
        "DNA2= 'AAAAATAA'\n",
        "DNA2 [7]"
      ],
      "execution_count": 15,
      "outputs": [
        {
          "output_type": "execute_result",
          "data": {
            "application/vnd.google.colaboratory.intrinsic+json": {
              "type": "string"
            },
            "text/plain": [
              "'A'"
            ]
          },
          "metadata": {
            "tags": []
          },
          "execution_count": 15
        }
      ]
    },
    {
      "cell_type": "code",
      "metadata": {
        "id": "GAUSEto2aMKU",
        "colab_type": "code",
        "colab": {
          "base_uri": "https://localhost:8080/",
          "height": 34
        },
        "outputId": "cbb01ad9-b767-4135-ada6-7dee28f6a066"
      },
      "source": [
        "DNA1= 'TTCATTTAT'\n",
        "DNA2= 'AAAAATAA'\n",
        "0 == 0"
      ],
      "execution_count": 66,
      "outputs": [
        {
          "output_type": "execute_result",
          "data": {
            "text/plain": [
              "True"
            ]
          },
          "metadata": {
            "tags": []
          },
          "execution_count": 66
        }
      ]
    },
    {
      "cell_type": "code",
      "metadata": {
        "id": "3RCH-OSfaelO",
        "colab_type": "code",
        "colab": {
          "base_uri": "https://localhost:8080/",
          "height": 34
        },
        "outputId": "cca924f6-5621-4d4b-fb11-17b46bcfdf58"
      },
      "source": [
        "DNA1= 'TTCATTTAT'\n",
        "DNA2= 'AAAAATAA'\n",
        "8 == 7"
      ],
      "execution_count": 67,
      "outputs": [
        {
          "output_type": "execute_result",
          "data": {
            "text/plain": [
              "False"
            ]
          },
          "metadata": {
            "tags": []
          },
          "execution_count": 67
        }
      ]
    },
    {
      "cell_type": "code",
      "metadata": {
        "id": "EdaBBWL0ajz-",
        "colab_type": "code",
        "colab": {
          "base_uri": "https://localhost:8080/",
          "height": 37
        },
        "outputId": "34caa446-dbb4-483b-b22e-b7705da8133f"
      },
      "source": [
        "DNA1= 'TTCATTTAT'\n",
        "DNA1 [4]"
      ],
      "execution_count": 25,
      "outputs": [
        {
          "output_type": "execute_result",
          "data": {
            "application/vnd.google.colaboratory.intrinsic+json": {
              "type": "string"
            },
            "text/plain": [
              "'T'"
            ]
          },
          "metadata": {
            "tags": []
          },
          "execution_count": 25
        }
      ]
    },
    {
      "cell_type": "code",
      "metadata": {
        "id": "uXJsdUA5ayUd",
        "colab_type": "code",
        "colab": {
          "base_uri": "https://localhost:8080/",
          "height": 37
        },
        "outputId": "b680a74c-d4ae-42bd-8de9-4b71319d9690"
      },
      "source": [
        "DNA2= 'AAAAATAA'\n",
        "DNA2 [4]"
      ],
      "execution_count": 24,
      "outputs": [
        {
          "output_type": "execute_result",
          "data": {
            "application/vnd.google.colaboratory.intrinsic+json": {
              "type": "string"
            },
            "text/plain": [
              "'A'"
            ]
          },
          "metadata": {
            "tags": []
          },
          "execution_count": 24
        }
      ]
    },
    {
      "cell_type": "code",
      "metadata": {
        "id": "VlS4f9XIbS3H",
        "colab_type": "code",
        "colab": {
          "base_uri": "https://localhost:8080/",
          "height": 34
        },
        "outputId": "b2bace22-63b0-40d6-bc9a-e8c06458b02f"
      },
      "source": [
        "DNA1= 'TTCATTTAT'\n",
        "print(DNA1[:5])"
      ],
      "execution_count": 27,
      "outputs": [
        {
          "output_type": "stream",
          "text": [
            "TTCAT\n"
          ],
          "name": "stdout"
        }
      ]
    },
    {
      "cell_type": "code",
      "metadata": {
        "id": "UDeqDrtLbrUi",
        "colab_type": "code",
        "colab": {
          "base_uri": "https://localhost:8080/",
          "height": 34
        },
        "outputId": "183e38ff-9cc7-47f1-c54e-cb6b3cb41b7c"
      },
      "source": [
        "DNA2= 'AAAAATAA'\n",
        "print(DNA2[:5])"
      ],
      "execution_count": 28,
      "outputs": [
        {
          "output_type": "stream",
          "text": [
            "AAAAA\n"
          ],
          "name": "stdout"
        }
      ]
    },
    {
      "cell_type": "code",
      "metadata": {
        "id": "w-K_JqNpbxH5",
        "colab_type": "code",
        "colab": {
          "base_uri": "https://localhost:8080/",
          "height": 34
        },
        "outputId": "e5f32594-e02e-42c2-dffe-9c160a34aa3c"
      },
      "source": [
        "DNA1= 'TTCATTTAT'\n",
        "print(DNA1[4:])"
      ],
      "execution_count": 30,
      "outputs": [
        {
          "output_type": "stream",
          "text": [
            "TTTAT\n"
          ],
          "name": "stdout"
        }
      ]
    },
    {
      "cell_type": "code",
      "metadata": {
        "id": "N4Q8LvOWcAaj",
        "colab_type": "code",
        "colab": {
          "base_uri": "https://localhost:8080/",
          "height": 34
        },
        "outputId": "5888706f-46b8-4fc4-867f-3a452b2135c0"
      },
      "source": [
        "DNA2= 'AAAAATAA'\n",
        "print(DNA2[3:])"
      ],
      "execution_count": 32,
      "outputs": [
        {
          "output_type": "stream",
          "text": [
            "AATAA\n"
          ],
          "name": "stdout"
        }
      ]
    },
    {
      "cell_type": "code",
      "metadata": {
        "id": "aivxLdVlcNNJ",
        "colab_type": "code",
        "colab": {
          "base_uri": "https://localhost:8080/",
          "height": 34
        },
        "outputId": "7b072e20-bff4-4139-c84e-1a9e63cbd83b"
      },
      "source": [
        "DNA1= 'TTTAT'\n",
        "DNA2= 'AATAA'\n",
        "DNA3= DNA1 + DNA2\n",
        "print(DNA3)"
      ],
      "execution_count": 34,
      "outputs": [
        {
          "output_type": "stream",
          "text": [
            "TTTATAATAA\n"
          ],
          "name": "stdout"
        }
      ]
    },
    {
      "cell_type": "code",
      "metadata": {
        "id": "TLNl74ISdYmf",
        "colab_type": "code",
        "colab": {}
      },
      "source": [
        "# Q6: Let's continue with the sequence manipulations in python, but this time, we need to call some python's built-in functions. For sequences, DNA1, and DNA2 \n",
        "# Please write your python codes for the following activities:\n",
        "\n",
        "# How many times does the character A appear in the first sequence DNA1? (hint: use str.count() )\n",
        "# How many times does the character A appear in the first sequence DNA2? (hint: use str.count() )\n",
        "# What is the index at which the first occurrence of the pattern AT begins in the first sequence DNA1? (hint: use str.index() )\n",
        "# What is the index at which the first occurrence of the pattern AT begins in the second sequence DNA2? (hint: use str.index() )"
      ],
      "execution_count": null,
      "outputs": []
    },
    {
      "cell_type": "code",
      "metadata": {
        "id": "_7QZO0E6dqa1",
        "colab_type": "code",
        "colab": {
          "base_uri": "https://localhost:8080/",
          "height": 34
        },
        "outputId": "508f5306-4b62-478b-aef2-6cfc05217af9"
      },
      "source": [
        "DNA1= 'TTCATTTAT'\n",
        "DNA1.count('A')"
      ],
      "execution_count": 49,
      "outputs": [
        {
          "output_type": "execute_result",
          "data": {
            "text/plain": [
              "2"
            ]
          },
          "metadata": {
            "tags": []
          },
          "execution_count": 49
        }
      ]
    },
    {
      "cell_type": "code",
      "metadata": {
        "id": "4d_X2_DKjyjV",
        "colab_type": "code",
        "colab": {
          "base_uri": "https://localhost:8080/",
          "height": 34
        },
        "outputId": "2e67e2db-586c-444c-85c4-81328187929b"
      },
      "source": [
        "DNA2= 'AAAAATAA'\n",
        "DNA2.count('A')"
      ],
      "execution_count": 51,
      "outputs": [
        {
          "output_type": "execute_result",
          "data": {
            "text/plain": [
              "7"
            ]
          },
          "metadata": {
            "tags": []
          },
          "execution_count": 51
        }
      ]
    },
    {
      "cell_type": "code",
      "metadata": {
        "id": "OU8QLrmZj_tG",
        "colab_type": "code",
        "colab": {
          "base_uri": "https://localhost:8080/",
          "height": 34
        },
        "outputId": "3682d9c2-98d4-4284-a2b3-433e84142494"
      },
      "source": [
        "DNA1= 'TTCATTTAT'\n",
        "DNA1.index('AT')"
      ],
      "execution_count": 52,
      "outputs": [
        {
          "output_type": "execute_result",
          "data": {
            "text/plain": [
              "3"
            ]
          },
          "metadata": {
            "tags": []
          },
          "execution_count": 52
        }
      ]
    },
    {
      "cell_type": "code",
      "metadata": {
        "id": "xk7xODogkPoj",
        "colab_type": "code",
        "colab": {
          "base_uri": "https://localhost:8080/",
          "height": 34
        },
        "outputId": "d7c5958b-65e6-4a4d-851e-a37fbbd8e44f"
      },
      "source": [
        "DNA2= 'AAAAATAA'\n",
        "DNA2.index('AT')"
      ],
      "execution_count": 53,
      "outputs": [
        {
          "output_type": "execute_result",
          "data": {
            "text/plain": [
              "4"
            ]
          },
          "metadata": {
            "tags": []
          },
          "execution_count": 53
        }
      ]
    }
  ]
}