{
  "nbformat": 4,
  "nbformat_minor": 0,
  "metadata": {
    "colab": {
      "name": "lab02.ipynb",
      "provenance": []
    },
    "kernelspec": {
      "name": "python3",
      "display_name": "Python 3"
    }
  },
  "cells": [
    {
      "cell_type": "code",
      "metadata": {
        "id": "g4fWv4d4f03S",
        "colab_type": "code",
        "colab": {
          "base_uri": "https://localhost:8080/",
          "height": 34
        },
        "outputId": "efd93253-10e8-4bdd-a0f2-95deb3a31355"
      },
      "source": [
        "DNA_motifs = ['TTCAT' , 'AATCATGA' , 'CCCG' , 'GGCATT' , 'CACGT'] \n",
        "print(\"DNA_motifs: \", DNA_motifs)"
      ],
      "execution_count": 17,
      "outputs": [
        {
          "output_type": "stream",
          "text": [
            "DNA_motifs:  ['TTCAT', 'AATCATGA', 'CCCG', 'GGCATT', 'CACGT']\n"
          ],
          "name": "stdout"
        }
      ]
    },
    {
      "cell_type": "code",
      "metadata": {
        "id": "bulAEhd9yZ98",
        "colab_type": "code",
        "colab": {
          "base_uri": "https://localhost:8080/",
          "height": 37
        },
        "outputId": "66f8c5dc-e7e3-4822-db46-b599070e5d36"
      },
      "source": [
        "#2: Based on the defined list 'DNA_motifs', please write your python codes for the following activities:\n",
        "\n",
        "# Q1: What is the first element of the list 'DNA_motifs'?\n",
        "\n",
        "DNA_motifs[0]"
      ],
      "execution_count": 18,
      "outputs": [
        {
          "output_type": "execute_result",
          "data": {
            "application/vnd.google.colaboratory.intrinsic+json": {
              "type": "string"
            },
            "text/plain": [
              "'TTCAT'"
            ]
          },
          "metadata": {
            "tags": []
          },
          "execution_count": 18
        }
      ]
    },
    {
      "cell_type": "code",
      "metadata": {
        "id": "5Ol4pqKi3LO2",
        "colab_type": "code",
        "colab": {
          "base_uri": "https://localhost:8080/",
          "height": 37
        },
        "outputId": "108345dd-c6e1-4427-b606-bf505f5b1d7b"
      },
      "source": [
        "# Q2: What is the last element of the list 'DNA_motifs'?\n",
        "\n",
        "DNA_motifs[4]"
      ],
      "execution_count": 19,
      "outputs": [
        {
          "output_type": "execute_result",
          "data": {
            "application/vnd.google.colaboratory.intrinsic+json": {
              "type": "string"
            },
            "text/plain": [
              "'CACGT'"
            ]
          },
          "metadata": {
            "tags": []
          },
          "execution_count": 19
        }
      ]
    },
    {
      "cell_type": "code",
      "metadata": {
        "id": "RhP0wpnh3Yzn",
        "colab_type": "code",
        "colab": {
          "base_uri": "https://localhost:8080/",
          "height": 37
        },
        "outputId": "d7683770-7117-4950-a824-da7fdfe60aeb"
      },
      "source": [
        "# Q3: What is the 3rd element of the list 'DNA_motifs'?\n",
        "\n",
        "DNA_motifs[2] "
      ],
      "execution_count": 20,
      "outputs": [
        {
          "output_type": "execute_result",
          "data": {
            "application/vnd.google.colaboratory.intrinsic+json": {
              "type": "string"
            },
            "text/plain": [
              "'CCCG'"
            ]
          },
          "metadata": {
            "tags": []
          },
          "execution_count": 20
        }
      ]
    },
    {
      "cell_type": "code",
      "metadata": {
        "id": "6UmSxGsh33jT",
        "colab_type": "code",
        "colab": {
          "base_uri": "https://localhost:8080/",
          "height": 34
        },
        "outputId": "e72f11c0-931a-41a3-95b7-4f0316781824"
      },
      "source": [
        "# Q4: What are the first 3 elements of the list 'DNA_motifs'?\n",
        "\n",
        "DNA_motifs[0:3]\n",
        "print(DNA_motifs[0:3])"
      ],
      "execution_count": 21,
      "outputs": [
        {
          "output_type": "stream",
          "text": [
            "['TTCAT', 'AATCATGA', 'CCCG']\n"
          ],
          "name": "stdout"
        }
      ]
    },
    {
      "cell_type": "code",
      "metadata": {
        "id": "U6fkvCZ-40Fh",
        "colab_type": "code",
        "colab": {
          "base_uri": "https://localhost:8080/",
          "height": 34
        },
        "outputId": "979b1707-c0d6-4be9-9e31-9bf9bd5f325f"
      },
      "source": [
        "# Q5: What are the last 2 elements of the list 'DNA_motifs'?\n",
        "\n",
        "DNA_motifs[3:]"
      ],
      "execution_count": 22,
      "outputs": [
        {
          "output_type": "execute_result",
          "data": {
            "text/plain": [
              "['GGCATT', 'CACGT']"
            ]
          },
          "metadata": {
            "tags": []
          },
          "execution_count": 22
        }
      ]
    },
    {
      "cell_type": "code",
      "metadata": {
        "id": "LOaU1PQP5Mda",
        "colab_type": "code",
        "colab": {
          "base_uri": "https://localhost:8080/",
          "height": 37
        },
        "outputId": "50c2b28d-66a5-4cc4-bbd6-541468ab411c"
      },
      "source": [
        "# Q6: Given the list 'DNA_motifs', how to concatenate the first 2 elements and the last element together?\n",
        "\n",
        "(DNA_motifs[0]) + (DNA_motifs[1]) + (DNA_motifs[-1])"
      ],
      "execution_count": 23,
      "outputs": [
        {
          "output_type": "execute_result",
          "data": {
            "application/vnd.google.colaboratory.intrinsic+json": {
              "type": "string"
            },
            "text/plain": [
              "'TTCATAATCATGACACGT'"
            ]
          },
          "metadata": {
            "tags": []
          },
          "execution_count": 23
        }
      ]
    },
    {
      "cell_type": "code",
      "metadata": {
        "id": "qi1r5tbN6PNj",
        "colab_type": "code",
        "colab": {}
      },
      "source": [
        "#3 Based on the defined list 'DNA_motifs', we need to calculate the length of each motif in this list. We need to use the 'for' loop to access each motif in the list and calculate the length. The expected outputs should be similar as follows:\n",
        "\n",
        "Length of TTCAT is 5\n",
        "Length of AATCATGA is 8\n",
        "Length of CCCG is 4\n",
        "Length of GGCATT is 6\n",
        "Length of CACGT is 5\n",
        "\n",
        "#Please write your python codes for this activity."
      ],
      "execution_count": null,
      "outputs": []
    },
    {
      "cell_type": "code",
      "metadata": {
        "id": "-L83U5R56XZc",
        "colab_type": "code",
        "colab": {}
      },
      "source": [
        "TTCAT = 5"
      ],
      "execution_count": 24,
      "outputs": []
    },
    {
      "cell_type": "code",
      "metadata": {
        "id": "A188xOBN7zmJ",
        "colab_type": "code",
        "colab": {}
      },
      "source": [
        "AATCATGA = 8"
      ],
      "execution_count": 25,
      "outputs": []
    },
    {
      "cell_type": "code",
      "metadata": {
        "id": "iN4aHTej73H4",
        "colab_type": "code",
        "colab": {}
      },
      "source": [
        "CCCG = 4"
      ],
      "execution_count": 26,
      "outputs": []
    },
    {
      "cell_type": "code",
      "metadata": {
        "id": "vaRIS3QZ76U2",
        "colab_type": "code",
        "colab": {}
      },
      "source": [
        "GGCATT = 6"
      ],
      "execution_count": 27,
      "outputs": []
    },
    {
      "cell_type": "code",
      "metadata": {
        "id": "DQrLpDQ17_Xi",
        "colab_type": "code",
        "colab": {}
      },
      "source": [
        "CACGT = 5"
      ],
      "execution_count": 28,
      "outputs": []
    },
    {
      "cell_type": "code",
      "metadata": {
        "id": "WiyId7tw8DqM",
        "colab_type": "code",
        "colab": {}
      },
      "source": [
        "#4 Based on the defined list 'DNA_motifs', we need to find the longest motif in this list. We need to use the 'for' loop to access each motif in the list.\n",
        "# Please write your python codes for this activity.\n"
      ],
      "execution_count": 30,
      "outputs": []
    },
    {
      "cell_type": "code",
      "metadata": {
        "id": "Y449CeL99uly",
        "colab_type": "code",
        "colab": {
          "base_uri": "https://localhost:8080/",
          "height": 34
        },
        "outputId": "e123eec8-b175-4082-e479-e69d864dbd68"
      },
      "source": [
        "longest_length = 0\n",
        "longest_motif = ''\n",
        "for motif in DNA_motifs:\n",
        "  if len(motif) > longest_length:\n",
        "    longest_length = len(motif)\n",
        "    longest_motif = motif\n",
        "\n",
        "print(longest_motif)"
      ],
      "execution_count": 36,
      "outputs": [
        {
          "output_type": "stream",
          "text": [
            "AATCATGA\n"
          ],
          "name": "stdout"
        }
      ]
    },
    {
      "cell_type": "code",
      "metadata": {
        "id": "rchwVOaO-Yh9",
        "colab_type": "code",
        "colab": {}
      },
      "source": [
        "#5. Now let's practice more advanced programming using a list and dictionary. Based on the list 'DNA_motifs', let's define a dictionary 'DNA_motifs_length', where the key is each motif in the list 'DNA_motifs', and the value is its length. \n",
        "# Please write your python codes for this activity.\n"
      ],
      "execution_count": 45,
      "outputs": []
    },
    {
      "cell_type": "code",
      "metadata": {
        "id": "KhE8NTIxRePC",
        "colab_type": "code",
        "colab": {}
      },
      "source": [
        "DNA_motifs_length = {}\n",
        "for motif in DNA_motifs:\n",
        "  DNA_motifs_length[motif] = len(DNA_motifs_length)"
      ],
      "execution_count": 55,
      "outputs": []
    },
    {
      "cell_type": "code",
      "metadata": {
        "id": "HpEQ4LePSEgg",
        "colab_type": "code",
        "colab": {
          "base_uri": "https://localhost:8080/",
          "height": 34
        },
        "outputId": "1c23e713-1f0e-403b-c076-99d02552ca79"
      },
      "source": [
        "print(DNA_motifs_length.keys())"
      ],
      "execution_count": 56,
      "outputs": [
        {
          "output_type": "stream",
          "text": [
            "dict_keys(['TTCAT', 'AATCATGA', 'CCCG', 'GGCATT', 'CACGT'])\n"
          ],
          "name": "stdout"
        }
      ]
    },
    {
      "cell_type": "code",
      "metadata": {
        "id": "Zuz2Rpd4CkPV",
        "colab_type": "code",
        "colab": {}
      },
      "source": [
        "#6. Given the defined dictionary 'DNA_motifs_length', please write your python codes for the following activities.\n",
        "\n",
        "#Add a new motif 'AAT' as a key into the dictionary, and assign its length as value\n",
        "#Print out all the keys in the dictionary\n",
        "#Print out all the values in the dictionary\n",
        "#Print out all the items in the dictionary\n",
        "#Check whether the key 'CCT' already exists in a dictionary\n"
      ],
      "execution_count": null,
      "outputs": []
    },
    {
      "cell_type": "code",
      "metadata": {
        "id": "aGdKofxOWWEl",
        "colab_type": "code",
        "colab": {
          "base_uri": "https://localhost:8080/",
          "height": 34
        },
        "outputId": "ddd3fae7-0f54-428b-ae06-7cd22bee31c9"
      },
      "source": [
        "DNA_motifs_length['AAT'] = 'value'\n",
        "\n",
        "print(DNA_motifs_length)"
      ],
      "execution_count": 60,
      "outputs": [
        {
          "output_type": "stream",
          "text": [
            "{'TTCAT': 0, 'AATCATGA': 1, 'CCCG': 2, 'GGCATT': 3, 'CACGT': 4, 'AAT': 'value'}\n"
          ],
          "name": "stdout"
        }
      ]
    },
    {
      "cell_type": "code",
      "metadata": {
        "id": "xNmTrJVWZJVj",
        "colab_type": "code",
        "colab": {
          "base_uri": "https://localhost:8080/",
          "height": 34
        },
        "outputId": "0595c2fe-add4-4221-aa4d-af9ea10d26db"
      },
      "source": [
        "print(DNA_motifs_length.keys())"
      ],
      "execution_count": 62,
      "outputs": [
        {
          "output_type": "stream",
          "text": [
            "dict_keys(['TTCAT', 'AATCATGA', 'CCCG', 'GGCATT', 'CACGT', 'AAT'])\n"
          ],
          "name": "stdout"
        }
      ]
    },
    {
      "cell_type": "code",
      "metadata": {
        "id": "5u9r2WrwY5EQ",
        "colab_type": "code",
        "colab": {
          "base_uri": "https://localhost:8080/",
          "height": 34
        },
        "outputId": "2d2bb742-7163-45c8-9232-401ed143d130"
      },
      "source": [
        "print(DNA_motifs_length.values())"
      ],
      "execution_count": 61,
      "outputs": [
        {
          "output_type": "stream",
          "text": [
            "dict_values([0, 1, 2, 3, 4, 'value'])\n"
          ],
          "name": "stdout"
        }
      ]
    },
    {
      "cell_type": "code",
      "metadata": {
        "id": "CSMMI3eMZUZs",
        "colab_type": "code",
        "colab": {
          "base_uri": "https://localhost:8080/",
          "height": 34
        },
        "outputId": "62a4eb3c-fb98-4628-d8cb-f08e3a67b7c7"
      },
      "source": [
        "print(DNA_motifs_length.items())"
      ],
      "execution_count": 63,
      "outputs": [
        {
          "output_type": "stream",
          "text": [
            "dict_items([('TTCAT', 0), ('AATCATGA', 1), ('CCCG', 2), ('GGCATT', 3), ('CACGT', 4), ('AAT', 'value')])\n"
          ],
          "name": "stdout"
        }
      ]
    },
    {
      "cell_type": "code",
      "metadata": {
        "id": "_-fPbSi-TVn7",
        "colab_type": "code",
        "colab": {
          "base_uri": "https://localhost:8080/",
          "height": 34
        },
        "outputId": "d8f484d6-06bd-4d9d-8ff0-b490e8756ac2"
      },
      "source": [
        "'CCT' in DNA_motifs_length"
      ],
      "execution_count": 57,
      "outputs": [
        {
          "output_type": "execute_result",
          "data": {
            "text/plain": [
              "False"
            ]
          },
          "metadata": {
            "tags": []
          },
          "execution_count": 57
        }
      ]
    },
    {
      "cell_type": "code",
      "metadata": {
        "id": "hYi1dJTsXEI0",
        "colab_type": "code",
        "colab": {}
      },
      "source": [
        "#7. Based on the defined list 'DNA_motifs', we are interested in the motifs that contain substring 'CAT', please write your python codes to print out these motifs."
      ],
      "execution_count": null,
      "outputs": []
    },
    {
      "cell_type": "code",
      "metadata": {
        "id": "qQ3-kUVGYEmn",
        "colab_type": "code",
        "colab": {
          "base_uri": "https://localhost:8080/",
          "height": 34
        },
        "outputId": "50fc3105-fdc4-497d-8ec9-39b32253dad4"
      },
      "source": [
        "print(DNA_motifs)"
      ],
      "execution_count": 67,
      "outputs": [
        {
          "output_type": "stream",
          "text": [
            "['TTCAT', 'AATCATGA', 'CCCG', 'GGCATT', 'CACGT']\n"
          ],
          "name": "stdout"
        }
      ]
    },
    {
      "cell_type": "code",
      "metadata": {
        "id": "tqfhrb1GeHXI",
        "colab_type": "code",
        "colab": {
          "base_uri": "https://localhost:8080/",
          "height": 102
        },
        "outputId": "1e0a40cd-f898-44fb-b18e-0c78b1e33a0c"
      },
      "source": [
        "  for CAT in DNA_motifs:\n",
        "    print(\"FOUND\", CAT)\n",
        "    if CAT == 'CAT':\n",
        "      print(\"Stop here!\")\n",
        "      break \n"
      ],
      "execution_count": 72,
      "outputs": [
        {
          "output_type": "stream",
          "text": [
            "FOUND TTCAT\n",
            "FOUND AATCATGA\n",
            "FOUND CCCG\n",
            "FOUND GGCATT\n",
            "FOUND CACGT\n"
          ],
          "name": "stdout"
        }
      ]
    },
    {
      "cell_type": "code",
      "metadata": {
        "id": "WG2MJVZdfdFj",
        "colab_type": "code",
        "colab": {}
      },
      "source": [
        "#8. Based on the defined list 'DNA_motifs', we are also interested in the motifs that have a length larger than 5, please write your python codes to print out these motifs."
      ],
      "execution_count": null,
      "outputs": []
    },
    {
      "cell_type": "code",
      "metadata": {
        "id": "Fz1m2FMIgJVT",
        "colab_type": "code",
        "colab": {}
      },
      "source": [
        "index = 5\n",
        "while index > 6:\n",
        "  print('index', index)\n",
        "  print(DNA_motifs[index])\n",
        "  index =index + 1"
      ],
      "execution_count": 75,
      "outputs": []
    },
    {
      "cell_type": "code",
      "metadata": {
        "id": "Fxkc9WLrCruT",
        "colab_type": "code",
        "colab": {}
      },
      "source": [
        "#9. Based on the defined list 'DNA_motifs', we would like to replace the letter 'T' with 'U' for every motif and assign them to a new list called 'RNA_motifs'.\n",
        "#Please write your python codes for this activity \n",
        "\n",
        "DNA_motifs = ['TTCAT','AATCATGA','CCCG','GGCATT','CACGT']"
      ],
      "execution_count": 52,
      "outputs": []
    },
    {
      "cell_type": "code",
      "metadata": {
        "id": "O7njw0DRQpAZ",
        "colab_type": "code",
        "colab": {}
      },
      "source": [
        "RNA_motifs = ['UUUAU','AAUCAUGA', 'CCCG','GGCAUU','CACGU']"
      ],
      "execution_count": 53,
      "outputs": []
    },
    {
      "cell_type": "code",
      "metadata": {
        "id": "8KBBSi3_Pdt5",
        "colab_type": "code",
        "colab": {
          "base_uri": "https://localhost:8080/",
          "height": 34
        },
        "outputId": "5df884c8-cee4-46f8-fd4b-324396855d4d"
      },
      "source": [
        "RNA_motifs = []\n",
        "for motif in DNA_motifs:\n",
        "  RNA_motifs.append(motif.replace('T','U'))\n",
        "\n",
        "print(RNA_motifs)"
      ],
      "execution_count": 54,
      "outputs": [
        {
          "output_type": "stream",
          "text": [
            "['UUCAU', 'AAUCAUGA', 'CCCG', 'GGCAUU', 'CACGU']\n"
          ],
          "name": "stdout"
        }
      ]
    },
    {
      "cell_type": "code",
      "metadata": {
        "id": "8KRE58QPl250",
        "colab_type": "code",
        "colab": {}
      },
      "source": [
        "#10. Based on the defined list 'DNA_motifs', we are also interested in the motifs that have a length larger than 5. After we find the motifs, we need to concatenate them as a new string and add it as new key into dictionary 'DNA_motifs_length', where the value is the new sequence's length. Please write your python codes for this activity. "
      ],
      "execution_count": null,
      "outputs": []
    }
  ]
}