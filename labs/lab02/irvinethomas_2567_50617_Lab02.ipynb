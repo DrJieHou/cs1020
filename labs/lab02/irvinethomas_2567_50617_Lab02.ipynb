{
  "nbformat": 4,
  "nbformat_minor": 0,
  "metadata": {
    "colab": {
      "name": "Lab02.ipynb",
      "provenance": [],
      "collapsed_sections": []
    },
    "kernelspec": {
      "name": "python3",
      "display_name": "Python 3"
    }
  },
  "cells": [
    {
      "cell_type": "code",
      "metadata": {
        "id": "w9HGEFf_X05j",
        "colab_type": "code",
        "colab": {
          "base_uri": "https://localhost:8080/",
          "height": 35
        },
        "outputId": "92f1b46a-072b-4a5f-f5fc-752e257d6669"
      },
      "source": [
        "DNA_motifs = [\"TTCAT\", \"AATCATGA\", \"CCCG\", \"GGCATT\", \"CACGT\"]\n",
        "print(\"1. \"\"DNA_motifs: \", DNA_motifs)"
      ],
      "execution_count": null,
      "outputs": [
        {
          "output_type": "stream",
          "text": [
            "1. DNA_motifs:  ['TTCAT', 'AATCATGA', 'CCCG', 'GGCATT', 'CACGT']\n"
          ],
          "name": "stdout"
        }
      ]
    },
    {
      "cell_type": "code",
      "metadata": {
        "id": "iw381Tcah6HC",
        "colab_type": "code",
        "colab": {
          "base_uri": "https://localhost:8080/",
          "height": 693
        },
        "outputId": "2c628406-1b7a-4c2f-e823-865b3a90b6f7"
      },
      "source": [
        "##\n",
        "DNA_motifs = [\"TTCAT\", \"AATCATGA\", \"CCCG\", \"GGCATT\", \"CACGT\"]\n",
        "##\n",
        "##\n",
        "print(\"1. \"\"DNA_motifs: \", DNA_motifs)\n",
        "print(\"\\n2.1 \", DNA_motifs[0])\n",
        "print(\"2.2 \", DNA_motifs[-1])\n",
        "print(\"2.3 \", DNA_motifs[2])\n",
        "print(\"2.4 \", DNA_motifs[0:3])\n",
        "print(\"2.5 \", DNA_motifs[-2:])\n",
        "DNA_motifs_2 = DNA_motifs[0:2] + DNA_motifs[-2:] \n",
        "print(\"2.6 \", DNA_motifs_2)\n",
        "##\n",
        "##\n",
        "print(\"\")\n",
        "line_starter_3 = 3.0\n",
        "for motif in DNA_motifs:\n",
        "  line_starter_3 = round(line_starter_3 + 0.1, 2)\n",
        "  print(line_starter_3, motif, \"=\", len(motif))\n",
        "##\n",
        "##\n",
        "longest_motif = 0\n",
        "for motif in DNA_motifs:\n",
        "  if len(motif) > longest_motif:\n",
        "    longest_motif = len(motif)\n",
        "print(\"\\n4. longest motif =\", longest_motif)\n",
        "##\n",
        "##\n",
        "DNA_motifs_length = {}\n",
        "for motif in DNA_motifs:\n",
        "  DNA_motifs_length[motif] = len(motif)\n",
        "print(\"\\n5.\", DNA_motifs_length)\n",
        "##\n",
        "##\n",
        "DNA_motifs_length[\"AAT\"] = len(\"AAT\")\n",
        "print(\"\\n6.1\", DNA_motifs_length)\n",
        "print(\"6.2\", list(DNA_motifs_length.keys()))\n",
        "print(\"6.3\", list(DNA_motifs_length.values()))\n",
        "print(\"6.4\", list(DNA_motifs_length.items()))\n",
        "print(\"6.5\", \"Does Not Exist\" if DNA_motifs_length.get(\"CCT\") == None else DNA_motifs_length.get(\"CCT\"))\n",
        "##\n",
        "##\n",
        "print(\"\")\n",
        "line_starter_7 = 7.0\n",
        "for motif in DNA_motifs:\n",
        "  line_starter_7 = round(line_starter_7 + .1, 2)\n",
        "  if \"CAT\" in motif:\n",
        "    print(line_starter_7, motif, \"Contains: CAT\")\n",
        "  else: \n",
        "    print(line_starter_7, motif, \"Does Not Contain CAT\")\n",
        "##\n",
        "##\n",
        "print(\"\")\n",
        "line_starter_8 = 8.0\n",
        "for motif in DNA_motifs:\n",
        "  line_starter_8 = round(line_starter_8 + .1, 2)\n",
        "  if len(motif) > 5:\n",
        "    print(line_starter_8, motif, \"Has Length Greater Than 5\")\n",
        "  else: \n",
        "    print(line_starter_8, motif, \"Has Length Less Than or Equal 5\")\n",
        "##\n",
        "##\n",
        "print(\"\")\n",
        "line_starter_9 = 9.0\n",
        "RNA_motifs = []\n",
        "for motif in DNA_motifs:\n",
        "  RNA_motifs.append(motif.replace(\"T\", \"U\"))\n",
        "print(\"9.\", RNA_motifs)\n",
        "##\n",
        "##\n",
        "monster_string = \"\"\n",
        "for motif in DNA_motifs:\n",
        "  if len(motif) > 5:\n",
        "    monster_string = monster_string + motif\n",
        "DNA_motifs_length[monster_string] = len(monster_string)\n",
        "print(\"10.\", DNA_motifs_length)\n",
        "## Was it possible to not define an extra variable by combining and adding them into the dictionary at the same time\n",
        "\n",
        "\n",
        "\n"
      ],
      "execution_count": 121,
      "outputs": [
        {
          "output_type": "stream",
          "text": [
            "1. DNA_motifs:  ['TTCAT', 'AATCATGA', 'CCCG', 'GGCATT', 'CACGT']\n",
            "\n",
            "2.1  TTCAT\n",
            "2.2  CACGT\n",
            "2.3  CCCG\n",
            "2.4  ['TTCAT', 'AATCATGA', 'CCCG']\n",
            "2.5  ['GGCATT', 'CACGT']\n",
            "2.6  ['TTCAT', 'AATCATGA', 'GGCATT', 'CACGT']\n",
            "\n",
            "3.1 TTCAT = 5\n",
            "3.2 AATCATGA = 8\n",
            "3.3 CCCG = 4\n",
            "3.4 GGCATT = 6\n",
            "3.5 CACGT = 5\n",
            "\n",
            "4. longest motif = 8\n",
            "\n",
            "5. {'TTCAT': 5, 'AATCATGA': 8, 'CCCG': 4, 'GGCATT': 6, 'CACGT': 5}\n",
            "\n",
            "6.1 {'TTCAT': 5, 'AATCATGA': 8, 'CCCG': 4, 'GGCATT': 6, 'CACGT': 5, 'AAT': 3}\n",
            "6.2 ['TTCAT', 'AATCATGA', 'CCCG', 'GGCATT', 'CACGT', 'AAT']\n",
            "6.3 [5, 8, 4, 6, 5, 3]\n",
            "6.4 [('TTCAT', 5), ('AATCATGA', 8), ('CCCG', 4), ('GGCATT', 6), ('CACGT', 5), ('AAT', 3)]\n",
            "6.5 Does Not Exist\n",
            "\n",
            "7.1 TTCAT Contains: CAT\n",
            "7.2 AATCATGA Contains: CAT\n",
            "7.3 CCCG Does Not Contain CAT\n",
            "7.4 GGCATT Contains: CAT\n",
            "7.5 CACGT Does Not Contain CAT\n",
            "\n",
            "8.1 TTCAT Has Length Less Than or Equal 5\n",
            "8.2 AATCATGA Has Length Greater Than 5\n",
            "8.3 CCCG Has Length Less Than or Equal 5\n",
            "8.4 GGCATT Has Length Greater Than 5\n",
            "8.5 CACGT Has Length Less Than or Equal 5\n",
            "\n",
            "9. ['UUCAU', 'AAUCAUGA', 'CCCG', 'GGCAUU', 'CACGU']\n",
            "10. {'TTCAT': 5, 'AATCATGA': 8, 'CCCG': 4, 'GGCATT': 6, 'CACGT': 5, 'AAT': 3, 'AATCATGAGGCATT': 14}\n"
          ],
          "name": "stdout"
        }
      ]
    }
  ]
}