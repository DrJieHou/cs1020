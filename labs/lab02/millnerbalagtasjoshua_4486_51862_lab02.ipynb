{
  "nbformat": 4,
  "nbformat_minor": 0,
  "metadata": {
    "colab": {
      "name": "lab02.ipynb",
      "provenance": []
    },
    "kernelspec": {
      "name": "python3",
      "display_name": "Python 3"
    }
  },
  "cells": [
    {
      "cell_type": "markdown",
      "metadata": {
        "id": "Af7g5hWJ1zVk",
        "colab_type": "text"
      },
      "source": [
        "Assume that we have 5 DNA motifs that have the following strings:\n",
        "\n",
        "TTCAT\n",
        "AATCATGA\n",
        "CCCG\n",
        "GGCATT\n",
        "CACGT\n",
        "\n",
        "which are comprised of four nucleotides (e.g. A, T, C, G). We would like to define a variable called 'DNA_motifs', and store these sequences in this variable using the data type list. Then we need to print the variable by print(\"DNA_motifs: \", DNA_motifs)\n",
        "Please write your python codes for this activity."
      ]
    },
    {
      "cell_type": "code",
      "metadata": {
        "id": "NvXGrucF1EnK",
        "colab_type": "code",
        "colab": {}
      },
      "source": [
        "#1\n",
        "DNA_motifs = ['TTCAT', 'AATCATGA', 'CCCG', 'GGCATT', 'CACGT']\n",
        "type(DNA_motifs)\n",
        "print(\"DNA_motifs:\",DNA_motifs)\n"
      ],
      "execution_count": null,
      "outputs": []
    },
    {
      "cell_type": "markdown",
      "metadata": {
        "id": "akiruIj939IB",
        "colab_type": "text"
      },
      "source": [
        "Based on the defined list 'DNA_motifs', please write your python codes for the following activities:\n",
        "\n",
        "What is the first element of the list 'DNA_motifs'?\n",
        "What is the last element of the list 'DNA_motifs'?\n",
        "What is the 3rd element of the list 'DNA_motifs'?\n",
        "What are the first 3 elements of the list 'DNA_motifs'?\n",
        "What are the last 2 elements of the list 'DNA_motifs'?\n",
        "Given the list 'DNA_motifs', how to concatenate the first 2 elements and the last element together?"
      ]
    },
    {
      "cell_type": "code",
      "metadata": {
        "id": "IWxn7_u038XT",
        "colab_type": "code",
        "colab": {
          "base_uri": "https://localhost:8080/",
          "height": 34
        },
        "outputId": "f6ea3f64-fa6b-4830-a3df-9e00e28865e8"
      },
      "source": [
        "#2\n",
        "DNA_motifs = ['TTCAT', 'AATCATGA', 'CCCG', 'GGCATT', 'CACGT']\n",
        "DNA_motifs[0]\n",
        "DNA_motifs[4]\n",
        "DNA_motifs[2]\n",
        "DNA_motifs[:3]\n",
        "DNA_motifs[3:]\n",
        "DNA_Motifscomb = DNA_motifs[:2] + DNA_motifs[4:]\n",
        "print(DNA_Motifscomb)\n"
      ],
      "execution_count": 1,
      "outputs": [
        {
          "output_type": "stream",
          "text": [
            "['TTCAT', 'AATCATGA', 'CACGT']\n"
          ],
          "name": "stdout"
        }
      ]
    },
    {
      "cell_type": "markdown",
      "metadata": {
        "id": "oiwodBRj8Dgz",
        "colab_type": "text"
      },
      "source": [
        "Based on the defined list 'DNA_motifs', we need to calculate the length of each motif in this list. We need to use the 'for' loop to access each motif in the list and calculate the length. The expected outputs should be similar as follows:\n",
        "\n",
        "Length of TTCAT is 5\n",
        "Length of AATCATGA is 8\n",
        "Length of CCCG is 4\n",
        "Length of GGCATT is 6\n",
        "Length of CACGT is 5\n",
        "\n",
        "Please write your python codes for this activity."
      ]
    },
    {
      "cell_type": "code",
      "metadata": {
        "id": "9BI30ob08H1J",
        "colab_type": "code",
        "colab": {
          "base_uri": "https://localhost:8080/",
          "height": 101
        },
        "outputId": "eb14290a-6aae-4ab5-999c-d004da4dd7a0"
      },
      "source": [
        "#3\n",
        "for motif in DNA_motifs:\n",
        "  print(motif, \":\", len(motif))"
      ],
      "execution_count": 2,
      "outputs": [
        {
          "output_type": "stream",
          "text": [
            "TTCAT : 5\n",
            "AATCATGA : 8\n",
            "CCCG : 4\n",
            "GGCATT : 6\n",
            "CACGT : 5\n"
          ],
          "name": "stdout"
        }
      ]
    },
    {
      "cell_type": "markdown",
      "metadata": {
        "id": "5iVXI7RS6Cs6",
        "colab_type": "text"
      },
      "source": [
        "Based on the defined list 'DNA_motifs', we need to find the longest motif in this list. We need to use the 'for' loop to access each motif in the list.\n",
        "Please write your python codes for this activity."
      ]
    },
    {
      "cell_type": "code",
      "metadata": {
        "id": "Ddw3hTY23IFI",
        "colab_type": "code",
        "colab": {}
      },
      "source": [
        "#4\n",
        "longest_length = 0\n",
        "longest_motif = ''\n",
        "for motif in DNA_motifs:\n",
        "   if len(motif) > longest_length:\n",
        "    longest_length = len(motif)\n",
        "    longest_motif = motif\n",
        "\n",
        "print(longest_motif)"
      ],
      "execution_count": null,
      "outputs": []
    },
    {
      "cell_type": "markdown",
      "metadata": {
        "id": "Q_4-44Ahsu_H",
        "colab_type": "text"
      },
      "source": [
        "Now let's practice more advanced programming using a list and dictionary. Based on the list 'DNA_motifs', let's define a dictionary 'DNA_motifs_length', where the key is each motif in the list 'DNA_motifs', and the value is its length.\n",
        "Please write your python codes for this activity."
      ]
    },
    {
      "cell_type": "code",
      "metadata": {
        "id": "ArKQboXksy-7",
        "colab_type": "code",
        "colab": {
          "base_uri": "https://localhost:8080/",
          "height": 34
        },
        "outputId": "655c0fa2-e940-4e98-9fae-5393cb64e4a7"
      },
      "source": [
        "#5\n",
        "DNA_motifs = ['TTCAT', 'AATCATGA', 'CCCG', 'GGCATT', 'CACGT']\n",
        "\n",
        "DNA_motifs_length = {'TTCAT': '5',\n",
        "                     'AATCATGA': '8',\n",
        "                     'CCCG': '4',\n",
        "                     'GGCATT': '6',\n",
        "                     'CACGT': '5',}\n",
        "print(DNA_motifs_length)"
      ],
      "execution_count": 4,
      "outputs": [
        {
          "output_type": "stream",
          "text": [
            "{'TTCAT': '5', 'AATCATGA': '8', 'CCCG': '4', 'GGCATT': '6', 'CACGT': '5'}\n"
          ],
          "name": "stdout"
        }
      ]
    },
    {
      "cell_type": "markdown",
      "metadata": {
        "id": "8zM2XoW0uzvF",
        "colab_type": "text"
      },
      "source": [
        "Given the defined dictionary 'DNA_motifs_length', please write your python codes for the following activities.\n",
        "\n",
        "Add a new motif 'AAT' as a key into the dictionary, and assign its length as value\n",
        "Print out all the keys in the dictionary\n",
        "Print out all the values in the dictionary\n",
        "Print out all the items in the dictionary\n",
        "Check whether the key 'CCT' already exists in a dictionary"
      ]
    },
    {
      "cell_type": "code",
      "metadata": {
        "id": "E5owudi6u4iB",
        "colab_type": "code",
        "colab": {}
      },
      "source": [
        "#6\n",
        "DNA_motifs_length = {'TTCAT': '5',\n",
        "                     'AATCATGA': '8',\n",
        "                     'CCCG': '4',\n",
        "                     'GGCATT': '6',\n",
        "                     'CACGT': '5',}\n",
        "\n",
        "DNA_motifs_length['AAT'] = '3'\n",
        "print(DNA_motifs_length)\n",
        "\n",
        "print(DNA_motifs_length.keys())\n",
        "\n",
        "print(DNA_motifs_length.values())\n",
        "\n",
        "print(DNA_motifs_length.items())\n",
        "\n",
        "print(DNA_motifs_length['CCT'])\n"
      ],
      "execution_count": null,
      "outputs": []
    },
    {
      "cell_type": "markdown",
      "metadata": {
        "id": "IS_ZpcN04BRG",
        "colab_type": "text"
      },
      "source": [
        "Based on the defined list 'DNA_motifs', we are interested in the motifs that contain substring 'CAT', please write your python codes to print out these motifs. (hint: use while/for loop and if conditions)."
      ]
    },
    {
      "cell_type": "code",
      "metadata": {
        "id": "8zpOWgXP4DIW",
        "colab_type": "code",
        "colab": {}
      },
      "source": [
        "#7\n",
        "DNA_motifs = ['TTCAT', 'AATCATGA', 'CCCG', 'GGCATT', 'CACGT']\n",
        "motif_substring = 'CAT'\n",
        "for motif in DNA_motifs:\n",
        "  if  motif_substring.index('CAT') in DNA_motifs:\n",
        "    print(motif)\n"
      ],
      "execution_count": null,
      "outputs": []
    },
    {
      "cell_type": "markdown",
      "metadata": {
        "id": "TxWBG0CL9soq",
        "colab_type": "text"
      },
      "source": [
        "Based on the defined list 'DNA_motifs', we are also interested in the motifs that have a length larger than 5, please write your python codes to print out these motifs. (hint: use while/for loop and if conditions)."
      ]
    },
    {
      "cell_type": "code",
      "metadata": {
        "id": "wksD4xYj9wbx",
        "colab_type": "code",
        "colab": {
          "base_uri": "https://localhost:8080/",
          "height": 50
        },
        "outputId": "4ea8ef71-f5ef-4eb3-a51b-1042f8e01c40"
      },
      "source": [
        "#8\n",
        "DNA_motifs = ['TTCAT', 'AATCATGA', 'CCCG', 'GGCATT', 'CACGT']\n",
        "for motif in DNA_motifs:\n",
        "  if len(motif) > 5:\n",
        "    print(motif, \":\", len(motif))"
      ],
      "execution_count": 5,
      "outputs": [
        {
          "output_type": "stream",
          "text": [
            "AATCATGA : 8\n",
            "GGCATT : 6\n"
          ],
          "name": "stdout"
        }
      ]
    },
    {
      "cell_type": "markdown",
      "metadata": {
        "id": "9_QaxhUT498n",
        "colab_type": "text"
      },
      "source": [
        "Based on the defined list 'DNA_motifs', we would like to replace the letter 'T' with 'U' for every motif and assign them to a new list called 'RNA_motifs'.\n",
        "Please write your python codes for this activity (hint: use for loop, string.replace() and list.append() function)."
      ]
    },
    {
      "cell_type": "code",
      "metadata": {
        "id": "PZgPx7md5iQV",
        "colab_type": "code",
        "colab": {}
      },
      "source": [
        "RNA_motifs = ['UUCAU', 'AAUCAUGA', 'CCCG', 'GGCAUU', 'CACGU']"
      ],
      "execution_count": null,
      "outputs": []
    },
    {
      "cell_type": "code",
      "metadata": {
        "id": "bJu7ZvEh4-ji",
        "colab_type": "code",
        "colab": {
          "base_uri": "https://localhost:8080/",
          "height": 34
        },
        "outputId": "b2e5cdbd-da24-4521-d3a2-f7695930625a"
      },
      "source": [
        "#9\n",
        "RNA_motifs = []\n",
        "for motif in DNA_motifs:\n",
        "  RNA_motifs.append(motif.replace('T', 'U'))\n",
        "\n",
        "print(RNA_motifs)\n",
        "\n"
      ],
      "execution_count": 6,
      "outputs": [
        {
          "output_type": "stream",
          "text": [
            "['UUCAU', 'AAUCAUGA', 'CCCG', 'GGCAUU', 'CACGU']\n"
          ],
          "name": "stdout"
        }
      ]
    },
    {
      "cell_type": "markdown",
      "metadata": {
        "id": "yxjAaQ-0-fwJ",
        "colab_type": "text"
      },
      "source": [
        "Based on the defined list 'DNA_motifs', we are also interested in the motifs that have a length larger than 5. After we find the motifs, we need to concatenate them as a new string and add it as new key into dictionary 'DNA_motifs_length', where the value is the new sequence's length. Please write your python codes for this activity. (hint: use while/for loop and if conditions)."
      ]
    },
    {
      "cell_type": "code",
      "metadata": {
        "id": "1NrUWq0s-h3A",
        "colab_type": "code",
        "colab": {}
      },
      "source": [
        "#10\n",
        "DNA_motifs = ['TTCAT', 'AATCATGA', 'CCCG', 'GGCATT', 'CACGT']\n",
        "DNA_motifs_length = {'TTCAT': '5',\n",
        "                     'AATCATGA': '8',\n",
        "                     'CCCG': '4',\n",
        "                     'GGCATT': '6',\n",
        "                     'CACGT': '5',}\n",
        "\n",
        "for motif in DNA_motifs:\n",
        "  if len(motif) > 5:\n",
        "    print(motif, \":\", len(motif))\n",
        "    DNA_motifs2 = DNA_motifs[1] + DNA_motifs[3]\n",
        "    print(DNA_motifs2)\n",
        "print(len(DNA_motifs2))\n",
        "DNA_motifs_length[\"AATCATGAGGCATT\"] = '14'\n",
        "\n",
        "print(DNA_motifs_length)\n",
        "   \n",
        "   \n",
        "\n"
      ],
      "execution_count": null,
      "outputs": []
    }
  ]
}