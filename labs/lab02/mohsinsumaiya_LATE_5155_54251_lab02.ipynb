{
  "nbformat": 4,
  "nbformat_minor": 0,
  "metadata": {
    "colab": {
      "name": "lab02.ipynb",
      "provenance": []
    },
    "kernelspec": {
      "name": "python3",
      "display_name": "Python 3"
    }
  },
  "cells": [
    {
      "cell_type": "code",
      "metadata": {
        "id": "jf_dxthDaByu",
        "colab_type": "code",
        "colab": {
          "base_uri": "https://localhost:8080/",
          "height": 510
        },
        "outputId": "d5f976e7-1336-4ca3-e5aa-ac4d564344a8"
      },
      "source": [
        "DNA_motif= ['TTCAT','AATCATGA','CCCG','GGCATT','CACGT']\n",
        "\n",
        "print(DNA_motif)\n",
        "\n",
        "for x in DNA_motif:\n",
        "  print(\"DNA_motifs: \", x) \n",
        "\n",
        "print(DNA_motif[0:])\n",
        "print(DNA_motif[4:])\n",
        "print(DNA_motif[3:])\n",
        "print(DNA_motif[0:3])\n",
        "print(DNA_motif[2:])\n",
        "print(DNA_motif[0:2]+DNA_motif[4:])\n",
        "\n",
        "for y in DNA_motif:\n",
        "  print(\"Length of: \" + y + \" is \" + str(len(y)))\n",
        "\n",
        "\n",
        "m = 0\n",
        "for i in DNA_motif:\n",
        "  if m < len(i):\n",
        "    m = len(i)\n",
        "\n",
        "print(\"Max length is: \" + str(m))\n",
        "\n",
        "DNA_motifs_length = dict()\n",
        "for j in DNA_motif:\n",
        "  DNA_motifs_length[j] = len(j)\n",
        "\n",
        "DNA_motifs_length['AAT'] = 3\n",
        "print(DNA_motifs_length.keys())\n",
        "print(DNA_motifs_length.values())\n",
        "print(DNA_motifs_length)\n",
        "if 'CCT' in DNA_motifs_length.keys():\n",
        "  print('CCT is present in DNA_motifs_length')\n",
        "else:\n",
        "  print('CCT is not present in DNA_motifs_length')\n",
        "\n",
        "for m in DNA_motif:\n",
        "  if m.find('CAT'):\n",
        "    print(m + \" contains CAT\")\n",
        "\n",
        "for n in DNA_motif:\n",
        "  if len(n) > 5:\n",
        "    print(n + ' has a length larger than 5')\n",
        "\n",
        "RNA_motifs = list()\n",
        "for k in DNA_motif:\n",
        "  if k.find('T'):\n",
        "    RNA_motifs.append(k.replace('T', 'U'))\n",
        "\n",
        "newstring = ''\n",
        "for q in DNA_motif:\n",
        "  if len(q) > 5:\n",
        "    newstring = (newstring + q)\n",
        "DNA_motifs_length[newstring] = len(newstring)"
      ],
      "execution_count": 1,
      "outputs": [
        {
          "output_type": "stream",
          "text": [
            "['TTCAT', 'AATCATGA', 'CCCG', 'GGCATT', 'CACGT']\n",
            "DNA_motifs:  TTCAT\n",
            "DNA_motifs:  AATCATGA\n",
            "DNA_motifs:  CCCG\n",
            "DNA_motifs:  GGCATT\n",
            "DNA_motifs:  CACGT\n",
            "['TTCAT', 'AATCATGA', 'CCCG', 'GGCATT', 'CACGT']\n",
            "['CACGT']\n",
            "['GGCATT', 'CACGT']\n",
            "['TTCAT', 'AATCATGA', 'CCCG']\n",
            "['CCCG', 'GGCATT', 'CACGT']\n",
            "['TTCAT', 'AATCATGA', 'CACGT']\n",
            "Length of: TTCAT is 5\n",
            "Length of: AATCATGA is 8\n",
            "Length of: CCCG is 4\n",
            "Length of: GGCATT is 6\n",
            "Length of: CACGT is 5\n",
            "Max length is: 8\n",
            "dict_keys(['TTCAT', 'AATCATGA', 'CCCG', 'GGCATT', 'CACGT', 'AAT'])\n",
            "dict_values([5, 8, 4, 6, 5, 3])\n",
            "{'TTCAT': 5, 'AATCATGA': 8, 'CCCG': 4, 'GGCATT': 6, 'CACGT': 5, 'AAT': 3}\n",
            "CCT is not present in DNA_motifs_length\n",
            "TTCAT contains CAT\n",
            "AATCATGA contains CAT\n",
            "CCCG contains CAT\n",
            "GGCATT contains CAT\n",
            "CACGT contains CAT\n",
            "AATCATGA has a length larger than 5\n",
            "GGCATT has a length larger than 5\n"
          ],
          "name": "stdout"
        }
      ]
    }
  ]
}