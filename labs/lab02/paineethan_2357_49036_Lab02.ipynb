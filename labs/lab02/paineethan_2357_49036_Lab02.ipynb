{
  "nbformat": 4,
  "nbformat_minor": 0,
  "metadata": {
    "colab": {
      "name": "Lab02.ipynb",
      "provenance": []
    },
    "kernelspec": {
      "name": "python3",
      "display_name": "Python 3"
    }
  },
  "cells": [
    {
      "cell_type": "code",
      "metadata": {
        "id": "bwRjm7BrCbnF",
        "colab_type": "code",
        "colab": {
          "base_uri": "https://localhost:8080/",
          "height": 34
        },
        "outputId": "b934fd3b-557e-464a-cdc1-b4dec6ba9f2e"
      },
      "source": [
        "# 1. Assume that we have 5 DNA motifs that have the following strings: \"\"... which are comprised of four nucleotides (e.g. A, T, C, G). We would like to define a variable called 'DNA_motifs', and store these sequences in this variable using the data type list. Then we need to print the variable by print(\"DNA_motifs: \", DNA_motifs) \n",
        "DNA_Motifs = ['TTCAT','AATCATGA', 'CCCG', 'GGCATT', 'CACGT']\n",
        "print(DNA_Motifs)"
      ],
      "execution_count": 4,
      "outputs": [
        {
          "output_type": "stream",
          "text": [
            "['TTCAT', 'AATCATGA', 'CCCG', 'GGCATT', 'CACGT']\n"
          ],
          "name": "stdout"
        }
      ]
    },
    {
      "cell_type": "code",
      "metadata": {
        "id": "KUUh_ztsDLKB",
        "colab_type": "code",
        "colab": {
          "base_uri": "https://localhost:8080/",
          "height": 37
        },
        "outputId": "4801ce55-94f5-452d-b91c-b9494a514a21"
      },
      "source": [
        "# 2. Based on the defined list 'DNA_motifs', please write your python codes for the following activities:\n",
        "# 1a. What is the first element of the list 'DNA_motifs'?\n",
        "DNA_Motifs[0]"
      ],
      "execution_count": 5,
      "outputs": [
        {
          "output_type": "execute_result",
          "data": {
            "application/vnd.google.colaboratory.intrinsic+json": {
              "type": "string"
            },
            "text/plain": [
              "'TTCAT'"
            ]
          },
          "metadata": {
            "tags": []
          },
          "execution_count": 5
        }
      ]
    },
    {
      "cell_type": "code",
      "metadata": {
        "id": "gahp0TXmD0eB",
        "colab_type": "code",
        "colab": {
          "base_uri": "https://localhost:8080/",
          "height": 37
        },
        "outputId": "b116ebbf-e22b-4404-e584-4d692cc0245b"
      },
      "source": [
        "# 2a. What is the last element of the list 'DNA_motifs'?\n",
        "DNA_Motifs[4]"
      ],
      "execution_count": 6,
      "outputs": [
        {
          "output_type": "execute_result",
          "data": {
            "application/vnd.google.colaboratory.intrinsic+json": {
              "type": "string"
            },
            "text/plain": [
              "'CACGT'"
            ]
          },
          "metadata": {
            "tags": []
          },
          "execution_count": 6
        }
      ]
    },
    {
      "cell_type": "code",
      "metadata": {
        "id": "miUWVN0FD-u7",
        "colab_type": "code",
        "colab": {
          "base_uri": "https://localhost:8080/",
          "height": 37
        },
        "outputId": "acde8dae-f3a1-4140-d54a-81753ceb3b69"
      },
      "source": [
        "# 3a. What is the 3rd element of the list 'DNA_motifs'?\n",
        "DNA_Motifs[2]"
      ],
      "execution_count": 7,
      "outputs": [
        {
          "output_type": "execute_result",
          "data": {
            "application/vnd.google.colaboratory.intrinsic+json": {
              "type": "string"
            },
            "text/plain": [
              "'CCCG'"
            ]
          },
          "metadata": {
            "tags": []
          },
          "execution_count": 7
        }
      ]
    },
    {
      "cell_type": "code",
      "metadata": {
        "id": "PY53VpcIELjP",
        "colab_type": "code",
        "colab": {
          "base_uri": "https://localhost:8080/",
          "height": 34
        },
        "outputId": "b5c5c48f-7c1b-4df3-d121-6224efff129a"
      },
      "source": [
        "# 4a. What are the first 3 elements of the list 'DNA_motifs'?\n",
        "DNA_Motifs[:3]"
      ],
      "execution_count": 8,
      "outputs": [
        {
          "output_type": "execute_result",
          "data": {
            "text/plain": [
              "['TTCAT', 'AATCATGA', 'CCCG']"
            ]
          },
          "metadata": {
            "tags": []
          },
          "execution_count": 8
        }
      ]
    },
    {
      "cell_type": "code",
      "metadata": {
        "id": "Knhz1JBFEWD9",
        "colab_type": "code",
        "colab": {
          "base_uri": "https://localhost:8080/",
          "height": 34
        },
        "outputId": "04f373a6-2bb6-4f95-b1a9-2f05114ebfdc"
      },
      "source": [
        "# 5a. What are the last 2 elements of the list 'DNA_motifs'?\n",
        "DNA_Motifs[3:]"
      ],
      "execution_count": 9,
      "outputs": [
        {
          "output_type": "execute_result",
          "data": {
            "text/plain": [
              "['GGCATT', 'CACGT']"
            ]
          },
          "metadata": {
            "tags": []
          },
          "execution_count": 9
        }
      ]
    },
    {
      "cell_type": "code",
      "metadata": {
        "id": "netfW8XTEp6C",
        "colab_type": "code",
        "colab": {
          "base_uri": "https://localhost:8080/",
          "height": 34
        },
        "outputId": "c445c2cf-a670-466e-dbab-4af889ecfd1e"
      },
      "source": [
        "# 6a. Given the list 'DNA_motifs', how to concatenate the first 2 elements and the last element together?\n",
        "DNA_Motifs[:2] + DNA_Motifs[3:]"
      ],
      "execution_count": 10,
      "outputs": [
        {
          "output_type": "execute_result",
          "data": {
            "text/plain": [
              "['TTCAT', 'AATCATGA', 'GGCATT', 'CACGT']"
            ]
          },
          "metadata": {
            "tags": []
          },
          "execution_count": 10
        }
      ]
    },
    {
      "cell_type": "code",
      "metadata": {
        "id": "dgGixwQJIZGQ",
        "colab_type": "code",
        "colab": {}
      },
      "source": [
        "# 3. Based on the defined list 'DNA_motifs', we need to calculate the length of each motif in this list. We need to use the 'for' loop to access each motif in the list and calculate the length. The expected outputs should be similar as follows:\n"
      ],
      "execution_count": null,
      "outputs": []
    },
    {
      "cell_type": "code",
      "metadata": {
        "id": "dbIfEnbdIwUm",
        "colab_type": "code",
        "colab": {
          "base_uri": "https://localhost:8080/",
          "height": 34
        },
        "outputId": "c4dfa635-a864-47f2-a40d-73478aa19984"
      },
      "source": [
        "# 4. Based on the defined list 'DNA_motifs', we need to find the longest motif in this list. We need to use the 'for' loop to access each motif in the list.\n",
        "print(max(DNA_Motifs))"
      ],
      "execution_count": 21,
      "outputs": [
        {
          "output_type": "stream",
          "text": [
            "TTCAT\n"
          ],
          "name": "stdout"
        }
      ]
    },
    {
      "cell_type": "code",
      "metadata": {
        "id": "75H3HfEnKtWW",
        "colab_type": "code",
        "colab": {
          "base_uri": "https://localhost:8080/",
          "height": 34
        },
        "outputId": "704f238c-1706-43b0-c78d-8f302a5bcaa7"
      },
      "source": [
        "# 5. Now let's practice more advanced programming using a list and dictionary. Based on the list 'DNA_motifs', let's define a dictionary 'DNA_motifs_length', where the key is each motif in the list 'DNA_motifs', and the value is its length. \n",
        "DNA_motifs_length = {'TTCAT':'5', 'AATCATGA':'8', 'CCCG':'4','GGCATT':'6','CACGT':'5'}\n",
        "print(DNA_motifs_length)"
      ],
      "execution_count": 23,
      "outputs": [
        {
          "output_type": "stream",
          "text": [
            "{'TTCAT': '5', 'AATCATGA': '8', 'CCCG': '4', 'GGCATT': '6', 'CACGT': '5'}\n"
          ],
          "name": "stdout"
        }
      ]
    },
    {
      "cell_type": "code",
      "metadata": {
        "id": "kG8yagEOMWdJ",
        "colab_type": "code",
        "colab": {
          "base_uri": "https://localhost:8080/",
          "height": 34
        },
        "outputId": "9e7083dd-834c-4834-ef4a-7c5c7b0f9254"
      },
      "source": [
        "# 6. Given the defined dictionary 'DNA_motifs_length', please write your python codes for the following activities.\n",
        "DNA_motifs_length['AAT'] = '3'\n",
        "print(DNA_motifs_length.values())"
      ],
      "execution_count": 25,
      "outputs": [
        {
          "output_type": "stream",
          "text": [
            "dict_values(['5', '8', '4', '6', '5', '3'])\n"
          ],
          "name": "stdout"
        }
      ]
    },
    {
      "cell_type": "code",
      "metadata": {
        "id": "pNJuEyWRM1lm",
        "colab_type": "code",
        "colab": {
          "base_uri": "https://localhost:8080/",
          "height": 34
        },
        "outputId": "c36e058b-c7ba-4b04-cc53-672ffddcc944"
      },
      "source": [
        "print(DNA_motifs_length.keys())"
      ],
      "execution_count": 26,
      "outputs": [
        {
          "output_type": "stream",
          "text": [
            "dict_keys(['TTCAT', 'AATCATGA', 'CCCG', 'GGCATT', 'CACGT', 'AAT'])\n"
          ],
          "name": "stdout"
        }
      ]
    },
    {
      "cell_type": "code",
      "metadata": {
        "id": "xGgTlnokM9ku",
        "colab_type": "code",
        "colab": {
          "base_uri": "https://localhost:8080/",
          "height": 34
        },
        "outputId": "618214dc-f464-453d-d035-8af030cd1cfb"
      },
      "source": [
        "print(DNA_motifs_length.items())"
      ],
      "execution_count": 27,
      "outputs": [
        {
          "output_type": "stream",
          "text": [
            "dict_items([('TTCAT', '5'), ('AATCATGA', '8'), ('CCCG', '4'), ('GGCATT', '6'), ('CACGT', '5'), ('AAT', '3')])\n"
          ],
          "name": "stdout"
        }
      ]
    },
    {
      "cell_type": "code",
      "metadata": {
        "id": "gbUa_bVRNHrk",
        "colab_type": "code",
        "colab": {
          "base_uri": "https://localhost:8080/",
          "height": 164
        },
        "outputId": "f4e037f3-3411-41a2-a905-30f933ddd5ac"
      },
      "source": [
        "print(DNA_motifs_length.keys(CCT))"
      ],
      "execution_count": 28,
      "outputs": [
        {
          "output_type": "error",
          "ename": "NameError",
          "evalue": "ignored",
          "traceback": [
            "\u001b[0;31m---------------------------------------------------------------------------\u001b[0m",
            "\u001b[0;31mNameError\u001b[0m                                 Traceback (most recent call last)",
            "\u001b[0;32m<ipython-input-28-0db6c1e9069c>\u001b[0m in \u001b[0;36m<module>\u001b[0;34m()\u001b[0m\n\u001b[0;32m----> 1\u001b[0;31m \u001b[0mprint\u001b[0m\u001b[0;34m(\u001b[0m\u001b[0mDNA_motifs_length\u001b[0m\u001b[0;34m.\u001b[0m\u001b[0mkeys\u001b[0m\u001b[0;34m(\u001b[0m\u001b[0mCCT\u001b[0m\u001b[0;34m)\u001b[0m\u001b[0;34m)\u001b[0m\u001b[0;34m\u001b[0m\u001b[0;34m\u001b[0m\u001b[0m\n\u001b[0m",
            "\u001b[0;31mNameError\u001b[0m: name 'CCT' is not defined"
          ]
        }
      ]
    }
  ]
}