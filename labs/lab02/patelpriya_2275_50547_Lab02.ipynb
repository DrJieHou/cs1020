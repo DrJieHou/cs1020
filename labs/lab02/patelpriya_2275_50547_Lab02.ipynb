{
  "nbformat": 4,
  "nbformat_minor": 0,
  "metadata": {
    "colab": {
      "name": "Lab02.ipynb",
      "provenance": [],
      "collapsed_sections": []
    },
    "kernelspec": {
      "name": "python3",
      "display_name": "Python 3"
    }
  },
  "cells": [
    {
      "cell_type": "code",
      "metadata": {
        "id": "RV8dfBOQPElW",
        "colab_type": "code",
        "colab": {}
      },
      "source": [
        "# Q1: Assume that we have 5 DNA motifs that have the following strings:\n",
        "TTCAT\n",
        "AATCATGA\n",
        "CCCG\n",
        "GGCATT\n",
        "CACGT\n",
        "which are comprised of four nucleotides (e.g. A, T, C, G). We would like to define a variable called 'DNA_motifs', and store these sequences in this variable using the data type list. Then we need to print the variable by print(\"DNA_motifs: \", DNA_motifs) \n",
        "# Please write your python codes for this activity."
      ],
      "execution_count": null,
      "outputs": []
    },
    {
      "cell_type": "code",
      "metadata": {
        "id": "NJj-kYXlRHQD",
        "colab_type": "code",
        "colab": {
          "base_uri": "https://localhost:8080/",
          "height": 34
        },
        "outputId": "d7ba85de-e365-493a-ef60-70e16e792121"
      },
      "source": [
        "DNA_motifs = ['TTCAT', 'AATCATGA', 'CCCG', 'GGCATT', 'CACGT']\n",
        "print(\"DNA_motifs: \", DNA_motifs)"
      ],
      "execution_count": 2,
      "outputs": [
        {
          "output_type": "stream",
          "text": [
            "DNA_motifs:  ['TTCAT', 'AATCATGA', 'CCCG', 'GGCATT', 'CACGT']\n"
          ],
          "name": "stdout"
        }
      ]
    },
    {
      "cell_type": "code",
      "metadata": {
        "id": "n1b7S6StRovX",
        "colab_type": "code",
        "colab": {}
      },
      "source": [
        "# Q2: Based on the defined list 'DNA_motifs', please write your python codes for the following activities:\n",
        "\n",
        "# 1. What is the first element of the list 'DNA_motifs'?"
      ],
      "execution_count": null,
      "outputs": []
    },
    {
      "cell_type": "code",
      "metadata": {
        "id": "88Ij27TdRyb2",
        "colab_type": "code",
        "colab": {
          "base_uri": "https://localhost:8080/",
          "height": 37
        },
        "outputId": "850cb818-6d7a-40a6-ac63-a85f91223e22"
      },
      "source": [
        "DNA_motifs[0]"
      ],
      "execution_count": 3,
      "outputs": [
        {
          "output_type": "execute_result",
          "data": {
            "application/vnd.google.colaboratory.intrinsic+json": {
              "type": "string"
            },
            "text/plain": [
              "'TTCAT'"
            ]
          },
          "metadata": {
            "tags": []
          },
          "execution_count": 3
        }
      ]
    },
    {
      "cell_type": "code",
      "metadata": {
        "id": "e5lveHinSF5e",
        "colab_type": "code",
        "colab": {}
      },
      "source": [
        "# 2. What is the last element of the list 'DNA_motifs'?"
      ],
      "execution_count": null,
      "outputs": []
    },
    {
      "cell_type": "code",
      "metadata": {
        "id": "8FIw1ktFSJZK",
        "colab_type": "code",
        "colab": {
          "base_uri": "https://localhost:8080/",
          "height": 37
        },
        "outputId": "7d861847-5dbd-4886-c34f-4b4b887b61d8"
      },
      "source": [
        "DNA_motifs[4]"
      ],
      "execution_count": 4,
      "outputs": [
        {
          "output_type": "execute_result",
          "data": {
            "application/vnd.google.colaboratory.intrinsic+json": {
              "type": "string"
            },
            "text/plain": [
              "'CACGT'"
            ]
          },
          "metadata": {
            "tags": []
          },
          "execution_count": 4
        }
      ]
    },
    {
      "cell_type": "code",
      "metadata": {
        "id": "-rXYsOgZSNTK",
        "colab_type": "code",
        "colab": {}
      },
      "source": [
        "# 3. What is the 3rd element of the list 'DNA_motifs'?"
      ],
      "execution_count": null,
      "outputs": []
    },
    {
      "cell_type": "code",
      "metadata": {
        "id": "C8UEGAtTSXH4",
        "colab_type": "code",
        "colab": {
          "base_uri": "https://localhost:8080/",
          "height": 37
        },
        "outputId": "cd5babd3-efe6-41e1-ddb5-6a70f8ac9ddd"
      },
      "source": [
        "DNA_motifs[2]"
      ],
      "execution_count": 5,
      "outputs": [
        {
          "output_type": "execute_result",
          "data": {
            "application/vnd.google.colaboratory.intrinsic+json": {
              "type": "string"
            },
            "text/plain": [
              "'CCCG'"
            ]
          },
          "metadata": {
            "tags": []
          },
          "execution_count": 5
        }
      ]
    },
    {
      "cell_type": "code",
      "metadata": {
        "id": "No3AmD-8Saa5",
        "colab_type": "code",
        "colab": {}
      },
      "source": [
        "# 4. What are the first 3 elements of the list 'DNA_motifs'?"
      ],
      "execution_count": null,
      "outputs": []
    },
    {
      "cell_type": "code",
      "metadata": {
        "id": "t8a1HogrSgw_",
        "colab_type": "code",
        "colab": {
          "base_uri": "https://localhost:8080/",
          "height": 34
        },
        "outputId": "e79a9498-cedf-4a28-a4df-9d2535c9b2e6"
      },
      "source": [
        "DNA_motifs[0:3]"
      ],
      "execution_count": 6,
      "outputs": [
        {
          "output_type": "execute_result",
          "data": {
            "text/plain": [
              "['TTCAT', 'AATCATGA', 'CCCG']"
            ]
          },
          "metadata": {
            "tags": []
          },
          "execution_count": 6
        }
      ]
    },
    {
      "cell_type": "code",
      "metadata": {
        "id": "7-Wy1NhOSkGs",
        "colab_type": "code",
        "colab": {}
      },
      "source": [
        "# 5. What are the last 2 elements of the list 'DNA_motifs'?"
      ],
      "execution_count": null,
      "outputs": []
    },
    {
      "cell_type": "code",
      "metadata": {
        "id": "_2LoQMjXS0Ct",
        "colab_type": "code",
        "colab": {
          "base_uri": "https://localhost:8080/",
          "height": 34
        },
        "outputId": "d79ebce9-2e7b-493c-b923-20073bf2d7ad"
      },
      "source": [
        "DNA_motifs[3:]"
      ],
      "execution_count": 7,
      "outputs": [
        {
          "output_type": "execute_result",
          "data": {
            "text/plain": [
              "['GGCATT', 'CACGT']"
            ]
          },
          "metadata": {
            "tags": []
          },
          "execution_count": 7
        }
      ]
    },
    {
      "cell_type": "code",
      "metadata": {
        "id": "U8zokagkS8bg",
        "colab_type": "code",
        "colab": {}
      },
      "source": [
        "# 6. Given the list 'DNA_motifs', how to concatenate the first 2 elements and the last element together?"
      ],
      "execution_count": null,
      "outputs": []
    },
    {
      "cell_type": "code",
      "metadata": {
        "id": "ZtZjIiCsS_1s",
        "colab_type": "code",
        "colab": {
          "base_uri": "https://localhost:8080/",
          "height": 37
        },
        "outputId": "3d2070b1-2ba5-45a8-f7cb-fc907d44480c"
      },
      "source": [
        "(DNA_motifs[0]) + (DNA_motifs[1]) + (DNA_motifs[-1])"
      ],
      "execution_count": 8,
      "outputs": [
        {
          "output_type": "execute_result",
          "data": {
            "application/vnd.google.colaboratory.intrinsic+json": {
              "type": "string"
            },
            "text/plain": [
              "'TTCATAATCATGACACGT'"
            ]
          },
          "metadata": {
            "tags": []
          },
          "execution_count": 8
        }
      ]
    },
    {
      "cell_type": "code",
      "metadata": {
        "id": "XzOAACV2PLGw",
        "colab_type": "code",
        "colab": {}
      },
      "source": [
        "# Q3: Based on the defined list 'DNA_motifs', we need to calculate the length of each motif in this list. We need to use the 'for' loop to access each motif in the list and calculate the length. The expected outputs should be similar as follows:\n",
        "\n",
        "Length of TTCAT is 5\n",
        "Length of AATCATGA is 8\n",
        "Length of CCCG is 4\n",
        "Length of GGCATT is 6\n",
        "Length of CACGT is 5\n",
        "\n",
        "# Please write your python codes for this activity."
      ],
      "execution_count": null,
      "outputs": []
    },
    {
      "cell_type": "code",
      "metadata": {
        "id": "gGylp7YHgOAm",
        "colab_type": "code",
        "colab": {
          "base_uri": "https://localhost:8080/",
          "height": 102
        },
        "outputId": "6451e2d6-4669-4720-ca90-7cf1673bb1fe"
      },
      "source": [
        "for motif in DNA_motifs:\n",
        "    length = len(motif)\n",
        "    print(motif, '->', length)"
      ],
      "execution_count": null,
      "outputs": [
        {
          "output_type": "stream",
          "text": [
            "TTCAT -> 5\n",
            "AATCATGA -> 8\n",
            "CCCG -> 4\n",
            "GGCATT -> 6\n",
            "CACGT -> 5\n"
          ],
          "name": "stdout"
        }
      ]
    },
    {
      "cell_type": "code",
      "metadata": {
        "id": "Ibn36Pt5UCH2",
        "colab_type": "code",
        "colab": {}
      },
      "source": [
        "# Q4: Based on the defined list 'DNA_motifs', we need to find the longest motif in this list. We need to use the 'for' loop to access each motif in the list.\n",
        "# Please write your python codes for this activity."
      ],
      "execution_count": null,
      "outputs": []
    },
    {
      "cell_type": "code",
      "metadata": {
        "id": "2yKaF9zUiqw8",
        "colab_type": "code",
        "colab": {
          "base_uri": "https://localhost:8080/",
          "height": 37
        },
        "outputId": "f7d244e6-d8d3-4652-abc9-bbbde7ce1a26"
      },
      "source": [
        "max(DNA_motifs, key=len)"
      ],
      "execution_count": null,
      "outputs": [
        {
          "output_type": "execute_result",
          "data": {
            "application/vnd.google.colaboratory.intrinsic+json": {
              "type": "string"
            },
            "text/plain": [
              "'AATCATGA'"
            ]
          },
          "metadata": {
            "tags": []
          },
          "execution_count": 17
        }
      ]
    },
    {
      "cell_type": "code",
      "metadata": {
        "id": "7xbsRwcGUG10",
        "colab_type": "code",
        "colab": {}
      },
      "source": [
        "# Q5: Now let's practice more advanced programming using a list and dictionary. Based on the list 'DNA_motifs', let's define a dictionary 'DNA_motifs_length', where the key is each motif in the list 'DNA_motifs', and the value is its length. \n",
        "# Please write your python codes for this activity."
      ],
      "execution_count": null,
      "outputs": []
    },
    {
      "cell_type": "code",
      "metadata": {
        "id": "80gb7ibMJj4_",
        "colab_type": "code",
        "colab": {}
      },
      "source": [
        "DNA_motifs_length = {'TTCAT': '5','AATCATGA': '8', 'CCCG':'4', 'GGCATT':'6', 'CACGT':'5'}"
      ],
      "execution_count": null,
      "outputs": []
    },
    {
      "cell_type": "code",
      "metadata": {
        "id": "g3bC2xAsLVZK",
        "colab_type": "code",
        "colab": {
          "base_uri": "https://localhost:8080/",
          "height": 34
        },
        "outputId": "205adb58-7ca4-4fba-8287-e238dfa2ee9c"
      },
      "source": [
        "type(DNA_motifs_length)"
      ],
      "execution_count": null,
      "outputs": [
        {
          "output_type": "execute_result",
          "data": {
            "text/plain": [
              "dict"
            ]
          },
          "metadata": {
            "tags": []
          },
          "execution_count": 19
        }
      ]
    },
    {
      "cell_type": "code",
      "metadata": {
        "id": "uQQ9keC5UPyS",
        "colab_type": "code",
        "colab": {}
      },
      "source": [
        "# Q6: Given the defined dictionary 'DNA_motifs_length', please write your python codes for the following activities.\n",
        "\n",
        "# 1. Add a new motif 'AAT' as a key into the dictionary, and assign its length as value\n",
        " "
      ],
      "execution_count": null,
      "outputs": []
    },
    {
      "cell_type": "code",
      "metadata": {
        "id": "LOTSBcd0RT-e",
        "colab_type": "code",
        "colab": {
          "base_uri": "https://localhost:8080/",
          "height": 34
        },
        "outputId": "b4b1125c-5d62-4dc0-a068-04c083a5773e"
      },
      "source": [
        "DNA_motifs_length['AAT'] = '3'\n",
        "print(DNA_motifs_length)"
      ],
      "execution_count": null,
      "outputs": [
        {
          "output_type": "stream",
          "text": [
            "{'TTCAT': '5', 'AATCATGA': '8', 'CCCG': '4', 'GGCATT': '6', 'CACGT': '5', 'AAT': '3'}\n"
          ],
          "name": "stdout"
        }
      ]
    },
    {
      "cell_type": "code",
      "metadata": {
        "id": "xPCms6TGQ1a7",
        "colab_type": "code",
        "colab": {}
      },
      "source": [
        "# 2. Print out all the keys in the dictionary"
      ],
      "execution_count": null,
      "outputs": []
    },
    {
      "cell_type": "code",
      "metadata": {
        "id": "sq4EbhVAQMjJ",
        "colab_type": "code",
        "colab": {
          "base_uri": "https://localhost:8080/",
          "height": 34
        },
        "outputId": "ee0dedcb-c579-42e8-9350-0c9ba5dc4fc0"
      },
      "source": [
        "print(DNA_motifs_length.keys())"
      ],
      "execution_count": null,
      "outputs": [
        {
          "output_type": "stream",
          "text": [
            "dict_keys(['TTCAT', 'AATCATGA', 'CCCG', 'GGCATT', 'CACGT', 'AAT'])\n"
          ],
          "name": "stdout"
        }
      ]
    },
    {
      "cell_type": "code",
      "metadata": {
        "id": "P85uE0y5Q2pH",
        "colab_type": "code",
        "colab": {}
      },
      "source": [
        "# 3. Print out all the values in the dictionary"
      ],
      "execution_count": null,
      "outputs": []
    },
    {
      "cell_type": "code",
      "metadata": {
        "id": "3UesWhg9QYHN",
        "colab_type": "code",
        "colab": {
          "base_uri": "https://localhost:8080/",
          "height": 34
        },
        "outputId": "0845865f-67d0-447c-826a-54291416a8a4"
      },
      "source": [
        "print(DNA_motifs_length.values())"
      ],
      "execution_count": null,
      "outputs": [
        {
          "output_type": "stream",
          "text": [
            "dict_values(['5', '8', '4', '6', '5', '3'])\n"
          ],
          "name": "stdout"
        }
      ]
    },
    {
      "cell_type": "code",
      "metadata": {
        "id": "4aKJXKLDQ71Z",
        "colab_type": "code",
        "colab": {}
      },
      "source": [
        "# 4. Print out all the items in the dictionary"
      ],
      "execution_count": null,
      "outputs": []
    },
    {
      "cell_type": "code",
      "metadata": {
        "id": "ts76nhyfRJ7R",
        "colab_type": "code",
        "colab": {
          "base_uri": "https://localhost:8080/",
          "height": 34
        },
        "outputId": "ec86b0b4-7331-4860-aef8-2faae6e8909f"
      },
      "source": [
        "print(DNA_motifs_length.items())"
      ],
      "execution_count": null,
      "outputs": [
        {
          "output_type": "stream",
          "text": [
            "dict_items([('TTCAT', '5'), ('AATCATGA', '8'), ('CCCG', '4'), ('GGCATT', '6'), ('CACGT', '5'), ('AAT', '3')])\n"
          ],
          "name": "stdout"
        }
      ]
    },
    {
      "cell_type": "code",
      "metadata": {
        "id": "04-y3Gx_QllH",
        "colab_type": "code",
        "colab": {}
      },
      "source": [
        "# 5. Check whether the key 'CCT' already exists in a dictionary"
      ],
      "execution_count": null,
      "outputs": []
    },
    {
      "cell_type": "code",
      "metadata": {
        "id": "TbckBq9nRbRq",
        "colab_type": "code",
        "colab": {
          "base_uri": "https://localhost:8080/",
          "height": 34
        },
        "outputId": "2d9f428f-8343-450f-8835-b645fd1acbf3"
      },
      "source": [
        "'CCT'in DNA_motifs_length"
      ],
      "execution_count": null,
      "outputs": [
        {
          "output_type": "execute_result",
          "data": {
            "text/plain": [
              "False"
            ]
          },
          "metadata": {
            "tags": []
          },
          "execution_count": 24
        }
      ]
    },
    {
      "cell_type": "code",
      "metadata": {
        "id": "Ww2UOR7jYy8o",
        "colab_type": "code",
        "colab": {}
      },
      "source": [
        "# Q7: Based on the defined list 'DNA_motifs', we are interested in the motifs that contain substring 'CAT', please write your python codes to print out these motifs. (hint: use while/for loop and if conditions)."
      ],
      "execution_count": null,
      "outputs": []
    },
    {
      "cell_type": "code",
      "metadata": {
        "id": "6CnwIX8YX8DA",
        "colab_type": "code",
        "colab": {
          "base_uri": "https://localhost:8080/",
          "height": 68
        },
        "outputId": "bc49c27e-14f3-4294-80e3-8d572ee32628"
      },
      "source": [
        "for motif in DNA_motifs:\n",
        "    if (motif.find('CAT') != -1):\n",
        "      print(motif)"
      ],
      "execution_count": null,
      "outputs": [
        {
          "output_type": "stream",
          "text": [
            "TTCAT\n",
            "AATCATGA\n",
            "GGCATT\n"
          ],
          "name": "stdout"
        }
      ]
    },
    {
      "cell_type": "code",
      "metadata": {
        "id": "aDP1uAzCY3mk",
        "colab_type": "code",
        "colab": {}
      },
      "source": [
        "# Q8: Based on the defined list 'DNA_motifs', we are also interested in the motifs that have a length larger than 5, please write your python codes to print out these motifs. (hint: use while/for loop and if conditions)."
      ],
      "execution_count": null,
      "outputs": []
    },
    {
      "cell_type": "code",
      "metadata": {
        "id": "mrGWb3gJmjHk",
        "colab_type": "code",
        "colab": {
          "base_uri": "https://localhost:8080/",
          "height": 51
        },
        "outputId": "d84873f3-c56b-44bc-a9db-15120be70e11"
      },
      "source": [
        "for motif in DNA_motifs:\n",
        "    if (len(motif) > 5):\n",
        "      print(motif)"
      ],
      "execution_count": null,
      "outputs": [
        {
          "output_type": "stream",
          "text": [
            "AATCATGA\n",
            "GGCATT\n"
          ],
          "name": "stdout"
        }
      ]
    },
    {
      "cell_type": "code",
      "metadata": {
        "id": "GiWZ-3bSY7kL",
        "colab_type": "code",
        "colab": {}
      },
      "source": [
        "# Q9: Based on the defined list 'DNA_motifs', we would like to replace the letter 'T' with 'U' for every motif and assign them to a new list called 'RNA_motifs'.\n",
        "# Please write your python codes for this activity (hint: use for loop, string.replace() and list.append() function)."
      ],
      "execution_count": null,
      "outputs": []
    },
    {
      "cell_type": "code",
      "metadata": {
        "id": "AkFFdwPqnsnZ",
        "colab_type": "code",
        "colab": {
          "base_uri": "https://localhost:8080/",
          "height": 34
        },
        "outputId": "e8f019e7-c77e-4a29-c524-2c96717293f5"
      },
      "source": [
        "DNA_motifs = ['TTCAT', 'AATCATGA', 'CCCG', 'GGCATT', 'CACGT']\n",
        "print(DNA_motifs)"
      ],
      "execution_count": null,
      "outputs": [
        {
          "output_type": "stream",
          "text": [
            "['TTCAT', 'AATCATGA', 'CCCG', 'GGCATT', 'CACGT']\n"
          ],
          "name": "stdout"
        }
      ]
    },
    {
      "cell_type": "code",
      "metadata": {
        "id": "e4CDP2lOnC_p",
        "colab_type": "code",
        "colab": {
          "base_uri": "https://localhost:8080/",
          "height": 34
        },
        "outputId": "a229c79d-2673-4224-b4b5-0dbffefdca1f"
      },
      "source": [
        "RNA_motifs = []\n",
        "for DNA_motif in DNA_motifs:\n",
        "    RNA_motifs.append(DNA_motif.replace('T','U'))\n",
        "\n",
        "print(RNA_motifs)"
      ],
      "execution_count": null,
      "outputs": [
        {
          "output_type": "stream",
          "text": [
            "['UUCAU', 'AAUCAUGA', 'CCCG', 'GGCAUU', 'CACGU']\n"
          ],
          "name": "stdout"
        }
      ]
    },
    {
      "cell_type": "code",
      "metadata": {
        "id": "AzUf9cZbY_2J",
        "colab_type": "code",
        "colab": {}
      },
      "source": [
        "# Q10: Based on the defined list 'DNA_motifs', we are also interested in the motifs that have a length larger than 5. After we find the motifs, we need to concatenate them as a new string and add it as new key into dictionary 'DNA_motifs_length', where the value is the new sequence's length. Please write your python codes for this activity. (hint: use while/for loop and if conditions)."
      ],
      "execution_count": null,
      "outputs": []
    },
    {
      "cell_type": "code",
      "metadata": {
        "id": "WgR5nPhdajJb",
        "colab_type": "code",
        "colab": {
          "base_uri": "https://localhost:8080/",
          "height": 34
        },
        "outputId": "495b3fd5-7538-49ac-a9c0-cc98082144fe"
      },
      "source": [
        "large_motifs = []\n",
        "for motif in DNA_motifs:\n",
        "    if (len(motif) > 5):\n",
        "      large_motifs.append(motif)\n",
        "\n",
        "new_string = \"\"\n",
        "for motif in large_motifs:\n",
        "    new_string = new_string + motif\n",
        "\n",
        "DNA_motifs_length[new_string] = len(new_string)\n",
        "print(DNA_motifs_length)"
      ],
      "execution_count": null,
      "outputs": [
        {
          "output_type": "stream",
          "text": [
            "{'TTCAT': '5', 'AATCATGA': '8', 'CCCG': '4', 'GGCATT': '6', 'CACGT': '5', 'AAT': '3', 'AATCATGAGGCATT': 14}\n"
          ],
          "name": "stdout"
        }
      ]
    }
  ]
}