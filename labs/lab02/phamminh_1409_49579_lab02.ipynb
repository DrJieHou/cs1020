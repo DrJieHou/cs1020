{
  "nbformat": 4,
  "nbformat_minor": 0,
  "metadata": {
    "colab": {
      "name": "lab02.ipynb",
      "provenance": []
    },
    "kernelspec": {
      "name": "python3",
      "display_name": "Python 3"
    }
  },
  "cells": [
    {
      "cell_type": "code",
      "metadata": {
        "id": "2c6m-AEM7cYT",
        "colab_type": "code",
        "colab": {
          "base_uri": "https://localhost:8080/",
          "height": 34
        },
        "outputId": "12a3f06c-2729-4ece-f82b-9e1de3966e4d"
      },
      "source": [
        "#Q1: Assume that we have 5 DNA motifs that have the following strings:\n",
        "#TTCAT\n",
        "#AATCATGA\n",
        "#CCCG\n",
        "#GGCATT\n",
        "#CACGT\n",
        "#which are comprised of four nucleotides (e.g. A, T, C, G). We would like to define a variable called 'DNA_motifs', and store these sequences in this variable using the data type list. Then we need to print the variable by print(\"DNA_motifs: \", DNA_motifs)\n",
        "#Please write your python codes for this activity.\n",
        "\n",
        "DNA_motifs=['TTCAT','AATCATGA','CCCG','GGCATT','CACGT']\n",
        "print('DNA_motifs:',DNA_motifs)"
      ],
      "execution_count": 64,
      "outputs": [
        {
          "output_type": "stream",
          "text": [
            "DNA_motifs: ['TTCAT', 'AATCATGA', 'CCCG', 'GGCATT', 'CACGT']\n"
          ],
          "name": "stdout"
        }
      ]
    },
    {
      "cell_type": "code",
      "metadata": {
        "id": "tL5D8FOa914j",
        "colab_type": "code",
        "colab": {
          "base_uri": "https://localhost:8080/",
          "height": 119
        },
        "outputId": "8d4e3a67-e784-490b-ebb0-0131d35de8e0"
      },
      "source": [
        "#Q2: Based on the defined list 'DNA_motifs', please write your python codes for the following activities:\n",
        "\n",
        "#What is the first element of the list 'DNA_motifs'?\n",
        "\n",
        "print('DNA_motifs first element:',DNA_motifs[0])\n",
        "\n",
        "#What is the last element of the list 'DNA_motifs'?\n",
        "\n",
        "print('DNA_motifs last element:',DNA_motifs[-1])\n",
        "\n",
        "#What is the 3rd element of the list 'DNA_motifs'?\n",
        "\n",
        "\n",
        "print('DNA_motifs third element:',DNA_motifs[2])\n",
        "\n",
        "#What are the first 3 elements of the list 'DNA_motifs'?\n",
        "\n",
        "\n",
        "print('DNA_motifs first three elements:',DNA_motifs[:3])\n",
        "\n",
        "#What are the last 2 elements of the list 'DNA_motifs'?\n",
        "\n",
        "print('DNA_motifs last two elements:',DNA_motifs[-2:])\n",
        "\n",
        "#Given the list 'DNA_motifs', how to concatenate the first 2 elements and the last element together?\n",
        "\n",
        "DNA_concatenate= DNA_motifs[0] + DNA_motifs[1] + DNA_motifs[-1]\n",
        "print('DNA_motifs concatenate of the first two elements and the last elements:', DNA_concatenate)\n",
        "\n",
        " \n",
        "\n"
      ],
      "execution_count": 65,
      "outputs": [
        {
          "output_type": "stream",
          "text": [
            "DNA_motifs first element: TTCAT\n",
            "DNA_motifs last element: CACGT\n",
            "DNA_motifs third element: CCCG\n",
            "DNA_motifs first three elements: ['TTCAT', 'AATCATGA', 'CCCG']\n",
            "DNA_motifs last two elements: ['GGCATT', 'CACGT']\n",
            "DNA_motifs concatenate of the first two elements and the last elements: TTCATAATCATGACACGT\n"
          ],
          "name": "stdout"
        }
      ]
    },
    {
      "cell_type": "code",
      "metadata": {
        "id": "GNBsFzm8-LPI",
        "colab_type": "code",
        "colab": {
          "base_uri": "https://localhost:8080/",
          "height": 102
        },
        "outputId": "8cd0f3c5-0f39-4181-ec0a-4ac07dbb6f9f"
      },
      "source": [
        "#Q3: Based on the defined list 'DNA_motifs', we need to calculate the length of each motif in this list. We need to use the 'for' loop to access each motif in the list and calculate the length. The expected outputs should be similar as follows:\n",
        "\n",
        "#Length of TTCAT is 5\n",
        "#Length of AATCATGA is 8\n",
        "#Length of CCCG is 4\n",
        "#Length of GGCATT is 6\n",
        "#Length of CACGT is 5\n",
        "\n",
        "#Please write your python codes for this activity.\n",
        "\n",
        "for x in DNA_motifs:\n",
        " print('Length of',x,'is',len(x)) \n",
        "\n"
      ],
      "execution_count": 6,
      "outputs": [
        {
          "output_type": "stream",
          "text": [
            "Length of TTCAT is 5\n",
            "Length of AATCATGA is 8\n",
            "Length of CCCG is 4\n",
            "Length of GGCATT is 6\n",
            "Length of CACGT is 5\n"
          ],
          "name": "stdout"
        }
      ]
    },
    {
      "cell_type": "code",
      "metadata": {
        "id": "Qigv_sN7GFV0",
        "colab_type": "code",
        "colab": {
          "base_uri": "https://localhost:8080/",
          "height": 51
        },
        "outputId": "593c2bee-42e1-480c-9ca2-e438f69ca46d"
      },
      "source": [
        "#Q4: Based on the defined list 'DNA_motifs', we need to find the longest motif in this list. We need to use the 'for' loop to access each motif in the list.\n",
        "#Please write your python codes for this activity.\n",
        "\n",
        "y = 0\n",
        "longest_motif = \"\"\n",
        "for x in DNA_motifs:\n",
        "   if(len(x) > y):\n",
        "      y = len(x)\n",
        "      longest_motif = x\n",
        "\n",
        "print('longest_motif:',longest_motif)\n",
        "\n",
        "#or\n",
        "\n",
        "print ('longest_motif:',max(DNA_motifs, key=len))\n"
      ],
      "execution_count": 14,
      "outputs": [
        {
          "output_type": "stream",
          "text": [
            "longest_motif: AATCATGA\n",
            "longest_motif: AATCATGA\n"
          ],
          "name": "stdout"
        }
      ]
    },
    {
      "cell_type": "code",
      "metadata": {
        "id": "nC5qsVRbw9z6",
        "colab_type": "code",
        "colab": {
          "base_uri": "https://localhost:8080/",
          "height": 51
        },
        "outputId": "6f93b40a-b89f-49d5-bd62-c06defaa69bd"
      },
      "source": [
        "#Q5: Now let's practice more advanced programming using a list and dictionary. Based on the list 'DNA_motifs', let's define a dictionary 'DNA_motifs_length', \n",
        "# where the key is each motif in the list 'DNA_motifs', and the value is its length.\n",
        "# Please write your python codes for this activity.\n",
        "\n",
        "DNA_motifs_length={'TTCAT':5,'AATCATGA':8,'CCCG':4,'GGCATT':6,'CACGT':5}\n",
        "print('DNA_motifs_length:', DNA_motifs_length)\n",
        "\n",
        "# or \n",
        "DNA_motifs_length_1={}\n",
        "for x in DNA_motifs:\n",
        "  DNA_motifs_length_1[x]= len(x)\n",
        "print ('DNA_motifs_length_1:', DNA_motifs_length_1)\n"
      ],
      "execution_count": 71,
      "outputs": [
        {
          "output_type": "stream",
          "text": [
            "DNA_motifs_length: {'TTCAT': 5, 'AATCATGA': 8, 'CCCG': 4, 'GGCATT': 6, 'CACGT': 5}\n",
            "DNA_motifs_length_1: {'TTCAT': 5, 'AATCATGA': 8, 'CCCG': 4, 'GGCATT': 6, 'CACGT': 5}\n"
          ],
          "name": "stdout"
        }
      ]
    },
    {
      "cell_type": "code",
      "metadata": {
        "id": "Owm7FmToxOUY",
        "colab_type": "code",
        "colab": {
          "base_uri": "https://localhost:8080/",
          "height": 102
        },
        "outputId": "24c0ac63-90b5-42cf-8db6-a8d7ef43ea2c"
      },
      "source": [
        "#Q6: Given the defined dictionary 'DNA_motifs_length', please write your python codes for the following activities.\n",
        "\n",
        "#Add a new motif 'AAT' as a key into the dictionary, and assign its length as value\n",
        "\n",
        "DNA_motifs_length['AAT']=len('AAT')\n",
        "#Print out all the keys in the dictionary\n",
        "\n",
        "print(DNA_motifs_length.keys())\n",
        "#Print out all the values in the dictionary\n",
        "\n",
        "print(DNA_motifs_length.values())\n",
        "#Print out all the items in the dictionary\n",
        "\n",
        "print(DNA_motifs_length.items())\n",
        "\n",
        "#Check whether the key 'CCT' already exists in a dictionary\n",
        "for x in DNA_motifs_length.keys():\n",
        "  if 'CCT'==x:\n",
        "    z ='CCT exists in the dictionary DNA_motifs_length'\n",
        "  else:\n",
        "    z ='CCT does not exists in the dictionary DNA_motifs_length'\n",
        "print (z)\n",
        "\n",
        "#or \n",
        "\n",
        "'CCT' in DNA_motifs_length.keys()"
      ],
      "execution_count": 72,
      "outputs": [
        {
          "output_type": "stream",
          "text": [
            "dict_keys(['TTCAT', 'AATCATGA', 'CCCG', 'GGCATT', 'CACGT', 'AAT'])\n",
            "dict_values([5, 8, 4, 6, 5, 3])\n",
            "dict_items([('TTCAT', 5), ('AATCATGA', 8), ('CCCG', 4), ('GGCATT', 6), ('CACGT', 5), ('AAT', 3)])\n",
            "CCT does not exists in the dictionary DNA_motifs_length\n"
          ],
          "name": "stdout"
        },
        {
          "output_type": "execute_result",
          "data": {
            "text/plain": [
              "False"
            ]
          },
          "metadata": {
            "tags": []
          },
          "execution_count": 72
        }
      ]
    },
    {
      "cell_type": "code",
      "metadata": {
        "id": "2uOs-UdFh9qr",
        "colab_type": "code",
        "colab": {
          "base_uri": "https://localhost:8080/",
          "height": 68
        },
        "outputId": "01b379e7-a3b8-4f46-9a70-ec80c667c2ee"
      },
      "source": [
        "#Q7: Based on the defined list 'DNA_motifs', we are interested in the motifs that contain substring 'CAT'\n",
        "#please write your python codes to print out these motifs. (hint: use while/for loop and if conditions).\n",
        "\n",
        "for x in DNA_motifs:\n",
        "  o = x.find('CAT')\n",
        "  if o >= 0:\n",
        "    print(x)\n",
        "  "
      ],
      "execution_count": 75,
      "outputs": [
        {
          "output_type": "stream",
          "text": [
            "TTCAT\n",
            "AATCATGA\n",
            "GGCATT\n"
          ],
          "name": "stdout"
        }
      ]
    },
    {
      "cell_type": "code",
      "metadata": {
        "id": "LBtGL_5bohQL",
        "colab_type": "code",
        "colab": {
          "base_uri": "https://localhost:8080/",
          "height": 51
        },
        "outputId": "3ebc48fb-7adc-4f4f-d39e-6f435f918619"
      },
      "source": [
        "#Q8: Based on the defined list 'DNA_motifs', we are also interested in the motifs that have a length larger than 5, \n",
        "#please write your python codes to print out these motifs. (hint: use while/for loop and if conditions).\n",
        "\n",
        "for x in DNA_motifs:\n",
        "  if len(x) > 5:\n",
        "    print (x)\n"
      ],
      "execution_count": 77,
      "outputs": [
        {
          "output_type": "stream",
          "text": [
            "AATCATGA\n",
            "GGCATT\n"
          ],
          "name": "stdout"
        }
      ]
    },
    {
      "cell_type": "code",
      "metadata": {
        "id": "ChVs5e6fpzYg",
        "colab_type": "code",
        "colab": {
          "base_uri": "https://localhost:8080/",
          "height": 34
        },
        "outputId": "ea81d7f3-db77-4108-e6ca-c27bb8190e99"
      },
      "source": [
        "#Q9: Based on the defined list 'DNA_motifs', we would like to replace the letter 'T' with 'U' for every motif and assign them to a new list called 'RNA_motifs'.\n",
        "# Please write your python codes for this activity (hint: use for loop, string.replace() and list.append() function).\n",
        "\n",
        "RNA_motifs=[]\n",
        "for x in DNA_motifs:\n",
        "  y = x.replace('T','U')\n",
        "  RNA_motifs.append(y)\n",
        "print('RNA_motifs:', RNA_motifs)\n"
      ],
      "execution_count": 78,
      "outputs": [
        {
          "output_type": "stream",
          "text": [
            "RNA_motifs: ['UUCAU', 'AAUCAUGA', 'CCCG', 'GGCAUU', 'CACGU']\n"
          ],
          "name": "stdout"
        }
      ]
    },
    {
      "cell_type": "code",
      "metadata": {
        "id": "rmeQfZK7rKSb",
        "colab_type": "code",
        "colab": {
          "base_uri": "https://localhost:8080/",
          "height": 34
        },
        "outputId": "ef3a2b3a-edb1-4e55-d389-bacf26e2cf1c"
      },
      "source": [
        "# Q10: Based on the defined list 'DNA_motifs', we are also interested in the motifs that have a length larger than 5. \n",
        "# After we find the motifs, we need to concatenate them as a new string and add it as new key into dictionary 'DNA_motifs_length', \n",
        "# where the value is the new sequence's length. \n",
        "# Please write your python codes for this activity. (hint: use while/for loop and if conditions).\n",
        "l=''\n",
        "for x in DNA_motifs:\n",
        "  if len(x)>5:\n",
        "    l=l+x\n",
        "DNA_motifs_length[l]=len(l)\n",
        "print('DNA_motifs_length:',DNA_motifs_length)"
      ],
      "execution_count": 79,
      "outputs": [
        {
          "output_type": "stream",
          "text": [
            "DNA_motifs_length: {'TTCAT': 5, 'AATCATGA': 8, 'CCCG': 4, 'GGCATT': 6, 'CACGT': 5, 'AAT': 3, 'AATCATGAGGCATT': 14}\n"
          ],
          "name": "stdout"
        }
      ]
    }
  ]
}