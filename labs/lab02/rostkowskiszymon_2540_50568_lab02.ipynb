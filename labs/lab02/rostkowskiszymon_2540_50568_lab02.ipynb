{
  "nbformat": 4,
  "nbformat_minor": 0,
  "metadata": {
    "colab": {
      "name": "lab02.ipynb",
      "provenance": []
    },
    "kernelspec": {
      "name": "python3",
      "display_name": "Python 3"
    }
  },
  "cells": [
    {
      "cell_type": "code",
      "metadata": {
        "id": "U38vU4ybx5ew",
        "colab_type": "code",
        "colab": {}
      },
      "source": [
        "# Assume that we have 5 DNA motifs that have the following strings:\n",
        "\n",
        "#TTCAT\n",
        "#AATCATGA\n",
        "#CCCG\n",
        "#GGCATT\n",
        "#CACGT\n",
        "\n",
        "#which are comprised of four nucleotides (e.g. A, T, C, G). We would like to define a variable called 'DNA_motifs', and store these sequences in this variable using the data type list. Then we need to print the variable by print(\"DNA_motifs: \", DNA_motifs)\n",
        "#Please write your python codes for this activity.\n"
      ],
      "execution_count": null,
      "outputs": []
    },
    {
      "cell_type": "code",
      "metadata": {
        "id": "MUSVQF2fzLXe",
        "colab_type": "code",
        "colab": {
          "base_uri": "https://localhost:8080/",
          "height": 34
        },
        "outputId": "7e4f6dac-704d-47c3-f79f-fc92ebe9d93e"
      },
      "source": [
        "\n",
        "DNA_motifs = ['TTCAT', 'AATCATGA', 'CCCG', 'GGCATT', 'CACGT']\n",
        "print(DNA_motifs)"
      ],
      "execution_count": 3,
      "outputs": [
        {
          "output_type": "stream",
          "text": [
            "['TTCAT', 'AATCATGA', 'CCCG', 'GGCATT', 'CACGT']\n"
          ],
          "name": "stdout"
        }
      ]
    },
    {
      "cell_type": "code",
      "metadata": {
        "id": "_QayJgD90rQs",
        "colab_type": "code",
        "colab": {}
      },
      "source": [
        "#Based on the defined list 'DNA_motifs', please write your python codes for the following activities:\n",
        "\n",
        "#What is the first element of the list 'DNA_motifs'?\n",
        "#What is the last element of the list 'DNA_motifs'?\n",
        "#What is the 3rd element of the list 'DNA_motifs'?\n",
        "#What are the first 3 elements of the list 'DNA_motifs'?\n",
        "#What are the last 2 elements of the list 'DNA_motifs'?\n",
        "#Given the list 'DNA_motifs', how to concatenate the first 2 elements and the last element together?"
      ],
      "execution_count": null,
      "outputs": []
    },
    {
      "cell_type": "code",
      "metadata": {
        "id": "zE3ORRNT01Ea",
        "colab_type": "code",
        "colab": {
          "base_uri": "https://localhost:8080/",
          "height": 35
        },
        "outputId": "ee7a09f4-0a51-4539-b78a-6bd627e7c0e4"
      },
      "source": [
        "# 1\n",
        "DNA_motifs[0]"
      ],
      "execution_count": null,
      "outputs": [
        {
          "output_type": "execute_result",
          "data": {
            "application/vnd.google.colaboratory.intrinsic+json": {
              "type": "string"
            },
            "text/plain": [
              "'TTCAT'"
            ]
          },
          "metadata": {
            "tags": []
          },
          "execution_count": 4
        }
      ]
    },
    {
      "cell_type": "code",
      "metadata": {
        "id": "GrM8yzv71cAs",
        "colab_type": "code",
        "colab": {
          "base_uri": "https://localhost:8080/",
          "height": 35
        },
        "outputId": "fec84063-c5d6-498f-f47b-aa503af36b4e"
      },
      "source": [
        "# 2\n",
        "DNA_motifs[1]"
      ],
      "execution_count": null,
      "outputs": [
        {
          "output_type": "execute_result",
          "data": {
            "application/vnd.google.colaboratory.intrinsic+json": {
              "type": "string"
            },
            "text/plain": [
              "'AATCATGA'"
            ]
          },
          "metadata": {
            "tags": []
          },
          "execution_count": 5
        }
      ]
    },
    {
      "cell_type": "code",
      "metadata": {
        "id": "Krhzjltt1l14",
        "colab_type": "code",
        "colab": {
          "base_uri": "https://localhost:8080/",
          "height": 35
        },
        "outputId": "f03619e2-3451-4207-f88a-f16902ac9d3d"
      },
      "source": [
        "# 3\n",
        "DNA_motifs[2]"
      ],
      "execution_count": null,
      "outputs": [
        {
          "output_type": "execute_result",
          "data": {
            "application/vnd.google.colaboratory.intrinsic+json": {
              "type": "string"
            },
            "text/plain": [
              "'CCCG'"
            ]
          },
          "metadata": {
            "tags": []
          },
          "execution_count": 6
        }
      ]
    },
    {
      "cell_type": "code",
      "metadata": {
        "id": "zva394S_1pCq",
        "colab_type": "code",
        "colab": {
          "base_uri": "https://localhost:8080/",
          "height": 34
        },
        "outputId": "7240616c-24b1-461e-8d4a-cb7f24e288b6"
      },
      "source": [
        "# 4\n",
        "DNA_motifs[:3]"
      ],
      "execution_count": null,
      "outputs": [
        {
          "output_type": "execute_result",
          "data": {
            "text/plain": [
              "['TTCAT', 'AATCATGA', 'CCCG']"
            ]
          },
          "metadata": {
            "tags": []
          },
          "execution_count": 8
        }
      ]
    },
    {
      "cell_type": "code",
      "metadata": {
        "id": "Wo7V4Gzn14if",
        "colab_type": "code",
        "colab": {
          "base_uri": "https://localhost:8080/",
          "height": 34
        },
        "outputId": "a1bd5918-0445-4df7-fa34-3735a7608b93"
      },
      "source": [
        "# 5\n",
        "DNA_motifs[3:5]"
      ],
      "execution_count": null,
      "outputs": [
        {
          "output_type": "execute_result",
          "data": {
            "text/plain": [
              "['GGCATT', 'CACGT']"
            ]
          },
          "metadata": {
            "tags": []
          },
          "execution_count": 11
        }
      ]
    },
    {
      "cell_type": "code",
      "metadata": {
        "id": "pwjOEWKH2Lko",
        "colab_type": "code",
        "colab": {
          "base_uri": "https://localhost:8080/",
          "height": 35
        },
        "outputId": "51553d17-409a-45d2-b7e8-079f515c5adb"
      },
      "source": [
        "# 6\n",
        "DNA_motifs[0] + DNA_motifs[1] + DNA_motifs[-1]"
      ],
      "execution_count": 5,
      "outputs": [
        {
          "output_type": "execute_result",
          "data": {
            "application/vnd.google.colaboratory.intrinsic+json": {
              "type": "string"
            },
            "text/plain": [
              "'TTCATAATCATGACACGT'"
            ]
          },
          "metadata": {
            "tags": []
          },
          "execution_count": 5
        }
      ]
    },
    {
      "cell_type": "code",
      "metadata": {
        "id": "RrgcKpUYjXyW",
        "colab_type": "code",
        "colab": {}
      },
      "source": [
        "#Based on the defined list 'DNA_motifs', we need to calculate the length of each motif in this list. We need to use the 'for' loop to access each motif in the list and calculate the length. The expected outputs should be similar as follows:\n",
        "\n",
        "#Length of TTCAT is 5\n",
        "#Length of AATCATGA is 8\n",
        "#Length of CCCG is 4\n",
        "#Length of GGCATT is 6\n",
        "#Length of CACGT is 5\n",
        "\n",
        "#lease write your python codes for this activity."
      ],
      "execution_count": null,
      "outputs": []
    },
    {
      "cell_type": "code",
      "metadata": {
        "id": "E2bfrP_Jjpib",
        "colab_type": "code",
        "colab": {
          "base_uri": "https://localhost:8080/",
          "height": 101
        },
        "outputId": "cf66c4cc-7a7d-4d54-e5e4-df1b00cad93e"
      },
      "source": [
        "for item in DNA_motifs:\n",
        "  print(\"Length of\",item, \"is\", len(item))\n"
      ],
      "execution_count": 83,
      "outputs": [
        {
          "output_type": "stream",
          "text": [
            "Length of TTCAT is 5\n",
            "Length of AATCATGA is 8\n",
            "Length of CCCG is 4\n",
            "Length of GGCATT is 6\n",
            "Length of CACGT is 5\n"
          ],
          "name": "stdout"
        }
      ]
    },
    {
      "cell_type": "code",
      "metadata": {
        "id": "XYZZm5U3nQtN",
        "colab_type": "code",
        "colab": {}
      },
      "source": [
        "#Based on the defined list 'DNA_motifs', we need to find the longest motif in this list. We need to use the 'for' loop to access each motif in the list.\n",
        "#Please write your python codes for this activity."
      ],
      "execution_count": null,
      "outputs": []
    },
    {
      "cell_type": "code",
      "metadata": {
        "id": "NTf9PMo_2M5d",
        "colab_type": "code",
        "colab": {
          "base_uri": "https://localhost:8080/",
          "height": 34
        },
        "outputId": "d404d2e1-991d-4ada-fc89-435553008e60"
      },
      "source": [
        "longest_length = 0\n",
        "longest_motif = ''\n",
        "for item in DNA_motifs:\n",
        " if len(item) > longest_length:\n",
        "   longest_length = len(item)\n",
        "   longest_motif = item\n",
        "\n",
        "print(longest_motif)"
      ],
      "execution_count": 84,
      "outputs": [
        {
          "output_type": "stream",
          "text": [
            "AATCATGA\n"
          ],
          "name": "stdout"
        }
      ]
    },
    {
      "cell_type": "code",
      "metadata": {
        "id": "WA8QXmH7r_7Z",
        "colab_type": "code",
        "colab": {}
      },
      "source": [
        "#Now let's practice more advanced programming using a list and dictionary. \n",
        "#Based on the list 'DNA_motifs', let's define a dictionary 'DNA_motifs_length',\n",
        "#where the key is each motif in the list 'DNA_motifs', and the value is its length.\n",
        "\n",
        "#Please write your python codes for this activity."
      ],
      "execution_count": null,
      "outputs": []
    },
    {
      "cell_type": "code",
      "metadata": {
        "id": "N7avSa6YwB2G",
        "colab_type": "code",
        "colab": {
          "base_uri": "https://localhost:8080/",
          "height": 34
        },
        "outputId": "4c51c6d2-2bd9-4bb2-8b75-af48c20446e1"
      },
      "source": [
        "DNA_motifs_length = {DNA_motifs[0] : len(DNA_motifs[0]), DNA_motifs[1]: len(DNA_motifs[1]),DNA_motifs[2]: len(DNA_motifs[2]), DNA_motifs[3]: len(DNA_motifs[3]), DNA_motifs[4]: len(DNA_motifs[4])}\n",
        "print(DNA_motifs_length)"
      ],
      "execution_count": 85,
      "outputs": [
        {
          "output_type": "stream",
          "text": [
            "{'TTCAT': 5, 'AATCATGA': 8, 'CCCG': 4, 'GGCATT': 6, 'CACGT': 5}\n"
          ],
          "name": "stdout"
        }
      ]
    },
    {
      "cell_type": "code",
      "metadata": {
        "id": "61h8ZXogxFAU",
        "colab_type": "code",
        "colab": {}
      },
      "source": [
        "#Given the defined dictionary 'DNA_motifs_length', please write your python codes for the following activities.\n",
        "\n",
        "#Add a new motif 'AAT' as a key into the dictionary, and assign its length as value\n",
        "#Print out all the keys in the dictionary\n",
        "#Print out all the values in the dictionary\n",
        "#Print out all the items in the dictionary\n",
        "#Check whether the key 'CCT' already exists in a dictionary"
      ],
      "execution_count": null,
      "outputs": []
    },
    {
      "cell_type": "code",
      "metadata": {
        "id": "-Uq2kdUHxW8o",
        "colab_type": "code",
        "colab": {
          "base_uri": "https://localhost:8080/",
          "height": 34
        },
        "outputId": "5c9d63a8-102d-4d7f-f855-d2c3d82a3866"
      },
      "source": [
        "#1\n",
        "DNA_motifs_length['AAT'] = len('AAT')\n",
        "print(DNA_motifs_length)"
      ],
      "execution_count": 86,
      "outputs": [
        {
          "output_type": "stream",
          "text": [
            "{'TTCAT': 5, 'AATCATGA': 8, 'CCCG': 4, 'GGCATT': 6, 'CACGT': 5, 'AAT': 3}\n"
          ],
          "name": "stdout"
        }
      ]
    },
    {
      "cell_type": "code",
      "metadata": {
        "id": "AeW_mFzjyVL0",
        "colab_type": "code",
        "colab": {
          "base_uri": "https://localhost:8080/",
          "height": 34
        },
        "outputId": "ec806eb3-1d6a-4eff-9c0e-9545e3f8047b"
      },
      "source": [
        "#2\n",
        "print(DNA_motifs_length.keys())"
      ],
      "execution_count": 35,
      "outputs": [
        {
          "output_type": "stream",
          "text": [
            "dict_keys(['TTCAT', 'AATCATGA', 'CCCG', 'GGCATT', 'CACGT', 'AAT'])\n"
          ],
          "name": "stdout"
        }
      ]
    },
    {
      "cell_type": "code",
      "metadata": {
        "id": "blgewLsEyhy8",
        "colab_type": "code",
        "colab": {
          "base_uri": "https://localhost:8080/",
          "height": 34
        },
        "outputId": "e889d9b9-a492-4433-b7f6-10450fd6803a"
      },
      "source": [
        "#3\n",
        "print(DNA_motifs_length.values())"
      ],
      "execution_count": 36,
      "outputs": [
        {
          "output_type": "stream",
          "text": [
            "dict_values([5, 8, 4, 6, 5, 3])\n"
          ],
          "name": "stdout"
        }
      ]
    },
    {
      "cell_type": "code",
      "metadata": {
        "id": "gX6qE06V0jYG",
        "colab_type": "code",
        "colab": {
          "base_uri": "https://localhost:8080/",
          "height": 54
        },
        "outputId": "5eed27e8-0980-4be6-8d64-53fc8ebe9aad"
      },
      "source": [
        "#4\n",
        "print(DNA_motifs_length.items())"
      ],
      "execution_count": 37,
      "outputs": [
        {
          "output_type": "stream",
          "text": [
            "dict_items([('TTCAT', 5), ('AATCATGA', 8), ('CCCG', 4), ('GGCATT', 6), ('CACGT', 5), ('AAT', 3)])\n"
          ],
          "name": "stdout"
        }
      ]
    },
    {
      "cell_type": "code",
      "metadata": {
        "id": "-jN90XRRynYQ",
        "colab_type": "code",
        "colab": {
          "base_uri": "https://localhost:8080/",
          "height": 34
        },
        "outputId": "d06214a0-757a-4362-ccc2-887d58bdfdd9"
      },
      "source": [
        "#5\n",
        "if 'CCT' in DNA_motifs_length:\n",
        "  print('CCT is a key in DNA_motifs_length')\n",
        "else: \n",
        "  print('CCT is not a key in DNA_motifs_length')"
      ],
      "execution_count": 87,
      "outputs": [
        {
          "output_type": "stream",
          "text": [
            "CCT is not a key in DNA_motifs_length\n"
          ],
          "name": "stdout"
        }
      ]
    },
    {
      "cell_type": "code",
      "metadata": {
        "id": "2A8FRAXM0we8",
        "colab_type": "code",
        "colab": {}
      },
      "source": [
        "#Based on the defined list 'DNA_motifs', we are interested in \n",
        "#the motifs that contain substring 'CAT',\n",
        "#please write your python codes to print out these motifs.\n",
        "# (hint: use while/for loop and if conditions)."
      ],
      "execution_count": null,
      "outputs": []
    },
    {
      "cell_type": "code",
      "metadata": {
        "id": "ZWHtffFC1P7A",
        "colab_type": "code",
        "colab": {
          "base_uri": "https://localhost:8080/",
          "height": 67
        },
        "outputId": "d5e9c37e-1de7-4794-b04b-f3aa4323aa2a"
      },
      "source": [
        "substring = 'CAT'\n",
        "for item in DNA_motifs:\n",
        "  if substring in item:\n",
        "    print(item)"
      ],
      "execution_count": null,
      "outputs": [
        {
          "output_type": "stream",
          "text": [
            "TTCAT\n",
            "AATCATGA\n",
            "GGCATT\n"
          ],
          "name": "stdout"
        }
      ]
    },
    {
      "cell_type": "code",
      "metadata": {
        "id": "DN9MovMr26j1",
        "colab_type": "code",
        "colab": {}
      },
      "source": [
        "#Based on the defined list 'DNA_motifs', we are also interested in the \n",
        "#motifs that have a length larger than 5, \n",
        "#please write your python codes to print out these motifs. \n",
        "#(hint: use while/for loop and if conditions)."
      ],
      "execution_count": null,
      "outputs": []
    },
    {
      "cell_type": "code",
      "metadata": {
        "id": "h-0pzy4eq3ZJ",
        "colab_type": "code",
        "colab": {
          "base_uri": "https://localhost:8080/",
          "height": 50
        },
        "outputId": "7bcf5e9f-eae6-4a40-aa20-28536924226f"
      },
      "source": [
        "for item in DNA_motifs:\n",
        "  if len(item) > 5:\n",
        "    print(item)"
      ],
      "execution_count": null,
      "outputs": [
        {
          "output_type": "stream",
          "text": [
            "AATCATGA\n",
            "GGCATT\n"
          ],
          "name": "stdout"
        }
      ]
    },
    {
      "cell_type": "code",
      "metadata": {
        "id": "cwIsQq3Xrp2V",
        "colab_type": "code",
        "colab": {}
      },
      "source": [
        "#Based on the defined list 'DNA_motifs', we would like to replace the letter 'T' with 'U' for every motif and assign them to a new list called 'RNA_motifs'.\n",
        "#Please write your python codes for this activity (hint: use for loop, string.replace() and list.append() function)."
      ],
      "execution_count": null,
      "outputs": []
    },
    {
      "cell_type": "code",
      "metadata": {
        "id": "egtkrHYMbZ02",
        "colab_type": "code",
        "colab": {}
      },
      "source": [
        " RNA_motifs = []\n",
        " for item in DNA_motifs:\n",
        "  new_motif = item.replace('T','U')\n",
        "  RNA_motifs.append(new_motif)\n",
        "    \n"
      ],
      "execution_count": 88,
      "outputs": []
    },
    {
      "cell_type": "code",
      "metadata": {
        "id": "6CdZdYPsbaKA",
        "colab_type": "code",
        "colab": {
          "base_uri": "https://localhost:8080/",
          "height": 34
        },
        "outputId": "60f4ab88-a20f-4d9b-8c81-7480ed613a16"
      },
      "source": [
        "print(RNA_motifs)"
      ],
      "execution_count": 89,
      "outputs": [
        {
          "output_type": "stream",
          "text": [
            "['UUCAU', 'AAUCAUGA', 'CCCG', 'GGCAUU', 'CACGU']\n"
          ],
          "name": "stdout"
        }
      ]
    },
    {
      "cell_type": "code",
      "metadata": {
        "id": "kD7WP4zpgDCu",
        "colab_type": "code",
        "colab": {}
      },
      "source": [
        "#Based on the defined list 'DNA_motifs', we are also interested in the motifs that have a length larger than 5. \n",
        "#After we find the motifs, we need to concatenate them as a new string and add it as new key into dictionary \n",
        "#'DNA_motifs_length',\n",
        "# where the value is the new sequence's length.\n",
        "# Please write your python codes for this activity. (hint: use while/for loop and if conditions)."
      ],
      "execution_count": null,
      "outputs": []
    },
    {
      "cell_type": "code",
      "metadata": {
        "id": "jji175nZiqd_",
        "colab_type": "code",
        "colab": {
          "base_uri": "https://localhost:8080/",
          "height": 54
        },
        "outputId": "e320362f-d920-403b-daf6-39ee26425dfb"
      },
      "source": [
        "longest_DNA_motifs = []\n",
        "for motif in DNA_motifs:\n",
        "  if len(motif) > 5:\n",
        "    longest_DNA_motifs.append(motif)\n",
        "\n",
        "combined_longest_motifs = longest_DNA_motifs[0] + longest_DNA_motifs[1]  \n",
        "DNA_motifs_length[combined_longest_motifs] = len(combined_longest_motifs)\n",
        "print(DNA_motifs_length)"
      ],
      "execution_count": 82,
      "outputs": [
        {
          "output_type": "stream",
          "text": [
            "{'TTCAT': 5, 'AATCATGA': 8, 'CCCG': 4, 'GGCATT': 6, 'CACGT': 5, 'AAT': 3, 'AATCATGAGGCATT': 14}\n"
          ],
          "name": "stdout"
        }
      ]
    },
    {
      "cell_type": "code",
      "metadata": {
        "id": "hv61pnkvlwf_",
        "colab_type": "code",
        "colab": {}
      },
      "source": [
        ""
      ],
      "execution_count": null,
      "outputs": []
    }
  ]
}