{
  "nbformat": 4,
  "nbformat_minor": 0,
  "metadata": {
    "colab": {
      "name": "Lab02(Python string, list, dictionary).ipynb",
      "provenance": []
    },
    "kernelspec": {
      "name": "python3",
      "display_name": "Python 3"
    }
  },
  "cells": [
    {
      "cell_type": "code",
      "metadata": {
        "id": "RskjZEUz0r6Q",
        "colab_type": "code",
        "colab": {
          "base_uri": "https://localhost:8080/",
          "height": 34
        },
        "outputId": "247488f4-06e1-4204-e938-deba5aef9d77"
      },
      "source": [
        "##Question1: Assume that we have 5 DNA motifs that have the following strings:\n",
        "\n",
        "##TTCAT\n",
        "##AATCATGA\n",
        "##CCCG\n",
        "##GGCATT\n",
        "##CACGT\n",
        "\n",
        "##which are comprised of four nucleotides (e.g. A, T, C, G). We would like to define a variable called 'DNA_motifs', and store these sequences in this variable using the data type list. Then we need to print the variable by print(\"DNA_motifs: \", DNA_motifs)\n",
        "##Please write your python codes for this activity.\n",
        "\n",
        "DNA_motifs = ['TTCAT','AATCATGA','CCCG','GGCATT','CACGT']\n",
        "print(\"DNA_motifs: \", DNA_motifs)\n",
        " "
      ],
      "execution_count": null,
      "outputs": [
        {
          "output_type": "stream",
          "text": [
            "DNA_motifs:  ['TTCAT', 'AATCATGA', 'CCCG', 'GGCATT', 'CACGT']\n"
          ],
          "name": "stdout"
        }
      ]
    },
    {
      "cell_type": "code",
      "metadata": {
        "id": "gh_bvZwx2H9z",
        "colab_type": "code",
        "colab": {
          "base_uri": "https://localhost:8080/",
          "height": 119
        },
        "outputId": "a6685d6e-c890-41e9-ea25-8e89486db6bb"
      },
      "source": [
        "##Question 2: Based on the defined list 'DNA_motifs', please write your python codes for the following activities:\n",
        "\n",
        "##What is the first element of the list 'DNA_motifs'?\n",
        "print(DNA_motifs[0])\n",
        "\n",
        "##What is the last element of the list 'DNA_motifs'?\n",
        "print(DNA_motifs[-1])\n",
        "\n",
        "##What is the 3rd element of the list 'DNA_motifs'?\n",
        "print(DNA_motifs[2])\n",
        "\n",
        "##What are the first 3 elements of the list 'DNA_motifs'?\n",
        "print(DNA_motifs[0:3])\n",
        "\n",
        "##What are the last 2 elements of the list 'DNA_motifs'?\n",
        "print(DNA_motifs[3:5])\n",
        "\n",
        "##Given the list 'DNA_motifs', how to concatenate the first 2 elements and the last element together?\n",
        "x = DNA_motifs[0]\n",
        "p = DNA_motifs[1]\n",
        "y= DNA_motifs[-1]\n",
        "z=x+p+y\n",
        "print (z)\n",
        "\n",
        " "
      ],
      "execution_count": 8,
      "outputs": [
        {
          "output_type": "stream",
          "text": [
            "TTCAT\n",
            "CACGT\n",
            "CCCG\n",
            "['TTCAT', 'AATCATGA', 'CCCG']\n",
            "['GGCATT', 'CACGT']\n",
            "TTCATAATCATGACACGT\n"
          ],
          "name": "stdout"
        }
      ]
    },
    {
      "cell_type": "code",
      "metadata": {
        "id": "L3gyHUWGYAxb",
        "colab_type": "code",
        "colab": {
          "base_uri": "https://localhost:8080/",
          "height": 102
        },
        "outputId": "f7a92747-ede2-4e46-fbc7-bb4c224f2ecf"
      },
      "source": [
        "##Question 3: Based on the defined list 'DNA_motifs', we need to calculate the length of each motif in this list. We need to use the 'for' loop to access each motif in the list and calculate the length. The expected outputs should be similar as follows:\n",
        "\n",
        "##Length of TTCAT is 5\n",
        "##Length of AATCATGA is 8\n",
        "##Length of CCCG is 4\n",
        "##Length of GGCATT is 6\n",
        "##Length of CACGT is 5\n",
        "\n",
        "##Please write your python codes for this activity.\n",
        "\n",
        "DNA_motifs = ['TTCAT','AATCATGA','CCCG','GGCATT','CACGT']\n",
        "for motif in DNA_motifs: \n",
        "  length = len(motif)\n",
        "  print(motif, 'is',length)\n",
        "  \n",
        "\n",
        "\n",
        " "
      ],
      "execution_count": null,
      "outputs": [
        {
          "output_type": "stream",
          "text": [
            "TTCAT is 5\n",
            "AATCATGA is 8\n",
            "CCCG is 4\n",
            "GGCATT is 6\n",
            "CACGT is 5\n"
          ],
          "name": "stdout"
        }
      ]
    },
    {
      "cell_type": "code",
      "metadata": {
        "id": "8R4kOkq2ZwmL",
        "colab_type": "code",
        "colab": {
          "base_uri": "https://localhost:8080/",
          "height": 51
        },
        "outputId": "743b890c-3d86-4d92-fe63-321deaa1f8e4"
      },
      "source": [
        "##Question4: Based on the defined list 'DNA_motifs', we need to find the longest motif in this list. We need to use the 'for' loop to access each motif in the list.\n",
        "##Please write your python codes for this activity.\n",
        "\n",
        "\n",
        "# initialize list  \n",
        "DNA_motifs = ['TTCAT','AATCATGA','CCCG','GGCATT','CACGT']\n",
        "  \n",
        "# printing original list  \n",
        "print(\"The original list : \" + str(DNA_motifs)) \n",
        "  \n",
        "# Longest String in list \n",
        "# using loop \n",
        "max_len = -1\n",
        "for ele in DNA_motifs: \n",
        "    if len(ele) > max_len: \n",
        "        max_len = len(ele) \n",
        "        res = ele \n",
        "  \n",
        "# printing result \n",
        "print(\"Maximum length string is : \" + res)\n",
        "  \n",
        "\n",
        "\n",
        " "
      ],
      "execution_count": null,
      "outputs": [
        {
          "output_type": "stream",
          "text": [
            "The original list : ['TTCAT', 'AATCATGA', 'CCCG', 'GGCATT', 'CACGT']\n",
            "Maximum length string is : AATCATGA\n"
          ],
          "name": "stdout"
        }
      ]
    },
    {
      "cell_type": "code",
      "metadata": {
        "id": "TJnkEPlCZywd",
        "colab_type": "code",
        "colab": {
          "base_uri": "https://localhost:8080/",
          "height": 34
        },
        "outputId": "3302d225-c09b-4e53-e432-8aac95c14a91"
      },
      "source": [
        "##Question5:Now let's practice more advanced programming using a list and dictionary. Based on the list 'DNA_motifs', let's define a dictionary 'DNA_motifs_length', where the key is each motif in the list 'DNA_motifs', and the value is its length.\n",
        "##Please write your python codes for this activity.\n",
        "\n",
        "DNA_motifs_length= {'TTCAT':'5','AATCATGA':'8','CCCG':'4','GGCATT':'6','CACGT':'5'}\n",
        "print(DNA_motifs_length)"
      ],
      "execution_count": null,
      "outputs": [
        {
          "output_type": "stream",
          "text": [
            "{'TTCAT': '5', 'AATCATGA': '8', 'CCCG': '4', 'GGCATT': '6', 'CACGT': '5'}\n"
          ],
          "name": "stdout"
        }
      ]
    },
    {
      "cell_type": "code",
      "metadata": {
        "id": "Vt7jdHssZ97K",
        "colab_type": "code",
        "colab": {
          "base_uri": "https://localhost:8080/",
          "height": 85
        },
        "outputId": "5c8337c9-4056-42f8-c4fd-1471f3ce2a85"
      },
      "source": [
        "##Question6: Given the defined dictionary 'DNA_motifs_length', please write your python codes for the following activities.\n",
        "\n",
        "##Add a new motif 'AAT' as a key into the dictionary, and assign its length as value\n",
        "DNA_motifs_length= {'TTCAT':'5','AATCATGA':'8','CCCG':'4','GGCATT':'6','CACGT':'5'}\n",
        "\n",
        "DNA_motifs_length ['AAT'] = '3'\n",
        "print (DNA_motifs_length)\n",
        "\n",
        "##Print out all the keys in the dictionary\n",
        "print(DNA_motifs_length.keys())\n",
        "\n",
        "##Print out all the values in the dictionary\n",
        "print(DNA_motifs_length.values()) \n",
        "\n",
        "##Print out all the items in the dictionary\n",
        "print(DNA_motifs_length.items())\n",
        "\n",
        "##Check whether the key 'CCT' already exists in a dictionary\n",
        "DNA_motifs = ['TTCAT','AATCATGA','CCCG','GGCATT','CACGT']\n",
        "\n",
        "if 'CCT' in DNA_motifs :\n",
        "    print(\"Yes, 'CCT' found in List : \", DNA_motifs )"
      ],
      "execution_count": 2,
      "outputs": [
        {
          "output_type": "stream",
          "text": [
            "{'TTCAT': '5', 'AATCATGA': '8', 'CCCG': '4', 'GGCATT': '6', 'CACGT': '5', 'AAT': '3'}\n",
            "dict_keys(['TTCAT', 'AATCATGA', 'CCCG', 'GGCATT', 'CACGT', 'AAT'])\n",
            "dict_values(['5', '8', '4', '6', '5', '3'])\n",
            "dict_items([('TTCAT', '5'), ('AATCATGA', '8'), ('CCCG', '4'), ('GGCATT', '6'), ('CACGT', '5'), ('AAT', '3')])\n"
          ],
          "name": "stdout"
        }
      ]
    },
    {
      "cell_type": "code",
      "metadata": {
        "id": "gqoVmviDaSxc",
        "colab_type": "code",
        "colab": {
          "base_uri": "https://localhost:8080/",
          "height": 51
        },
        "outputId": "f5480497-23f9-4998-c326-59aa2040707f"
      },
      "source": [
        "##Question 7: Based on the defined list 'DNA_motifs', we are interested in the motifs that contain substring 'CAT', please write your python codes to print out these motifs. (hint: use while/for loop and if conditions).\n",
        "\n",
        "##Python code to demonstrate  \n",
        "# to find strings with substrings  \n",
        "# using list comprehension  \n",
        "  \n",
        "# initializing list  \n",
        "DNA_motifs = ['TTCAT','AATCATGA','CCCG','GGCATT','CACGT']\n",
        "\n",
        "# printing original list  \n",
        "print (\"The original list is : \" + str(DNA_motifs)) \n",
        "  \n",
        "# initializing substring \n",
        "subs = 'CAT'\n",
        "  \n",
        "# using list comprehension  \n",
        "# to get string with substring  \n",
        "res = [i for i in DNA_motifs if subs in i] \n",
        "  \n",
        "# printing result  \n",
        "print (\"All strings with given substring are : \" + str(res))"
      ],
      "execution_count": null,
      "outputs": [
        {
          "output_type": "stream",
          "text": [
            "The original list is : ['TTCAT', 'AATCATGA', 'CCCG', 'GGCATT', 'CACGT']\n",
            "All strings with given substring are : ['TTCAT', 'AATCATGA', 'GGCATT']\n"
          ],
          "name": "stdout"
        }
      ]
    },
    {
      "cell_type": "code",
      "metadata": {
        "id": "IY2DVEdvaVUx",
        "colab_type": "code",
        "colab": {
          "base_uri": "https://localhost:8080/",
          "height": 51
        },
        "outputId": "72220140-a279-408b-8926-4c2afa94881e"
      },
      "source": [
        "##Question 8: Based on the defined list 'DNA_motifs', we are also interested in the motifs that have a length larger than 5, please write your python codes to print out these motifs. (hint: use while/for loop and if conditions).\n",
        "\n",
        "for motif in DNA_motifs:\n",
        "    if len(motif) > 5:\n",
        "        print(motif)\n",
        " "
      ],
      "execution_count": null,
      "outputs": [
        {
          "output_type": "stream",
          "text": [
            "AATCATGA\n",
            "GGCATT\n"
          ],
          "name": "stdout"
        }
      ]
    },
    {
      "cell_type": "code",
      "metadata": {
        "id": "nTKAPKFyaeOS",
        "colab_type": "code",
        "colab": {
          "base_uri": "https://localhost:8080/",
          "height": 34
        },
        "outputId": "693ce496-9d7b-44a3-8253-cd52ac4c445f"
      },
      "source": [
        "##Question 9: Based on the defined list 'DNA_motifs', we would like to replace the letter 'T' with 'U' for every motif and assign them to a new list called 'RNA_motifs'.\n",
        "##Please write your python codes for this activity (hint: use for loop, string.replace() and list.append() function).\n",
        "\n",
        "DNA_motifs = ['TTCAT','AATCATGA','CCCG','GGCATT','CACGT']\n",
        "\n",
        "RNA_motifs = []\n",
        "\n",
        "for motif in DNA_motifs:\n",
        "    RNA_motif = motif.replace(\"T\", \"U\")\n",
        "    RNA_motifs.append(RNA_motif)\n",
        "print(RNA_motifs)\n"
      ],
      "execution_count": null,
      "outputs": [
        {
          "output_type": "stream",
          "text": [
            "['UUCAU', 'AAUCAUGA', 'CCCG', 'GGCAUU', 'CACGU']\n"
          ],
          "name": "stdout"
        }
      ]
    },
    {
      "cell_type": "code",
      "metadata": {
        "id": "nhVe34c1anit",
        "colab_type": "code",
        "colab": {
          "base_uri": "https://localhost:8080/",
          "height": 51
        },
        "outputId": "04d69d9e-f29c-4a01-b475-b196711ea147"
      },
      "source": [
        "##Question10: Based on the defined list 'DNA_motifs', we are also interested in the motifs that have a length larger than 5. After we find the motifs, we need to concatenate them as a new string and add it as new key into dictionary 'DNA_motifs_length', where the value is the new sequence's length. Please write your python codes for this activity. (hint: use while/for loop and if conditions).\n",
        "for motif in DNA_motifs:\n",
        "    if len(motif) > 5:\n",
        "        print(motif)\n",
        "\n",
        "\n",
        " \n",
        "\n",
        " "
      ],
      "execution_count": null,
      "outputs": [
        {
          "output_type": "stream",
          "text": [
            "AATCATGA\n",
            "GGCATT\n"
          ],
          "name": "stdout"
        }
      ]
    },
    {
      "cell_type": "code",
      "metadata": {
        "id": "Am4tvnysg4DN",
        "colab_type": "code",
        "colab": {
          "base_uri": "https://localhost:8080/",
          "height": 51
        },
        "outputId": "160daa47-59d6-4cf3-8fa9-734a9f87b4d4"
      },
      "source": [
        "x = \"AATCATGA\"\n",
        "y = \"GGCATT\"\n",
        "z =  x + y\n",
        "print(z)\n",
        "\n",
        "DNA_motifs_length= {'TTCAT':'5','AATCATGA':'8','CCCG':'4','GGCATT':'6','CACGT':'5'}\n",
        "\n",
        "DNA_motifs_length [z] = len(z)\n",
        "print (DNA_motifs_length)"
      ],
      "execution_count": 12,
      "outputs": [
        {
          "output_type": "stream",
          "text": [
            "AATCATGAGGCATT\n",
            "{'TTCAT': '5', 'AATCATGA': '8', 'CCCG': '4', 'GGCATT': '6', 'CACGT': '5', 'AATCATGAGGCATT': 14}\n"
          ],
          "name": "stdout"
        }
      ]
    }
  ]
}