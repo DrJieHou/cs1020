{
  "nbformat": 4,
  "nbformat_minor": 0,
  "metadata": {
    "colab": {
      "name": "Lab02.ipynb",
      "provenance": []
    },
    "kernelspec": {
      "name": "python3",
      "display_name": "Python 3"
    }
  },
  "cells": [
    {
      "cell_type": "code",
      "metadata": {
        "id": "9jMIUo6eddOG",
        "colab_type": "code",
        "colab": {}
      },
      "source": [
        "# indent print after colon"
      ],
      "execution_count": null,
      "outputs": []
    },
    {
      "cell_type": "code",
      "metadata": {
        "id": "sEwaIM9VfYSp",
        "colab_type": "code",
        "colab": {}
      },
      "source": [
        "# Q1: Assume that we have 5 DNA motifs that have the following strings:\n",
        "\n",
        "# TTCAT\n",
        "# AATCATGA\n",
        "# CCCG\n",
        "# GGCATT\n",
        "# CACGT\n",
        "\n",
        "# which are comprised of four nucleotides (e.g. A, T, C, G). We would like to define a variable called 'DNA_motifs', and store these sequences in this variable using the data type list. Then we need to print the variable by print(\"DNA_motifs: \", DNA_motifs) \n",
        "# Please write your python codes for this activity."
      ],
      "execution_count": null,
      "outputs": []
    },
    {
      "cell_type": "code",
      "metadata": {
        "id": "Zbk9Hh9lcRN1",
        "colab_type": "code",
        "colab": {
          "base_uri": "https://localhost:8080/",
          "height": 34
        },
        "outputId": "9ac66c66-b7aa-444e-964e-144c93624ce5"
      },
      "source": [
        "DNA_motifs = ['TTCAT', 'AATCATGA', 'CCCG', 'GGCATT', 'CACGT']\n",
        "print(\"DNA_motifs: \", DNA_motifs)"
      ],
      "execution_count": null,
      "outputs": [
        {
          "output_type": "stream",
          "text": [
            "DNA_motifs:  ['TTCAT', 'AATCATGA', 'CCCG', 'GGCATT', 'CACGT']\n"
          ],
          "name": "stdout"
        }
      ]
    },
    {
      "cell_type": "code",
      "metadata": {
        "id": "YtYaxI0pdEAO",
        "colab_type": "code",
        "colab": {}
      },
      "source": [
        "# Q2: Based on the defined list 'DNA_motifs', please write your python codes for the following activities:\n",
        "\n",
        "# What is the first element of the list 'DNA_motifs'?\n",
        "# What is the last element of the list 'DNA_motifs'?\n",
        "# What is the 3rd element of the list 'DNA_motifs'?\n",
        "# What are the first 3 elements of the list 'DNA_motifs'?\n",
        "# What are the last 2 elements of the list 'DNA_motifs'?\n",
        "# Given the list 'DNA_motifs', how to concatenate the first 2 elements and the last element together?"
      ],
      "execution_count": null,
      "outputs": []
    },
    {
      "cell_type": "code",
      "metadata": {
        "id": "LR1AdcZddMdJ",
        "colab_type": "code",
        "colab": {
          "base_uri": "https://localhost:8080/",
          "height": 37
        },
        "outputId": "acf8f9c9-320d-4e2b-f9e5-8a6b7948d8b2"
      },
      "source": [
        "DNA_motifs = ['TTCAT', 'AATCATGA', 'CCCG', 'GGCATT', 'CACGT']\n",
        "DNA_motifs [0]"
      ],
      "execution_count": null,
      "outputs": [
        {
          "output_type": "execute_result",
          "data": {
            "application/vnd.google.colaboratory.intrinsic+json": {
              "type": "string"
            },
            "text/plain": [
              "'TTCAT'"
            ]
          },
          "metadata": {
            "tags": []
          },
          "execution_count": 3
        }
      ]
    },
    {
      "cell_type": "code",
      "metadata": {
        "id": "p6RMhUR6fp60",
        "colab_type": "code",
        "colab": {
          "base_uri": "https://localhost:8080/",
          "height": 37
        },
        "outputId": "304ca130-83c6-4fc1-d690-4a7f44a42ee7"
      },
      "source": [
        "DNA_motifs = ['TTCAT', 'AATCATGA', 'CCCG', 'GGCATT', 'CACGT']\n",
        "DNA_motifs [4]"
      ],
      "execution_count": null,
      "outputs": [
        {
          "output_type": "execute_result",
          "data": {
            "application/vnd.google.colaboratory.intrinsic+json": {
              "type": "string"
            },
            "text/plain": [
              "'CACGT'"
            ]
          },
          "metadata": {
            "tags": []
          },
          "execution_count": 4
        }
      ]
    },
    {
      "cell_type": "code",
      "metadata": {
        "id": "RcL7r5_3fwyI",
        "colab_type": "code",
        "colab": {
          "base_uri": "https://localhost:8080/",
          "height": 37
        },
        "outputId": "90621299-ae4f-4eb4-a4d9-54f8c7d48361"
      },
      "source": [
        "DNA_motifs = ['TTCAT', 'AATCATGA', 'CCCG', 'GGCATT', 'CACGT']\n",
        "DNA_motifs [2]"
      ],
      "execution_count": null,
      "outputs": [
        {
          "output_type": "execute_result",
          "data": {
            "application/vnd.google.colaboratory.intrinsic+json": {
              "type": "string"
            },
            "text/plain": [
              "'CCCG'"
            ]
          },
          "metadata": {
            "tags": []
          },
          "execution_count": 5
        }
      ]
    },
    {
      "cell_type": "code",
      "metadata": {
        "id": "Xcp9-VvAf2Y9",
        "colab_type": "code",
        "colab": {
          "base_uri": "https://localhost:8080/",
          "height": 34
        },
        "outputId": "c4d2e7a4-f8a0-4a21-a956-0926324d71dd"
      },
      "source": [
        "DNA_motifs = ['TTCAT', 'AATCATGA', 'CCCG', 'GGCATT', 'CACGT']\n",
        "DNA_motifs [:3]"
      ],
      "execution_count": null,
      "outputs": [
        {
          "output_type": "execute_result",
          "data": {
            "text/plain": [
              "['TTCAT', 'AATCATGA', 'CCCG']"
            ]
          },
          "metadata": {
            "tags": []
          },
          "execution_count": 7
        }
      ]
    },
    {
      "cell_type": "code",
      "metadata": {
        "id": "8ZM4F2X9f8aO",
        "colab_type": "code",
        "colab": {
          "base_uri": "https://localhost:8080/",
          "height": 34
        },
        "outputId": "7feb683b-d683-42bf-d979-6569ba7e8e01"
      },
      "source": [
        "DNA_motifs = ['TTCAT', 'AATCATGA', 'CCCG', 'GGCATT', 'CACGT']\n",
        "DNA_motifs [3:]"
      ],
      "execution_count": null,
      "outputs": [
        {
          "output_type": "execute_result",
          "data": {
            "text/plain": [
              "['GGCATT', 'CACGT']"
            ]
          },
          "metadata": {
            "tags": []
          },
          "execution_count": 9
        }
      ]
    },
    {
      "cell_type": "code",
      "metadata": {
        "id": "w0MtXy4vkdhr",
        "colab_type": "code",
        "colab": {
          "base_uri": "https://localhost:8080/",
          "height": 34
        },
        "outputId": "b2e22688-13fc-4e22-b311-6e2076f2ffe4"
      },
      "source": [
        "DNA_motifs = ['TTCAT', 'AATCATGA']\n",
        "DNA_motifs.append ('CACGT')\n",
        "print(DNA_motifs)"
      ],
      "execution_count": 54,
      "outputs": [
        {
          "output_type": "stream",
          "text": [
            "['TTCAT', 'AATCATGA', 'CACGT']\n"
          ],
          "name": "stdout"
        }
      ]
    },
    {
      "cell_type": "code",
      "metadata": {
        "id": "86mEZxCwgt-C",
        "colab_type": "code",
        "colab": {}
      },
      "source": [
        "# Q3: Based on the defined list 'DNA_motifs', we need to calculate the length of each motif in this list. We need to use the 'for' loop to access each motif in the list and calculate the length. The expected outputs should be similar as follows:\n",
        "\n",
        "# Length of TTCAT is 5\n",
        "# Length of AATCATGA is 8\n",
        "# Length of CCCG is 4\n",
        "# Length of GGCATT is 6\n",
        "# Length of CACGT is 5\n",
        "\n",
        "# Please write your python codes for this activity."
      ],
      "execution_count": null,
      "outputs": []
    },
    {
      "cell_type": "code",
      "metadata": {
        "id": "oQTW5hEcnQal",
        "colab_type": "code",
        "colab": {
          "base_uri": "https://localhost:8080/",
          "height": 34
        },
        "outputId": "7dbf2335-2435-4d04-e62b-14833d49022e"
      },
      "source": [
        "DNA_motifs = ['TTCAT', 'AATCATGA', 'CCCG', 'GGCATT', 'CACGT']\n",
        "longest_length = 0\n",
        "longest_motif = ''\n",
        "for motifs in DNA_motifs:\n",
        "  if len(motifs) > longest_length:\n",
        "    longest_length = len(motifs)\n",
        "    longest_motif = motifs\n",
        "print('Length of TTCAT is 5')"
      ],
      "execution_count": 87,
      "outputs": [
        {
          "output_type": "stream",
          "text": [
            "Length of TTCAT is 5\n"
          ],
          "name": "stdout"
        }
      ]
    },
    {
      "cell_type": "code",
      "metadata": {
        "id": "PLOgUa6fzEh5",
        "colab_type": "code",
        "colab": {
          "base_uri": "https://localhost:8080/",
          "height": 34
        },
        "outputId": "b96e79d4-0aed-42ca-ad06-3de5e9bad931"
      },
      "source": [
        "DNA_motifs = ['TTCAT', 'AATCATGA', 'CCCG', 'GGCATT', 'CACGT']\n",
        "longest_length = 0\n",
        "longest_motif = ''\n",
        "for motifs in DNA_motifs:\n",
        "  if len(motifs) > longest_length:\n",
        "    longest_length = len(motifs)\n",
        "    longest_motif = motifs\n",
        "print('Length of AATCATGA is 8')"
      ],
      "execution_count": 88,
      "outputs": [
        {
          "output_type": "stream",
          "text": [
            "Length of AATCATGA is 8\n"
          ],
          "name": "stdout"
        }
      ]
    },
    {
      "cell_type": "code",
      "metadata": {
        "id": "bi31afDFzLzG",
        "colab_type": "code",
        "colab": {
          "base_uri": "https://localhost:8080/",
          "height": 34
        },
        "outputId": "a578b1d0-628b-425f-bef9-d223f94e9955"
      },
      "source": [
        "DNA_motifs = ['TTCAT', 'AATCATGA', 'CCCG', 'GGCATT', 'CACGT']\n",
        "longest_length = 0\n",
        "longest_motif = ''\n",
        "for motifs in DNA_motifs:\n",
        "  if len(motifs) > longest_length:\n",
        "    longest_length = len(motifs)\n",
        "    longest_motif = motifs\n",
        "print('Length of CCCG is 4')"
      ],
      "execution_count": 89,
      "outputs": [
        {
          "output_type": "stream",
          "text": [
            "Length of CCCG is 4\n"
          ],
          "name": "stdout"
        }
      ]
    },
    {
      "cell_type": "code",
      "metadata": {
        "id": "aMbvpjxNzPtQ",
        "colab_type": "code",
        "colab": {
          "base_uri": "https://localhost:8080/",
          "height": 34
        },
        "outputId": "05167e63-8b21-4f64-b644-93f768b19581"
      },
      "source": [
        "DNA_motifs = ['TTCAT', 'AATCATGA', 'CCCG', 'GGCATT', 'CACGT']\n",
        "longest_length = 0\n",
        "longest_motif = ''\n",
        "for motifs in DNA_motifs:\n",
        "  if len(motifs) > longest_length:\n",
        "    longest_length = len(motifs)\n",
        "    longest_motif = motifs\n",
        "print('Length of GGCATT is 6')"
      ],
      "execution_count": 90,
      "outputs": [
        {
          "output_type": "stream",
          "text": [
            "Length of GGCATT is 6\n"
          ],
          "name": "stdout"
        }
      ]
    },
    {
      "cell_type": "code",
      "metadata": {
        "id": "w-_z7vbUzUuT",
        "colab_type": "code",
        "colab": {
          "base_uri": "https://localhost:8080/",
          "height": 34
        },
        "outputId": "142fb0b0-fad3-4471-84a4-021c3fd6105c"
      },
      "source": [
        "DNA_motifs = ['TTCAT', 'AATCATGA', 'CCCG', 'GGCATT', 'CACGT']\n",
        "longest_length = 0\n",
        "longest_motif = ''\n",
        "for motifs in DNA_motifs:\n",
        "  if len(motifs) > longest_length:\n",
        "    longest_length = len(motifs)\n",
        "    longest_motif = motifs\n",
        "print('Length of CACGT is 5')"
      ],
      "execution_count": 91,
      "outputs": [
        {
          "output_type": "stream",
          "text": [
            "Length of CACGT is 5\n"
          ],
          "name": "stdout"
        }
      ]
    },
    {
      "cell_type": "code",
      "metadata": {
        "id": "p99yugJNfntM",
        "colab_type": "code",
        "colab": {}
      },
      "source": [
        "# Q4: Based on the defined list 'DNA_motifs', we need to find the longest motif in this list. We need to use the 'for' loop to access each motif in the list.\n",
        "# Please write your python codes for this activity."
      ],
      "execution_count": null,
      "outputs": []
    },
    {
      "cell_type": "code",
      "metadata": {
        "id": "sLuUXhIF2xSC",
        "colab_type": "code",
        "colab": {}
      },
      "source": [
        "DNA_motifs = ['TTCAT', 'AATCATGA', 'CCCG', 'GGCATT', 'CAGGT']"
      ],
      "execution_count": null,
      "outputs": []
    },
    {
      "cell_type": "code",
      "metadata": {
        "id": "lDSD-9fj3UqR",
        "colab_type": "code",
        "colab": {
          "base_uri": "https://localhost:8080/",
          "height": 34
        },
        "outputId": "cf0b07cd-e9a1-41d4-81c9-a4a4ba43bb2e"
      },
      "source": [
        "DNA_motifs = ['TTCAT', 'AATCATGA', 'CCCG', 'GGCATT', 'CAGGT']\n",
        "longest_length = 0\n",
        "longest_motif = ''\n",
        "for motifs in DNA_motifs:\n",
        "    if len(motifs) > longest_length:\n",
        "      longest_length = len(motifs)\n",
        "      longest_motif = motifs\n",
        "print(longest_motif)"
      ],
      "execution_count": null,
      "outputs": [
        {
          "output_type": "stream",
          "text": [
            "AATCATGA\n"
          ],
          "name": "stdout"
        }
      ]
    },
    {
      "cell_type": "code",
      "metadata": {
        "id": "W8FbsauKpuZQ",
        "colab_type": "code",
        "colab": {}
      },
      "source": [
        "# Q5: Now let's practice more advanced programming using a list and dictionary. Based on the list 'DNA_motifs', let's define a dictionary 'DNA_motifs_length', where the key is each motif in the list 'DNA_motifs', and the value is its length. \n",
        "# Please write your python codes for this activity."
      ],
      "execution_count": null,
      "outputs": []
    },
    {
      "cell_type": "code",
      "metadata": {
        "id": "yDvKdel0zc-4",
        "colab_type": "code",
        "colab": {
          "base_uri": "https://localhost:8080/",
          "height": 34
        },
        "outputId": "22327325-ff21-4f61-f2a7-804a5ab47c32"
      },
      "source": [
        "DNA_motifs = ['TTCAT', 'AATCATGA', 'CCCG', 'GGCATT', 'CAGGT']\n",
        "DNA_motifs_length = {'TTCAT': '5',\n",
        "                     'AATCATGA': '8',\n",
        "                     'CCCG': '4',\n",
        "                     'GGCATT': '6',\n",
        "                     'CAGGT': '5'}\n",
        "print(DNA_motifs_length)"
      ],
      "execution_count": 92,
      "outputs": [
        {
          "output_type": "stream",
          "text": [
            "{'TTCAT': '5', 'AATCATGA': '8', 'CCCG': '4', 'GGCATT': '6', 'CAGGT': '5'}\n"
          ],
          "name": "stdout"
        }
      ]
    },
    {
      "cell_type": "code",
      "metadata": {
        "id": "1GOKxaRup1YD",
        "colab_type": "code",
        "colab": {}
      },
      "source": [
        "# Q6: Given the defined dictionary 'DNA_motifs_length', please write your python codes for the following activities.\n",
        "\n",
        "# Add a new motif 'AAT' as a key into the dictionary, and assign its length as value\n",
        "# Print out all the keys in the dictionary\n",
        "# Print out all the values in the dictionary\n",
        "# Print out all the items in the dictionary\n",
        "# Check whether the key 'CCT' already exists in a dictionary"
      ],
      "execution_count": null,
      "outputs": []
    },
    {
      "cell_type": "code",
      "metadata": {
        "id": "L9J-SuBb03UJ",
        "colab_type": "code",
        "colab": {
          "base_uri": "https://localhost:8080/",
          "height": 34
        },
        "outputId": "16f65d2d-e8fd-49f5-ea5c-9da440d82e4d"
      },
      "source": [
        "DNA_motifs = ['TTCAT', 'AATCATGA', 'CCCG', 'GGCATT', 'CAGGT']\n",
        "DNA_motifs_length = {'TTCAT': '5',\n",
        "                     'AATCATGA': '8',\n",
        "                     'CCCG': '4',\n",
        "                     'GGCATT': '6',\n",
        "                     'CAGGT': '5'}\n",
        "DNA_motifs_length['AAT'] = '3' \n",
        "print(DNA_motifs_length)"
      ],
      "execution_count": 93,
      "outputs": [
        {
          "output_type": "stream",
          "text": [
            "{'TTCAT': '5', 'AATCATGA': '8', 'CCCG': '4', 'GGCATT': '6', 'CAGGT': '5', 'AAT': '3'}\n"
          ],
          "name": "stdout"
        }
      ]
    },
    {
      "cell_type": "code",
      "metadata": {
        "id": "Gwr4Fkwr1oIg",
        "colab_type": "code",
        "colab": {
          "base_uri": "https://localhost:8080/",
          "height": 34
        },
        "outputId": "ae2353ee-4944-4aa6-c776-235f46b6af95"
      },
      "source": [
        "DNA_motifs = ['TTCAT', 'AATCATGA', 'CCCG', 'GGCATT', 'CAGGT']\n",
        "DNA_motifs_length = {'TTCAT': '5',\n",
        "                     'AATCATGA': '8',\n",
        "                     'CCCG': '4',\n",
        "                     'GGCATT': '6',\n",
        "                     'CAGGT': '5'}\n",
        "DNA_motifs_length['AAT'] = '3'\n",
        "print(DNA_motifs_length.keys())"
      ],
      "execution_count": 95,
      "outputs": [
        {
          "output_type": "stream",
          "text": [
            "dict_keys(['TTCAT', 'AATCATGA', 'CCCG', 'GGCATT', 'CAGGT', 'AAT'])\n"
          ],
          "name": "stdout"
        }
      ]
    },
    {
      "cell_type": "code",
      "metadata": {
        "id": "qv-0rf5y2C36",
        "colab_type": "code",
        "colab": {
          "base_uri": "https://localhost:8080/",
          "height": 34
        },
        "outputId": "07f94cbf-03fc-4e3e-f723-1fa70047ad15"
      },
      "source": [
        "DNA_motifs = ['TTCAT', 'AATCATGA', 'CCCG', 'GGCATT', 'CAGGT']\n",
        "DNA_motifs_length = {'TTCAT': '5',\n",
        "                     'AATCATGA': '8',\n",
        "                     'CCCG': '4',\n",
        "                     'GGCATT': '6',\n",
        "                     'CAGGT': '5'}\n",
        "DNA_motifs_length['AAT'] = '3'\n",
        "print(DNA_motifs_length.values())"
      ],
      "execution_count": 96,
      "outputs": [
        {
          "output_type": "stream",
          "text": [
            "dict_values(['5', '8', '4', '6', '5', '3'])\n"
          ],
          "name": "stdout"
        }
      ]
    },
    {
      "cell_type": "code",
      "metadata": {
        "id": "mrd61Bki2Lnc",
        "colab_type": "code",
        "colab": {
          "base_uri": "https://localhost:8080/",
          "height": 34
        },
        "outputId": "b1a73339-ce4f-4066-8e8d-37381239ca0c"
      },
      "source": [
        "DNA_motifs = ['TTCAT', 'AATCATGA', 'CCCG', 'GGCATT', 'CAGGT']\n",
        "DNA_motifs_length = {'TTCAT': '5',\n",
        "                     'AATCATGA': '8',\n",
        "                     'CCCG': '4',\n",
        "                     'GGCATT': '6',\n",
        "                     'CAGGT': '5'}\n",
        "DNA_motifs_length['AAT'] = '3'\n",
        "print(DNA_motifs_length.items())"
      ],
      "execution_count": 97,
      "outputs": [
        {
          "output_type": "stream",
          "text": [
            "dict_items([('TTCAT', '5'), ('AATCATGA', '8'), ('CCCG', '4'), ('GGCATT', '6'), ('CAGGT', '5'), ('AAT', '3')])\n"
          ],
          "name": "stdout"
        }
      ]
    },
    {
      "cell_type": "code",
      "metadata": {
        "id": "hdmM1eBY2OUE",
        "colab_type": "code",
        "colab": {
          "base_uri": "https://localhost:8080/",
          "height": 198
        },
        "outputId": "42f8bacc-6fd0-45cc-bb56-7d7e4e2a991d"
      },
      "source": [
        "DNA_motifs = ['TTCAT', 'AATCATGA', 'CCCG', 'GGCATT', 'CAGGT']\n",
        "DNA_motifs_length = {'TTCAT': '5',\n",
        "                     'AATCATGA': '8',\n",
        "                     'CCCG': '4',\n",
        "                     'GGCATT': '6',\n",
        "                     'CAGGT': '5'}\n",
        "DNA_motifs_length['AAT'] = '3'\n",
        "print(DNA_motifs_length['CCT'])"
      ],
      "execution_count": 100,
      "outputs": [
        {
          "output_type": "error",
          "ename": "KeyError",
          "evalue": "ignored",
          "traceback": [
            "\u001b[0;31m---------------------------------------------------------------------------\u001b[0m",
            "\u001b[0;31mKeyError\u001b[0m                                  Traceback (most recent call last)",
            "\u001b[0;32m<ipython-input-100-40af9f667f0f>\u001b[0m in \u001b[0;36m<module>\u001b[0;34m()\u001b[0m\n\u001b[1;32m      6\u001b[0m                      'CAGGT': '5'}\n\u001b[1;32m      7\u001b[0m \u001b[0mDNA_motifs_length\u001b[0m\u001b[0;34m[\u001b[0m\u001b[0;34m'AAT'\u001b[0m\u001b[0;34m]\u001b[0m \u001b[0;34m=\u001b[0m \u001b[0;34m'3'\u001b[0m\u001b[0;34m\u001b[0m\u001b[0;34m\u001b[0m\u001b[0m\n\u001b[0;32m----> 8\u001b[0;31m \u001b[0mprint\u001b[0m\u001b[0;34m(\u001b[0m\u001b[0mDNA_motifs_length\u001b[0m\u001b[0;34m[\u001b[0m\u001b[0;34m'CCT'\u001b[0m\u001b[0;34m]\u001b[0m\u001b[0;34m)\u001b[0m\u001b[0;34m\u001b[0m\u001b[0;34m\u001b[0m\u001b[0m\n\u001b[0m",
            "\u001b[0;31mKeyError\u001b[0m: 'CCT'"
          ]
        }
      ]
    },
    {
      "cell_type": "code",
      "metadata": {
        "id": "wP8t6Kaqp8yS",
        "colab_type": "code",
        "colab": {}
      },
      "source": [
        "# Q7: Based on the defined list 'DNA_motifs', we are interested in the motifs that contain substring 'CAT', please write your python codes to print out these motifs. (hint: use while/for loop and if conditions)."
      ],
      "execution_count": null,
      "outputs": []
    },
    {
      "cell_type": "code",
      "metadata": {
        "id": "SrKGXqst2nr6",
        "colab_type": "code",
        "colab": {
          "base_uri": "https://localhost:8080/",
          "height": 102
        },
        "outputId": "51304b87-5cbe-4dfc-d7dc-03dce6068355"
      },
      "source": [
        "DNA_motifs = ['TTCAT', 'AATCATGA', 'CCCG', 'GGCATT', 'CAGGT']\n",
        "for motif in DNA_motifs:\n",
        "  if motif == 'CCCG':\n",
        "    print('This is CCCG, pass!')\n",
        "    continue\n",
        "  if motif == 'CAGGT':\n",
        "    print('This is CAGGT, pass!')\n",
        "    continue\n",
        "  print('Found ', motif)"
      ],
      "execution_count": 120,
      "outputs": [
        {
          "output_type": "stream",
          "text": [
            "Found  TTCAT\n",
            "Found  AATCATGA\n",
            "This is CCCG, pass!\n",
            "Found  GGCATT\n",
            "This is CAGGT, pass!\n"
          ],
          "name": "stdout"
        }
      ]
    },
    {
      "cell_type": "code",
      "metadata": {
        "id": "3zshyHkLqCqr",
        "colab_type": "code",
        "colab": {}
      },
      "source": [
        "# Q8:Based on the defined list 'DNA_motifs', we are also interested in the motifs that have a length larger than 5, please write your python codes to print out these motifs. (hint: use while/for loop and if conditions)."
      ],
      "execution_count": null,
      "outputs": []
    },
    {
      "cell_type": "code",
      "metadata": {
        "id": "Mybx1cLk8uVv",
        "colab_type": "code",
        "colab": {
          "base_uri": "https://localhost:8080/",
          "height": 102
        },
        "outputId": "ef8ccec5-4eb1-4586-d549-e5283282fe59"
      },
      "source": [
        "DNA_motifs = ['TTCAT', 'AATCATGA', 'CCCG', 'GGCATT', 'CAGGT']\n",
        "for motif in DNA_motifs:\n",
        "  if motif == 'CCCG':\n",
        "    print('This is CCCG, pass!')\n",
        "    continue\n",
        "  if motif == 'CAGGT':\n",
        "    print('This is CAGGT, pass!')\n",
        "    continue\n",
        "  if motif == 'TTCAT':\n",
        "    print('This is TTCAT, pass!')\n",
        "    continue\n",
        "  print('Found ', motif)"
      ],
      "execution_count": 121,
      "outputs": [
        {
          "output_type": "stream",
          "text": [
            "This is TTCAT, pass!\n",
            "Found  AATCATGA\n",
            "This is CCCG, pass!\n",
            "Found  GGCATT\n",
            "This is CAGGT, pass!\n"
          ],
          "name": "stdout"
        }
      ]
    },
    {
      "cell_type": "code",
      "metadata": {
        "id": "AYpv_TrJ46y9",
        "colab_type": "code",
        "colab": {}
      },
      "source": [
        "# Q9: Based on the defined list 'DNA_motifs', we would like to replace the letter 'T' with 'U' for every motif and assign them to a new list called 'RNA_motifs'.\n",
        "# Please write your python codes for this activity (hint: use for loop, string.replace() and list.append() function)."
      ],
      "execution_count": null,
      "outputs": []
    },
    {
      "cell_type": "code",
      "metadata": {
        "id": "cVaDqM004_A9",
        "colab_type": "code",
        "colab": {
          "base_uri": "https://localhost:8080/",
          "height": 34
        },
        "outputId": "ca2264ad-79c2-4569-a4d6-285bb8df4af8"
      },
      "source": [
        "DNA_motifs = ['TTCAT', 'AATCATGA', 'CCCG', 'GGCATT', 'CAGGT']\n",
        "RNA_motifs = ['UUCAU', 'AAUCAUGA', 'CCCG', 'GGCAUU', 'CAGGU']\n",
        "for motif in DNA_motifs:\n",
        "  RNA_motifs.append(motif.replace('T', 'U'))\n",
        "print(RNA_motifs)"
      ],
      "execution_count": null,
      "outputs": [
        {
          "output_type": "stream",
          "text": [
            "['UUCAU', 'AAUCAUGA', 'CCCG', 'GGCAUU', 'CAGGU', 'UUCAU', 'AAUCAUGA', 'CCCG', 'GGCAUU', 'CAGGU']\n"
          ],
          "name": "stdout"
        }
      ]
    },
    {
      "cell_type": "code",
      "metadata": {
        "id": "93_occTRqXgA",
        "colab_type": "code",
        "colab": {}
      },
      "source": [
        "# Q10: Based on the defined list 'DNA_motifs', we are also interested in the motifs that have a length larger than 5. After we find the motifs, we need to concatenate them as a new string and add it as new key into dictionary 'DNA_motifs_length', where the value is the new sequence's length. Please write your python codes for this activity. (hint: use while/for loop and if conditions)."
      ],
      "execution_count": 122,
      "outputs": []
    },
    {
      "cell_type": "code",
      "metadata": {
        "id": "pzmvjlVS9IPV",
        "colab_type": "code",
        "colab": {
          "base_uri": "https://localhost:8080/",
          "height": 102
        },
        "outputId": "e11cfca8-114a-4577-b155-0f1eea8a634c"
      },
      "source": [
        "DNA_motifs = ['TTCAT', 'AATCATGA', 'CCCG', 'GGCATT', 'CAGGT']\n",
        "for motif in DNA_motifs:\n",
        "  if motif == 'CCCG':\n",
        "    print('This is CCCG, pass!')\n",
        "    continue\n",
        "  if motif == 'CAGGT':\n",
        "    print('This is CAGGT, pass!')\n",
        "    continue\n",
        "  if motif == 'TTCAT':\n",
        "    print('This is TTCAT, pass!')\n",
        "    continue\n",
        "  print('Found ', motif)"
      ],
      "execution_count": 3,
      "outputs": [
        {
          "output_type": "stream",
          "text": [
            "This is TTCAT, pass!\n",
            "Found  AATCATGA\n",
            "This is CCCG, pass!\n",
            "Found  GGCATT\n",
            "This is CAGGT, pass!\n"
          ],
          "name": "stdout"
        }
      ]
    },
    {
      "cell_type": "code",
      "metadata": {
        "id": "36prrXy5_wf3",
        "colab_type": "code",
        "colab": {
          "base_uri": "https://localhost:8080/",
          "height": 34
        },
        "outputId": "e896921d-6245-4d51-906f-4437286f84e8"
      },
      "source": [
        "DNA_motifs = ['TTCAT', 'AATCATGA', 'CCCG', 'GGCATT', 'CAGGT']\n",
        "DNA_motifs_length = {'TTCAT': '5',\n",
        "                     'AATCATGA': '8',\n",
        "                     'CCCG': '4',\n",
        "                     'GGCATT': '6',\n",
        "                     'CAGGT': '5'}\n",
        "DNA_motifs_length['AAT'] = '3' \n",
        "DNA_motifs_length['AATCATGA'] = '8'\n",
        "DNA_motifs_length['CAGGT'] = '6'\n",
        "print(DNA_motifs_length)"
      ],
      "execution_count": 12,
      "outputs": [
        {
          "output_type": "stream",
          "text": [
            "{'TTCAT': '5', 'AATCATGA': '8', 'CCCG': '4', 'GGCATT': '6', 'CAGGT': '6', 'AAT': '3'}\n"
          ],
          "name": "stdout"
        }
      ]
    }
  ]
}