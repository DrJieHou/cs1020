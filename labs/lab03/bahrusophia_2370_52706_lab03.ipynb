{
  "nbformat": 4,
  "nbformat_minor": 0,
  "metadata": {
    "colab": {
      "name": "lab03.ipynb",
      "provenance": []
    },
    "kernelspec": {
      "name": "python3",
      "display_name": "Python 3"
    }
  },
  "cells": [
    {
      "cell_type": "code",
      "metadata": {
        "id": "6-Fkfu53Zb5m",
        "colab_type": "code",
        "colab": {}
      },
      "source": [
        "# Q1: Write a python function to find the maximum number in a list. The function should accept any list of integers, and return the maximum values. \n",
        "#After the function is defined, verifying your results using the built-in function 'max()'.\n",
        "#sample list: [5,3,2,1]\n",
        "#expected output: 5\n",
        "\n",
        "def calculate_max(x):\n",
        "  value = float('inf')\n",
        "  for num in x:\n",
        "    if num > value:\n",
        "      value = num\n",
        "  return(value)"
      ],
      "execution_count": 1,
      "outputs": []
    },
    {
      "cell_type": "code",
      "metadata": {
        "id": "hGQKSsA0HkBB",
        "colab_type": "code",
        "colab": {
          "base_uri": "https://localhost:8080/",
          "height": 51
        },
        "outputId": "61afaa62-90a1-4c52-b2c9-4c0c642e949b"
      },
      "source": [
        "sample_list = [5,3,2,1]\n",
        "maxi=calculate_max(sample_list)\n",
        "print('calculate_max', maxi)\n",
        "max(sample_list)"
      ],
      "execution_count": 18,
      "outputs": [
        {
          "output_type": "stream",
          "text": [
            "calculate_max inf\n"
          ],
          "name": "stdout"
        },
        {
          "output_type": "execute_result",
          "data": {
            "text/plain": [
              "5"
            ]
          },
          "metadata": {
            "tags": []
          },
          "execution_count": 18
        }
      ]
    },
    {
      "cell_type": "code",
      "metadata": {
        "id": "V_hgLKArXHU_",
        "colab_type": "code",
        "colab": {}
      },
      "source": [
        "# Q2: Write a python function to find the minimum number in a list. The function should accept any list of integers, and return the minimum values. \n",
        "#After the function is defined, verifying your results using the built-in function 'min()'.\n",
        "#sample list: [5,3,2,1]\n",
        "#expected output: 1\n",
        "\n",
        "def calculate_min(x):\n",
        "  value = float('inf')\n",
        "  for num in x:\n",
        "    if num < value:\n",
        "      value = num\n",
        "  return(value)"
      ],
      "execution_count": 2,
      "outputs": []
    },
    {
      "cell_type": "code",
      "metadata": {
        "id": "Xsyh5YybZHF3",
        "colab_type": "code",
        "colab": {
          "base_uri": "https://localhost:8080/",
          "height": 51
        },
        "outputId": "9eafedc1-7e04-4b80-9e78-50cf00a38dab"
      },
      "source": [
        "sample_list = [5,3,2,1]\n",
        "mini=calculate_min(sample_list)\n",
        "print('calculate_min', mini)\n",
        "min(sample_list)"
      ],
      "execution_count": 3,
      "outputs": [
        {
          "output_type": "stream",
          "text": [
            "calculate_min 1\n"
          ],
          "name": "stdout"
        },
        {
          "output_type": "execute_result",
          "data": {
            "text/plain": [
              "1"
            ]
          },
          "metadata": {
            "tags": []
          },
          "execution_count": 3
        }
      ]
    },
    {
      "cell_type": "code",
      "metadata": {
        "id": "KU9gV5I8ae6h",
        "colab_type": "code",
        "colab": {
          "base_uri": "https://localhost:8080/",
          "height": 51
        },
        "outputId": "0da96bd4-8b90-4d55-c548-9eafb6b7d8cc"
      },
      "source": [
        "# Q3: Write a python function to calculate the number of elements in a list. The function should accept any list of integers, and return the length of the list. \n",
        "#After the function is defined, verifying your results using the built-in function 'len()'.\n",
        "#sample list: [5,3,2,1]\n",
        "#expected output: 4\n",
        "\n",
        "def len_list(x):\n",
        "  z=0\n",
        "  for y in x:\n",
        "    if type(y) == int:\n",
        "      z = z+1\n",
        "  return (z)\n",
        "count = len_list(sample_list)\n",
        "print('len_list', count)\n",
        "len(sample_list)"
      ],
      "execution_count": 4,
      "outputs": [
        {
          "output_type": "stream",
          "text": [
            "len_list 4\n"
          ],
          "name": "stdout"
        },
        {
          "output_type": "execute_result",
          "data": {
            "text/plain": [
              "4"
            ]
          },
          "metadata": {
            "tags": []
          },
          "execution_count": 4
        }
      ]
    },
    {
      "cell_type": "code",
      "metadata": {
        "id": "VgZKCBMBcDNU",
        "colab_type": "code",
        "colab": {
          "base_uri": "https://localhost:8080/",
          "height": 51
        },
        "outputId": "3dc60f84-61be-49f2-90b7-b43a65383331"
      },
      "source": [
        "# Q4: Write a python function to sum all numbers in a list. The function should accept any list of integers, and return the sum value. \n",
        "#After the function is defined, verifying your results using the built-in function 'sum()'.\n",
        "#sample list: [5,3,2,1]\n",
        "#expected output: 11\n",
        "\n",
        "def len_list(x):\n",
        "  z = 0\n",
        "  for y in x:\n",
        "    if type(y) == int:\n",
        "      z = z=1\n",
        "  return (z)\n",
        "sum = len_list(sample_list)\n",
        "print('len_list', sum)\n",
        "len(sample_list)"
      ],
      "execution_count": 19,
      "outputs": [
        {
          "output_type": "stream",
          "text": [
            "len_list 1\n"
          ],
          "name": "stdout"
        },
        {
          "output_type": "execute_result",
          "data": {
            "text/plain": [
              "4"
            ]
          },
          "metadata": {
            "tags": []
          },
          "execution_count": 19
        }
      ]
    },
    {
      "cell_type": "code",
      "metadata": {
        "id": "vurmqXRmfdeD",
        "colab_type": "code",
        "colab": {}
      },
      "source": [
        "# Q5: Assume that we have 5 DNA motifs that have the following strings:\n",
        "\n",
        "#TTCAT\n",
        "#AATCATGA\n",
        "#CCCGC\n",
        "#GGCATT\n",
        "#CACGT\n",
        "\n",
        "#which are comprised of four nucleotides (e.g. A, T, C, G). We would like to define a variable called 'DNA_motifs', and store these sequences in this variable using the data type list. Then we need to print the variable by print(\"DNA_motifs: \", DNA_motifs) \n",
        "#Please write your python codes for this activity."
      ],
      "execution_count": 6,
      "outputs": []
    },
    {
      "cell_type": "code",
      "metadata": {
        "id": "VurfyZvaCkYd",
        "colab_type": "code",
        "colab": {
          "base_uri": "https://localhost:8080/",
          "height": 34
        },
        "outputId": "66fb0ba3-7e23-40a2-b689-9f39b9b22b5d"
      },
      "source": [
        "def DNA_find(DNA,motif):\n",
        "  y = []\n",
        "  for x in DNA:\n",
        "    if x.find(motif+'A'+motif)>=0 or x.find(motif+'T'+ motif)>=0 or x.find(motif+'C'+motif)>=0 or x.find(motif+'G'+motif)>=0:\n",
        "      y.append(x)\n",
        "  return(y)\n",
        "print(\"DNA_motifs: \", DNA_motifs)"
      ],
      "execution_count": 16,
      "outputs": [
        {
          "output_type": "stream",
          "text": [
            "DNA_motifs:  ['TTCAT', 'AATCATGA', 'CCCGC', 'GGCATT', 'CACGT']\n"
          ],
          "name": "stdout"
        }
      ]
    },
    {
      "cell_type": "code",
      "metadata": {
        "id": "gLx0IH5ZSdEo",
        "colab_type": "code",
        "colab": {
          "base_uri": "https://localhost:8080/",
          "height": 34
        },
        "outputId": "7afedf3c-897d-4e8e-b8a4-831d74ea8ec2"
      },
      "source": [
        "DNA_motifs = ['TTCAT', 'AATCATGA', 'CCCGC', 'GGCATT', 'CACGT' ]\n",
        "print(\"DNA_motifs: \", DNA_motifs)"
      ],
      "execution_count": 11,
      "outputs": [
        {
          "output_type": "stream",
          "text": [
            "DNA_motifs:  ['TTCAT', 'AATCATGA', 'CCCGC', 'GGCATT', 'CACGT']\n"
          ],
          "name": "stdout"
        }
      ]
    },
    {
      "cell_type": "code",
      "metadata": {
        "id": "lteLnd9-SK3b",
        "colab_type": "code",
        "colab": {}
      },
      "source": [
        "# Q6:Based on the defined list 'DNA_motifs', please write a python function to get motifs that contain string 'C?C' ('?' can be one of 'A', 'C', 'G', 'T'). The function should accept any list of DNA sequences, and print out the expected strings that satisfies the criteria. \n",
        "#expected output: \n",
        "\n",
        "#CCCGC\n",
        "#CACGT\n"
      ],
      "execution_count": 8,
      "outputs": []
    },
    {
      "cell_type": "code",
      "metadata": {
        "id": "ICBHzmA7S7qW",
        "colab_type": "code",
        "colab": {
          "base_uri": "https://localhost:8080/",
          "height": 51
        },
        "outputId": "eda93320-702f-4adf-d997-ce5e6c3c5732"
      },
      "source": [
        "for seq in DNA_motifs:\n",
        "  if seq.find('CAC') >=0:\n",
        "    print('found', seq)\n",
        "  elif seq.find('CCC') >=0:\n",
        "    print('found', seq)\n",
        "  elif seq.find('CTC') >=0:\n",
        "    print('found', seq)\n",
        "  elif seq.find('CGC') >=0:\n",
        "    print('found', seq)"
      ],
      "execution_count": 9,
      "outputs": [
        {
          "output_type": "stream",
          "text": [
            "found CCCGC\n",
            "found CACGT\n"
          ],
          "name": "stdout"
        }
      ]
    },
    {
      "cell_type": "code",
      "metadata": {
        "id": "i4rjRlogVjeC",
        "colab_type": "code",
        "colab": {}
      },
      "source": [
        "def check_list(input_list):\n",
        "  for seq in input_list:\n",
        "    if seq.find('CAC') >=0:\n",
        "      print('found ', seq)\n",
        "    elif seq.find('CCC') >=0:\n",
        "      print('found ', seq)\n",
        "    elif seq.find('CTC') >=0:\n",
        "      print('found ', seq)\n",
        "    elif seq.find('CGC') >=0:\n",
        "      print('found ', seq)"
      ],
      "execution_count": 10,
      "outputs": []
    },
    {
      "cell_type": "code",
      "metadata": {
        "id": "KN9rwIoGdg2X",
        "colab_type": "code",
        "colab": {
          "base_uri": "https://localhost:8080/",
          "height": 51
        },
        "outputId": "10968728-4423-45a9-cbb4-8a234c41f442"
      },
      "source": [
        "check_list(DNA_motifs)"
      ],
      "execution_count": null,
      "outputs": [
        {
          "output_type": "stream",
          "text": [
            "found  CCCGC\n",
            "found  CACGT\n"
          ],
          "name": "stdout"
        }
      ]
    }
  ]
}