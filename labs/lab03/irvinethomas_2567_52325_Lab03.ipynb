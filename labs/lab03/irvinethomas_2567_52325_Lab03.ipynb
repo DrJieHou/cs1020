{
  "nbformat": 4,
  "nbformat_minor": 0,
  "metadata": {
    "colab": {
      "name": "Lab03.ipynb",
      "provenance": [],
      "collapsed_sections": []
    },
    "kernelspec": {
      "name": "python3",
      "display_name": "Python 3"
    }
  },
  "cells": [
    {
      "cell_type": "code",
      "metadata": {
        "id": "TLxVNBfeH5RM",
        "colab_type": "code",
        "colab": {
          "base_uri": "https://localhost:8080/",
          "height": 280
        },
        "outputId": "de3a82d1-5a3b-4ded-d2b9-cea26885c687"
      },
      "source": [
        "sample_list = [3,2,1,4,5]\n",
        "def find_maximum_value(input):\n",
        "  maximum_number = float('-inf')\n",
        "  for num in input:\n",
        "    if num > maximum_number:\n",
        "      maximum_number = num\n",
        "  return maximum_number   \n",
        "print(\"1. maximum = \",find_maximum_value(sample_list))\n",
        "##\n",
        "##\n",
        "def find_minimum_value(input):\n",
        "  minimum_number = float('inf')\n",
        "  for num in input:\n",
        "    if num < minimum_number:\n",
        "      minimum_number = num\n",
        "  return minimum_number\n",
        "print(\"2. minimum = \", find_minimum_value(sample_list))\n",
        "##\n",
        "##\n",
        "def find_number_elements(input):\n",
        "  numb_elements = 0\n",
        "  for num in input:\n",
        "    numb_elements = numb_elements + 1\n",
        "  return numb_elements\n",
        "test_variable3 = find_number_elements(sample_list)\n",
        "print(\"3. number of elements = \", test_variable3)\n",
        "##\n",
        "##\n",
        "def sum_numbers(input):\n",
        "  sum_of = 0\n",
        "  for num in input:\n",
        "    sum_of = sum_of + num\n",
        "  return sum_of\n",
        "test_variable4 = sum_numbers(sample_list)\n",
        "print(\"4. sum of elements = \", test_variable4)\n",
        "##\n",
        "##\n",
        "DNA_motifs = [\"TTCAT\", \"AATCATGA\", \"CCCGC\", \"GGCATT\", \"CACGT\"]\n",
        "print(\"5. DNA_motifs: \", DNA_motifs)\n",
        "##\n",
        "##\n",
        "\"CAC\" in DNA_motifs\n",
        "def sort_list_CXC(input):\n",
        "  x = -1\n",
        "  y = 0\n",
        "  for motif in input:\n",
        "    x = x + 1\n",
        "    if \"CAC\" in motif:\n",
        "      y = y + 1\n",
        "      print(\" \", y, \"CAC Found:\", \"\\n      spot:\", x, \"\\n      as:\", motif)\n",
        "    if \"CCC\" in motif:\n",
        "      y = y + 1\n",
        "      print(\" \", y, \"CCC Found: \", \"\\n      spot:\", x, \"\\n      as:\", motif)\n",
        "    if \"CGC\" in motif:\n",
        "      y = y + 1\n",
        "      print(\" \", y, \"CGC Found: \", \"\\n      spot:\", x, \"\\n      as:\", motif)\n",
        "    if \"CTC\" in motif:\n",
        "      y = y + 1\n",
        "      print(\" \", y, \"CTC Found: \", \"\\n       spot:\", x, \"\\n      as:\", motif)\n",
        "print(\"6. list compiling...\")\n",
        "sort_list_CXC(DNA_motifs)     \n"
      ],
      "execution_count": 97,
      "outputs": [
        {
          "output_type": "stream",
          "text": [
            "1. maximum =  5\n",
            "2. minimum =  1\n",
            "3. number of elements =  5\n",
            "4. sum of elements =  15\n",
            "5. DNA_motifs:  ['TTCAT', 'AATCATGA', 'CCCGC', 'GGCATT', 'CACGT']\n",
            "6. list compiling...\n",
            "  1 CCC Found:  \n",
            "      spot: 2 \n",
            "      as: CCCGC\n",
            "  2 CGC Found:  \n",
            "      spot: 2 \n",
            "      as: CCCGC\n",
            "  3 CAC Found: \n",
            "      spot: 4 \n",
            "      as: CACGT\n"
          ],
          "name": "stdout"
        }
      ]
    }
  ]
}