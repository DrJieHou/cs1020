{
  "nbformat": 4,
  "nbformat_minor": 0,
  "metadata": {
    "colab": {
      "name": "lab03.ipynb",
      "provenance": []
    },
    "kernelspec": {
      "name": "python3",
      "display_name": "Python 3"
    }
  },
  "cells": [
    {
      "cell_type": "markdown",
      "metadata": {
        "id": "Be8YNuTGH6WK",
        "colab_type": "text"
      },
      "source": [
        "Write a python function to find the maximum number in a list. The function should accept any list of integers, and return the maximum values.\n",
        "After the function is defined, verifying your results using the built-in function 'max()'.\n",
        "sample list: [5,3,2,1]\n",
        "expected output: 5"
      ]
    },
    {
      "cell_type": "code",
      "metadata": {
        "id": "EoGS2OC0H6r4",
        "colab_type": "code",
        "colab": {
          "base_uri": "https://localhost:8080/",
          "height": 34
        },
        "outputId": "b5ea1e1d-c1c3-4c25-f33b-d45379c4a88d"
      },
      "source": [
        "#1\n",
        "def find_max(input_list):\n",
        "  val = float('-inf')\n",
        "  for num in input_list:\n",
        "    if num > val:\n",
        "      val = num\n",
        "    return(\"Maximum Number:\", max(input_list))\n",
        "\n",
        "maxlist = [5,3,2,1]\n",
        "type(find_max)\n",
        "find_max(maxlist)\n",
        "\n",
        "\n"
      ],
      "execution_count": null,
      "outputs": [
        {
          "output_type": "execute_result",
          "data": {
            "text/plain": [
              "('Maximum Number:', 5)"
            ]
          },
          "metadata": {
            "tags": []
          },
          "execution_count": 93
        }
      ]
    },
    {
      "cell_type": "markdown",
      "metadata": {
        "id": "vC8ySXBcK87o",
        "colab_type": "text"
      },
      "source": [
        "Write a python function to find the minimum number in a list. The function should accept any list of integers, and return the minimum values.\n",
        "After the function is defined, verifying your results using the built-in function 'min()'.\n",
        "sample list: [5,3,2,1]\n",
        "expected output: 1"
      ]
    },
    {
      "cell_type": "code",
      "metadata": {
        "id": "Vbe0TbuXK_vV",
        "colab_type": "code",
        "colab": {
          "base_uri": "https://localhost:8080/",
          "height": 34
        },
        "outputId": "8d5aa7eb-eadc-4bf4-f618-2588341b8f70"
      },
      "source": [
        "#2\n",
        "def find_min(list):\n",
        "  val = float('inf')\n",
        "  for num in list:\n",
        "    if num < val:\n",
        "      val = num\n",
        "    return(\"Minimum Number:\", min(list))\n",
        "\n",
        "type(find_min)\n",
        "\n",
        "minlist = [1,2,3,4,5]\n",
        "find_min(minlist)\n",
        "\n"
      ],
      "execution_count": null,
      "outputs": [
        {
          "output_type": "execute_result",
          "data": {
            "text/plain": [
              "('Minimum Number:', 1)"
            ]
          },
          "metadata": {
            "tags": []
          },
          "execution_count": 91
        }
      ]
    },
    {
      "cell_type": "markdown",
      "metadata": {
        "id": "31vw_kxTObal",
        "colab_type": "text"
      },
      "source": [
        "Write a python function to calculate the number of elements in a list. The function should accept any list of integers, and return the length of the list.\n",
        "After the function is defined, verifying your results using the built-in function 'len()'.\n",
        "sample list: [5,3,2,1]\n",
        "expected output: 4"
      ]
    },
    {
      "cell_type": "code",
      "metadata": {
        "id": "c_rwIe7uOeXn",
        "colab_type": "code",
        "colab": {
          "base_uri": "https://localhost:8080/",
          "height": 34
        },
        "outputId": "38565014-d633-4191-d7aa-7237d76f9e6c"
      },
      "source": [
        "#3\n",
        "lenlist = [1,5,3,2,5]\n",
        "\n",
        "def find_len(list):\n",
        "  val = float('-inf')\n",
        "  for num in list:\n",
        "    if num > val:\n",
        "      num = val\n",
        "    return(\"Length of list:\", len(list))\n",
        "\n",
        "find_len(lenlist)"
      ],
      "execution_count": null,
      "outputs": [
        {
          "output_type": "execute_result",
          "data": {
            "text/plain": [
              "('Length of list:', 5)"
            ]
          },
          "metadata": {
            "tags": []
          },
          "execution_count": 92
        }
      ]
    },
    {
      "cell_type": "markdown",
      "metadata": {
        "id": "F8d1ZBOiborr",
        "colab_type": "text"
      },
      "source": [
        "Write a python function to sum all numbers in a list. The function should accept any list of integers, and return the sum value.\n",
        "After the function is defined, verifying your results using the built-in function 'sum()'.\n",
        "sample list: [5,3,2,1]\n",
        "expected output: 11"
      ]
    },
    {
      "cell_type": "code",
      "metadata": {
        "id": "rJx7YyIhbrCe",
        "colab_type": "code",
        "colab": {
          "base_uri": "https://localhost:8080/",
          "height": 34
        },
        "outputId": "783f5d4b-221b-420f-f11f-126419b24579"
      },
      "source": [
        "#4\n",
        "sum_list = [12,5,55,14]\n",
        "\n",
        "def find_sum(list):\n",
        "  val = float('-inf')\n",
        "  for num in list:\n",
        "    if num > val:\n",
        "      num = val\n",
        "    return(\"Sum of List:\", sum(list))\n",
        "\n",
        "find_sum(sum_list)"
      ],
      "execution_count": null,
      "outputs": [
        {
          "output_type": "execute_result",
          "data": {
            "text/plain": [
              "('Sum of List:', 86)"
            ]
          },
          "metadata": {
            "tags": []
          },
          "execution_count": 94
        }
      ]
    },
    {
      "cell_type": "markdown",
      "metadata": {
        "id": "zO6TvikPbdJ-",
        "colab_type": "text"
      },
      "source": [
        "Assume that we have 5 DNA motifs that have the following strings:\n",
        "\n",
        "TTCAT\n",
        "AATCATGA\n",
        "CCCGC\n",
        "GGCATT\n",
        "CACGT\n",
        "\n",
        "which are comprised of four nucleotides (e.g. A, T, C, G). We would like to define a variable called 'DNA_motifs', and store these sequences in this variable using the data type list. Then we need to print the variable by print(\"DNA_motifs: \", DNA_motifs)\n",
        "Please write your python codes for this activity."
      ]
    },
    {
      "cell_type": "code",
      "metadata": {
        "id": "6nUwmJoHbeI0",
        "colab_type": "code",
        "colab": {
          "base_uri": "https://localhost:8080/",
          "height": 34
        },
        "outputId": "bdad851d-e8a5-4d4b-b383-7149adfebd35"
      },
      "source": [
        "#5\n",
        "DNA_motifs = ['TTCAT', 'AATCATGA', 'CCCGC', 'GGCATT', 'CACGT']\n",
        "type(DNA_motifs)\n",
        "print(\"DNA_motifs:\", DNA_motifs)"
      ],
      "execution_count": null,
      "outputs": [
        {
          "output_type": "stream",
          "text": [
            "DNA_motifs: ['TTCAT', 'AATCATGA', 'CCCGC', 'GGCATT', 'CACGT']\n"
          ],
          "name": "stdout"
        }
      ]
    },
    {
      "cell_type": "markdown",
      "metadata": {
        "id": "v_ZvXvTvbGEr",
        "colab_type": "text"
      },
      "source": [
        "Based on the defined list 'DNA_motifs', please write a python function to get motifs that contain string 'C?C' ('?' can be one of 'A', 'C', 'G', 'T'). The function should accept any list of DNA sequences, and print out the expected strings that satisfies the criteria.\n",
        "expected output: \n",
        "\n",
        "CCCGC\n",
        "CACGT"
      ]
    },
    {
      "cell_type": "code",
      "metadata": {
        "id": "tOWy1yfXdobb",
        "colab_type": "code",
        "colab": {
          "base_uri": "https://localhost:8080/",
          "height": 50
        },
        "outputId": "ed521cdb-d663-4f2f-a7a5-8a00ec37943c"
      },
      "source": [
        "#6\n",
        "def check_list(input_list):\n",
        "  for seq in input_list:\n",
        "    if seq.find('CAC') >=0:\n",
        "      print('found ',seq)\n",
        "    elif seq.find('CCC') >=0:\n",
        "      print('found ', seq)\n",
        "    elif seq.find('CTC') >=0:\n",
        "      print('found ',seq)\n",
        "    elif seq.find('CGC') >=0:\n",
        "      print('found ',seq)\n",
        "\n",
        "\n",
        "check_list(DNA_motifs)"
      ],
      "execution_count": null,
      "outputs": [
        {
          "output_type": "stream",
          "text": [
            "found  CCCGC\n",
            "found  CACGT\n"
          ],
          "name": "stdout"
        }
      ]
    }
  ]
}