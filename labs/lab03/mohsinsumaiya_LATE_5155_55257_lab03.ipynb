{
  "nbformat": 4,
  "nbformat_minor": 0,
  "metadata": {
    "colab": {
      "name": "lab03.ipynb",
      "provenance": []
    },
    "kernelspec": {
      "name": "python3",
      "display_name": "Python 3"
    }
  },
  "cells": [
    {
      "cell_type": "code",
      "metadata": {
        "id": "8F0lqEvq5dlN",
        "colab_type": "code",
        "colab": {
          "base_uri": "https://localhost:8080/",
          "height": 238
        },
        "outputId": "db91e980-e6eb-4dbf-c8c6-0ca540488499"
      },
      "source": [
        "def calculate_max(input_data):\n",
        "    val=float('-inf')\n",
        "    for num in input_data:\n",
        "        if num>val:\n",
        "            val=num\n",
        "    print(val)\n",
        "\n",
        "\n",
        "l = [5,3,2,1]\n",
        "calculate_max(l)\n",
        "max(5,3,2,1)\n",
        "\n",
        "def calculate_min(input_data):\n",
        "    val = float('inf')\n",
        "    for num in input_data:\n",
        "        if num < val:\n",
        "            val = num\n",
        "    print(val)  \n",
        "s=[5,3,2,1]\n",
        "calculate_min(s)\n",
        "min(s)\n",
        "\n",
        "\n",
        "def calculate_len(input_data):\n",
        "    val = 0\n",
        "    for num in input_data:\n",
        "        val += 1\n",
        "    print(val)\n",
        "\n",
        "r=[5,3,2,1]\n",
        "calculate_len(r)\n",
        "len(r)\n",
        "\n",
        "def calculate_sum(input_data):\n",
        "    val= 0\n",
        "    for num in input_data:\n",
        "        val += num\n",
        "    print(val)\n",
        "f= [5,3,2,1]\n",
        "calculate_sum(f)\n",
        "sum(f)\n",
        "\n",
        "DNA_motif = ['TTCAT', 'AATCATGA', 'CCCGC', 'GGCATT', 'CACGT']\n",
        "print(DNA_motif)\n",
        "for x in DNA_motif:\n",
        "    print( \"DNA_motif:\", x)\n",
        "\n",
        "def search(b,letter):\n",
        "    for s in b:\n",
        "        has_list = []\n",
        "        if s.find(letter) != -1:\n",
        "            temp = s.find(letter) + 2\n",
        "            if s[temp] == letter:\n",
        "                print(s)\n",
        "                has_list.append(s)\n",
        "    return (has_list)\n",
        "search(DNA_motif,'C')\n"
      ],
      "execution_count": 1,
      "outputs": [
        {
          "output_type": "stream",
          "text": [
            "5\n",
            "1\n",
            "4\n",
            "11\n",
            "['TTCAT', 'AATCATGA', 'CCCGC', 'GGCATT', 'CACGT']\n",
            "DNA_motif: TTCAT\n",
            "DNA_motif: AATCATGA\n",
            "DNA_motif: CCCGC\n",
            "DNA_motif: GGCATT\n",
            "DNA_motif: CACGT\n",
            "CCCGC\n",
            "CACGT\n"
          ],
          "name": "stdout"
        },
        {
          "output_type": "execute_result",
          "data": {
            "text/plain": [
              "['CACGT']"
            ]
          },
          "metadata": {
            "tags": []
          },
          "execution_count": 1
        }
      ]
    }
  ]
}