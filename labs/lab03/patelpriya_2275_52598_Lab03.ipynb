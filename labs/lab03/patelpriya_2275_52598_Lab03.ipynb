{
  "nbformat": 4,
  "nbformat_minor": 0,
  "metadata": {
    "colab": {
      "name": "Lab03.ipynb",
      "provenance": []
    },
    "kernelspec": {
      "name": "python3",
      "display_name": "Python 3"
    }
  },
  "cells": [
    {
      "cell_type": "code",
      "metadata": {
        "id": "fOi42ZH8qE5d",
        "colab_type": "code",
        "colab": {}
      },
      "source": [
        "# Q1: Write a python function to find the maximum number in a list. The function should accept any list of integers, and return the maximum values. \n",
        "# After the function is defined, verifying your results using the built-in function 'max()'.\n",
        "sample list: [5,3,2,1]\n",
        "expected output: 5"
      ],
      "execution_count": null,
      "outputs": []
    },
    {
      "cell_type": "code",
      "metadata": {
        "id": "W1fsfz1IT-1T",
        "colab_type": "code",
        "colab": {
          "base_uri": "https://localhost:8080/",
          "height": 34
        },
        "outputId": "aeb83497-9f7b-40b9-c77a-6c74c55d67c2"
      },
      "source": [
        "sample_list = [5,3,2,1]\n",
        "print(sample_list)"
      ],
      "execution_count": 1,
      "outputs": [
        {
          "output_type": "stream",
          "text": [
            "[5, 3, 2, 1]\n"
          ],
          "name": "stdout"
        }
      ]
    },
    {
      "cell_type": "code",
      "metadata": {
        "id": "940exf9Y25lz",
        "colab_type": "code",
        "colab": {}
      },
      "source": [
        "def max_number(integer_list):\n",
        "  max = integer_list[0]\n",
        "  for number in integer_list:\n",
        "    if (number > max):\n",
        "      max = number\n",
        "  return max"
      ],
      "execution_count": 2,
      "outputs": []
    },
    {
      "cell_type": "code",
      "metadata": {
        "id": "orhce9t12duo",
        "colab_type": "code",
        "colab": {
          "base_uri": "https://localhost:8080/",
          "height": 51
        },
        "outputId": "55a5c72b-a6bf-4479-87c8-bcbbe16b9039"
      },
      "source": [
        "print(max_number(sample_list))\n",
        "print(max(sample_list))"
      ],
      "execution_count": 3,
      "outputs": [
        {
          "output_type": "stream",
          "text": [
            "5\n",
            "5\n"
          ],
          "name": "stdout"
        }
      ]
    },
    {
      "cell_type": "code",
      "metadata": {
        "id": "SxDAtjjKKWrE",
        "colab_type": "code",
        "colab": {}
      },
      "source": [
        "# Q2: Write a python function to find the minimum number in a list. The function should accept any list of integers, and return the minimum values. \n",
        "# After the function is defined, verifying your results using the built-in function 'min()'.\n",
        "sample list: [5,3,2,1]\n",
        "expected output: 1"
      ],
      "execution_count": null,
      "outputs": []
    },
    {
      "cell_type": "code",
      "metadata": {
        "id": "gLqJCXHo5lyC",
        "colab_type": "code",
        "colab": {}
      },
      "source": [
        "def min_number(integer_list):\n",
        "  min = integer_list[0]\n",
        "  for number in integer_list:\n",
        "    if (number < min):\n",
        "      min = number\n",
        "  return min"
      ],
      "execution_count": 4,
      "outputs": []
    },
    {
      "cell_type": "code",
      "metadata": {
        "id": "Gacnh8No5snh",
        "colab_type": "code",
        "colab": {
          "base_uri": "https://localhost:8080/",
          "height": 51
        },
        "outputId": "b391c29c-633c-498a-ff3a-42bbb4d4c610"
      },
      "source": [
        "print(min_number(sample_list))\n",
        "print(min(sample_list))"
      ],
      "execution_count": 5,
      "outputs": [
        {
          "output_type": "stream",
          "text": [
            "1\n",
            "1\n"
          ],
          "name": "stdout"
        }
      ]
    },
    {
      "cell_type": "code",
      "metadata": {
        "id": "ZXAdCQvWzgPV",
        "colab_type": "code",
        "colab": {}
      },
      "source": [
        "# Q3: Write a python function to calculate the number of elements in a list. The function should accept any list of integers, and return the length of the list. \n",
        "# After the function is defined, verifying your results using the built-in function 'len()'.\n",
        "sample list: [5,3,2,1]\n",
        "expected output: 4"
      ],
      "execution_count": null,
      "outputs": []
    },
    {
      "cell_type": "code",
      "metadata": {
        "id": "Y3yqb4q86uTr",
        "colab_type": "code",
        "colab": {}
      },
      "source": [
        "def number_elements(integer_list):\n",
        "  count = 0\n",
        "  for number in integer_list:\n",
        "    count = count + 1\n",
        "  return count"
      ],
      "execution_count": 6,
      "outputs": []
    },
    {
      "cell_type": "code",
      "metadata": {
        "id": "uC7TIYJr8ix9",
        "colab_type": "code",
        "colab": {
          "base_uri": "https://localhost:8080/",
          "height": 51
        },
        "outputId": "26eebd26-cb7c-43ef-e1de-090e9e08dd30"
      },
      "source": [
        "print(number_elements(sample_list))\n",
        "print(len(sample_list))"
      ],
      "execution_count": 7,
      "outputs": [
        {
          "output_type": "stream",
          "text": [
            "4\n",
            "4\n"
          ],
          "name": "stdout"
        }
      ]
    },
    {
      "cell_type": "code",
      "metadata": {
        "id": "QbHzh6exzj0P",
        "colab_type": "code",
        "colab": {}
      },
      "source": [
        "# Q4: Write a python function to sum all numbers in a list. The function should accept any list of integers, and return the sum value. \n",
        "# After the function is defined, verifying your results using the built-in function 'sum()'.\n",
        "sample list: [5,3,2,1]\n",
        "expected output: 11"
      ],
      "execution_count": null,
      "outputs": []
    },
    {
      "cell_type": "code",
      "metadata": {
        "id": "K0VgDEAd9dzX",
        "colab_type": "code",
        "colab": {}
      },
      "source": [
        "def sum_elements(integer_list):\n",
        "  sum = 0\n",
        "  for number in integer_list:\n",
        "    sum = sum + number\n",
        "  return sum"
      ],
      "execution_count": 8,
      "outputs": []
    },
    {
      "cell_type": "code",
      "metadata": {
        "id": "rBlp-0X7-NE1",
        "colab_type": "code",
        "colab": {
          "base_uri": "https://localhost:8080/",
          "height": 51
        },
        "outputId": "b9c137a4-3fd9-49b2-fea4-31ba92dac169"
      },
      "source": [
        "print(sum_elements(sample_list))\n",
        "print(sum(sample_list))"
      ],
      "execution_count": 9,
      "outputs": [
        {
          "output_type": "stream",
          "text": [
            "11\n",
            "11\n"
          ],
          "name": "stdout"
        }
      ]
    },
    {
      "cell_type": "code",
      "metadata": {
        "id": "V45L_UqfzqMj",
        "colab_type": "code",
        "colab": {}
      },
      "source": [
        "# Q5: Assume that we have 5 DNA motifs that have the following strings:\n",
        "\n",
        "TTCAT\n",
        "AATCATGA\n",
        "CCCGC\n",
        "GGCATT\n",
        "CACGT\n",
        "\n",
        "which are comprised of four nucleotides (e.g. A, T, C, G). We would like to define a variable called 'DNA_motifs', and store these sequences in this variable using the data type list. Then we need to print the variable by print(\"DNA_motifs: \", DNA_motifs) \n",
        "# Please write your python codes for this activity."
      ],
      "execution_count": null,
      "outputs": []
    },
    {
      "cell_type": "code",
      "metadata": {
        "id": "wBrFCLzKImof",
        "colab_type": "code",
        "colab": {
          "base_uri": "https://localhost:8080/",
          "height": 34
        },
        "outputId": "852d7906-d603-4e58-f13e-36c831480fd1"
      },
      "source": [
        "DNA_motifs = ['TTCAT', 'AATCATGA', 'CCCGC', 'GGCATT', 'CACGT']\n",
        "print(\"DNA_motifs: \", DNA_motifs)"
      ],
      "execution_count": 23,
      "outputs": [
        {
          "output_type": "stream",
          "text": [
            "DNA_motifs:  ['TTCAT', 'AATCATGA', 'CCCGC', 'GGCATT', 'CACGT']\n"
          ],
          "name": "stdout"
        }
      ]
    },
    {
      "cell_type": "code",
      "metadata": {
        "id": "gj8FXaDPzunp",
        "colab_type": "code",
        "colab": {}
      },
      "source": [
        "# Q6: Based on the defined list 'DNA_motifs', please write a python function to get motifs that contain string 'C?C' \n",
        "#('?' can be one of 'A', 'C', 'G', 'T'). The function should accept any list of DNA sequences, and print out the expected strings that satisfies the criteria. \n",
        "# expected output: \n",
        "\n",
        "CCCGC\n",
        "CACGT"
      ],
      "execution_count": null,
      "outputs": []
    },
    {
      "cell_type": "code",
      "metadata": {
        "id": "d8tdYKm7bF9u",
        "colab_type": "code",
        "colab": {}
      },
      "source": [
        "def check_list(input_list):\n",
        "  for seq in input_list:\n",
        "    if seq.find('CAC') >=0:\n",
        "      print('found',seq)\n",
        "    elif seq.find('CCC') >=0:\n",
        "      print('found',seq)\n",
        "    elif seq.find('CTC') >=0:\n",
        "      print('found',seq)\n",
        "    elif seq.find('CGC') >=0:\n",
        "      print('found',seq)\n"
      ],
      "execution_count": 25,
      "outputs": []
    },
    {
      "cell_type": "code",
      "metadata": {
        "id": "9G05KyZgd0w5",
        "colab_type": "code",
        "colab": {
          "base_uri": "https://localhost:8080/",
          "height": 51
        },
        "outputId": "a15b6f26-5a30-4703-a3b7-0095d2c99299"
      },
      "source": [
        "check_list(DNA_motifs)"
      ],
      "execution_count": 26,
      "outputs": [
        {
          "output_type": "stream",
          "text": [
            "found CCCGC\n",
            "found CACGT\n"
          ],
          "name": "stdout"
        }
      ]
    }
  ]
}