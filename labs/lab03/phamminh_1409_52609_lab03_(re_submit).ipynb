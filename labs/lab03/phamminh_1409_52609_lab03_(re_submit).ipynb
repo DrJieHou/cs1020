{
  "nbformat": 4,
  "nbformat_minor": 0,
  "metadata": {
    "colab": {
      "name": "lab03 (re-submit).ipynb",
      "provenance": []
    },
    "kernelspec": {
      "name": "python3",
      "display_name": "Python 3"
    }
  },
  "cells": [
    {
      "cell_type": "code",
      "metadata": {
        "id": "P81XvVFy8_Sy",
        "colab_type": "code",
        "colab": {
          "base_uri": "https://localhost:8080/",
          "height": 51
        },
        "outputId": "15920ae7-08d4-4967-80f4-5f329f57618e"
      },
      "source": [
        "# Q1 Write a python function to find the maximum number in a list. The function should accept any list of integers, and return the maximum values.\n",
        "# After the function is defined, verifying your results using the built-in function 'max()'.\n",
        "# sample list: [5,3,2,1]\n",
        "# expected output: 5\n",
        "\n",
        "def calculate_max(x):\n",
        "  value = float('-inf')\n",
        "  for num in x:\n",
        "    if num > value:\n",
        "      value = num\n",
        "  return (value)\n",
        "\n",
        "sample_list=[5,3,2,1]\n",
        "maxi=calculate_max(sample_list)\n",
        "print('calculate_max:', maxi)\n",
        "max(sample_list)"
      ],
      "execution_count": 22,
      "outputs": [
        {
          "output_type": "stream",
          "text": [
            "calculate_max: 5\n"
          ],
          "name": "stdout"
        },
        {
          "output_type": "execute_result",
          "data": {
            "text/plain": [
              "5"
            ]
          },
          "metadata": {
            "tags": []
          },
          "execution_count": 22
        }
      ]
    },
    {
      "cell_type": "code",
      "metadata": {
        "id": "PAgpc9S5HdLj",
        "colab_type": "code",
        "colab": {
          "base_uri": "https://localhost:8080/",
          "height": 51
        },
        "outputId": "1dc8e0b4-4897-4a36-a5bc-dd017470f43f"
      },
      "source": [
        "# Q2 Write a python function to find the minimum number in a list. The function should accept any list of integers, and return the minimum values.\n",
        "# After the function is defined, verifying your results using the built-in function 'min()'.\n",
        "# sample list: [5,3,2,1]\n",
        "# expected output: 1\n",
        "\n",
        "def calculate_min(x):\n",
        "  value = float('inf')\n",
        "  for num in x:\n",
        "    if num < value:\n",
        "      value = num\n",
        "  return (value)\n",
        "\n",
        "sample_list=[5,3,2,1]\n",
        "mini=calculate_min(sample_list)\n",
        "print('calculate_min:',mini)\n",
        "min(sample_list)"
      ],
      "execution_count": 23,
      "outputs": [
        {
          "output_type": "stream",
          "text": [
            "calculate_min: 1\n"
          ],
          "name": "stdout"
        },
        {
          "output_type": "execute_result",
          "data": {
            "text/plain": [
              "1"
            ]
          },
          "metadata": {
            "tags": []
          },
          "execution_count": 23
        }
      ]
    },
    {
      "cell_type": "code",
      "metadata": {
        "id": "lld2kbw-Hwb8",
        "colab_type": "code",
        "colab": {
          "base_uri": "https://localhost:8080/",
          "height": 51
        },
        "outputId": "349ba4b5-5780-4798-ae58-e0bc163ed1a5"
      },
      "source": [
        "# Q3 Write a python function to calculate the number of elements in a list. The function should accept any list of integers, and return the length of the list.\n",
        "# After the function is defined, verifying your results using the built-in function 'len()'.\n",
        "# sample list: [5,3,2,1]\n",
        "# expected output: 4\n",
        "\n",
        "def len_list(x):\n",
        "  z=0\n",
        "  for y in x:\n",
        "    if type(y) == int: \n",
        "      z=z+1\n",
        "  return (z)\n",
        "count = len_list(sample_list) \n",
        "print('len_list:',count)\n",
        "len(sample_list)   \n",
        " \n",
        "\n",
        "# Note: Do not do this \n",
        "# def len_list(x):\n",
        "  # for y in x:\n",
        "  # z=0\n",
        "    # if type(y) == int: \n",
        "      # z=z+1\n",
        "  # print(z)\n",
        "# len_list(sample_list)    \n",
        "# This will give you 1 because it means that in for each value in the list z = 0, not z = 0 from the start\n"
      ],
      "execution_count": 24,
      "outputs": [
        {
          "output_type": "stream",
          "text": [
            "len_list: 4\n"
          ],
          "name": "stdout"
        },
        {
          "output_type": "execute_result",
          "data": {
            "text/plain": [
              "4"
            ]
          },
          "metadata": {
            "tags": []
          },
          "execution_count": 24
        }
      ]
    },
    {
      "cell_type": "code",
      "metadata": {
        "id": "9k6QetriNQt1",
        "colab_type": "code",
        "colab": {
          "base_uri": "https://localhost:8080/",
          "height": 51
        },
        "outputId": "8a2ad5e7-c992-4d51-b798-d56ffe99251a"
      },
      "source": [
        "# Q4 Write a python function to sum all numbers in a list. The function should accept any list of integers, and return the sum value.\n",
        "# After the function is defined, verifying your results using the built-in function 'sum()'.\n",
        "# sample list: [5,3,2,1]\n",
        "# expected output: 11\n",
        "\n",
        "def total_list(x):\n",
        "  z=0\n",
        "  for y in x:\n",
        "    if type(y) == int: \n",
        "      z=z+y\n",
        "  return (z)\n",
        "\n",
        "sample_list=[5,3,2,1]\n",
        "total= total_list(sample_list)\n",
        "print ('total_list:',total)\n",
        "total_sum = sum(sample_list)  \n",
        "print(total_sum)"
      ],
      "execution_count": 25,
      "outputs": [
        {
          "output_type": "stream",
          "text": [
            "total_list: 11\n",
            "11\n"
          ],
          "name": "stdout"
        }
      ]
    },
    {
      "cell_type": "code",
      "metadata": {
        "id": "HEHPNCrLOl2I",
        "colab_type": "code",
        "colab": {
          "base_uri": "https://localhost:8080/",
          "height": 34
        },
        "outputId": "f738213b-6535-46e4-ee8b-86e82c7a0918"
      },
      "source": [
        "# Q5 Assume that we have 5 DNA motifs that have the following strings:\n",
        "\n",
        "#TTCAT\n",
        "#AATCATGA\n",
        "#CCCGC\n",
        "#GGCATT\n",
        "#CACGT\n",
        "\n",
        "# which are comprised of four nucleotides (e.g. A, T, C, G). We would like to define a variable called 'DNA_motifs', \n",
        "# and store these sequences in this variable using the data type list. Then we need to print the variable by print(\"DNA_motifs: \", DNA_motifs)\n",
        "# Please write your python codes for this activity.\n",
        "\n",
        "DNA_motifs = ['TTCAT','AATCATGA','CCCGC','GGCATT','CACGT',]\n",
        "print('DNA_motifs:',DNA_motifs)\n",
        "\n"
      ],
      "execution_count": 34,
      "outputs": [
        {
          "output_type": "stream",
          "text": [
            "DNA_motifs: ['TTCAT', 'AATCATGA', 'CCCGC', 'GGCATT', 'CACGT']\n"
          ],
          "name": "stdout"
        }
      ]
    },
    {
      "cell_type": "code",
      "metadata": {
        "id": "rVtBCvoh-OcF",
        "colab_type": "code",
        "colab": {
          "base_uri": "https://localhost:8080/",
          "height": 34
        },
        "outputId": "378ac95e-ef6c-4fe6-e4db-bc0dc8839e7d"
      },
      "source": [
        "# Q6 Based on the defined list 'DNA_motifs', please write a python function to get motifs that contain string 'C?C' ('?' can be one of 'A', 'C', 'G', 'T'). \n",
        "# The function should accept any list of DNA sequences, and print out the expected strings that satisfies the criteria. \n",
        "# expected output: \n",
        "# CCCGC\n",
        "# CACGT\n",
        "\n",
        "def DNA_find(DNA,motif):\n",
        "  y=[]\n",
        "  for x in DNA:\n",
        "    if x.find(motif+ 'A' +motif)>=0 or x.find(motif+ 'C' +motif)>=0 or  x.find(motif+ 'G' +motif)>=0 or x.find(motif+ 'T' +motif)>=0 : \n",
        "        y.append(x)\n",
        "  return(y) \n",
        "\n",
        "o = DNA_find(DNA_motifs,'C')\n",
        "print ('DNA_find:',o)\n",
        "\n"
      ],
      "execution_count": 46,
      "outputs": [
        {
          "output_type": "stream",
          "text": [
            "DNA_find: ['CCCGC', 'CACGT']\n"
          ],
          "name": "stdout"
        }
      ]
    },
    {
      "cell_type": "code",
      "metadata": {
        "id": "bvBlREwbff43",
        "colab_type": "code",
        "colab": {
          "base_uri": "https://localhost:8080/",
          "height": 51
        },
        "outputId": "5c968e21-a353-4662-c250-ceace3f85fb3"
      },
      "source": [
        "#Testing: \n",
        "DNA_motifs2 = ['TACAT','AATCATAA','CCCGC','GACATA','CACGT','CATCGC']\n",
        "print(DNA_motifs2)\n",
        "o = DNA_find(DNA_motifs2,'A') \n",
        "print(o)"
      ],
      "execution_count": 47,
      "outputs": [
        {
          "output_type": "stream",
          "text": [
            "['TACAT', 'AATCATAA', 'CCCGC', 'GACATA', 'CACGT', 'CATCGC']\n",
            "['TACAT', 'AATCATAA', 'GACATA']\n"
          ],
          "name": "stdout"
        }
      ]
    },
    {
      "cell_type": "code",
      "metadata": {
        "id": "Gp66Jt6p_iKi",
        "colab_type": "code",
        "colab": {
          "base_uri": "https://localhost:8080/",
          "height": 34
        },
        "outputId": "d170c2cf-59f2-47a0-9444-d74b6c077cfe"
      },
      "source": [
        "# Try to shorten it down, but there is a copy problem. Ask Dr. Jie Hou:\n",
        "def DNA_find2(DNA,motif):\n",
        "  y=[]\n",
        "  Nucleotides=['A','C','G','T']\n",
        "  for x in DNA:\n",
        "    for n in Nucleotides:\n",
        "      if x.find(motif+ n +motif)>=0:\n",
        "        y.append(x)\n",
        "  return(y) \n",
        "\n",
        "o = DNA_find2(DNA_motifs,'C')\n",
        "print (o)"
      ],
      "execution_count": 55,
      "outputs": [
        {
          "output_type": "stream",
          "text": [
            "['CCCGC', 'CCCGC', 'CACGT']\n"
          ],
          "name": "stdout"
        }
      ]
    }
  ]
}