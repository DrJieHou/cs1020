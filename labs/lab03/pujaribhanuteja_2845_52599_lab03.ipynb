{
  "nbformat": 4,
  "nbformat_minor": 0,
  "metadata": {
    "colab": {
      "name": "lab03.ipynb",
      "provenance": [],
      "collapsed_sections": []
    },
    "kernelspec": {
      "name": "python3",
      "display_name": "Python 3"
    }
  },
  "cells": [
    {
      "cell_type": "code",
      "metadata": {
        "id": "7O_W37wwAiGM",
        "colab_type": "code",
        "colab": {}
      },
      "source": [
        "# Q1: Write a python function to find the maximum number in a list. The function should accept any list of integers, and return the maximum values.\n",
        "# After the function is defined, verifying your results using the built-in function 'max()'.\n",
        "# sample list: [5,3,2,1]\n",
        "# expected output: 5\n",
        "\n",
        "def find_maximum_value(input):\n",
        "  maximum_number = float('-inf')\n",
        "  for num in input: \n",
        "    if num > maximum_number:\n",
        "        maximum_number = num\n",
        "  return maximum_number"
      ],
      "execution_count": 61,
      "outputs": []
    },
    {
      "cell_type": "code",
      "metadata": {
        "id": "-z13BiG1Bfi7",
        "colab_type": "code",
        "colab": {
          "base_uri": "https://localhost:8080/",
          "height": 34
        },
        "outputId": "e95cc153-d9de-4bae-e521-ae093fd67b6c"
      },
      "source": [
        "find_maximum_value([5,3,2,1])"
      ],
      "execution_count": 62,
      "outputs": [
        {
          "output_type": "execute_result",
          "data": {
            "text/plain": [
              "5"
            ]
          },
          "metadata": {
            "tags": []
          },
          "execution_count": 62
        }
      ]
    },
    {
      "cell_type": "code",
      "metadata": {
        "id": "F_YRk5JBKyGi",
        "colab_type": "code",
        "colab": {
          "base_uri": "https://localhost:8080/",
          "height": 34
        },
        "outputId": "32de5fca-cb43-490b-ffe7-4e31ad7d40ac"
      },
      "source": [
        "max([5,3,2,1])"
      ],
      "execution_count": 63,
      "outputs": [
        {
          "output_type": "execute_result",
          "data": {
            "text/plain": [
              "5"
            ]
          },
          "metadata": {
            "tags": []
          },
          "execution_count": 63
        }
      ]
    },
    {
      "cell_type": "code",
      "metadata": {
        "id": "LaKIADE0Lgq9",
        "colab_type": "code",
        "colab": {}
      },
      "source": [
        "# Q2: Write a python function to find the minimum number in a list. The function should accept any list of integers, and return the minimum values.\n",
        "# After the function is defined, verifying your results using the built-in function 'min()'.\n",
        "# sample list: [5,3,2,1]\n",
        "# expected output: 1\n",
        "\n",
        "def find_minimum_value(input): \n",
        "  minimum_number = float('inf')\n",
        "  for num in input: \n",
        "    if num < minimum_number: \n",
        "      minimum_number = num\n",
        "  return minimum_number"
      ],
      "execution_count": 64,
      "outputs": []
    },
    {
      "cell_type": "code",
      "metadata": {
        "id": "mkGsZXbUL-oa",
        "colab_type": "code",
        "colab": {
          "base_uri": "https://localhost:8080/",
          "height": 34
        },
        "outputId": "fbcb288f-65b0-465c-c57f-74752ac534d4"
      },
      "source": [
        "find_minimum_value([5,3,2,1])"
      ],
      "execution_count": 65,
      "outputs": [
        {
          "output_type": "execute_result",
          "data": {
            "text/plain": [
              "1"
            ]
          },
          "metadata": {
            "tags": []
          },
          "execution_count": 65
        }
      ]
    },
    {
      "cell_type": "code",
      "metadata": {
        "id": "rHNUxUmiMFrf",
        "colab_type": "code",
        "colab": {
          "base_uri": "https://localhost:8080/",
          "height": 34
        },
        "outputId": "45484801-847f-4e38-e43a-969b4419f57f"
      },
      "source": [
        "min([5,3,2,1])"
      ],
      "execution_count": 66,
      "outputs": [
        {
          "output_type": "execute_result",
          "data": {
            "text/plain": [
              "1"
            ]
          },
          "metadata": {
            "tags": []
          },
          "execution_count": 66
        }
      ]
    },
    {
      "cell_type": "code",
      "metadata": {
        "id": "yDJweZalNnmN",
        "colab_type": "code",
        "colab": {}
      },
      "source": [
        "# Q3: Write a python function to calculate the number of elements in a list. The function should accept any list of integers, and return the length of the list.\n",
        "# After the function is defined, verifying your results using the built-in function 'len()'.\n",
        "# sample list: [5,3,2,1]\n",
        "# expected output: 4\n",
        "\n",
        "def num_of_elements(input): \n",
        "  num_elements = 0\n",
        "  for num in input:\n",
        "    num_elements = num_elements + 1\n",
        "  return num_elements"
      ],
      "execution_count": 72,
      "outputs": []
    },
    {
      "cell_type": "code",
      "metadata": {
        "id": "gFmlxlEYQvJw",
        "colab_type": "code",
        "colab": {
          "base_uri": "https://localhost:8080/",
          "height": 34
        },
        "outputId": "55bc7793-d05e-468d-a0b1-eb654e46a0f9"
      },
      "source": [
        "num_of_elements([5,3,2,1])"
      ],
      "execution_count": 74,
      "outputs": [
        {
          "output_type": "execute_result",
          "data": {
            "text/plain": [
              "4"
            ]
          },
          "metadata": {
            "tags": []
          },
          "execution_count": 74
        }
      ]
    },
    {
      "cell_type": "code",
      "metadata": {
        "id": "rJQULP7TQ1Ty",
        "colab_type": "code",
        "colab": {
          "base_uri": "https://localhost:8080/",
          "height": 34
        },
        "outputId": "96038c3b-84d1-4445-927e-66f179ed8f9e"
      },
      "source": [
        "len([5,3,2,1])"
      ],
      "execution_count": 75,
      "outputs": [
        {
          "output_type": "execute_result",
          "data": {
            "text/plain": [
              "4"
            ]
          },
          "metadata": {
            "tags": []
          },
          "execution_count": 75
        }
      ]
    },
    {
      "cell_type": "code",
      "metadata": {
        "id": "C6MtnchvSmIL",
        "colab_type": "code",
        "colab": {}
      },
      "source": [
        "# Q4: Write a python function to sum all numbers in a list. The function should accept any list of integers, and return the sum value.\n",
        "# After the function is defined, verifying your results using the built-in function 'sum()'.\n",
        "# sample list: [5,3,2,1]\n",
        "# expected output: 11\n",
        "\n",
        "def sum_of_list(input):\n",
        "  sum_elements = 0\n",
        "  for num in input: \n",
        "    sum_elements = sum_elements + num \n",
        "  return sum_elements"
      ],
      "execution_count": 76,
      "outputs": []
    },
    {
      "cell_type": "code",
      "metadata": {
        "id": "XBHy-JbTUaE8",
        "colab_type": "code",
        "colab": {
          "base_uri": "https://localhost:8080/",
          "height": 34
        },
        "outputId": "7b789f59-949a-4711-dcd0-e5351f6da640"
      },
      "source": [
        "sum_of_list ([5,3,2,1])"
      ],
      "execution_count": 77,
      "outputs": [
        {
          "output_type": "execute_result",
          "data": {
            "text/plain": [
              "11"
            ]
          },
          "metadata": {
            "tags": []
          },
          "execution_count": 77
        }
      ]
    },
    {
      "cell_type": "code",
      "metadata": {
        "id": "1E6hOW4YUf8e",
        "colab_type": "code",
        "colab": {
          "base_uri": "https://localhost:8080/",
          "height": 34
        },
        "outputId": "cb1e1455-35a9-4577-c5b2-fad05ceed460"
      },
      "source": [
        "sum([5,3,2,1])"
      ],
      "execution_count": 78,
      "outputs": [
        {
          "output_type": "execute_result",
          "data": {
            "text/plain": [
              "11"
            ]
          },
          "metadata": {
            "tags": []
          },
          "execution_count": 78
        }
      ]
    },
    {
      "cell_type": "code",
      "metadata": {
        "id": "sI9kMQdXUlpo",
        "colab_type": "code",
        "colab": {
          "base_uri": "https://localhost:8080/",
          "height": 34
        },
        "outputId": "dfd874be-555d-4f35-8556-67523551d28b"
      },
      "source": [
        "# Q5: Assume that we have 5 DNA motifs that have the following strings:\n",
        "\n",
        "# TTCAT\n",
        "# AATCATGA\n",
        "# CCCGC\n",
        "# GGCATT\n",
        "# CACGT\n",
        "\n",
        "# which are comprised of four nucleotides (e.g. A, T, C, G). We would like to define a variable called 'DNA_motifs', and store these sequences in this variable using the data type list. Then we need to print the variable by print(\"DNA_motifs: \", DNA_motifs)\n",
        "# Please write your python codes for this activity. \n",
        "\n",
        "DNA_motifs = ['TTCAT', 'AATCATGA','CCCGC', 'GGCATT','CACGT']\n",
        "print(\"DNA_motifs: \", DNA_motifs)\n",
        " "
      ],
      "execution_count": 3,
      "outputs": [
        {
          "output_type": "stream",
          "text": [
            "DNA_motifs:  ['TTCAT', 'AATCATGA', 'CCCGC', 'GGCATT', 'CACGT']\n"
          ],
          "name": "stdout"
        }
      ]
    },
    {
      "cell_type": "code",
      "metadata": {
        "id": "yllcRWFyWP-k",
        "colab_type": "code",
        "colab": {}
      },
      "source": [
        "# Q6: Based on the defined list 'DNA_motifs', please write a python function to get motifs that contain string 'C?C' ('?' can be one of 'A', 'C', 'G', 'T'). The function should accept any list of DNA sequences, and print out the expected strings that satisfies the criteria.\n",
        "# expected output: \n",
        "\n",
        "# CCCGC\n",
        "# CACGT\n",
        "\n",
        "def DNA_find(input_list):\n",
        "  for seq in input_list:\n",
        "    if seq.find('CAC') >=0:\n",
        "      print('Found ',seq)\n",
        "    elif seq.find('CCC') >=0: \n",
        "      print('Found ',seq)\n",
        "    elif seq.find('CTC') >=0:\n",
        "      print('Found ', seq)\n",
        "    elif seq.find('CGC') >=0:\n",
        "      print('Found ', seq)\n"
      ],
      "execution_count": 15,
      "outputs": []
    },
    {
      "cell_type": "code",
      "metadata": {
        "id": "WTOmeiUocEnL",
        "colab_type": "code",
        "colab": {
          "base_uri": "https://localhost:8080/",
          "height": 51
        },
        "outputId": "c01244e3-49fa-4d31-d536-93182f6ebb48"
      },
      "source": [
        "DNA_find(DNA_motifs)"
      ],
      "execution_count": 16,
      "outputs": [
        {
          "output_type": "stream",
          "text": [
            "Found  CCCGC\n",
            "Found  CACGT\n"
          ],
          "name": "stdout"
        }
      ]
    },
    {
      "cell_type": "code",
      "metadata": {
        "id": "SNQca9yceRaO",
        "colab_type": "code",
        "colab": {}
      },
      "source": [
        ""
      ],
      "execution_count": null,
      "outputs": []
    }
  ]
}