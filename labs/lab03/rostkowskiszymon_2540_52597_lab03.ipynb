{
  "nbformat": 4,
  "nbformat_minor": 0,
  "metadata": {
    "colab": {
      "name": "lab03.ipynb",
      "provenance": []
    },
    "kernelspec": {
      "name": "python3",
      "display_name": "Python 3"
    }
  },
  "cells": [
    {
      "cell_type": "code",
      "metadata": {
        "id": "YP7tvCf6Hli4",
        "colab_type": "code",
        "colab": {}
      },
      "source": [
        "#Write a python function to find the maximum number in a list. The function should accept any list of integers, and return the maximum values.\n",
        "#After the function is defined, verifying your results using the built-in function 'max()'.\n",
        "#sample list: [5,3,2,1]\n",
        "#expected output: 5"
      ],
      "execution_count": null,
      "outputs": []
    },
    {
      "cell_type": "code",
      "metadata": {
        "id": "jHrUQHejH_Dk",
        "colab_type": "code",
        "colab": {}
      },
      "source": [
        "sample_list = [5,3,2,1]\n",
        "def max_value(input):\n",
        "  maximum_number = float('-inf')\n",
        "  for num in input:\n",
        "    if num > maximum_number:\n",
        "     maximum_number = num\n",
        "  return maximum_number\n"
      ],
      "execution_count": 37,
      "outputs": []
    },
    {
      "cell_type": "code",
      "metadata": {
        "id": "Wj701alcJP3z",
        "colab_type": "code",
        "colab": {
          "base_uri": "https://localhost:8080/",
          "height": 34
        },
        "outputId": "74b480c4-13a4-43e7-dc3a-afd84fd1dcba"
      },
      "source": [
        "max_value(sample_list)"
      ],
      "execution_count": 13,
      "outputs": [
        {
          "output_type": "execute_result",
          "data": {
            "text/plain": [
              "5"
            ]
          },
          "metadata": {
            "tags": []
          },
          "execution_count": 13
        }
      ]
    },
    {
      "cell_type": "code",
      "metadata": {
        "id": "Z49ToBvrK2ab",
        "colab_type": "code",
        "colab": {}
      },
      "source": [
        "#Write a python function to find the minimum number in a list. The function should accept any list of integers, and return the minimum values.\n",
        "#After the function is defined, verifying your results using the built-in function 'min()'.\n",
        "#sample list: [5,3,2,1]\n",
        "#expected output: 1"
      ],
      "execution_count": null,
      "outputs": []
    },
    {
      "cell_type": "code",
      "metadata": {
        "id": "IiEgrT4DK_ML",
        "colab_type": "code",
        "colab": {}
      },
      "source": [
        "def min_value(input):\n",
        "  minimum_number = float('inf')\n",
        "  for num in input:\n",
        "    if num < minimum_number:\n",
        "     minimum_number = num\n",
        "  return minimum_number"
      ],
      "execution_count": 38,
      "outputs": []
    },
    {
      "cell_type": "code",
      "metadata": {
        "id": "DHnvto2JLOAB",
        "colab_type": "code",
        "colab": {
          "base_uri": "https://localhost:8080/",
          "height": 34
        },
        "outputId": "c4d3c8e1-2b52-480a-b6e7-2515d7949704"
      },
      "source": [
        "min_value(sample_list)"
      ],
      "execution_count": 39,
      "outputs": [
        {
          "output_type": "execute_result",
          "data": {
            "text/plain": [
              "1"
            ]
          },
          "metadata": {
            "tags": []
          },
          "execution_count": 39
        }
      ]
    },
    {
      "cell_type": "code",
      "metadata": {
        "id": "K1lHrTfVL42O",
        "colab_type": "code",
        "colab": {}
      },
      "source": [
        "#Write a python function to calculate the number of elements in a list. The function should accept any list of integers, and return the length of the list.\n",
        "#After the function is defined, verifying your results using the built-in function 'len()'.\n",
        "#sample list: [5,3,2,1]\n",
        "#expected output: 4"
      ],
      "execution_count": null,
      "outputs": []
    },
    {
      "cell_type": "code",
      "metadata": {
        "id": "nCpsuYNAL-fZ",
        "colab_type": "code",
        "colab": {}
      },
      "source": [
        "def number_of_elements(input):\n",
        "  num_elements = 0\n",
        "  for num in input:\n",
        "    num_elements = num_elements + 1\n",
        "  return num_elements\n",
        "    \n",
        "  \n",
        "\n"
      ],
      "execution_count": 25,
      "outputs": []
    },
    {
      "cell_type": "code",
      "metadata": {
        "id": "pxw9nH_EMwOs",
        "colab_type": "code",
        "colab": {
          "base_uri": "https://localhost:8080/",
          "height": 34
        },
        "outputId": "9355cebe-eca3-4b51-8c34-916644a8f083"
      },
      "source": [
        "number_of_elements(sample_list)"
      ],
      "execution_count": 26,
      "outputs": [
        {
          "output_type": "execute_result",
          "data": {
            "text/plain": [
              "4"
            ]
          },
          "metadata": {
            "tags": []
          },
          "execution_count": 26
        }
      ]
    },
    {
      "cell_type": "code",
      "metadata": {
        "id": "8Uu1SFJORWLS",
        "colab_type": "code",
        "colab": {}
      },
      "source": [
        "# Write a python function to sum all numbers in a list. The function should accept any list of integers, and return the sum value.\n",
        "# After the function is defined, verifying your results using the built-in function 'sum()'.\n",
        "# sample list: [5,3,2,1]\n",
        "# expected output: 11"
      ],
      "execution_count": null,
      "outputs": []
    },
    {
      "cell_type": "code",
      "metadata": {
        "id": "G7cb-IGyRf3Q",
        "colab_type": "code",
        "colab": {}
      },
      "source": [
        "def sum_of_values(input):\n",
        "  sum_values = 0\n",
        "  for num in input:\n",
        "    if type(num) == int:\n",
        "      sum_values = sum_values + num\n",
        "  return sum_values"
      ],
      "execution_count": 35,
      "outputs": []
    },
    {
      "cell_type": "code",
      "metadata": {
        "id": "yVVvJ_5wRfvo",
        "colab_type": "code",
        "colab": {
          "base_uri": "https://localhost:8080/",
          "height": 34
        },
        "outputId": "81db4a2d-2b19-4342-bd22-b7b61b21f87d"
      },
      "source": [
        "sum_of_values(sample_list)"
      ],
      "execution_count": 37,
      "outputs": [
        {
          "output_type": "execute_result",
          "data": {
            "text/plain": [
              "11"
            ]
          },
          "metadata": {
            "tags": []
          },
          "execution_count": 37
        }
      ]
    },
    {
      "cell_type": "code",
      "metadata": {
        "id": "soDt51WITHJl",
        "colab_type": "code",
        "colab": {}
      },
      "source": [
        "#Assume that we have 5 DNA motifs that have the following strings:\n",
        "\n",
        "#TTCAT\n",
        "#AATCATGA\n",
        "#CCCGC\n",
        "#GGCATT\n",
        "#CACGT\n",
        "\n",
        "#which are comprised of four nucleotides (e.g. A, T, C, G). We would like to define a variable called 'DNA_motifs', and store these sequences in this variable using the data type list. Then we need to print the variable by print(\"DNA_motifs: \", DNA_motifs)\n",
        "#Please write your python codes for this activity.\n",
        "\n",
        "def list_maker(list, item):\n",
        "  list.append(item)\n",
        "  return list\n",
        "DNA_motifs = []\n",
        "\n",
        "\n"
      ],
      "execution_count": 49,
      "outputs": []
    },
    {
      "cell_type": "code",
      "metadata": {
        "id": "rL255zlJgccU",
        "colab_type": "code",
        "colab": {
          "base_uri": "https://localhost:8080/",
          "height": 34
        },
        "outputId": "4efb6be6-713f-41a1-af84-d0534818c51a"
      },
      "source": [
        "list_maker(DNA_motifs, 'TTCAT')\n",
        "list_maker(DNA_motifs, 'AATCATGA')\n",
        "list_maker(DNA_motifs, 'CCCGC')\n",
        "list_maker(DNA_motifs, 'GGCATT')\n",
        "list_maker(DNA_motifs, 'CACGT')\n"
      ],
      "execution_count": 50,
      "outputs": [
        {
          "output_type": "execute_result",
          "data": {
            "text/plain": [
              "['TTCAT', 'AATCATGA', 'CCCGC', 'GGCATT', 'CACGT']"
            ]
          },
          "metadata": {
            "tags": []
          },
          "execution_count": 50
        }
      ]
    },
    {
      "cell_type": "code",
      "metadata": {
        "id": "hUKZetyT9CTJ",
        "colab_type": "code",
        "colab": {}
      },
      "source": [
        "#Based on the defined list 'DNA_motifs', please write a python function to get motifs that contain string 'C?C' ('?' can be one of 'A', 'C', 'G', 'T'). The function should accept any list of DNA sequences, and print out the expected strings that satisfies the criteria.\n",
        "#expected output: \n",
        "\n",
        "#CCCGC\n",
        "#CACGT"
      ],
      "execution_count": null,
      "outputs": []
    },
    {
      "cell_type": "code",
      "metadata": {
        "id": "4H1zBRH9AE6-",
        "colab_type": "code",
        "colab": {}
      },
      "source": [
        "def check_list(input_list):\n",
        "  for seq in input_list:\n",
        "    if seq.find('CAC') >= 0:\n",
        "      print('found', seq)\n",
        "    elif seq.find('CCC') >= 0:\n",
        "      print('found', seq)\n",
        "    elif seq.find('CTC') >= 0:\n",
        "      print('found', seq)\n",
        "    elif seq.find('CGC') >= 0:\n",
        "      print('found', seq)"
      ],
      "execution_count": 24,
      "outputs": []
    },
    {
      "cell_type": "code",
      "metadata": {
        "id": "gKz41WriDQ8C",
        "colab_type": "code",
        "colab": {
          "base_uri": "https://localhost:8080/",
          "height": 50
        },
        "outputId": "0aca797b-96b4-431d-c9e6-14d1fcea27dc"
      },
      "source": [
        "check_list(DNA_motifs)"
      ],
      "execution_count": 36,
      "outputs": [
        {
          "output_type": "stream",
          "text": [
            "found CCCGC\n",
            "found CACGT\n"
          ],
          "name": "stdout"
        }
      ]
    }
  ]
}