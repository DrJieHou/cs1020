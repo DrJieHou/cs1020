{
  "nbformat": 4,
  "nbformat_minor": 0,
  "metadata": {
    "colab": {
      "name": "lab03.ipynb",
      "provenance": []
    },
    "kernelspec": {
      "name": "python3",
      "display_name": "Python 3"
    }
  },
  "cells": [
    {
      "cell_type": "code",
      "metadata": {
        "id": "BjBL6YeaIM6d",
        "colab_type": "code",
        "colab": {}
      },
      "source": [
        "##Question1: Write a python function to find the maximum number in a list. The function should accept any list of integers, and return the maximum values.\n",
        "##After the function is defined, verifying your results using the built-in function 'max()'.\n",
        "##sample list: [5,3,2,1]\n",
        "##expected output: 5\n",
        "\n",
        "def find_maximum_value(input):\n",
        "  maximum_number = float('-inf')\n",
        "  for num in input: \n",
        "    if num > maximum_number: \n",
        "      maximum_number = num \n",
        "  return maximum_number\n"
      ],
      "execution_count": null,
      "outputs": []
    },
    {
      "cell_type": "code",
      "metadata": {
        "id": "rKzdv3Q-Kj_u",
        "colab_type": "code",
        "colab": {
          "base_uri": "https://localhost:8080/",
          "height": 34
        },
        "outputId": "915ae5ff-9c46-4c86-e8f4-cca04d92cf7d"
      },
      "source": [
        "find_maximum_value([1,3,8,2,1])"
      ],
      "execution_count": null,
      "outputs": [
        {
          "output_type": "execute_result",
          "data": {
            "text/plain": [
              "8"
            ]
          },
          "metadata": {
            "tags": []
          },
          "execution_count": 3
        }
      ]
    },
    {
      "cell_type": "code",
      "metadata": {
        "id": "eKCumw_bKxgl",
        "colab_type": "code",
        "colab": {
          "base_uri": "https://localhost:8080/",
          "height": 34
        },
        "outputId": "f416aeca-facd-4667-8c47-5ba17ffa816f"
      },
      "source": [
        "max([1,3,8,2,1])"
      ],
      "execution_count": null,
      "outputs": [
        {
          "output_type": "execute_result",
          "data": {
            "text/plain": [
              "8"
            ]
          },
          "metadata": {
            "tags": []
          },
          "execution_count": 4
        }
      ]
    },
    {
      "cell_type": "code",
      "metadata": {
        "id": "BNPeuu7AIO-c",
        "colab_type": "code",
        "colab": {}
      },
      "source": [
        "##Question2: Write a python function to find the minimum number in a list. The function should accept any list of integers, and return the minimum values.\n",
        "##After the function is defined, verifying your results using the built-in function 'min()'.\n",
        "##sample list: [5,3,2,1]\n",
        "##expected output: 1"
      ],
      "execution_count": null,
      "outputs": []
    },
    {
      "cell_type": "code",
      "metadata": {
        "id": "-EowXEnNK3rX",
        "colab_type": "code",
        "colab": {}
      },
      "source": [
        "def minimum(list):\n",
        "  current_min = list[0]  \n",
        "  for num in list:       \n",
        "    if num < current_min:\n",
        "      current_min = num  \n",
        "  return current_min\n"
      ],
      "execution_count": null,
      "outputs": []
    },
    {
      "cell_type": "code",
      "metadata": {
        "id": "HsyRFbwHLFTs",
        "colab_type": "code",
        "colab": {
          "base_uri": "https://localhost:8080/",
          "height": 34
        },
        "outputId": "0c09fa00-ed89-4a46-f012-79925e6c849a"
      },
      "source": [
        "minimum([1,3,8,2,1])"
      ],
      "execution_count": null,
      "outputs": [
        {
          "output_type": "execute_result",
          "data": {
            "text/plain": [
              "1"
            ]
          },
          "metadata": {
            "tags": []
          },
          "execution_count": 16
        }
      ]
    },
    {
      "cell_type": "code",
      "metadata": {
        "id": "VXr513WQIPAz",
        "colab_type": "code",
        "colab": {
          "base_uri": "https://localhost:8080/",
          "height": 34
        },
        "outputId": "0b063b8a-1922-4aa4-df03-4b6099d8f068"
      },
      "source": [
        "##Question3: Write a python function to calculate the number of elements in a list. The function should accept any list of integers, and return the length of the list.\n",
        "##After the function is defined, verifying your results using the built-in function 'len()'.\n",
        "##sample list: [5,3,2,1]\n",
        "##expected output: 4\n",
        "\n",
        "def findLength(list): \n",
        "   \n",
        "    count = 0\n",
        "    for i in list: \n",
        "        count+= 1\n",
        "    return count \n",
        "  \n",
        "list = [5,3,2,1]\n",
        "print(findLength(list)) \n"
      ],
      "execution_count": null,
      "outputs": [
        {
          "output_type": "stream",
          "text": [
            "4\n"
          ],
          "name": "stdout"
        }
      ]
    },
    {
      "cell_type": "code",
      "metadata": {
        "id": "yR403ZDFPrn7",
        "colab_type": "code",
        "colab": {
          "base_uri": "https://localhost:8080/",
          "height": 34
        },
        "outputId": "b603cf9f-1a2e-405f-863b-8348137b5795"
      },
      "source": [
        "##Verify the last question \n",
        "sample_list = [5,3,2,1]\n",
        "len(sample_list)"
      ],
      "execution_count": null,
      "outputs": [
        {
          "output_type": "execute_result",
          "data": {
            "text/plain": [
              "4"
            ]
          },
          "metadata": {
            "tags": []
          },
          "execution_count": 17
        }
      ]
    },
    {
      "cell_type": "code",
      "metadata": {
        "id": "qo-54BpxIPDq",
        "colab_type": "code",
        "colab": {
          "base_uri": "https://localhost:8080/",
          "height": 34
        },
        "outputId": "8d999034-1108-41d8-8ee1-02675357352d"
      },
      "source": [
        "##Question 4: Write a python function to sum all numbers in a list. The function should accept any list of integers, and return the sum value.\n",
        "##After the function is defined, verifying your results using the built-in function 'sum()'.\n",
        "##sample list: [5,3,2,1]\n",
        "##expected output: 11\n",
        "\n",
        "def list_sum(list):\n",
        "    sum=0\n",
        "    for i in list:\n",
        "        sum=sum+i\n",
        "    return sum\n",
        "\n",
        "print (list_sum([5,3,2,1]))\n"
      ],
      "execution_count": null,
      "outputs": [
        {
          "output_type": "stream",
          "text": [
            "11\n"
          ],
          "name": "stdout"
        }
      ]
    },
    {
      "cell_type": "code",
      "metadata": {
        "id": "pI2KiAZ3RJsm",
        "colab_type": "code",
        "colab": {
          "base_uri": "https://localhost:8080/",
          "height": 34
        },
        "outputId": "90e12ebc-38de-4d03-bfb7-cb5af3eea7d4"
      },
      "source": [
        "## verify sum \n",
        "sample_list=[5,3,2,1]\n",
        "sum(sample_list)"
      ],
      "execution_count": null,
      "outputs": [
        {
          "output_type": "execute_result",
          "data": {
            "text/plain": [
              "11"
            ]
          },
          "metadata": {
            "tags": []
          },
          "execution_count": 24
        }
      ]
    },
    {
      "cell_type": "code",
      "metadata": {
        "id": "13Pb3hIaIPGT",
        "colab_type": "code",
        "colab": {
          "base_uri": "https://localhost:8080/",
          "height": 34
        },
        "outputId": "392d87fb-864d-4825-e366-a62a328127e3"
      },
      "source": [
        "##Question 5: Assume that we have 5 DNA motifs that have the following strings:\n",
        "\n",
        "##TTCAT\n",
        "##AATCATGA\n",
        "##CCCGC\n",
        "##GGCATT\n",
        "##CACGT\n",
        "\n",
        "##which are comprised of four nucleotides (e.g. A, T, C, G). We would like to define a variable called 'DNA_motifs', and store these sequences in this variable using the data type list. Then we need to print the variable by print(\"DNA_motifs: \", DNA_motifs)\n",
        "##Please write your python codes for this activity.\n",
        "\n",
        "DNA_motifs =[]\n",
        "DNA_motifs.append('TTCAT')\n",
        "DNA_motifs.append('AATCATGA')\n",
        "DNA_motifs.append('CCCGC')\n",
        "DNA_motifs.append('GCGATT')\n",
        "DNA_motifs.append('CACGT')\n",
        "\n",
        "print(DNA_motifs)\n",
        "\n"
      ],
      "execution_count": null,
      "outputs": [
        {
          "output_type": "stream",
          "text": [
            "['TTCAT', 'AATCATGA', 'CCCGC', 'GCGATT', 'CACGT']\n"
          ],
          "name": "stdout"
        }
      ]
    },
    {
      "cell_type": "code",
      "metadata": {
        "id": "h90i_Y8pIPck",
        "colab_type": "code",
        "colab": {
          "base_uri": "https://localhost:8080/",
          "height": 34
        },
        "outputId": "dfb6dfbc-f306-402c-ed06-7d91a75d903c"
      },
      "source": [
        "##Question 6: Based on the defined list 'DNA_motifs', please write a python function to get motifs that contain string 'C?C' ('?' can be one of 'A', 'C', 'G', 'T'). The function should accept any list of DNA sequences, and print out the expected strings that satisfies the criteria.\n",
        "##expected output: \n",
        "\n",
        "##CCCGC\n",
        "##CACGT\n",
        "\n",
        "import re \n",
        "  \n",
        "def Filter(DNA_motifs, substr): \n",
        "    return [str for str in DNA_motifs if\n",
        "             any(sub in str for sub in substr)] \n",
        "       \n",
        "DNA_motifs = ['TTCAT', 'AATCATGA', 'CCCGC', 'GCGATT', 'CACGT'] \n",
        "substr = ['CAC', 'CGC','CTC','CCC'] \n",
        "print(Filter(DNA_motifs, substr))\n"
      ],
      "execution_count": 2,
      "outputs": [
        {
          "output_type": "stream",
          "text": [
            "['CCCGC', 'CACGT']\n"
          ],
          "name": "stdout"
        }
      ]
    }
  ]
}