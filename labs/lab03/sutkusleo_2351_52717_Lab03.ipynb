{
  "nbformat": 4,
  "nbformat_minor": 0,
  "metadata": {
    "colab": {
      "name": "Lab03.ipynb",
      "provenance": []
    },
    "kernelspec": {
      "name": "python3",
      "display_name": "Python 3"
    }
  },
  "cells": [
    {
      "cell_type": "code",
      "metadata": {
        "id": "k3PGiwj0IETp",
        "colab_type": "code",
        "colab": {}
      },
      "source": [
        "# Q1: Write a python function to find the maximum number in a list. The function should accept any list of integers, and return the maximum values. \n",
        "# After the function is defined, verifying your results using the built-in function 'max()'.\n",
        "# sample list: [5,3,2,1]\n",
        "# expected output: 5"
      ],
      "execution_count": null,
      "outputs": []
    },
    {
      "cell_type": "code",
      "metadata": {
        "id": "qPO6WEq8I7ba",
        "colab_type": "code",
        "colab": {}
      },
      "source": [
        "def find_maximum_value(input):\n",
        "  maximum_number = float('-inf')\n",
        "  for num in input:\n",
        "    if num > maximum_number:\n",
        "      maximum_number = num\n",
        "  return maximum_number"
      ],
      "execution_count": null,
      "outputs": []
    },
    {
      "cell_type": "code",
      "metadata": {
        "id": "jsN4ql92Klpa",
        "colab_type": "code",
        "colab": {
          "base_uri": "https://localhost:8080/",
          "height": 34
        },
        "outputId": "100f97de-9288-490e-e45b-8cdb9b39f64e"
      },
      "source": [
        "find_maximum_value([5,3,2,1])"
      ],
      "execution_count": null,
      "outputs": [
        {
          "output_type": "execute_result",
          "data": {
            "text/plain": [
              "5"
            ]
          },
          "metadata": {
            "tags": []
          },
          "execution_count": 2
        }
      ]
    },
    {
      "cell_type": "code",
      "metadata": {
        "id": "2Qh9FJp7K275",
        "colab_type": "code",
        "colab": {}
      },
      "source": [
        "# Q2: Write a python function to find the minimum number in a list. The function should accept any list of integers, and return the minimum values. \n",
        "# After the function is defined, verifying your results using the built-in function 'min()'.\n",
        "# sample list: [5,3,2,1]\n",
        "# expected output: 1"
      ],
      "execution_count": null,
      "outputs": []
    },
    {
      "cell_type": "code",
      "metadata": {
        "id": "CrBE0fk-LABY",
        "colab_type": "code",
        "colab": {}
      },
      "source": [
        "def find_minimum_value(input):\n",
        "  minimum_number = float('inf')\n",
        "  for num in input:\n",
        "    if num < minimum_number:\n",
        "      minimum_number = num\n",
        "  return minimum_number"
      ],
      "execution_count": null,
      "outputs": []
    },
    {
      "cell_type": "code",
      "metadata": {
        "id": "sp2anSOuLprh",
        "colab_type": "code",
        "colab": {
          "base_uri": "https://localhost:8080/",
          "height": 34
        },
        "outputId": "5f3530c5-da53-4ea4-c7b9-cb5be1a7a1c5"
      },
      "source": [
        "find_minimum_value([5,3,2,1])"
      ],
      "execution_count": null,
      "outputs": [
        {
          "output_type": "execute_result",
          "data": {
            "text/plain": [
              "1"
            ]
          },
          "metadata": {
            "tags": []
          },
          "execution_count": 10
        }
      ]
    },
    {
      "cell_type": "code",
      "metadata": {
        "id": "D1LfyZJUL6ki",
        "colab_type": "code",
        "colab": {}
      },
      "source": [
        "# Q3: Write a python function to calculate the number of elements in a list. The function should accept any list of integers, and return the length of the list. \n",
        "# After the function is defined, verifying your results using the built-in function 'len()'.\n",
        "# sample list: [5,3,2,1]\n",
        "# expected output: 4"
      ],
      "execution_count": null,
      "outputs": []
    },
    {
      "cell_type": "code",
      "metadata": {
        "id": "9nFkgsFtMAix",
        "colab_type": "code",
        "colab": {
          "base_uri": "https://localhost:8080/",
          "height": 34
        },
        "outputId": "3dd1558e-e375-49cb-c55a-423a19d395c5"
      },
      "source": [
        "def find_number_elements(input):\n",
        "  num_elements = 0\n",
        "  for num in input:\n",
        "    num_elements = num_elements + 1\n",
        "  return num_elements\n",
        "test_variable = find_number_elements([5,3,2,1])\n",
        "print(test_variable)"
      ],
      "execution_count": null,
      "outputs": [
        {
          "output_type": "stream",
          "text": [
            "4\n"
          ],
          "name": "stdout"
        }
      ]
    },
    {
      "cell_type": "code",
      "metadata": {
        "id": "tFzkddP4RTp1",
        "colab_type": "code",
        "colab": {}
      },
      "source": [
        "# Q4: Write a python function to sum all numbers in a list. The function should accept any list of integers, and return the sum value. \n",
        "# After the function is defined, verifying your results using the built-in function 'sum()'.\n",
        "# sample list: [5,3,2,1]\n",
        "# expected output: 11"
      ],
      "execution_count": null,
      "outputs": []
    },
    {
      "cell_type": "code",
      "metadata": {
        "id": "Vi0YGu-gRZzn",
        "colab_type": "code",
        "colab": {
          "base_uri": "https://localhost:8080/",
          "height": 34
        },
        "outputId": "551a9151-57f9-45f1-c178-6d27f54f58f2"
      },
      "source": [
        "def sum(numbers):\n",
        "  total = 0\n",
        "  for x in numbers:\n",
        "    total += x\n",
        "  return total\n",
        "print(sum((5,3,2,1)))"
      ],
      "execution_count": null,
      "outputs": [
        {
          "output_type": "stream",
          "text": [
            "11\n"
          ],
          "name": "stdout"
        }
      ]
    },
    {
      "cell_type": "code",
      "metadata": {
        "id": "2kaDfODKU_Rs",
        "colab_type": "code",
        "colab": {}
      },
      "source": [
        "# Q5: Assume that we have 5 DNA motifs that have the following strings:\n",
        "\n",
        "# TTCAT\n",
        "# AATCATGA\n",
        "# CCCGC\n",
        "# GGCATT\n",
        "# CACGT\n",
        "\n",
        "# which are comprised of four nucleotides (e.g. A, T, C, G). We would like to define a variable called 'DNA_motifs', and store these sequences in this variable using the data type list. Then we need to print the variable by print(\"DNA_motifs: \", DNA_motifs) \n",
        "# Please write your python codes for this activity."
      ],
      "execution_count": null,
      "outputs": []
    },
    {
      "cell_type": "code",
      "metadata": {
        "id": "LFls8kgyVNLz",
        "colab_type": "code",
        "colab": {
          "base_uri": "https://localhost:8080/",
          "height": 34
        },
        "outputId": "e77d5b54-8e43-4e1d-c63b-aa6ace3662e9"
      },
      "source": [
        "DNA_motifs = ['TTCAT', 'AATCATGA', 'CCCGC', 'GGCATT', 'CACGT']\n",
        "print('DNA_motifs ', DNA_motifs)"
      ],
      "execution_count": null,
      "outputs": [
        {
          "output_type": "stream",
          "text": [
            "DNA_motifs  ['TTCAT', 'AATCATGA', 'CCCGC', 'GGCATT', 'CACGT']\n"
          ],
          "name": "stdout"
        }
      ]
    },
    {
      "cell_type": "code",
      "metadata": {
        "id": "q3cAPSdga5zO",
        "colab_type": "code",
        "colab": {}
      },
      "source": [
        "# Q6: Based on the defined list 'DNA_motifs', please write a python function to get motifs that contain string 'C?C' ('?' can be one of 'A', 'C', 'G', 'T'). The function should accept any list of DNA sequences, and print out the expected strings that satisfies the criteria. \n",
        "# expected output: \n",
        "\n",
        "# CCCGC\n",
        "# CACGT"
      ],
      "execution_count": null,
      "outputs": []
    },
    {
      "cell_type": "code",
      "metadata": {
        "id": "t2t0KDGEbAWA",
        "colab_type": "code",
        "colab": {
          "base_uri": "https://localhost:8080/",
          "height": 51
        },
        "outputId": "575f0d07-46de-4b94-ac52-a9bcdfdfcb42"
      },
      "source": [
        "DNA_motifs = ['TTCAT', 'AATCATGA', 'CCCGC', 'GGCATT', 'CACGT']\n",
        "for seq in DNA_motifs:\n",
        "  if seq.find('CAC') >=0:\n",
        "    print('found ',seq)\n",
        "  elif seq.find('CCC') >=0:\n",
        "    print('found ',seq)\n",
        "  elif seq.find('CTC') >=0:\n",
        "    print('found ',seq)\n",
        "  elif seq.find('CGC') >=0:\n",
        "    print('found ',seq)"
      ],
      "execution_count": 14,
      "outputs": [
        {
          "output_type": "stream",
          "text": [
            "found  CCCGC\n",
            "found  CACGT\n"
          ],
          "name": "stdout"
        }
      ]
    }
  ]
}