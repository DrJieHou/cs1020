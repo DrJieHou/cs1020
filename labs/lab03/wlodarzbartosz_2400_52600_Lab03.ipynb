{
  "nbformat": 4,
  "nbformat_minor": 0,
  "metadata": {
    "colab": {
      "name": "Lab03.ipynb",
      "provenance": []
    },
    "kernelspec": {
      "name": "python3",
      "display_name": "Python 3"
    }
  },
  "cells": [
    {
      "cell_type": "code",
      "metadata": {
        "id": "Thlku6cfH_PC",
        "colab_type": "code",
        "colab": {}
      },
      "source": [
        "#Q1 Write a python function to find the maximum number in a list. The function should accept any list of integers, and return the maximum values.\n",
        "#After the function is defined, verifying your results using the built-in function 'max()'.\n",
        "sample_list = ['1', '2', '3','5']\n",
        "def find_maximum_value(input) :\n",
        "    maximum_number = float('-inf')\n",
        "    for num in input:\n",
        "      if num > maximum_number:\n",
        "        maximum_number = num\n",
        "    return maximum_number"
      ],
      "execution_count": null,
      "outputs": []
    },
    {
      "cell_type": "code",
      "metadata": {
        "id": "EW97iXoJKsBB",
        "colab_type": "code",
        "colab": {
          "base_uri": "https://localhost:8080/",
          "height": 52
        },
        "outputId": "3b96a484-48ac-459c-f39c-0c031539e7c5"
      },
      "source": [
        "print(find_maximum_value([5,3,2,1]))\n",
        "max(sample_list)"
      ],
      "execution_count": null,
      "outputs": [
        {
          "output_type": "stream",
          "text": [
            "5\n"
          ],
          "name": "stdout"
        },
        {
          "output_type": "execute_result",
          "data": {
            "application/vnd.google.colaboratory.intrinsic+json": {
              "type": "string"
            },
            "text/plain": [
              "'5'"
            ]
          },
          "metadata": {
            "tags": []
          },
          "execution_count": 37
        }
      ]
    },
    {
      "cell_type": "code",
      "metadata": {
        "id": "riirKNsCJWdP",
        "colab_type": "code",
        "colab": {}
      },
      "source": [
        "#Q2Write a python function to find the minimum number in a list. The function should accept any list of integers, and return the minimum values.\n",
        "#After the function is defined, verifying your results using the built-in function 'min()'.\n",
        "sample_list = ['1', '2', '3','5']\n",
        "def find_minimum_value(input) :\n",
        "    minimum_number = float('inf')\n",
        "    for num in input:\n",
        "      if num < minimum_number:\n",
        "        minimum_number = num\n",
        "    return minimum_number"
      ],
      "execution_count": null,
      "outputs": []
    },
    {
      "cell_type": "code",
      "metadata": {
        "id": "KRLStuquLsqO",
        "colab_type": "code",
        "colab": {
          "base_uri": "https://localhost:8080/",
          "height": 52
        },
        "outputId": "1b67b3f4-98b7-489f-b428-0e7fcd7985ae"
      },
      "source": [
        "print(find_minimum_value([5,4,3,2,1]))\n",
        "min(sample_list)"
      ],
      "execution_count": null,
      "outputs": [
        {
          "output_type": "stream",
          "text": [
            "1\n"
          ],
          "name": "stdout"
        },
        {
          "output_type": "execute_result",
          "data": {
            "application/vnd.google.colaboratory.intrinsic+json": {
              "type": "string"
            },
            "text/plain": [
              "'1'"
            ]
          },
          "metadata": {
            "tags": []
          },
          "execution_count": 24
        }
      ]
    },
    {
      "cell_type": "code",
      "metadata": {
        "id": "d2AmBTpVL3uZ",
        "colab_type": "code",
        "colab": {}
      },
      "source": [
        "#Q3 Write a python function to calculate the number of elements in a list. The function should accept any list of integers, and return the length of the list.\n",
        "#After the function is defined, verifying your results using the built-in function 'len()'\n",
        "sample_list = ['1', '2', '3','5']\n",
        "def find_elements_in_list(input) :\n",
        "    find_elements = 0\n",
        "    for num in input:\n",
        "       find_elements = find_elements + 1\n",
        "    return find_elements  \n",
        "\n",
        "    \n",
        "        "
      ],
      "execution_count": null,
      "outputs": []
    },
    {
      "cell_type": "code",
      "metadata": {
        "id": "C28QFybbRQRi",
        "colab_type": "code",
        "colab": {
          "base_uri": "https://localhost:8080/",
          "height": 51
        },
        "outputId": "d7fbc3f7-2ffc-49f8-e7e7-0031a2939924"
      },
      "source": [
        "print(find_elements_in_list(sample_list))\n",
        "len(sample_list)"
      ],
      "execution_count": null,
      "outputs": [
        {
          "output_type": "stream",
          "text": [
            "4\n"
          ],
          "name": "stdout"
        },
        {
          "output_type": "execute_result",
          "data": {
            "text/plain": [
              "4"
            ]
          },
          "metadata": {
            "tags": []
          },
          "execution_count": 26
        }
      ]
    },
    {
      "cell_type": "code",
      "metadata": {
        "id": "BN4RIsBIRfhm",
        "colab_type": "code",
        "colab": {}
      },
      "source": [
        "#Q4 Write a python function to sum all numbers in a list. The function should accept any list of integers, and return the sum value.\n",
        "#After the function is defined, verifying your results using the built-in function 'sum()'\n",
        "sample_list = [1, 2, 3, 5]\n",
        "def listsum(list):\n",
        "    ret=0\n",
        "    for i in list:\n",
        "        ret += i\n",
        "    return ret\n"
      ],
      "execution_count": null,
      "outputs": []
    },
    {
      "cell_type": "code",
      "metadata": {
        "id": "a1iNxJpojHMC",
        "colab_type": "code",
        "colab": {
          "base_uri": "https://localhost:8080/",
          "height": 51
        },
        "outputId": "1dd93165-b4ba-4f60-c811-c8e9ff9ceafd"
      },
      "source": [
        "print(listsum(sample_list))\n",
        "sum(sample_list)"
      ],
      "execution_count": 38,
      "outputs": [
        {
          "output_type": "stream",
          "text": [
            "11\n"
          ],
          "name": "stdout"
        },
        {
          "output_type": "execute_result",
          "data": {
            "text/plain": [
              "11"
            ]
          },
          "metadata": {
            "tags": []
          },
          "execution_count": 38
        }
      ]
    },
    {
      "cell_type": "code",
      "metadata": {
        "id": "XdY58InojiA6",
        "colab_type": "code",
        "colab": {
          "base_uri": "https://localhost:8080/",
          "height": 34
        },
        "outputId": "a5119d03-3bbc-410d-eb8a-83e6ba3b8978"
      },
      "source": [
        "#Q5 Assume that we have 5 DNA motifs that have the following strings:\n",
        "#TTCAT\n",
        "#AATCATGA\n",
        "#CCCGC\n",
        "#GGCATT\n",
        "#CACGT\n",
        "#which are comprised of four nucleotides (e.g. A, T, C, G). We would like to define a variable called 'DNA_motifs', and store these sequences in this variable using the data type list. Then we need to print the variable by print(\"DNA_motifs: \", DNA_motifs)\n",
        "#Please write your python codes for this activity.\n",
        "DNA_motifs = ['TTCAT', 'AATCATGA', 'CCCGC', 'GGCATT', 'CACGT']\n",
        "print(\"DNA_motifs: \", DNA_motifs)"
      ],
      "execution_count": null,
      "outputs": [
        {
          "output_type": "stream",
          "text": [
            "DNA_motifs:  ['TTCAT', 'AATCATGA', 'CCCGC', 'GGCATT', 'CACGT']\n"
          ],
          "name": "stdout"
        }
      ]
    },
    {
      "cell_type": "code",
      "metadata": {
        "id": "1mgvN4NkkZ11",
        "colab_type": "code",
        "colab": {}
      },
      "source": [
        "#Q6 Based on the defined list 'DNA_motifs', please write a python function to get motifs that contain string 'C?C' ('?' can be one of 'A', 'C', 'G', 'T'). The function should accept any list of DNA sequences, and print out the expected strings that satisfies the criteria.\n",
        "#expected output: \n",
        "DNA_motifs = ['TTCAT', 'AATCATGA', 'CCCGC', 'GGCATT', 'CACGT']\n",
        "def check_list(list) :\n",
        "   for seq in DNA_motifs:\n",
        "     if seq.find('CAC') >=0:\n",
        "       print('found ',seq)\n",
        "     elif seq.find('CCC') >=0:\n",
        "       print('found ',seq)\n",
        "     elif seq.find('CTC') >=0:\n",
        "       print('found ',seq)\n",
        "     elif seq.find('CGC') >=0:\n",
        "       print('found ',seq)\n",
        "\n",
        "\n",
        "\n",
        "     \n",
        "    \n",
        "\n",
        "\n",
        "\n",
        "     \n",
        "  \n"
      ],
      "execution_count": null,
      "outputs": []
    },
    {
      "cell_type": "code",
      "metadata": {
        "id": "L-T8kDKxmBNQ",
        "colab_type": "code",
        "colab": {
          "base_uri": "https://localhost:8080/",
          "height": 51
        },
        "outputId": "b1e5bcd2-c961-4fdb-fe2a-410e6f8fc5e8"
      },
      "source": [
        "check_list(DNA_motifs)"
      ],
      "execution_count": null,
      "outputs": [
        {
          "output_type": "stream",
          "text": [
            "found  CCCGC\n",
            "found  CACGT\n"
          ],
          "name": "stdout"
        }
      ]
    }
  ]
}