{
  "nbformat": 4,
  "nbformat_minor": 0,
  "metadata": {
    "colab": {
      "name": "Lab04.ipynb",
      "provenance": [],
      "collapsed_sections": []
    },
    "kernelspec": {
      "name": "python3",
      "display_name": "Python 3"
    }
  },
  "cells": [
    {
      "cell_type": "code",
      "metadata": {
        "id": "8BZwi1EIK5Y-",
        "colab_type": "code",
        "colab": {
          "base_uri": "https://localhost:8080/",
          "height": 55
        },
        "outputId": "9153e46e-d1e3-431b-a74b-3337beaf24ff"
      },
      "source": [
        "DNA = \"GGTCAGAAAAAGCCCTCTCCATGTCTACTCACGATACATCCCTGAAAACCACTGAGGAAGTGGCTTTTCAGATCATCTTGCTTTGCCAGTTTGGGGTTGGGACTTTTGCCAATGTATTTCTCTTTGTCTATAATTTCTCTCCAATCTCGACTGGTTCTAAACAGAGGCCCAGACAAGTGATTTTAAGACACATGGCTGTGGCCAATGCCTTAACTCTCTTCCTCACTATATTTCCAAACAACATGATGACTTTTGCTCCAATTATTCCTCAAACTGACCTCAAATGTAAATTAGAATTCTTCACTCGCCTCGTGGCAAGAAGCACAAACTTGTGTTCAACTTGTGTTCTGAGTATCCATCAGTTTGTCACACTTGTTCCTGTTAATTCAGGTAAAGGAATACTCAGAGCAAGTGTCACAAACATGGCAAGTTATTCTTGTTACAGTTGTTGGTTCTTCAGTGTCTTAAATAACATCTACATTCCAATTAAGGTCACTGGTCCACAGTTAACAGACAATAACAATAACTCTAAAAGCAAGTTGTTCTGTTCCACTTCTGATTTCAGTGTAGGCATTGTCTTCTTGAGGTTTGCCCATGATGCCACATTCATGAGCATCATGGTCTGGACCAGTGTCTCCATGGTACTTCTCCTCCATAGACATTGTCAGAGAATGCAGTACATATTCACTCTCAATCAGGACCCCAGGGGCCAAGCAGAGACCACAGCAACCCATACTATCCTGATGCTGGTAGTCACATTTGTTGGCTTTTATCTTCTAAGTCTTATTTGTATCATCTTTTACACCTATTTTATATATTCTCATCATTCCCTGAGGCATTGCAATGACATTTTGGTTTCGGGTTTCCCTACAATTTCTCCTTTACTGTTGACCTTCAGAGACCCTAAGGGTCCTTGTTCTGTGTTCTTCAACTGTTGAAAGCCAGAGTCACTAAAAATGCCAAACACAGAAGACAGCTTTGCTAATACCATTAAATACTTTATTCCATAAATATGTTTTTAAAAGCTTGTATGAACAAGGTATGGTGCTCACTGCTATACTTATAAAAGAGTAAGGTTATAATCACTTGTTGATATGAAAAGATTTCTGGTTGGAATCTGATTGAAACAGTGAGTTATTCACCACCCTCCATTCTCT\"\n",
        "\n",
        "\n",
        "def transcribe(seq): \n",
        "  RNA_seq = seq.replace('T', 'U')\n",
        "  ### Define location of start codon (AUG)\n",
        "  start_codon = RNA_seq.find('AUG')\n",
        "  proteins = []\n",
        "  for i in range(start_codon, len(RNA_seq), 3): \n",
        "    codon = RNA_seq[i:i + 3]\n",
        "    if len(codon)==3:\n",
        "      if translate[codon] == \"Stop\":\n",
        "        break\n",
        "      protein3 = translate[codon]\n",
        "      protein1 = AA_mapping[protein3]\n",
        "      proteins.append(protein1)\n",
        "  return proteins\n",
        "    \n",
        "\n",
        "\n",
        "translate = { \n",
        "  'UUU':'Phe','UCU':'Ser','UAU':'Tyr','UGU':'Cys',\n",
        "  'UUC':'Phe','UCC':'Ser','UAC':'Tyr','UGC':'Cys',\n",
        "  'UUA':'Leu','UCA':'Ser','UAA':'Stop','UGA':'Stop',\n",
        "  'UUG':'Leu','UCG':'Ser','UAG':'Stop','UGG':'Trp',\n",
        "  'CUU':'Leu','CCU':'Pro','CAU':'His','CGU':'Arg',\n",
        "  'CUC':'Leu','CCC':'Pro','CAC':'His','CGC':'Arg',\n",
        "  'CUA':'Leu','CCA':'Pro','CAA':'Gln','CGA':'Arg',\n",
        "  'CUG':'Leu','CCG':'Pro','CAG':'Gln','CGG':'Arg',\n",
        "  'AUU':'Ile','ACU':'Thr','AAU':'Asn','AGU':'Ser',\n",
        "  'AUC':'Ile','ACC':'Thr','AAC':'Asn','AGC':'Ser',\n",
        "  'AUA':'Ile','ACA':'Thr','AAA':'Lys','AGA':'Arg',\n",
        "  'AUG':'Met','ACG':'Thr','AAG':'Lys','AGG':'Arg',\n",
        "  'GUU':'Val','GCU':'Ala','GAU':'Asp','GGU':'Gly',\n",
        "  'GUC':'Val','GCC':'Ala','GAC':'Asp','GGC':'Gly',\n",
        "  'GUA':'Val','GCA':'Ala','GAA':'Glu','GGA':'Gly',\n",
        "  'GUG':'Val','GCG':'Ala','GAG':'Glu','GGG':'Gly'\n",
        "}\n",
        "\n",
        "AA_mapping = {\n",
        "    'Ala':'A', 'Arg':'R','Asn':'N',\n",
        "    'Asp':'D', 'Cys':'C','Gln':'Q',\n",
        "    'Glu':'E', 'Gly':'G','His':'H',\n",
        "    'Ile':'I', 'Leu':'L','Lys':'K',\n",
        "    'Met':'M', 'Phe':'F','Pro':'P',\n",
        "    'Ser':'S', 'Thr':'T','Trp':'W',\n",
        "    'Tyr':'Y','Val':'V'\n",
        "}\n",
        "\n",
        "proteins = transcribe(DNA)\n",
        "print(proteins)"
      ],
      "execution_count": 1,
      "outputs": [
        {
          "output_type": "stream",
          "text": [
            "['M', 'S', 'T', 'H', 'D', 'T', 'S', 'L', 'K', 'T', 'T', 'E', 'E', 'V', 'A', 'F', 'Q', 'I', 'I', 'L', 'L', 'C', 'Q', 'F', 'G', 'V', 'G', 'T', 'F', 'A', 'N', 'V', 'F', 'L', 'F', 'V', 'Y', 'N', 'F', 'S', 'P', 'I', 'S', 'T', 'G', 'S', 'K', 'Q', 'R', 'P', 'R', 'Q', 'V', 'I', 'L', 'R', 'H', 'M', 'A', 'V', 'A', 'N', 'A', 'L', 'T', 'L', 'F', 'L', 'T', 'I', 'F', 'P', 'N', 'N', 'M', 'M', 'T', 'F', 'A', 'P', 'I', 'I', 'P', 'Q', 'T', 'D', 'L', 'K', 'C', 'K', 'L', 'E', 'F', 'F', 'T', 'R', 'L', 'V', 'A', 'R', 'S', 'T', 'N', 'L', 'C', 'S', 'T', 'C', 'V', 'L', 'S', 'I', 'H', 'Q', 'F', 'V', 'T', 'L', 'V', 'P', 'V', 'N', 'S', 'G', 'K', 'G', 'I', 'L', 'R', 'A', 'S', 'V', 'T', 'N', 'M', 'A', 'S', 'Y', 'S', 'C', 'Y', 'S', 'C', 'W', 'F', 'F', 'S', 'V', 'L', 'N', 'N', 'I', 'Y', 'I', 'P', 'I', 'K', 'V', 'T', 'G', 'P', 'Q', 'L', 'T', 'D', 'N', 'N', 'N', 'N', 'S', 'K', 'S', 'K', 'L', 'F', 'C', 'S', 'T', 'S', 'D', 'F', 'S', 'V', 'G', 'I', 'V', 'F', 'L', 'R', 'F', 'A', 'H', 'D', 'A', 'T', 'F', 'M', 'S', 'I', 'M', 'V', 'W', 'T', 'S', 'V', 'S', 'M', 'V', 'L', 'L', 'L', 'H', 'R', 'H', 'C', 'Q', 'R', 'M', 'Q', 'Y', 'I', 'F', 'T', 'L', 'N', 'Q', 'D', 'P', 'R', 'G', 'Q', 'A', 'E', 'T', 'T', 'A', 'T', 'H', 'T', 'I', 'L', 'M', 'L', 'V', 'V', 'T', 'F', 'V', 'G', 'F', 'Y', 'L', 'L', 'S', 'L', 'I', 'C', 'I', 'I', 'F', 'Y', 'T', 'Y', 'F', 'I', 'Y', 'S', 'H', 'H', 'S', 'L', 'R', 'H', 'C', 'N', 'D', 'I', 'L', 'V', 'S', 'G', 'F', 'P', 'T', 'I', 'S', 'P', 'L', 'L', 'L', 'T', 'F', 'R', 'D', 'P', 'K', 'G', 'P', 'C', 'S', 'V', 'F', 'F', 'N', 'C']\n"
          ],
          "name": "stdout"
        }
      ]
    }
  ]
}