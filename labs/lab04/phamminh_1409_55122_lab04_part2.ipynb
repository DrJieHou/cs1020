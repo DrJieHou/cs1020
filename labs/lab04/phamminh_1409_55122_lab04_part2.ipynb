{
  "nbformat": 4,
  "nbformat_minor": 0,
  "metadata": {
    "colab": {
      "name": "lab04_part2.ipynb",
      "provenance": [],
      "collapsed_sections": []
    },
    "kernelspec": {
      "name": "python3",
      "display_name": "Python 3"
    }
  },
  "cells": [
    {
      "cell_type": "code",
      "metadata": {
        "id": "57jRjXugsVot",
        "colab_type": "code",
        "colab": {}
      },
      "source": [
        "#Given Sequencce\n",
        "given_seq= \"GGTCAGAAAAAGCCCTCTCCATGTCTACTCACGATACATCCCTGAAAACCACTGAGGAAGTGGCTTTTCAGATCATCTTGCTTTGCCAGTTTGGGGTTGGGACTTTTGCCAATGTATTTCTCTTTGTCTATAATTTCTCTCCAATCTCGACTGGTTCTAAACAGAGGCCCAGACAAGTGATTTTAAGACACATGGCTGTGGCCAATGCCTTAACTCTCTTCCTCACTATATTTCCAAACAACATGATGACTTTTGCTCCAATTATTCCTCAAACTGACCTCAAATGTAAATTAGAATTCTTCACTCGCCTCGTGGCAAGAAGCACAAACTTGTGTTCAACTTGTGTTCTGAGTATCCATCAGTTTGTCACACTTGTTCCTGTTAATTCAGGTAAAGGAATACTCAGAGCAAGTGTCACAAACATGGCAAGTTATTCTTGTTACAGTTGTTGGTTCTTCAGTGTCTTAAATAACATCTACATTCCAATTAAGGTCACTGGTCCACAGTTAACAGACAATAACAATAACTCTAAAAGCAAGTTGTTCTGTTCCACTTCTGATTTCAGTGTAGGCATTGTCTTCTTGAGGTTTGCCCATGATGCCACATTCATGAGCATCATGGTCTGGACCAGTGTCTCCATGGTACTTCTCCTCCATAGACATTGTCAGAGAATGCAGTACATATTCACTCTCAATCAGGACCCCAGGGGCCAAGCAGAGACCACAGCAACCCATACTATCCTGATGCTGGTAGTCACATTTGTTGGCTTTTATCTTCTAAGTCTTATTTGTATCATCTTTTACACCTATTTTATATATTCTCATCATTCCCTGAGGCATTGCAATGACATTTTGGTTTCGGGTTTCCCTACAATTTCTCCTTTACTGTTGACCTTCAGAGACCCTAAGGGTCCTTGTTCTGTGTTCTTCAACTGTTGAAAGCCAGAGTCACTAAAAATGCCAAACACAGAAGACAGCTTTGCTAATACCATTAAATACTTTATTCCATAAATATGTTTTTAAAAGCTTGTATGAACAAGGTATGGTGCTCACTGCTATACTTATAAAAGAGTAAGGTTATAATCACTTGTTGATATGAAAAGATTTCTGGTTGGAATCTGATTGAAACAGTGAGTTATTCACCACCCTCCATTCTCT\"\n"
      ],
      "execution_count": 8,
      "outputs": []
    },
    {
      "cell_type": "code",
      "metadata": {
        "id": "LiqucZMI2MTj",
        "colab_type": "code",
        "colab": {}
      },
      "source": [
        "#Given Function and Dictionaries\n",
        "def transcribe(seq): \n",
        "  RNA_seq = seq.replace('T', 'U')\n",
        "  ### Define location of start codon (AUG)\n",
        "  start_codon = RNA_seq.find('AUG')\n",
        "  codons = []\n",
        "  for i in range(start_codon, len(RNA_seq), 3): \n",
        "    codon = RNA_seq[i:i + 3]\n",
        "    if len(codon)==3:\n",
        "        codons.append(codon)\n",
        "  return codons\n",
        "\n",
        "translate = { \n",
        "  'UUU':'Phe','UCU':'Ser','UAU':'Tyr','UGU':'Cys',\n",
        "  'UUC':'Phe','UCC':'Ser','UAC':'Tyr','UGC':'Cys',\n",
        "  'UUA':'Leu','UCA':'Ser','UAA':'Stop','UGA':'Stop',\n",
        "  'UUG':'Leu','UCG':'Ser','UAG':'Stop','UGG':'Trp',\n",
        "  'CUU':'Leu','CCU':'Pro','CAU':'His','CGU':'Arg',\n",
        "  'CUC':'Leu','CCC':'Pro','CAC':'His','CGC':'Arg',\n",
        "  'CUA':'Leu','CCA':'Pro','CAA':'Gln','CGA':'Arg',\n",
        "  'CUG':'Leu','CCG':'Pro','CAG':'Gln','CGG':'Arg',\n",
        "  'AUU':'Ile','ACU':'Thr','AAU':'Asn','AGU':'Ser',\n",
        "  'AUC':'Ile','ACC':'Thr','AAC':'Asn','AGC':'Ser',\n",
        "  'AUA':'Ile','ACA':'Thr','AAA':'Lys','AGA':'Arg',\n",
        "  'AUG':'Met','ACG':'Thr','AAG':'Lys','AGG':'Arg',\n",
        "  'GUU':'Val','GCU':'Ala','GAU':'Asp','GGU':'Gly',\n",
        "  'GUC':'Val','GCC':'Ala','GAC':'Asp','GGC':'Gly',\n",
        "  'GUA':'Val','GCA':'Ala','GAA':'Glu','GGA':'Gly',\n",
        "  'GUG':'Val','GCG':'Ala','GAG':'Glu','GGG':'Gly'\n",
        "}\n",
        "\n",
        "\n",
        "AA_mapping = {\n",
        "    'Ala':'A', 'Arg':'R','Asn':'N',\n",
        "    'Asp':'D', 'Cys':'C','Gln':'Q',\n",
        "    'Glu':'E', 'Gly':'G','His':'H',\n",
        "    'Ile':'I', 'Leu':'L','Lys':'K',\n",
        "    'Met':'M', 'Phe':'F','Pro':'P',\n",
        "    'Ser':'S', 'Thr':'T','Trp':'W',\n",
        "    'Tyr':'Y','Val':'V'\n",
        "}\n",
        "\n"
      ],
      "execution_count": 4,
      "outputs": []
    },
    {
      "cell_type": "code",
      "metadata": {
        "id": "3bhKDPQ3xwQo",
        "colab_type": "code",
        "colab": {}
      },
      "source": [
        "# Part 1: Step-wise process:"
      ],
      "execution_count": 9,
      "outputs": []
    },
    {
      "cell_type": "code",
      "metadata": {
        "id": "xOmY2ZYP2NFh",
        "colab_type": "code",
        "colab": {
          "base_uri": "https://localhost:8080/",
          "height": 54
        },
        "outputId": "f1d7b839-be3c-40cd-cbc2-1f0d7fd26122"
      },
      "source": [
        "# 1.1 Coding for Transcription:\n",
        "mRNA= transcribe(given_seq)\n",
        "print (mRNA)\n"
      ],
      "execution_count": 10,
      "outputs": [
        {
          "output_type": "stream",
          "text": [
            "['AUG', 'UCU', 'ACU', 'CAC', 'GAU', 'ACA', 'UCC', 'CUG', 'AAA', 'ACC', 'ACU', 'GAG', 'GAA', 'GUG', 'GCU', 'UUU', 'CAG', 'AUC', 'AUC', 'UUG', 'CUU', 'UGC', 'CAG', 'UUU', 'GGG', 'GUU', 'GGG', 'ACU', 'UUU', 'GCC', 'AAU', 'GUA', 'UUU', 'CUC', 'UUU', 'GUC', 'UAU', 'AAU', 'UUC', 'UCU', 'CCA', 'AUC', 'UCG', 'ACU', 'GGU', 'UCU', 'AAA', 'CAG', 'AGG', 'CCC', 'AGA', 'CAA', 'GUG', 'AUU', 'UUA', 'AGA', 'CAC', 'AUG', 'GCU', 'GUG', 'GCC', 'AAU', 'GCC', 'UUA', 'ACU', 'CUC', 'UUC', 'CUC', 'ACU', 'AUA', 'UUU', 'CCA', 'AAC', 'AAC', 'AUG', 'AUG', 'ACU', 'UUU', 'GCU', 'CCA', 'AUU', 'AUU', 'CCU', 'CAA', 'ACU', 'GAC', 'CUC', 'AAA', 'UGU', 'AAA', 'UUA', 'GAA', 'UUC', 'UUC', 'ACU', 'CGC', 'CUC', 'GUG', 'GCA', 'AGA', 'AGC', 'ACA', 'AAC', 'UUG', 'UGU', 'UCA', 'ACU', 'UGU', 'GUU', 'CUG', 'AGU', 'AUC', 'CAU', 'CAG', 'UUU', 'GUC', 'ACA', 'CUU', 'GUU', 'CCU', 'GUU', 'AAU', 'UCA', 'GGU', 'AAA', 'GGA', 'AUA', 'CUC', 'AGA', 'GCA', 'AGU', 'GUC', 'ACA', 'AAC', 'AUG', 'GCA', 'AGU', 'UAU', 'UCU', 'UGU', 'UAC', 'AGU', 'UGU', 'UGG', 'UUC', 'UUC', 'AGU', 'GUC', 'UUA', 'AAU', 'AAC', 'AUC', 'UAC', 'AUU', 'CCA', 'AUU', 'AAG', 'GUC', 'ACU', 'GGU', 'CCA', 'CAG', 'UUA', 'ACA', 'GAC', 'AAU', 'AAC', 'AAU', 'AAC', 'UCU', 'AAA', 'AGC', 'AAG', 'UUG', 'UUC', 'UGU', 'UCC', 'ACU', 'UCU', 'GAU', 'UUC', 'AGU', 'GUA', 'GGC', 'AUU', 'GUC', 'UUC', 'UUG', 'AGG', 'UUU', 'GCC', 'CAU', 'GAU', 'GCC', 'ACA', 'UUC', 'AUG', 'AGC', 'AUC', 'AUG', 'GUC', 'UGG', 'ACC', 'AGU', 'GUC', 'UCC', 'AUG', 'GUA', 'CUU', 'CUC', 'CUC', 'CAU', 'AGA', 'CAU', 'UGU', 'CAG', 'AGA', 'AUG', 'CAG', 'UAC', 'AUA', 'UUC', 'ACU', 'CUC', 'AAU', 'CAG', 'GAC', 'CCC', 'AGG', 'GGC', 'CAA', 'GCA', 'GAG', 'ACC', 'ACA', 'GCA', 'ACC', 'CAU', 'ACU', 'AUC', 'CUG', 'AUG', 'CUG', 'GUA', 'GUC', 'ACA', 'UUU', 'GUU', 'GGC', 'UUU', 'UAU', 'CUU', 'CUA', 'AGU', 'CUU', 'AUU', 'UGU', 'AUC', 'AUC', 'UUU', 'UAC', 'ACC', 'UAU', 'UUU', 'AUA', 'UAU', 'UCU', 'CAU', 'CAU', 'UCC', 'CUG', 'AGG', 'CAU', 'UGC', 'AAU', 'GAC', 'AUU', 'UUG', 'GUU', 'UCG', 'GGU', 'UUC', 'CCU', 'ACA', 'AUU', 'UCU', 'CCU', 'UUA', 'CUG', 'UUG', 'ACC', 'UUC', 'AGA', 'GAC', 'CCU', 'AAG', 'GGU', 'CCU', 'UGU', 'UCU', 'GUG', 'UUC', 'UUC', 'AAC', 'UGU', 'UGA', 'AAG', 'CCA', 'GAG', 'UCA', 'CUA', 'AAA', 'AUG', 'CCA', 'AAC', 'ACA', 'GAA', 'GAC', 'AGC', 'UUU', 'GCU', 'AAU', 'ACC', 'AUU', 'AAA', 'UAC', 'UUU', 'AUU', 'CCA', 'UAA', 'AUA', 'UGU', 'UUU', 'UAA', 'AAG', 'CUU', 'GUA', 'UGA', 'ACA', 'AGG', 'UAU', 'GGU', 'GCU', 'CAC', 'UGC', 'UAU', 'ACU', 'UAU', 'AAA', 'AGA', 'GUA', 'AGG', 'UUA', 'UAA', 'UCA', 'CUU', 'GUU', 'GAU', 'AUG', 'AAA', 'AGA', 'UUU', 'CUG', 'GUU', 'GGA', 'AUC', 'UGA', 'UUG', 'AAA', 'CAG', 'UGA', 'GUU', 'AUU', 'CAC', 'CAC', 'CCU', 'CCA', 'UUC', 'UCU']\n"
          ],
          "name": "stdout"
        }
      ]
    },
    {
      "cell_type": "code",
      "metadata": {
        "id": "N99280LD5m-M",
        "colab_type": "code",
        "colab": {
          "base_uri": "https://localhost:8080/",
          "height": 71
        },
        "outputId": "acfc9ad3-bfde-404b-d5e4-dc97e6bda628"
      },
      "source": [
        "# 1.2a - Adding values by matching using return command to stop the function\n",
        "# Coding for Transcription first time to 3 letters amino acid:\n",
        "def translation_1(RNA):\n",
        "  aa =[]\n",
        "  for i in range (0,len(RNA)):\n",
        "    for key, value in translate.items():\n",
        "      if RNA[i] == key:\n",
        "        if RNA[i]!='UAA' and RNA[i]!='UGA'and RNA[i]!='UAG':\n",
        "          aa.append(value)\n",
        "        else:\n",
        "          return (aa)\n",
        "  \n",
        "\n",
        "three_letters_protein = translation_1(mRNA)\n",
        "print (three_letters_protein)\n",
        "len(three_letters_protein)\n"
      ],
      "execution_count": 11,
      "outputs": [
        {
          "output_type": "stream",
          "text": [
            "['Met', 'Ser', 'Thr', 'His', 'Asp', 'Thr', 'Ser', 'Leu', 'Lys', 'Thr', 'Thr', 'Glu', 'Glu', 'Val', 'Ala', 'Phe', 'Gln', 'Ile', 'Ile', 'Leu', 'Leu', 'Cys', 'Gln', 'Phe', 'Gly', 'Val', 'Gly', 'Thr', 'Phe', 'Ala', 'Asn', 'Val', 'Phe', 'Leu', 'Phe', 'Val', 'Tyr', 'Asn', 'Phe', 'Ser', 'Pro', 'Ile', 'Ser', 'Thr', 'Gly', 'Ser', 'Lys', 'Gln', 'Arg', 'Pro', 'Arg', 'Gln', 'Val', 'Ile', 'Leu', 'Arg', 'His', 'Met', 'Ala', 'Val', 'Ala', 'Asn', 'Ala', 'Leu', 'Thr', 'Leu', 'Phe', 'Leu', 'Thr', 'Ile', 'Phe', 'Pro', 'Asn', 'Asn', 'Met', 'Met', 'Thr', 'Phe', 'Ala', 'Pro', 'Ile', 'Ile', 'Pro', 'Gln', 'Thr', 'Asp', 'Leu', 'Lys', 'Cys', 'Lys', 'Leu', 'Glu', 'Phe', 'Phe', 'Thr', 'Arg', 'Leu', 'Val', 'Ala', 'Arg', 'Ser', 'Thr', 'Asn', 'Leu', 'Cys', 'Ser', 'Thr', 'Cys', 'Val', 'Leu', 'Ser', 'Ile', 'His', 'Gln', 'Phe', 'Val', 'Thr', 'Leu', 'Val', 'Pro', 'Val', 'Asn', 'Ser', 'Gly', 'Lys', 'Gly', 'Ile', 'Leu', 'Arg', 'Ala', 'Ser', 'Val', 'Thr', 'Asn', 'Met', 'Ala', 'Ser', 'Tyr', 'Ser', 'Cys', 'Tyr', 'Ser', 'Cys', 'Trp', 'Phe', 'Phe', 'Ser', 'Val', 'Leu', 'Asn', 'Asn', 'Ile', 'Tyr', 'Ile', 'Pro', 'Ile', 'Lys', 'Val', 'Thr', 'Gly', 'Pro', 'Gln', 'Leu', 'Thr', 'Asp', 'Asn', 'Asn', 'Asn', 'Asn', 'Ser', 'Lys', 'Ser', 'Lys', 'Leu', 'Phe', 'Cys', 'Ser', 'Thr', 'Ser', 'Asp', 'Phe', 'Ser', 'Val', 'Gly', 'Ile', 'Val', 'Phe', 'Leu', 'Arg', 'Phe', 'Ala', 'His', 'Asp', 'Ala', 'Thr', 'Phe', 'Met', 'Ser', 'Ile', 'Met', 'Val', 'Trp', 'Thr', 'Ser', 'Val', 'Ser', 'Met', 'Val', 'Leu', 'Leu', 'Leu', 'His', 'Arg', 'His', 'Cys', 'Gln', 'Arg', 'Met', 'Gln', 'Tyr', 'Ile', 'Phe', 'Thr', 'Leu', 'Asn', 'Gln', 'Asp', 'Pro', 'Arg', 'Gly', 'Gln', 'Ala', 'Glu', 'Thr', 'Thr', 'Ala', 'Thr', 'His', 'Thr', 'Ile', 'Leu', 'Met', 'Leu', 'Val', 'Val', 'Thr', 'Phe', 'Val', 'Gly', 'Phe', 'Tyr', 'Leu', 'Leu', 'Ser', 'Leu', 'Ile', 'Cys', 'Ile', 'Ile', 'Phe', 'Tyr', 'Thr', 'Tyr', 'Phe', 'Ile', 'Tyr', 'Ser', 'His', 'His', 'Ser', 'Leu', 'Arg', 'His', 'Cys', 'Asn', 'Asp', 'Ile', 'Leu', 'Val', 'Ser', 'Gly', 'Phe', 'Pro', 'Thr', 'Ile', 'Ser', 'Pro', 'Leu', 'Leu', 'Leu', 'Thr', 'Phe', 'Arg', 'Asp', 'Pro', 'Lys', 'Gly', 'Pro', 'Cys', 'Ser', 'Val', 'Phe', 'Phe', 'Asn', 'Cys']\n"
          ],
          "name": "stdout"
        },
        {
          "output_type": "execute_result",
          "data": {
            "text/plain": [
              "305"
            ]
          },
          "metadata": {
            "tags": []
          },
          "execution_count": 11
        }
      ]
    },
    {
      "cell_type": "code",
      "metadata": {
        "colab_type": "code",
        "id": "y8gedGPJyjNF",
        "colab": {
          "base_uri": "https://localhost:8080/",
          "height": 71
        },
        "outputId": "72e1cf41-9aa8-4908-f969-4d3b77aca6e6"
      },
      "source": [
        "# 1.2b Adding values by matching using command break to stop the function\n",
        "# Coding for Transcription first time to 3 letters amino acid:\n",
        "def translation_1(RNA):\n",
        "  aa =[]\n",
        "  for i in range (0,len(RNA)):\n",
        "    if RNA[i] =='UAA' or RNA[i]=='UGA'or RNA[i] =='UAG':\n",
        "      break\n",
        "    for key, value in translate.items():\n",
        "      if RNA[i] == key:\n",
        "          aa.append(value)\n",
        "  return (aa)\n",
        "  \n",
        "\n",
        "three_letters_protein = translation_1(mRNA)\n",
        "print (three_letters_protein)\n",
        "len(three_letters_protein)\n"
      ],
      "execution_count": 12,
      "outputs": [
        {
          "output_type": "stream",
          "text": [
            "['Met', 'Ser', 'Thr', 'His', 'Asp', 'Thr', 'Ser', 'Leu', 'Lys', 'Thr', 'Thr', 'Glu', 'Glu', 'Val', 'Ala', 'Phe', 'Gln', 'Ile', 'Ile', 'Leu', 'Leu', 'Cys', 'Gln', 'Phe', 'Gly', 'Val', 'Gly', 'Thr', 'Phe', 'Ala', 'Asn', 'Val', 'Phe', 'Leu', 'Phe', 'Val', 'Tyr', 'Asn', 'Phe', 'Ser', 'Pro', 'Ile', 'Ser', 'Thr', 'Gly', 'Ser', 'Lys', 'Gln', 'Arg', 'Pro', 'Arg', 'Gln', 'Val', 'Ile', 'Leu', 'Arg', 'His', 'Met', 'Ala', 'Val', 'Ala', 'Asn', 'Ala', 'Leu', 'Thr', 'Leu', 'Phe', 'Leu', 'Thr', 'Ile', 'Phe', 'Pro', 'Asn', 'Asn', 'Met', 'Met', 'Thr', 'Phe', 'Ala', 'Pro', 'Ile', 'Ile', 'Pro', 'Gln', 'Thr', 'Asp', 'Leu', 'Lys', 'Cys', 'Lys', 'Leu', 'Glu', 'Phe', 'Phe', 'Thr', 'Arg', 'Leu', 'Val', 'Ala', 'Arg', 'Ser', 'Thr', 'Asn', 'Leu', 'Cys', 'Ser', 'Thr', 'Cys', 'Val', 'Leu', 'Ser', 'Ile', 'His', 'Gln', 'Phe', 'Val', 'Thr', 'Leu', 'Val', 'Pro', 'Val', 'Asn', 'Ser', 'Gly', 'Lys', 'Gly', 'Ile', 'Leu', 'Arg', 'Ala', 'Ser', 'Val', 'Thr', 'Asn', 'Met', 'Ala', 'Ser', 'Tyr', 'Ser', 'Cys', 'Tyr', 'Ser', 'Cys', 'Trp', 'Phe', 'Phe', 'Ser', 'Val', 'Leu', 'Asn', 'Asn', 'Ile', 'Tyr', 'Ile', 'Pro', 'Ile', 'Lys', 'Val', 'Thr', 'Gly', 'Pro', 'Gln', 'Leu', 'Thr', 'Asp', 'Asn', 'Asn', 'Asn', 'Asn', 'Ser', 'Lys', 'Ser', 'Lys', 'Leu', 'Phe', 'Cys', 'Ser', 'Thr', 'Ser', 'Asp', 'Phe', 'Ser', 'Val', 'Gly', 'Ile', 'Val', 'Phe', 'Leu', 'Arg', 'Phe', 'Ala', 'His', 'Asp', 'Ala', 'Thr', 'Phe', 'Met', 'Ser', 'Ile', 'Met', 'Val', 'Trp', 'Thr', 'Ser', 'Val', 'Ser', 'Met', 'Val', 'Leu', 'Leu', 'Leu', 'His', 'Arg', 'His', 'Cys', 'Gln', 'Arg', 'Met', 'Gln', 'Tyr', 'Ile', 'Phe', 'Thr', 'Leu', 'Asn', 'Gln', 'Asp', 'Pro', 'Arg', 'Gly', 'Gln', 'Ala', 'Glu', 'Thr', 'Thr', 'Ala', 'Thr', 'His', 'Thr', 'Ile', 'Leu', 'Met', 'Leu', 'Val', 'Val', 'Thr', 'Phe', 'Val', 'Gly', 'Phe', 'Tyr', 'Leu', 'Leu', 'Ser', 'Leu', 'Ile', 'Cys', 'Ile', 'Ile', 'Phe', 'Tyr', 'Thr', 'Tyr', 'Phe', 'Ile', 'Tyr', 'Ser', 'His', 'His', 'Ser', 'Leu', 'Arg', 'His', 'Cys', 'Asn', 'Asp', 'Ile', 'Leu', 'Val', 'Ser', 'Gly', 'Phe', 'Pro', 'Thr', 'Ile', 'Ser', 'Pro', 'Leu', 'Leu', 'Leu', 'Thr', 'Phe', 'Arg', 'Asp', 'Pro', 'Lys', 'Gly', 'Pro', 'Cys', 'Ser', 'Val', 'Phe', 'Phe', 'Asn', 'Cys']\n"
          ],
          "name": "stdout"
        },
        {
          "output_type": "execute_result",
          "data": {
            "text/plain": [
              "305"
            ]
          },
          "metadata": {
            "tags": []
          },
          "execution_count": 12
        }
      ]
    },
    {
      "cell_type": "code",
      "metadata": {
        "colab_type": "code",
        "id": "acrsAxaWuC9k",
        "colab": {
          "base_uri": "https://localhost:8080/",
          "height": 71
        },
        "outputId": "84f7ea78-c534-47c3-9e01-c70e6eabb664"
      },
      "source": [
        "# 1.2c Adding values by seting up a specific range using min of a list to give to a variable\n",
        "# Coding for Transcription first time to 3 letters amino acid:\n",
        "def translation_1(RNA):\n",
        "  aa=[]\n",
        "  n1=float('inf')\n",
        "  n2=float('inf')\n",
        "  n3=float('inf')\n",
        "  if ('UGA' in RNA) == True:\n",
        "    n1 = RNA.index('UGA')\n",
        "  if ('UAA' in RNA) == True:\n",
        "    n2 = RNA.index('UAA')\n",
        "  if ('UAG' in RNA) == True:\n",
        "    n3 = RNA.index ('UAG')\n",
        "  stop = [n1,n2,n3]\n",
        "  stop_point= min(stop)\n",
        "  for i in range(0,stop_point):\n",
        "    for key, value in translate.items():\n",
        "      if RNA[i] == key:\n",
        "        aa.append(value)\n",
        "  return (aa) \n",
        "three_letters_protein = translation_1(mRNA)\n",
        "print (three_letters_protein)\n",
        "len(three_letters_protein)"
      ],
      "execution_count": 13,
      "outputs": [
        {
          "output_type": "stream",
          "text": [
            "['Met', 'Ser', 'Thr', 'His', 'Asp', 'Thr', 'Ser', 'Leu', 'Lys', 'Thr', 'Thr', 'Glu', 'Glu', 'Val', 'Ala', 'Phe', 'Gln', 'Ile', 'Ile', 'Leu', 'Leu', 'Cys', 'Gln', 'Phe', 'Gly', 'Val', 'Gly', 'Thr', 'Phe', 'Ala', 'Asn', 'Val', 'Phe', 'Leu', 'Phe', 'Val', 'Tyr', 'Asn', 'Phe', 'Ser', 'Pro', 'Ile', 'Ser', 'Thr', 'Gly', 'Ser', 'Lys', 'Gln', 'Arg', 'Pro', 'Arg', 'Gln', 'Val', 'Ile', 'Leu', 'Arg', 'His', 'Met', 'Ala', 'Val', 'Ala', 'Asn', 'Ala', 'Leu', 'Thr', 'Leu', 'Phe', 'Leu', 'Thr', 'Ile', 'Phe', 'Pro', 'Asn', 'Asn', 'Met', 'Met', 'Thr', 'Phe', 'Ala', 'Pro', 'Ile', 'Ile', 'Pro', 'Gln', 'Thr', 'Asp', 'Leu', 'Lys', 'Cys', 'Lys', 'Leu', 'Glu', 'Phe', 'Phe', 'Thr', 'Arg', 'Leu', 'Val', 'Ala', 'Arg', 'Ser', 'Thr', 'Asn', 'Leu', 'Cys', 'Ser', 'Thr', 'Cys', 'Val', 'Leu', 'Ser', 'Ile', 'His', 'Gln', 'Phe', 'Val', 'Thr', 'Leu', 'Val', 'Pro', 'Val', 'Asn', 'Ser', 'Gly', 'Lys', 'Gly', 'Ile', 'Leu', 'Arg', 'Ala', 'Ser', 'Val', 'Thr', 'Asn', 'Met', 'Ala', 'Ser', 'Tyr', 'Ser', 'Cys', 'Tyr', 'Ser', 'Cys', 'Trp', 'Phe', 'Phe', 'Ser', 'Val', 'Leu', 'Asn', 'Asn', 'Ile', 'Tyr', 'Ile', 'Pro', 'Ile', 'Lys', 'Val', 'Thr', 'Gly', 'Pro', 'Gln', 'Leu', 'Thr', 'Asp', 'Asn', 'Asn', 'Asn', 'Asn', 'Ser', 'Lys', 'Ser', 'Lys', 'Leu', 'Phe', 'Cys', 'Ser', 'Thr', 'Ser', 'Asp', 'Phe', 'Ser', 'Val', 'Gly', 'Ile', 'Val', 'Phe', 'Leu', 'Arg', 'Phe', 'Ala', 'His', 'Asp', 'Ala', 'Thr', 'Phe', 'Met', 'Ser', 'Ile', 'Met', 'Val', 'Trp', 'Thr', 'Ser', 'Val', 'Ser', 'Met', 'Val', 'Leu', 'Leu', 'Leu', 'His', 'Arg', 'His', 'Cys', 'Gln', 'Arg', 'Met', 'Gln', 'Tyr', 'Ile', 'Phe', 'Thr', 'Leu', 'Asn', 'Gln', 'Asp', 'Pro', 'Arg', 'Gly', 'Gln', 'Ala', 'Glu', 'Thr', 'Thr', 'Ala', 'Thr', 'His', 'Thr', 'Ile', 'Leu', 'Met', 'Leu', 'Val', 'Val', 'Thr', 'Phe', 'Val', 'Gly', 'Phe', 'Tyr', 'Leu', 'Leu', 'Ser', 'Leu', 'Ile', 'Cys', 'Ile', 'Ile', 'Phe', 'Tyr', 'Thr', 'Tyr', 'Phe', 'Ile', 'Tyr', 'Ser', 'His', 'His', 'Ser', 'Leu', 'Arg', 'His', 'Cys', 'Asn', 'Asp', 'Ile', 'Leu', 'Val', 'Ser', 'Gly', 'Phe', 'Pro', 'Thr', 'Ile', 'Ser', 'Pro', 'Leu', 'Leu', 'Leu', 'Thr', 'Phe', 'Arg', 'Asp', 'Pro', 'Lys', 'Gly', 'Pro', 'Cys', 'Ser', 'Val', 'Phe', 'Phe', 'Asn', 'Cys']\n"
          ],
          "name": "stdout"
        },
        {
          "output_type": "execute_result",
          "data": {
            "text/plain": [
              "305"
            ]
          },
          "metadata": {
            "tags": []
          },
          "execution_count": 13
        }
      ]
    },
    {
      "cell_type": "code",
      "metadata": {
        "colab_type": "code",
        "id": "LrCZAWeG1f4e",
        "colab": {
          "base_uri": "https://localhost:8080/",
          "height": 71
        },
        "outputId": "f75d1c56-c61d-467a-e911-72625249da51"
      },
      "source": [
        "# 1.2d Adding values by seting up a specific range using min of a list \n",
        "# Coding for Transcription first time to 3 letters amino acid:\n",
        "def translation_1(RNA):\n",
        "  aa=[]\n",
        "  stop =[]\n",
        "  if ('UGA' in RNA) == True:\n",
        "    stop.append(RNA.index('UGA'))\n",
        "  if ('UAA' in RNA) == True:\n",
        "    stop.append(RNA.index('UAA'))\n",
        "  if ('UAG' in RNA) == True:\n",
        "    stop.append(RNA.index('UAG'))\n",
        "  for i in range(0,min(stop)):\n",
        "    for key, value in translate.items():\n",
        "      if RNA[i] == key:\n",
        "        aa.append(value)\n",
        "  return (aa) \n",
        "three_letters_protein = translation_1(mRNA)\n",
        "print (three_letters_protein)\n",
        "len(three_letters_protein)\n",
        "#Note: \n",
        "# Return it stops the whole function \n",
        "# A in B  function, B will be evaluated first before A, Thus the situation above with RNA == True --> False for the whole if function:"
      ],
      "execution_count": 14,
      "outputs": [
        {
          "output_type": "stream",
          "text": [
            "['Met', 'Ser', 'Thr', 'His', 'Asp', 'Thr', 'Ser', 'Leu', 'Lys', 'Thr', 'Thr', 'Glu', 'Glu', 'Val', 'Ala', 'Phe', 'Gln', 'Ile', 'Ile', 'Leu', 'Leu', 'Cys', 'Gln', 'Phe', 'Gly', 'Val', 'Gly', 'Thr', 'Phe', 'Ala', 'Asn', 'Val', 'Phe', 'Leu', 'Phe', 'Val', 'Tyr', 'Asn', 'Phe', 'Ser', 'Pro', 'Ile', 'Ser', 'Thr', 'Gly', 'Ser', 'Lys', 'Gln', 'Arg', 'Pro', 'Arg', 'Gln', 'Val', 'Ile', 'Leu', 'Arg', 'His', 'Met', 'Ala', 'Val', 'Ala', 'Asn', 'Ala', 'Leu', 'Thr', 'Leu', 'Phe', 'Leu', 'Thr', 'Ile', 'Phe', 'Pro', 'Asn', 'Asn', 'Met', 'Met', 'Thr', 'Phe', 'Ala', 'Pro', 'Ile', 'Ile', 'Pro', 'Gln', 'Thr', 'Asp', 'Leu', 'Lys', 'Cys', 'Lys', 'Leu', 'Glu', 'Phe', 'Phe', 'Thr', 'Arg', 'Leu', 'Val', 'Ala', 'Arg', 'Ser', 'Thr', 'Asn', 'Leu', 'Cys', 'Ser', 'Thr', 'Cys', 'Val', 'Leu', 'Ser', 'Ile', 'His', 'Gln', 'Phe', 'Val', 'Thr', 'Leu', 'Val', 'Pro', 'Val', 'Asn', 'Ser', 'Gly', 'Lys', 'Gly', 'Ile', 'Leu', 'Arg', 'Ala', 'Ser', 'Val', 'Thr', 'Asn', 'Met', 'Ala', 'Ser', 'Tyr', 'Ser', 'Cys', 'Tyr', 'Ser', 'Cys', 'Trp', 'Phe', 'Phe', 'Ser', 'Val', 'Leu', 'Asn', 'Asn', 'Ile', 'Tyr', 'Ile', 'Pro', 'Ile', 'Lys', 'Val', 'Thr', 'Gly', 'Pro', 'Gln', 'Leu', 'Thr', 'Asp', 'Asn', 'Asn', 'Asn', 'Asn', 'Ser', 'Lys', 'Ser', 'Lys', 'Leu', 'Phe', 'Cys', 'Ser', 'Thr', 'Ser', 'Asp', 'Phe', 'Ser', 'Val', 'Gly', 'Ile', 'Val', 'Phe', 'Leu', 'Arg', 'Phe', 'Ala', 'His', 'Asp', 'Ala', 'Thr', 'Phe', 'Met', 'Ser', 'Ile', 'Met', 'Val', 'Trp', 'Thr', 'Ser', 'Val', 'Ser', 'Met', 'Val', 'Leu', 'Leu', 'Leu', 'His', 'Arg', 'His', 'Cys', 'Gln', 'Arg', 'Met', 'Gln', 'Tyr', 'Ile', 'Phe', 'Thr', 'Leu', 'Asn', 'Gln', 'Asp', 'Pro', 'Arg', 'Gly', 'Gln', 'Ala', 'Glu', 'Thr', 'Thr', 'Ala', 'Thr', 'His', 'Thr', 'Ile', 'Leu', 'Met', 'Leu', 'Val', 'Val', 'Thr', 'Phe', 'Val', 'Gly', 'Phe', 'Tyr', 'Leu', 'Leu', 'Ser', 'Leu', 'Ile', 'Cys', 'Ile', 'Ile', 'Phe', 'Tyr', 'Thr', 'Tyr', 'Phe', 'Ile', 'Tyr', 'Ser', 'His', 'His', 'Ser', 'Leu', 'Arg', 'His', 'Cys', 'Asn', 'Asp', 'Ile', 'Leu', 'Val', 'Ser', 'Gly', 'Phe', 'Pro', 'Thr', 'Ile', 'Ser', 'Pro', 'Leu', 'Leu', 'Leu', 'Thr', 'Phe', 'Arg', 'Asp', 'Pro', 'Lys', 'Gly', 'Pro', 'Cys', 'Ser', 'Val', 'Phe', 'Phe', 'Asn', 'Cys']\n"
          ],
          "name": "stdout"
        },
        {
          "output_type": "execute_result",
          "data": {
            "text/plain": [
              "305"
            ]
          },
          "metadata": {
            "tags": []
          },
          "execution_count": 14
        }
      ]
    },
    {
      "cell_type": "code",
      "metadata": {
        "colab_type": "code",
        "id": "HHfytGgd5xT_",
        "colab": {
          "base_uri": "https://localhost:8080/",
          "height": 54
        },
        "outputId": "d1c0fd43-928f-4453-b4af-b3edac534699"
      },
      "source": [
        "# 1.3 Coding for Transcription second time to 1 letter amino acid:\n",
        "def translation_2(protein):\n",
        "  a =''\n",
        "  for ii in protein:\n",
        "    for key, value in AA_mapping.items():\n",
        "      if ii == key:\n",
        "        a = a + value\n",
        "  return (a)\n",
        "\n",
        "one_letter_protein = translation_2(three_letters_protein)\n",
        "print (one_letter_protein)\n"
      ],
      "execution_count": 15,
      "outputs": [
        {
          "output_type": "stream",
          "text": [
            "MSTHDTSLKTTEEVAFQIILLCQFGVGTFANVFLFVYNFSPISTGSKQRPRQVILRHMAVANALTLFLTIFPNNMMTFAPIIPQTDLKCKLEFFTRLVARSTNLCSTCVLSIHQFVTLVPVNSGKGILRASVTNMASYSCYSCWFFSVLNNIYIPIKVTGPQLTDNNNNSKSKLFCSTSDFSVGIVFLRFAHDATFMSIMVWTSVSMVLLLHRHCQRMQYIFTLNQDPRGQAETTATHTILMLVVTFVGFYLLSLICIIFYTYFIYSHHSLRHCNDILVSGFPTISPLLLTFRDPKGPCSVFFNC\n"
          ],
          "name": "stdout"
        }
      ]
    },
    {
      "cell_type": "code",
      "metadata": {
        "id": "SdzsAm3tzJ4v",
        "colab_type": "code",
        "colab": {}
      },
      "source": [
        "# Part 2: Combine the step-wise into one step:"
      ],
      "execution_count": null,
      "outputs": []
    },
    {
      "cell_type": "code",
      "metadata": {
        "colab_type": "code",
        "id": "Ag9FshAu2pce",
        "colab": {
          "base_uri": "https://localhost:8080/",
          "height": 54
        },
        "outputId": "09c35768-8e9e-4be7-994d-1bdd5c5b2f40"
      },
      "source": [
        "# 2.1 Making the greater function going straight from transcription to translation based on 1.2a and 1.2b\n",
        "\n",
        "def translation(DNA_seq):\n",
        "  mRNA= transcribe(DNA_seq)\n",
        "  one_letter=''\n",
        "  for n in range (0, len(mRNA)):\n",
        "    if mRNA[n] =='UAA' or mRNA[n]=='UGA'or mRNA[n] =='UAG':\n",
        "      break\n",
        "    for key1, three_letter in translate.items():\n",
        "      if mRNA[n] == key1:\n",
        "        for key2, value2 in AA_mapping.items():\n",
        "          if three_letter == key2:\n",
        "            one_letter = one_letter + value2\n",
        "  return (one_letter)\n",
        "\n",
        "protein_seq= translation(given_seq)\n",
        "print (protein_seq)\n"
      ],
      "execution_count": 16,
      "outputs": [
        {
          "output_type": "stream",
          "text": [
            "MSTHDTSLKTTEEVAFQIILLCQFGVGTFANVFLFVYNFSPISTGSKQRPRQVILRHMAVANALTLFLTIFPNNMMTFAPIIPQTDLKCKLEFFTRLVARSTNLCSTCVLSIHQFVTLVPVNSGKGILRASVTNMASYSCYSCWFFSVLNNIYIPIKVTGPQLTDNNNNSKSKLFCSTSDFSVGIVFLRFAHDATFMSIMVWTSVSMVLLLHRHCQRMQYIFTLNQDPRGQAETTATHTILMLVVTFVGFYLLSLICIIFYTYFIYSHHSLRHCNDILVSGFPTISPLLLTFRDPKGPCSVFFNC\n"
          ],
          "name": "stdout"
        }
      ]
    },
    {
      "cell_type": "code",
      "metadata": {
        "colab_type": "code",
        "id": "01b1JARLhF33",
        "colab": {
          "base_uri": "https://localhost:8080/",
          "height": 54
        },
        "outputId": "0447b90d-1f96-4413-cd86-9de0d69de676"
      },
      "source": [
        "# 2.1 Making the greater function going straight from transcription to translation based on 1.2c and 1.2d\n",
        "\n",
        "def translation(DNA_seq):\n",
        "  mRNA= transcribe(DNA_seq)\n",
        "  one_letter=''\n",
        "  stop =[]\n",
        "  if ('UGA' in mRNA) == True:\n",
        "    stop.append(mRNA.index('UGA'))\n",
        "  if ('UAA' in mRNA) == True:\n",
        "    stop.append(mRNA.index('UAA'))\n",
        "  if ('UAG' in mRNA) == True:\n",
        "    stop.append(mRNA.index('UAG'))\n",
        "  for n in range(0,min(stop)):\n",
        "    for key1, three_letter in translate.items():\n",
        "      if mRNA[n] == key1:\n",
        "        for key2, value2 in AA_mapping.items():\n",
        "          if three_letter == key2:\n",
        "            one_letter = one_letter + value2\n",
        "  return (one_letter)\n",
        "\n",
        "protein_seq= translation(given_seq)\n",
        "print (protein_seq)\n"
      ],
      "execution_count": 17,
      "outputs": [
        {
          "output_type": "stream",
          "text": [
            "MSTHDTSLKTTEEVAFQIILLCQFGVGTFANVFLFVYNFSPISTGSKQRPRQVILRHMAVANALTLFLTIFPNNMMTFAPIIPQTDLKCKLEFFTRLVARSTNLCSTCVLSIHQFVTLVPVNSGKGILRASVTNMASYSCYSCWFFSVLNNIYIPIKVTGPQLTDNNNNSKSKLFCSTSDFSVGIVFLRFAHDATFMSIMVWTSVSMVLLLHRHCQRMQYIFTLNQDPRGQAETTATHTILMLVVTFVGFYLLSLICIIFYTYFIYSHHSLRHCNDILVSGFPTISPLLLTFRDPKGPCSVFFNC\n"
          ],
          "name": "stdout"
        }
      ]
    },
    {
      "cell_type": "code",
      "metadata": {
        "colab_type": "code",
        "id": "uP2ZcMfL3T5W",
        "colab": {
          "base_uri": "https://localhost:8080/",
          "height": 54
        },
        "outputId": "58063c88-14fc-4284-90f6-da0e696251e0"
      },
      "source": [
        "# 2.2 Making the greater function based on calling values from matching keys--value, credited: Dr. Jie Hou\n",
        "\n",
        "def translation(DNA_seq):\n",
        "  mRNA= transcribe(DNA_seq)\n",
        "  one_letter=''\n",
        "\n",
        "  for codon in mRNA:\n",
        "    if codon =='UAA' or codon=='UGA'or codon =='UAG':\n",
        "      return one_letter\n",
        "    one_letter = one_letter +  AA_mapping[translate[codon]]\n",
        "  return (one_letter)\n",
        "\n",
        "protein_seq= translation(given_seq)\n",
        "print (protein_seq)\n",
        "#Note: \n",
        "# += means add self by self ; *= multiply self; /= divide self\n",
        "# AA_mapping[translate[codon]] call upon the value from the key within"
      ],
      "execution_count": 18,
      "outputs": [
        {
          "output_type": "stream",
          "text": [
            "MSTHDTSLKTTEEVAFQIILLCQFGVGTFANVFLFVYNFSPISTGSKQRPRQVILRHMAVANALTLFLTIFPNNMMTFAPIIPQTDLKCKLEFFTRLVARSTNLCSTCVLSIHQFVTLVPVNSGKGILRASVTNMASYSCYSCWFFSVLNNIYIPIKVTGPQLTDNNNNSKSKLFCSTSDFSVGIVFLRFAHDATFMSIMVWTSVSMVLLLHRHCQRMQYIFTLNQDPRGQAETTATHTILMLVVTFVGFYLLSLICIIFYTYFIYSHHSLRHCNDILVSGFPTISPLLLTFRDPKGPCSVFFNC\n"
          ],
          "name": "stdout"
        }
      ]
    },
    {
      "cell_type": "code",
      "metadata": {
        "colab_type": "code",
        "id": "qpUvdgcTGeCL",
        "colab": {
          "base_uri": "https://localhost:8080/",
          "height": 187
        },
        "outputId": "d429e322-4afc-4e93-d1eb-50af5036208b"
      },
      "source": [
        "# Note: To improve the error below. Instead of working on two different list, we can narrow it down to one list and work on it. The best way to \n",
        "# think about this is that instead of producing turn all A to B and stores all the B then turn all the B to C. We can turn all A to B to C without storing\n",
        "# the B in between. Once done, we can then just store the C. This saves much more time! Furthermore, we can attribute this problem to the fact that the two \n",
        "# given dictionaries had one's values match with the other key, so it make this process much easier! \n",
        "\n",
        "\n",
        "# Note: The code is below is incorrect\n",
        "\n",
        "#def translation(DNA_seq):\n",
        "#  mRNA= transcribe(DNA_seq)\n",
        "#  three_letter =[]\n",
        "#  one_letter=''\n",
        "#  for n in range (0, len(mRNA)):\n",
        "#    found = 0\n",
        "#    for key, value in translate.items():\n",
        "#      if mRNA[n] == key:\n",
        "#        found =1\n",
        "#        if found ==1:\n",
        "#         three_letter.append(value)\n",
        "#      elif DNA_seq[n] != key:\n",
        "#        for aaa in three_letter:\n",
        "#          for key, value in AA_mapping.items():\n",
        "#            if aaa == key:\n",
        "#              one_letter = one_letter + value\n",
        "#  return (one_letter)\n",
        "\n",
        "#protein_seq= translation(given_seq)\n",
        "#print (protein_seq)\n"
      ],
      "execution_count": null,
      "outputs": [
        {
          "output_type": "stream",
          "text": [
            "IOPub data rate exceeded.\n",
            "The notebook server will temporarily stop sending output\n",
            "to the client in order to avoid crashing it.\n",
            "To change this limit, set the config variable\n",
            "`--NotebookApp.iopub_data_rate_limit`.\n",
            "\n",
            "Current values:\n",
            "NotebookApp.iopub_data_rate_limit=1000000.0 (bytes/sec)\n",
            "NotebookApp.rate_limit_window=3.0 (secs)\n",
            "\n"
          ],
          "name": "stderr"
        }
      ]
    }
  ]
}