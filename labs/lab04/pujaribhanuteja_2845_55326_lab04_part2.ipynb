{
  "nbformat": 4,
  "nbformat_minor": 0,
  "metadata": {
    "colab": {
      "name": "lab04_part2.ipynb",
      "provenance": [],
      "collapsed_sections": []
    },
    "kernelspec": {
      "name": "python3",
      "display_name": "Python 3"
    }
  },
  "cells": [
    {
      "cell_type": "code",
      "metadata": {
        "id": "e9HZvqCiotMu",
        "colab_type": "code",
        "colab": {}
      },
      "source": [
        "# >NM_207618.2 Mus musculus vomeronasal 1 receptor, D18 (V1rd18), mRNA\n",
        "DNA = 'GGTCAGAAAAAGCCCTCTCCATGTCTACTCACGATACATCCCTGAAAACCACTGAGGAAGTGGCTTTTCAGATCATCTTGCTTTGCCAGTTTGGGGTTGGGACTTTTGCCAATGTATTTCTCTTTGTCTATAATTTCTCTCCAATCTCGACTGGTTCTAAACAGAGGCCCAGACAAGTGATTTTAAGACACATGGCTGTGGCCAATGCCTTAACTCTCTTCCTCACTATATTTCCAAACAACATGATGACTTTTGCTCCAATTATTCCTCAAACTGACCTCAAATGTAAATTAGAATTCTTCACTCGCCTCGTGGCAAGAAGCACAAACTTGTGTTCAACTTGTGTTCTGAGTATCCATCAGTTTGTCACACTTGTTCCTGTTAATTCAGGTAAAGGAATACTCAGAGCAAGTGTCACAAACATGGCAAGTTATTCTTGTTACAGTTGTTGGTTCTTCAGTGTCTTAAATAACATCTACATTCCAATTAAGGTCACTGGTCCACAGTTAACAGACAATAACAATAACTCTAAAAGCAAGTTGTTCTGTTCCACTTCTGATTTCAGTGTAGGCATTGTCTTCTTGAGGTTTGCCCATGATGCCACATTCATGAGCATCATGGTCTGGACCAGTGTCTCCATGGTACTTCTCCTCCATAGACATTGTCAGAGAATGCAGTACATATTCACTCTCAATCAGGACCCCAGGGGCCAAGCAGAGACCACAGCAACCCATACTATCCTGATGCTGGTAGTCACATTTGTTGGCTTTTATCTTCTAAGTCTTATTTGTATCATCTTTTACACCTATTTTATATATTCTCATCATTCCCTGAGGCATTGCAATGACATTTTGGTTTCGGGTTTCCCTACAATTTCTCCTTTACTGTTGACCTTCAGAGACCCTAAGGGTCCTTGTTCTGTGTTCTTCAACTGTTGAAAGCCAGAGTCACTAAAAATGCCAAACACAGAAGACAGCTTTGCTAATACCATTAAATACTTTATTCCATAAATATGTTTTTAAAAGCTTGTATGAACAAGGTATGGTGCTCACTGCTATACTTATAAAAGAGTAAGGTTATAATCACTTGTTGATATGAAAAGATTTCTGGTTGGAATCTGATTGAAACAGTGAGTTATTCACCACCCTCCATTCTCT'"
      ],
      "execution_count": 10,
      "outputs": []
    },
    {
      "cell_type": "code",
      "metadata": {
        "id": "FA_AeUEklOm-",
        "colab_type": "code",
        "colab": {
          "base_uri": "https://localhost:8080/",
          "height": 34
        },
        "outputId": "94102fad-ce83-46ad-bf95-95778edba60d"
      },
      "source": [
        "len(DNA)"
      ],
      "execution_count": 7,
      "outputs": [
        {
          "output_type": "execute_result",
          "data": {
            "text/plain": [
              "1157"
            ]
          },
          "metadata": {
            "tags": []
          },
          "execution_count": 7
        }
      ]
    },
    {
      "cell_type": "code",
      "metadata": {
        "id": "lWmiLp_BpgBh",
        "colab_type": "code",
        "colab": {}
      },
      "source": [
        "####################################################################################### \n",
        "# (1) define transcribe function to get a list of three-letter mRNA codons from DNA sequence \n",
        "#######################################################################################\n",
        "def transcribe(seq): \n",
        "  RNA_seq = seq.replace('T', 'U')\n",
        "  ### Define location of start codon (AUG)\n",
        "  start_codon = RNA_seq.find('AUG')\n",
        "  codons = []\n",
        "  for i in range(start_codon, len(RNA_seq), 3): \n",
        "    codon = RNA_seq[i:i + 3]\n",
        "    if len(codon)==3:\n",
        "        codons.append(codon)\n",
        "  return codons\n",
        "\n",
        "####################################################################################### \n",
        "# (2) define dictionary to translate three-letter mRNA to three-letter amino acid here \n",
        "#######################################################################################\n",
        "translate = { \n",
        "  'UUU':'Phe','UCU':'Ser','UAU':'Tyr','UGU':'Cys',\n",
        "  'UUC':'Phe','UCC':'Ser','UAC':'Tyr','UGC':'Cys',\n",
        "  'UUA':'Leu','UCA':'Ser','UAA':'Stop','UGA':'Stop',\n",
        "  'UUG':'Leu','UCG':'Ser','UAG':'Stop','UGG':'Trp',\n",
        "  'CUU':'Leu','CCU':'Pro','CAU':'His','CGU':'Arg',\n",
        "  'CUC':'Leu','CCC':'Pro','CAC':'His','CGC':'Arg',\n",
        "  'CUA':'Leu','CCA':'Pro','CAA':'Gln','CGA':'Arg',\n",
        "  'CUG':'Leu','CCG':'Pro','CAG':'Gln','CGG':'Arg',\n",
        "  'AUU':'Ile','ACU':'Thr','AAU':'Asn','AGU':'Ser',\n",
        "  'AUC':'Ile','ACC':'Thr','AAC':'Asn','AGC':'Ser',\n",
        "  'AUA':'Ile','ACA':'Thr','AAA':'Lys','AGA':'Arg',\n",
        "  'AUG':'Met','ACG':'Thr','AAG':'Lys','AGG':'Arg',\n",
        "  'GUU':'Val','GCU':'Ala','GAU':'Asp','GGU':'Gly',\n",
        "  'GUC':'Val','GCC':'Ala','GAC':'Asp','GGC':'Gly',\n",
        "  'GUA':'Val','GCA':'Ala','GAA':'Glu','GGA':'Gly',\n",
        "  'GUG':'Val','GCG':'Ala','GAG':'Glu','GGG':'Gly'\n",
        "}\n",
        "\n",
        "\n",
        "#######################################################################################\n",
        "# (3) define dictionary to map three-letter amino acid to one-letter amino acid here\n",
        "#######################################################################################\n",
        "AA_mapping = {\n",
        "    'Ala':'A', 'Arg':'R','Asn':'N',\n",
        "    'Asp':'D', 'Cys':'C','Gln':'Q',\n",
        "    'Glu':'E', 'Gly':'G','His':'H',\n",
        "    'Ile':'I', 'Leu':'L','Lys':'K',\n",
        "    'Met':'M', 'Phe':'F','Pro':'P',\n",
        "    'Ser':'S', 'Thr':'T','Trp':'W',\n",
        "    'Tyr':'Y','Val':'V'\n",
        "}"
      ],
      "execution_count": 12,
      "outputs": []
    },
    {
      "cell_type": "code",
      "metadata": {
        "id": "biatxz6mlGp-",
        "colab_type": "code",
        "colab": {
          "base_uri": "https://localhost:8080/",
          "height": 71
        },
        "outputId": "aa686e42-8d70-464b-a153-3701bb6c8faa"
      },
      "source": [
        "mRNA = transcribe(DNA)\n",
        "print(mRNA)\n",
        "len(mRNA)"
      ],
      "execution_count": 13,
      "outputs": [
        {
          "output_type": "stream",
          "text": [
            "['AUG', 'UCU', 'ACU', 'CAC', 'GAU', 'ACA', 'UCC', 'CUG', 'AAA', 'ACC', 'ACU', 'GAG', 'GAA', 'GUG', 'GCU', 'UUU', 'CAG', 'AUC', 'AUC', 'UUG', 'CUU', 'UGC', 'CAG', 'UUU', 'GGG', 'GUU', 'GGG', 'ACU', 'UUU', 'GCC', 'AAU', 'GUA', 'UUU', 'CUC', 'UUU', 'GUC', 'UAU', 'AAU', 'UUC', 'UCU', 'CCA', 'AUC', 'UCG', 'ACU', 'GGU', 'UCU', 'AAA', 'CAG', 'AGG', 'CCC', 'AGA', 'CAA', 'GUG', 'AUU', 'UUA', 'AGA', 'CAC', 'AUG', 'GCU', 'GUG', 'GCC', 'AAU', 'GCC', 'UUA', 'ACU', 'CUC', 'UUC', 'CUC', 'ACU', 'AUA', 'UUU', 'CCA', 'AAC', 'AAC', 'AUG', 'AUG', 'ACU', 'UUU', 'GCU', 'CCA', 'AUU', 'AUU', 'CCU', 'CAA', 'ACU', 'GAC', 'CUC', 'AAA', 'UGU', 'AAA', 'UUA', 'GAA', 'UUC', 'UUC', 'ACU', 'CGC', 'CUC', 'GUG', 'GCA', 'AGA', 'AGC', 'ACA', 'AAC', 'UUG', 'UGU', 'UCA', 'ACU', 'UGU', 'GUU', 'CUG', 'AGU', 'AUC', 'CAU', 'CAG', 'UUU', 'GUC', 'ACA', 'CUU', 'GUU', 'CCU', 'GUU', 'AAU', 'UCA', 'GGU', 'AAA', 'GGA', 'AUA', 'CUC', 'AGA', 'GCA', 'AGU', 'GUC', 'ACA', 'AAC', 'AUG', 'GCA', 'AGU', 'UAU', 'UCU', 'UGU', 'UAC', 'AGU', 'UGU', 'UGG', 'UUC', 'UUC', 'AGU', 'GUC', 'UUA', 'AAU', 'AAC', 'AUC', 'UAC', 'AUU', 'CCA', 'AUU', 'AAG', 'GUC', 'ACU', 'GGU', 'CCA', 'CAG', 'UUA', 'ACA', 'GAC', 'AAU', 'AAC', 'AAU', 'AAC', 'UCU', 'AAA', 'AGC', 'AAG', 'UUG', 'UUC', 'UGU', 'UCC', 'ACU', 'UCU', 'GAU', 'UUC', 'AGU', 'GUA', 'GGC', 'AUU', 'GUC', 'UUC', 'UUG', 'AGG', 'UUU', 'GCC', 'CAU', 'GAU', 'GCC', 'ACA', 'UUC', 'AUG', 'AGC', 'AUC', 'AUG', 'GUC', 'UGG', 'ACC', 'AGU', 'GUC', 'UCC', 'AUG', 'GUA', 'CUU', 'CUC', 'CUC', 'CAU', 'AGA', 'CAU', 'UGU', 'CAG', 'AGA', 'AUG', 'CAG', 'UAC', 'AUA', 'UUC', 'ACU', 'CUC', 'AAU', 'CAG', 'GAC', 'CCC', 'AGG', 'GGC', 'CAA', 'GCA', 'GAG', 'ACC', 'ACA', 'GCA', 'ACC', 'CAU', 'ACU', 'AUC', 'CUG', 'AUG', 'CUG', 'GUA', 'GUC', 'ACA', 'UUU', 'GUU', 'GGC', 'UUU', 'UAU', 'CUU', 'CUA', 'AGU', 'CUU', 'AUU', 'UGU', 'AUC', 'AUC', 'UUU', 'UAC', 'ACC', 'UAU', 'UUU', 'AUA', 'UAU', 'UCU', 'CAU', 'CAU', 'UCC', 'CUG', 'AGG', 'CAU', 'UGC', 'AAU', 'GAC', 'AUU', 'UUG', 'GUU', 'UCG', 'GGU', 'UUC', 'CCU', 'ACA', 'AUU', 'UCU', 'CCU', 'UUA', 'CUG', 'UUG', 'ACC', 'UUC', 'AGA', 'GAC', 'CCU', 'AAG', 'GGU', 'CCU', 'UGU', 'UCU', 'GUG', 'UUC', 'UUC', 'AAC', 'UGU', 'UGA', 'AAG', 'CCA', 'GAG', 'UCA', 'CUA', 'AAA', 'AUG', 'CCA', 'AAC', 'ACA', 'GAA', 'GAC', 'AGC', 'UUU', 'GCU', 'AAU', 'ACC', 'AUU', 'AAA', 'UAC', 'UUU', 'AUU', 'CCA', 'UAA', 'AUA', 'UGU', 'UUU', 'UAA', 'AAG', 'CUU', 'GUA', 'UGA', 'ACA', 'AGG', 'UAU', 'GGU', 'GCU', 'CAC', 'UGC', 'UAU', 'ACU', 'UAU', 'AAA', 'AGA', 'GUA', 'AGG', 'UUA', 'UAA', 'UCA', 'CUU', 'GUU', 'GAU', 'AUG', 'AAA', 'AGA', 'UUU', 'CUG', 'GUU', 'GGA', 'AUC', 'UGA', 'UUG', 'AAA', 'CAG', 'UGA', 'GUU', 'AUU', 'CAC', 'CAC', 'CCU', 'CCA', 'UUC', 'UCU']\n"
          ],
          "name": "stdout"
        },
        {
          "output_type": "execute_result",
          "data": {
            "text/plain": [
              "379"
            ]
          },
          "metadata": {
            "tags": []
          },
          "execution_count": 13
        }
      ]
    },
    {
      "cell_type": "code",
      "metadata": {
        "id": "LoGz-PxklS2M",
        "colab_type": "code",
        "colab": {}
      },
      "source": [
        "def translation(RNA): \n",
        "  AA = []\n",
        "  for codon in RNA: \n",
        "    for key, value in translate.items():\n",
        "      if codon == key: \n",
        "        if value == 'Stop':\n",
        "          return (AA)\n",
        "        AA.append (value)\n",
        "  return (AA)"
      ],
      "execution_count": 14,
      "outputs": []
    },
    {
      "cell_type": "code",
      "metadata": {
        "id": "ar2p3c7Ynl80",
        "colab_type": "code",
        "colab": {
          "base_uri": "https://localhost:8080/",
          "height": 71
        },
        "outputId": "c64d412d-4ef2-407c-ba4f-7ebe48f7b4af"
      },
      "source": [
        "three_letter_protein = translation(mRNA)\n",
        "print(three_letter_protein)\n",
        "len(three_letter_protein)"
      ],
      "execution_count": 15,
      "outputs": [
        {
          "output_type": "stream",
          "text": [
            "['Met', 'Ser', 'Thr', 'His', 'Asp', 'Thr', 'Ser', 'Leu', 'Lys', 'Thr', 'Thr', 'Glu', 'Glu', 'Val', 'Ala', 'Phe', 'Gln', 'Ile', 'Ile', 'Leu', 'Leu', 'Cys', 'Gln', 'Phe', 'Gly', 'Val', 'Gly', 'Thr', 'Phe', 'Ala', 'Asn', 'Val', 'Phe', 'Leu', 'Phe', 'Val', 'Tyr', 'Asn', 'Phe', 'Ser', 'Pro', 'Ile', 'Ser', 'Thr', 'Gly', 'Ser', 'Lys', 'Gln', 'Arg', 'Pro', 'Arg', 'Gln', 'Val', 'Ile', 'Leu', 'Arg', 'His', 'Met', 'Ala', 'Val', 'Ala', 'Asn', 'Ala', 'Leu', 'Thr', 'Leu', 'Phe', 'Leu', 'Thr', 'Ile', 'Phe', 'Pro', 'Asn', 'Asn', 'Met', 'Met', 'Thr', 'Phe', 'Ala', 'Pro', 'Ile', 'Ile', 'Pro', 'Gln', 'Thr', 'Asp', 'Leu', 'Lys', 'Cys', 'Lys', 'Leu', 'Glu', 'Phe', 'Phe', 'Thr', 'Arg', 'Leu', 'Val', 'Ala', 'Arg', 'Ser', 'Thr', 'Asn', 'Leu', 'Cys', 'Ser', 'Thr', 'Cys', 'Val', 'Leu', 'Ser', 'Ile', 'His', 'Gln', 'Phe', 'Val', 'Thr', 'Leu', 'Val', 'Pro', 'Val', 'Asn', 'Ser', 'Gly', 'Lys', 'Gly', 'Ile', 'Leu', 'Arg', 'Ala', 'Ser', 'Val', 'Thr', 'Asn', 'Met', 'Ala', 'Ser', 'Tyr', 'Ser', 'Cys', 'Tyr', 'Ser', 'Cys', 'Trp', 'Phe', 'Phe', 'Ser', 'Val', 'Leu', 'Asn', 'Asn', 'Ile', 'Tyr', 'Ile', 'Pro', 'Ile', 'Lys', 'Val', 'Thr', 'Gly', 'Pro', 'Gln', 'Leu', 'Thr', 'Asp', 'Asn', 'Asn', 'Asn', 'Asn', 'Ser', 'Lys', 'Ser', 'Lys', 'Leu', 'Phe', 'Cys', 'Ser', 'Thr', 'Ser', 'Asp', 'Phe', 'Ser', 'Val', 'Gly', 'Ile', 'Val', 'Phe', 'Leu', 'Arg', 'Phe', 'Ala', 'His', 'Asp', 'Ala', 'Thr', 'Phe', 'Met', 'Ser', 'Ile', 'Met', 'Val', 'Trp', 'Thr', 'Ser', 'Val', 'Ser', 'Met', 'Val', 'Leu', 'Leu', 'Leu', 'His', 'Arg', 'His', 'Cys', 'Gln', 'Arg', 'Met', 'Gln', 'Tyr', 'Ile', 'Phe', 'Thr', 'Leu', 'Asn', 'Gln', 'Asp', 'Pro', 'Arg', 'Gly', 'Gln', 'Ala', 'Glu', 'Thr', 'Thr', 'Ala', 'Thr', 'His', 'Thr', 'Ile', 'Leu', 'Met', 'Leu', 'Val', 'Val', 'Thr', 'Phe', 'Val', 'Gly', 'Phe', 'Tyr', 'Leu', 'Leu', 'Ser', 'Leu', 'Ile', 'Cys', 'Ile', 'Ile', 'Phe', 'Tyr', 'Thr', 'Tyr', 'Phe', 'Ile', 'Tyr', 'Ser', 'His', 'His', 'Ser', 'Leu', 'Arg', 'His', 'Cys', 'Asn', 'Asp', 'Ile', 'Leu', 'Val', 'Ser', 'Gly', 'Phe', 'Pro', 'Thr', 'Ile', 'Ser', 'Pro', 'Leu', 'Leu', 'Leu', 'Thr', 'Phe', 'Arg', 'Asp', 'Pro', 'Lys', 'Gly', 'Pro', 'Cys', 'Ser', 'Val', 'Phe', 'Phe', 'Asn', 'Cys']\n"
          ],
          "name": "stdout"
        },
        {
          "output_type": "execute_result",
          "data": {
            "text/plain": [
              "305"
            ]
          },
          "metadata": {
            "tags": []
          },
          "execution_count": 15
        }
      ]
    },
    {
      "cell_type": "code",
      "metadata": {
        "id": "83mtgtC0mlZu",
        "colab_type": "code",
        "colab": {}
      },
      "source": [
        "def translation_2(protein):\n",
        "  A = ''\n",
        "  for x in protein:\n",
        "    for key, value in AA_mapping.items():\n",
        "      if x == key:\n",
        "        A = A + value\n",
        "  return (A)"
      ],
      "execution_count": 16,
      "outputs": []
    },
    {
      "cell_type": "code",
      "metadata": {
        "id": "AfiRqYK1nDaZ",
        "colab_type": "code",
        "colab": {
          "base_uri": "https://localhost:8080/",
          "height": 54
        },
        "outputId": "8472648e-f070-4d71-edc0-11f705369193"
      },
      "source": [
        "final_protein_seq = translation_2 (three_letter_protein)\n",
        "print(final_protein_seq)"
      ],
      "execution_count": 17,
      "outputs": [
        {
          "output_type": "stream",
          "text": [
            "MSTHDTSLKTTEEVAFQIILLCQFGVGTFANVFLFVYNFSPISTGSKQRPRQVILRHMAVANALTLFLTIFPNNMMTFAPIIPQTDLKCKLEFFTRLVARSTNLCSTCVLSIHQFVTLVPVNSGKGILRASVTNMASYSCYSCWFFSVLNNIYIPIKVTGPQLTDNNNNSKSKLFCSTSDFSVGIVFLRFAHDATFMSIMVWTSVSMVLLLHRHCQRMQYIFTLNQDPRGQAETTATHTILMLVVTFVGFYLLSLICIIFYTYFIYSHHSLRHCNDILVSGFPTISPLLLTFRDPKGPCSVFFNC\n"
          ],
          "name": "stdout"
        }
      ]
    },
    {
      "cell_type": "code",
      "metadata": {
        "id": "60KtlSHqVMHg",
        "colab_type": "code",
        "colab": {
          "base_uri": "https://localhost:8080/",
          "height": 34
        },
        "outputId": "47318812-bbfa-440f-b34f-52f4d5a29a0d"
      },
      "source": [
        "len(final_protein_seq)"
      ],
      "execution_count": 18,
      "outputs": [
        {
          "output_type": "execute_result",
          "data": {
            "text/plain": [
              "305"
            ]
          },
          "metadata": {
            "tags": []
          },
          "execution_count": 18
        }
      ]
    },
    {
      "cell_type": "code",
      "metadata": {
        "id": "AatvOzAFVXh2",
        "colab_type": "code",
        "colab": {}
      },
      "source": [
        ""
      ],
      "execution_count": null,
      "outputs": []
    }
  ]
}