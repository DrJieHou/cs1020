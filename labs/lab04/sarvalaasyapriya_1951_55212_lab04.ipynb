{
  "nbformat": 4,
  "nbformat_minor": 0,
  "metadata": {
    "colab": {
      "name": "lab04.ipynb",
      "provenance": []
    },
    "kernelspec": {
      "name": "python3",
      "display_name": "Python 3"
    }
  },
  "cells": [
    {
      "cell_type": "code",
      "metadata": {
        "id": "KPGUnfZFllSC",
        "colab_type": "code",
        "colab": {}
      },
      "source": [
        "##1. How many ORFs are you able to find for the following strand? (including possible ORFs in the implicit complementary strand)\n",
        "##TTACCTATGCATGCATAACTGA\n",
        "\n",
        "##There are 4 reading frames in total \n",
        "#Work: \n",
        "  #TTA CCT ATG CAT GCA TAA CTG A \n",
        "   #= UUA CCU **AUG** CAU GCA **UAA** CUG A \n",
        "    #  MET -HIS - ALA - STOP \n",
        "     #   M - H - A (ORF number 1)\n",
        "\n",
        "  #T TAC CTA TGC ATG CAT AAC TGA \n",
        "   # = U UAC CUA UGC AUG CAU AAC UGA \n",
        "    #   = MET HIS AGN STOP \n",
        "     #  = M - H - N (ORF number 2) \n",
        "#\n",
        " # TT ACC TAT GCA TGC ATA ACT GA\n",
        "  #  = NO START CODON \n",
        "## complementary strand: \n",
        "  #UCA GUU AUG CAU GCA UAG GUA A\n",
        "   #= MET - HIS - ALA - STOP \n",
        "    # = M - H - A (ORF number 3) \n",
        "#\n",
        " # U CAG UUA UGC AUG CAU AGG UAA \n",
        "  #  = MET - HIS - ARG - STOP \n",
        "   # = M - H - R (ORF number 4) \n",
        "#\n",
        " # UC AGU UAU GCA UGC AUA GGU AA \n",
        "  #  = NO START CODON \n",
        "\n",
        "##2. Which sequence of DNA bases would pair with this partial strand?\n",
        "#ATG TGA CAG\n",
        "#ANSWER: \n",
        "#TAC ACT GTC\n",
        "\n",
        "\n",
        "\n",
        "##3. What is the correct amino acid sequence for the mRNA code\n",
        "#AUGCCAGUAUGA\n",
        "#AUG CCA GUA UGA \n",
        "#MET - PRO - VAL - STOP \n",
        "\n",
        "#ANSWER: \n",
        "#M-P-V \n",
        "\n"
      ],
      "execution_count": null,
      "outputs": []
    },
    {
      "cell_type": "code",
      "metadata": {
        "id": "o8y3UFkPlgXQ",
        "colab_type": "code",
        "colab": {}
      },
      "source": [
        "##>NM_207618.2 Mus musculus vomeronasal 1 receptor, D18 (V1rd18), mRNA\n",
        "\n",
        "DNA = 'GGTCAGAAAAAGCCCTCTCCATGTCTACTCACGATACATCCCTGAAAACCACTGAGGAAGTGGCTTTTCAGATCATCTTGCTTTGCCAGTTTGGGGTTGGGACTTTTGCCAATGTATTTCTCTTTGTCTATAATTTCTCTCCAATCTCGACTGGTTCTAAACAGAGGCCCAGACAAGTGATTTTAAGACACATGGCTGTGGCCAATGCCTTAACTCTCTTCCTCACTATATTTCCAAACAACATGATGACTTTTGCTCCAATTATTCCTCAAACTGACCTCAAATGTAAATTAGAATTCTTCACTCGCCTCGTGGCAAGAAGCACAAACTTGTGTTCAACTTGTGTTCTGAGTATCCATCAGTTTGTCACACTTGTTCCTGTTAATTCAGGTAAAGGAATACTCAGAGCAAGTGTCACAAACATGGCAAGTTATTCTTGTTACAGTTGTTGGTTCTTCAGTGTCTTAAATAACATCTACATTCCAATTAAGGTCACTGGTCCACAGTTAACAGACAATAACAATAACTCTAAAAGCAAGTTGTTCTGTTCCACTTCTGATTTCAGTGTAGGCATTGTCTTCTTGAGGTTTGCCCATGATGCCACATTCATGAGCATCATGGTCTGGACCAGTGTCTCCATGGTACTTCTCCTCCATAGACATTGTCAGAGAATGCAGTACATATTCACTCTCAATCAGGACCCCAGGGGCCAAGCAGAGACCACAGCAACCCATACTATCCTGATGCTGGTAGTCACATTTGTTGGCTTTTATCTTCTAAGTCTTATTTGTATCATCTTTTACACCTATTTTATATATTCTCATCATTCCCTGAGGCATTGCAATGACATTTTGGTTTCGGGTTTCCCTACAATTTCTCCTTTACTGTTGACCTTCAGAGACCCTAAGGGTCCTTGTTCTGTGTTCTTCAACTGTTGAAAGCCAGAGTCACTAAAAATGCCAAACACAGAAGACAGCTTTGCTAATACCATTAAATACTTTATTCCATAAATATGTTTTTAAAAGCTTGTATGAACAAGGTATGGTGCTCACTGCTATACTTATAAAAGAGTAAGGTTATAATCACTTGTTGATATGAAAAGATTTCTGGTTGGAATCTGATTGAAACAGTGAGTTATTCACCACCCTCCATTCTCT'"
      ],
      "execution_count": 2,
      "outputs": []
    },
    {
      "cell_type": "code",
      "metadata": {
        "id": "ZMya5MnNrwWi",
        "colab_type": "code",
        "colab": {
          "base_uri": "https://localhost:8080/",
          "height": 137
        },
        "outputId": "20fa6de6-1afd-43c3-f90e-730a506de764"
      },
      "source": [
        "DNA"
      ],
      "execution_count": 3,
      "outputs": [
        {
          "output_type": "execute_result",
          "data": {
            "application/vnd.google.colaboratory.intrinsic+json": {
              "type": "string"
            },
            "text/plain": [
              "'GGTCAGAAAAAGCCCTCTCCATGTCTACTCACGATACATCCCTGAAAACCACTGAGGAAGTGGCTTTTCAGATCATCTTGCTTTGCCAGTTTGGGGTTGGGACTTTTGCCAATGTATTTCTCTTTGTCTATAATTTCTCTCCAATCTCGACTGGTTCTAAACAGAGGCCCAGACAAGTGATTTTAAGACACATGGCTGTGGCCAATGCCTTAACTCTCTTCCTCACTATATTTCCAAACAACATGATGACTTTTGCTCCAATTATTCCTCAAACTGACCTCAAATGTAAATTAGAATTCTTCACTCGCCTCGTGGCAAGAAGCACAAACTTGTGTTCAACTTGTGTTCTGAGTATCCATCAGTTTGTCACACTTGTTCCTGTTAATTCAGGTAAAGGAATACTCAGAGCAAGTGTCACAAACATGGCAAGTTATTCTTGTTACAGTTGTTGGTTCTTCAGTGTCTTAAATAACATCTACATTCCAATTAAGGTCACTGGTCCACAGTTAACAGACAATAACAATAACTCTAAAAGCAAGTTGTTCTGTTCCACTTCTGATTTCAGTGTAGGCATTGTCTTCTTGAGGTTTGCCCATGATGCCACATTCATGAGCATCATGGTCTGGACCAGTGTCTCCATGGTACTTCTCCTCCATAGACATTGTCAGAGAATGCAGTACATATTCACTCTCAATCAGGACCCCAGGGGCCAAGCAGAGACCACAGCAACCCATACTATCCTGATGCTGGTAGTCACATTTGTTGGCTTTTATCTTCTAAGTCTTATTTGTATCATCTTTTACACCTATTTTATATATTCTCATCATTCCCTGAGGCATTGCAATGACATTTTGGTTTCGGGTTTCCCTACAATTTCTCCTTTACTGTTGACCTTCAGAGACCCTAAGGGTCCTTGTTCTGTGTTCTTCAACTGTTGAAAGCCAGAGTCACTAAAAATGCCAAACACAGAAGACAGCTTTGCTAATACCATTAAATACTTTATTCCATAAATATGTTTTTAAAAGCTTGTATGAACAAGGTATGGTGCTCACTGCTATACTTATAAAAGAGTAAGGTTATAATCACTTGTTGATATGAAAAGATTTCTGGTTGGAATCTGATTGAAACAGTGAGTTATTCACCACCCTCCATTCTCT'"
            ]
          },
          "metadata": {
            "tags": []
          },
          "execution_count": 3
        }
      ]
    },
    {
      "cell_type": "code",
      "metadata": {
        "id": "1CQsw4gvrye1",
        "colab_type": "code",
        "colab": {}
      },
      "source": [
        "##Question 2: For convenience, we have already provided an implementation of the transcribe function that can give you a list of three-letter mRNA codons from the DNA sequence. We have begun to define the required translate{} dictionary to convert mRNA codons to three-letter amino acids, and AA_mapping{} dictionary to convert three-letter amino acids to one-letter amino acids\n",
        "##The two dictionaries were defined according to the following two tables, and you can directly use them for RNA translation to the Protein sequence.\n",
        "\n",
        "\n",
        "def transcribe(seq): \n",
        "  RNA_seq = seq.replace('T', 'U')\n",
        "  ### Define location of start codon (AUG)\n",
        "  start_codon = RNA_seq.find('AUG')\n",
        "  codons = []\n",
        "  for i in range(start_codon, len(RNA_seq), 3): \n",
        "    codon = RNA_seq[i:i + 3]\n",
        "    if len(codon)==3:\n",
        "        codons.append(codon)\n",
        "  return codons\n",
        "\n",
        "####################################################################################### \n",
        "# (2) define dictionary to translate three-letter mRNA to three-letter amino acid here \n",
        "#######################################################################################\n",
        "translate = { \n",
        "  'UUU':'Phe','UCU':'Ser','UAU':'Tyr','UGU':'Cys',\n",
        "  'UUC':'Phe','UCC':'Ser','UAC':'Tyr','UGC':'Cys',\n",
        "  'UUA':'Leu','UCA':'Ser','UAA':'Stop','UGA':'Stop',\n",
        "  'UUG':'Leu','UCG':'Ser','UAG':'Stop','UGG':'Trp',\n",
        "  'CUU':'Leu','CCU':'Pro','CAU':'His','CGU':'Arg',\n",
        "  'CUC':'Leu','CCC':'Pro','CAC':'His','CGC':'Arg',\n",
        "  'CUA':'Leu','CCA':'Pro','CAA':'Gln','CGA':'Arg',\n",
        "  'CUG':'Leu','CCG':'Pro','CAG':'Gln','CGG':'Arg',\n",
        "  'AUU':'Ile','ACU':'Thr','AAU':'Asn','AGU':'Ser',\n",
        "  'AUC':'Ile','ACC':'Thr','AAC':'Asn','AGC':'Ser',\n",
        "  'AUA':'Ile','ACA':'Thr','AAA':'Lys','AGA':'Arg',\n",
        "  'AUG':'Met','ACG':'Thr','AAG':'Lys','AGG':'Arg',\n",
        "  'GUU':'Val','GCU':'Ala','GAU':'Asp','GGU':'Gly',\n",
        "  'GUC':'Val','GCC':'Ala','GAC':'Asp','GGC':'Gly',\n",
        "  'GUA':'Val','GCA':'Ala','GAA':'Glu','GGA':'Gly',\n",
        "  'GUG':'Val','GCG':'Ala','GAG':'Glu','GGG':'Gly'\n",
        "}\n",
        "\n",
        "#######################################################################################\n",
        "# (3) define dictionary to map three-letter amino acid to one-letter amino acid here\n",
        "#######################################################################################\n",
        "AA_mapping = {'Ala':'A', 'Arg':'R','Asn':'N',\n",
        "    'Asp':'D', 'Cys':'C','Gln':'Q',\n",
        "    'Glu':'E', 'Gly':'G','His':'H',\n",
        "    'Ile':'I', 'Leu':'L','Lys':'K',\n",
        "    'Met':'M', 'Phe':'F','Pro':'P',\n",
        "    'Ser':'S', 'Thr':'T','Trp':'W',\n",
        "    'Tyr':'Y','Val':'V'}\n",
        "\n",
        "def primary_protein_sequence(DNA):  \n",
        "  protein_sequence=''\n",
        "  RNA_seq = transcribe(DNA)\n",
        "  for codons in RNA_seq: \n",
        "    amino_acid=translate[codons]\n",
        "    if amino_acid == 'Stop':\n",
        "      break \n",
        "  \n",
        "    oneletter_amino_acid_sequence=AA_mapping[amino_acid]\n",
        "    protein_sequence = protein_sequence + oneletter_amino_acid_sequence\n",
        "\n",
        "  return (protein_sequence)\n",
        "\n",
        "\n",
        "\n",
        "#print(protein_sequence)\n",
        "  #print(amino_acid)\n",
        "  #print(codons)\n",
        "\n",
        "\n"
      ],
      "execution_count": 22,
      "outputs": []
    },
    {
      "cell_type": "code",
      "metadata": {
        "id": "ynCRfy5ec7es",
        "colab_type": "code",
        "colab": {
          "base_uri": "https://localhost:8080/",
          "height": 69
        },
        "outputId": "e390552f-f2ad-482d-8c2f-99d2b7131000"
      },
      "source": [
        "primary_protein_sequence(DNA)"
      ],
      "execution_count": 23,
      "outputs": [
        {
          "output_type": "execute_result",
          "data": {
            "application/vnd.google.colaboratory.intrinsic+json": {
              "type": "string"
            },
            "text/plain": [
              "'MSTHDTSLKTTEEVAFQIILLCQFGVGTFANVFLFVYNFSPISTGSKQRPRQVILRHMAVANALTLFLTIFPNNMMTFAPIIPQTDLKCKLEFFTRLVARSTNLCSTCVLSIHQFVTLVPVNSGKGILRASVTNMASYSCYSCWFFSVLNNIYIPIKVTGPQLTDNNNNSKSKLFCSTSDFSVGIVFLRFAHDATFMSIMVWTSVSMVLLLHRHCQRMQYIFTLNQDPRGQAETTATHTILMLVVTFVGFYLLSLICIIFYTYFIYSHHSLRHCNDILVSGFPTISPLLLTFRDPKGPCSVFFNC'"
            ]
          },
          "metadata": {
            "tags": []
          },
          "execution_count": 23
        }
      ]
    },
    {
      "cell_type": "markdown",
      "metadata": {
        "id": "7V-2Y25ncSlj",
        "colab_type": "text"
      },
      "source": [
        "While I was able to successfully replace the DNA sequence with RNA codons, I found it difficult to use the dictionary to create an empty string that contained the amino acid sequence. Additionally, I also struggled with writing a function for this process. "
      ]
    }
  ]
}