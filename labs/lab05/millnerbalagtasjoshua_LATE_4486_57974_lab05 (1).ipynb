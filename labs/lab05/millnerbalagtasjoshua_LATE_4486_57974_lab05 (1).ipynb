{
  "nbformat": 4,
  "nbformat_minor": 0,
  "metadata": {
    "colab": {
      "name": "lab05.ipynb",
      "provenance": []
    },
    "kernelspec": {
      "name": "python3",
      "display_name": "Python 3"
    }
  },
  "cells": [
    {
      "cell_type": "code",
      "metadata": {
        "id": "tZHnUsNo9N6c",
        "colab_type": "code",
        "colab": {}
      },
      "source": [
        "translate = { \n",
        "  'UUU':'Phe','UCU':'Ser','UAU':'Tyr','UGU':'Cys',\n",
        "  'UUC':'Phe','UCC':'Ser','UAC':'Tyr','UGC':'Cys',\n",
        "  'UUA':'Leu','UCA':'Ser','UAA':'Stop','UGA':'Stop',\n",
        "  'UUG':'Leu','UCG':'Ser','UAG':'Stop','UGG':'Trp',\n",
        "  'CUU':'Leu','CCU':'Pro','CAU':'His','CGU':'Arg',\n",
        "  'CUC':'Leu','CCC':'Pro','CAC':'His','CGC':'Arg',\n",
        "  'CUA':'Leu','CCA':'Pro','CAA':'Gln','CGA':'Arg',\n",
        "  'CUG':'Leu','CCG':'Pro','CAG':'Gln','CGG':'Arg',\n",
        "  'AUU':'Ile','ACU':'Thr','AAU':'Asn','AGU':'Ser',\n",
        "  'AUC':'Ile','ACC':'Thr','AAC':'Asn','AGC':'Ser',\n",
        "  'AUA':'Ile','ACA':'Thr','AAA':'Lys','AGA':'Arg',\n",
        "  'AUG':'Met','ACG':'Thr','AAG':'Lys','AGG':'Arg',\n",
        "  'GUU':'Val','GCU':'Ala','GAU':'Asp','GGU':'Gly',\n",
        "  'GUC':'Val','GCC':'Ala','GAC':'Asp','GGC':'Gly',\n",
        "  'GUA':'Val','GCA':'Ala','GAA':'Glu','GGA':'Gly',\n",
        "  'GUG':'Val','GCG':'Ala','GAG':'Glu','GGG':'Gly'\n",
        "  }"
      ],
      "execution_count": 22,
      "outputs": []
    },
    {
      "cell_type": "code",
      "metadata": {
        "id": "nwlflrKP9Nzh",
        "colab_type": "code",
        "colab": {}
      },
      "source": [
        "AA_mapping = {\n",
        "    'Ala':'A', 'Arg':'R','Asn':'N',\n",
        "    'Asp':'D', 'Cys':'C','Gln':'Q',\n",
        "    'Glu':'E', 'Gly':'G','His':'H',\n",
        "    'Ile':'I', 'Leu':'L','Lys':'K',\n",
        "    'Met':'M', 'Phe':'F','Pro':'P',\n",
        "    'Ser':'S', 'Thr':'T','Trp':'W',\n",
        "    'Tyr':'Y','Val':'V'\n",
        "}"
      ],
      "execution_count": 31,
      "outputs": []
    },
    {
      "cell_type": "code",
      "metadata": {
        "id": "5bgxnd397pxm",
        "colab_type": "code",
        "colab": {
          "base_uri": "https://localhost:8080/",
          "height": 53
        },
        "outputId": "e63b3962-63bb-4856-af14-11fa35ab9405"
      },
      "source": [
        "def GetAA_seq(seq):\n",
        "\n",
        "  protein_seq = ''\n",
        "\n",
        "  RNA_seq = seq.replace('T', 'U')\n",
        "  start_codon = RNA_seq.find('AUG')\n",
        "\n",
        "  if start_codon == -1:\n",
        "    return protein_seq\n",
        "\n",
        "  codons = []\n",
        "  for i in range(start_codon, len(RNA_seq), 3):\n",
        "    codon = RNA_seq[i:i + 3]\n",
        "    if len(codon)==3:\n",
        "      #codonds.append(codon)\n",
        "\n",
        "      three_letter_aa = translate[codon]\n",
        "\n",
        "      if three_letter_aa == 'Stop':\n",
        "        return protein_seq\n",
        "      one_letter_aa = AA_mapping[three_letter_aa]\n",
        "      #print(one_letter_aa)\n",
        "      protein_seq = protein_seq + one_letter_aa\n",
        "\n",
        "  return protein_seq\n",
        "GetAA_seq(mRNA_codon)"
      ],
      "execution_count": 32,
      "outputs": [
        {
          "output_type": "execute_result",
          "data": {
            "application/vnd.google.colaboratory.intrinsic+json": {
              "type": "string"
            },
            "text/plain": [
              "'MSTHDTSLKTTEEVAFQIILLCQFGVGTFANVFLFVYNFSPISTGSKQRPRQVILRHMAVANALTLFLTIFPNNMMTFAPIIPQTDLKCKLEFFTRLVARSTNLCSTCVLSIHQFVTLVPVNSGKGILRASVTNMASYSCYSCWFFSVLNNIYIPIKVTGPQLTDNNNNSKSKLFCSTSDFSVGIVFLRFAHDATFMSIMVWTSVSMVLLLHRHCQRMQYIFTLNQDPRGQAETTATHTILMLVVTFVGFYLLSLICIIFYTYFIYSHHSLRHCNDILVSGFPTISPLLLTFRDPKGPCSVFFNC'"
            ]
          },
          "metadata": {
            "tags": []
          },
          "execution_count": 32
        }
      ]
    },
    {
      "cell_type": "code",
      "metadata": {
        "id": "13rHVwO47xg2",
        "colab_type": "code",
        "colab": {
          "base_uri": "https://localhost:8080/",
          "height": 36
        },
        "outputId": "aa7f3903-6e97-45c1-862e-d3683860f7e3"
      },
      "source": [
        "test_seq = 'ATGTCTACTCACGATACATCCCTGAAAA' \n",
        "\n",
        "get_protein_from_DNA(test_seq) "
      ],
      "execution_count": 35,
      "outputs": [
        {
          "output_type": "execute_result",
          "data": {
            "application/vnd.google.colaboratory.intrinsic+json": {
              "type": "string"
            },
            "text/plain": [
              "'MSTHDTSLK'"
            ]
          },
          "metadata": {
            "tags": []
          },
          "execution_count": 35
        }
      ]
    },
    {
      "cell_type": "code",
      "metadata": {
        "id": "8a_GphIt-8oc",
        "colab_type": "code",
        "colab": {
          "base_uri": "https://localhost:8080/",
          "height": 284
        },
        "outputId": "d354927e-e812-4492-f9a0-520c189b88fc"
      },
      "source": [
        "!pip install flask-ngrok\n",
        "from flask_ngrok import run_with_ngrok\n",
        "from flask import Flask, request, render_template\n",
        "! mkdir templates"
      ],
      "execution_count": 36,
      "outputs": [
        {
          "output_type": "stream",
          "text": [
            "Collecting flask-ngrok\n",
            "  Downloading https://files.pythonhosted.org/packages/af/6c/f54cb686ad1129e27d125d182f90f52b32f284e6c8df58c1bae54fa1adbc/flask_ngrok-0.0.25-py3-none-any.whl\n",
            "Requirement already satisfied: requests in /usr/local/lib/python3.6/dist-packages (from flask-ngrok) (2.23.0)\n",
            "Requirement already satisfied: Flask>=0.8 in /usr/local/lib/python3.6/dist-packages (from flask-ngrok) (1.1.2)\n",
            "Requirement already satisfied: certifi>=2017.4.17 in /usr/local/lib/python3.6/dist-packages (from requests->flask-ngrok) (2020.6.20)\n",
            "Requirement already satisfied: chardet<4,>=3.0.2 in /usr/local/lib/python3.6/dist-packages (from requests->flask-ngrok) (3.0.4)\n",
            "Requirement already satisfied: urllib3!=1.25.0,!=1.25.1,<1.26,>=1.21.1 in /usr/local/lib/python3.6/dist-packages (from requests->flask-ngrok) (1.24.3)\n",
            "Requirement already satisfied: idna<3,>=2.5 in /usr/local/lib/python3.6/dist-packages (from requests->flask-ngrok) (2.10)\n",
            "Requirement already satisfied: itsdangerous>=0.24 in /usr/local/lib/python3.6/dist-packages (from Flask>=0.8->flask-ngrok) (1.1.0)\n",
            "Requirement already satisfied: Jinja2>=2.10.1 in /usr/local/lib/python3.6/dist-packages (from Flask>=0.8->flask-ngrok) (2.11.2)\n",
            "Requirement already satisfied: click>=5.1 in /usr/local/lib/python3.6/dist-packages (from Flask>=0.8->flask-ngrok) (7.1.2)\n",
            "Requirement already satisfied: Werkzeug>=0.15 in /usr/local/lib/python3.6/dist-packages (from Flask>=0.8->flask-ngrok) (1.0.1)\n",
            "Requirement already satisfied: MarkupSafe>=0.23 in /usr/local/lib/python3.6/dist-packages (from Jinja2>=2.10.1->Flask>=0.8->flask-ngrok) (1.1.1)\n",
            "Installing collected packages: flask-ngrok\n",
            "Successfully installed flask-ngrok-0.0.25\n"
          ],
          "name": "stdout"
        }
      ]
    },
    {
      "cell_type": "code",
      "metadata": {
        "id": "xjnl6Lh8-_KP",
        "colab_type": "code",
        "colab": {
          "base_uri": "https://localhost:8080/",
          "height": 35
        },
        "outputId": "cd6a4078-ff4a-4f0d-e224-43158982f732"
      },
      "source": [
        "%%writefile templates/index.html\n",
        "<!doctype html>\n",
        "<html>\n",
        "    <head><link rel=\"stylesheet\" href=\"https://maxcdn.bootstrapcdn.com/bootstrap/3.3.7/css/bootstrap.min.css\"></head>\n",
        "    <body>\n",
        "        <div class=\"container\">\n",
        "            <h1 style=\"text-align:center;\">CSCI1020: Lab05 ----- Build in-class DNA Translation Tool</h1>\n",
        "\n",
        "            <div  style=\"background-color:powderblue;font-size:20px;text-align:center;width:1100px\">\n",
        "            This is a tool which allows the translation of a nucleotide (DNA) sequence to a protein sequence.\n",
        "            <br>\n",
        "            Reference: <a href=\"https://web.expasy.org/translate/\" target=\"_blank\">Official Online tool</a>\n",
        "            </div>\n",
        "\n",
        "            <h2 style=\"text-align:center;\">Upload your DNA sequence:</h2>\n",
        "            \n",
        "            <form method=\"POST\" enctype=\"multipart/form-data\" style=\"margin: 0 auto; text-align: center;\">\n",
        "                <p><textarea name=\"dna_seq\" cols=\"150\" rows=\"10\"></textarea></p>\n",
        "                <input type=\"submit\" value=\"Translate\" style = \"font-size:30px\">\n",
        "            </form>\n",
        "            \n",
        "            <hr>\n",
        "            {% if dna_seq %}\n",
        "            <h2 style=\"text-align:center;\">Submitted DNA Sequence:</h2>\n",
        "\n",
        "            <p><textarea name=\"dna_seq\" cols=\"150\" rows=\"10\" readonly style=\"display: block;margin-left: auto;margin-right: auto;\">{{ dna_seq }}</textarea></p>\n",
        "            \n",
        "            <h2 style=\"text-align:center;\">Results of Translation:</h2>\n",
        "            <p><textarea cols=\"150\" rows=\"5\" readonly style=\"display: block;margin-left: auto;margin-right: auto;\">{{ protein_seq }}</textarea></p>\n",
        "            {% endif %}\n",
        "\n",
        "        </div>\n",
        "    </body>\n",
        "</html>"
      ],
      "execution_count": 37,
      "outputs": [
        {
          "output_type": "stream",
          "text": [
            "Writing templates/index.html\n"
          ],
          "name": "stdout"
        }
      ]
    },
    {
      "cell_type": "code",
      "metadata": {
        "id": "7RzyV1f-_CIp",
        "colab_type": "code",
        "colab": {
          "base_uri": "https://localhost:8080/",
          "height": 284
        },
        "outputId": "03942ec1-1a37-4267-fb07-d132ac1bdae9"
      },
      "source": [
        "app = Flask(__name__)\n",
        "run_with_ngrok(app)   #starts ngrok when the app is run\n",
        "\n",
        "\n",
        "def home():\n",
        "    return render_template('index.html')\n",
        "\n",
        "@app.route('/', methods=['GET', 'POST'])\n",
        "def index():\n",
        "    if request.method == 'POST':\n",
        "        dna_seq = request.form['dna_seq']\n",
        "        dna_seq = dna_seq.replace('\\n', '').replace('\\r', '').replace(' ', '')\n",
        "        \n",
        "        ''' \n",
        "        Call the function to perform DNA translation\n",
        "        '''\n",
        "        protein_seq = get_protein_from_DNA(dna_seq)\n",
        "\n",
        "        return render_template('index.html',\n",
        "                               dna_seq=dna_seq,\n",
        "                               protein_seq=protein_seq)\n",
        "    else:\n",
        "        return render_template('index.html')\n",
        "\n",
        "app.run() "
      ],
      "execution_count": null,
      "outputs": [
        {
          "output_type": "stream",
          "text": [
            " * Serving Flask app \"__main__\" (lazy loading)\n",
            " * Environment: production\n",
            "\u001b[31m   WARNING: This is a development server. Do not use it in a production deployment.\u001b[0m\n",
            "\u001b[2m   Use a production WSGI server instead.\u001b[0m\n",
            " * Debug mode: off\n"
          ],
          "name": "stdout"
        },
        {
          "output_type": "stream",
          "text": [
            " * Running on http://127.0.0.1:5000/ (Press CTRL+C to quit)\n"
          ],
          "name": "stderr"
        },
        {
          "output_type": "stream",
          "text": [
            " * Running on http://117742b7165d.ngrok.io\n",
            " * Traffic stats available on http://127.0.0.1:4040\n"
          ],
          "name": "stdout"
        },
        {
          "output_type": "stream",
          "text": [
            "127.0.0.1 - - [17/Sep/2020 21:34:02] \"\u001b[37mGET / HTTP/1.1\u001b[0m\" 200 -\n",
            "127.0.0.1 - - [17/Sep/2020 21:34:03] \"\u001b[33mGET /favicon.ico HTTP/1.1\u001b[0m\" 404 -\n",
            "127.0.0.1 - - [17/Sep/2020 21:36:09] \"\u001b[37mPOST / HTTP/1.1\u001b[0m\" 200 -\n",
            "127.0.0.1 - - [17/Sep/2020 21:37:19] \"\u001b[37mPOST / HTTP/1.1\u001b[0m\" 200 -\n",
            "127.0.0.1 - - [17/Sep/2020 21:38:08] \"\u001b[37mPOST / HTTP/1.1\u001b[0m\" 200 -\n",
            "127.0.0.1 - - [17/Sep/2020 21:38:52] \"\u001b[37mPOST / HTTP/1.1\u001b[0m\" 200 -\n",
            "127.0.0.1 - - [17/Sep/2020 21:39:27] \"\u001b[37mPOST / HTTP/1.1\u001b[0m\" 200 -\n"
          ],
          "name": "stderr"
        }
      ]
    }
  ]
}