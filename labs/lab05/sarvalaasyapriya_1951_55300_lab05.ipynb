{
  "nbformat": 4,
  "nbformat_minor": 0,
  "metadata": {
    "colab": {
      "name": "lab05.ipynb",
      "provenance": []
    },
    "kernelspec": {
      "name": "python3",
      "display_name": "Python 3"
    }
  },
  "cells": [
    {
      "cell_type": "code",
      "metadata": {
        "id": "8AlUbDs6hJdg",
        "colab_type": "code",
        "colab": {}
      },
      "source": [
        "def transcribe(seq): \n",
        "  RNA_seq = seq.replace('T', 'U')\n",
        "  ### Define location of start codon (AUG)\n",
        "  start_codon = RNA_seq.find('AUG')\n",
        "  codons = []\n",
        "  for i in range(start_codon, len(RNA_seq), 3): \n",
        "    codon = RNA_seq[i:i + 3]\n",
        "    if len(codon)==3:\n",
        "        codons.append(codon)\n",
        "  return codons\n",
        "\n",
        "####################################################################################### \n",
        "# (2) define dictionary to translate three-letter mRNA to three-letter amino acid here \n",
        "#######################################################################################\n",
        "translate = { \n",
        "  'UUU':'Phe','UCU':'Ser','UAU':'Tyr','UGU':'Cys',\n",
        "  'UUC':'Phe','UCC':'Ser','UAC':'Tyr','UGC':'Cys',\n",
        "  'UUA':'Leu','UCA':'Ser','UAA':'Stop','UGA':'Stop',\n",
        "  'UUG':'Leu','UCG':'Ser','UAG':'Stop','UGG':'Trp',\n",
        "  'CUU':'Leu','CCU':'Pro','CAU':'His','CGU':'Arg',\n",
        "  'CUC':'Leu','CCC':'Pro','CAC':'His','CGC':'Arg',\n",
        "  'CUA':'Leu','CCA':'Pro','CAA':'Gln','CGA':'Arg',\n",
        "  'CUG':'Leu','CCG':'Pro','CAG':'Gln','CGG':'Arg',\n",
        "  'AUU':'Ile','ACU':'Thr','AAU':'Asn','AGU':'Ser',\n",
        "  'AUC':'Ile','ACC':'Thr','AAC':'Asn','AGC':'Ser',\n",
        "  'AUA':'Ile','ACA':'Thr','AAA':'Lys','AGA':'Arg',\n",
        "  'AUG':'Met','ACG':'Thr','AAG':'Lys','AGG':'Arg',\n",
        "  'GUU':'Val','GCU':'Ala','GAU':'Asp','GGU':'Gly',\n",
        "  'GUC':'Val','GCC':'Ala','GAC':'Asp','GGC':'Gly',\n",
        "  'GUA':'Val','GCA':'Ala','GAA':'Glu','GGA':'Gly',\n",
        "  'GUG':'Val','GCG':'Ala','GAG':'Glu','GGG':'Gly'\n",
        "}\n",
        "\n",
        "#######################################################################################\n",
        "# (3) define dictionary to map three-letter amino acid to one-letter amino acid here\n",
        "#######################################################################################\n",
        "AA_mapping = {'Ala':'A', 'Arg':'R','Asn':'N',\n",
        "    'Asp':'D', 'Cys':'C','Gln':'Q',\n",
        "    'Glu':'E', 'Gly':'G','His':'H',\n",
        "    'Ile':'I', 'Leu':'L','Lys':'K',\n",
        "    'Met':'M', 'Phe':'F','Pro':'P',\n",
        "    'Ser':'S', 'Thr':'T','Trp':'W',\n",
        "    'Tyr':'Y','Val':'V'}\n",
        "\n",
        "def get_protein_from_DNA(DNA):  \n",
        "  protein_sequence=''\n",
        "  RNA_seq = transcribe(DNA)\n",
        "  for codons in RNA_seq: \n",
        "    amino_acid=translate[codons]\n",
        "    if amino_acid == 'Stop':\n",
        "      break \n",
        "  \n",
        "    oneletter_amino_acid_sequence=AA_mapping[amino_acid]\n",
        "    protein_sequence = protein_sequence + oneletter_amino_acid_sequence\n",
        "\n",
        "  return (protein_sequence)\n",
        "\n",
        "\n",
        "\n",
        "#print(protein_sequence)\n",
        "  #print(amino_acid)\n",
        "  #print(codons)"
      ],
      "execution_count": 1,
      "outputs": []
    },
    {
      "cell_type": "code",
      "metadata": {
        "id": "DIqHWl9OmtFG",
        "colab_type": "code",
        "colab": {
          "base_uri": "https://localhost:8080/",
          "height": 35
        },
        "outputId": "6979750e-7813-4eb5-93a5-fd802d24bf36"
      },
      "source": [
        "DNA = 'ATGTCTACTCACGATACATCCCTGAAAA' \n",
        "get_protein_from_DNA (DNA)"
      ],
      "execution_count": 2,
      "outputs": [
        {
          "output_type": "execute_result",
          "data": {
            "application/vnd.google.colaboratory.intrinsic+json": {
              "type": "string"
            },
            "text/plain": [
              "'MSTHDTSLK'"
            ]
          },
          "metadata": {
            "tags": []
          },
          "execution_count": 2
        }
      ]
    },
    {
      "cell_type": "code",
      "metadata": {
        "id": "Ad2IszKmnAJf",
        "colab_type": "code",
        "colab": {
          "base_uri": "https://localhost:8080/",
          "height": 258
        },
        "outputId": "a5188da4-8af1-413b-db3c-e6f35a5aee40"
      },
      "source": [
        "'''\n",
        "Do not change codes below.\n",
        "The following codes are used to bring your codes to webpage so that you are able to submit your sequence through website to perform DNA translation task. \n",
        "'''\n",
        "\n",
        "##### web application packages\n",
        "!pip install flask-ngrok\n",
        "from flask_ngrok import run_with_ngrok\n",
        "from flask import Flask, request, render_template\n",
        "! mkdir templates"
      ],
      "execution_count": 6,
      "outputs": [
        {
          "output_type": "stream",
          "text": [
            "Requirement already satisfied: flask-ngrok in /usr/local/lib/python3.6/dist-packages (0.0.25)\n",
            "Requirement already satisfied: Flask>=0.8 in /usr/local/lib/python3.6/dist-packages (from flask-ngrok) (1.1.2)\n",
            "Requirement already satisfied: requests in /usr/local/lib/python3.6/dist-packages (from flask-ngrok) (2.23.0)\n",
            "Requirement already satisfied: Jinja2>=2.10.1 in /usr/local/lib/python3.6/dist-packages (from Flask>=0.8->flask-ngrok) (2.11.2)\n",
            "Requirement already satisfied: itsdangerous>=0.24 in /usr/local/lib/python3.6/dist-packages (from Flask>=0.8->flask-ngrok) (1.1.0)\n",
            "Requirement already satisfied: Werkzeug>=0.15 in /usr/local/lib/python3.6/dist-packages (from Flask>=0.8->flask-ngrok) (1.0.1)\n",
            "Requirement already satisfied: click>=5.1 in /usr/local/lib/python3.6/dist-packages (from Flask>=0.8->flask-ngrok) (7.1.2)\n",
            "Requirement already satisfied: chardet<4,>=3.0.2 in /usr/local/lib/python3.6/dist-packages (from requests->flask-ngrok) (3.0.4)\n",
            "Requirement already satisfied: idna<3,>=2.5 in /usr/local/lib/python3.6/dist-packages (from requests->flask-ngrok) (2.10)\n",
            "Requirement already satisfied: urllib3!=1.25.0,!=1.25.1,<1.26,>=1.21.1 in /usr/local/lib/python3.6/dist-packages (from requests->flask-ngrok) (1.24.3)\n",
            "Requirement already satisfied: certifi>=2017.4.17 in /usr/local/lib/python3.6/dist-packages (from requests->flask-ngrok) (2020.6.20)\n",
            "Requirement already satisfied: MarkupSafe>=0.23 in /usr/local/lib/python3.6/dist-packages (from Jinja2>=2.10.1->Flask>=0.8->flask-ngrok) (1.1.1)\n",
            "mkdir: cannot create directory ‘templates’: File exists\n"
          ],
          "name": "stdout"
        }
      ]
    },
    {
      "cell_type": "code",
      "metadata": {
        "id": "PI4hdKORnASE",
        "colab_type": "code",
        "colab": {
          "base_uri": "https://localhost:8080/",
          "height": 34
        },
        "outputId": "3f01b308-e3ef-4f85-c185-d2c7b31a8518"
      },
      "source": [
        "######  Write webpage for front-end visualization\n",
        "%%writefile templates/index.html\n",
        "<!doctype html>\n",
        "<html>\n",
        "    <head><link rel=\"stylesheet\" href=\"https://maxcdn.bootstrapcdn.com/bootstrap/3.3.7/css/bootstrap.min.css\"></head>\n",
        "    <body>\n",
        "        <div class=\"container\">\n",
        "            <h1 style=\"text-align:center;\">CSCI1020: Lab05 ----- Build in-class DNA Translation Tool</h1>\n",
        "\n",
        "            <div  style=\"background-color:powderblue;font-size:20px;text-align:center;width:1100px\">\n",
        "            This is a tool which allows the translation of a nucleotide (DNA) sequence to a protein sequence.\n",
        "            <br>\n",
        "            Reference: <a href=\"https://web.expasy.org/translate/\" target=\"_blank\">Official Online tool</a>\n",
        "            </div>\n",
        "\n",
        "            <h2 style=\"text-align:center;\">Upload your DNA sequence:</h2>\n",
        "            \n",
        "            <form method=\"POST\" enctype=\"multipart/form-data\" style=\"margin: 0 auto; text-align: center;\">\n",
        "                <p><textarea name=\"dna_seq\" cols=\"150\" rows=\"10\"></textarea></p>\n",
        "                <input type=\"submit\" value=\"Translate\" style = \"font-size:30px\">\n",
        "            </form>\n",
        "            \n",
        "            <hr>\n",
        "            {% if dna_seq %}\n",
        "            <h2 style=\"text-align:center;\">Submitted DNA Sequence:</h2>\n",
        "\n",
        "            <p><textarea name=\"dna_seq\" cols=\"150\" rows=\"10\" readonly style=\"display: block;margin-left: auto;margin-right: auto;\">{{ dna_seq }}</textarea></p>\n",
        "            \n",
        "            <h2 style=\"text-align:center;\">Results of Translation:</h2>\n",
        "            <p><textarea cols=\"150\" rows=\"5\" readonly style=\"display: block;margin-left: auto;margin-right: auto;\">{{ protein_seq }}</textarea></p>\n",
        "            {% endif %}\n",
        "\n",
        "        </div>\n",
        "    </body>\n",
        "</html>\n"
      ],
      "execution_count": 7,
      "outputs": [
        {
          "output_type": "stream",
          "text": [
            "Writing templates/index.html\n"
          ],
          "name": "stdout"
        }
      ]
    },
    {
      "cell_type": "code",
      "metadata": {
        "id": "5Eaw0KmanLc4",
        "colab_type": "code",
        "colab": {
          "base_uri": "https://localhost:8080/",
          "height": 289
        },
        "outputId": "22b21165-29df-46e1-8037-5722c134a0e8"
      },
      "source": [
        "#####  Implement back-end and front-end application\n",
        "\n",
        "app = Flask(__name__)\n",
        "run_with_ngrok(app)   #starts ngrok when the app is run\n",
        "\n",
        "\n",
        "def home():\n",
        "    return render_template('index.html')\n",
        "\n",
        "@app.route('/', methods=['GET', 'POST'])\n",
        "def index():\n",
        "    if request.method == 'POST':\n",
        "        dna_seq = request.form['dna_seq']\n",
        "        dna_seq = dna_seq.replace('\\n', '').replace('\\r', '').replace(' ', '')\n",
        "        \n",
        "        ''' \n",
        "        Call the function to perform DNA translation\n",
        "        '''\n",
        "        protein_seq = get_protein_from_DNA(dna_seq)\n",
        "\n",
        "        return render_template('index.html',\n",
        "                               dna_seq=dna_seq,\n",
        "                               protein_seq=protein_seq)\n",
        "    else:\n",
        "        return render_template('index.html')\n",
        "\n",
        "app.run() \n"
      ],
      "execution_count": null,
      "outputs": [
        {
          "output_type": "stream",
          "text": [
            " * Serving Flask app \"__main__\" (lazy loading)\n",
            " * Environment: production\n",
            "\u001b[31m   WARNING: This is a development server. Do not use it in a production deployment.\u001b[0m\n",
            "\u001b[2m   Use a production WSGI server instead.\u001b[0m\n",
            " * Debug mode: off\n"
          ],
          "name": "stdout"
        },
        {
          "output_type": "stream",
          "text": [
            " * Running on http://127.0.0.1:5000/ (Press CTRL+C to quit)\n"
          ],
          "name": "stderr"
        },
        {
          "output_type": "stream",
          "text": [
            " * Running on http://6ec8ce3adcd3.ngrok.io\n",
            " * Traffic stats available on http://127.0.0.1:4040\n"
          ],
          "name": "stdout"
        },
        {
          "output_type": "stream",
          "text": [
            "127.0.0.1 - - [11/Sep/2020 14:42:03] \"\u001b[37mGET / HTTP/1.1\u001b[0m\" 200 -\n",
            "127.0.0.1 - - [11/Sep/2020 14:42:05] \"\u001b[33mGET /favicon.ico HTTP/1.1\u001b[0m\" 404 -\n",
            "127.0.0.1 - - [11/Sep/2020 14:43:27] \"\u001b[37mPOST / HTTP/1.1\u001b[0m\" 200 -\n",
            "127.0.0.1 - - [11/Sep/2020 14:43:55] \"\u001b[37mPOST / HTTP/1.1\u001b[0m\" 200 -\n",
            "127.0.0.1 - - [11/Sep/2020 14:44:18] \"\u001b[37mPOST / HTTP/1.1\u001b[0m\" 200 -\n",
            "127.0.0.1 - - [11/Sep/2020 14:44:22] \"\u001b[37mPOST / HTTP/1.1\u001b[0m\" 200 -\n",
            "127.0.0.1 - - [11/Sep/2020 14:44:44] \"\u001b[37mPOST / HTTP/1.1\u001b[0m\" 200 -\n",
            "127.0.0.1 - - [11/Sep/2020 14:45:08] \"\u001b[37mPOST / HTTP/1.1\u001b[0m\" 200 -\n"
          ],
          "name": "stderr"
        }
      ]
    }
  ]
}