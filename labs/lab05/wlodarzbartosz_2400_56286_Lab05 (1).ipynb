{
  "nbformat": 4,
  "nbformat_minor": 0,
  "metadata": {
    "colab": {
      "name": "Lab05.ipynb",
      "provenance": []
    },
    "kernelspec": {
      "name": "python3",
      "display_name": "Python 3"
    }
  },
  "cells": [
    {
      "cell_type": "code",
      "metadata": {
        "id": "9-wjVRxwf7Zf",
        "colab_type": "code",
        "colab": {
          "base_uri": "https://localhost:8080/",
          "height": 71
        },
        "outputId": "d72eb0a9-c02b-44ba-fffc-edb65ca6c281"
      },
      "source": [
        "DNA = 'GGTCAGAAAAAGCCCTCTCCATGTCTACTCACGATACATCCCTGAAAACCACTGAGGAAGTGGCTTTTCAGATCATCTTGCTTTGCCAGTTTGGGGTTGGGACTTTTGCCAATGTATTTCTCTTTGTCTATAATTTCTCTCCAATCTCGACTGGTTCTAAACAGAGGCCCAGACAAGTGATTTTAAGACACATGGCTGTGGCCAATGCCTTAACTCTCTTCCTCACTATATTTCCAAACAACATGATGACTTTTGCTCCAATTATTCCTCAAACTGACCTCAAATGTAAATTAGAATTCTTCACTCGCCTCGTGGCAAGAAGCACAAACTTGTGTTCAACTTGTGTTCTGAGTATCCATCAGTTTGTCACACTTGTTCCTGTTAATTCAGGTAAAGGAATACTCAGAGCAAGTGTCACAAACATGGCAAGTTATTCTTGTTACAGTTGTTGGTTCTTCAGTGTCTTAAATAACATCTACATTCCAATTAAGGTCACTGGTCCACAGTTAACAGACAATAACAATAACTCTAAAAGCAAGTTGTTCTGTTCCACTTCTGATTTCAGTGTAGGCATTGTCTTCTTGAGGTTTGCCCATGATGCCACATTCATGAGCATCATGGTCTGGACCAGTGTCTCCATGGTACTTCTCCTCCATAGACATTGTCAGAGAATGCAGTACATATTCACTCTCAATCAGGACCCCAGGGGCCAAGCAGAGACCACAGCAACCCATACTATCCTGATGCTGGTAGTCACATTTGTTGGCTTTTATCTTCTAAGTCTTATTTGTATCATCTTTTACACCTATTTTATATATTCTCATCATTCCCTGAGGCATTGCAATGACATTTTGGTTTCGGGTTTCCCTACAATTTCTCCTTTACTGTTGACCTTCAGAGACCCTAAGGGTCCTTGTTCTGTGTTCTTCAACTGTTGAAAGCCAGAGTCACTAAAAATGCCAAACACAGAAGACAGCTTTGCTAATACCATTAAATACTTTATTCCATAAATATGTTTTTAAAAGCTTGTATGAACAAGGTATGGTGCTCACTGCTATACTTATAAAAGAGTAAGGTTATAATCACTTGTTGATATGAAAAGATTTCTGGTTGGAATCTGATTGAAACAGTGAGTTATTCACCACCCTCCATTCTCT'\n",
        "translate = {\n",
        "'UUU':'Phe','UCU':'Ser','UAU':'Tyr','UGU':'Cys',\n",
        "  'UUC':'Phe','UCC':'Ser','UAC':'Tyr','UGC':'Cys',\n",
        "  'UUA':'Leu','UCA':'Ser','UAA':'Stop','UGA':'Stop',\n",
        "  'UUG':'Leu','UCG':'Ser','UAG':'Stop','UGG':'Trp',\n",
        "  'CUU':'Leu','CCU':'Pro','CAU':'His','CGU':'Arg',\n",
        "  'CUC':'Leu','CCC':'Pro','CAC':'His','CGC':'Arg',\n",
        "  'CUA':'Leu','CCA':'Pro','CAA':'Gln','CGA':'Arg',\n",
        "  'CUG':'Leu','CCG':'Pro','CAG':'Gln','CGG':'Arg',\n",
        "  'AUU':'Ile','ACU':'Thr','AAU':'Asn','AGU':'Ser',\n",
        "  'AUC':'Ile','ACC':'Thr','AAC':'Asn','AGC':'Ser',\n",
        "  'AUA':'Ile','ACA':'Thr','AAA':'Lys','AGA':'Arg',\n",
        "  'AUG':'Met','ACG':'Thr','AAG':'Lys','AGG':'Arg',\n",
        "  'GUU':'Val','GCU':'Ala','GAU':'Asp','GGU':'Gly',\n",
        "  'GUC':'Val','GCC':'Ala','GAC':'Asp','GGC':'Gly',\n",
        "  'GUA':'Val','GCA':'Ala','GAA':'Glu','GGA':'Gly',\n",
        "  'GUG':'Val','GCG':'Ala','GAG':'Glu','GGG':'Gly'\n",
        "}\n",
        "AA_mapping = {\n",
        "    'Ala':'A', 'Arg':'R','Asn':'N',\n",
        "    'Asp':'D', 'Cys':'C','Gln':'Q',\n",
        "    'Glu':'E', 'Gly':'G','His':'H',\n",
        "    'Ile':'I', 'Leu':'L','Lys':'K',\n",
        "    'Met':'M', 'Phe':'F','Pro':'P',\n",
        "    'Ser':'S', 'Thr':'T','Trp':'W',\n",
        "    'Tyr':'Y','Val':'V'}\n",
        "def get_protein_from_DNA(seq): \n",
        "  RNA_seq = seq.replace('T', 'U')\n",
        "  ### Define location of start codon (AUG)\n",
        "  start_codon = RNA_seq.find('AUG')\n",
        "  codons = []\n",
        "  for i in range(start_codon, len(RNA_seq), 3): \n",
        "    codon = RNA_seq[i:i + 3]\n",
        "    if len(codon)==3:\n",
        "        codons.append(codon)\n",
        "  test=[]\n",
        "  mainTest=[]\n",
        "  for x in codons:\n",
        "    if(x==\"UGA\" or x== \"UAA\" or x== \"UAG\"):\n",
        "        break;\n",
        "    test.append(x);\n",
        "  mainTest.append(test)\n",
        "  symArr=[]\n",
        "  mainAr=[]\n",
        "  for x in mainTest:\n",
        "      for xx in x:\n",
        "          symArr.append(translate[xx])\n",
        "      mainAr.append(symArr)\n",
        "      symArr=[]\n",
        "           \n",
        "  stringVal=\"\"\n",
        "  stringArr=''\n",
        "  for x in mainAr:\n",
        "      for xx in x:\n",
        "          stringVal += AA_mapping[xx]\n",
        "      stringArr+=stringVal \n",
        "      stringVal=\"\"\n",
        "  return stringArr\n",
        "firstResult = get_protein_from_DNA(DNA)\n",
        "print(firstResult)\n",
        "\n",
        "#test_seq = 'ATGTCTACTCACGATACATCCCTGAAAA'\n",
        "#get_protein_from_DNA(test_seq)"
      ],
      "execution_count": 19,
      "outputs": [
        {
          "output_type": "stream",
          "text": [
            "[['AUG', 'UCU', 'ACU', 'CAC', 'GAU', 'ACA', 'UCC', 'CUG', 'AAA', 'ACC', 'ACU', 'GAG', 'GAA', 'GUG', 'GCU', 'UUU', 'CAG', 'AUC', 'AUC', 'UUG', 'CUU', 'UGC', 'CAG', 'UUU', 'GGG', 'GUU', 'GGG', 'ACU', 'UUU', 'GCC', 'AAU', 'GUA', 'UUU', 'CUC', 'UUU', 'GUC', 'UAU', 'AAU', 'UUC', 'UCU', 'CCA', 'AUC', 'UCG', 'ACU', 'GGU', 'UCU', 'AAA', 'CAG', 'AGG', 'CCC', 'AGA', 'CAA', 'GUG', 'AUU', 'UUA', 'AGA', 'CAC', 'AUG', 'GCU', 'GUG', 'GCC', 'AAU', 'GCC', 'UUA', 'ACU', 'CUC', 'UUC', 'CUC', 'ACU', 'AUA', 'UUU', 'CCA', 'AAC', 'AAC', 'AUG', 'AUG', 'ACU', 'UUU', 'GCU', 'CCA', 'AUU', 'AUU', 'CCU', 'CAA', 'ACU', 'GAC', 'CUC', 'AAA', 'UGU', 'AAA', 'UUA', 'GAA', 'UUC', 'UUC', 'ACU', 'CGC', 'CUC', 'GUG', 'GCA', 'AGA', 'AGC', 'ACA', 'AAC', 'UUG', 'UGU', 'UCA', 'ACU', 'UGU', 'GUU', 'CUG', 'AGU', 'AUC', 'CAU', 'CAG', 'UUU', 'GUC', 'ACA', 'CUU', 'GUU', 'CCU', 'GUU', 'AAU', 'UCA', 'GGU', 'AAA', 'GGA', 'AUA', 'CUC', 'AGA', 'GCA', 'AGU', 'GUC', 'ACA', 'AAC', 'AUG', 'GCA', 'AGU', 'UAU', 'UCU', 'UGU', 'UAC', 'AGU', 'UGU', 'UGG', 'UUC', 'UUC', 'AGU', 'GUC', 'UUA', 'AAU', 'AAC', 'AUC', 'UAC', 'AUU', 'CCA', 'AUU', 'AAG', 'GUC', 'ACU', 'GGU', 'CCA', 'CAG', 'UUA', 'ACA', 'GAC', 'AAU', 'AAC', 'AAU', 'AAC', 'UCU', 'AAA', 'AGC', 'AAG', 'UUG', 'UUC', 'UGU', 'UCC', 'ACU', 'UCU', 'GAU', 'UUC', 'AGU', 'GUA', 'GGC', 'AUU', 'GUC', 'UUC', 'UUG', 'AGG', 'UUU', 'GCC', 'CAU', 'GAU', 'GCC', 'ACA', 'UUC', 'AUG', 'AGC', 'AUC', 'AUG', 'GUC', 'UGG', 'ACC', 'AGU', 'GUC', 'UCC', 'AUG', 'GUA', 'CUU', 'CUC', 'CUC', 'CAU', 'AGA', 'CAU', 'UGU', 'CAG', 'AGA', 'AUG', 'CAG', 'UAC', 'AUA', 'UUC', 'ACU', 'CUC', 'AAU', 'CAG', 'GAC', 'CCC', 'AGG', 'GGC', 'CAA', 'GCA', 'GAG', 'ACC', 'ACA', 'GCA', 'ACC', 'CAU', 'ACU', 'AUC', 'CUG', 'AUG', 'CUG', 'GUA', 'GUC', 'ACA', 'UUU', 'GUU', 'GGC', 'UUU', 'UAU', 'CUU', 'CUA', 'AGU', 'CUU', 'AUU', 'UGU', 'AUC', 'AUC', 'UUU', 'UAC', 'ACC', 'UAU', 'UUU', 'AUA', 'UAU', 'UCU', 'CAU', 'CAU', 'UCC', 'CUG', 'AGG', 'CAU', 'UGC', 'AAU', 'GAC', 'AUU', 'UUG', 'GUU', 'UCG', 'GGU', 'UUC', 'CCU', 'ACA', 'AUU', 'UCU', 'CCU', 'UUA', 'CUG', 'UUG', 'ACC', 'UUC', 'AGA', 'GAC', 'CCU', 'AAG', 'GGU', 'CCU', 'UGU', 'UCU', 'GUG', 'UUC', 'UUC', 'AAC', 'UGU']]\n",
            "MSTHDTSLKTTEEVAFQIILLCQFGVGTFANVFLFVYNFSPISTGSKQRPRQVILRHMAVANALTLFLTIFPNNMMTFAPIIPQTDLKCKLEFFTRLVARSTNLCSTCVLSIHQFVTLVPVNSGKGILRASVTNMASYSCYSCWFFSVLNNIYIPIKVTGPQLTDNNNNSKSKLFCSTSDFSVGIVFLRFAHDATFMSIMVWTSVSMVLLLHRHCQRMQYIFTLNQDPRGQAETTATHTILMLVVTFVGFYLLSLICIIFYTYFIYSHHSLRHCNDILVSGFPTISPLLLTFRDPKGPCSVFFNC\n"
          ],
          "name": "stdout"
        }
      ]
    },
    {
      "cell_type": "code",
      "metadata": {
        "id": "kWfVuuaIkgp4",
        "colab_type": "code",
        "colab": {
          "base_uri": "https://localhost:8080/",
          "height": 52
        },
        "outputId": "912725b8-3225-48fe-c31f-1f4f76d0f728"
      },
      "source": [
        "test_seq = 'ATGTCTACTCACGATACATCCCTGAAAA'\n",
        "get_protein_from_DNA(test_seq)"
      ],
      "execution_count": 20,
      "outputs": [
        {
          "output_type": "stream",
          "text": [
            "[['AUG', 'UCU', 'ACU', 'CAC', 'GAU', 'ACA', 'UCC', 'CUG', 'AAA']]\n"
          ],
          "name": "stdout"
        },
        {
          "output_type": "execute_result",
          "data": {
            "application/vnd.google.colaboratory.intrinsic+json": {
              "type": "string"
            },
            "text/plain": [
              "'MSTHDTSLK'"
            ]
          },
          "metadata": {
            "tags": []
          },
          "execution_count": 20
        }
      ]
    },
    {
      "cell_type": "code",
      "metadata": {
        "id": "CxBTpgSekjfc",
        "colab_type": "code",
        "colab": {
          "base_uri": "https://localhost:8080/",
          "height": 277
        },
        "outputId": "862e8c88-c447-4299-eade-d7a6dae41869"
      },
      "source": [
        "'''\n",
        "Do not change codes below.\n",
        "The following codes are used to bring your codes to webpage so that you are able to submit your sequence through website to perform DNA translation task. \n",
        "'''\n",
        "\n",
        "##### web application packages\n",
        "!pip install flask-ngrok\n",
        "from flask_ngrok import run_with_ngrok\n",
        "from flask import Flask, request, render_template\n",
        "! mkdir templates"
      ],
      "execution_count": 22,
      "outputs": [
        {
          "output_type": "stream",
          "text": [
            "Collecting flask-ngrok\n",
            "  Downloading https://files.pythonhosted.org/packages/af/6c/f54cb686ad1129e27d125d182f90f52b32f284e6c8df58c1bae54fa1adbc/flask_ngrok-0.0.25-py3-none-any.whl\n",
            "Requirement already satisfied: requests in /usr/local/lib/python3.6/dist-packages (from flask-ngrok) (2.23.0)\n",
            "Requirement already satisfied: Flask>=0.8 in /usr/local/lib/python3.6/dist-packages (from flask-ngrok) (1.1.2)\n",
            "Requirement already satisfied: idna<3,>=2.5 in /usr/local/lib/python3.6/dist-packages (from requests->flask-ngrok) (2.10)\n",
            "Requirement already satisfied: chardet<4,>=3.0.2 in /usr/local/lib/python3.6/dist-packages (from requests->flask-ngrok) (3.0.4)\n",
            "Requirement already satisfied: certifi>=2017.4.17 in /usr/local/lib/python3.6/dist-packages (from requests->flask-ngrok) (2020.6.20)\n",
            "Requirement already satisfied: urllib3!=1.25.0,!=1.25.1,<1.26,>=1.21.1 in /usr/local/lib/python3.6/dist-packages (from requests->flask-ngrok) (1.24.3)\n",
            "Requirement already satisfied: Jinja2>=2.10.1 in /usr/local/lib/python3.6/dist-packages (from Flask>=0.8->flask-ngrok) (2.11.2)\n",
            "Requirement already satisfied: Werkzeug>=0.15 in /usr/local/lib/python3.6/dist-packages (from Flask>=0.8->flask-ngrok) (1.0.1)\n",
            "Requirement already satisfied: itsdangerous>=0.24 in /usr/local/lib/python3.6/dist-packages (from Flask>=0.8->flask-ngrok) (1.1.0)\n",
            "Requirement already satisfied: click>=5.1 in /usr/local/lib/python3.6/dist-packages (from Flask>=0.8->flask-ngrok) (7.1.2)\n",
            "Requirement already satisfied: MarkupSafe>=0.23 in /usr/local/lib/python3.6/dist-packages (from Jinja2>=2.10.1->Flask>=0.8->flask-ngrok) (1.1.1)\n",
            "Installing collected packages: flask-ngrok\n",
            "Successfully installed flask-ngrok-0.0.25\n"
          ],
          "name": "stdout"
        }
      ]
    },
    {
      "cell_type": "code",
      "metadata": {
        "id": "wLnwheZYmj4C",
        "colab_type": "code",
        "colab": {
          "base_uri": "https://localhost:8080/",
          "height": 34
        },
        "outputId": "c8a3a53c-4dce-472a-c5d3-3793bb62b95d"
      },
      "source": [
        "######  Write webpage for front-end visualization\n",
        "%%writefile templates/index.html\n",
        "<!doctype html>\n",
        "<html>\n",
        "    <head><link rel=\"stylesheet\" href=\"https://maxcdn.bootstrapcdn.com/bootstrap/3.3.7/css/bootstrap.min.css\"></head>\n",
        "    <body>\n",
        "        <div class=\"container\">\n",
        "            <h1 style=\"text-align:center;\">CSCI1020: Lab05 ----- Build in-class DNA Translation Tool</h1>\n",
        "\n",
        "            <div  style=\"background-color:powderblue;font-size:20px;text-align:center;width:1100px\">\n",
        "            This is a tool which allows the translation of a nucleotide (DNA) sequence to a protein sequence.\n",
        "            <br>\n",
        "            Reference: <a href=\"https://web.expasy.org/translate/\" target=\"_blank\">Official Online tool</a>\n",
        "            </div>\n",
        "\n",
        "            <h2 style=\"text-align:center;\">Upload your DNA sequence:</h2>\n",
        "            \n",
        "            <form method=\"POST\" enctype=\"multipart/form-data\" style=\"margin: 0 auto; text-align: center;\">\n",
        "                <p><textarea name=\"dna_seq\" cols=\"150\" rows=\"10\"></textarea></p>\n",
        "                <input type=\"submit\" value=\"Translate\" style = \"font-size:30px\">\n",
        "            </form>\n",
        "            \n",
        "            <hr>\n",
        "            {% if dna_seq %}\n",
        "            <h2 style=\"text-align:center;\">Submitted DNA Sequence:</h2>\n",
        "\n",
        "            <p><textarea name=\"dna_seq\" cols=\"150\" rows=\"10\" readonly style=\"display: block;margin-left: auto;margin-right: auto;\">{{ dna_seq }}</textarea></p>\n",
        "            \n",
        "            <h2 style=\"text-align:center;\">Results of Translation:</h2>\n",
        "            <p><textarea cols=\"150\" rows=\"5\" readonly style=\"display: block;margin-left: auto;margin-right: auto;\">{{ protein_seq }}</textarea></p>\n",
        "            {% endif %}\n",
        "\n",
        "        </div>\n",
        "    </body>\n",
        "</html>\n"
      ],
      "execution_count": 23,
      "outputs": [
        {
          "output_type": "stream",
          "text": [
            "Writing templates/index.html\n"
          ],
          "name": "stdout"
        }
      ]
    },
    {
      "cell_type": "code",
      "metadata": {
        "id": "KeFBfYSdmoKZ",
        "colab_type": "code",
        "colab": {
          "base_uri": "https://localhost:8080/",
          "height": 383
        },
        "outputId": "b91861b7-4838-4d70-bd8f-00d219a11ee1"
      },
      "source": [
        "#####  Implement back-end and front-end application\n",
        "\n",
        "app = Flask(__name__)\n",
        "run_with_ngrok(app)   #starts ngrok when the app is run\n",
        "\n",
        "\n",
        "def home():\n",
        "    return render_template('index.html')\n",
        "\n",
        "@app.route('/', methods=['GET', 'POST'])\n",
        "def index():\n",
        "    if request.method == 'POST':\n",
        "        dna_seq = request.form['dna_seq']\n",
        "        dna_seq = dna_seq.replace('\\n', '').replace('\\r', '').replace(' ', '')\n",
        "        \n",
        "        ''' \n",
        "        Call the function to perform DNA translation\n",
        "        '''\n",
        "        protein_seq = get_protein_from_DNA(dna_seq)\n",
        "\n",
        "        return render_template('index.html',\n",
        "                               dna_seq=dna_seq,\n",
        "                               protein_seq=protein_seq)\n",
        "    else:\n",
        "        return render_template('index.html')\n",
        "\n",
        "app.run() "
      ],
      "execution_count": null,
      "outputs": [
        {
          "output_type": "stream",
          "text": [
            " * Serving Flask app \"__main__\" (lazy loading)\n",
            " * Environment: production\n",
            "\u001b[31m   WARNING: This is a development server. Do not use it in a production deployment.\u001b[0m\n",
            "\u001b[2m   Use a production WSGI server instead.\u001b[0m\n",
            " * Debug mode: off\n"
          ],
          "name": "stdout"
        },
        {
          "output_type": "stream",
          "text": [
            " * Running on http://127.0.0.1:5000/ (Press CTRL+C to quit)\n"
          ],
          "name": "stderr"
        },
        {
          "output_type": "stream",
          "text": [
            " * Running on http://11603dae76de.ngrok.io\n",
            " * Traffic stats available on http://127.0.0.1:4040\n"
          ],
          "name": "stdout"
        },
        {
          "output_type": "stream",
          "text": [
            "127.0.0.1 - - [14/Sep/2020 21:52:38] \"\u001b[37mGET / HTTP/1.1\u001b[0m\" 200 -\n",
            "127.0.0.1 - - [14/Sep/2020 21:52:39] \"\u001b[33mGET /favicon.ico HTTP/1.1\u001b[0m\" 404 -\n",
            "127.0.0.1 - - [14/Sep/2020 21:53:37] \"\u001b[37mPOST / HTTP/1.1\u001b[0m\" 200 -\n"
          ],
          "name": "stderr"
        },
        {
          "output_type": "stream",
          "text": [
            "[['AUG', 'UCU', 'ACU', 'CAC', 'GAU', 'ACA', 'UCC', 'CUG', 'AAA', 'ACC', 'ACU', 'GAG', 'GAA', 'GUG', 'GCU', 'UUU', 'CAG', 'AUC', 'AUC', 'UUG', 'CUU', 'UGC', 'CAG', 'UUU', 'GGG', 'GUU', 'GGG', 'ACU', 'UUU', 'GCC', 'AAU', 'GUA', 'UUU', 'CUC', 'UUU', 'GUC', 'UAU', 'AAU', 'UUC', 'UCU', 'CCA', 'AUC', 'UCG', 'ACU', 'GGU', 'UCU', 'AAA', 'CAG', 'AGG', 'CCC', 'AGA', 'CAA', 'GUG', 'AUU', 'UUA', 'AGA', 'CAC', 'AUG', 'GCU', 'GUG', 'GCC', 'AAU', 'GCC', 'UUA', 'ACU', 'CUC', 'UUC', 'CUC', 'ACU', 'AUA', 'UUU', 'CCA', 'AAC', 'AAC', 'AUG', 'AUG', 'ACU', 'UUU', 'GCU', 'CCA', 'AUU', 'AUU', 'CCU', 'CAA', 'ACU', 'GAC', 'CUC', 'AAA', 'UGU', 'AAA', 'UUA', 'GAA', 'UUC', 'UUC', 'ACU', 'CGC', 'CUC', 'GUG', 'GCA', 'AGA', 'AGC', 'ACA', 'AAC', 'UUG', 'UGU', 'UCA', 'ACU', 'UGU', 'GUU', 'CUG', 'AGU', 'AUC', 'CAU', 'CAG', 'UUU', 'GUC', 'ACA', 'CUU', 'GUU', 'CCU', 'GUU', 'AAU', 'UCA', 'GGU', 'AAA', 'GGA', 'AUA', 'CUC', 'AGA', 'GCA', 'AGU', 'GUC', 'ACA', 'AAC', 'AUG', 'GCA', 'AGU', 'UAU', 'UCU', 'UGU', 'UAC', 'AGU', 'UGU', 'UGG', 'UUC', 'UUC', 'AGU', 'GUC', 'UUA', 'AAU', 'AAC', 'AUC', 'UAC', 'AUU', 'CCA', 'AUU', 'AAG', 'GUC', 'ACU', 'GGU', 'CCA', 'CAG', 'UUA', 'ACA', 'GAC', 'AAU', 'AAC', 'AAU', 'AAC', 'UCU', 'AAA', 'AGC', 'AAG', 'UUG', 'UUC', 'UGU', 'UCC', 'ACU', 'UCU', 'GAU', 'UUC', 'AGU', 'GUA', 'GGC', 'AUU', 'GUC', 'UUC', 'UUG', 'AGG', 'UUU', 'GCC', 'CAU', 'GAU', 'GCC', 'ACA', 'UUC', 'AUG', 'AGC', 'AUC', 'AUG', 'GUC', 'UGG', 'ACC', 'AGU', 'GUC', 'UCC', 'AUG', 'GUA', 'CUU', 'CUC', 'CUC', 'CAU', 'AGA', 'CAU', 'UGU', 'CAG', 'AGA', 'AUG', 'CAG', 'UAC', 'AUA', 'UUC', 'ACU', 'CUC', 'AAU', 'CAG', 'GAC', 'CCC', 'AGG', 'GGC', 'CAA', 'GCA', 'GAG', 'ACC', 'ACA', 'GCA', 'ACC', 'CAU', 'ACU', 'AUC', 'CUG', 'AUG', 'CUG', 'GUA', 'GUC', 'ACA', 'UUU', 'GUU', 'GGC', 'UUU', 'UAU', 'CUU', 'CUA', 'AGU', 'CUU', 'AUU', 'UGU', 'AUC', 'AUC', 'UUU', 'UAC', 'ACC', 'UAU', 'UUU', 'AUA', 'UAU', 'UCU', 'CAU', 'CAU', 'UCC', 'CUG', 'AGG', 'CAU', 'UGC', 'AAU', 'GAC', 'AUU', 'UUG', 'GUU', 'UCG', 'GGU', 'UUC', 'CCU', 'ACA', 'AUU', 'UCU', 'CCU', 'UUA', 'CUG', 'UUG', 'ACC', 'UUC', 'AGA', 'GAC', 'CCU', 'AAG', 'GGU', 'CCU', 'UGU', 'UCU', 'GUG', 'UUC', 'UUC', 'AAC', 'UGU']]\n"
          ],
          "name": "stdout"
        },
        {
          "output_type": "stream",
          "text": [
            "127.0.0.1 - - [14/Sep/2020 22:03:19] \"\u001b[37mPOST / HTTP/1.1\u001b[0m\" 200 -\n"
          ],
          "name": "stderr"
        },
        {
          "output_type": "stream",
          "text": [
            "[['AUG', 'GUG', 'CAC', 'CUG', 'ACU', 'GAU', 'GCU', 'GAG', 'AAG', 'GCU', 'GCU', 'GUC', 'UCU', 'GGC', 'CUG', 'UGG', 'GGA', 'AAG', 'GUG', 'AAC', 'GCC', 'GAU', 'GAA', 'GUU', 'GGU', 'GGU', 'GAG', 'GCC', 'CUG', 'GGC', 'AGG', 'CUG', 'CUG', 'GUU', 'GUC', 'UAC', 'CCU', 'UGG', 'ACC', 'CAG', 'CGG', 'UAC', 'UUU', 'GAU', 'AGC', 'UUU', 'GGA', 'GAC', 'CUA', 'UCC', 'UCU', 'GCC', 'UCU', 'GCU', 'AUC', 'AUG', 'GGU', 'AAU', 'GCC', 'AAA', 'GUG', 'AAG', 'GCC', 'CAU', 'GGC', 'AAG', 'AAA', 'GUG', 'AUA', 'ACU', 'GCC', 'UUU', 'AAC', 'GAU', 'GGC', 'CUG', 'AAU', 'CAC', 'UUG', 'GAC', 'AGC', 'CUC', 'AAG', 'GGC', 'ACC', 'UUU', 'GCC', 'AGC', 'CUC', 'AGU', 'GAG', 'CUC', 'CAC', 'UGU', 'GAC', 'AAG', 'CUG', 'CAU', 'GUG', 'GAU', 'CCU', 'GAG', 'AAC', 'UUC', 'AGG', 'CUC', 'CUG', 'GGC', 'AAU', 'AUG', 'AUC', 'GUG', 'AUU', 'GUG', 'CUG', 'GGC', 'CAC', 'CAC', 'CUG', 'GGC', 'AAG', 'GAU', 'UUC', 'ACC', 'CCC', 'GCU', 'GCA', 'CAG', 'GCU', 'GCC', 'UUC', 'CAG', 'AAG', 'GUG', 'GUG', 'GCU', 'GGA', 'GUG', 'GCU', 'GCU', 'GCC', 'CUG', 'GCU', 'CAC', 'AAG', 'UAC', 'CAC']]\n"
          ],
          "name": "stdout"
        },
        {
          "output_type": "stream",
          "text": [
            "127.0.0.1 - - [14/Sep/2020 22:03:52] \"\u001b[37mPOST / HTTP/1.1\u001b[0m\" 200 -\n"
          ],
          "name": "stderr"
        },
        {
          "output_type": "stream",
          "text": [
            "[['AUG', 'GCG', 'GCG', 'GUG', 'GUA', 'GCU', 'GCU', 'ACG', 'GCG', 'CUG', 'AAG', 'GGC', 'CGG', 'GGG', 'GCG', 'AGA', 'AAU', 'GCC', 'CGC', 'GUC', 'CUC', 'CGG', 'GGG', 'AUC', 'CUC', 'UCU', 'GGA', 'GCC', 'ACA', 'GCU', 'AAC', 'AAG', 'GCU', 'UCC', 'CAG', 'AAC', 'AGG', 'ACC', 'AGA', 'GCA', 'CUG', 'CAG', 'AGC', 'CAC', 'AGC', 'UCA', 'CCA', 'GAA', 'UGC', 'AAG', 'GAG', 'GAG', 'CCC', 'GAG', 'CCC', 'CUC', 'UCC', 'CCU', 'GAG', 'CUA', 'GAA', 'UAC', 'AUU', 'CCC', 'AGA', 'AAG', 'AGG', 'GGC', 'AAG', 'AAC', 'CCC', 'AUG', 'AAA', 'GCC', 'GUG', 'GGG', 'CUA', 'GCC', 'UGG', 'GCC', 'AUC', 'GGC', 'UUC', 'CCC', 'UGU', 'GGU', 'AUC', 'CUC', 'UUC', 'UUC', 'GUC', 'CUC', 'ACC', 'AAG', 'CAG', 'GAA', 'GUG', 'GAC', 'AAG', 'GAC', 'CGA', 'UUG', 'AAG', 'CAG', 'AUG', 'AAA', 'GCU', 'CGU', 'CAG', 'AAC', 'AUG', 'CGG', 'GUG', 'UCC', 'AAC', 'ACG', 'GGC', 'GAG', 'UAU', 'GAG', 'AGC', 'CAG', 'AGG', 'UUC', 'AGG', 'GCU', 'UCA', 'CCC', 'CAA', 'CAA', 'GCC', 'CAG', 'UUC', 'CCU', 'GAG', 'GUU', 'GGG', 'UCU', 'GGG', 'GCC', 'CAG', 'ACC']]\n"
          ],
          "name": "stdout"
        },
        {
          "output_type": "stream",
          "text": [
            "127.0.0.1 - - [14/Sep/2020 22:04:15] \"\u001b[37mPOST / HTTP/1.1\u001b[0m\" 200 -\n"
          ],
          "name": "stderr"
        },
        {
          "output_type": "stream",
          "text": [
            "[['AUG', 'GCU', 'CGC', 'UCG', 'GUG', 'ACC', 'CUG', 'GUC', 'UUU', 'CUG', 'GUG', 'CUU', 'GUC', 'UCA', 'CUG', 'ACC', 'GGC', 'CUG', 'UAU', 'GCU', 'AUC', 'CAG', 'AAA', 'ACC', 'CCU', 'CAA', 'AUU', 'CAA', 'GUA', 'UAC', 'UCA', 'CGC', 'CAC', 'CCA', 'CCG', 'GAG', 'AAU', 'GGG', 'AAG', 'CCG', 'AAC', 'AUA', 'CUG', 'AAC', 'UGC', 'UAC', 'GUA', 'ACA', 'CAG', 'UUC', 'CAC', 'CCG', 'CCU', 'CAC', 'AUU', 'GAA', 'AUC', 'CAA', 'AUG', 'CUG', 'AAG', 'AAC', 'GGG', 'AAA', 'AAA', 'AUU', 'CCU', 'AAA', 'GUA', 'GAG', 'AUG', 'UCA', 'GAU', 'AUG', 'UCC', 'UUC', 'AGC', 'AAG', 'GAC', 'UGG', 'UCU', 'UUC', 'UAU', 'AUC', 'CUG', 'GCU', 'CAC', 'ACU', 'GAA', 'UUC', 'ACC', 'CCC', 'ACU', 'GAG', 'ACU', 'GAU', 'ACA', 'UAC', 'GCC', 'UGC', 'AGA', 'GUU', 'AAG', 'CAU', 'GCC', 'AGU', 'AUG', 'GCC', 'GAG', 'CCC', 'AAG', 'ACC', 'GUC', 'UAC', 'UGG', 'GAU', 'CGA', 'GAC', 'AUG']]\n"
          ],
          "name": "stdout"
        },
        {
          "output_type": "stream",
          "text": [
            "127.0.0.1 - - [14/Sep/2020 22:04:33] \"\u001b[37mPOST / HTTP/1.1\u001b[0m\" 200 -\n"
          ],
          "name": "stderr"
        },
        {
          "output_type": "stream",
          "text": [
            "[['AUG', 'GGG', 'GCU', 'CUG', 'GAG', 'CCC', 'UCC', 'UGG', 'UGC', 'CUU', 'CUG', 'UUC', 'CUU', 'CCU', 'GUC', 'CUC', 'CUG', 'ACU', 'GUG', 'GGA', 'GGA', 'UUA', 'AGU', 'CCC', 'GUA', 'CAG', 'GCC', 'CAG', 'AGU', 'GAC', 'ACU', 'UUC', 'CCA', 'AGA', 'UGC', 'GAC', 'UGU', 'UCU', 'UCC', 'GUG', 'AGC', 'CCU', 'GGU', 'GUA', 'CUG', 'GCU', 'GGG', 'AUU', 'GUU', 'CUG', 'GGU', 'GAC', 'UUG', 'GUG', 'UUG', 'ACU', 'CUG', 'CUG', 'AUU', 'GCC', 'CUG', 'GCU', 'GUG', 'UAC', 'UCU', 'CUG', 'GGC', 'CGC', 'CUG', 'GUC', 'UCC', 'CGA', 'GGU', 'CAA', 'GGG', 'ACA', 'GCG', 'GAA', 'GGG', 'ACC', 'CGG', 'AAA', 'CAA', 'CAC', 'AUU', 'GCU', 'GAG', 'ACU', 'GAG', 'UCG', 'CCU', 'UAU', 'CAG', 'GAG', 'CUU', 'CAG', 'GGU', 'CAG', 'AGA', 'CCA', 'GAA', 'GUA', 'UAC', 'AGU', 'GAC', 'CUC', 'AAC', 'ACA', 'CAG', 'AGG', 'CAA', 'UAU', 'UAC', 'AGA']]\n"
          ],
          "name": "stdout"
        }
      ]
    }
  ]
}