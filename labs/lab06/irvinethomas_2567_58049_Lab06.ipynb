{
  "nbformat": 4,
  "nbformat_minor": 0,
  "metadata": {
    "colab": {
      "name": "Lab06.ipynb",
      "provenance": []
    },
    "kernelspec": {
      "name": "python3",
      "display_name": "Python 3"
    }
  },
  "cells": [
    {
      "cell_type": "code",
      "metadata": {
        "id": "2TeyFJZIXI05",
        "colab_type": "code",
        "colab": {
          "base_uri": "https://localhost:8080/",
          "height": 87
        },
        "outputId": "92ff4140-d472-48f3-cd76-5ab86f20141f"
      },
      "source": [
        "############################################################################\n",
        "# Implementation of score function for Pairwise Alignment algorithm\n",
        "############################################################################\n",
        "qDNA1 = \"AATATGATA\"\n",
        "qDNA2 = \"AAGTTCATA\"\n",
        "qDNA3 = \"A-TAT-ATA\"\n",
        "qDNA4 = \"AATTTC-TA\"\n",
        "qDNA5 = \"AGCTGAA\"\n",
        "qDNA6 = \"AATTTCAGAGA\"\n",
        "\n",
        "\n",
        "\n",
        "\n",
        "\n",
        "def alignment_score(sequence1, sequence2, match, mismatch, gap):\n",
        "  pos = -1\n",
        "  score = 0\n",
        "  if len(sequence1) == len(sequence2):\n",
        "    for i in sequence1:\n",
        "      pos = pos + 1\n",
        "      if i == sequence2[pos]:\n",
        "        score = score + match\n",
        "      if i != sequence2[pos]:\n",
        "        if sequence2[pos] == \"-\":\n",
        "          score = score + gap\n",
        "        else:\n",
        "          score = score + mismatch\n",
        "  else:\n",
        "    print(\"error\")    \n",
        "  return score   \n",
        "\n",
        "print(\"question 1:\", alignment_score(qDNA1, qDNA2, 1, -1, -1))\n",
        "\n",
        "print(\"question2:\", alignment_score(qDNA3, qDNA4, 1, -1, -1))\n",
        "\n",
        "print(\"question3:\", alignment_score(qDNA5, qDNA6, 1, -1, -1))\n",
        "\n",
        "   ## check length is same or not, if not, report error and quit\n",
        "\n",
        "   ## Use for loop to calculate the scores \n",
        "\n",
        "\n",
        "   ## print sequence 1\n",
        "\n",
        "   ## print sequence 2\n",
        "\n",
        "   ## print alignment score\n",
        "\n",
        "\n"
      ],
      "execution_count": 23,
      "outputs": [
        {
          "output_type": "stream",
          "text": [
            "question 1: 3\n",
            "question2: 1\n",
            "error\n",
            "question3: 0\n"
          ],
          "name": "stdout"
        }
      ]
    }
  ]
}