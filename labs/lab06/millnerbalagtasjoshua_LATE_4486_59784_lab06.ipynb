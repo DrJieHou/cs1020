{
  "nbformat": 4,
  "nbformat_minor": 0,
  "metadata": {
    "colab": {
      "name": "lab06.ipynb",
      "provenance": []
    },
    "kernelspec": {
      "name": "python3",
      "display_name": "Python 3"
    }
  },
  "cells": [
    {
      "cell_type": "code",
      "metadata": {
        "id": "IL1_CsUHvCB1",
        "colab_type": "code",
        "colab": {}
      },
      "source": [
        "def alignment_score(sequence1, sequence2, match=1, mismatch=-1, gap=-1):\n",
        "  if len(sequence1) != len(sequence2):\n",
        "    return 'Error'\n",
        "  final_score = 0\n",
        "  for position in range(0, len(sequence1)):\n",
        "    if sequence1[position] == '-' or sequence2[position] == '-':\n",
        "      final_score = final_score + gap\n",
        "    elif sequence1[position] != sequence2[position]:\n",
        "      final_score = final_score + mismatch\n",
        "    elif sequence1[position] == sequence2[position]:\n",
        "      final_score = final_score + match\n",
        "  print(sequence1)\n",
        "  print(sequence2)\n",
        "  print(final_score)\n"
      ],
      "execution_count": 2,
      "outputs": []
    },
    {
      "cell_type": "code",
      "metadata": {
        "id": "b6hUVE5SvYJO",
        "colab_type": "code",
        "colab": {
          "base_uri": "https://localhost:8080/",
          "height": 70
        },
        "outputId": "c1a298d1-8c8b-4ea8-973d-5dd0cea87b05"
      },
      "source": [
        "alignment_score('AATATGATA', 'AAGTTCATA', match=1, mismatch=-1, gap=-1)"
      ],
      "execution_count": 8,
      "outputs": [
        {
          "output_type": "stream",
          "text": [
            "AATATGATA\n",
            "AAGTTCATA\n",
            "3\n"
          ],
          "name": "stdout"
        }
      ]
    },
    {
      "cell_type": "code",
      "metadata": {
        "id": "DDKe07w2uvoA",
        "colab_type": "code",
        "colab": {
          "base_uri": "https://localhost:8080/",
          "height": 70
        },
        "outputId": "9f6ee287-7b81-4d2c-9348-b42a69d8ecfb"
      },
      "source": [
        "alignment_score('A-TAT-ATA', 'AATTTC-TA', match=1, mismatch=-1, gap=-1)"
      ],
      "execution_count": 3,
      "outputs": [
        {
          "output_type": "stream",
          "text": [
            "A-TAT-ATA\n",
            "AATTTC-TA\n",
            "1\n"
          ],
          "name": "stdout"
        }
      ]
    },
    {
      "cell_type": "code",
      "metadata": {
        "id": "pPp0e-D_u5Du",
        "colab_type": "code",
        "colab": {
          "base_uri": "https://localhost:8080/",
          "height": 36
        },
        "outputId": "7fa94204-f134-45dd-94f8-8315368e415d"
      },
      "source": [
        "alignment_score('AATTTCAGAGA', 'AGCTGAA', match=1, mismatch=-1, gap=-1)"
      ],
      "execution_count": 4,
      "outputs": [
        {
          "output_type": "execute_result",
          "data": {
            "application/vnd.google.colaboratory.intrinsic+json": {
              "type": "string"
            },
            "text/plain": [
              "'Error'"
            ]
          },
          "metadata": {
            "tags": []
          },
          "execution_count": 4
        }
      ]
    },
    {
      "cell_type": "markdown",
      "metadata": {
        "id": "NLBVqyBLCer7",
        "colab_type": "text"
      },
      "source": [
        "(5 points) Calculate alignment score between sequences 'AATATGATA' and 'AAGTTCATA''? Please write your codes in your jupyter notebook."
      ]
    },
    {
      "cell_type": "markdown",
      "metadata": {
        "id": "rU4Y5B6sCg0l",
        "colab_type": "text"
      },
      "source": [
        "(5 points) Calculate alignment score between sequences 'A-TAT-ATA' and 'AATTTC-TA''? Please write your codes in your jupyter notebook."
      ]
    },
    {
      "cell_type": "markdown",
      "metadata": {
        "id": "SReeJwTVCiGc",
        "colab_type": "text"
      },
      "source": [
        "(5 points) Calculate alignment score between sequences 'AGCTGAA' and 'AATTTCAGAGA''? Please write your codes in your jupyter notebook. (Hint: this should return the error because the two sequences have different length)"
      ]
    }
  ]
}