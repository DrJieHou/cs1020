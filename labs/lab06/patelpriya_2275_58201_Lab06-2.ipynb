{
  "nbformat": 4,
  "nbformat_minor": 0,
  "metadata": {
    "colab": {
      "name": "Lab06.ipynb",
      "provenance": []
    },
    "kernelspec": {
      "name": "python3",
      "display_name": "Python 3"
    }
  },
  "cells": [
    {
      "cell_type": "code",
      "metadata": {
        "id": "_MvERLlOAYWp",
        "colab_type": "code",
        "colab": {}
      },
      "source": [
        "def alignment_score(sequence1, sequence2, match=1, mismatch=-1, gap=-1):\n",
        "  if (len(sequence1) != len(sequence2)):\n",
        "    print(\"Error!\")\n",
        "    return\n",
        "\n",
        "  score = 0\n",
        "  for i in range(0, len(sequence1)):\n",
        "    if ( (sequence1[i] == '-') or (sequence2[i] == '-')):\n",
        "      score += gap\n",
        "    elif (sequence1[i] == sequence2[i]):\n",
        "      score += match\n",
        "    else:\n",
        "      score += mismatch\n",
        "  \n",
        "  return score"
      ],
      "execution_count": 13,
      "outputs": []
    },
    {
      "cell_type": "code",
      "metadata": {
        "id": "2DtF1v1tBYM7",
        "colab_type": "code",
        "colab": {}
      },
      "source": [
        "# Q1: Calculate alignment score between sequences 'AATATGATA' and 'AAGTTCATA''? Please write your codes in your jupyter notebook."
      ],
      "execution_count": 5,
      "outputs": []
    },
    {
      "cell_type": "code",
      "metadata": {
        "id": "vIz8H1bxDCWO",
        "colab_type": "code",
        "colab": {
          "base_uri": "https://localhost:8080/",
          "height": 34
        },
        "outputId": "d7057e98-ea10-4b88-a2a3-ff87ab73a8a0"
      },
      "source": [
        "print(alignment_score('AATATGATA','AAGTTCATA',match=1,mismatch=-1,gap=-1))"
      ],
      "execution_count": 16,
      "outputs": [
        {
          "output_type": "stream",
          "text": [
            "3\n"
          ],
          "name": "stdout"
        }
      ]
    },
    {
      "cell_type": "code",
      "metadata": {
        "id": "IRuGK5wNUCz6",
        "colab_type": "code",
        "colab": {
          "base_uri": "https://localhost:8080/",
          "height": 34
        },
        "outputId": "7fe4f02e-47ce-4f06-dcc9-1163b887a9f3"
      },
      "source": [
        "print(alignment_score('AATATGATA','AAGTTCATA',match=2,mismatch=-2,gap=-2))"
      ],
      "execution_count": 17,
      "outputs": [
        {
          "output_type": "stream",
          "text": [
            "6\n"
          ],
          "name": "stdout"
        }
      ]
    },
    {
      "cell_type": "code",
      "metadata": {
        "id": "x5Ae9pPLBaDH",
        "colab_type": "code",
        "colab": {}
      },
      "source": [
        "# Q2: Calculate alignment score between sequences 'A-TAT-ATA' and 'AATTTC-TA''? Please write your codes in your jupyter notebook."
      ],
      "execution_count": null,
      "outputs": []
    },
    {
      "cell_type": "code",
      "metadata": {
        "id": "De71egKvDEy2",
        "colab_type": "code",
        "colab": {
          "base_uri": "https://localhost:8080/",
          "height": 34
        },
        "outputId": "5de34bf2-3c6a-4c25-e4ac-68b3816855dd"
      },
      "source": [
        "print(alignment_score('A-TAT-ATA','AATTTC-TA',match=1,mismatch=-1,gap=-1))"
      ],
      "execution_count": null,
      "outputs": [
        {
          "output_type": "stream",
          "text": [
            "1\n"
          ],
          "name": "stdout"
        }
      ]
    },
    {
      "cell_type": "code",
      "metadata": {
        "id": "sPovKx2JUIrm",
        "colab_type": "code",
        "colab": {
          "base_uri": "https://localhost:8080/",
          "height": 34
        },
        "outputId": "2b23fa97-4bc9-48f1-ba5a-6e2cebbaada8"
      },
      "source": [
        "print(alignment_score('A-TAT-ATA','AATTTC-TA',match=2,mismatch=-2,gap=-2))"
      ],
      "execution_count": 18,
      "outputs": [
        {
          "output_type": "stream",
          "text": [
            "2\n"
          ],
          "name": "stdout"
        }
      ]
    },
    {
      "cell_type": "code",
      "metadata": {
        "id": "3m_6TcDsBdeh",
        "colab_type": "code",
        "colab": {}
      },
      "source": [
        "# Q3: Calculate alignment score between sequences 'AGCTGAA' and 'AATTTCAGAGA''? Please write your codes in your jupyter notebook. (Hint: this should return the error because the two sequences have different length)"
      ],
      "execution_count": null,
      "outputs": []
    },
    {
      "cell_type": "code",
      "metadata": {
        "id": "m8mw06haDHNk",
        "colab_type": "code",
        "colab": {
          "base_uri": "https://localhost:8080/",
          "height": 51
        },
        "outputId": "56f0925e-9643-4899-f935-8c3a382fd764"
      },
      "source": [
        "print(alignment_score('AGCTGAA','AATTTCAGAGA',match=1,mismatch=-1,gap=-1))"
      ],
      "execution_count": 19,
      "outputs": [
        {
          "output_type": "stream",
          "text": [
            "Error!\n",
            "None\n"
          ],
          "name": "stdout"
        }
      ]
    }
  ]
}