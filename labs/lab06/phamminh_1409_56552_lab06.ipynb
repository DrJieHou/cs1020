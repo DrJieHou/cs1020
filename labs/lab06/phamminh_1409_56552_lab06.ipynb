{
  "nbformat": 4,
  "nbformat_minor": 0,
  "metadata": {
    "colab": {
      "name": "lab06.ipynb",
      "provenance": []
    },
    "kernelspec": {
      "name": "python3",
      "display_name": "Python 3"
    }
  },
  "cells": [
    {
      "cell_type": "code",
      "metadata": {
        "id": "tKxwal9OgWe5",
        "colab_type": "code",
        "colab": {}
      },
      "source": [
        "############################################################################\n",
        "# Implementation of score function for Pairwise Alignment algorithm\n",
        "############################################################################\n",
        "\n",
        "def alignment_score(sequence1, sequence2, match=1, mismatch=-1, gap=-1):\n",
        "  Score =0\n",
        "  M =0\n",
        "  Miss =0\n",
        "  G =0\n",
        "  Result = ''\n",
        "   ## check length is same or not, if not, report error and quit\n",
        "  if len(sequence1) != len(sequence2):\n",
        "    Result = 'Since the lenght of the two sequences are not equal to each other, the alignment cannot be implemented'\n",
        "    return Result \n",
        "   ## Use for loop to calculate the scores \n",
        "  for i in range (0 , len(sequence1)):\n",
        "    x = sequence1[i]\n",
        "    y = sequence2[i]\n",
        "    if x == '-' or y == '-':\n",
        "      G += gap\n",
        "    elif x == y:\n",
        "      M += match\n",
        "    elif x != y:\n",
        "      Miss += mismatch\n",
        "  Score = M + Miss + G\n",
        "   ## print sequence 1\n",
        "  print('Seq1:',sequence1)\n",
        "   ## print sequence 2\n",
        "  print('Seq2:',sequence2)\n",
        "   ## print alignment score\n",
        "  print( 'Alignment score is:', Score) "
      ],
      "execution_count": 27,
      "outputs": []
    },
    {
      "cell_type": "code",
      "metadata": {
        "id": "ok41TFeajNG5",
        "colab_type": "code",
        "colab": {
          "base_uri": "https://localhost:8080/",
          "height": 68
        },
        "outputId": "c8690838-3991-492c-ac04-f39af569329a"
      },
      "source": [
        "alignment_score('AATATGATA','AAGTTCATA',match=1, mismatch=-1, gap=-1)"
      ],
      "execution_count": 28,
      "outputs": [
        {
          "output_type": "stream",
          "text": [
            "Seq1: AATATGATA\n",
            "Seq2: AAGTTCATA\n",
            "Alignment score is: 3\n"
          ],
          "name": "stdout"
        }
      ]
    },
    {
      "cell_type": "code",
      "metadata": {
        "id": "Bmn_3HqSlfCl",
        "colab_type": "code",
        "colab": {
          "base_uri": "https://localhost:8080/",
          "height": 68
        },
        "outputId": "5eb83465-5e1d-4f69-d894-3ffb8b42ecff"
      },
      "source": [
        "alignment_score('A-TAT-ATA','AATTTC-TA',match=1, mismatch=-1, gap=-1)"
      ],
      "execution_count": 29,
      "outputs": [
        {
          "output_type": "stream",
          "text": [
            "Seq1: A-TAT-ATA\n",
            "Seq2: AATTTC-TA\n",
            "Alignment score is: 1\n"
          ],
          "name": "stdout"
        }
      ]
    },
    {
      "cell_type": "code",
      "metadata": {
        "id": "U9aIN5bJlqwG",
        "colab_type": "code",
        "colab": {
          "base_uri": "https://localhost:8080/",
          "height": 35
        },
        "outputId": "ef1c8c96-e34e-4e6c-c890-a5a8e21c031a"
      },
      "source": [
        "alignment_score('AGCTGAA','AATTTCAGAGA',match=1, mismatch=-1, gap=-1)"
      ],
      "execution_count": 30,
      "outputs": [
        {
          "output_type": "execute_result",
          "data": {
            "application/vnd.google.colaboratory.intrinsic+json": {
              "type": "string"
            },
            "text/plain": [
              "'Since the lenght of the two sequences are not equal to each other, the alignment cannot be implemented'"
            ]
          },
          "metadata": {
            "tags": []
          },
          "execution_count": 30
        }
      ]
    }
  ]
}