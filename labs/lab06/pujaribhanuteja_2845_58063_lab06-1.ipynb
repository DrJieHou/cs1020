{
  "nbformat": 4,
  "nbformat_minor": 0,
  "metadata": {
    "colab": {
      "name": "lab06_actual.ipynb",
      "provenance": [],
      "collapsed_sections": []
    },
    "kernelspec": {
      "name": "python3",
      "display_name": "Python 3"
    }
  },
  "cells": [
    {
      "cell_type": "code",
      "metadata": {
        "id": "DlTiHo2UdTjV",
        "colab_type": "code",
        "colab": {}
      },
      "source": [
        "def alignment_score(seq1, seq2, match = 1, mismatch = -1, gap = -1):\n",
        "  index = 0\n",
        "  start = 0\n",
        "  total_match = []\n",
        "  total_mismatch = []\n",
        "  total_gap = []\n",
        "\n",
        "  if len(seq1) == len(seq2):\n",
        "    for x in seq1:\n",
        "      x = seq1[index]\n",
        "      y = seq2[index]\n",
        "      if seq1[index] == seq2[index]:\n",
        "        result1 = start + match\n",
        "        total_match.append(result1)\n",
        "      elif seq1[index] != seq2[index]:\n",
        "        result2 = start + mismatch\n",
        "        total_mismatch.append(result2) \n",
        "      elif x == '-':\n",
        "        result3 = start + gap \n",
        "        total_gap.append(result3)\n",
        "      elif y == '-':\n",
        "        result4 = start + gap\n",
        "        total_gap.append(result4)\n",
        "      index = index + 1\n",
        "    print('Seq1: ', seq1)\n",
        "    print('Seq2: ', seq2)\n",
        "    print('Alignment Score: ', (len(total_match)*match) + (len(total_mismatch)*mismatch) + (len(total_gap)*gap))\n",
        "  else:\n",
        "    print('Seq1: ', seq1)\n",
        "    print('Seq2: ', seq2)\n",
        "    print('Error DNA sequences are not equal in length')"
      ],
      "execution_count": 16,
      "outputs": []
    },
    {
      "cell_type": "code",
      "metadata": {
        "id": "4F17Z-01taO0",
        "colab_type": "code",
        "colab": {
          "base_uri": "https://localhost:8080/",
          "height": 68
        },
        "outputId": "c256a7f4-0fe1-40b6-ffc8-2b17b1cbbd25"
      },
      "source": [
        "alignment_score('AATATGATA', 'AAGTTCATA', match = 1, mismatch = -1, gap = -1)"
      ],
      "execution_count": 18,
      "outputs": [
        {
          "output_type": "stream",
          "text": [
            "Seq1:  AATATGATA\n",
            "Seq2:  AAGTTCATA\n",
            "Alignment Score:  3\n"
          ],
          "name": "stdout"
        }
      ]
    },
    {
      "cell_type": "code",
      "metadata": {
        "id": "nIFbrC6msSTU",
        "colab_type": "code",
        "colab": {
          "base_uri": "https://localhost:8080/",
          "height": 68
        },
        "outputId": "a951798e-3335-470b-9a41-5c92d79d34a5"
      },
      "source": [
        "alignment_score('AATATGATA', 'AAGTTCATA', match = 2, mismatch = -2, gap = -2)"
      ],
      "execution_count": 17,
      "outputs": [
        {
          "output_type": "stream",
          "text": [
            "Seq1:  AATATGATA\n",
            "Seq2:  AAGTTCATA\n",
            "Alignment Score:  6\n"
          ],
          "name": "stdout"
        }
      ]
    },
    {
      "cell_type": "code",
      "metadata": {
        "id": "ROPF1nRJ4JTC",
        "colab_type": "code",
        "colab": {
          "base_uri": "https://localhost:8080/",
          "height": 68
        },
        "outputId": "fa80cd2c-80d0-4112-c743-428763dcef3c"
      },
      "source": [
        "alignment_score('A-TAT-ATA','AATTTC-TA', match = 1, mismatch = -1, gap = -1)"
      ],
      "execution_count": 19,
      "outputs": [
        {
          "output_type": "stream",
          "text": [
            "Seq1:  A-TAT-ATA\n",
            "Seq2:  AATTTC-TA\n",
            "Alignment Score:  1\n"
          ],
          "name": "stdout"
        }
      ]
    },
    {
      "cell_type": "code",
      "metadata": {
        "id": "EMwyW9442SS_",
        "colab_type": "code",
        "colab": {
          "base_uri": "https://localhost:8080/",
          "height": 68
        },
        "outputId": "70a6aaa9-b2b3-453a-e389-bf3cc0ead96a"
      },
      "source": [
        "alignment_score('A-TAT-ATA','AATTTC-TA', match = 2, mismatch = -2, gap = -2)"
      ],
      "execution_count": 20,
      "outputs": [
        {
          "output_type": "stream",
          "text": [
            "Seq1:  A-TAT-ATA\n",
            "Seq2:  AATTTC-TA\n",
            "Alignment Score:  2\n"
          ],
          "name": "stdout"
        }
      ]
    },
    {
      "cell_type": "code",
      "metadata": {
        "id": "7U1WkDkptv1-",
        "colab_type": "code",
        "colab": {
          "base_uri": "https://localhost:8080/",
          "height": 68
        },
        "outputId": "4caf7df9-5356-403f-8887-70bfe2ffc3a4"
      },
      "source": [
        "alignment_score('AGCTGAA','AATTTCAGAGA', match = 1, mismatch = -1, gap = -1)"
      ],
      "execution_count": 21,
      "outputs": [
        {
          "output_type": "stream",
          "text": [
            "Seq1:  AGCTGAA\n",
            "Seq2:  AATTTCAGAGA\n",
            "Error DNA sequences are not equal in length\n"
          ],
          "name": "stdout"
        }
      ]
    },
    {
      "cell_type": "code",
      "metadata": {
        "id": "NUOpTvTFt2b1",
        "colab_type": "code",
        "colab": {}
      },
      "source": [
        ""
      ],
      "execution_count": null,
      "outputs": []
    }
  ]
}