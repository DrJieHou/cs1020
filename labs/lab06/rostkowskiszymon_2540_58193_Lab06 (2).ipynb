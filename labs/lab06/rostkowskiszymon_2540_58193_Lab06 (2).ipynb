{
  "nbformat": 4,
  "nbformat_minor": 0,
  "metadata": {
    "colab": {
      "name": "Lab06.ipynb",
      "provenance": []
    },
    "kernelspec": {
      "name": "python3",
      "display_name": "Python 3"
    }
  },
  "cells": [
    {
      "cell_type": "code",
      "metadata": {
        "id": "fGXZvIgSXpkH",
        "colab_type": "code",
        "colab": {}
      },
      "source": [
        "def alignment_score(sequence1, sequence2, match = 1, gap = -1, mismatch = -1):\n",
        "   score = 0\n",
        "   nucleotides = ['A', 'T', 'C', 'G' ]\n",
        "   character_number = 0\n",
        "   if len(sequence1) != len(sequence2):\n",
        "    print('The sequences are not the same length')\n",
        "    return\n",
        "   if len(sequence1) == len(sequence2):\n",
        "     for pos in range(0,len(sequence1)):\n",
        "       letter1 = sequence1[pos]\n",
        "       letter2 = sequence2[pos]\n",
        "       if letter1 == letter2:\n",
        "         score = score + match\n",
        "         character_number = character_number + 1\n",
        "       if letter1 != letter2:\n",
        "          if letter1 == '-' and letter2 != '-':\n",
        "             score = score + gap\n",
        "             character_number = character_number + 1\n",
        "          elif letter2 == '-' and letter1 != '-':\n",
        "             score = score + gap\n",
        "             character_number = character_number + 1 \n",
        "          else:\n",
        "           score = score + mismatch\n",
        "           character_number = character_number + 1          \n",
        "       if character_number == len(sequence2):   \n",
        "          print('seq 1:', sequence1)\n",
        "          print('seq 2:', sequence2)\n",
        "          print('alignment score is:', score)\n",
        "          return\n"
      ],
      "execution_count": 29,
      "outputs": []
    },
    {
      "cell_type": "code",
      "metadata": {
        "id": "erPJgO-9YJEx",
        "colab_type": "code",
        "colab": {}
      },
      "source": [
        "#Calculate alignment score between sequences 'AATATGATA' and 'AAGTTCATA''? Please write your codes in your jupyter notebook.\n",
        "#for match = 1, mismatch = -1, gap = -1,  score = 3\n",
        "#for match = 2, mismatch = -2, gap = -2,  score = 6"
      ],
      "execution_count": 24,
      "outputs": []
    },
    {
      "cell_type": "code",
      "metadata": {
        "id": "g58F5YwQ92lM",
        "colab_type": "code",
        "colab": {
          "base_uri": "https://localhost:8080/",
          "height": 67
        },
        "outputId": "3b0537b8-8fc8-4da2-b4f0-e1cd2610d06b"
      },
      "source": [
        "\n",
        "alignment_score('AATATGATA','AAGTTCATA', match=1, mismatch = -1, gap = -1)"
      ],
      "execution_count": 32,
      "outputs": [
        {
          "output_type": "stream",
          "text": [
            "seq 1: AATATGATA\n",
            "seq 2: AAGTTCATA\n",
            "alignment score is: 3\n"
          ],
          "name": "stdout"
        }
      ]
    },
    {
      "cell_type": "code",
      "metadata": {
        "id": "zxFZsgqWK5JU",
        "colab_type": "code",
        "colab": {
          "base_uri": "https://localhost:8080/",
          "height": 67
        },
        "outputId": "45f4de80-56e4-4150-bbd3-8918ada7507e"
      },
      "source": [
        "alignment_score('AATATGATA','AAGTTCATA', match=2, mismatch = -2, gap = -2)"
      ],
      "execution_count": 33,
      "outputs": [
        {
          "output_type": "stream",
          "text": [
            "seq 1: AATATGATA\n",
            "seq 2: AAGTTCATA\n",
            "alignment score is: 6\n"
          ],
          "name": "stdout"
        }
      ]
    },
    {
      "cell_type": "code",
      "metadata": {
        "id": "NOWdLtC195Vh",
        "colab_type": "code",
        "colab": {}
      },
      "source": [
        "#(5 points) Calculate alignment score between sequences 'A-TAT-ATA' and 'AATTTC-TA''? Please write your codes in your jupyter notebook.\n",
        "#1. for match = 1, mismatch = -1, gap = -1,  score = 1\n",
        "#2. for match = 2, mismatch = -2, gap = -2,  score = 2"
      ],
      "execution_count": null,
      "outputs": []
    },
    {
      "cell_type": "code",
      "metadata": {
        "id": "uu5UBVzD9_B4",
        "colab_type": "code",
        "colab": {
          "base_uri": "https://localhost:8080/",
          "height": 67
        },
        "outputId": "c0745c7d-28ca-4d30-8b21-c83ef35aca6c"
      },
      "source": [
        "\n",
        "alignment_score('A-TAT-ATA', 'AATTTC-TA',match =1, mismatch=-1, gap =-1)"
      ],
      "execution_count": 34,
      "outputs": [
        {
          "output_type": "stream",
          "text": [
            "seq 1: A-TAT-ATA\n",
            "seq 2: AATTTC-TA\n",
            "alignment score is: 1\n"
          ],
          "name": "stdout"
        }
      ]
    },
    {
      "cell_type": "code",
      "metadata": {
        "id": "uz6dXtj7LNMn",
        "colab_type": "code",
        "colab": {
          "base_uri": "https://localhost:8080/",
          "height": 67
        },
        "outputId": "a89d4a9b-f57f-409e-e169-b8fab9008967"
      },
      "source": [
        "alignment_score('A-TAT-ATA', 'AATTTC-TA',match =2, mismatch=-2, gap =-2)"
      ],
      "execution_count": 35,
      "outputs": [
        {
          "output_type": "stream",
          "text": [
            "seq 1: A-TAT-ATA\n",
            "seq 2: AATTTC-TA\n",
            "alignment score is: 2\n"
          ],
          "name": "stdout"
        }
      ]
    },
    {
      "cell_type": "code",
      "metadata": {
        "id": "wPnWlzUF-VCZ",
        "colab_type": "code",
        "colab": {}
      },
      "source": [
        "#(5 points) Calculate alignment score between sequences 'AGCTGAA' and 'AATTTCAGAGA''? Please write your codes in your jupyter notebook. (Hint: this should return the error because the two sequences have different length)"
      ],
      "execution_count": null,
      "outputs": []
    },
    {
      "cell_type": "code",
      "metadata": {
        "id": "VWqfWWpk-Yhb",
        "colab_type": "code",
        "colab": {
          "base_uri": "https://localhost:8080/",
          "height": 34
        },
        "outputId": "5fda3ff8-4da5-4b6e-cd44-1f0f7d7fd822"
      },
      "source": [
        "\n",
        "alignment_score('AGCTGAA','AATTTCAGAGA')"
      ],
      "execution_count": 36,
      "outputs": [
        {
          "output_type": "stream",
          "text": [
            "The sequences are not the same length\n"
          ],
          "name": "stdout"
        }
      ]
    }
  ]
}