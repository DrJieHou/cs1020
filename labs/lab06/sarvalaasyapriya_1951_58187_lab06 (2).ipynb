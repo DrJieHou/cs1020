{
  "nbformat": 4,
  "nbformat_minor": 0,
  "metadata": {
    "colab": {
      "name": "lab06.ipynb",
      "provenance": []
    },
    "kernelspec": {
      "name": "python3",
      "display_name": "Python 3"
    }
  },
  "cells": [
    {
      "cell_type": "code",
      "metadata": {
        "id": "JnCHZMiD57Db",
        "colab_type": "code",
        "colab": {}
      },
      "source": [
        "def alignment_score(sequence1, sequence2, match = 1, mismatch = -1, gap = -1):\n",
        "  index = 0\n",
        "  start = 0\n",
        "  positive_reward = []\n",
        "  negative_penalty = []\n",
        "  \n",
        "  if len(sequence1) == len(sequence2): \n",
        "    for pos in sequence1: \n",
        "      if sequence1[index] == sequence2[index]:\n",
        "        result_1 = start + match\n",
        "        positive_reward.append(result_1)\n",
        "      elif pos=='-' in sequence1 or pos=='-' in sequence2:\n",
        "        result_1 = result_1 - gap\n",
        "        negative_penalty.append(result_1)\n",
        "      elif sequence1[index] != sequence2[index]: \n",
        "        result_1 = result_1 - mismatch\n",
        "        negative_penalty.append(result_1) \n",
        "      index = index + 1 \n",
        "    print('Alignment Score: ', len(positive_reward) - len(negative_penalty))\n",
        "  else:  \n",
        "    print('DNA sequences cannot be compared because their lengths are different')\n",
        "  "
      ],
      "execution_count": 26,
      "outputs": []
    },
    {
      "cell_type": "code",
      "metadata": {
        "id": "Vi30GESV8DMZ",
        "colab_type": "code",
        "colab": {
          "base_uri": "https://localhost:8080/",
          "height": 34
        },
        "outputId": "5b1633ed-002f-4c26-b39c-d62d294adfa0"
      },
      "source": [
        "# Question1: (5 points) Calculate alignment score between sequences 'AATATGATA' and 'AAGTTCATA''? Please write your codes in your jupyter notebook.\n",
        "\n",
        "\n",
        "\n",
        "alignment_score('AATATGATA', 'AAGTTCATA')"
      ],
      "execution_count": 27,
      "outputs": [
        {
          "output_type": "stream",
          "text": [
            "Alignment Score:  3\n"
          ],
          "name": "stdout"
        }
      ]
    },
    {
      "cell_type": "code",
      "metadata": {
        "id": "j-rk_fxUf1Zf",
        "colab_type": "code",
        "colab": {
          "base_uri": "https://localhost:8080/",
          "height": 34
        },
        "outputId": "3546a08a-bdb9-47ff-c224-8bf8a3cd7221"
      },
      "source": [
        "#Question2: (5 points) Calculate alignment score between sequences 'A-TAT-ATA' and 'AATTTC-TA''? Please write your codes in your jupyter notebook.\n",
        "\n",
        "alignment_score('A-TAT-ATA','AATTTC-TA')"
      ],
      "execution_count": 20,
      "outputs": [
        {
          "output_type": "stream",
          "text": [
            "Alignment Score:  1\n"
          ],
          "name": "stdout"
        }
      ]
    },
    {
      "cell_type": "code",
      "metadata": {
        "id": "oZMUDPXef12s",
        "colab_type": "code",
        "colab": {
          "base_uri": "https://localhost:8080/",
          "height": 34
        },
        "outputId": "95dd6565-599e-49b2-d467-fe85f0629269"
      },
      "source": [
        "#Question3: (5 points) Calculate alignment score between sequences 'AGCTGAA' and 'AATTTCAGAGA''? Please write your codes in your jupyter notebook. (Hint: this should return the error because the two sequences have different length)\n",
        "\n",
        "alignment_score('AGCTGAA','AATTTCAGAGA')"
      ],
      "execution_count": 21,
      "outputs": [
        {
          "output_type": "stream",
          "text": [
            "DNA sequences cannot be compared because their lengths are different\n"
          ],
          "name": "stdout"
        }
      ]
    },
    {
      "cell_type": "markdown",
      "metadata": {
        "id": "imRHozlZ2CB7",
        "colab_type": "text"
      },
      "source": [
        "Read.me: \n",
        "Dr. Hou, I am still having trouble adding the reward and penalty values together, because if I don't use the length of them, I receive an error that my code cannot add two non-integer values. If I don't use the length function, which built in function would I use to determine the value of the penalty and the reward?"
      ]
    }
  ]
}