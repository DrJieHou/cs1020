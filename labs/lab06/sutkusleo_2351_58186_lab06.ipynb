{
  "nbformat": 4,
  "nbformat_minor": 0,
  "metadata": {
    "colab": {
      "name": "lab06.ipynb",
      "provenance": [],
      "collapsed_sections": []
    },
    "kernelspec": {
      "name": "python3",
      "display_name": "Python 3"
    }
  },
  "cells": [
    {
      "cell_type": "code",
      "metadata": {
        "id": "0ZBj5hvIWJ76",
        "colab_type": "code",
        "colab": {}
      },
      "source": [
        "# Q1: Calculate alignment score between sequences 'AATATGATA' and 'AAGTTCATA''? Please write your codes in your jupyter notebook."
      ],
      "execution_count": null,
      "outputs": []
    },
    {
      "cell_type": "code",
      "metadata": {
        "id": "FUCHMNe8XPXs",
        "colab_type": "code",
        "colab": {}
      },
      "source": [
        "def alignment_score(sequence1, sequence2, match=1, mismatch=-1, gap=-1):\n",
        "   ## check length is same or not, if not, report error and quit\n",
        "\n",
        "   ## Use for loop to calculate the scores \n",
        "\n",
        "\n",
        "   ## print sequence 1\n",
        "\n",
        "   ## print sequence 2\n",
        "\n",
        "   ## print alignment score"
      ],
      "execution_count": null,
      "outputs": []
    },
    {
      "cell_type": "code",
      "metadata": {
        "id": "ZBs9SviIXWVA",
        "colab_type": "code",
        "colab": {}
      },
      "source": [
        "def alighnment_score(sequence1, sequence2, match=1, mismatch=-1, gap=-1):\n",
        "  index = 0\n",
        "  start = 0\n",
        "  positive_reward = []\n",
        "  negative_penalty = []\n",
        "  score = 0\n",
        "\n",
        "  if len(sequence1) == len(sequence2):\n",
        "    for pos in range(0,len(sequence1)): \n",
        "      if sequence1 [pos] == sequence2 [pos]:\n",
        "        score += match\n",
        "      elif '-' == sequence1 [pos] or '-' == sequence2 [pos]:\n",
        "        score+= gap  \n",
        "      elif sequence1 [pos] != sequence2 [pos]:\n",
        "        score += mismatch\n",
        "  print(sequence1)\n",
        "  print(sequence2)\n",
        "  print(score)"
      ],
      "execution_count": null,
      "outputs": []
    },
    {
      "cell_type": "code",
      "metadata": {
        "id": "LtoQpmaDyECo",
        "colab_type": "code",
        "colab": {
          "base_uri": "https://localhost:8080/",
          "height": 68
        },
        "outputId": "094a4f6f-7f7b-4e0d-b6bd-ca7789afa862"
      },
      "source": [
        "alighnment_score('AATATGATA', 'AAGTTCATA', match=1, mismatch=-1, gap=-1)"
      ],
      "execution_count": null,
      "outputs": [
        {
          "output_type": "stream",
          "text": [
            "AATATGATA\n",
            "AAGTTCATA\n",
            "3\n"
          ],
          "name": "stdout"
        }
      ]
    },
    {
      "cell_type": "code",
      "metadata": {
        "id": "ELKKoEyXsKlw",
        "colab_type": "code",
        "colab": {}
      },
      "source": [
        "def alighnment_score(sequence1, sequence2, match=2, mismatch=-2, gap=-2):\n",
        "  index = 0\n",
        "  start = 0\n",
        "  positive_reward = []\n",
        "  negative_penalty = []\n",
        "  score = 0\n",
        "\n",
        "  if len(sequence1) == len(sequence2):\n",
        "    for pos in range(0,len(sequence1)): \n",
        "      if sequence1 [pos] == sequence2 [pos]:\n",
        "        score += match\n",
        "      elif '-' == sequence1 [pos] or '-' == sequence2 [pos]:\n",
        "        score+= gap  \n",
        "      elif sequence1 [pos] != sequence2 [pos]:\n",
        "        score += mismatch\n",
        "  print(sequence1)\n",
        "  print(sequence2)\n",
        "  print(score)"
      ],
      "execution_count": 15,
      "outputs": []
    },
    {
      "cell_type": "code",
      "metadata": {
        "id": "iZqBwfUfsRR9",
        "colab_type": "code",
        "colab": {
          "base_uri": "https://localhost:8080/",
          "height": 68
        },
        "outputId": "1a032dac-a031-4ad5-b124-c01d82ad9e47"
      },
      "source": [
        "alighnment_score('AATATGATA', 'AAGTTCATA', match=2, mismatch=-2, gap=-2)"
      ],
      "execution_count": 16,
      "outputs": [
        {
          "output_type": "stream",
          "text": [
            "AATATGATA\n",
            "AAGTTCATA\n",
            "6\n"
          ],
          "name": "stdout"
        }
      ]
    },
    {
      "cell_type": "code",
      "metadata": {
        "id": "pK7gZlqEqOuR",
        "colab_type": "code",
        "colab": {}
      },
      "source": [
        "# Q2: Calculate alignment score between sequences 'A-TAT-ATA' and 'AATTTC-TA''? Please write your codes in your jupyter notebook."
      ],
      "execution_count": null,
      "outputs": []
    },
    {
      "cell_type": "code",
      "metadata": {
        "id": "LTYfuDxkqSCo",
        "colab_type": "code",
        "colab": {}
      },
      "source": [
        "def alighnment_score(sequence1, sequence2, match=1, mismatch=-1, gap=-1):\n",
        "  index = 0\n",
        "  start = 0\n",
        "  positive_reward = []\n",
        "  negative_penalty = []\n",
        "  score = 0\n",
        "\n",
        "  if len(sequence1) == len(sequence2):\n",
        "    for pos in range(0,len(sequence1)): \n",
        "      if sequence1 [pos] == sequence2 [pos]:\n",
        "        score += match\n",
        "      elif '-' == sequence1 [pos] or '-' == sequence2 [pos]:\n",
        "        score+= gap  \n",
        "      elif sequence1 [pos] != sequence2 [pos]:\n",
        "        score += mismatch\n",
        "  print(sequence1)\n",
        "  print(sequence2)\n",
        "  print(score)"
      ],
      "execution_count": 19,
      "outputs": []
    },
    {
      "cell_type": "code",
      "metadata": {
        "id": "J23MamwLqXhJ",
        "colab_type": "code",
        "colab": {
          "base_uri": "https://localhost:8080/",
          "height": 68
        },
        "outputId": "5d263b8d-1106-4188-f0d4-710f8682f3e2"
      },
      "source": [
        "alighnment_score('A-TAT-ATA', 'AATTTC-TA', match=1, mismatch=-1, gap=-1)"
      ],
      "execution_count": 20,
      "outputs": [
        {
          "output_type": "stream",
          "text": [
            "A-TAT-ATA\n",
            "AATTTC-TA\n",
            "1\n"
          ],
          "name": "stdout"
        }
      ]
    },
    {
      "cell_type": "code",
      "metadata": {
        "id": "a9wN_ZciseJ-",
        "colab_type": "code",
        "colab": {}
      },
      "source": [
        "def alighnment_score(sequence1, sequence2, match=2, mismatch=-2, gap=-2):\n",
        "  index = 0\n",
        "  start = 0\n",
        "  positive_reward = []\n",
        "  negative_penalty = []\n",
        "  score = 0\n",
        "\n",
        "  if len(sequence1) == len(sequence2):\n",
        "    for pos in range(0,len(sequence1)): \n",
        "      if sequence1 [pos] == sequence2 [pos]:\n",
        "        score += match\n",
        "      elif '-' == sequence1 [pos] or '-' == sequence2 [pos]:\n",
        "        score+= gap  \n",
        "      elif sequence1 [pos] != sequence2 [pos]:\n",
        "        score += mismatch\n",
        "  print(sequence1)\n",
        "  print(sequence2)\n",
        "  print(score)"
      ],
      "execution_count": 21,
      "outputs": []
    },
    {
      "cell_type": "code",
      "metadata": {
        "id": "0jc0wER1sWTT",
        "colab_type": "code",
        "colab": {
          "base_uri": "https://localhost:8080/",
          "height": 68
        },
        "outputId": "7627e41e-d4d0-4660-e955-2e9ce585a89b"
      },
      "source": [
        "alighnment_score('A-TAT-ATA', 'AATTTC-TA', match=2, mismatch=-2, gap=-2)"
      ],
      "execution_count": 22,
      "outputs": [
        {
          "output_type": "stream",
          "text": [
            "A-TAT-ATA\n",
            "AATTTC-TA\n",
            "2\n"
          ],
          "name": "stdout"
        }
      ]
    },
    {
      "cell_type": "code",
      "metadata": {
        "id": "auT8jNtCqpZb",
        "colab_type": "code",
        "colab": {}
      },
      "source": [
        "# Q3: Calculate alignment score between sequences 'AGCTGAA' and 'AATTTCAGAGA''? Please write your codes in your jupyter notebook. (Hint: this should return the error because the two sequences have different length)"
      ],
      "execution_count": null,
      "outputs": []
    },
    {
      "cell_type": "code",
      "metadata": {
        "id": "b93hPq4fquYd",
        "colab_type": "code",
        "colab": {}
      },
      "source": [
        "def alighnment_score(sequence1, sequence2, match=1, mismatch=-1, gap=-1):\n",
        "  index = 0\n",
        "  start = 0\n",
        "  positive_reward = []\n",
        "  negative_penalty = []\n",
        "  score = 0\n",
        "\n",
        "  if len(sequence1) == len(sequence2):\n",
        "    for pos in range(0,len(sequence1)): \n",
        "      if '-' == sequence1 [pos] or '-' == sequence2 [pos]:\n",
        "        score+= gap\n",
        "      elif sequence1 [pos] == sequence2 [pos]:\n",
        "        score += match  \n",
        "      elif sequence1 [pos] != sequence2 [pos]:\n",
        "        score += mismatch\n",
        "  print(sequence1)\n",
        "  print(sequence2)\n",
        "  print(score)"
      ],
      "execution_count": 23,
      "outputs": []
    },
    {
      "cell_type": "code",
      "metadata": {
        "id": "9ITv594OqwqU",
        "colab_type": "code",
        "colab": {
          "base_uri": "https://localhost:8080/",
          "height": 68
        },
        "outputId": "1bcc8395-953e-403d-dd0f-04a28f3d3c20"
      },
      "source": [
        "alighnment_score('AGCTGAA', 'AATTTCAGAGA', match=1, mismatch=-1, gap=-1)"
      ],
      "execution_count": 26,
      "outputs": [
        {
          "output_type": "stream",
          "text": [
            "AGCTGAA\n",
            "AATTTCAGAGA\n",
            "0\n"
          ],
          "name": "stdout"
        }
      ]
    }
  ]
}