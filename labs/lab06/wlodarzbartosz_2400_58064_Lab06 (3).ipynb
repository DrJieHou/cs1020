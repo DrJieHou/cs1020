{
  "nbformat": 4,
  "nbformat_minor": 0,
  "metadata": {
    "colab": {
      "name": "Lab06.ipynb",
      "provenance": []
    },
    "kernelspec": {
      "name": "python3",
      "display_name": "Python 3"
    }
  },
  "cells": [
    {
      "cell_type": "code",
      "metadata": {
        "id": "_L62YNM5PVrf",
        "colab_type": "code",
        "colab": {}
      },
      "source": [
        "def alignment_score(sequence1, sequence2, match=1, mismatch=-1, gap=-1):\n",
        "   ## check length is same or not, if not, report error and quit\n",
        "  if len(sequence1) != len(sequence2):\n",
        "    print(sequence1, '-->', len(sequence1))\n",
        "    print(sequence2, '-->', len(sequence2))\n",
        "    print('Not the same length')\n",
        "  else :\n",
        "    alignmentscore = 0\n",
        "   ## Use for loop to calculate the scores \n",
        "    for pos in range (0, len(sequence1)):\n",
        "      if sequence1[pos] == sequence2[pos]:\n",
        "        alignmentscore = alignmentscore + match\n",
        "      else :\n",
        "        alignmentscore = alignmentscore + mismatch\n",
        "      if sequence1[pos] == '-' :\n",
        "        alignmentscore = alignmentscore + gap + match\n",
        "      if sequence2[pos] == '-' :\n",
        "           alignmentscore = alignmentscore + gap + match\n",
        "   ## print sequence 1\n",
        "    print(sequence1)\n",
        "   ## print sequence \n",
        "    print(sequence2)\n",
        "   ## print alignment score\n",
        "    print('Alignment score is -->', alignmentscore)"
      ],
      "execution_count": 7,
      "outputs": []
    },
    {
      "cell_type": "code",
      "metadata": {
        "id": "H1PMuYgkZFxf",
        "colab_type": "code",
        "colab": {
          "base_uri": "https://localhost:8080/",
          "height": 121
        },
        "outputId": "1e90f57e-19f7-47a7-f9d6-494699e34f94"
      },
      "source": [
        "alignment_score('AATATGATA', 'AAGTTCATA', match=1, mismatch=-1, gap=-1)\n",
        "alignment_score('AATATGATA', 'AAGTTCATA', match=2, mismatch=-2, gap=-2)"
      ],
      "execution_count": 8,
      "outputs": [
        {
          "output_type": "stream",
          "text": [
            "AATATGATA\n",
            "AAGTTCATA\n",
            "Alignment score is --> 3\n",
            "AATATGATA\n",
            "AAGTTCATA\n",
            "Alignment score is --> 6\n"
          ],
          "name": "stdout"
        }
      ]
    },
    {
      "cell_type": "code",
      "metadata": {
        "id": "jyl12_OoU712",
        "colab_type": "code",
        "colab": {
          "base_uri": "https://localhost:8080/",
          "height": 121
        },
        "outputId": "374bfc71-f9c8-4350-bd9a-df29feb6abc1"
      },
      "source": [
        "alignment_score('A-TAT-ATA',  'AATTTC-TA', match=1, mismatch=-1, gap=-1)\n",
        "alignment_score('A-TAT-ATA',  'AATTTC-TA', match=2, mismatch=-2, gap=-2)"
      ],
      "execution_count": 9,
      "outputs": [
        {
          "output_type": "stream",
          "text": [
            "A-TAT-ATA\n",
            "AATTTC-TA\n",
            "Alignment score is --> 1\n",
            "A-TAT-ATA\n",
            "AATTTC-TA\n",
            "Alignment score is --> 2\n"
          ],
          "name": "stdout"
        }
      ]
    },
    {
      "cell_type": "code",
      "metadata": {
        "id": "niZJi4BEeno1",
        "colab_type": "code",
        "colab": {
          "base_uri": "https://localhost:8080/",
          "height": 69
        },
        "outputId": "ad914745-ea83-4fe9-fb0b-c6e2e51df137"
      },
      "source": [
        "alignment_score('AGCTGAA', 'AATTTCAGAGA', match=1, mismatch=-1, gap=-1)"
      ],
      "execution_count": null,
      "outputs": [
        {
          "output_type": "stream",
          "text": [
            "AGCTGAA --> 7\n",
            "AATTTCAGAGA --> 11\n",
            "Not the same length\n"
          ],
          "name": "stdout"
        }
      ]
    }
  ]
}