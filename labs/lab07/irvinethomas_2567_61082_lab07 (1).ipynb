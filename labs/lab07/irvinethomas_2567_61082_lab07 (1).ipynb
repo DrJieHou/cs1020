{
  "nbformat": 4,
  "nbformat_minor": 0,
  "metadata": {
    "colab": {
      "name": "lab07.ipynb",
      "provenance": []
    },
    "kernelspec": {
      "name": "python3",
      "display_name": "Python 3"
    }
  },
  "cells": [
    {
      "cell_type": "code",
      "metadata": {
        "id": "rKV3Zoj_YbPE",
        "outputId": "17a96741-8a5d-4f55-a9e8-6290631833b7",
        "colab": {
          "base_uri": "https://localhost:8080/",
          "height": 659
        }
      },
      "source": [
        "## Problem 1\n",
        "int_alignment_table = [[\"1\" ,\"1\" ,\"1\"], [\"2\", \"2\", \"2\"], [\"3\", \"3\", \"3\"]]\n",
        "## Problem 2\n",
        "for i in int_alignment_table:\n",
        "  print(i)\n",
        "## Problem 3\n",
        "print(\"\")\n",
        "for row in int_alignment_table:\n",
        "  row = [element.replace(\"1\", \"-1\") for element in row]\n",
        "  print(row)\n",
        "\n",
        "#for row in alignment_table:\n",
        "#  for element in row:\n",
        "#    row = element.replace(\"1\", \"-1\")\n",
        "#  print(row)\n",
        "\n",
        "## Problem 4\n",
        "print(\"\")\n",
        "for row in int_alignment_table:\n",
        "  row = [element.replace(\"1\", \"-1\") for element in row]\n",
        "  row[0] = \"-1\"\n",
        "  print(row)\n",
        "## Problem 5\n",
        "print(\"\")\n",
        "up_alignment_table = [[\"0\",\"0\",\"0\",\"0\",\"0\"],[\"0\",\"0\",\"0\",\"0\",\"0\"],[\"0\",\"0\",\"0\",\"0\",\"0\"],[\"0\",\"0\",\"0\",\"0\",\"0\"],[\"0\",\"0\",\"0\",\"0\",\"0\"],[\"0\",\"0\",\"0\",\"0\",\"0\"],[\"0\",\"0\",\"0\",\"0\",\"0\"],[\"0\",\"0\",\"0\",\"0\",\"0\"],[\"0\",\"0\",\"0\",\"0\",\"0\"],[\"0\",\"0\",\"0\",\"0\",\"0\"]]\n",
        "for row in up_alignment_table:\n",
        "  print(row)\n",
        "## Problem 6\n",
        "print(\"\")\n",
        "def alignment_table(seq1, seq2):\n",
        "  table = []\n",
        "  row = [\"0\"]\n",
        "  print(seq1)\n",
        "  print(seq2)\n",
        "  for dna in seq2:\n",
        "    row.append(\"0\")\n",
        "  table.append(row)\n",
        "  for dna in seq1:\n",
        "    table.append(row)\n",
        "  for row in table:\n",
        "    print(row)\n",
        "## Problem 7\n",
        "print(\"\")\n",
        "def updated_alignment_table(seq1, seq2):\n",
        "  table = []\n",
        "  row = [\"0\"]\n",
        "  row1 = [\"0\"]\n",
        "  row1_count = 0\n",
        "  col1_count = 0\n",
        "  count = 0\n",
        "  print(\"DNA Sequence 1:\", seq1, \"with Sequence Length:\", len(seq1))\n",
        "  print(\"DNA Sequence 2:\", seq2, \"with Sequence Length:\", len(seq2))\n",
        "  print(\"The updated table with dimensions:\", len(seq1) + 1, \"and\", len(seq2) + 1, \"for the sequence alignment is:\")\n",
        "  for dna in seq2:\n",
        "    row.append(\"0\")\n",
        "  table.append(row)\n",
        "  for dna in seq1:\n",
        "    table.append(row)\n",
        "  for dna in seq2:\n",
        "    row1_count = row1_count - 1\n",
        "    row1.append(str(row1_count))\n",
        "  table[0] = row1\n",
        "  for rows in table:\n",
        "    rows[0] = str(col1_count)\n",
        "    print(\"row:\", count, rows)\n",
        "    col1_count = col1_count - 1\n",
        "    count = count + 1\n",
        "updated_alignment_table(\"AATTATATT\", \"ACGTTAT\")\n",
        "\n",
        "\n",
        "\n",
        "\n"
      ],
      "execution_count": 32,
      "outputs": [
        {
          "output_type": "stream",
          "text": [
            "['1', '1', '1']\n",
            "['2', '2', '2']\n",
            "['3', '3', '3']\n",
            "\n",
            "['-1', '-1', '-1']\n",
            "['2', '2', '2']\n",
            "['3', '3', '3']\n",
            "\n",
            "['-1', '-1', '-1']\n",
            "['-1', '2', '2']\n",
            "['-1', '3', '3']\n",
            "\n",
            "['0', '0', '0', '0', '0']\n",
            "['0', '0', '0', '0', '0']\n",
            "['0', '0', '0', '0', '0']\n",
            "['0', '0', '0', '0', '0']\n",
            "['0', '0', '0', '0', '0']\n",
            "['0', '0', '0', '0', '0']\n",
            "['0', '0', '0', '0', '0']\n",
            "['0', '0', '0', '0', '0']\n",
            "['0', '0', '0', '0', '0']\n",
            "['0', '0', '0', '0', '0']\n",
            "\n",
            "\n",
            "DNA Sequence 1: AATTATATT with Sequence Length: 9\n",
            "DNA Sequence 2: ACGTTAT with Sequence Length: 7\n",
            "The updated table with dimensions: 10 and 8 for the sequence alignment is:\n",
            "row: 0 ['0', '-1', '-2', '-3', '-4', '-5', '-6', '-7']\n",
            "row: 1 ['-1', '0', '0', '0', '0', '0', '0', '0']\n",
            "row: 2 ['-2', '0', '0', '0', '0', '0', '0', '0']\n",
            "row: 3 ['-3', '0', '0', '0', '0', '0', '0', '0']\n",
            "row: 4 ['-4', '0', '0', '0', '0', '0', '0', '0']\n",
            "row: 5 ['-5', '0', '0', '0', '0', '0', '0', '0']\n",
            "row: 6 ['-6', '0', '0', '0', '0', '0', '0', '0']\n",
            "row: 7 ['-7', '0', '0', '0', '0', '0', '0', '0']\n",
            "row: 8 ['-8', '0', '0', '0', '0', '0', '0', '0']\n",
            "row: 9 ['-9', '0', '0', '0', '0', '0', '0', '0']\n"
          ],
          "name": "stdout"
        }
      ]
    },
    {
      "cell_type": "code",
      "metadata": {
        "id": "hjuKxCDT9SxS"
      },
      "source": [
        ""
      ],
      "execution_count": null,
      "outputs": []
    }
  ]
}