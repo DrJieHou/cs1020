{
  "nbformat": 4,
  "nbformat_minor": 0,
  "metadata": {
    "colab": {
      "name": "lab07.ipynb",
      "provenance": []
    },
    "kernelspec": {
      "name": "python3",
      "display_name": "Python 3"
    }
  },
  "cells": [
    {
      "cell_type": "code",
      "metadata": {
        "id": "xm3f33lDIJG4",
        "outputId": "6c8bf001-93f3-4002-9fb7-bad3f48e427e",
        "colab": {
          "base_uri": "https://localhost:8080/",
          "height": 35
        }
      },
      "source": [
        "###Question 1\n",
        "Align_matrix = [[1, 1, 1],\n",
        "                [2, 2, 2],\n",
        "                [3, 3, 3]]\n",
        "print(Align_matrix)"
      ],
      "execution_count": 4,
      "outputs": [
        {
          "output_type": "stream",
          "text": [
            "[[1, 1, 1], [2, 2, 2], [3, 3, 3]]\n"
          ],
          "name": "stdout"
        }
      ]
    },
    {
      "cell_type": "code",
      "metadata": {
        "id": "uxv_ed7FI8At",
        "outputId": "bcd95782-4741-4580-e972-543a025a9f6b",
        "colab": {
          "base_uri": "https://localhost:8080/",
          "height": 70
        }
      },
      "source": [
        "###Question 2\n",
        "for list in Align_matrix:\n",
        "  print(\"Row 1:\", Align_matrix[0])\n",
        "  print(\"Row 2:\", Align_matrix[1])\n",
        "  print(\"Row 3:\", Align_matrix[2])\n",
        "  break"
      ],
      "execution_count": 17,
      "outputs": [
        {
          "output_type": "stream",
          "text": [
            "Row 1: [1, 1, 1]\n",
            "Row 2: [2, 2, 2]\n",
            "Row 3: [3, 3, 3]\n"
          ],
          "name": "stdout"
        }
      ]
    },
    {
      "cell_type": "code",
      "metadata": {
        "id": "gJ0EuEdFKAwy",
        "outputId": "6d57a92d-077b-4a85-a7f9-0f21cac6ebfd",
        "colab": {
          "base_uri": "https://localhost:8080/",
          "height": 35
        }
      },
      "source": [
        "###Question 3\n",
        "Align_matrix[0] = [-1, -1, -1]\n",
        "\n",
        "print(Align_matrix)"
      ],
      "execution_count": 19,
      "outputs": [
        {
          "output_type": "stream",
          "text": [
            "[[-1, -1, -1], [2, 2, 2], [3, 3, 3]]\n"
          ],
          "name": "stdout"
        }
      ]
    },
    {
      "cell_type": "code",
      "metadata": {
        "id": "MmZ2V8PgKb-b",
        "outputId": "7be3671a-78ef-40cd-a850-d0797bc71139",
        "colab": {
          "base_uri": "https://localhost:8080/",
          "height": 35
        }
      },
      "source": [
        "###Question 4\n",
        "Align_matrix[1] = [-1, 2, 2]\n",
        "Align_matrix[2] = [-1, 3, 3]\n",
        "\n",
        "print(Align_matrix)"
      ],
      "execution_count": 20,
      "outputs": [
        {
          "output_type": "stream",
          "text": [
            "[[-1, -1, -1], [-1, 2, 2], [-1, 3, 3]]\n"
          ],
          "name": "stdout"
        }
      ]
    },
    {
      "cell_type": "code",
      "metadata": {
        "id": "jH9VO_8yK62i",
        "outputId": "419dcd0b-908a-4a24-f4f1-be29e8664748",
        "colab": {
          "base_uri": "https://localhost:8080/",
          "height": 52
        }
      },
      "source": [
        "###Question 5\n",
        "R = 10\n",
        "C = 5\n",
        "Base_Table = [[0 for x in range(R)] for y in range(C)]\n",
        "\n",
        "print(Base_Table)\n",
        "\n",
        "print(len(Base_Table[0:4]))"
      ],
      "execution_count": 43,
      "outputs": [
        {
          "output_type": "stream",
          "text": [
            "[[0, 0, 0, 0, 0, 0, 0, 0, 0, 0], [0, 0, 0, 0, 0, 0, 0, 0, 0, 0], [0, 0, 0, 0, 0, 0, 0, 0, 0, 0], [0, 0, 0, 0, 0, 0, 0, 0, 0, 0], [0, 0, 0, 0, 0, 0, 0, 0, 0, 0]]\n",
            "4\n"
          ],
          "name": "stdout"
        }
      ]
    },
    {
      "cell_type": "code",
      "metadata": {
        "id": "FoOZshhtLvOZ"
      },
      "source": [
        "############################################################################ \n",
        "# Implementation of initial alignment table for Pairwise Alignment algorithm \n",
        "############################################################################ \n",
        "sequence1 = 'AATTATATT'\n",
        "sequence2 = 'ACGTTAT'\n",
        "def alignment_table(sequence1, sequence2):\n",
        "  R = 10\n",
        "  C = 5\n",
        "  Base_Table = [[0 for x in range(R)] for y in range(C)]\n",
        "    ## print sequence 1\n",
        "  print(\"Sequence 1:\", sequence1, \"With Length of:\", len(sequence1))\n",
        "    ## print sequence 2\n",
        "  print(\"Sequence 2:\", sequence2, \"With Length of:\", len(sequence2))\n",
        "    ## print the initial alignment table with all values equal to 0\n",
        "  for List in Base_Table:\n",
        "      M = len(sequence1)\n",
        "      N = len(sequence2)\n",
        "      if len(Base_Table[0:4]) != M + 1 or N + 1:\n",
        "        R = M+1\n",
        "        C = N+1\n",
        "        \n",
        "        Base_Table = [[0 for x in range(R)] for y in range(C)]\n",
        "        print(\"The Initial Table with dimension 10 and 8 for the sequence alignment is:\", Base_Table) \n",
        "        break\n",
        "      \n",
        "      \n",
        "        \n",
        "\n",
        "\n",
        "alignment_table(sequence1, sequence2)"
      ],
      "execution_count": null,
      "outputs": []
    },
    {
      "cell_type": "code",
      "metadata": {
        "id": "BlzvHXMQVSnV"
      },
      "source": [
        "###Question 7\n",
        "def alignment_table_updated(sequence1, sequence2)::\n",
        "  print(\"Sequence 1:\", sequence1, \"With Length of:\", len(sequence1))\n",
        "  print(\"Sequence 2:\", sequence2, \"With Length of:\", len(sequence2))\n",
        "  for i in range(len(Base_Table)):\n",
        "    \n",
        "\n"
      ],
      "execution_count": null,
      "outputs": []
    }
  ]
}