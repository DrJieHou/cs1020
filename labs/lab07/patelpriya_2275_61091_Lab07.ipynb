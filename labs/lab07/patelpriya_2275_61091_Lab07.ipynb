{
  "nbformat": 4,
  "nbformat_minor": 0,
  "metadata": {
    "colab": {
      "name": "Lab07.ipynb",
      "provenance": []
    },
    "kernelspec": {
      "name": "python3",
      "display_name": "Python 3"
    }
  },
  "cells": [
    {
      "cell_type": "code",
      "metadata": {
        "id": "ifKOUuqNRH9c"
      },
      "source": [
        "# Q1: Given the following table/matrix, write a python code to store the table into python variable. (hint: saving rows in a list, each row can also be a list. In other words, each element in a list is also a list type).  "
      ],
      "execution_count": null,
      "outputs": []
    },
    {
      "cell_type": "code",
      "metadata": {
        "id": "fkchZGloc22a"
      },
      "source": [
        "row_0: [1,1,1]\n",
        "row_1: [2,2,2]\n",
        "row_2: [3,3,3]"
      ],
      "execution_count": 1,
      "outputs": []
    },
    {
      "cell_type": "code",
      "metadata": {
        "id": "zEaT4TK7W9co",
        "outputId": "43261e2b-51f2-488e-dd60-ad8aa0a474f8",
        "colab": {
          "base_uri": "https://localhost:8080/",
          "height": 34
        }
      },
      "source": [
        "table = [[1,1,1], [2,2,2], [3,3,3]]\n",
        "print(table)"
      ],
      "execution_count": 2,
      "outputs": [
        {
          "output_type": "stream",
          "text": [
            "[[1, 1, 1], [2, 2, 2], [3, 3, 3]]\n"
          ],
          "name": "stdout"
        }
      ]
    },
    {
      "cell_type": "code",
      "metadata": {
        "id": "adRs2JEMcjmp",
        "outputId": "7ab709cc-5a39-4647-9fa0-f9e571d282d6",
        "colab": {
          "base_uri": "https://localhost:8080/",
          "height": 68
        }
      },
      "source": [
        "for row in table:\n",
        "  for ele in row:\n",
        "    print(ele, end=' ')\n",
        "  print('')"
      ],
      "execution_count": 3,
      "outputs": [
        {
          "output_type": "stream",
          "text": [
            "1 1 1 \n",
            "2 2 2 \n",
            "3 3 3 \n"
          ],
          "name": "stdout"
        }
      ]
    },
    {
      "cell_type": "code",
      "metadata": {
        "id": "YTXBwdwiRLBv"
      },
      "source": [
        "# Q2:  Write for loop to print out the variable created in question 1. An example output is attached below:"
      ],
      "execution_count": null,
      "outputs": []
    },
    {
      "cell_type": "code",
      "metadata": {
        "id": "d3YvI5HQXu6t",
        "outputId": "a80f6300-dc51-45dd-99ae-d9afa242c8a9",
        "colab": {
          "base_uri": "https://localhost:8080/",
          "height": 68
        }
      },
      "source": [
        "for row in table:\n",
        "  print(row)"
      ],
      "execution_count": 4,
      "outputs": [
        {
          "output_type": "stream",
          "text": [
            "[1, 1, 1]\n",
            "[2, 2, 2]\n",
            "[3, 3, 3]\n"
          ],
          "name": "stdout"
        }
      ]
    },
    {
      "cell_type": "code",
      "metadata": {
        "id": "Kt_6nvY-ROxb"
      },
      "source": [
        "# Q3: Given the variable created in question 1, write python codes to change its first row to [-1, -1, -1]. An example output is attached below:"
      ],
      "execution_count": null,
      "outputs": []
    },
    {
      "cell_type": "code",
      "metadata": {
        "id": "CBYXySQw129Z",
        "outputId": "51a81255-2886-4da1-fed8-c1ec6ea3e718",
        "colab": {
          "base_uri": "https://localhost:8080/",
          "height": 68
        }
      },
      "source": [
        "table[0] = [-1, -1, -1]\n",
        "for row in table:\n",
        "  print(row)"
      ],
      "execution_count": 12,
      "outputs": [
        {
          "output_type": "stream",
          "text": [
            "[-1, -1, -1]\n",
            "[2, 2, 2]\n",
            "[3, 3, 3]\n"
          ],
          "name": "stdout"
        }
      ]
    },
    {
      "cell_type": "code",
      "metadata": {
        "id": "7UbocKhhRSii"
      },
      "source": [
        "# Q4: Given the variable created in question 3, write python codes to change its first column to [-1, -1, -1]. An example output is attached below:"
      ],
      "execution_count": null,
      "outputs": []
    },
    {
      "cell_type": "code",
      "metadata": {
        "id": "7Xor6S3PC6jc",
        "outputId": "921bdd90-f05f-4c17-819e-0efc378540b7",
        "colab": {
          "base_uri": "https://localhost:8080/",
          "height": 68
        }
      },
      "source": [
        "table[0][0] = -1\n",
        "table[1][0] = -1\n",
        "table[2][0] = -1\n",
        "for row in table:\n",
        "  print(row)"
      ],
      "execution_count": 14,
      "outputs": [
        {
          "output_type": "stream",
          "text": [
            "[-1, -1, -1]\n",
            "[-1, 2, 2]\n",
            "[-1, 3, 3]\n"
          ],
          "name": "stdout"
        }
      ]
    },
    {
      "cell_type": "code",
      "metadata": {
        "id": "QTWbV_RfRVe3"
      },
      "source": [
        "# Q5: Suppose we would like to create an alignment table with 10 rows and 5 columns, write python codes to create an alignment table with all values equal to 0. An example output is attached below:"
      ],
      "execution_count": null,
      "outputs": []
    },
    {
      "cell_type": "code",
      "metadata": {
        "id": "Ue5oZ6UJX9Xt",
        "outputId": "107a10a2-3cfb-43d4-ea42-e1b2691e83f9",
        "colab": {
          "base_uri": "https://localhost:8080/",
          "height": 187
        }
      },
      "source": [
        "alignment_table = [[0,0,0,0,0], [0,0,0,0,0], [0,0,0,0,0], [0,0,0,0,0], [0,0,0,0,0], [0,0,0,0,0], [0,0,0,0,0], [0,0,0,0,0], [0,0,0,0,0], [0,0,0,0,0]]\n",
        "for row in alignment_table:\n",
        "  print(row)"
      ],
      "execution_count": 15,
      "outputs": [
        {
          "output_type": "stream",
          "text": [
            "[0, 0, 0, 0, 0]\n",
            "[0, 0, 0, 0, 0]\n",
            "[0, 0, 0, 0, 0]\n",
            "[0, 0, 0, 0, 0]\n",
            "[0, 0, 0, 0, 0]\n",
            "[0, 0, 0, 0, 0]\n",
            "[0, 0, 0, 0, 0]\n",
            "[0, 0, 0, 0, 0]\n",
            "[0, 0, 0, 0, 0]\n",
            "[0, 0, 0, 0, 0]\n"
          ],
          "name": "stdout"
        }
      ]
    },
    {
      "cell_type": "code",
      "metadata": {
        "id": "Wn_r_bF6RcDS"
      },
      "source": [
        "# Q6: Given what you have done in question 5, now suppose we have two sequences (X and Y). The length of X is M, and the length of Y is N. We would like to create an alignment table with M+1 rows and N+1 columns, write a python function to create an alignment table with all values equal to 0. An example code is attached below:"
      ],
      "execution_count": null,
      "outputs": []
    },
    {
      "cell_type": "code",
      "metadata": {
        "id": "Xx05XqvpZIEs"
      },
      "source": [
        "def alignment_table(sequence1, sequence2):\n",
        "    ## print sequence 1\n",
        "    print(sequence1)\n",
        "    ## print sequence 2\n",
        "    print(sequence2)\n",
        "    ## print the initial alignment table with all values equal to 0\n",
        "    rows = []\n",
        "    for i in range(len(sequence1)+1):\n",
        "      columns = []\n",
        "      for j in range(len(sequence2)+1):\n",
        "        columns.append(0)\n",
        "      rows.append(columns)\n",
        "\n",
        "    for row in rows:\n",
        "      print(row)\n",
        "\n",
        "    return rows"
      ],
      "execution_count": null,
      "outputs": []
    },
    {
      "cell_type": "code",
      "metadata": {
        "id": "Bh4sk-NmLEJw",
        "outputId": "3c6726d2-b7e8-494c-bb23-d3efb500565c",
        "colab": {
          "base_uri": "https://localhost:8080/",
          "height": 221
        }
      },
      "source": [
        "alignment_table = alignment_table('AATTATATT', 'ACGTTAT')"
      ],
      "execution_count": null,
      "outputs": [
        {
          "output_type": "stream",
          "text": [
            "AATTATATT\n",
            "ACGTTAT\n",
            "[0, 0, 0, 0, 0, 0, 0, 0]\n",
            "[0, 0, 0, 0, 0, 0, 0, 0]\n",
            "[0, 0, 0, 0, 0, 0, 0, 0]\n",
            "[0, 0, 0, 0, 0, 0, 0, 0]\n",
            "[0, 0, 0, 0, 0, 0, 0, 0]\n",
            "[0, 0, 0, 0, 0, 0, 0, 0]\n",
            "[0, 0, 0, 0, 0, 0, 0, 0]\n",
            "[0, 0, 0, 0, 0, 0, 0, 0]\n",
            "[0, 0, 0, 0, 0, 0, 0, 0]\n",
            "[0, 0, 0, 0, 0, 0, 0, 0]\n"
          ],
          "name": "stdout"
        }
      ]
    },
    {
      "cell_type": "code",
      "metadata": {
        "id": "x16zqeuPTlOx"
      },
      "source": [
        "# Q7: Given what you have done in question 6, we create the initial alignment table for the two sequences (X and Y). Now we would like to initialize the first row and first column as the following rules,"
      ],
      "execution_count": null,
      "outputs": []
    },
    {
      "cell_type": "code",
      "metadata": {
        "id": "QaFrzlTtTmV3"
      },
      "source": [
        "# 1. for the first row, filling out each value by the adding value -1 to its left cell's value. For instance, [0,0,0,0] will be [0, -1, -2, -3]."
      ],
      "execution_count": null,
      "outputs": []
    },
    {
      "cell_type": "code",
      "metadata": {
        "id": "NFl50jIvMf7C"
      },
      "source": [
        "for i in range(len(alignment_table[0])-1):\n",
        "  alignment_table[0][i+1] = alignment_table[0][i] - 1"
      ],
      "execution_count": null,
      "outputs": []
    },
    {
      "cell_type": "code",
      "metadata": {
        "id": "pOF0WcHXPWd8",
        "outputId": "3f0487ef-8306-4b5e-ed4b-558486777ab7",
        "colab": {
          "base_uri": "https://localhost:8080/",
          "height": 74
        }
      },
      "source": [
        "print(alignment_table)"
      ],
      "execution_count": 16,
      "outputs": [
        {
          "output_type": "stream",
          "text": [
            "[[0, 0, 0, 0, 0], [0, 0, 0, 0, 0], [0, 0, 0, 0, 0], [0, 0, 0, 0, 0], [0, 0, 0, 0, 0], [0, 0, 0, 0, 0], [0, 0, 0, 0, 0], [0, 0, 0, 0, 0], [0, 0, 0, 0, 0], [0, 0, 0, 0, 0]]\n"
          ],
          "name": "stdout"
        }
      ]
    },
    {
      "cell_type": "code",
      "metadata": {
        "id": "g2F1GPELTo3L"
      },
      "source": [
        "# 2. for the first column, filling out each value by the adding value -1 to its top cell's value. For instance, [0,0,0,0] will be [0, -1, -2, -3]."
      ],
      "execution_count": null,
      "outputs": []
    },
    {
      "cell_type": "code",
      "metadata": {
        "id": "JQvtsaFrPjkv"
      },
      "source": [
        "for i in range(len(alignment_table)-1):\n",
        "  alignment_table[i+1][0] = alignment_table[i][0] - 1"
      ],
      "execution_count": 17,
      "outputs": []
    },
    {
      "cell_type": "code",
      "metadata": {
        "id": "uC90AAPvPxGs",
        "outputId": "d315ff4d-f960-46de-ef26-12ffa54c5996",
        "colab": {
          "base_uri": "https://localhost:8080/",
          "height": 74
        }
      },
      "source": [
        "print(alignment_table)"
      ],
      "execution_count": 18,
      "outputs": [
        {
          "output_type": "stream",
          "text": [
            "[[0, 0, 0, 0, 0], [-1, 0, 0, 0, 0], [-2, 0, 0, 0, 0], [-3, 0, 0, 0, 0], [-4, 0, 0, 0, 0], [-5, 0, 0, 0, 0], [-6, 0, 0, 0, 0], [-7, 0, 0, 0, 0], [-8, 0, 0, 0, 0], [-9, 0, 0, 0, 0]]\n"
          ],
          "name": "stdout"
        }
      ]
    },
    {
      "cell_type": "code",
      "metadata": {
        "id": "TpS_YMdnPyk_",
        "outputId": "f81de4d6-4799-4b97-be9b-a498becec5ef",
        "colab": {
          "base_uri": "https://localhost:8080/",
          "height": 187
        }
      },
      "source": [
        "for row in alignment_table:\n",
        "  print(row)"
      ],
      "execution_count": null,
      "outputs": [
        {
          "output_type": "stream",
          "text": [
            "[0, -1, -2, -3, -4, -5, -6, -7]\n",
            "[-1, 0, 0, 0, 0, 0, 0, 0]\n",
            "[-2, 0, 0, 0, 0, 0, 0, 0]\n",
            "[-3, 0, 0, 0, 0, 0, 0, 0]\n",
            "[-4, 0, 0, 0, 0, 0, 0, 0]\n",
            "[-5, 0, 0, 0, 0, 0, 0, 0]\n",
            "[-6, 0, 0, 0, 0, 0, 0, 0]\n",
            "[-7, 0, 0, 0, 0, 0, 0, 0]\n",
            "[-8, 0, 0, 0, 0, 0, 0, 0]\n",
            "[-9, 0, 0, 0, 0, 0, 0, 0]\n"
          ],
          "name": "stdout"
        }
      ]
    }
  ]
}