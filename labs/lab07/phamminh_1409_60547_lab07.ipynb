{
  "nbformat": 4,
  "nbformat_minor": 0,
  "metadata": {
    "colab": {
      "name": "lab07.ipynb",
      "provenance": []
    },
    "kernelspec": {
      "name": "python3",
      "display_name": "Python 3"
    }
  },
  "cells": [
    {
      "cell_type": "code",
      "metadata": {
        "id": "Llr1dM5mZb4C",
        "colab_type": "code",
        "colab": {}
      },
      "source": [
        "#Q1 (5 points) Given the following table/matrix, write a python code to store the table into python variable. (hint: saving rows in a list, each row can also be a list. In other words, each element in a list is also a list type).                                                                                                                                                                                                                                                     \n",
        "\n",
        "#1\t1\t1\n",
        "#2\t2\t2\n",
        "#3\t3\t3\n",
        "\n",
        "\n",
        "Matrix= [[1,1,1],[2,2,2],[3,3,3]]\n",
        "\n",
        "\n"
      ],
      "execution_count": 246,
      "outputs": []
    },
    {
      "cell_type": "code",
      "metadata": {
        "id": "r6ubln_ncvN5",
        "colab_type": "code",
        "colab": {
          "base_uri": "https://localhost:8080/",
          "height": 170
        },
        "outputId": "ddb66e7a-31bb-4d11-990c-adf734e3c828"
      },
      "source": [
        "# Q2. (5 points)  Write for loop to print out the variable created in question 1. An example output is attached below:\n",
        "j = 0\n",
        "for i in Matrix:\n",
        "  print('Row',j,':',i )\n",
        "  j += 1\n",
        "\n",
        "# Another way:  \n",
        "for i in Matrix:\n",
        " for it in i:\n",
        "   print (it, end=' ')\n",
        " print('')\n",
        " \n",
        " # Another way\n",
        "for i in Matrix:\n",
        "  print (\" \".join(\"{0}\".format(n) for n in i) )  "
      ],
      "execution_count": 247,
      "outputs": [
        {
          "output_type": "stream",
          "text": [
            "Row 0 : [1, 1, 1]\n",
            "Row 1 : [2, 2, 2]\n",
            "Row 2 : [3, 3, 3]\n",
            "1 1 1 \n",
            "2 2 2 \n",
            "3 3 3 \n",
            "1 1 1\n",
            "2 2 2\n",
            "3 3 3\n"
          ],
          "name": "stdout"
        }
      ]
    },
    {
      "cell_type": "code",
      "metadata": {
        "id": "gmAliKjhx4tt",
        "colab_type": "code",
        "colab": {
          "base_uri": "https://localhost:8080/",
          "height": 85
        },
        "outputId": "5106e1aa-7557-48ab-e7ca-13d31154752f"
      },
      "source": [
        "# Q3. (5 points)  Given the variable created in question 1, write python codes to change its first row to [-1, -1, -1]. An example output is attached below:\n",
        "j=0\n",
        "print ( 'Updated table')\n",
        "\n",
        "for i in range(0,2):\n",
        "  if i == 0:\n",
        "    t=-1\n",
        "    Matrix[i] = [t,t,t]\n",
        "    y = Matrix\n",
        "\n",
        "for i in y:  \n",
        "  print('Row',j,':',i )\n",
        "  j += 1    \n",
        "  \n",
        "# Note: This might not have been a good apppraoch Matrix[i] = [t,t,t] "
      ],
      "execution_count": 248,
      "outputs": [
        {
          "output_type": "stream",
          "text": [
            "Updated table\n",
            "Row 0 : [-1, -1, -1]\n",
            "Row 1 : [2, 2, 2]\n",
            "Row 2 : [3, 3, 3]\n"
          ],
          "name": "stdout"
        }
      ]
    },
    {
      "cell_type": "code",
      "metadata": {
        "id": "Uh_cnGNedbnF",
        "colab_type": "code",
        "colab": {
          "base_uri": "https://localhost:8080/",
          "height": 85
        },
        "outputId": "3a314a06-5da6-45e8-fa37-db150155ad02"
      },
      "source": [
        "# Q3 One way:\n",
        "\n",
        "j=0\n",
        "print ( 'Updated table')\n",
        "Matrix[0] = [-1,-1,-1]\n",
        "for i in Matrix:\n",
        "  print('Row',j,':',i )\n",
        "  j += 1    \n"
      ],
      "execution_count": 249,
      "outputs": [
        {
          "output_type": "stream",
          "text": [
            "Updated table\n",
            "Row 0 : [-1, -1, -1]\n",
            "Row 1 : [2, 2, 2]\n",
            "Row 2 : [3, 3, 3]\n"
          ],
          "name": "stdout"
        }
      ]
    },
    {
      "cell_type": "code",
      "metadata": {
        "id": "Lwvddl0rdDse",
        "colab_type": "code",
        "colab": {
          "base_uri": "https://localhost:8080/",
          "height": 85
        },
        "outputId": "0790a3b6-acdc-4619-fab1-0621b99c48e1"
      },
      "source": [
        "# Q3 Scrap:\n",
        "\n",
        "j=0\n",
        "print ( 'Updated table')\n",
        "for i in Matrix:\n",
        "  Matrix[0] = [-1,-1,-1]\n",
        "  print('Row',j,':',i )\n",
        "  j += 1    \n",
        "\n",
        "#Note: Have to run this code 2 times to make it work!?\n",
        "  "
      ],
      "execution_count": 251,
      "outputs": [
        {
          "output_type": "stream",
          "text": [
            "Updated table\n",
            "Row 0 : [-1, -1, -1]\n",
            "Row 1 : [2, 2, 2]\n",
            "Row 2 : [3, 3, 3]\n"
          ],
          "name": "stdout"
        }
      ]
    },
    {
      "cell_type": "code",
      "metadata": {
        "id": "4fFMsU0aelNr",
        "colab_type": "code",
        "colab": {
          "base_uri": "https://localhost:8080/",
          "height": 85
        },
        "outputId": "a28f5335-2f0e-4bd7-9c24-7ce0479f2688"
      },
      "source": [
        "# Q4. (5 points)  Given the variable created in question 3, write python codes to change its first column to [-1, -1, -1]. An example output is attached below:\n",
        "\n",
        "z=0\n",
        "print ( 'Updated table')\n",
        "for j in Matrix:\n",
        "  for i in range(0,2):\n",
        "    if i == 0:\n",
        "      t=-1\n",
        "      Matrix[i] = [t,t,t]\n",
        "      j[i] = -1\n",
        "      y = Matrix\n",
        "\n",
        "for i in y:  \n",
        "  print('Row',z,':',i )\n",
        "  z += 1    \n"
      ],
      "execution_count": 252,
      "outputs": [
        {
          "output_type": "stream",
          "text": [
            "Updated table\n",
            "Row 0 : [-1, -1, -1]\n",
            "Row 1 : [-1, 2, 2]\n",
            "Row 2 : [-1, 3, 3]\n"
          ],
          "name": "stdout"
        }
      ]
    },
    {
      "cell_type": "code",
      "metadata": {
        "id": "0yZ757aHfVMz",
        "colab_type": "code",
        "colab": {
          "base_uri": "https://localhost:8080/",
          "height": 187
        },
        "outputId": "3d18f166-0e8b-4e56-a1e6-a2d9aa10c0a2"
      },
      "source": [
        "# Q5. (5 points)  Suppose we would like to create an alignment table with 10 rows and 5 columns, write python codes to create an alignment table with all values equal to 0. An example output is attached below:\n",
        "\n",
        "z=0\n",
        "j=[]\n",
        "for a in range(0,5):\n",
        "  b =0\n",
        "  j.append(b)\n",
        "for i in range(0,10):\n",
        "  print('Row',z,':',j )\n",
        "  z += 1   \n",
        "\n",
        "# No example output was attached on the file"
      ],
      "execution_count": 253,
      "outputs": [
        {
          "output_type": "stream",
          "text": [
            "Row 0 : [0, 0, 0, 0, 0]\n",
            "Row 1 : [0, 0, 0, 0, 0]\n",
            "Row 2 : [0, 0, 0, 0, 0]\n",
            "Row 3 : [0, 0, 0, 0, 0]\n",
            "Row 4 : [0, 0, 0, 0, 0]\n",
            "Row 5 : [0, 0, 0, 0, 0]\n",
            "Row 6 : [0, 0, 0, 0, 0]\n",
            "Row 7 : [0, 0, 0, 0, 0]\n",
            "Row 8 : [0, 0, 0, 0, 0]\n",
            "Row 9 : [0, 0, 0, 0, 0]\n"
          ],
          "name": "stdout"
        }
      ]
    },
    {
      "cell_type": "code",
      "metadata": {
        "id": "HjBIYA7jhEH7",
        "colab_type": "code",
        "colab": {
          "base_uri": "https://localhost:8080/",
          "height": 34
        },
        "outputId": "374bb607-9bc6-4fa2-e417-a5dc76800ecd"
      },
      "source": [
        "# Q6.  (5 points)  Given what you have done in question 5, now suppose we have two sequences (X and Y). The length of X is M, and the length of Y is N. We would like to create an alignment table with M+1 rows and N+1 columns, write a python function to create an alignment table with all values equal to 0. An example code is attached below:\n",
        "\n",
        "############################################################################ \n",
        "# Implementation of initial alignment table for Pairwise Alignment algorithm \n",
        "############################################################################ \n",
        "\n",
        "# Using the example sequence \n",
        "\n",
        "X = 'AATTATATT'\n",
        "Y = 'ACGTTAT'\n",
        "print(len(X), len(Y))\n",
        "\n",
        "\n",
        "\n",
        "def alignment_table(sequence1, sequence2):\n",
        "  z=0\n",
        "  j=[]\n",
        "    ## print sequence 1\n",
        "  print('Sequence1:',sequence1,'with length of',len(sequence1))\n",
        "    ## print sequence 2\n",
        "  print('Sequence2:',sequence2,'with length of',len(sequence2))\n",
        "    ## print the initial alignment table with all values equal to 0\n",
        "  print('The initial table with dimension',len(sequence1)+1,'and', len(sequence2)+1,'for the sequence alignment is:')\n",
        "  for a in range(0,len(sequence2)+1):\n",
        "    b =0\n",
        "    j.append(b)\n",
        "  for i in range(0,len(sequence1)+1):\n",
        "    print('Row',z,':',j )\n",
        "    z += 1    "
      ],
      "execution_count": 254,
      "outputs": [
        {
          "output_type": "stream",
          "text": [
            "9 7\n"
          ],
          "name": "stdout"
        }
      ]
    },
    {
      "cell_type": "code",
      "metadata": {
        "id": "yAvtiONNjAFN",
        "colab_type": "code",
        "colab": {
          "base_uri": "https://localhost:8080/",
          "height": 238
        },
        "outputId": "b1f273af-3409-4ab8-90c8-31b5de44ff2e"
      },
      "source": [
        "alignment_table(X,Y)"
      ],
      "execution_count": 255,
      "outputs": [
        {
          "output_type": "stream",
          "text": [
            "Sequence1: AATTATATT with length of 9\n",
            "Sequence2: ACGTTAT with length of 7\n",
            "The initial table with dimension 10 and 8 for the sequence alignment is:\n",
            "Row 0 : [0, 0, 0, 0, 0, 0, 0, 0]\n",
            "Row 1 : [0, 0, 0, 0, 0, 0, 0, 0]\n",
            "Row 2 : [0, 0, 0, 0, 0, 0, 0, 0]\n",
            "Row 3 : [0, 0, 0, 0, 0, 0, 0, 0]\n",
            "Row 4 : [0, 0, 0, 0, 0, 0, 0, 0]\n",
            "Row 5 : [0, 0, 0, 0, 0, 0, 0, 0]\n",
            "Row 6 : [0, 0, 0, 0, 0, 0, 0, 0]\n",
            "Row 7 : [0, 0, 0, 0, 0, 0, 0, 0]\n",
            "Row 8 : [0, 0, 0, 0, 0, 0, 0, 0]\n",
            "Row 9 : [0, 0, 0, 0, 0, 0, 0, 0]\n"
          ],
          "name": "stdout"
        }
      ]
    },
    {
      "cell_type": "code",
      "metadata": {
        "id": "ypXI0LLbjlYk",
        "colab_type": "code",
        "colab": {
          "base_uri": "https://localhost:8080/",
          "height": 187
        },
        "outputId": "61304a3b-f0d9-4d6d-f0f6-c1a051539d7d"
      },
      "source": [
        "# Experiment\n",
        "alignment_table('AATATT', 'ACGAT')"
      ],
      "execution_count": 256,
      "outputs": [
        {
          "output_type": "stream",
          "text": [
            "Sequence1: AATATT with length of 6\n",
            "Sequence2: ACGAT with length of 5\n",
            "The initial table with dimension 7 and 6 for the sequence alignment is:\n",
            "Row 0 : [0, 0, 0, 0, 0, 0]\n",
            "Row 1 : [0, 0, 0, 0, 0, 0]\n",
            "Row 2 : [0, 0, 0, 0, 0, 0]\n",
            "Row 3 : [0, 0, 0, 0, 0, 0]\n",
            "Row 4 : [0, 0, 0, 0, 0, 0]\n",
            "Row 5 : [0, 0, 0, 0, 0, 0]\n",
            "Row 6 : [0, 0, 0, 0, 0, 0]\n"
          ],
          "name": "stdout"
        }
      ]
    },
    {
      "cell_type": "code",
      "metadata": {
        "id": "X-hbTeoXjZrt",
        "colab_type": "code",
        "colab": {}
      },
      "source": [
        "# Q7.  (10 points)  Given what you have done in question 6,  we create the initial alignment table for the two sequences (X and Y). Now we would like to initialize the first row and first column as the following rules,\n",
        "\n",
        "# a. for the first row, filling out each value by the adding value -1 to its left cell's value. For instance, [0,0,0,0] will be [0, -1, -2, -3].\n",
        "\n",
        "# b. for the first column, filling out each value by the adding value -1 to its top cell's value. For instance, [0,0,0,0] will be [0, -1, -2, -3].\n",
        "\n",
        "# write a python function to create an updated alignment table by initializing the first row and the first column. An example code is attached below:\n",
        "\n",
        "def alignment_table_updated(sequence1, sequence2):\n",
        "  z=0\n",
        "  q=[]  \n",
        "  m= range(1,len(sequence1)+1)\n",
        "  n= range(0,len(sequence2)+1)\n",
        "\n",
        "  print('Sequence1:',sequence1,'with length of',len(sequence1)) \n",
        "  print('Sequence2:',sequence2,'with length of',len(sequence2)) \n",
        "  print('The initial table with dimension',len(sequence1)+1,'and', len(sequence2)+1,'for the sequence alignment is:')\n",
        "  for i in range(0,len(sequence1)+1):\n",
        "    q.append([])  \n",
        "  for j in range(0,len(sequence1)+1):\n",
        "    if j == 0:\n",
        "      for a in n:\n",
        "        q[j].append(-a)\n",
        "  for t in m:\n",
        "    q[t].append(-t)\n",
        "  for r in m:\n",
        "    while len(q[r]) < len(sequence2)+1:\n",
        "      q[r].append(0)\n",
        "\n",
        "  for i in range(0,len(sequence1)+1):\n",
        "    print('Row',z,':',q[i] )\n",
        "    z += 1    \n",
        "\n",
        " \n"
      ],
      "execution_count": 262,
      "outputs": []
    },
    {
      "cell_type": "code",
      "metadata": {
        "id": "qvEmVotgwddp",
        "colab_type": "code",
        "colab": {}
      },
      "source": [
        "def alignment_table_updated(sequence1, sequence2):\n",
        "  z=0\n",
        "  q=[]  \n",
        "  m= range(1,len(sequence1)+1)\n",
        "  n= range(0,len(sequence2)+1)\n",
        "\n",
        "  print('Sequence1:',sequence1,'with length of',len(sequence1)) \n",
        "  print('Sequence2:',sequence2,'with length of',len(sequence2)) \n",
        "  print('The initial table with dimension',len(sequence1)+1,'and', len(sequence2)+1,'for the sequence alignment is:')\n",
        "  for i in range (0,len(sequence1)+1):\n",
        "    q.append([])  \n",
        "  for j in range(0,len(sequence1)+1):\n",
        "    if j == 0:\n",
        "      for a in n:\n",
        "        q[j].append(-a)\n",
        "  for t in m:\n",
        "    q[t].append(-t)\n",
        "  for r in m:\n",
        "    while len(q[r]) < len(sequence2)+1:\n",
        "      q[r].append(0)\n",
        "  for i in q:\n",
        "    print (\" \".join(\"{0}\".format(n) for n in i) ) "
      ],
      "execution_count": 261,
      "outputs": []
    },
    {
      "cell_type": "code",
      "metadata": {
        "id": "zMn3Yn6fnl07",
        "colab_type": "code",
        "colab": {
          "base_uri": "https://localhost:8080/",
          "height": 238
        },
        "outputId": "c6b3c7d7-8ca9-4041-e66a-1dae6f3c3877"
      },
      "source": [
        "alignment_table_updated(X,Y)"
      ],
      "execution_count": 263,
      "outputs": [
        {
          "output_type": "stream",
          "text": [
            "Sequence1: AATTATATT with length of 9\n",
            "Sequence2: ACGTTAT with length of 7\n",
            "The initial table with dimension 10 and 8 for the sequence alignment is:\n",
            "Row 0 : [0, -1, -2, -3, -4, -5, -6, -7]\n",
            "Row 1 : [-1, 0, 0, 0, 0, 0, 0, 0]\n",
            "Row 2 : [-2, 0, 0, 0, 0, 0, 0, 0]\n",
            "Row 3 : [-3, 0, 0, 0, 0, 0, 0, 0]\n",
            "Row 4 : [-4, 0, 0, 0, 0, 0, 0, 0]\n",
            "Row 5 : [-5, 0, 0, 0, 0, 0, 0, 0]\n",
            "Row 6 : [-6, 0, 0, 0, 0, 0, 0, 0]\n",
            "Row 7 : [-7, 0, 0, 0, 0, 0, 0, 0]\n",
            "Row 8 : [-8, 0, 0, 0, 0, 0, 0, 0]\n",
            "Row 9 : [-9, 0, 0, 0, 0, 0, 0, 0]\n"
          ],
          "name": "stdout"
        }
      ]
    },
    {
      "cell_type": "code",
      "metadata": {
        "id": "Ip8gbcsJmexi",
        "colab_type": "code",
        "colab": {
          "base_uri": "https://localhost:8080/",
          "height": 34
        },
        "outputId": "4116ac0f-ddd8-4e3c-e3ab-e5ba98c6e697"
      },
      "source": [
        "# Q7 Scrap: \n",
        " t=-1\n",
        "      Matrix[i] = [t,t,t]\n",
        "\n",
        "\n",
        "q=[]\n",
        "for i in range (0,len(X)+1):\n",
        "  q.append([]) \n",
        "\n",
        "print(q)"
      ],
      "execution_count": 113,
      "outputs": [
        {
          "output_type": "stream",
          "text": [
            "[[], [], [], [], [], [], [], [], [], []]\n"
          ],
          "name": "stdout"
        }
      ]
    }
  ]
}