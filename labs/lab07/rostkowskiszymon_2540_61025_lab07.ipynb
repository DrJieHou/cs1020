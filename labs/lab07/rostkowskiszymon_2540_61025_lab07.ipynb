{
  "nbformat": 4,
  "nbformat_minor": 0,
  "metadata": {
    "colab": {
      "name": "lab07.ipynb",
      "provenance": []
    },
    "kernelspec": {
      "name": "python3",
      "display_name": "Python 3"
    }
  },
  "cells": [
    {
      "cell_type": "code",
      "metadata": {
        "id": "eFNgKoKrtzAt"
      },
      "source": [
        "#1.(5 points) Given the following table/matrix, write a python code to store the table into python variable.\n",
        "# (hint: saving rows in a list, each row can also be a list. In other words, each element in a list is also a list type). "
      ],
      "execution_count": null,
      "outputs": []
    },
    {
      "cell_type": "code",
      "metadata": {
        "id": "RZ2FcgdMty7H",
        "outputId": "382a5e71-715f-498f-8b40-13cb15b4533f",
        "colab": {
          "base_uri": "https://localhost:8080/",
          "height": 34
        }
      },
      "source": [
        "row1 = [1,1,1]\n",
        "row2 = [2,2,2]\n",
        "row3 = [3,3,3]\n",
        "list_of_rows = [row1,row2,row3]\n"
      ],
      "execution_count": null,
      "outputs": [
        {
          "output_type": "stream",
          "text": [
            "[[1, 1, 1], [2, 2, 2], [3, 3, 3]]\n"
          ],
          "name": "stdout"
        }
      ]
    },
    {
      "cell_type": "code",
      "metadata": {
        "id": "NSQ2y9Cgty39"
      },
      "source": [
        "#2. (5 points)  Write for loop to print out the variable created in question 1. An example output is attached below:"
      ],
      "execution_count": null,
      "outputs": []
    },
    {
      "cell_type": "code",
      "metadata": {
        "id": "8yyIDhd7tyxk",
        "outputId": "558b54c8-b6d8-4bef-cedd-4ff53a4bc656",
        "colab": {
          "base_uri": "https://localhost:8080/",
          "height": 67
        }
      },
      "source": [
        "for element in list_of_rows:\n",
        "  print(element)"
      ],
      "execution_count": null,
      "outputs": [
        {
          "output_type": "stream",
          "text": [
            "[1, 1, 1]\n",
            "[2, 2, 2]\n",
            "[3, 3, 3]\n"
          ],
          "name": "stdout"
        }
      ]
    },
    {
      "cell_type": "code",
      "metadata": {
        "id": "IyFPjMawuw56"
      },
      "source": [
        "#3. (5 points)  Given the variable created in question 1, write python codes to change its first row to [-1, -1, -1]. An example output is attached below:"
      ],
      "execution_count": null,
      "outputs": []
    },
    {
      "cell_type": "code",
      "metadata": {
        "id": "fFftMc1rtyl4",
        "outputId": "fa2f8ba4-e7d8-4049-8f6d-c8d8a0e004a4",
        "colab": {
          "base_uri": "https://localhost:8080/",
          "height": 67
        }
      },
      "source": [
        "for element in row1:\n",
        " if number < len(row1):\n",
        "   row1[number] = -1\n",
        "   number = number + 1\n",
        "\n",
        "for element in list_of_rows:\n",
        "  print(element)\n",
        "\n",
        " \n"
      ],
      "execution_count": null,
      "outputs": [
        {
          "output_type": "stream",
          "text": [
            "[-1, -1, -1]\n",
            "[2, 2, 2]\n",
            "[3, 3, 3]\n"
          ],
          "name": "stdout"
        }
      ]
    },
    {
      "cell_type": "code",
      "metadata": {
        "id": "CcdYMfYA3IuC"
      },
      "source": [
        "#5. (5 points)  Suppose we would like to create an alignment table with 10 rows and 5 columns, write python codes to create an alignment table with all values equal to 0. "
      ],
      "execution_count": null,
      "outputs": []
    },
    {
      "cell_type": "code",
      "metadata": {
        "id": "mEbc28ga3oVa",
        "outputId": "8a4ed768-8f77-4632-9dc0-d252e5efdb08",
        "colab": {
          "base_uri": "https://localhost:8080/",
          "height": 185
        }
      },
      "source": [
        "row5 = [0,0,0,0,0]\n",
        "\n",
        "number = 0\n",
        "while number != 10:\n",
        " print('Row',number, ':', row5)\n",
        " number = number + 1"
      ],
      "execution_count": 1,
      "outputs": [
        {
          "output_type": "stream",
          "text": [
            "Row 0 : [0, 0, 0, 0, 0]\n",
            "Row 1 : [0, 0, 0, 0, 0]\n",
            "Row 2 : [0, 0, 0, 0, 0]\n",
            "Row 3 : [0, 0, 0, 0, 0]\n",
            "Row 4 : [0, 0, 0, 0, 0]\n",
            "Row 5 : [0, 0, 0, 0, 0]\n",
            "Row 6 : [0, 0, 0, 0, 0]\n",
            "Row 7 : [0, 0, 0, 0, 0]\n",
            "Row 8 : [0, 0, 0, 0, 0]\n",
            "Row 9 : [0, 0, 0, 0, 0]\n"
          ],
          "name": "stdout"
        }
      ]
    },
    {
      "cell_type": "code",
      "metadata": {
        "id": "xevQdHCZ3TRy"
      },
      "source": [
        "# 6.  (5 points)  Given what you have done in question 5, now suppose we have two sequences (X and Y). The length of X is M, and the length of Y is N. We would like to create an alignment table with M+1 rows and N+1 columns, write a python function to create an alignment table with all values equal to 0. An example code is attached below:"
      ],
      "execution_count": null,
      "outputs": []
    },
    {
      "cell_type": "code",
      "metadata": {
        "id": "MVN5DbJzYQBj"
      },
      "source": [
        "def alignment_table1(sequence1, sequence2):\n",
        " m = len(sequence1)\n",
        " n = len(sequence2)\n",
        " print('Sequence 1:', sequence1, 'has', m, 'characters')\n",
        " print('Sequence 2:', sequence2, 'has', n, 'characters')\n",
        " number = 0\n",
        " number1 = 0\n",
        " row = []\n",
        " while number <= n:\n",
        "   row.append(0)\n",
        "   number = number + 1\n",
        " while number1 <= m:\n",
        "   print(row)\n",
        "   number1 = number1+ 1\n",
        " "
      ],
      "execution_count": 56,
      "outputs": []
    },
    {
      "cell_type": "code",
      "metadata": {
        "id": "_HNgqwVLTZsx",
        "outputId": "35bf4d67-cb7f-4407-ff39-cfcee8cbe9f5",
        "colab": {
          "base_uri": "https://localhost:8080/",
          "height": 134
        }
      },
      "source": [
        "alignment_table1('four', 'four')"
      ],
      "execution_count": 57,
      "outputs": [
        {
          "output_type": "stream",
          "text": [
            "Sequence 1: four has 4 characters\n",
            "Sequence 2: four has 4 characters\n",
            "[0, 0, 0, 0, 0]\n",
            "[0, 0, 0, 0, 0]\n",
            "[0, 0, 0, 0, 0]\n",
            "[0, 0, 0, 0, 0]\n",
            "[0, 0, 0, 0, 0]\n"
          ],
          "name": "stdout"
        }
      ]
    },
    {
      "cell_type": "code",
      "metadata": {
        "id": "CSEedt-EUtJl"
      },
      "source": [
        "#7.  (10 points)  Given what you have done in question 6,  we create the initial alignment table for the two sequences (X and Y). Now we would like to initialize the first row and first column as the following rules,\n",
        "\n",
        "#a. for the first row, filling out each value by the adding value -1 to its left cell's value. For instance, [0,0,0,0] will be [0, -1, -2, -3].\n",
        "\n",
        "#b. for the first column, filling out each value by the adding value -1 to its top cell's value. For instance, [0,0,0,0] will be [0, -1, -2, -3].\n",
        "\n",
        "#write a python function to create an updated alignment table by initializing the first row and the first column. An example code is attached below:\n",
        "\n"
      ],
      "execution_count": null,
      "outputs": []
    },
    {
      "cell_type": "code",
      "metadata": {
        "id": "B1OTO_MQU-xC"
      },
      "source": [
        "def alignment_table2(sequence1, sequence2):\n",
        " m = len(sequence1)\n",
        " n = len(sequence2)\n",
        " print('Sequence 1:', sequence1, 'has', m, 'characters')\n",
        " print('Sequence 2:', sequence2, 'has', n, 'characters')\n",
        " row1 =[]\n",
        " rows =[]\n",
        " number = 0\n",
        " number1 = 0\n",
        " number2 = 0\n",
        " subtracting_value1 = 0\n",
        " subtracting_value2 = -1\n",
        " while number <= m:\n",
        "   row1.append(subtracting_value1)\n",
        "   rows.append(0)\n",
        "   subtracting_value1 = subtracting_value1 - 1\n",
        "   number = number +1\n",
        " while number1 != 1:\n",
        "   print(row1)\n",
        "   number1 = number1 + 1\n",
        " while number1 >= 1 and number1 <= n:\n",
        "   rows[0] = subtracting_value2\n",
        "   number1 = number1 + 1\n",
        "   subtracting_value2 =subtracting_value2 - 1\n",
        "   print(rows)"
      ],
      "execution_count": 61,
      "outputs": []
    },
    {
      "cell_type": "code",
      "metadata": {
        "id": "VgKZQGrBbWTU",
        "outputId": "048048f7-e53c-4c37-f839-37297d019164",
        "colab": {
          "base_uri": "https://localhost:8080/",
          "height": 134
        }
      },
      "source": [
        "alignment_table2('four', 'four')"
      ],
      "execution_count": 62,
      "outputs": [
        {
          "output_type": "stream",
          "text": [
            "Sequence 1: four has 4 characters\n",
            "Sequence 2: four has 4 characters\n",
            "[0, -1, -2, -3, -4]\n",
            "[-1, 0, 0, 0, 0]\n",
            "[-2, 0, 0, 0, 0]\n",
            "[-3, 0, 0, 0, 0]\n",
            "[-4, 0, 0, 0, 0]\n"
          ],
          "name": "stdout"
        }
      ]
    }
  ]
}