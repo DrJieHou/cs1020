{
  "nbformat": 4,
  "nbformat_minor": 0,
  "metadata": {
    "colab": {
      "name": "Lab07.ipynb",
      "provenance": []
    },
    "kernelspec": {
      "name": "python3",
      "display_name": "Python 3"
    }
  },
  "cells": [
    {
      "cell_type": "code",
      "metadata": {
        "id": "RcSaFItCWxaC",
        "outputId": "8bd2838a-eb7e-4e89-ed69-21540a22c533",
        "colab": {
          "base_uri": "https://localhost:8080/",
          "height": 68
        }
      },
      "source": [
        "##1.  (5 points) Given the following table/matrix, write a python code to store the table into python variable. (hint: saving rows in a list, each row can also be a list. In other words, each element in a list is also a list type).                                                                                                                                                                                                                                                     \n",
        "\n",
        "matrix = [[1,1,1],[2,2,2],[3,3,3]]\n",
        "for i in matrix: \n",
        "  print(i)\n"
      ],
      "execution_count": null,
      "outputs": [
        {
          "output_type": "stream",
          "text": [
            "[1, 1, 1]\n",
            "[2, 2, 2]\n",
            "[3, 3, 3]\n"
          ],
          "name": "stdout"
        }
      ]
    },
    {
      "cell_type": "code",
      "metadata": {
        "id": "PFOTeHbmXAYC",
        "outputId": "b40952e2-e403-4150-bebb-a5a09d1669fc",
        "colab": {
          "base_uri": "https://localhost:8080/",
          "height": 68
        }
      },
      "source": [
        "#2. (5 points)  Write for loop to print out the variable created in question 1. An example output is attached below:\n",
        "\n",
        "for i in matrix: \n",
        "  print(\"Row:\", i)"
      ],
      "execution_count": null,
      "outputs": [
        {
          "output_type": "stream",
          "text": [
            "Row: [1, 1, 1]\n",
            "Row: [2, 2, 2]\n",
            "Row: [3, 3, 3]\n"
          ],
          "name": "stdout"
        }
      ]
    },
    {
      "cell_type": "code",
      "metadata": {
        "id": "r_TVWcOvcOAb",
        "outputId": "e4c049db-261a-4568-c69d-52c83abed361",
        "colab": {
          "base_uri": "https://localhost:8080/",
          "height": 68
        }
      },
      "source": [
        "#3. (5 points)  Given the variable created in question 1, write python codes to change its first row to [-1, -1, -1]. \n",
        "\n",
        "\n",
        "matrix = [[1,1,1],[2,2,2],[3,3,3]]\n",
        "new_matrix = [[-1 if b == 1 else b for b in i] for i in matrix]\n",
        "for i in new_matrix:\n",
        "  print(\"Row:\", i)"
      ],
      "execution_count": null,
      "outputs": [
        {
          "output_type": "stream",
          "text": [
            "Row: [-1, -1, -1]\n",
            "Row: [2, 2, 2]\n",
            "Row: [3, 3, 3]\n"
          ],
          "name": "stdout"
        }
      ]
    },
    {
      "cell_type": "code",
      "metadata": {
        "id": "d5NMvFJ4cSAP",
        "outputId": "3d1fc8f2-3105-457e-f157-84cbb792b950",
        "colab": {
          "base_uri": "https://localhost:8080/",
          "height": 170
        }
      },
      "source": [
        "#4. (5 points)  Given the variable created in question 3, write python codes to change its first column to [-1, -1, -1]. An example output is attached below:\n",
        "\n",
        "#list_of_lists = [['a', 'b', 'c'], ['d', 'e', 'f'], ['g', 'h', 'i']]\n",
        "#new_values = [1, 2, 3]  \n",
        "\n",
        "#for list in list_of_lists:\n",
        " #   list[0] = new_values.pop(0)\n",
        "\n",
        "matrix = [[1,1,1],[2,2,2],[3,3,3]]\n",
        "new_matrix = [[-1 if b == 1 else b for b in i] for i in matrix]\n",
        "new_values = [-1,-1,-1]  \n",
        "\n",
        "for list in new_matrix: \n",
        "  list[0] = new_values.pop(0)\n",
        "  for i in new_matrix:\n",
        "    print(\"Row:\",i)\n",
        "    \n",
        "\n",
        "\n"
      ],
      "execution_count": null,
      "outputs": [
        {
          "output_type": "stream",
          "text": [
            "Row: [-1, -1, -1]\n",
            "Row: [2, 2, 2]\n",
            "Row: [3, 3, 3]\n",
            "Row: [-1, -1, -1]\n",
            "Row: [-1, 2, 2]\n",
            "Row: [3, 3, 3]\n",
            "Row: [-1, -1, -1]\n",
            "Row: [-1, 2, 2]\n",
            "Row: [-1, 3, 3]\n"
          ],
          "name": "stdout"
        }
      ]
    },
    {
      "cell_type": "code",
      "metadata": {
        "id": "cHahzGPncSC9",
        "outputId": "af7aa1fa-f09b-4e30-f550-07366d4e85bd",
        "colab": {
          "base_uri": "https://localhost:8080/",
          "height": 187
        }
      },
      "source": [
        "#5. (5 points)  Suppose we would like to create an alignment table with 10 rows and 5 columns, write python codes to create an alignment table with all values equal to 0. An example output is attached below\n",
        "\n",
        "#Python program to create a m x n matrix \n",
        "# with all 0s \n",
        "m = 10\n",
        "n = 5\n",
        "  \n",
        "alignment_table_1 = [[0 for x in range(n)] for x in range(m)] \n",
        "for i in alignment_table_1: \n",
        "    print(i)\n",
        "#print(alignment_table_1) "
      ],
      "execution_count": null,
      "outputs": [
        {
          "output_type": "stream",
          "text": [
            "[0, 0, 0, 0, 0]\n",
            "[0, 0, 0, 0, 0]\n",
            "[0, 0, 0, 0, 0]\n",
            "[0, 0, 0, 0, 0]\n",
            "[0, 0, 0, 0, 0]\n",
            "[0, 0, 0, 0, 0]\n",
            "[0, 0, 0, 0, 0]\n",
            "[0, 0, 0, 0, 0]\n",
            "[0, 0, 0, 0, 0]\n",
            "[0, 0, 0, 0, 0]\n"
          ],
          "name": "stdout"
        }
      ]
    },
    {
      "cell_type": "code",
      "metadata": {
        "id": "_Tsn6r5HzRTc"
      },
      "source": [
        "##6.  (5 points)  Given what you have done in question 5, now suppose we have two sequences (X and Y).\n",
        "# The length of X is M, and the length of Y is N. We would like to create an alignment table with M+1 rows and N+1 columns, write a python function to create an alignment table with all values equal to 0. \n",
        "#An example code is attached below:\n",
        "\n",
        "############################################################################ \n",
        "# Implementation of initial alignment table for Pairwise Alignment algorithm \n",
        "############################################################################ \n",
        "def initial_alignment(sequence1,sequence2): \n",
        "  #sequence1 = 'AATTATATT'\n",
        "  #sequence2 = 'ACGTTAT'\n",
        "  x = len(sequence1)\n",
        "  y = len(sequence2)\n",
        "  #def alignment_table(sequence1, sequence2):\n",
        "  #print(\"sequence1:\" + sequence1 + \"with\" + x)\n",
        "  #print(\"sequence2:\" + sequence2 + \"with\" + y)\n",
        "  m = x + 1\n",
        "  n = y + 1\n",
        "  alignment_table = [[0 for x in range(n)] for x in range(m)] \n",
        "  #print(alignment_table)\n",
        "  for i in alignment_table: \n",
        "    print(i)\n",
        "\n",
        "      ## print sequence 1\n",
        "\n",
        "      ## print sequence 2\n",
        "\n",
        "      ## print the initial alignment table with all values equal to 0\n"
      ],
      "execution_count": null,
      "outputs": []
    },
    {
      "cell_type": "code",
      "metadata": {
        "id": "4eqniQhZziE-",
        "outputId": "b2ef1ea8-8335-43d6-f11d-ee8778e5ad6b",
        "colab": {
          "base_uri": "https://localhost:8080/",
          "height": 187
        }
      },
      "source": [
        "sequence1 = 'AATTATATT'\n",
        "sequence2 = 'ACGTTAT'\n",
        "initial_alignment(sequence1, sequence2)\n"
      ],
      "execution_count": null,
      "outputs": [
        {
          "output_type": "stream",
          "text": [
            "[0, 0, 0, 0, 0, 0, 0, 0]\n",
            "[0, 0, 0, 0, 0, 0, 0, 0]\n",
            "[0, 0, 0, 0, 0, 0, 0, 0]\n",
            "[0, 0, 0, 0, 0, 0, 0, 0]\n",
            "[0, 0, 0, 0, 0, 0, 0, 0]\n",
            "[0, 0, 0, 0, 0, 0, 0, 0]\n",
            "[0, 0, 0, 0, 0, 0, 0, 0]\n",
            "[0, 0, 0, 0, 0, 0, 0, 0]\n",
            "[0, 0, 0, 0, 0, 0, 0, 0]\n",
            "[0, 0, 0, 0, 0, 0, 0, 0]\n"
          ],
          "name": "stdout"
        }
      ]
    },
    {
      "cell_type": "code",
      "metadata": {
        "id": "MkxyDuVEcOFL"
      },
      "source": [
        "#7.  (10 points)  Given what you have done in question 6,  we create the initial alignment table for the two sequences (X and Y). Now we would like to initialize the first row and first column as the following rules,\n",
        "\n",
        "#a. for the first row, filling out each value by the adding value -1 to its left cell's value. For instance, [0,0,0,0] will be [0, -1, -2, -3].\n",
        "\n",
        "#b. for the first column, filling out each value by the adding value -1 to its top cell's value. For instance, [0,0,0,0] will be [0, -1, -2, -3].\n",
        "\n",
        "#write a python function to create an updated alignment table by initializing the first row and the first column. An example code is attached below:\n",
        "def alignment_table_updated2(sequence1, sequence2):\n",
        "  x = 0 \n",
        "  y = []\n",
        "\n",
        "  print('Sequence1:', sequence1, len(sequence1))\n",
        "  print('Sequence2:',sequence2, len(sequence2))\n",
        "  print ('The table is:')\n",
        "  for i in range (0,len(sequence1)+1):\n",
        "    y.append([])\n",
        "\n",
        "\n",
        "  for z in range (0,len(sequence1)+1):\n",
        "    if z == 0: \n",
        "      for a in range(0,len(sequence2)+1):\n",
        "        y[z].append(-a)\n",
        "  for k in range(1,len(sequence1)+1):\n",
        "    y[k].append(-k)\n",
        "  for s in range(1,len(sequence1)+1):\n",
        "    while len(y[s]) <= len(sequence2)+1:\n",
        "      y[s].append(0)\n",
        "\n",
        "  for i in range(0,len(sequence1)+1):\n",
        "    print(x,y[i])\n",
        "    \n",
        "   "
      ],
      "execution_count": 32,
      "outputs": []
    },
    {
      "cell_type": "code",
      "metadata": {
        "id": "maAnwcvomKEX",
        "outputId": "c30b6288-1432-43ac-b588-6511f8389d1f",
        "colab": {
          "base_uri": "https://localhost:8080/",
          "height": 238
        }
      },
      "source": [
        "sequence1 = 'AATTATATT'\n",
        "sequence2 = 'ACGTTAT'\n",
        "(alignment_table_updated2(sequence1,sequence2))"
      ],
      "execution_count": 33,
      "outputs": [
        {
          "output_type": "stream",
          "text": [
            "Sequence1: AATTATATT 9\n",
            "Sequence2: ACGTTAT 7\n",
            "The table is:\n",
            "0 [0, -1, -2, -3, -4, -5, -6, -7]\n",
            "0 [-1, 0, 0, 0, 0, 0, 0, 0, 0]\n",
            "0 [-2, 0, 0, 0, 0, 0, 0, 0, 0]\n",
            "0 [-3, 0, 0, 0, 0, 0, 0, 0, 0]\n",
            "0 [-4, 0, 0, 0, 0, 0, 0, 0, 0]\n",
            "0 [-5, 0, 0, 0, 0, 0, 0, 0, 0]\n",
            "0 [-6, 0, 0, 0, 0, 0, 0, 0, 0]\n",
            "0 [-7, 0, 0, 0, 0, 0, 0, 0, 0]\n",
            "0 [-8, 0, 0, 0, 0, 0, 0, 0, 0]\n",
            "0 [-9, 0, 0, 0, 0, 0, 0, 0, 0]\n"
          ],
          "name": "stdout"
        }
      ]
    },
    {
      "cell_type": "code",
      "metadata": {
        "id": "IxnBS1CFmKGu"
      },
      "source": [
        ""
      ],
      "execution_count": null,
      "outputs": []
    },
    {
      "cell_type": "code",
      "metadata": {
        "id": "aHJOput-mKJl"
      },
      "source": [
        ""
      ],
      "execution_count": null,
      "outputs": []
    },
    {
      "cell_type": "code",
      "metadata": {
        "id": "GLjMJ4nimKMM"
      },
      "source": [
        ""
      ],
      "execution_count": null,
      "outputs": []
    },
    {
      "cell_type": "code",
      "metadata": {
        "id": "CXpC6lYnmKO3"
      },
      "source": [
        ""
      ],
      "execution_count": null,
      "outputs": []
    },
    {
      "cell_type": "code",
      "metadata": {
        "id": "IJSd7vSjmKR4"
      },
      "source": [
        ""
      ],
      "execution_count": null,
      "outputs": []
    },
    {
      "cell_type": "code",
      "metadata": {
        "id": "MFE5Wg1bmKUX"
      },
      "source": [
        "def replace(m, n, r, c):\n",
        "    i = 0\n",
        "    if len(n) + c > len(m[r]):\n",
        "        return\n",
        "    for each in n:\n",
        "        m[r][c] = n[i]\n",
        "        c += 1\n",
        "        i += 1"
      ],
      "execution_count": null,
      "outputs": []
    }
  ]
}