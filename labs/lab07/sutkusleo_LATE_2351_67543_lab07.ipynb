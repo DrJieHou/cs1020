{
  "nbformat": 4,
  "nbformat_minor": 0,
  "metadata": {
    "colab": {
      "name": "lab07.ipynb",
      "provenance": []
    },
    "kernelspec": {
      "name": "python3",
      "display_name": "Python 3"
    }
  },
  "cells": [
    {
      "cell_type": "code",
      "metadata": {
        "id": "WRA2wJW_W1Oh",
        "colab_type": "code",
        "colab": {}
      },
      "source": [
        "# Q1: Given the following table/matrix, write a python code to store the table into python variable. (hint: saving rows in a list, each row can also be a list. In other words, each element in a list is also a list type)."
      ],
      "execution_count": null,
      "outputs": []
    },
    {
      "cell_type": "code",
      "metadata": {
        "id": "vW4fE83LYY6Z",
        "colab_type": "code",
        "colab": {}
      },
      "source": [
        "matrix = [[1, 1, 1], [2, 2, 2], [3, 3, 3]]"
      ],
      "execution_count": 4,
      "outputs": []
    },
    {
      "cell_type": "code",
      "metadata": {
        "id": "CgnYCa4L4jV5",
        "colab_type": "code",
        "colab": {
          "base_uri": "https://localhost:8080/",
          "height": 34
        },
        "outputId": "7d047839-5ce5-48a7-ac47-d50704ada7bd"
      },
      "source": [
        "print(matrix)"
      ],
      "execution_count": 5,
      "outputs": [
        {
          "output_type": "stream",
          "text": [
            "[[1, 1, 1], [2, 2, 2], [3, 3, 3]]\n"
          ],
          "name": "stdout"
        }
      ]
    },
    {
      "cell_type": "code",
      "metadata": {
        "id": "qPGIEUxI4MxD",
        "colab_type": "code",
        "colab": {}
      },
      "source": [
        "# Q2: Write for loop to print out the variable created in question 1. An example output is attached below:"
      ],
      "execution_count": null,
      "outputs": []
    },
    {
      "cell_type": "code",
      "metadata": {
        "id": "U4Odlk7XZTYt",
        "colab_type": "code",
        "colab": {
          "base_uri": "https://localhost:8080/",
          "height": 68
        },
        "outputId": "c0ddc541-9872-478a-fdac-931f682572a1"
      },
      "source": [
        "test = [[1, 1, 1], [2, 2, 2], [3, 3, 3]]\n",
        "index = 0\n",
        "for row in test:\n",
        "  print('row', index, ':', row)\n",
        "  index = index + 1"
      ],
      "execution_count": 18,
      "outputs": [
        {
          "output_type": "stream",
          "text": [
            "row 0 : [1, 1, 1]\n",
            "row 1 : [2, 2, 2]\n",
            "row 2 : [3, 3, 3]\n"
          ],
          "name": "stdout"
        }
      ]
    },
    {
      "cell_type": "code",
      "metadata": {
        "id": "F1ALQfzb4PoL",
        "colab_type": "code",
        "colab": {}
      },
      "source": [
        "# Q3: Given the variable created in question 1, write python codes to change its first row to [-1, -1, -1]. An example output is attached below:"
      ],
      "execution_count": null,
      "outputs": []
    },
    {
      "cell_type": "code",
      "metadata": {
        "id": "75-Jq6s-Fqhf",
        "colab_type": "code",
        "colab": {
          "base_uri": "https://localhost:8080/",
          "height": 34
        },
        "outputId": "deeca722-17bd-432b-94f8-f2bb885d639a"
      },
      "source": [
        "test = [[1, 1, 1], [2, 2, 2], [3, 3, 3]]\n",
        "test[0][0] = -1\n",
        "test[0][1] = -1\n",
        "test[0][2] = -1\n",
        "print(test)"
      ],
      "execution_count": 10,
      "outputs": [
        {
          "output_type": "stream",
          "text": [
            "[[-1, -1, -1], [2, 2, 2], [3, 3, 3]]\n"
          ],
          "name": "stdout"
        }
      ]
    },
    {
      "cell_type": "code",
      "metadata": {
        "id": "sEDNNsul0D61",
        "colab_type": "code",
        "colab": {
          "base_uri": "https://localhost:8080/",
          "height": 34
        },
        "outputId": "c2400b55-566c-4083-fe0c-e8a3121589d3"
      },
      "source": [
        "test = [[1, 1, 1], [2, 2, 2], [3, 3, 3]]\n",
        "for pos in range(0, 3):\n",
        "  test[0][pos] = -1\n",
        "\n",
        "print(test)"
      ],
      "execution_count": 11,
      "outputs": [
        {
          "output_type": "stream",
          "text": [
            "[[-1, -1, -1], [2, 2, 2], [3, 3, 3]]\n"
          ],
          "name": "stdout"
        }
      ]
    },
    {
      "cell_type": "code",
      "metadata": {
        "id": "f-OGb8SIIuWQ",
        "colab_type": "code",
        "colab": {}
      },
      "source": [
        " # Q4: Given the variable created in question 3, write python codes to change its first column to [-1, -1, -1]. An example output is attached below:"
      ],
      "execution_count": 1,
      "outputs": []
    },
    {
      "cell_type": "code",
      "metadata": {
        "id": "dMs_ZsAFIwmf",
        "colab_type": "code",
        "colab": {
          "base_uri": "https://localhost:8080/",
          "height": 68
        },
        "outputId": "d0771af8-4884-4e77-bd0b-9c7235eb6b58"
      },
      "source": [
        "test = [[1, 1, 1], [2, 2, 2], [3, 3, 3]]\n",
        "test[0][0] = -1\n",
        "test[0][1] = -1\n",
        "test[0][2] = -1\n",
        "test[1][0] = -1\n",
        "test[2][0] = -1\n",
        "index = 0\n",
        "for row in test:\n",
        "  print('row', index, ':', row)\n",
        "  for pos in range(0, 3):\n",
        "    pos = -1\n",
        "  index = index + 1"
      ],
      "execution_count": 3,
      "outputs": [
        {
          "output_type": "stream",
          "text": [
            "row 0 : [-1, -1, -1]\n",
            "row 1 : [-1, 2, 2]\n",
            "row 2 : [-1, 3, 3]\n"
          ],
          "name": "stdout"
        }
      ]
    },
    {
      "cell_type": "code",
      "metadata": {
        "id": "707SN5Q7m7jZ",
        "colab_type": "code",
        "colab": {}
      },
      "source": [
        "# Q5: Suppose we would like to create an alignment table with 10 rows and 5 columns, write python codes to create an alignment table with all values equal to 0. An example output is attached below"
      ],
      "execution_count": null,
      "outputs": []
    },
    {
      "cell_type": "code",
      "metadata": {
        "id": "8bsSWJQFm_3f",
        "colab_type": "code",
        "colab": {
          "base_uri": "https://localhost:8080/",
          "height": 187
        },
        "outputId": "eb6bfdd5-8979-428d-8836-40220b047365"
      },
      "source": [
        "alighnment_table = [[0, 0, 0, 0, 0], [0, 0, 0, 0, 0], [0, 0, 0, 0, 0], [0, 0, 0, 0, 0], [0, 0, 0, 0, 0], [0, 0, 0, 0, 0], [0, 0, 0, 0, 0], [0, 0, 0, 0, 0], [0, 0, 0, 0, 0], [0, 0, 0, 0, 0]]\n",
        "index = 0 \n",
        "for row in alighnment_table:\n",
        "  print('row', index, ':', row)\n",
        "  index = index + 1"
      ],
      "execution_count": 5,
      "outputs": [
        {
          "output_type": "stream",
          "text": [
            "row 0 : [0, 0, 0, 0, 0]\n",
            "row 1 : [0, 0, 0, 0, 0]\n",
            "row 2 : [0, 0, 0, 0, 0]\n",
            "row 3 : [0, 0, 0, 0, 0]\n",
            "row 4 : [0, 0, 0, 0, 0]\n",
            "row 5 : [0, 0, 0, 0, 0]\n",
            "row 6 : [0, 0, 0, 0, 0]\n",
            "row 7 : [0, 0, 0, 0, 0]\n",
            "row 8 : [0, 0, 0, 0, 0]\n",
            "row 9 : [0, 0, 0, 0, 0]\n"
          ],
          "name": "stdout"
        }
      ]
    },
    {
      "cell_type": "code",
      "metadata": {
        "id": "8IJXcqWn16Ol",
        "colab_type": "code",
        "colab": {}
      },
      "source": [
        "# Q6: Given what you have done in question 5, now suppose we have two sequences (X and Y). The length of X is M, and the length of Y is N. We would like to create an alignment table with M+1 rows and N+1 columns, write a python function to create an alignment table with all values equal to 0. An example code is attached below:"
      ],
      "execution_count": null,
      "outputs": []
    },
    {
      "cell_type": "code",
      "metadata": {
        "id": "aPjup4Q92Seo",
        "colab_type": "code",
        "colab": {}
      },
      "source": [
        "############################################################################ \n",
        "# Implementation of initial alignment table for Pairwise Alignment algorithm \n",
        "############################################################################ \n",
        "\n",
        "def alignment_table(sequence1, sequence2):\n",
        "    ## print sequence 1\n",
        "  sequence1 = 'AATTATATT'\n",
        "  print(sequence1)\n",
        "    ## print sequence 2\n",
        "  sequence2 = 'ACGTTAT'\n",
        "  print(sequence2)\n",
        "    ## print the initial alignment table with all values equal to 0\n"
      ],
      "execution_count": 5,
      "outputs": []
    },
    {
      "cell_type": "code",
      "metadata": {
        "id": "dYoTxW2-DHBd",
        "colab_type": "code",
        "colab": {
          "base_uri": "https://localhost:8080/",
          "height": 221
        },
        "outputId": "88dc8224-1710-427b-fe41-cd8792dde8e1"
      },
      "source": [
        "sequence1 = 'AATTATATT'\n",
        "print(sequence1)\n",
        "sequence2 = 'ACGTTAT'\n",
        "print(sequence2)\n",
        "alighnment_table = [ ]\n",
        "index = 0\n",
        "for row in range(0, 10):\n",
        "  x = [ ]\n",
        "  for column in range (0, 8):\n",
        "    x.append(0)\n",
        "  alighnment_table.append(x) \n",
        "for row in alighnment_table:\n",
        "  print('row', index, ':', row)\n",
        "  index = index + 1"
      ],
      "execution_count": 10,
      "outputs": [
        {
          "output_type": "stream",
          "text": [
            "AATTATATT\n",
            "ACGTTAT\n",
            "row 0 : [0, 0, 0, 0, 0, 0, 0, 0]\n",
            "row 1 : [0, 0, 0, 0, 0, 0, 0, 0]\n",
            "row 2 : [0, 0, 0, 0, 0, 0, 0, 0]\n",
            "row 3 : [0, 0, 0, 0, 0, 0, 0, 0]\n",
            "row 4 : [0, 0, 0, 0, 0, 0, 0, 0]\n",
            "row 5 : [0, 0, 0, 0, 0, 0, 0, 0]\n",
            "row 6 : [0, 0, 0, 0, 0, 0, 0, 0]\n",
            "row 7 : [0, 0, 0, 0, 0, 0, 0, 0]\n",
            "row 8 : [0, 0, 0, 0, 0, 0, 0, 0]\n",
            "row 9 : [0, 0, 0, 0, 0, 0, 0, 0]\n"
          ],
          "name": "stdout"
        }
      ]
    },
    {
      "cell_type": "code",
      "metadata": {
        "id": "72-15rvAEmNX",
        "colab_type": "code",
        "colab": {
          "base_uri": "https://localhost:8080/",
          "height": 238
        },
        "outputId": "6fa289de-ff9a-4ad2-dd47-6c6f4476a869"
      },
      "source": [
        "sequence1 = 'Sequence1: AATTATATT with Length 9'\n",
        "print(sequence1)\n",
        "sequence2 = 'Sequence2: ACGTTAT with Length 7'\n",
        "print(sequence2)\n",
        "test = 'The intial table with dimensions 10 and 8 for the sequence alighnment is:'\n",
        "print(test)\n",
        "alighnment_table = [ ]\n",
        "index = 0\n",
        "for row in range(0, 10):\n",
        "  x = [ ]\n",
        "  for column in range (0, 8):\n",
        "    x.append(0)\n",
        "  alighnment_table.append(x) \n",
        "for row in alighnment_table:\n",
        "  print('row', index, ':', row)\n",
        "  index = index + 1"
      ],
      "execution_count": 28,
      "outputs": [
        {
          "output_type": "stream",
          "text": [
            "Sequence1: AATTATATT with Length 9\n",
            "Sequence2: ACGTTAT with Length 7\n",
            "The intial table with dimensions 10 and 8 for the sequence alighnment is:\n",
            "row 0 : [0, 0, 0, 0, 0, 0, 0, 0]\n",
            "row 1 : [0, 0, 0, 0, 0, 0, 0, 0]\n",
            "row 2 : [0, 0, 0, 0, 0, 0, 0, 0]\n",
            "row 3 : [0, 0, 0, 0, 0, 0, 0, 0]\n",
            "row 4 : [0, 0, 0, 0, 0, 0, 0, 0]\n",
            "row 5 : [0, 0, 0, 0, 0, 0, 0, 0]\n",
            "row 6 : [0, 0, 0, 0, 0, 0, 0, 0]\n",
            "row 7 : [0, 0, 0, 0, 0, 0, 0, 0]\n",
            "row 8 : [0, 0, 0, 0, 0, 0, 0, 0]\n",
            "row 9 : [0, 0, 0, 0, 0, 0, 0, 0]\n"
          ],
          "name": "stdout"
        }
      ]
    },
    {
      "cell_type": "code",
      "metadata": {
        "id": "wayIUuKn4CyI",
        "colab_type": "code",
        "colab": {}
      },
      "source": [
        "# Q7: Given what you have done in question 6,  we create the initial alignment table for the two sequences (X and Y). Now we would like to initialize the first row and first column as the following rules,\n",
        "\n",
        "# a. for the first row, filling out each value by the adding value -1 to its left cell's value. For instance, [0,0,0,0] will be [0, -1, -2, -3].\n",
        "\n",
        "# b. for the first column, filling out each value by the adding value -1 to its top cell's value. For instance, [0,0,0,0] will be [0, -1, -2, -3].\n",
        "\n",
        "# write a python function to create an updated alignment table by initializing the first row and the first column. "
      ],
      "execution_count": null,
      "outputs": []
    },
    {
      "cell_type": "code",
      "metadata": {
        "id": "yKyRNgT8pP5n",
        "colab_type": "code",
        "colab": {
          "base_uri": "https://localhost:8080/",
          "height": 357
        },
        "outputId": "f79ff8f9-c368-491e-e685-14cddadbf66f"
      },
      "source": [
        "alighnment_table = [ ]\n",
        "index = 0\n",
        "for row in range(0, 20):\n",
        "  x = [ ]\n",
        "  for column in range (0, 10):\n",
        "    x.append(0)\n",
        "  alighnment_table.append(x) \n",
        "for row in alighnment_table:\n",
        "  print('row', index, ':', row)\n",
        "  index = index + 1"
      ],
      "execution_count": 18,
      "outputs": [
        {
          "output_type": "stream",
          "text": [
            "row 0 : [0, 0, 0, 0, 0, 0, 0, 0, 0, 0]\n",
            "row 1 : [0, 0, 0, 0, 0, 0, 0, 0, 0, 0]\n",
            "row 2 : [0, 0, 0, 0, 0, 0, 0, 0, 0, 0]\n",
            "row 3 : [0, 0, 0, 0, 0, 0, 0, 0, 0, 0]\n",
            "row 4 : [0, 0, 0, 0, 0, 0, 0, 0, 0, 0]\n",
            "row 5 : [0, 0, 0, 0, 0, 0, 0, 0, 0, 0]\n",
            "row 6 : [0, 0, 0, 0, 0, 0, 0, 0, 0, 0]\n",
            "row 7 : [0, 0, 0, 0, 0, 0, 0, 0, 0, 0]\n",
            "row 8 : [0, 0, 0, 0, 0, 0, 0, 0, 0, 0]\n",
            "row 9 : [0, 0, 0, 0, 0, 0, 0, 0, 0, 0]\n",
            "row 10 : [0, 0, 0, 0, 0, 0, 0, 0, 0, 0]\n",
            "row 11 : [0, 0, 0, 0, 0, 0, 0, 0, 0, 0]\n",
            "row 12 : [0, 0, 0, 0, 0, 0, 0, 0, 0, 0]\n",
            "row 13 : [0, 0, 0, 0, 0, 0, 0, 0, 0, 0]\n",
            "row 14 : [0, 0, 0, 0, 0, 0, 0, 0, 0, 0]\n",
            "row 15 : [0, 0, 0, 0, 0, 0, 0, 0, 0, 0]\n",
            "row 16 : [0, 0, 0, 0, 0, 0, 0, 0, 0, 0]\n",
            "row 17 : [0, 0, 0, 0, 0, 0, 0, 0, 0, 0]\n",
            "row 18 : [0, 0, 0, 0, 0, 0, 0, 0, 0, 0]\n",
            "row 19 : [0, 0, 0, 0, 0, 0, 0, 0, 0, 0]\n"
          ],
          "name": "stdout"
        }
      ]
    },
    {
      "cell_type": "code",
      "metadata": {
        "id": "OGZtOUGLtlBj",
        "colab_type": "code",
        "colab": {
          "base_uri": "https://localhost:8080/",
          "height": 357
        },
        "outputId": "03faecd1-731b-442c-a933-937a9b799168"
      },
      "source": [
        "alighnment_table = [ ]\n",
        "index = 0\n",
        "for row in range(0, 20):\n",
        "  x = [ ]\n",
        "  for column in range (0, 10):\n",
        "    if row == 0:\n",
        "      x.append(-1*column)\n",
        "    else:\n",
        "      if column == 0:\n",
        "        x.append(-1*row)\n",
        "      else:\n",
        "        x.append(0)\n",
        "  alighnment_table.append(x)\n",
        "for row in alighnment_table:\n",
        "  print('row', index, ':', row)\n",
        "  index = index + 1"
      ],
      "execution_count": 24,
      "outputs": [
        {
          "output_type": "stream",
          "text": [
            "row 0 : [0, -1, -2, -3, -4, -5, -6, -7, -8, -9]\n",
            "row 1 : [-1, 0, 0, 0, 0, 0, 0, 0, 0, 0]\n",
            "row 2 : [-2, 0, 0, 0, 0, 0, 0, 0, 0, 0]\n",
            "row 3 : [-3, 0, 0, 0, 0, 0, 0, 0, 0, 0]\n",
            "row 4 : [-4, 0, 0, 0, 0, 0, 0, 0, 0, 0]\n",
            "row 5 : [-5, 0, 0, 0, 0, 0, 0, 0, 0, 0]\n",
            "row 6 : [-6, 0, 0, 0, 0, 0, 0, 0, 0, 0]\n",
            "row 7 : [-7, 0, 0, 0, 0, 0, 0, 0, 0, 0]\n",
            "row 8 : [-8, 0, 0, 0, 0, 0, 0, 0, 0, 0]\n",
            "row 9 : [-9, 0, 0, 0, 0, 0, 0, 0, 0, 0]\n",
            "row 10 : [-10, 0, 0, 0, 0, 0, 0, 0, 0, 0]\n",
            "row 11 : [-11, 0, 0, 0, 0, 0, 0, 0, 0, 0]\n",
            "row 12 : [-12, 0, 0, 0, 0, 0, 0, 0, 0, 0]\n",
            "row 13 : [-13, 0, 0, 0, 0, 0, 0, 0, 0, 0]\n",
            "row 14 : [-14, 0, 0, 0, 0, 0, 0, 0, 0, 0]\n",
            "row 15 : [-15, 0, 0, 0, 0, 0, 0, 0, 0, 0]\n",
            "row 16 : [-16, 0, 0, 0, 0, 0, 0, 0, 0, 0]\n",
            "row 17 : [-17, 0, 0, 0, 0, 0, 0, 0, 0, 0]\n",
            "row 18 : [-18, 0, 0, 0, 0, 0, 0, 0, 0, 0]\n",
            "row 19 : [-19, 0, 0, 0, 0, 0, 0, 0, 0, 0]\n"
          ],
          "name": "stdout"
        }
      ]
    },
    {
      "cell_type": "code",
      "metadata": {
        "id": "Zfe_RSKaxumR",
        "colab_type": "code",
        "colab": {
          "base_uri": "https://localhost:8080/",
          "height": 187
        },
        "outputId": "321cf1b2-b655-447d-b6c9-c795b56dc401"
      },
      "source": [
        "alignment_table = []\n",
        "for row in range(0,10):\n",
        "  row_list = []\n",
        "  for col in range(0,5):\n",
        "    row_list.append(0)\n",
        "  alignment_table.append(row_list)\n",
        "\n",
        "# initialize first column\n",
        "for row in range(1,10):\n",
        "  alignment_table[row][0] = alignment_table[row-1][0] -1\n",
        "# initialize row\n",
        "for col in range(1,5):\n",
        "  alignment_table[0][col] = alignment_table[0][col-1] -1\n",
        "    \n",
        "\n",
        "for row in alignment_table:\n",
        "  print(row)\n"
      ],
      "execution_count": 3,
      "outputs": [
        {
          "output_type": "stream",
          "text": [
            "[0, -1, -2, -3, -4]\n",
            "[-1, 0, 0, 0, 0]\n",
            "[-2, 0, 0, 0, 0]\n",
            "[-3, 0, 0, 0, 0]\n",
            "[-4, 0, 0, 0, 0]\n",
            "[-5, 0, 0, 0, 0]\n",
            "[-6, 0, 0, 0, 0]\n",
            "[-7, 0, 0, 0, 0]\n",
            "[-8, 0, 0, 0, 0]\n",
            "[-9, 0, 0, 0, 0]\n"
          ],
          "name": "stdout"
        }
      ]
    },
    {
      "cell_type": "code",
      "metadata": {
        "id": "ZOiXUddky5Fi",
        "colab_type": "code",
        "colab": {
          "base_uri": "https://localhost:8080/",
          "height": 238
        },
        "outputId": "be5c04ba-3510-4dfd-e833-19771b75d1b2"
      },
      "source": [
        "sequence1 = 'Sequence1: AATTATATT with Length 9'\n",
        "print(sequence1)\n",
        "sequence2 = 'Sequence2: ACGTTAT with Length 7'\n",
        "print(sequence2)\n",
        "test = 'The updated table with dimensions 10 and 8 for the sequence alighnment is:'\n",
        "print(test)\n",
        "alighnment_table = [ ]\n",
        "index = 0\n",
        "for row in range(0, 10):\n",
        "  x = [ ]\n",
        "  for column in range (0, 8):\n",
        "    if row == 0:\n",
        "      x.append(-1*column)\n",
        "    else:\n",
        "      if column == 0:\n",
        "        x.append(-1*row)\n",
        "      else:\n",
        "        x.append(0)\n",
        "  alighnment_table.append(x)\n",
        "for row in alighnment_table:\n",
        "  print('row', index, ':', row)\n",
        "  index = index + 1"
      ],
      "execution_count": 2,
      "outputs": [
        {
          "output_type": "stream",
          "text": [
            "Sequence1: AATTATATT with Length 9\n",
            "Sequence2: ACGTTAT with Length 7\n",
            "The updated table with dimensions 10 and 8 for the sequence alighnment is:\n",
            "row 0 : [0, -1, -2, -3, -4, -5, -6, -7]\n",
            "row 1 : [-1, 0, 0, 0, 0, 0, 0, 0]\n",
            "row 2 : [-2, 0, 0, 0, 0, 0, 0, 0]\n",
            "row 3 : [-3, 0, 0, 0, 0, 0, 0, 0]\n",
            "row 4 : [-4, 0, 0, 0, 0, 0, 0, 0]\n",
            "row 5 : [-5, 0, 0, 0, 0, 0, 0, 0]\n",
            "row 6 : [-6, 0, 0, 0, 0, 0, 0, 0]\n",
            "row 7 : [-7, 0, 0, 0, 0, 0, 0, 0]\n",
            "row 8 : [-8, 0, 0, 0, 0, 0, 0, 0]\n",
            "row 9 : [-9, 0, 0, 0, 0, 0, 0, 0]\n"
          ],
          "name": "stdout"
        }
      ]
    }
  ]
}