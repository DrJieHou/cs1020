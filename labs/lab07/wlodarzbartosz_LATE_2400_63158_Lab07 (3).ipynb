{
  "nbformat": 4,
  "nbformat_minor": 0,
  "metadata": {
    "colab": {
      "name": "Lab07.ipynb",
      "provenance": []
    },
    "kernelspec": {
      "name": "python3",
      "display_name": "Python 3"
    }
  },
  "cells": [
    {
      "cell_type": "code",
      "metadata": {
        "id": "1jEr8Gf1SWHl",
        "outputId": "d7e69e1d-c2f4-474c-8adb-1275b07a3c8f",
        "colab": {
          "base_uri": "https://localhost:8080/",
          "height": 34
        }
      },
      "source": [
        "#Q1 Given the following table/matrix, write a python code to store the table into python variable. (hint: saving rows in a list,\n",
        "#each row can also be a list. In other words, each element in a list is also a list type).      \n",
        "x = [[1, 1, 1],\n",
        "     [2, 2, 2],\n",
        "     [3, 3, 3]]\n",
        "print(x)"
      ],
      "execution_count": 5,
      "outputs": [
        {
          "output_type": "stream",
          "text": [
            "[[1, 1, 1], [2, 2, 2], [3, 3, 3]]\n"
          ],
          "name": "stdout"
        }
      ]
    },
    {
      "cell_type": "code",
      "metadata": {
        "id": "gOraBPzBZtBj",
        "outputId": "fc75c68c-b34f-4c35-e6de-cc87f4b07ce2",
        "colab": {
          "base_uri": "https://localhost:8080/",
          "height": 69
        }
      },
      "source": [
        "#Q2 Write for loop to print out the variable created in question 1. An example output is attached below\n",
        "row = 0\n",
        "for elements in x:\n",
        "  row = row+1\n",
        "  print('Row', row,  ':', elements)\n",
        "\n",
        "  \n"
      ],
      "execution_count": 6,
      "outputs": [
        {
          "output_type": "stream",
          "text": [
            "Row 1 : [1, 1, 1]\n",
            "Row 2 : [2, 2, 2]\n",
            "Row 3 : [3, 3, 3]\n"
          ],
          "name": "stdout"
        }
      ]
    },
    {
      "cell_type": "code",
      "metadata": {
        "id": "Q9QDnoilNjJ2",
        "outputId": "347bec86-30fc-42ae-ddbc-afbf686a2b58",
        "colab": {
          "base_uri": "https://localhost:8080/",
          "height": 34
        }
      },
      "source": [
        "#Q3 Given the variable created in question 1, write python codes to change its first row to [-1, -1, -1]. An example output is attached below:\n",
        "for pos in range(0, 3):\n",
        "  x [0][pos]= -1\n",
        "\n",
        "print(x)"
      ],
      "execution_count": 14,
      "outputs": [
        {
          "output_type": "stream",
          "text": [
            "[[-1, -1, -1], [2, 2, 2], [3, 3, 3]]\n"
          ],
          "name": "stdout"
        }
      ]
    },
    {
      "cell_type": "code",
      "metadata": {
        "id": "4PGBfJb-NpDp",
        "outputId": "df48f2e1-8d63-4f90-9f92-ad9eb32052a0",
        "colab": {
          "base_uri": "https://localhost:8080/",
          "height": 51
        }
      },
      "source": [
        "#Q4 Given the variable created in question 3, write python codes to change its first column to [-1, -1, -1]. An example output is attached below:\n",
        "print(x [0][0], x[1][0], x[2][0])\n",
        "for elements in range(0, 3):\n",
        "  x[elements][0] = -1\n",
        "\n",
        "print(x)"
      ],
      "execution_count": 20,
      "outputs": [
        {
          "output_type": "stream",
          "text": [
            "-1 -1 -1\n",
            "[[-1, -1, -1], [-1, 2, 2], [-1, 3, 3]]\n"
          ],
          "name": "stdout"
        }
      ]
    },
    {
      "cell_type": "code",
      "metadata": {
        "id": "IC8qx51kv1TU",
        "outputId": "79615cd5-47cb-4b5a-cce0-978d538fd946",
        "colab": {
          "base_uri": "https://localhost:8080/",
          "height": 190
        }
      },
      "source": [
        "#Q5 Suppose we would like to create an alignment table with 10 rows and 5 columns, write python codes to create an alignment table with all values equal to 0. An example output is attached below:\n",
        "def zeros(rows, cols):\n",
        "    retval = []\n",
        "    for x in range(rows):\n",
        "        retval.append([])\n",
        "        for y in range(cols):\n",
        "            retval[-1].append(0)\n",
        "    return retval\n",
        "def print_matrix(mat):\n",
        "    for i in range(0, len(mat)):\n",
        "        print(\"[\", end = \"\")\n",
        "        for j in range(0, len(mat[i])):\n",
        "            print(mat[i][j], end = \"\")\n",
        "            if j != len(mat[i]) - 1:\n",
        "                print(\"\\t\", end = \"\")\n",
        "        print(\"]\")\n",
        "print_matrix(zeros(10, 5))"
      ],
      "execution_count": 36,
      "outputs": [
        {
          "output_type": "stream",
          "text": [
            "[0\t0\t0\t0\t0]\n",
            "[0\t0\t0\t0\t0]\n",
            "[0\t0\t0\t0\t0]\n",
            "[0\t0\t0\t0\t0]\n",
            "[0\t0\t0\t0\t0]\n",
            "[0\t0\t0\t0\t0]\n",
            "[0\t0\t0\t0\t0]\n",
            "[0\t0\t0\t0\t0]\n",
            "[0\t0\t0\t0\t0]\n",
            "[0\t0\t0\t0\t0]\n"
          ],
          "name": "stdout"
        }
      ]
    },
    {
      "cell_type": "code",
      "metadata": {
        "id": "vFN0vFRlwn_2",
        "outputId": "1740cb4f-51fc-434c-803f-1339611cb8a4",
        "colab": {
          "base_uri": "https://localhost:8080/",
          "height": 381
        }
      },
      "source": [
        "#Q6 Given what you have done in question 5, now suppose we have two sequences (X and Y). The length of X is M, \n",
        "# and the length of Y is N. We would like to create an alignment table with M+1 rows and N+1 columns,\n",
        "def zeros(rows, cols):\n",
        "    retval = []\n",
        "    for x in range(rows):\n",
        "        retval.append([])\n",
        "        for y in range(cols):\n",
        "            retval[-1].append(0)\n",
        "    return retval\n",
        "def print_matrix(mat):\n",
        "    for i in range(0, len(mat)):\n",
        "        print(\"[\", end = \"\")\n",
        "        for j in range(0, len(mat[i])):\n",
        "            print(mat[i][j], end = \"\")\n",
        "            if j != len(mat[i]) - 1:\n",
        "                print(\"\\t\", end = \"\")\n",
        "        print(\"]\")\n",
        "print_matrix(zeros(10, 5))\n",
        "\n",
        "def needleman_wunsch(seq1, seq2):\n",
        "    print(seq1, len(seq1))\n",
        "    print(seq2, len(seq2))\n",
        "    n = len(seq1)\n",
        "    m = len(seq2)  \n",
        "    \n",
        "    score = zeros(m+1, n+1)\n",
        "    return score\n",
        "print_matrix(needleman_wunsch('ATCGAGT', 'GCAGTAGC'))"
      ],
      "execution_count": 40,
      "outputs": [
        {
          "output_type": "stream",
          "text": [
            "[0\t0\t0\t0\t0]\n",
            "[0\t0\t0\t0\t0]\n",
            "[0\t0\t0\t0\t0]\n",
            "[0\t0\t0\t0\t0]\n",
            "[0\t0\t0\t0\t0]\n",
            "[0\t0\t0\t0\t0]\n",
            "[0\t0\t0\t0\t0]\n",
            "[0\t0\t0\t0\t0]\n",
            "[0\t0\t0\t0\t0]\n",
            "[0\t0\t0\t0\t0]\n",
            "ATCGAGT 7\n",
            "GCAGTAGC 8\n",
            "[0\t0\t0\t0\t0\t0\t0\t0]\n",
            "[0\t0\t0\t0\t0\t0\t0\t0]\n",
            "[0\t0\t0\t0\t0\t0\t0\t0]\n",
            "[0\t0\t0\t0\t0\t0\t0\t0]\n",
            "[0\t0\t0\t0\t0\t0\t0\t0]\n",
            "[0\t0\t0\t0\t0\t0\t0\t0]\n",
            "[0\t0\t0\t0\t0\t0\t0\t0]\n",
            "[0\t0\t0\t0\t0\t0\t0\t0]\n",
            "[0\t0\t0\t0\t0\t0\t0\t0]\n"
          ],
          "name": "stdout"
        }
      ]
    },
    {
      "cell_type": "code",
      "metadata": {
        "id": "TATKicEPDHyO",
        "outputId": "51c3c5a9-235d-49c6-bbb5-53fe611c1bcb",
        "colab": {
          "base_uri": "https://localhost:8080/",
          "height": 207
        }
      },
      "source": [
        "#Q7 Given what you have done in question 6,  we create the initial alignment table for the two sequences (X and Y). Now we would like to initialize the first row and first column as the following rules,\n",
        "#a. for the first row, filling out each value by the adding value -1 to its left cell's value. For instance, [0,0,0,0] will be [0, -1, -2, -3].\n",
        "#b. for the first column, filling out each value by the adding value -1 to its top cell's value. For instance, [0,0,0,0] will be [0, -1, -2, -3].\n",
        "#write a python function to create an updated alignment table by initializing the first row and the first column. An example code is attached below:\n",
        "def needleman_wunsch(seq1, seq2):\n",
        "    print(seq1, len(seq1))\n",
        "    print(seq2, len(seq2))\n",
        "    n = len(seq1)\n",
        "    m = len(seq2)  \n",
        "    \n",
        "    score = zeros(m+1, n+1)\n",
        "  \n",
        "\n",
        "    for i in range(0, m + 1):\n",
        "        score[i][0] = gap_penalty * i\n",
        "    \n",
        "    for j in range(0, n + 1):\n",
        "        score[0][j] = gap_penalty * j\n",
        "   \n",
        "    return score\n",
        "print_matrix(needleman_wunsch('ATCGATCG', 'ATCGAGCT'))"
      ],
      "execution_count": 42,
      "outputs": [
        {
          "output_type": "stream",
          "text": [
            "ATCGATCG 8\n",
            "ATCGAGCT 8\n",
            "[0\t-1\t-2\t-3\t-4\t-5\t-6\t-7\t-8]\n",
            "[-1\t0\t0\t0\t0\t0\t0\t0\t0]\n",
            "[-2\t0\t0\t0\t0\t0\t0\t0\t0]\n",
            "[-3\t0\t0\t0\t0\t0\t0\t0\t0]\n",
            "[-4\t0\t0\t0\t0\t0\t0\t0\t0]\n",
            "[-5\t0\t0\t0\t0\t0\t0\t0\t0]\n",
            "[-6\t0\t0\t0\t0\t0\t0\t0\t0]\n",
            "[-7\t0\t0\t0\t0\t0\t0\t0\t0]\n",
            "[-8\t0\t0\t0\t0\t0\t0\t0\t0]\n"
          ],
          "name": "stdout"
        }
      ]
    }
  ]
}