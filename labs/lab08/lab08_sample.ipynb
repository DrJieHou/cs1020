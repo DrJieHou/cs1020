{
 "cells": [
  {
   "cell_type": "code",
   "execution_count": 2,
   "metadata": {},
   "outputs": [],
   "source": [
    "# Students:  \n",
    "#\n"
   ]
  },
  {
   "cell_type": "code",
   "execution_count": 3,
   "metadata": {},
   "outputs": [
    {
     "name": "stdout",
     "output_type": "stream",
     "text": [
      "(400, 300)\n"
     ]
    }
   ],
   "source": [
    "\n",
    "### Practice plotting tree using turtle (https://docs.python.org/2/library/turtle.html#turtle.write)\n",
    "import sys\n",
    "import subprocess\n",
    "import turtle\n",
    "print(turtle.Screen().screensize())\n",
    "\n",
    "\n",
    "turtle.setup(400,200)\n",
    "turtle.screensize(400,200)\n"
   ]
  },
  {
   "cell_type": "code",
   "execution_count": 22,
   "metadata": {},
   "outputs": [
    {
     "data": {
      "image/png": "[encoded data removed]",
      "text/plain": [
       "<IPython.core.display.Image object>"
      ]
     },
     "execution_count": 22,
     "metadata": {},
     "output_type": "execute_result"
    }
   ],
   "source": [
    "## suppose we have two subtrees with two leaves for each, so the yScale for first and second tree is 10/2*(2) = 10\n",
    "\n",
    "def reset():\n",
    "    \"\"\"Reset the state of the turtle canvas and position.\"\"\"\n",
    "    turtle.clear()\n",
    "    turtle.up()\n",
    "    turtle.goto(-0.5*turtle.window_width(), 0)\n",
    "    turtle.down()\n",
    "    turtle.setheading(0)\n",
    "\n",
    "def savePng_v1(fileprefix):\n",
    "    turtle.getscreen().getcanvas().postscript(file=fileprefix +'.ps')\n",
    "    cmd = 'ps2pdf -dEPSCrop %s.ps %s.pdf' % (fileprefix,fileprefix)\n",
    "    subprocess.run(cmd.split())\n",
    "\n",
    "    cmd = 'sips -s format png %s.pdf --out %s.png'% (fileprefix,fileprefix)\n",
    "    subprocess.run(cmd.split())\n",
    "    \n",
    "\n",
    "def savePng_v2(fileprefix):\n",
    "    turtle.getscreen().getcanvas().postscript(file=fileprefix +'.ps')\n",
    "    cmd = 'convert %s.ps %s.png' % (fileprefix,fileprefix)\n",
    "    subprocess.run(cmd.split())\n",
    "\n",
    "def subtree(turtle,yScale):\n",
    "    \n",
    "    # (step1): Move rightward.\n",
    "    turtle.forward(100)\n",
    "    \n",
    "    # (step2): Draw the appropriate text label for a node.\n",
    "    turtle.write(' N', font=('Arial',10,'bold'))\n",
    "    \n",
    "    # (step3): Turn and move the appropriate amount upward to draw first sub-tree \n",
    "    turtle.right(90)\n",
    "    turtle.forward(-1/2*yScale)\n",
    "    turtle.left(90)\n",
    "\n",
    "    # (step4): Start draw first sub-tree\n",
    "    turtle.forward(100)\n",
    "    turtle.write(' N', font=('Arial',10,'bold'))\n",
    "    turtle.forward(-100)\n",
    "\n",
    "    # (step5): Move the appropriate amount downward to draw second sub-tree \n",
    "    turtle.right(90)\n",
    "    turtle.forward(1*yScale)\n",
    "    turtle.left(90)\n",
    "    \n",
    "    # (step6): Start draw second sub-tree\n",
    "    turtle.forward(100)\n",
    "    turtle.write(' N', font=('Arial',10,'bold'))\n",
    "    turtle.forward(-100)\n",
    "    \n",
    "    # (step7): back to the root of sub-tree\n",
    "    turtle.right(90)\n",
    "    turtle.forward(-1/2*yScale)\n",
    "    turtle.left(90)\n",
    "\n",
    "    turtle.forward(-100)\n",
    "\n",
    "\n",
    "reset()\n",
    "\n",
    "# (step1): Move rightward.\n",
    "turtle.forward(100)\n",
    "\n",
    "# (step2): Draw the appropriate text label for a node.\n",
    "turtle.write(' N', font=('Arial',10,'bold'))\n",
    "\n",
    "# (step3): Turn and move the appropriate amount upward to draw first sub-tree \n",
    "turtle.right(90)\n",
    "turtle.forward(-10)\n",
    "turtle.left(90)\n",
    "\n",
    "# (step4): Start recursive process to draw first sub-tree \n",
    "### plot sub-tree\n",
    "subtree(turtle,10)\n",
    "\n",
    "# (step5): Move the appropriate amount downward to draw second sub-tree \n",
    "turtle.right(90)\n",
    "turtle.forward(20)\n",
    "turtle.left(90)\n",
    "\n",
    "# (step6): Start recursive process to draw second sub-tree \n",
    "### plot sub-tree\n",
    "subtree(turtle,10)\n",
    "\n",
    "\n",
    "# (step7): back to the root of tree\n",
    "\n",
    "turtle.right(90)\n",
    "turtle.forward(-10)\n",
    "turtle.left(90)\n",
    "turtle.forward(-100)\n",
    "\n",
    "### save output\n",
    "savePng_v1('example1')\n",
    "\n",
    "# if not working, try\n",
    "#savePng_v2('example1')\n",
    "from IPython.display import Image\n",
    "Image('example1.png')"
   ]
  },
  {
   "cell_type": "code",
   "execution_count": null,
   "metadata": {},
   "outputs": [],
   "source": []
  },
  {
   "cell_type": "code",
   "execution_count": 23,
   "metadata": {},
   "outputs": [
    {
     "data": {
      "image/png": "[encoded data removed]",
      "text/plain": [
       "<IPython.core.display.Image object>"
      ]
     },
     "execution_count": 23,
     "metadata": {},
     "output_type": "execute_result"
    }
   ],
   "source": [
    "### example 2, same codes, but made slight changes\n",
    "\n",
    "\n",
    "reset()\n",
    "\n",
    "turtle.forward(100)\n",
    "turtle.write(' N', font=('Arial',10,'bold'))\n",
    "\n",
    "turtle.right(90)\n",
    "turtle.forward(-10)\n",
    "turtle.left(90)\n",
    "\n",
    "### plot sub-tree\n",
    "subtree(turtle,10)\n",
    "\n",
    "\n",
    "turtle.right(90)\n",
    "turtle.forward(9) ### changed moving distance here\n",
    "turtle.left(90)\n",
    "\n",
    "\n",
    "### plot sub-tree\n",
    "subtree(turtle,10)\n",
    "\n",
    "\n",
    "\n",
    "turtle.right(90)\n",
    "turtle.forward(1) ### changed moving distance here\n",
    "turtle.left(90)\n",
    "\n",
    "turtle.forward(-100)\n",
    "\n",
    "### save output\n",
    "savePng_v1('example2')\n",
    "\n",
    "# if not working, try\n",
    "#savePng_v2('example2')\n",
    "from IPython.display import Image\n",
    "Image('example2.png')"
   ]
  },
  {
   "cell_type": "code",
   "execution_count": null,
   "metadata": {},
   "outputs": [],
   "source": []
  },
  {
   "cell_type": "code",
   "execution_count": null,
   "metadata": {},
   "outputs": [],
   "source": [
    "#### See any differences? any issues?\n",
    "#### Subtrees overlapped due to the different moving distance of upward or downward directions when plotting subtrees\n",
    "#### Must setup the moving distance for each sub-tree reasonably."
   ]
  },
  {
   "cell_type": "code",
   "execution_count": null,
   "metadata": {},
   "outputs": [],
   "source": [
    "# Warmup table\n",
    "# total upper lower upperY  lowerY\n",
    "#   8     3     5     -25     +15\n",
    "#   8     6     2    \n",
    "#   8     4     4     \n",
    "#   8     7     1      \n",
    "#   7     3     4     \n",
    "#   7     1     6     \n",
    "#   n     a     b    \n"
   ]
  },
  {
   "cell_type": "code",
   "execution_count": null,
   "metadata": {},
   "outputs": [],
   "source": [
    "#### Did you find any patterns from this table?"
   ]
  },
  {
   "cell_type": "code",
   "execution_count": 10,
   "metadata": {},
   "outputs": [],
   "source": []
  },
  {
   "cell_type": "code",
   "execution_count": 15,
   "metadata": {},
   "outputs": [],
   "source": [
    "reset()"
   ]
  }
 ],
 "metadata": {
  "kernelspec": {
   "display_name": "Python 3",
   "language": "python",
   "name": "python3"
  },
  "language_info": {
   "codemirror_mode": {
    "name": "ipython",
    "version": 3
   },
   "file_extension": ".py",
   "mimetype": "text/x-python",
   "name": "python",
   "nbconvert_exporter": "python",
   "pygments_lexer": "ipython3",
   "version": "3.7.4"
  }
 },
 "nbformat": 4,
 "nbformat_minor": 2
}
